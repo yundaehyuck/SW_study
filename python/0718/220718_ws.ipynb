{
  "nbformat": 4,
  "nbformat_minor": 0,
  "metadata": {
    "colab": {
      "name": "220718_ws.ipynb",
      "provenance": [],
      "collapsed_sections": []
    },
    "kernelspec": {
      "name": "python3",
      "display_name": "Python 3"
    },
    "language_info": {
      "name": "python"
    }
  },
  "cells": [
    {
      "cell_type": "markdown",
      "source": [
        "# 1. 문자 print\n",
        "\n",
        "It's SSAFY 8을 출력하는 프로그램"
      ],
      "metadata": {
        "id": "WSUAxEpx257F"
      }
    },
    {
      "cell_type": "code",
      "execution_count": null,
      "metadata": {
        "colab": {
          "base_uri": "https://localhost:8080/"
        },
        "id": "KSwSR05K2aLg",
        "outputId": "3a5295d4-a5ed-4a8d-dba3-8669f367bcda"
      },
      "outputs": [
        {
          "output_type": "stream",
          "name": "stdout",
          "text": [
            "It's SSAFY 8\n"
          ]
        }
      ],
      "source": [
        "print(\"It's SSAFY 8\")"
      ]
    },
    {
      "cell_type": "code",
      "source": [
        "print('It\\'s SSAFY 8')"
      ],
      "metadata": {
        "id": "EqYdcxni3BTK",
        "colab": {
          "base_uri": "https://localhost:8080/"
        },
        "outputId": "8b11faac-cc4c-4e0a-d3c9-8d76dc0e8fe9"
      },
      "execution_count": 1,
      "outputs": [
        {
          "output_type": "stream",
          "name": "stdout",
          "text": [
            "It's SSAFY 8\n"
          ]
        }
      ]
    },
    {
      "cell_type": "markdown",
      "source": [
        "# 2. 숫자 print\n",
        "\n",
        "458345 + 623576을 계산하여 출력하는 프로그램"
      ],
      "metadata": {
        "id": "yRhhoa4A3EqN"
      }
    },
    {
      "cell_type": "code",
      "source": [
        "num1 = 458345\n",
        "\n",
        "num2 = 623576\n",
        "\n",
        "num3 = num1 + num2 #458345+623576을 계산 \n",
        "\n",
        "print(num3) #계산한 값을 출력"
      ],
      "metadata": {
        "colab": {
          "base_uri": "https://localhost:8080/"
        },
        "id": "O5aOP7kp3JPI",
        "outputId": "a4e49d2f-b241-4f87-959e-e01cb2f0e090"
      },
      "execution_count": null,
      "outputs": [
        {
          "output_type": "stream",
          "name": "stdout",
          "text": [
            "1081921\n"
          ]
        }
      ]
    },
    {
      "cell_type": "code",
      "source": [
        ""
      ],
      "metadata": {
        "id": "-dnamRJe3aAz"
      },
      "execution_count": null,
      "outputs": []
    },
    {
      "cell_type": "markdown",
      "source": [
        "# 3. 변수를 사용해서 데이터 출력\n",
        "\n",
        "두 변수 greeting, month를 사용해서 Hello July를 출력하는 프로그램"
      ],
      "metadata": {
        "id": "Fzwae8Md3vRV"
      }
    },
    {
      "cell_type": "code",
      "source": [
        "greeting = 'Hello'\n",
        "\n",
        "month = 'July'\n",
        "\n",
        "print(f\"{greeting} {month}\") #f-string을 이용한 출력"
      ],
      "metadata": {
        "colab": {
          "base_uri": "https://localhost:8080/"
        },
        "id": "AnHpbNbD31h_",
        "outputId": "e77eb1ee-d142-4ed4-cec6-2b84e6e0c158"
      },
      "execution_count": null,
      "outputs": [
        {
          "output_type": "stream",
          "name": "stdout",
          "text": [
            "Hello July\n"
          ]
        }
      ]
    },
    {
      "cell_type": "code",
      "source": [
        ""
      ],
      "metadata": {
        "id": "y5Kefk-b3_Jg"
      },
      "execution_count": null,
      "outputs": []
    },
    {
      "cell_type": "markdown",
      "source": [
        "# 4. 문자형의 입력과 출력\n",
        "\n",
        "입력받은 문자를 출력하는 프로그램을 작성"
      ],
      "metadata": {
        "id": "78TQVMUT4Bbh"
      }
    },
    {
      "cell_type": "code",
      "source": [
        "#hello = input('문자를 입력해주세요:') #input()인자에 문자열을 넣으면? \n",
        "\n",
        "\n",
        "hello = input() #문자를 입력받아 hello에 저장\n",
        "\n",
        "print(hello) #저장한 hello의 값을 출력\n",
        "\n"
      ],
      "metadata": {
        "colab": {
          "base_uri": "https://localhost:8080/"
        },
        "id": "nNVcHvVV4Ekc",
        "outputId": "dcf934ce-e66b-4ee1-f5d1-1a1dfd899c89"
      },
      "execution_count": null,
      "outputs": [
        {
          "output_type": "stream",
          "name": "stdout",
          "text": [
            "Hello! SSAFY 8\n",
            "Hello! SSAFY 8\n"
          ]
        }
      ]
    },
    {
      "cell_type": "code",
      "source": [
        ""
      ],
      "metadata": {
        "id": "1B441oOv4Pka"
      },
      "execution_count": null,
      "outputs": []
    }
  ]
}