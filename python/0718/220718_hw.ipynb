{
  "nbformat": 4,
  "nbformat_minor": 0,
  "metadata": {
    "colab": {
      "name": "220718_hw.ipynb",
      "provenance": [],
      "collapsed_sections": []
    },
    "kernelspec": {
      "name": "python3",
      "display_name": "Python 3"
    },
    "language_info": {
      "name": "python"
    }
  },
  "cells": [
    {
      "cell_type": "markdown",
      "source": [
        "# 1- 1. Python 예약어\n",
        "\n",
        "### python에서 사용할 수 없는 식별자(예약어)를 찾아 작성\n",
        "\n",
        "---\n",
        "\n",
        "답)\n",
        "\n",
        "**'False', 'None', 'True', 'and', 'as', 'assert', 'async', 'await', 'break',\n",
        "'class','continue', 'def', 'del', 'elif', 'else', 'except', 'finally', 'for','from', 'global', 'if', 'import', 'in', 'is', 'lambda', 'nonlocal', 'not',\n",
        "'or', 'pass', 'raise', 'return', 'try', 'while', 'with', 'yield'**\n"
      ],
      "metadata": {
        "id": "k2DZb3WsauTP"
      }
    },
    {
      "cell_type": "code",
      "source": [
        "import keyword\n",
        "\n",
        "print(keyword.kwlist)"
      ],
      "metadata": {
        "colab": {
          "base_uri": "https://localhost:8080/"
        },
        "id": "mXSHm4y0Eo7W",
        "outputId": "146320f3-e44a-4b40-bc79-472ae23b65e0"
      },
      "execution_count": null,
      "outputs": [
        {
          "output_type": "stream",
          "name": "stdout",
          "text": [
            "['False', 'None', 'True', 'and', 'as', 'assert', 'async', 'await', 'break', 'class', 'continue', 'def', 'del', 'elif', 'else', 'except', 'finally', 'for', 'from', 'global', 'if', 'import', 'in', 'is', 'lambda', 'nonlocal', 'not', 'or', 'pass', 'raise', 'return', 'try', 'while', 'with', 'yield']\n"
          ]
        }
      ]
    },
    {
      "cell_type": "code",
      "source": [
        ""
      ],
      "metadata": {
        "id": "8W_nf0MQvzbO"
      },
      "execution_count": null,
      "outputs": []
    },
    {
      "cell_type": "code",
      "source": [
        ""
      ],
      "metadata": {
        "id": "9H6lm8ESa4Ws"
      },
      "execution_count": null,
      "outputs": []
    },
    {
      "cell_type": "markdown",
      "source": [
        "# 1- 2. 실수 비교\n",
        "\n",
        "주어진 두 실수 값을 올바르게 비교하기 위한 코드 작성\n",
        "\n",
        "- num1 = 0.1 * 3\n",
        "- num2 = 0.3"
      ],
      "metadata": {
        "id": "yI5X80HRb38e"
      }
    },
    {
      "cell_type": "markdown",
      "source": [
        "python은 부동소수점 방식을 이용해서 실수(float)를 표현하는 과정에서 나타내고자 하는 값과 오차가 발생  \n",
        "\n",
        "그래서 원하는대로 연산 또는 비교가 되지 않을 때가 있다.\n",
        "\n",
        "이럴 때 발생하는 오차의 크기가 매우 작은 수와 비교해서 그 수보다 작다면 같은 값으로 인정하는 방법으로 수를 비교"
      ],
      "metadata": {
        "id": "uiyYLUnc5ISK"
      }
    },
    {
      "cell_type": "code",
      "source": [
        "num1 = 0.1 * 3\n",
        "\n",
        "num2 = 0.3\n",
        "\n",
        "print(num1,num2)"
      ],
      "metadata": {
        "colab": {
          "base_uri": "https://localhost:8080/"
        },
        "id": "sVElMP7VcCwb",
        "outputId": "33fd2794-1abb-4522-8636-58322a4aa07b"
      },
      "execution_count": null,
      "outputs": [
        {
          "output_type": "stream",
          "name": "stdout",
          "text": [
            "0.30000000000000004 0.3\n"
          ]
        }
      ]
    },
    {
      "cell_type": "code",
      "source": [
        "num1 == num2 #혹시 True라고 나올지 몰라서 해봤는데 실제로 False라 하네;;"
      ],
      "metadata": {
        "colab": {
          "base_uri": "https://localhost:8080/"
        },
        "id": "T9pRZWD0cI8P",
        "outputId": "0c0b7d3e-2b3e-4b78-9b74-4c486eee9a73"
      },
      "execution_count": null,
      "outputs": [
        {
          "output_type": "execute_result",
          "data": {
            "text/plain": [
              "False"
            ]
          },
          "metadata": {},
          "execution_count": 24
        }
      ]
    },
    {
      "cell_type": "markdown",
      "source": [
        "**답) 두 실수 값의 차이가 어떤 매우 작은 양수보다도 더 작다면 같다고 본다**"
      ],
      "metadata": {
        "id": "yi5y8uK-caEq"
      }
    },
    {
      "cell_type": "code",
      "source": [
        "#방법1\n",
        "import math\n",
        "\n",
        "math.isclose(num1,num2) #두 값의 차이가 매우 작은지 비교하는 함수"
      ],
      "metadata": {
        "colab": {
          "base_uri": "https://localhost:8080/"
        },
        "id": "52a9Ft83cNiM",
        "outputId": "a614d566-f680-4d0f-824a-13b5d5af9fa7"
      },
      "execution_count": null,
      "outputs": [
        {
          "output_type": "execute_result",
          "data": {
            "text/plain": [
              "True"
            ]
          },
          "metadata": {},
          "execution_count": 26
        }
      ]
    },
    {
      "cell_type": "code",
      "source": [
        "#방법2\n",
        "\n",
        "epsilon = 1e-10\n",
        "\n",
        "print(abs(num1-num2) <= epsilon)"
      ],
      "metadata": {
        "colab": {
          "base_uri": "https://localhost:8080/"
        },
        "id": "8GW-Tkjtchdy",
        "outputId": "7bf15630-a424-4bbb-ea29-5a9159e67949"
      },
      "execution_count": null,
      "outputs": [
        {
          "output_type": "stream",
          "name": "stdout",
          "text": [
            "True\n"
          ]
        }
      ]
    },
    {
      "cell_type": "code",
      "source": [
        ""
      ],
      "metadata": {
        "id": "N4tLAvULcurz"
      },
      "execution_count": null,
      "outputs": []
    },
    {
      "cell_type": "markdown",
      "source": [
        "# 1- 3. 이스케이프 시퀀스\n",
        "\n",
        "**답)**\n",
        "\n",
        "\n",
        "**(1) 줄 바꿈 : &#92;n**\n",
        "\n",
        "**(2) 탭 : &#92;t**\n",
        "\n",
        "**(3) 백슬래시: &#92;&#92;**"
      ],
      "metadata": {
        "id": "f5_nkSJ9c278"
      }
    },
    {
      "cell_type": "code",
      "source": [
        "#줄바꿈\n",
        "print('안녕하세요 \\n 윤대혁입니다')"
      ],
      "metadata": {
        "colab": {
          "base_uri": "https://localhost:8080/"
        },
        "id": "LTUqfcATd65t",
        "outputId": "94a23c39-73d7-421e-b668-ddde39b8187a"
      },
      "execution_count": null,
      "outputs": [
        {
          "output_type": "stream",
          "name": "stdout",
          "text": [
            "안녕하세요 \n",
            " 윤대혁입니다\n"
          ]
        }
      ]
    },
    {
      "cell_type": "code",
      "source": [
        "#탭\n",
        "print('안녕하세요 \\t 윤대혁입니다')"
      ],
      "metadata": {
        "colab": {
          "base_uri": "https://localhost:8080/"
        },
        "id": "HEmXxRW2eIgI",
        "outputId": "c3faffa7-491b-45ff-d707-313bac85d2fa"
      },
      "execution_count": null,
      "outputs": [
        {
          "output_type": "stream",
          "name": "stdout",
          "text": [
            "안녕하세요 \t 윤대혁입니다\n"
          ]
        }
      ]
    },
    {
      "cell_type": "code",
      "source": [
        "#백슬래시\n",
        "\n",
        "print('안녕하세요 \\\\ 윤대혁입니다')"
      ],
      "metadata": {
        "colab": {
          "base_uri": "https://localhost:8080/"
        },
        "id": "v89yiNUweMXn",
        "outputId": "0954999c-566d-49f9-9818-335e085fc7af"
      },
      "execution_count": null,
      "outputs": [
        {
          "output_type": "stream",
          "name": "stdout",
          "text": [
            "안녕하세요 \\ 윤대혁입니다\n"
          ]
        }
      ]
    },
    {
      "cell_type": "code",
      "source": [
        ""
      ],
      "metadata": {
        "id": "JxoM5lOSeZlz"
      },
      "execution_count": null,
      "outputs": []
    },
    {
      "cell_type": "markdown",
      "source": [
        "# 1- 4. String Interpolation\n",
        "\n",
        "'안녕, 철수야'를 string interpolation을 이용하여 출력"
      ],
      "metadata": {
        "id": "x57u3te-e5zu"
      }
    },
    {
      "cell_type": "code",
      "source": [
        "#f-string을 이용한 출력\n",
        "\n",
        "name = '철수'\n",
        "#name1 = '짱구'\n",
        "\n",
        "print(f\"안녕, {name}야\")\n",
        "#print(f'안녕, {name1}야')"
      ],
      "metadata": {
        "colab": {
          "base_uri": "https://localhost:8080/"
        },
        "id": "Lrel4WKQfBlL",
        "outputId": "6fe7761c-f85b-4026-e530-bd491bccbee1"
      },
      "execution_count": null,
      "outputs": [
        {
          "output_type": "stream",
          "name": "stdout",
          "text": [
            "안녕, 철수야\n"
          ]
        }
      ]
    },
    {
      "cell_type": "code",
      "source": [
        ""
      ],
      "metadata": {
        "id": "B9muPrDwfJb0"
      },
      "execution_count": null,
      "outputs": []
    },
    {
      "cell_type": "markdown",
      "source": [
        "# 1-5. 형 변환\n",
        "\n",
        "다음 중 오류가 발생하는 코드는? \n",
        "\n",
        "**답) (5) int('3.5')**\n",
        "\n",
        "\n",
        "(1) str(1) : '1'로 정상 반환\n",
        "\n",
        "(2) int('30') : 30은 정수니까 30으로 정상 반환\n",
        "\n",
        "(3) int(5) : 바꿀거 없이 5로 정상 반환\n",
        "\n",
        "(4) bool('50') : '50'은 Falsy가 아니니까 True로 정상 반환\n",
        "\n",
        "(5) int('3.5') : 3.5는 정수가 아니니까 에러"
      ],
      "metadata": {
        "id": "RRaTZR8gfiGG"
      }
    },
    {
      "cell_type": "code",
      "source": [
        "print(str(1))"
      ],
      "metadata": {
        "colab": {
          "base_uri": "https://localhost:8080/"
        },
        "id": "PXP-kIsLgRlF",
        "outputId": "0b622c03-2aa6-41af-bed1-e4ca19d4f9ad"
      },
      "execution_count": null,
      "outputs": [
        {
          "output_type": "stream",
          "name": "stdout",
          "text": [
            "1\n"
          ]
        }
      ]
    },
    {
      "cell_type": "code",
      "source": [
        "print(int('30'))"
      ],
      "metadata": {
        "colab": {
          "base_uri": "https://localhost:8080/"
        },
        "id": "KPKhhLbNgTYp",
        "outputId": "663a26ad-35d5-429d-c3a4-3c648071de7f"
      },
      "execution_count": null,
      "outputs": [
        {
          "output_type": "stream",
          "name": "stdout",
          "text": [
            "30\n"
          ]
        }
      ]
    },
    {
      "cell_type": "code",
      "source": [
        "print(int(5))"
      ],
      "metadata": {
        "colab": {
          "base_uri": "https://localhost:8080/"
        },
        "id": "sqoUADFjgUfP",
        "outputId": "84c71ae6-529e-4a45-daae-18e9f3354f92"
      },
      "execution_count": null,
      "outputs": [
        {
          "output_type": "stream",
          "name": "stdout",
          "text": [
            "5\n"
          ]
        }
      ]
    },
    {
      "cell_type": "code",
      "source": [
        "print(bool('50'))"
      ],
      "metadata": {
        "colab": {
          "base_uri": "https://localhost:8080/"
        },
        "id": "MI3CLm7ygVsA",
        "outputId": "604a2497-fab4-425d-a0de-acfee44bf192"
      },
      "execution_count": null,
      "outputs": [
        {
          "output_type": "stream",
          "name": "stdout",
          "text": [
            "True\n"
          ]
        }
      ]
    },
    {
      "cell_type": "code",
      "source": [
        "print(int('3.5'))"
      ],
      "metadata": {
        "colab": {
          "base_uri": "https://localhost:8080/",
          "height": 176
        },
        "id": "ESSrrNHggW_J",
        "outputId": "d1606ca2-94c1-4e86-f65b-d9d13d0a1011"
      },
      "execution_count": null,
      "outputs": [
        {
          "output_type": "error",
          "ename": "ValueError",
          "evalue": "ignored",
          "traceback": [
            "\u001b[0;31m---------------------------------------------------------------------------\u001b[0m",
            "\u001b[0;31mValueError\u001b[0m                                Traceback (most recent call last)",
            "\u001b[0;32m<ipython-input-37-2460c40ec1c6>\u001b[0m in \u001b[0;36m<module>\u001b[0;34m()\u001b[0m\n\u001b[0;32m----> 1\u001b[0;31m \u001b[0mprint\u001b[0m\u001b[0;34m(\u001b[0m\u001b[0mint\u001b[0m\u001b[0;34m(\u001b[0m\u001b[0;34m'3.5'\u001b[0m\u001b[0;34m)\u001b[0m\u001b[0;34m)\u001b[0m\u001b[0;34m\u001b[0m\u001b[0;34m\u001b[0m\u001b[0m\n\u001b[0m",
            "\u001b[0;31mValueError\u001b[0m: invalid literal for int() with base 10: '3.5'"
          ]
        }
      ]
    },
    {
      "cell_type": "code",
      "source": [
        ""
      ],
      "metadata": {
        "id": "Q8XwgXRdgYS3"
      },
      "execution_count": null,
      "outputs": []
    },
    {
      "cell_type": "markdown",
      "source": [
        "# 1-6. 네모 출력\n",
        "\n",
        "두개의 정수 n과 m이 주어질 때 가로의 길이가 n, 세로의 길이가 m인 직사각형 형태를 *(별)문자를 이용하여 출력\n",
        "\n",
        "단, 반복문은 사용 금지"
      ],
      "metadata": {
        "id": "ywibIHLWgaze"
      }
    },
    {
      "cell_type": "code",
      "source": [
        "n = 5\n",
        "\n",
        "m = 9\n",
        "\n",
        "#n,m = 5,9"
      ],
      "metadata": {
        "id": "vdADYJDcgjOk"
      },
      "execution_count": null,
      "outputs": []
    },
    {
      "cell_type": "code",
      "source": [
        "square = ('*'*n+'\\n')*m\n",
        "\n",
        "square #마지막에 \\n이 들어가서 아쉽다는 점을 확인"
      ],
      "metadata": {
        "colab": {
          "base_uri": "https://localhost:8080/",
          "height": 36
        },
        "id": "QrxQPPMKg0oN",
        "outputId": "042d945a-6831-48a1-c9ff-301b9d271968"
      },
      "execution_count": null,
      "outputs": [
        {
          "output_type": "execute_result",
          "data": {
            "text/plain": [
              "'*****\\n*****\\n*****\\n*****\\n*****\\n*****\\n*****\\n*****\\n*****\\n'"
            ],
            "application/vnd.google.colaboratory.intrinsic+json": {
              "type": "string"
            }
          },
          "metadata": {},
          "execution_count": 53
        }
      ]
    },
    {
      "cell_type": "code",
      "source": [
        "print(square[:-1]) #슬라이싱을 이용해서 마지막 \\n을 빼고 출력"
      ],
      "metadata": {
        "colab": {
          "base_uri": "https://localhost:8080/"
        },
        "id": "9DIaPkDpg9Nn",
        "outputId": "6dabba44-e791-4cc6-8e1b-ca512f84460f"
      },
      "execution_count": null,
      "outputs": [
        {
          "output_type": "stream",
          "name": "stdout",
          "text": [
            "*****\n",
            "*****\n",
            "*****\n",
            "*****\n",
            "*****\n",
            "*****\n",
            "*****\n",
            "*****\n",
            "*****\n"
          ]
        }
      ]
    },
    {
      "cell_type": "code",
      "source": [
        ""
      ],
      "metadata": {
        "id": "30ZE9J2ojhCm"
      },
      "execution_count": null,
      "outputs": []
    },
    {
      "cell_type": "markdown",
      "source": [
        "# 1- 7. 이스케이프 시퀀스 응용\n",
        "\n",
        "print() 함수를 한번만 사용하여 다음 문장을 출력하시오\n",
        "\n",
        "\"파일은 c:\\Windows\\Users\\내문서\\Python에 저장이 되었습니다.\"  \n",
        "나는 생각했다. 'cd를 써서 git bash로 들어가 봐야지.'"
      ],
      "metadata": {
        "id": "S2_HW8IZkLRM"
      }
    },
    {
      "cell_type": "code",
      "source": [
        "print(\"\"\"\"파일은 c:\\\\Windows\\\\Users\\\\내문서\\\\Python에 저장이 되었습니다.\"\\n나는 생각했다. 'cd를 써서 git bash로 들어가 봐야지.'\"\"\")"
      ],
      "metadata": {
        "colab": {
          "base_uri": "https://localhost:8080/"
        },
        "id": "C0mRE0dvkaYA",
        "outputId": "29768099-f727-4ca2-a6c8-d6daec4ec627"
      },
      "execution_count": null,
      "outputs": [
        {
          "output_type": "stream",
          "name": "stdout",
          "text": [
            "\"파일은 c:\\Windows\\Users\\내문서\\Python에 저장이 되었습니다.\"\n",
            "나는 생각했다. 'cd를 써서 git bash로 들어가 봐야지.'\n"
          ]
        }
      ]
    },
    {
      "cell_type": "code",
      "source": [
        "print(\"\"\"\"파일은 c:\\\\Windows\\\\Users\\\\내문서\\\\Python에 저장이 되었습니다.\"\n",
        "나는 생각했다. 'cd를 써서 git bash로 들어가 봐야지.'\"\"\")"
      ],
      "metadata": {
        "colab": {
          "base_uri": "https://localhost:8080/"
        },
        "id": "SbRIyIHCmEKd",
        "outputId": "6aeb1fbb-b061-4d21-ff54-807f1a884421"
      },
      "execution_count": null,
      "outputs": [
        {
          "output_type": "stream",
          "name": "stdout",
          "text": [
            "\"파일은 c:\\Windows\\Users\\내문서\\Python에 저장이 되었습니다.\"\n",
            "나는 생각했다. 'cd를 써서 git bash로 들어가 봐야지.'\n"
          ]
        }
      ]
    },
    {
      "cell_type": "code",
      "source": [
        "print(\"\\\"파일은 c:\\\\Windows\\\\Users\\\\내문서\\\\Python에 저장이 되었습니다.\\\"\\n나는 생각했다. 'cd를 써서 git bash로 들어가 봐야지.'\")"
      ],
      "metadata": {
        "id": "HAsx6EyAmSrs",
        "colab": {
          "base_uri": "https://localhost:8080/"
        },
        "outputId": "949790e6-9a5e-4b60-bed0-9548f95ef2f0"
      },
      "execution_count": 1,
      "outputs": [
        {
          "output_type": "stream",
          "name": "stdout",
          "text": [
            "\"파일은 c:\\Windows\\Users\\내문서\\Python에 저장이 되었습니다.\"\n",
            "나는 생각했다. 'cd를 써서 git bash로 들어가 봐야지.'\n"
          ]
        }
      ]
    },
    {
      "cell_type": "markdown",
      "source": [
        "# 1 - 8. 근의 공식\n",
        "\n",
        "이차방정식의 근의 공식을 파이썬 코드로 작성하시오\n",
        "\n",
        "$$\\frac{-b\\pm\\sqrt{b^{2}-4ac}}{2a}$$\n",
        "\n",
        "$\\pm$은 + , - 로 나눠서 작성"
      ],
      "metadata": {
        "id": "wR0wNWaGmerp"
      }
    },
    {
      "cell_type": "code",
      "source": [
        "#이차방정식의 계수 초기화\n",
        "a = 1\n",
        "\n",
        "b = -5\n",
        "\n",
        "c = 6\n",
        "\n",
        "#이차방정식의 근\n",
        "\n",
        "#b**2 = b*b\n",
        "\n",
        "root1 = (-b + (b**2 - 4*a*c)**(1/2)) / (2*a) #루트값은 1/2제곱과 같다 #**(1/2)\n",
        "root2 = (-b - (b**2 - 4*a*c)**(1/2)) / (2*a)"
      ],
      "metadata": {
        "id": "0tCUxgCOna2F"
      },
      "execution_count": null,
      "outputs": []
    },
    {
      "cell_type": "code",
      "source": [
        "print(root1,root2)"
      ],
      "metadata": {
        "colab": {
          "base_uri": "https://localhost:8080/"
        },
        "id": "B8nTILMeoDr-",
        "outputId": "c9fd2593-6619-4229-92d8-db2830466d09"
      },
      "execution_count": null,
      "outputs": [
        {
          "output_type": "stream",
          "name": "stdout",
          "text": [
            "3.0 2.0\n"
          ]
        }
      ]
    },
    {
      "cell_type": "code",
      "source": [
        ""
      ],
      "metadata": {
        "id": "m-rjdamFoEzH"
      },
      "execution_count": null,
      "outputs": []
    },
    {
      "cell_type": "markdown",
      "source": [
        "# 2-1 Mutable & Immutable\n",
        "\n",
        "주어진 컨테이너들을 변경 가능한 것과 변경 불가능한 것으로 분류\n",
        "\n",
        "\n",
        "**답)**\n",
        "\n",
        "**변경 가능(mutable): List, Set, Dictionary**\n",
        "\n",
        "**변경 불가능(Immutable): String, Tuple, Range**"
      ],
      "metadata": {
        "id": "Iu_D3lh7v1VT"
      }
    },
    {
      "cell_type": "code",
      "source": [
        "#string은 왜 변경 불가능인가?\n",
        "\n",
        "s1 = 'abcdefg'\n",
        "\n",
        "print(s1)"
      ],
      "metadata": {
        "colab": {
          "base_uri": "https://localhost:8080/"
        },
        "id": "ZOLr6JLGwJUy",
        "outputId": "67f988c4-ed2c-4428-f162-da382d24d508"
      },
      "execution_count": null,
      "outputs": [
        {
          "output_type": "stream",
          "name": "stdout",
          "text": [
            "abcdefg\n"
          ]
        }
      ]
    },
    {
      "cell_type": "code",
      "source": [
        "s1[2] = 'f'#변경할려고하면 에러남"
      ],
      "metadata": {
        "colab": {
          "base_uri": "https://localhost:8080/",
          "height": 176
        },
        "id": "pOG_wrRSxxbF",
        "outputId": "d88b543b-39f3-4be3-b2b6-7d091d6e513c"
      },
      "execution_count": null,
      "outputs": [
        {
          "output_type": "error",
          "ename": "TypeError",
          "evalue": "ignored",
          "traceback": [
            "\u001b[0;31m---------------------------------------------------------------------------\u001b[0m",
            "\u001b[0;31mTypeError\u001b[0m                                 Traceback (most recent call last)",
            "\u001b[0;32m<ipython-input-64-7f4e74464519>\u001b[0m in \u001b[0;36m<module>\u001b[0;34m()\u001b[0m\n\u001b[0;32m----> 1\u001b[0;31m \u001b[0ms1\u001b[0m\u001b[0;34m[\u001b[0m\u001b[0;36m2\u001b[0m\u001b[0;34m]\u001b[0m \u001b[0;34m=\u001b[0m \u001b[0;34m'f'\u001b[0m\u001b[0;34m\u001b[0m\u001b[0;34m\u001b[0m\u001b[0m\n\u001b[0m",
            "\u001b[0;31mTypeError\u001b[0m: 'str' object does not support item assignment"
          ]
        }
      ]
    },
    {
      "cell_type": "code",
      "source": [
        ""
      ],
      "metadata": {
        "id": "rodfqbf-x0A8"
      },
      "execution_count": null,
      "outputs": []
    },
    {
      "cell_type": "markdown",
      "source": [
        "# 2-2 Dictionary 만들기\n",
        "\n",
        "반 학생들의 정보를 이용하여 key는 이름, value는 나이인 dictionary를 만드시오\n",
        "\n",
        "내 자리를 기준으로 앞, 뒤, 좌, 우에 앉아 있는 학생 정보를 참고하시오"
      ],
      "metadata": {
        "id": "gekQaJwrx7vr"
      }
    },
    {
      "cell_type": "code",
      "source": [
        "students = {'유승규':27, '박현영':25, '장진문':28, '최보영':25}\n",
        "\n",
        "print(students)"
      ],
      "metadata": {
        "colab": {
          "base_uri": "https://localhost:8080/"
        },
        "id": "0bBhQs3Q0Wd8",
        "outputId": "6d2ba586-ed88-4ec2-e71f-46251d64b12f"
      },
      "execution_count": null,
      "outputs": [
        {
          "output_type": "stream",
          "name": "stdout",
          "text": [
            "{'유승규': 27, '박현영': 25, '장진문': 28, '최보영': 25}\n"
          ]
        }
      ]
    },
    {
      "cell_type": "code",
      "source": [
        ""
      ],
      "metadata": {
        "id": "c4DzP8at1J34"
      },
      "execution_count": null,
      "outputs": []
    },
    {
      "cell_type": "markdown",
      "source": [
        "# 2-3 평균 구하기\n",
        "\n",
        "주어진 list에 담긴 숫자들의 평균값을 출력  \n",
        "\n",
        "scores = [80,89,99,83]"
      ],
      "metadata": {
        "id": "ACr8RF5M1KGL"
      }
    },
    {
      "cell_type": "code",
      "source": [
        "scores = [80, 89, 99, 83]"
      ],
      "metadata": {
        "id": "GzQh202-1Q5h"
      },
      "execution_count": null,
      "outputs": []
    },
    {
      "cell_type": "code",
      "source": [
        "#배운걸 이용해서 인덱싱으로 원소들의 합을 구하고\n",
        "\n",
        "sum_score = scores[0] + scores[1] +scores[2] + scores[3]"
      ],
      "metadata": {
        "id": "--vO5KBo1Tud"
      },
      "execution_count": null,
      "outputs": []
    },
    {
      "cell_type": "code",
      "source": [
        "#리스트 길이 구하는 len()을 이용해서 합을 길이로 나눠주면 평균\n",
        "\n",
        "mean_score = sum_score/len(scores)\n",
        "\n",
        "print(mean_score)"
      ],
      "metadata": {
        "colab": {
          "base_uri": "https://localhost:8080/"
        },
        "id": "xxgt-Fix1Zc4",
        "outputId": "a2ecd76f-50f7-4a79-a495-9b24ffce8aca"
      },
      "execution_count": null,
      "outputs": [
        {
          "output_type": "stream",
          "name": "stdout",
          "text": [
            "87.75\n"
          ]
        }
      ]
    },
    {
      "cell_type": "code",
      "source": [
        ""
      ],
      "metadata": {
        "id": "i9q5Ll_Q1fBy"
      },
      "execution_count": null,
      "outputs": []
    }
  ]
}