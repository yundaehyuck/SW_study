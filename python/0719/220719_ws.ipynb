{
  "nbformat": 4,
  "nbformat_minor": 0,
  "metadata": {
    "colab": {
      "name": "220719_ws.ipynb",
      "provenance": [],
      "collapsed_sections": []
    },
    "kernelspec": {
      "name": "python3",
      "display_name": "Python 3"
    },
    "language_info": {
      "name": "python"
    }
  },
  "cells": [
    {
      "cell_type": "markdown",
      "source": [
        "# 2-1. 숫자의 입력과 출력\n",
        "\n",
        "입력 받은 데이터를 숫자로 변환하고 덧셈해서 출력하는 프로그램"
      ],
      "metadata": {
        "id": "7dkR4WBOse4L"
      }
    },
    {
      "cell_type": "code",
      "execution_count": 1,
      "metadata": {
        "colab": {
          "base_uri": "https://localhost:8080/"
        },
        "id": "qJNKy4jtsYQR",
        "outputId": "d1993af3-736b-4f71-8339-1310b55608c5"
      },
      "outputs": [
        {
          "output_type": "stream",
          "name": "stdout",
          "text": [
            "6374\n",
            "8729\n",
            "15103\n"
          ]
        }
      ],
      "source": [
        "num1 = int(input())\n",
        "num2 = int(input())\n",
        "\n",
        "print(num1+num2)"
      ]
    },
    {
      "cell_type": "code",
      "source": [
        ""
      ],
      "metadata": {
        "id": "l9nOyPnPsqEo"
      },
      "execution_count": null,
      "outputs": []
    },
    {
      "cell_type": "markdown",
      "source": [
        "# 2-2. Dictionary를 활용하여 평균 구하기\n",
        "\n",
        "좋아하는 점심메뉴를 이용하여 key는 메뉴, value는 가격인 dictionary를 만들고 점심메뉴의 평균 구하기"
      ],
      "metadata": {
        "id": "WCBj3g0ms7B0"
      }
    },
    {
      "cell_type": "code",
      "source": [
        "lunch = {'라면':1700, '햄버거세트':5700, '멸치국수':5000, '토스트':3700, '김밥':2000}\n",
        "\n",
        "mean_lunch = (lunch['라면'] + lunch['햄버거세트'] + lunch['멸치국수'] + lunch['토스트'] + lunch['김밥'])/5\n",
        "\n",
        "print(mean_lunch)"
      ],
      "metadata": {
        "colab": {
          "base_uri": "https://localhost:8080/"
        },
        "id": "FMHlPpjVtBkJ",
        "outputId": "47298308-85cd-435e-e7f0-a7d6e4088330"
      },
      "execution_count": 2,
      "outputs": [
        {
          "output_type": "stream",
          "name": "stdout",
          "text": [
            "3620.0\n"
          ]
        }
      ]
    },
    {
      "cell_type": "code",
      "source": [
        ""
      ],
      "metadata": {
        "id": "J0yNN2xft02M"
      },
      "execution_count": null,
      "outputs": []
    }
  ]
}