{
  "cells": [
    {
      "cell_type": "markdown",
      "metadata": {
        "id": "BXwAfXlBIO51"
      },
      "source": [
        "<p style=\"font-size: 33px; font-weight: 700; margin-bottom: 3rem\">Python 기초 I</p>\n",
        "\n",
        "# 개요\n",
        "\n",
        "본 강의 자료는 [Python 공식 Tutorial](https://docs.python.org/3/tutorial/index.html)에 근거하여 만들어졌으며, Python 3.9 이상 버전에 해당하는 내용을 담고 있습니다.\n",
        "\n",
        "또한, 파이썬에서 제공하는 스타일 가이드인 [`PEP-8`](https://www.python.org/dev/peps/pep-0008/) 내용을 반영하였습니다. \n",
        "\n",
        "파이썬을 활용하는 다양한 IT기업들은 대내외적으로 본인들의 스타일 가이드를 제공하고 있습니다. \n",
        "\n",
        "* [구글 스타일 가이드](https://github.com/google/styleguide/blob/gh-pages/pyguide.md)\n",
        "* [Tensorflow 스타일 가이드](https://www.tensorflow.org/community/contribute/code_style?hl=ko)\n",
        "\n"
      ]
    },
    {
      "cell_type": "markdown",
      "metadata": {
        "id": "Ay6840WqIO53"
      },
      "source": [
        "# 기초 문법(Syntax)\n",
        "## 들여쓰기(Indentation)\n",
        "\n",
        "코드 블록을 구분할 때, 중괄호 ({,}) 대신 <들여쓰기 (identation)>를 사용합니다.\n",
        "\n",
        "들여쓰기를 할 때는 4칸(space키 4번) 혹은 1탭 (Tab키 1번)을 입력합니다.\n",
        "- 주의! 한 코드 안에서는 반드시 한 종류의 들여쓰기를 사용합니다.\n",
        "- 원칙적으로는 공백 (빈칸, space) 사용을 권장합니다. * PEP8 권장사항"
      ]
    },
    {
      "cell_type": "code",
      "execution_count": null,
      "metadata": {
        "id": "THHUby3PIO53"
      },
      "outputs": [],
      "source": [
        "# 일반적인 코드 작성 스타일"
      ]
    },
    {
      "cell_type": "code",
      "execution_count": null,
      "metadata": {
        "colab": {
          "base_uri": "https://localhost:8080/"
        },
        "id": "jXZkAhVwIO54",
        "outputId": "0ab877d1-ff3f-4963-e74c-0bfb2c0a6c4d"
      },
      "outputs": [
        {
          "output_type": "stream",
          "name": "stdout",
          "text": [
            "hello\n",
            "world\n",
            "True\n"
          ]
        }
      ],
      "source": [
        "print('hello')\n",
        "print('world')\n",
        "\n",
        "a = 'apple'\n",
        "\n",
        "if True:\n",
        "    print(True)\n",
        "else:\n",
        "    print(False)\n",
        "\n",
        "b = 'banana'"
      ]
    },
    {
      "cell_type": "markdown",
      "metadata": {
        "id": "rxchTBUwIO55"
      },
      "source": [
        "## 변수(Variable)"
      ]
    },
    {
      "cell_type": "markdown",
      "metadata": {
        "id": "iTD4GfzKIO55"
      },
      "source": [
        "### 변수 \n",
        "컴퓨터 메모리 어딘가에 저장되어 있는 객체를 참조하기 위해 사용되는 이름을 의미합니다.\n",
        "- 객체(object) : 숫자, 문자, 클래스 등 **값을 가지고 있는 모든 것**을 말합니다.\n",
        "    - 파이썬은 객체지향 언어이며, 모든 것이 객체로 구현되어 있습니다.\n",
        "- 동일 변수에 다른 객체를 언제든 할당할 수 있습니다.\n",
        "    - 즉, 참조하는 객체가 바뀔 수 있기 때문에 '변수' 라고 부릅니다."
      ]
    },
    {
      "cell_type": "markdown",
      "metadata": {
        "id": "4W3S3yeAIO55"
      },
      "source": [
        "<center><img src=\"https://user-images.githubusercontent.com/18046097/61179855-0c8d0200-a646-11e9-9e9e-2c6df0504296.png\", alt=\"variable\"/></center>"
      ]
    },
    {
      "cell_type": "markdown",
      "metadata": {
        "id": "ol7jrP2DIO56"
      },
      "source": [
        "\n",
        "<center><img src=\"https://user-images.githubusercontent.com/18046097/61179857-13b41000-a646-11e9-9a88-8487df4eaf52.png\", alt=\"box\"/></center>"
      ]
    },
    {
      "cell_type": "markdown",
      "metadata": {
        "id": "GwCPZhanIO56"
      },
      "source": [
        "### 할당 연산자(Assignment Operator): `=`\n",
        "\n",
        "* 변수는 `=`을 통해 할당(assignment) 됩니다. \n",
        "\n",
        "* 해당 데이터 타입을 확인하기 위해서는 `type()`을 활용합니다.\n",
        "\n",
        "* 해당 값의 메모리 주소를 확인하기 위해서는 `id()`를 활용합니다."
      ]
    },
    {
      "cell_type": "code",
      "execution_count": null,
      "metadata": {
        "id": "dcU4G9HzIO57"
      },
      "outputs": [],
      "source": [
        "# 변수 x에 임의의 문자열을 할당해봅시다.\n",
        "\n",
        "x = '윤대혁'"
      ]
    },
    {
      "cell_type": "code",
      "execution_count": null,
      "metadata": {
        "colab": {
          "base_uri": "https://localhost:8080/"
        },
        "id": "5ByA-MlnIO57",
        "outputId": "3ccbabd0-33b3-46aa-90be-92419d4b9af2"
      },
      "outputs": [
        {
          "output_type": "stream",
          "name": "stdout",
          "text": [
            "<class 'str'>\n"
          ]
        }
      ],
      "source": [
        "# type(x)를 실행하여 변수 x에 할당된 값의 데이터 타입을 확인해 봅시다.\n",
        "\n",
        "print(type(x))"
      ]
    },
    {
      "cell_type": "code",
      "execution_count": null,
      "metadata": {
        "id": "YkMbL2vQIO58"
      },
      "outputs": [],
      "source": [
        ""
      ]
    },
    {
      "cell_type": "code",
      "execution_count": null,
      "metadata": {
        "colab": {
          "base_uri": "https://localhost:8080/"
        },
        "id": "pMPnp2JDIO58",
        "outputId": "bc6bbe41-470c-4173-fb99-265931309c45"
      },
      "outputs": [
        {
          "output_type": "stream",
          "name": "stdout",
          "text": [
            "140652276599088\n"
          ]
        }
      ],
      "source": [
        "# id(x)를 실행하여 변수 x의 고유 메모리 주소를 확인해봅시다.\n",
        "\n",
        "print(id(x))"
      ]
    },
    {
      "cell_type": "code",
      "execution_count": null,
      "metadata": {
        "id": "JcGKL1tWIO58"
      },
      "outputs": [],
      "source": [
        ""
      ]
    },
    {
      "cell_type": "markdown",
      "metadata": {
        "id": "XFXagT_yIO58"
      },
      "source": [
        "### 변수 연산"
      ]
    },
    {
      "cell_type": "code",
      "execution_count": null,
      "metadata": {
        "id": "Wp88sQSZIO59"
      },
      "outputs": [],
      "source": [
        "# i, j, s 변수에 각각 5, 3, '파이썬'을 할당해봅시다.\n",
        "\n",
        "i,j,s = 5,3,'파이썬'"
      ]
    },
    {
      "cell_type": "code",
      "execution_count": null,
      "metadata": {
        "id": "DgE9p2MoIO59"
      },
      "outputs": [],
      "source": [
        ""
      ]
    },
    {
      "cell_type": "code",
      "execution_count": null,
      "metadata": {
        "colab": {
          "base_uri": "https://localhost:8080/"
        },
        "id": "gRsz64oGIO59",
        "outputId": "3720dc53-2c0c-43d9-b608-02fadeb43a53"
      },
      "outputs": [
        {
          "output_type": "stream",
          "name": "stdout",
          "text": [
            "8\n"
          ]
        }
      ],
      "source": [
        "# 변수 i와 j를 더해봅시다.\n",
        "\n",
        "print(i + j)"
      ]
    },
    {
      "cell_type": "code",
      "execution_count": null,
      "metadata": {
        "id": "Qm_S8HfpIO59"
      },
      "outputs": [],
      "source": [
        ""
      ]
    },
    {
      "cell_type": "code",
      "execution_count": null,
      "metadata": {
        "id": "v1s1GlpvIO59"
      },
      "outputs": [],
      "source": [
        "# 변수 i에 i - j를 할당해봅시다.\n",
        "\n",
        "i = i - j"
      ]
    },
    {
      "cell_type": "code",
      "execution_count": null,
      "metadata": {
        "id": "HXCbF2bnIO5-"
      },
      "outputs": [],
      "source": [
        ""
      ]
    },
    {
      "cell_type": "code",
      "execution_count": null,
      "metadata": {
        "colab": {
          "base_uri": "https://localhost:8080/"
        },
        "id": "07pEgly6IO5-",
        "outputId": "e6cf6037-85c9-4e23-a5ea-a4749dcaba6e"
      },
      "outputs": [
        {
          "output_type": "stream",
          "name": "stdout",
          "text": [
            "-4\n"
          ]
        }
      ],
      "source": [
        "# 변수 j에 -2를 할당하고 i * j를 실행해봅시다.\n",
        "\n",
        "j = -2\n",
        "\n",
        "print(i * j)"
      ]
    },
    {
      "cell_type": "code",
      "execution_count": null,
      "metadata": {
        "id": "JAhEE0q_IO5-"
      },
      "outputs": [],
      "source": [
        ""
      ]
    },
    {
      "cell_type": "code",
      "execution_count": null,
      "metadata": {
        "colab": {
          "base_uri": "https://localhost:8080/"
        },
        "id": "UZ3nR0V1IO5-",
        "outputId": "2da8b74c-1108-494c-898f-6a0b3dbb69ae"
      },
      "outputs": [
        {
          "output_type": "stream",
          "name": "stdout",
          "text": [
            "-1.3333333333333333\n"
          ]
        }
      ],
      "source": [
        "# i * j / 3 을 실행하여 결과를 확인해봅시다.\n",
        "\n",
        "print(i * j / 3)"
      ]
    },
    {
      "cell_type": "code",
      "execution_count": null,
      "metadata": {
        "id": "ycK7uBRXIO5-"
      },
      "outputs": [],
      "source": [
        ""
      ]
    },
    {
      "cell_type": "code",
      "execution_count": null,
      "metadata": {
        "colab": {
          "base_uri": "https://localhost:8080/"
        },
        "id": "SVXKKxgZIO5-",
        "outputId": "c02fd7f2-2941-48a8-b63e-8097679db99f"
      },
      "outputs": [
        {
          "output_type": "stream",
          "name": "stdout",
          "text": [
            "안녕파이썬\n"
          ]
        }
      ],
      "source": [
        "# 문자열 '안녕'과 변수 s를 더해봅시다.\n",
        "\n",
        "print('안녕' + s)"
      ]
    },
    {
      "cell_type": "code",
      "execution_count": null,
      "metadata": {
        "id": "cpPfwrHzIO5_"
      },
      "outputs": [],
      "source": [
        ""
      ]
    },
    {
      "cell_type": "code",
      "execution_count": null,
      "metadata": {
        "colab": {
          "base_uri": "https://localhost:8080/"
        },
        "id": "5NL7KA8IIO5_",
        "outputId": "4744b3d9-0c72-4d25-cf2c-a5167d5b957d"
      },
      "outputs": [
        {
          "output_type": "stream",
          "name": "stdout",
          "text": [
            "파이썬파이썬파이썬\n"
          ]
        }
      ],
      "source": [
        "# 변수 s에 s * 3을 할당하고 결과를 확인해봅시다.\n",
        "\n",
        "s = s * 3\n",
        "\n",
        "print(s)"
      ]
    },
    {
      "cell_type": "code",
      "execution_count": null,
      "metadata": {
        "id": "0nRHGo74IO5_"
      },
      "outputs": [],
      "source": [
        ""
      ]
    },
    {
      "cell_type": "code",
      "execution_count": null,
      "metadata": {
        "colab": {
          "base_uri": "https://localhost:8080/"
        },
        "id": "3bh-hIk_IO5_",
        "outputId": "00753d44-8ab8-4205-a38a-ee176e6d98d5"
      },
      "outputs": [
        {
          "output_type": "stream",
          "name": "stdout",
          "text": [
            "Python is fun\n"
          ]
        }
      ],
      "source": [
        "# 변수 s에 문자열 'Python'을 할당하고\n",
        "# s + ' is fun'을 실행하여 결과를 확인해봅시다.\n",
        "\n",
        "s = 'Python'\n",
        "\n",
        "print(s + ' is fun')"
      ]
    },
    {
      "cell_type": "code",
      "execution_count": null,
      "metadata": {
        "id": "XxZj_aORIO5_"
      },
      "outputs": [],
      "source": [
        ""
      ]
    },
    {
      "cell_type": "markdown",
      "metadata": {
        "id": "DaawUyuzIO5_"
      },
      "source": [
        "### 변수 할당\n",
        "* 같은 값을 동시에 할당할 수 있습니다."
      ]
    },
    {
      "cell_type": "code",
      "execution_count": null,
      "metadata": {
        "colab": {
          "base_uri": "https://localhost:8080/"
        },
        "id": "39EfZ0mKIO5_",
        "outputId": "0f3fd74c-6c1f-4735-8057-91ec544bf049"
      },
      "outputs": [
        {
          "output_type": "stream",
          "name": "stdout",
          "text": [
            "5 5\n"
          ]
        }
      ],
      "source": [
        "# 같은 값을 x와 y에 동시에 할당해봅시다.\n",
        "# 그리고 print를 이용하여 x, y 값을 확인해봅시다.\n",
        "\n",
        "x = y = 5\n",
        "\n",
        "print(x,y)"
      ]
    },
    {
      "cell_type": "code",
      "execution_count": null,
      "metadata": {
        "id": "fgRaW8L1IO6A"
      },
      "outputs": [],
      "source": [
        ""
      ]
    },
    {
      "cell_type": "markdown",
      "metadata": {
        "id": "ZDYAALDGIO6A"
      },
      "source": [
        "* 다른 값을 동시에 할당 가능합니다."
      ]
    },
    {
      "cell_type": "code",
      "execution_count": null,
      "metadata": {
        "colab": {
          "base_uri": "https://localhost:8080/"
        },
        "id": "Wc8f8henIO6A",
        "outputId": "c0c33045-2546-4290-c9f9-8bbdf745f9dd"
      },
      "outputs": [
        {
          "output_type": "stream",
          "name": "stdout",
          "text": [
            "1 2\n"
          ]
        }
      ],
      "source": [
        "# 두 개의 변수 x, y에 값 1, 2를 동시에 할당해봅시다.\n",
        "# 그리고 print를 이용하여 x, y 값을 확인해봅시다.\n",
        "\n",
        "x , y = 1 , 2\n",
        "\n",
        "print(x , y)"
      ]
    },
    {
      "cell_type": "code",
      "execution_count": null,
      "metadata": {
        "id": "rFcgPEU9IO6A"
      },
      "outputs": [],
      "source": [
        ""
      ]
    },
    {
      "cell_type": "code",
      "execution_count": null,
      "metadata": {
        "colab": {
          "base_uri": "https://localhost:8080/",
          "height": 211
        },
        "id": "UPPp_x06IO6A",
        "outputId": "4ea21374-eedd-4e72-b2f2-81c6ff6d27d9"
      },
      "outputs": [
        {
          "output_type": "error",
          "ename": "TypeError",
          "evalue": "ignored",
          "traceback": [
            "\u001b[0;31m---------------------------------------------------------------------------\u001b[0m",
            "\u001b[0;31mTypeError\u001b[0m                                 Traceback (most recent call last)",
            "\u001b[0;32m<ipython-input-18-44fb74fc3e0e>\u001b[0m in \u001b[0;36m<module>\u001b[0;34m()\u001b[0m\n\u001b[1;32m      2\u001b[0m \u001b[0;31m# 두 개의 변수에 하나의 값을 할당했을 때의 오류를 확인해봅시다.\u001b[0m\u001b[0;34m\u001b[0m\u001b[0;34m\u001b[0m\u001b[0;34m\u001b[0m\u001b[0m\n\u001b[1;32m      3\u001b[0m \u001b[0;34m\u001b[0m\u001b[0m\n\u001b[0;32m----> 4\u001b[0;31m \u001b[0mx\u001b[0m \u001b[0;34m,\u001b[0m \u001b[0my\u001b[0m \u001b[0;34m=\u001b[0m \u001b[0;36m1\u001b[0m\u001b[0;34m\u001b[0m\u001b[0;34m\u001b[0m\u001b[0m\n\u001b[0m",
            "\u001b[0;31mTypeError\u001b[0m: cannot unpack non-iterable int object"
          ]
        }
      ],
      "source": [
        "# 두 개의 변수 x, y에 값 1을 할당해봅시다.\n",
        "# 두 개의 변수에 하나의 값을 할당했을 때의 오류를 확인해봅시다.\n",
        "\n",
        "x , y = 1"
      ]
    },
    {
      "cell_type": "code",
      "execution_count": null,
      "metadata": {
        "id": "b47Qw7YOIO6A"
      },
      "outputs": [],
      "source": [
        ""
      ]
    },
    {
      "cell_type": "code",
      "execution_count": null,
      "metadata": {
        "colab": {
          "base_uri": "https://localhost:8080/",
          "height": 211
        },
        "id": "gq4WXxY0IO6A",
        "outputId": "ae7169ae-9531-422a-dd62-755ed4b463c2"
      },
      "outputs": [
        {
          "output_type": "error",
          "ename": "ValueError",
          "evalue": "ignored",
          "traceback": [
            "\u001b[0;31m---------------------------------------------------------------------------\u001b[0m",
            "\u001b[0;31mValueError\u001b[0m                                Traceback (most recent call last)",
            "\u001b[0;32m<ipython-input-19-46a281f01337>\u001b[0m in \u001b[0;36m<module>\u001b[0;34m()\u001b[0m\n\u001b[1;32m      2\u001b[0m \u001b[0;31m# 두 개의 변수에 세 개의 값을 할당했을 때의 오류를 확인해봅시다.\u001b[0m\u001b[0;34m\u001b[0m\u001b[0;34m\u001b[0m\u001b[0;34m\u001b[0m\u001b[0m\n\u001b[1;32m      3\u001b[0m \u001b[0;34m\u001b[0m\u001b[0m\n\u001b[0;32m----> 4\u001b[0;31m \u001b[0mx\u001b[0m\u001b[0;34m,\u001b[0m \u001b[0my\u001b[0m \u001b[0;34m=\u001b[0m \u001b[0;36m1\u001b[0m\u001b[0;34m,\u001b[0m \u001b[0;36m2\u001b[0m\u001b[0;34m,\u001b[0m \u001b[0;36m3\u001b[0m\u001b[0;34m\u001b[0m\u001b[0;34m\u001b[0m\u001b[0m\n\u001b[0m",
            "\u001b[0;31mValueError\u001b[0m: too many values to unpack (expected 2)"
          ]
        }
      ],
      "source": [
        "# 두 개의 변수 x, y에 값 1, 2, 3을 동시에 할당해봅시다.\n",
        "# 두 개의 변수에 세 개의 값을 할당했을 때의 오류를 확인해봅시다.\n",
        "\n",
        "x, y = 1, 2, 3"
      ]
    },
    {
      "cell_type": "code",
      "execution_count": null,
      "metadata": {
        "id": "yBoTVzk_IO6B"
      },
      "outputs": [],
      "source": [
        ""
      ]
    },
    {
      "cell_type": "markdown",
      "metadata": {
        "id": "2lPvzpJTIO6B"
      },
      "source": [
        "### 실습 문제\n",
        "- x = 10, y = 20 일 때, 각각 값을 바꿔서 저장하는 코드를 작성하세요."
      ]
    },
    {
      "cell_type": "code",
      "execution_count": null,
      "metadata": {
        "id": "JByA6HCnIO6B"
      },
      "outputs": [],
      "source": [
        "x, y = 10, 20"
      ]
    },
    {
      "cell_type": "code",
      "execution_count": null,
      "metadata": {
        "id": "glD6frw9IO6B"
      },
      "outputs": [],
      "source": [
        "# 변수 x와 y의 값을 바꿔봅시다.\n",
        "# 그리고 결과를 print를 이용해 확인해봅시다."
      ]
    },
    {
      "cell_type": "code",
      "execution_count": null,
      "metadata": {
        "colab": {
          "base_uri": "https://localhost:8080/"
        },
        "id": "eAcCuIOnIO6B",
        "outputId": "a270ac00-5f4e-48e7-ca16-0a1c023424a9"
      },
      "outputs": [
        {
          "output_type": "stream",
          "name": "stdout",
          "text": [
            "20 10\n"
          ]
        }
      ],
      "source": [
        "# 방법1 : 임시 변수 활용\n",
        "\n",
        "temp = x #temp = 10, x = 10\n",
        "\n",
        "x = y # x = 20, y = 20\n",
        "\n",
        "y = temp # x = 20, y = 10\n",
        "\n",
        "print(x,y)"
      ]
    },
    {
      "cell_type": "code",
      "execution_count": null,
      "metadata": {
        "id": "VZF2UqHCIO6B"
      },
      "outputs": [],
      "source": [
        ""
      ]
    },
    {
      "cell_type": "code",
      "execution_count": null,
      "metadata": {
        "colab": {
          "base_uri": "https://localhost:8080/"
        },
        "id": "RstCZPh_IO6B",
        "outputId": "167666f4-7b51-4895-a13c-c96f0f7d5b93"
      },
      "outputs": [
        {
          "output_type": "stream",
          "name": "stdout",
          "text": [
            "20 10\n"
          ]
        }
      ],
      "source": [
        "# 방법 2 : Pythonic\n",
        "\n",
        "x, y = y ,x\n",
        "\n",
        "print(x,y)"
      ]
    },
    {
      "cell_type": "code",
      "execution_count": null,
      "metadata": {
        "id": "20y6sL-sIO6B"
      },
      "outputs": [],
      "source": [
        ""
      ]
    },
    {
      "cell_type": "markdown",
      "metadata": {
        "id": "ONCYYMSHIO6B"
      },
      "source": [
        "### 식별자(Identifiers)\n",
        "\n",
        "파이썬에서 식별자는 변수, 함수, 모듈, 클래스 등을 식별하는데 사용되는 이름(name)입니다. \n",
        "\n",
        "* 식별자의 이름은 영문 알파벳(대문자와 소문자), 언더스코어(_), 숫자로 구성됩니다.\n",
        "* 첫 글자에 숫자가 올 수 없습니다.\n",
        "* 길이에 제한이 없습니다.\n",
        "* 대/소문자(case)를 구별합니다.\n",
        "* 아래의 키워드는 사용할 수 없습니다. [파이썬 문서](https://docs.python.org/ko/3/reference/lexical_analysis.html#keywords)\n",
        "\n",
        "```\n",
        "False, None, True, and, as, assert, async, await, break, class, continue, def, del, elif, else, except, finally, for, from, global, if, import, in, is, lambda, nonlocal, not, or, pass, raise, return, try, while, with, yield\n",
        "```"
      ]
    },
    {
      "cell_type": "code",
      "execution_count": null,
      "metadata": {
        "id": "ntimqVHmIO6C"
      },
      "outputs": [],
      "source": [
        "# 키워드들을 직접 확인해봅시다.\n",
        "# import 구문을 사용하여 keyword를 불러옵니다.\n",
        "# print를 이용하여 파이썬이 가지고 있는 키워드 / 예약어를 출력해봅시다.\n",
        "# import 구문에 대한 자세한 내용은 모듈 챕터에서 학습하겠습니다."
      ]
    },
    {
      "cell_type": "code",
      "execution_count": null,
      "metadata": {
        "colab": {
          "base_uri": "https://localhost:8080/"
        },
        "id": "bLk2erj4IO6C",
        "outputId": "43046377-34f7-4537-c5a1-1444cf650d44"
      },
      "outputs": [
        {
          "output_type": "stream",
          "name": "stdout",
          "text": [
            "['False', 'None', 'True', 'and', 'as', 'assert', 'async', 'await', 'break', 'class', 'continue', 'def', 'del', 'elif', 'else', 'except', 'finally', 'for', 'from', 'global', 'if', 'import', 'in', 'is', 'lambda', 'nonlocal', 'not', 'or', 'pass', 'raise', 'return', 'try', 'while', 'with', 'yield']\n"
          ]
        }
      ],
      "source": [
        "import keyword\n",
        "print(keyword.kwlist)"
      ]
    },
    {
      "cell_type": "markdown",
      "metadata": {
        "id": "FdRH8WKHIO6C"
      },
      "source": [
        "*  내장함수나 모듈 등의 이름으로도 만들면 안됩니다.\n",
        "- 기존의 이름에 다른 값을 할당하게 되므로 더 이상 동작하지 않게됩니다."
      ]
    },
    {
      "cell_type": "code",
      "execution_count": null,
      "metadata": {
        "id": "t0oGM5jjIO6C"
      },
      "outputs": [],
      "source": [
        "# 내장함수의 이름을 사용하면 어떤일이 일어나는지 확인해봅시다."
      ]
    },
    {
      "cell_type": "code",
      "execution_count": null,
      "metadata": {
        "colab": {
          "base_uri": "https://localhost:8080/"
        },
        "id": "oMh2yAoyIO6C",
        "outputId": "d93ddaa1-7905-43a5-807e-d17b74b12932"
      },
      "outputs": [
        {
          "output_type": "stream",
          "name": "stdout",
          "text": [
            "5\n"
          ]
        }
      ],
      "source": [
        "# print는 값을 출력해주는 내장함수(Built-in function)입니다.\n",
        "# print(5)를 실행하여 결과를 확인해봅시다.\n",
        "print(5)"
      ]
    },
    {
      "cell_type": "code",
      "execution_count": null,
      "metadata": {
        "id": "1MzjKNAuIO6C"
      },
      "outputs": [],
      "source": [
        "# 변수 print에 문자열 'hi'를 할당합니다. \n",
        "# 그리고 print() 를 사용하였을때 발생하는 오류를 확인해봅시다.\n",
        "# print는 'hi'라는 값을 가지는 변수로 할당되었기 때문에 이전의 출력 기능을 수행하지 못합니다."
      ]
    },
    {
      "cell_type": "code",
      "execution_count": null,
      "metadata": {
        "colab": {
          "base_uri": "https://localhost:8080/",
          "height": 193
        },
        "id": "U8qc0pnhIO6D",
        "outputId": "a1b06be1-a928-4a81-a665-1fcbf2fa1324"
      },
      "outputs": [
        {
          "output_type": "error",
          "ename": "TypeError",
          "evalue": "ignored",
          "traceback": [
            "\u001b[0;31m---------------------------------------------------------------------------\u001b[0m",
            "\u001b[0;31mTypeError\u001b[0m                                 Traceback (most recent call last)",
            "\u001b[0;32m<ipython-input-29-c744c25e7cb6>\u001b[0m in \u001b[0;36m<module>\u001b[0;34m()\u001b[0m\n\u001b[1;32m      1\u001b[0m \u001b[0mprint\u001b[0m \u001b[0;34m=\u001b[0m \u001b[0;34m'hi'\u001b[0m\u001b[0;34m\u001b[0m\u001b[0;34m\u001b[0m\u001b[0m\n\u001b[0;32m----> 2\u001b[0;31m \u001b[0mprint\u001b[0m\u001b[0;34m(\u001b[0m\u001b[0;36m5\u001b[0m\u001b[0;34m)\u001b[0m\u001b[0;34m\u001b[0m\u001b[0;34m\u001b[0m\u001b[0m\n\u001b[0m",
            "\u001b[0;31mTypeError\u001b[0m: 'str' object is not callable"
          ]
        }
      ],
      "source": [
        "print = 'hi'\n",
        "print(5)"
      ]
    },
    {
      "cell_type": "code",
      "execution_count": null,
      "metadata": {
        "id": "1x90te82IO6D"
      },
      "outputs": [],
      "source": [
        "# 뒤에서 진행될 코드에 영향이 갈 수 있기 때문에 방금 생성한 print 변수를 삭제합니다.\n",
        "# 아래와 같이 del 연산자를 활용합니다.\n",
        "# del print\n",
        "# 사용자가 지정한 변수 print는 삭제되고, 기존의 화면출력 기능을 가지는 print가 동작합니다.\n",
        "# 자세한 내용은 namespace 파트에서 확인해봅시다."
      ]
    },
    {
      "cell_type": "code",
      "execution_count": null,
      "metadata": {
        "id": "z7PGopauIO6D"
      },
      "outputs": [],
      "source": [
        "del print"
      ]
    },
    {
      "cell_type": "code",
      "source": [
        "print(5) #진짜네"
      ],
      "metadata": {
        "colab": {
          "base_uri": "https://localhost:8080/"
        },
        "id": "eugKBm1hMIKh",
        "outputId": "156d527b-1ee9-4e6f-b289-d5a4d66ed06f"
      },
      "execution_count": null,
      "outputs": [
        {
          "output_type": "stream",
          "name": "stdout",
          "text": [
            "5\n"
          ]
        }
      ]
    },
    {
      "cell_type": "markdown",
      "metadata": {
        "id": "65x6Q2J5IO6D"
      },
      "source": [
        "## 사용자 입력(input)"
      ]
    },
    {
      "cell_type": "markdown",
      "metadata": {
        "id": "Mllm6ZHkIO6D"
      },
      "source": [
        "### input([prompt])\n",
        "* 사용자로부터 값을 즉시 입력 받을 수 있는 파이썬 내장함수입니다.\n",
        "* 대괄호([]) 안에 문자열을 입력하면 해당 문자열을 출력할 수 있습니다.\n",
        "    - 단, 대괄호는 생략합니다.\n",
        "    ```python\n",
        "    # ex)\n",
        "    input('값을 입력해 주세요. : ')\n",
        "    ```"
      ]
    },
    {
      "cell_type": "code",
      "execution_count": null,
      "metadata": {
        "id": "z8B-bHkzIO6D"
      },
      "outputs": [],
      "source": [
        "# input()을 사용해 봅시다.\n",
        "# data 변수에 input()의 반환값을 할당합니다.\n",
        "# print 함수를 이용하여 data 변수에 담긴 값을 출력해 봅시다."
      ]
    },
    {
      "cell_type": "code",
      "execution_count": null,
      "metadata": {
        "colab": {
          "base_uri": "https://localhost:8080/"
        },
        "id": "IW2K9PQgIO6D",
        "outputId": "26072222-f500-4af9-8f55-8342a7f2a529"
      },
      "outputs": [
        {
          "output_type": "stream",
          "name": "stdout",
          "text": [
            "윤대혁입니다\n",
            "윤대혁입니다\n"
          ]
        }
      ],
      "source": [
        "data = input()\n",
        "\n",
        "print(data)"
      ]
    },
    {
      "cell_type": "code",
      "execution_count": null,
      "metadata": {
        "id": "96p2wj3sIO6E"
      },
      "outputs": [],
      "source": [
        "# 문자열 '이름을 입력 해 주세요. : '를 출력하는 input 함수를 변수 name에 할당합니다.\n",
        "# print 함수를 이용하여 name 변수에 담긴 값을 출력해 봅시다."
      ]
    },
    {
      "cell_type": "code",
      "execution_count": null,
      "metadata": {
        "colab": {
          "base_uri": "https://localhost:8080/"
        },
        "id": "WrM2fsnlIO6E",
        "outputId": "82a24d8b-104e-4efa-9bfb-7f86ed490f43"
      },
      "outputs": [
        {
          "output_type": "stream",
          "name": "stdout",
          "text": [
            "이름을 입력 해 주세요. : 윤대혁\n",
            "윤대혁\n"
          ]
        }
      ],
      "source": [
        "name = input('이름을 입력 해 주세요. : ')\n",
        "\n",
        "print(name)"
      ]
    },
    {
      "cell_type": "markdown",
      "metadata": {
        "id": "f2LPpzVkIO6E"
      },
      "source": [
        "* 반환값은 항상 문자열의 형태로 반환됩니다.\n",
        "\n",
        "```python\n",
        ">>> num = input('숫자를 입력 해 주세요. : ')\n",
        "숫자를 입력 해 주세요. : 100\n",
        "    \n",
        ">>> print(num)\n",
        "'100'\n",
        "\n",
        ">>> print(type(num))\n",
        "<class 'str'>\n",
        "```"
      ]
    },
    {
      "cell_type": "code",
      "execution_count": null,
      "metadata": {
        "colab": {
          "base_uri": "https://localhost:8080/"
        },
        "id": "AY8iGrrWIO6E",
        "outputId": "918873bb-fae5-4ec3-88ff-aa4c28fc2c76"
      },
      "outputs": [
        {
          "output_type": "stream",
          "name": "stdout",
          "text": [
            "10\n",
            "<class 'str'>\n"
          ]
        }
      ],
      "source": [
        "# input()으로 입력 받은 값의 type을 출력해 봅시다.\n",
        "\n",
        "a = input()\n",
        "\n",
        "print(type(a))"
      ]
    },
    {
      "cell_type": "code",
      "execution_count": null,
      "metadata": {
        "id": "RjMRzvAkIO6E"
      },
      "outputs": [],
      "source": [
        ""
      ]
    },
    {
      "cell_type": "markdown",
      "metadata": {
        "id": "uyx5qnXXIO6E"
      },
      "source": [
        "## 주석(Comment)\n",
        "\n",
        "* 한 줄 주석은 `#`으로 표현합니다. \n",
        "\n",
        "* 여러 줄의 주석은 \n",
        "    1. 한 줄 씩 `#`을 사용해서 표현하거나,\n",
        "    2. `\"\"\"` 또는 `'''`(여러줄 문자열, multiline string)으로 표현할 수 있습니다.\n",
        "    (multiline은 주로 함수/클래스를 설명(docstring)하기 위해 활용됩니다.)"
      ]
    },
    {
      "cell_type": "code",
      "execution_count": null,
      "metadata": {
        "id": "WBETcFPoIO6E"
      },
      "outputs": [],
      "source": [
        "# 주석을 연습해봅시다. "
      ]
    },
    {
      "cell_type": "code",
      "execution_count": null,
      "metadata": {
        "colab": {
          "base_uri": "https://localhost:8080/"
        },
        "id": "nMXXovcOIO6E",
        "outputId": "df49dc6d-a129-4ab6-8bce-a29debbeffc0"
      },
      "outputs": [
        {
          "output_type": "stream",
          "name": "stdout",
          "text": [
            "world\n"
          ]
        }
      ],
      "source": [
        "# print('hello') # 이 줄은 실행되지 않습니다.\n",
        "print('world')"
      ]
    },
    {
      "cell_type": "code",
      "execution_count": null,
      "metadata": {
        "id": "HkM-Q4fwIO6F"
      },
      "outputs": [],
      "source": [
        "# 여러줄 주석을 multiline string을 활용하여 연습해봅시다."
      ]
    },
    {
      "cell_type": "code",
      "execution_count": null,
      "metadata": {
        "colab": {
          "base_uri": "https://localhost:8080/"
        },
        "id": "RoCdConJIO6F",
        "outputId": "5b0d7c69-8ec6-47cd-d3da-6ae8ca5c8e2b"
      },
      "outputs": [
        {
          "output_type": "stream",
          "name": "stdout",
          "text": [
            "world\n"
          ]
        }
      ],
      "source": [
        "\"\"\"\n",
        "이것은\n",
        "여러줄에 걸친\n",
        "주석을 만드는 코드입니다.\n",
        "\"\"\"\n",
        "print('world')"
      ]
    },
    {
      "cell_type": "markdown",
      "metadata": {
        "id": "zwlVdBNdIO6F"
      },
      "source": [
        "# 자료형(Data Type)\n",
        "\n",
        "## 자료형 분류\n",
        "- **불린형**(Boolean Type)\n",
        "- **수치형**(Numeric Type)\n",
        "    - int (정수, integer)\n",
        "    - float (부동소수점, 실수, floating point number)\n",
        "- **문자열**(String Type)\n",
        "- **None**\n",
        "    - 값이 없음을 표현하기 위한 타입\n",
        "\n",
        "\n",
        "<img width=\"634\" alt=\"자료형\" src=\"https://user-images.githubusercontent.com/45934087/148158891-fe28256b-1df4-4b83-ab51-54d06c107d20.png\">\n"
      ]
    },
    {
      "cell_type": "markdown",
      "metadata": {
        "id": "8n4D_7sQIO6F"
      },
      "source": [
        "## 불린형 (Boolean Type)\n",
        "\n",
        "파이썬에는 `True`와 `False`로 이뤄진 `bool` 타입이 있습니다.\n",
        "\n",
        "비교/논리 연산을 수행 등에서 활용됩니다.\n",
        "\n",
        "다음은 `False`로 변환됩니다.\n",
        "```\n",
        "0, 0.0, (), [], {}, '', None\n",
        "```"
      ]
    },
    {
      "cell_type": "code",
      "execution_count": null,
      "metadata": {
        "colab": {
          "base_uri": "https://localhost:8080/"
        },
        "id": "f-gQFjdiIO6F",
        "outputId": "c82a510b-3ec5-43ec-9ab9-83f0cd066bb3"
      },
      "outputs": [
        {
          "output_type": "stream",
          "name": "stdout",
          "text": [
            "<class 'bool'>\n",
            "<class 'bool'>\n"
          ]
        }
      ],
      "source": [
        "# print와 type을 이용하여 True와 False의 타입을 출력해 봅시다.\n",
        "\n",
        "print(type(True))\n",
        "print(type(False))"
      ]
    },
    {
      "cell_type": "code",
      "execution_count": null,
      "metadata": {
        "id": "IpILMgJQIO6F"
      },
      "outputs": [],
      "source": [
        ""
      ]
    },
    {
      "cell_type": "markdown",
      "metadata": {
        "id": "2I1V4VdpIO6F"
      },
      "source": [
        "- bool() 함수\n",
        "    - 특정 데이터가 True인지 False인지 검증합니다."
      ]
    },
    {
      "cell_type": "code",
      "execution_count": null,
      "metadata": {
        "id": "mKT-Eux7IO6G"
      },
      "outputs": [],
      "source": [
        "# 0, '', 1, [], -1, [1, 2, 3] 을 bool 함수를 이용하여 타입을 확인해 봅시다."
      ]
    },
    {
      "cell_type": "code",
      "execution_count": null,
      "metadata": {
        "colab": {
          "base_uri": "https://localhost:8080/"
        },
        "id": "OiflIJ3qIO6G",
        "outputId": "cb392eab-d6c1-4198-8a88-d71b4918ed40"
      },
      "outputs": [
        {
          "output_type": "stream",
          "name": "stdout",
          "text": [
            "False\n"
          ]
        }
      ],
      "source": [
        "print(bool(0))"
      ]
    },
    {
      "cell_type": "code",
      "execution_count": null,
      "metadata": {
        "colab": {
          "base_uri": "https://localhost:8080/"
        },
        "id": "itQOSpKHIO6G",
        "outputId": "a2f32084-fa5a-4b2b-ad8b-48d20325913a"
      },
      "outputs": [
        {
          "output_type": "stream",
          "name": "stdout",
          "text": [
            "False\n"
          ]
        }
      ],
      "source": [
        "print(bool(''))"
      ]
    },
    {
      "cell_type": "code",
      "execution_count": null,
      "metadata": {
        "colab": {
          "base_uri": "https://localhost:8080/"
        },
        "id": "ZTin1hJWIO6G",
        "outputId": "c8727744-6980-4875-cf9b-f292bfd4fa26"
      },
      "outputs": [
        {
          "output_type": "stream",
          "name": "stdout",
          "text": [
            "True\n"
          ]
        }
      ],
      "source": [
        "print(bool(1))"
      ]
    },
    {
      "cell_type": "code",
      "execution_count": null,
      "metadata": {
        "colab": {
          "base_uri": "https://localhost:8080/"
        },
        "id": "rE722W3NIO6G",
        "outputId": "4984d4cf-1ceb-4aa1-e738-36d44eaba330"
      },
      "outputs": [
        {
          "output_type": "stream",
          "name": "stdout",
          "text": [
            "False\n"
          ]
        }
      ],
      "source": [
        "print(bool([]))"
      ]
    },
    {
      "cell_type": "code",
      "execution_count": null,
      "metadata": {
        "colab": {
          "base_uri": "https://localhost:8080/"
        },
        "id": "ZCYciLjlIO6G",
        "outputId": "dc889948-ff18-4c23-d164-420be21fb0cd"
      },
      "outputs": [
        {
          "output_type": "stream",
          "name": "stdout",
          "text": [
            "True\n"
          ]
        }
      ],
      "source": [
        "print(bool(-1))"
      ]
    },
    {
      "cell_type": "code",
      "execution_count": null,
      "metadata": {
        "colab": {
          "base_uri": "https://localhost:8080/"
        },
        "id": "U1ZwssakIO6G",
        "outputId": "f07b615e-9a60-4ecf-8a2c-b6bd98339fe1"
      },
      "outputs": [
        {
          "output_type": "stream",
          "name": "stdout",
          "text": [
            "True\n"
          ]
        }
      ],
      "source": [
        "print(bool([1,2,3]))"
      ]
    },
    {
      "cell_type": "markdown",
      "metadata": {
        "id": "BTyWWLgcIO6G"
      },
      "source": [
        "## 수치형(Numeric Type)\n",
        "[파이썬 문서](https://docs.python.org/ko/3/library/stdtypes.html#numeric-types-int-float-complex)"
      ]
    },
    {
      "cell_type": "markdown",
      "metadata": {
        "id": "7diIAu9vIO6G"
      },
      "source": [
        "###  `int` (정수, ingteger)\n",
        "\n",
        "모든 정수는 `int`로 표현됩니다.\n",
        "\n",
        "Python3에서는 `long` 타입은 없고 모두 `int` 타입으로 표기 됩니다.\n",
        "\n",
        "* 보통 프로그래밍 언어 및 Python2에서의 long은 OS 기준 32/64비트입니다.\n",
        "* Python3에서는 모두 int로 통합되었습니다.\n",
        "\n",
        "8진수 : `0o` / 2진수 : `0b` / 16진수: `0x` 로도 표현 가능합니다. "
      ]
    },
    {
      "cell_type": "code",
      "execution_count": null,
      "metadata": {
        "colab": {
          "base_uri": "https://localhost:8080/"
        },
        "id": "u94cWvdeIO6H",
        "outputId": "dc28dad0-a35e-4a90-b0cd-e247c0927b8c"
      },
      "outputs": [
        {
          "output_type": "stream",
          "name": "stdout",
          "text": [
            "<class 'int'>\n"
          ]
        }
      ],
      "source": [
        "# 변수 a에 정수 3을 할당하고 해당 변수의 type을 알아봅시다.\n",
        "\n",
        "a = 3\n",
        "\n",
        "print(type(a))"
      ]
    },
    {
      "cell_type": "code",
      "execution_count": null,
      "metadata": {
        "id": "I5uehErcIO6H"
      },
      "outputs": [],
      "source": [
        ""
      ]
    },
    {
      "cell_type": "code",
      "execution_count": null,
      "metadata": {
        "colab": {
          "base_uri": "https://localhost:8080/"
        },
        "id": "g-8hmMhBIO6H",
        "outputId": "80589097-ebcb-4b91-f6a6-4dc789f49206"
      },
      "outputs": [
        {
          "output_type": "stream",
          "name": "stdout",
          "text": [
            "<class 'int'>\n"
          ]
        }
      ],
      "source": [
        "# 변수 a에 2의 64제곱을 할당합니다.\n",
        "# print와 type을 이용하여 a의 값과 타입을 확인해봅시다.\n",
        "\n",
        "a = 2**64\n",
        "\n",
        "print(type(a))"
      ]
    },
    {
      "cell_type": "code",
      "execution_count": null,
      "metadata": {
        "id": "yaoJz7YpIO6I"
      },
      "outputs": [],
      "source": [
        ""
      ]
    },
    {
      "cell_type": "markdown",
      "metadata": {
        "id": "4MyltC3BIO6I"
      },
      "source": [
        "**파이썬에서 표현할 수 있는 가장 큰 수**\n",
        "* 파이썬에서 가장 큰 숫자를 활용하기 위해 sys 모듈을 불러옵니다.\n",
        "* 파이썬은 기존 C 계열 프로그래밍 언어와 다르게 정수 자료형(integer)에서 오버플로우가 없습니다.\n",
        "* 임의 정밀도 산술(arbitrary-precision arithmetic)을 사용하기 때문입니다. \n",
        "\n",
        "> **오버플로우(overflow)**\n",
        "- 데이터 타입 별로 사용할 수 있는 메모리의 크기가 제한되어 있습니다.\n",
        "- 표현할 수 있는 수의 범위를 넘어가는 연산을 하게 되면, 기대했던 값이 출력되지 않는 현상, 즉 메모리를 넘어선 상황을 의미합니다.\n",
        "\n",
        "> **임의 정밀도 산술(arbitrary-precision arithmetic)**\n",
        "- 사용할 수 있는 메모리양이 정해져 있는 기존의 방식과 달리, 현재 남아있는 만큼의 가용 메모리를 모두 수 표현에 끌어다 쓸 수 있는 형태를 의미합니다.\n",
        "- 특정 값을 나타내는데 4바이트가 부족하다면 5바이트, 더 부족하면 6바이트까지 사용할 수 있게 유동적으로 운용합니다.\n"
      ]
    },
    {
      "cell_type": "code",
      "execution_count": null,
      "metadata": {
        "id": "42tsLg6VIO6I"
      },
      "outputs": [],
      "source": [
        "# 파이썬이 얼만큼 큰 숫자까지 저장할 수 있는지 확인해봅시다."
      ]
    },
    {
      "cell_type": "code",
      "execution_count": null,
      "metadata": {
        "colab": {
          "base_uri": "https://localhost:8080/"
        },
        "id": "gsbMQPIZIO6J",
        "outputId": "52ce98a7-b409-4270-930d-58493be9e613"
      },
      "outputs": [
        {
          "output_type": "stream",
          "name": "stdout",
          "text": [
            "9223372036854775807\n",
            "85070591730234615847396907784232501249\n"
          ]
        }
      ],
      "source": [
        "import sys\n",
        "max_int = sys.maxsize\n",
        "# sys.maxsize 의 값은 2**63 - 1 => 64비트에서 부호비트를 뺀 63개의 최대치\n",
        "print(max_int)\n",
        "super_max = sys.maxsize * sys.maxsize\n",
        "print(super_max)"
      ]
    },
    {
      "cell_type": "code",
      "execution_count": null,
      "metadata": {
        "id": "b5qQTijqIO6J"
      },
      "outputs": [],
      "source": [
        "# n진수를 만들어봅시다.\n",
        "# 2진수는 변수 binary_number에 0b10을 할당합니다.\n",
        "# 8진수는 변수 octal_number에 0o10을 할당합니다.\n",
        "# 10진수는 변수 decimal_number에 10을 할당합니다.\n",
        "# 16진수는 변수 hexadecimal_number에 0x10을 할당합니다.\n",
        "# 각 변수를 print를 이용해서 여러줄로 출력해봅시다."
      ]
    },
    {
      "cell_type": "code",
      "execution_count": null,
      "metadata": {
        "colab": {
          "base_uri": "https://localhost:8080/"
        },
        "id": "BjePegjfIO6J",
        "outputId": "14cdbfb4-2992-4db9-89f9-30e6e8ed8d83"
      },
      "outputs": [
        {
          "output_type": "stream",
          "name": "stdout",
          "text": [
            "2진수 : 2\n",
            "8진수 : 8\n",
            "10진수 : 10\n",
            "16진수 : 16\n",
            "\n"
          ]
        }
      ],
      "source": [
        "binary_number = 0b10\n",
        "octal_number = 0o10\n",
        "decimal_number = 10\n",
        "hexadecimal_number = 0x10\n",
        "print(f\"\"\"2진수 : {binary_number}\n",
        "8진수 : {octal_number}\n",
        "10진수 : {decimal_number}\n",
        "16진수 : {hexadecimal_number}\n",
        "\"\"\")"
      ]
    },
    {
      "cell_type": "markdown",
      "metadata": {
        "id": "LEESDRHSIO6J"
      },
      "source": [
        "### `float` (부동소수점, 실수, floating point number)\n",
        "\n",
        "실수는 `float`로 표현됩니다. \n",
        "\n",
        "다만, 실수를 컴퓨터가 표현하는 과정에서 부동소수점을 사용하며, 항상 같은 값으로 일치되지 않습니다. (floating point rounding error)\n",
        "\n",
        "이는 컴퓨터가 2진수(비트)를 통해 숫자를 표현하는 과정에서 생기는 오류이며, 대부분의 경우는 중요하지 않으나 값이 같은지 비교하는 과정에서 문제가 발생할 수 있습니다."
      ]
    },
    {
      "cell_type": "code",
      "execution_count": null,
      "metadata": {
        "colab": {
          "base_uri": "https://localhost:8080/"
        },
        "id": "nv0oBJb_IO6J",
        "outputId": "fe2d9361-72d6-4f8d-b21b-5df8033c0fc1"
      },
      "outputs": [
        {
          "output_type": "stream",
          "name": "stdout",
          "text": [
            "<class 'float'>\n"
          ]
        }
      ],
      "source": [
        "# 변수 a에 실수 3.5를 할당하고 해당 변수의 type을 알아봅시다.\n",
        "\n",
        "a = 3.5\n",
        "\n",
        "print(type(a))"
      ]
    },
    {
      "cell_type": "code",
      "execution_count": null,
      "metadata": {
        "id": "1BqpFRBkIO6J"
      },
      "outputs": [],
      "source": [
        ""
      ]
    },
    {
      "cell_type": "markdown",
      "metadata": {
        "id": "gDwN2bZ-IO6J"
      },
      "source": [
        "#### 컴퓨터식 지수 표현 방식\n",
        "* e를 사용할 수도 있습니다. (e와 E 모두 사용 가능)"
      ]
    },
    {
      "cell_type": "code",
      "execution_count": null,
      "metadata": {
        "colab": {
          "base_uri": "https://localhost:8080/"
        },
        "id": "ztzEaF2fIO6J",
        "outputId": "8529ff66-94b8-4ef1-9ab1-eb7a4341cf0e"
      },
      "outputs": [
        {
          "output_type": "stream",
          "name": "stdout",
          "text": [
            "<class 'float'>\n",
            "3.14\n"
          ]
        }
      ],
      "source": [
        "# 컴퓨터식 지수 표현 방식을 사용해봅시다.\n",
        "# 변수 b에 지수 314e-2를 할당하고 해당 변수의 type을 알아봅시다.\n",
        "# print를 이용해 변수 b의 값도 알아봅시다.\n",
        "\n",
        "b = 314e-2\n",
        "\n",
        "print(type(b))\n",
        "print(b)"
      ]
    },
    {
      "cell_type": "code",
      "execution_count": null,
      "metadata": {
        "id": "ZCh5pWSeIO6J"
      },
      "outputs": [],
      "source": [
        ""
      ]
    },
    {
      "cell_type": "markdown",
      "metadata": {
        "id": "5Rs34Z4wIO6K"
      },
      "source": [
        "#### 실수의 연산\n",
        "* 실수의 경우 실제로 값을 처리하기 위해서는 조심할 필요가 있습니다."
      ]
    },
    {
      "cell_type": "code",
      "execution_count": null,
      "metadata": {
        "id": "sfSSlp83IO6K"
      },
      "outputs": [],
      "source": [
        "# 실수의 덧셈을 해봅시다.\n",
        "# 실수 두 개를 더해봅시다. (3.5 + 3.2)"
      ]
    },
    {
      "cell_type": "code",
      "execution_count": null,
      "metadata": {
        "colab": {
          "base_uri": "https://localhost:8080/"
        },
        "id": "8VhIsSXQIO6K",
        "outputId": "fc490291-50a4-4e67-e0fc-8247546d6bf8"
      },
      "outputs": [
        {
          "output_type": "stream",
          "name": "stdout",
          "text": [
            "6.7\n"
          ]
        }
      ],
      "source": [
        "print(3.5 + 3.2)"
      ]
    },
    {
      "cell_type": "code",
      "execution_count": null,
      "metadata": {
        "id": "1Ye_1qPZIO6K"
      },
      "outputs": [],
      "source": [
        "# 실수의 뺄셈을 해봅시다. (3.5 - 3.12)"
      ]
    },
    {
      "cell_type": "code",
      "execution_count": null,
      "metadata": {
        "colab": {
          "base_uri": "https://localhost:8080/"
        },
        "id": "fmQg_0TLIO6K",
        "outputId": "a81bb033-2dad-4f56-d9b4-a59b67cd3794"
      },
      "outputs": [
        {
          "output_type": "stream",
          "name": "stdout",
          "text": [
            "0.3799999999999999\n"
          ]
        }
      ],
      "source": [
        "print(3.5 - 3.12)"
      ]
    },
    {
      "cell_type": "code",
      "execution_count": null,
      "metadata": {
        "id": "TCBvtuVFIO6K"
      },
      "outputs": [],
      "source": [
        "# 우리가 원하는대로 반올림을 해봅시다.\n",
        "# round() 는 0~4는 내림, 5는 동일하게 작동하지 않고 반올림 방식에 따라 다릅니다.\n",
        "# 짝수에서 5는 내림 / 홀수에서 5는 올림\n",
        "# round(값, 소수점자릿수)\n",
        "# 3.5 - 3.12 의 값을 반올림하는데 소수점 2자리까지 나타나게 해봅시다."
      ]
    },
    {
      "cell_type": "code",
      "execution_count": null,
      "metadata": {
        "colab": {
          "base_uri": "https://localhost:8080/"
        },
        "id": "RnB2VNfGIO6K",
        "outputId": "fb24f41b-a7f6-406f-b057-d601713e1b03"
      },
      "outputs": [
        {
          "output_type": "stream",
          "name": "stdout",
          "text": [
            "0.38\n"
          ]
        }
      ],
      "source": [
        "print(round((3.5-3.12),2))"
      ]
    },
    {
      "cell_type": "code",
      "execution_count": null,
      "metadata": {
        "id": "VqxAquRcIO6K"
      },
      "outputs": [],
      "source": [
        "# 3.5 - 3.12의 결과와 0.38의 값이 같은지 == 을 사용해서 확인해봅시다."
      ]
    },
    {
      "cell_type": "code",
      "execution_count": null,
      "metadata": {
        "colab": {
          "base_uri": "https://localhost:8080/"
        },
        "id": "E_FSGL_kIO6K",
        "outputId": "ceccc2c4-da72-4990-ed83-55388f886593"
      },
      "outputs": [
        {
          "output_type": "stream",
          "name": "stdout",
          "text": [
            "False\n"
          ]
        }
      ],
      "source": [
        "print(((3.5-3.12)==0.38))"
      ]
    },
    {
      "cell_type": "code",
      "execution_count": null,
      "metadata": {
        "id": "GKNvfgmxIO6K"
      },
      "outputs": [],
      "source": [
        "# print를 이용해서 3.5 - 3.12의 값을 확인해 봅시다."
      ]
    },
    {
      "cell_type": "code",
      "execution_count": null,
      "metadata": {
        "colab": {
          "base_uri": "https://localhost:8080/"
        },
        "id": "q8T6wtb_IO6L",
        "outputId": "4f5346af-313d-42b3-8522-180326205cff"
      },
      "outputs": [
        {
          "output_type": "stream",
          "name": "stdout",
          "text": [
            "0.3799999999999999\n"
          ]
        }
      ],
      "source": [
        "print(3.5-3.12)"
      ]
    },
    {
      "cell_type": "markdown",
      "metadata": {
        "id": "KvUX8FizIO6L"
      },
      "source": [
        "* 따라서 다음과 같은 방법으로 처리 할 수 있습니다. (이외에 다양한 방법이 있음)"
      ]
    },
    {
      "cell_type": "code",
      "execution_count": null,
      "metadata": {
        "id": "Gj6O1CSEIO6L"
      },
      "outputs": [],
      "source": [
        "# 1. 기본적인 처리방법을 알아봅시다.\n",
        "# 변수 a, b에 각각의 실수 값을 저장합니다.\n",
        "# 그리고 abs()를 이용하여 a와 b의 차이를 구합니다.\n",
        "# a와 b의 차이가 1e-10 값 이하이면 a 와 b 는 같다고 볼 수 있습니다."
      ]
    },
    {
      "cell_type": "code",
      "execution_count": null,
      "metadata": {
        "colab": {
          "base_uri": "https://localhost:8080/"
        },
        "id": "c_Iu70MgIO6L",
        "outputId": "ccfc4d69-12b3-4f3b-adfb-8eeec3870b66"
      },
      "outputs": [
        {
          "output_type": "stream",
          "name": "stdout",
          "text": [
            "True\n"
          ]
        }
      ],
      "source": [
        "a = 3.5 - 3.12\n",
        "b = 0.38\n",
        "\n",
        "print(abs(a - b) <= 1e-10)"
      ]
    },
    {
      "cell_type": "code",
      "execution_count": null,
      "metadata": {
        "id": "ctcKhAdOIO6L"
      },
      "outputs": [],
      "source": [
        "# 2. sys 모듈을 통해 처리하는 방법을 알아봅시다.\n",
        "# `epsilon` 은 부동소수점 연산에서 반올림을 함으로써 발생하는 오차 상환\n",
        "# abs() 를 이용하여 a, b의 차이를 구합니다.\n",
        "# a와 b의 차이가 sys.float_info.epsilon의 값 이하이면 a, b 는 같다고 볼 수 있습니다."
      ]
    },
    {
      "cell_type": "code",
      "execution_count": null,
      "metadata": {
        "colab": {
          "base_uri": "https://localhost:8080/"
        },
        "id": "qZoLFxx3IO6L",
        "outputId": "65925c0b-b4e0-40c0-c931-226d385f1711"
      },
      "outputs": [
        {
          "output_type": "stream",
          "name": "stdout",
          "text": [
            "True\n"
          ]
        }
      ],
      "source": [
        "import sys\n",
        "\n",
        "print(abs(a - b) <= sys.float_info.epsilon)"
      ]
    },
    {
      "cell_type": "code",
      "execution_count": null,
      "metadata": {
        "id": "UmtM3CNoIO6L"
      },
      "outputs": [],
      "source": [
        "# 3. python 3.5부터 활용 가능한 math 모듈을 통해 처리하는 법을 알아봅시다."
      ]
    },
    {
      "cell_type": "code",
      "execution_count": null,
      "metadata": {
        "colab": {
          "base_uri": "https://localhost:8080/"
        },
        "id": "cCVcLhPXIO6L",
        "outputId": "8fc26792-a053-48c1-d26b-ff7b5ba4585c"
      },
      "outputs": [
        {
          "output_type": "stream",
          "name": "stdout",
          "text": [
            "True\n"
          ]
        }
      ],
      "source": [
        "# math.isclose() 를 이용해서 a와 b의 값이 같은지 확인할수 있습니다.\n",
        "import math\n",
        "print(math.isclose(a, b))"
      ]
    },
    {
      "cell_type": "markdown",
      "metadata": {
        "id": "O_-4VYJpIO6L"
      },
      "source": [
        "## 문자열 (String Type)\n",
        "\n",
        "### 문자열\n",
        "- 모든 문자는 `str` 로 표현됩니다."
      ]
    },
    {
      "cell_type": "markdown",
      "metadata": {
        "id": "qnhDjSChIO6M"
      },
      "source": [
        "### 기본 활용법\n",
        "\n",
        "* 문자열은 Single quotes(`'`)나 Double quotes(`\"`)을 활용하여 표현 가능합니다.\n",
        "\n",
        "* 단, 문자열을 묶을 때 동일한 문장부호를 활용해야하며, `PEP-8`에서는 **하나의 문장부호를 선택**하여 유지하도록 하고 있습니다. \n",
        "(Pick a rule and Stick to it)"
      ]
    },
    {
      "cell_type": "code",
      "execution_count": null,
      "metadata": {
        "id": "e_zprsXIIO6M"
      },
      "outputs": [],
      "source": [
        "# 문자열 hello 를 출력해 봅시다.\n",
        "# 문자열 hello의 타입을 출력해 봅시다."
      ]
    },
    {
      "cell_type": "code",
      "execution_count": null,
      "metadata": {
        "colab": {
          "base_uri": "https://localhost:8080/"
        },
        "id": "eJEmt38tIO6M",
        "outputId": "5fd7e798-7103-457c-cf16-f29e3a1fb984"
      },
      "outputs": [
        {
          "output_type": "stream",
          "name": "stdout",
          "text": [
            "hello\n",
            "<class 'str'>\n"
          ]
        }
      ],
      "source": [
        "print('hello')\n",
        "\n",
        "print(type('hello'))"
      ]
    },
    {
      "cell_type": "code",
      "execution_count": null,
      "metadata": {
        "id": "13VyCHCfIO6M"
      },
      "outputs": [],
      "source": [
        "# 문자열 철수 '안녕' 을 출력해 봅시다.\n",
        "# 문자열 철수 \"안녕\" 을 출력해 봅시다."
      ]
    },
    {
      "cell_type": "code",
      "execution_count": null,
      "metadata": {
        "colab": {
          "base_uri": "https://localhost:8080/"
        },
        "id": "JWO24fmnIO6M",
        "outputId": "4e1fe70f-6bb3-4eae-a078-1344b9d0e4e6"
      },
      "outputs": [
        {
          "output_type": "stream",
          "name": "stdout",
          "text": [
            "철수 '안녕'\n",
            "철수 \"안녕\"\n"
          ]
        }
      ],
      "source": [
        "print(\"철수 '안녕'\")\n",
        "\n",
        "print('철수 \"안녕\"')"
      ]
    },
    {
      "cell_type": "code",
      "execution_count": null,
      "metadata": {
        "id": "q0Pj4JcRIO6M"
      },
      "outputs": [],
      "source": [
        "# 변수에 문자열을 할당하고 출력해봅시다.\n",
        "# 변수 greeting 에 hi를 name 에 'ssafy'를 할당합시다. \n",
        "# 그리고 각각의 변수를 print로 찍어보고 type도 확인해봅시다."
      ]
    },
    {
      "cell_type": "code",
      "execution_count": null,
      "metadata": {
        "colab": {
          "base_uri": "https://localhost:8080/"
        },
        "id": "w4GADvYUIO6M",
        "outputId": "819fb21b-0401-4e9a-dd11-1fb0b82c0c69"
      },
      "outputs": [
        {
          "output_type": "stream",
          "name": "stdout",
          "text": [
            "hi\n",
            "<class 'str'>\n",
            "ssafy\n",
            "<class 'str'>\n"
          ]
        }
      ],
      "source": [
        "greeting = 'hi'\n",
        "\n",
        "name = 'ssafy'\n",
        "\n",
        "print(greeting)\n",
        "print(type(greeting))\n",
        "\n",
        "print(name)\n",
        "print(type(name))"
      ]
    },
    {
      "cell_type": "code",
      "execution_count": null,
      "metadata": {
        "id": "DGhLNC8TIO6M"
      },
      "outputs": [],
      "source": [
        "# 변수 age 에 사용자로 부터 입력을 받을 수 있는 input()의 결과를 저장합시다.\n",
        "# age 에 입력받은 값이 저장되었는지 그리고 그 type이 무엇인지 확인해봅시다.\n",
        "# 숫자를 할당했을때와 문자를 할당했을때의 type이 같은지 다른지도 확인해봅시다."
      ]
    },
    {
      "cell_type": "code",
      "execution_count": null,
      "metadata": {
        "colab": {
          "base_uri": "https://localhost:8080/"
        },
        "id": "HvTOUYAoIO6M",
        "outputId": "beab0fdd-9e14-4efe-dc62-d137bbf20208"
      },
      "outputs": [
        {
          "output_type": "stream",
          "name": "stdout",
          "text": [
            "윤대혁\n",
            "윤대혁\n",
            "<class 'str'>\n"
          ]
        }
      ],
      "source": [
        "#문자쓰기\n",
        "age = input()\n",
        "\n",
        "print(age)\n",
        "print(type(age))"
      ]
    },
    {
      "cell_type": "code",
      "source": [
        "#숫자쓰기\n",
        "\n",
        "age = input()\n",
        "\n",
        "print(age)\n",
        "print(type(age))"
      ],
      "metadata": {
        "colab": {
          "base_uri": "https://localhost:8080/"
        },
        "id": "4-7MIoToVkgz",
        "outputId": "565adfa7-5e4c-41cf-a271-ba7064c9db4e"
      },
      "execution_count": null,
      "outputs": [
        {
          "output_type": "stream",
          "name": "stdout",
          "text": [
            "3\n",
            "3\n",
            "<class 'str'>\n"
          ]
        }
      ]
    },
    {
      "cell_type": "markdown",
      "metadata": {
        "id": "-tfvRVKnIO6M"
      },
      "source": [
        "- Immutable\n",
        "\n",
        "문자열을 변경할 수 없음"
      ]
    },
    {
      "cell_type": "code",
      "execution_count": null,
      "metadata": {
        "colab": {
          "base_uri": "https://localhost:8080/",
          "height": 193
        },
        "id": "S0abcxOwIO6N",
        "outputId": "9a73a097-f36f-4a50-c9a9-ee393f15da13"
      },
      "outputs": [
        {
          "output_type": "error",
          "ename": "TypeError",
          "evalue": "ignored",
          "traceback": [
            "\u001b[0;31m---------------------------------------------------------------------------\u001b[0m",
            "\u001b[0;31mTypeError\u001b[0m                                 Traceback (most recent call last)",
            "\u001b[0;32m<ipython-input-64-b1d7cb462c9c>\u001b[0m in \u001b[0;36m<module>\u001b[0;34m()\u001b[0m\n\u001b[1;32m      1\u001b[0m \u001b[0ma\u001b[0m \u001b[0;34m=\u001b[0m \u001b[0;34m'my string?'\u001b[0m\u001b[0;34m\u001b[0m\u001b[0;34m\u001b[0m\u001b[0m\n\u001b[0;32m----> 2\u001b[0;31m \u001b[0ma\u001b[0m\u001b[0;34m[\u001b[0m\u001b[0;34m-\u001b[0m\u001b[0;36m1\u001b[0m\u001b[0;34m]\u001b[0m \u001b[0;34m=\u001b[0m \u001b[0;34m'!'\u001b[0m\u001b[0;34m\u001b[0m\u001b[0;34m\u001b[0m\u001b[0m\n\u001b[0m",
            "\u001b[0;31mTypeError\u001b[0m: 'str' object does not support item assignment"
          ]
        }
      ],
      "source": [
        "a = 'my string?'\n",
        "a[-1] = '!'"
      ]
    },
    {
      "cell_type": "markdown",
      "metadata": {
        "id": "uYAzUTJKIO6N"
      },
      "source": [
        "- Iterable\n",
        "\n",
        "문자열을 순회 가능함"
      ]
    },
    {
      "cell_type": "code",
      "execution_count": null,
      "metadata": {
        "colab": {
          "base_uri": "https://localhost:8080/"
        },
        "id": "TspA03TNIO6N",
        "outputId": "05470a18-74e7-468a-a739-0e80d6531057"
      },
      "outputs": [
        {
          "output_type": "stream",
          "name": "stdout",
          "text": [
            "1\n",
            "2\n",
            "3\n"
          ]
        }
      ],
      "source": [
        "a = '123'\n",
        "for char in a:\n",
        "    print(char)"
      ]
    },
    {
      "cell_type": "markdown",
      "metadata": {
        "id": "b4BYGc4eIO6N"
      },
      "source": [
        "### 중첩 따옴표 (Nested Quotes)\n",
        "따옴표 안에 따옴표를 표현할 경우 아래와 같이 사용할 수 있습니다."
      ]
    },
    {
      "cell_type": "markdown",
      "metadata": {
        "id": "26bjEFj5IO6N"
      },
      "source": [
        "- 작은따옴표: `'\"큰\" 따옴표를 담을 수 있습니다'`"
      ]
    },
    {
      "cell_type": "code",
      "execution_count": null,
      "metadata": {
        "colab": {
          "base_uri": "https://localhost:8080/"
        },
        "id": "7f30swIGIO6N",
        "outputId": "af294fa6-56e0-4c04-c730-f49407c8e5a6"
      },
      "outputs": [
        {
          "output_type": "stream",
          "name": "stdout",
          "text": [
            "문자열 안에 \"작은 따옴표\"를 사용하려면 큰 따옴표로 묶는다.\n"
          ]
        }
      ],
      "source": [
        "print('문자열 안에 \"작은 따옴표\"를 사용하려면 큰 따옴표로 묶는다.')"
      ]
    },
    {
      "cell_type": "markdown",
      "metadata": {
        "id": "TJE0v16MIO6N"
      },
      "source": [
        "- 큰따옴표: `\"'작은' 따옴표를 담을 수 있습니다\"`"
      ]
    },
    {
      "cell_type": "code",
      "execution_count": null,
      "metadata": {
        "colab": {
          "base_uri": "https://localhost:8080/"
        },
        "id": "9HMf05lTIO6N",
        "outputId": "8b2183a5-3fd6-43f2-8850-ae048682b396"
      },
      "outputs": [
        {
          "output_type": "stream",
          "name": "stdout",
          "text": [
            "문자열 안에 '작은 따옴표'를 사용하려면 큰 따옴표로 묶는다.\n"
          ]
        }
      ],
      "source": [
        "print(\"문자열 안에 '작은 따옴표'를 사용하려면 큰 따옴표로 묶는다.\")"
      ]
    },
    {
      "cell_type": "markdown",
      "metadata": {
        "id": "NP-Xko40IO6N"
      },
      "source": [
        "### 삼중 따옴표 (Triple Quotes)\n",
        "작은 따옴표나 큰 따옴표를 삼중으로 사용합니다.\n",
        "\n",
        "- 문자열 안에 따옴표를 넣을 때 사용합니다.\n",
        "\n",
        "- 여러줄에 걸쳐있는 문장은 다음과 같이 표현 가능합니다.\n",
        "\n",
        "* `PEP-8`에 따르면 이 경우에는 반드시 `\"\"\"`를 사용하도록 규정합니다."
      ]
    },
    {
      "cell_type": "code",
      "execution_count": null,
      "metadata": {
        "id": "NQpckA9oIO6O"
      },
      "outputs": [],
      "source": [
        "# 아래 작성된 내용을 삼중 따옴표와 하나의 print 문을 사용하여 출력해 봅시다."
      ]
    },
    {
      "cell_type": "markdown",
      "metadata": {
        "id": "H-hmPieIIO6O"
      },
      "source": [
        "문자열 안에 '작은 따옴표'나\n",
        "\n",
        "\"큰 따옴표\"를 사용할 수 있고\n",
        "\n",
        "여러 줄을 사용할 때도 편리하다."
      ]
    },
    {
      "cell_type": "code",
      "execution_count": null,
      "metadata": {
        "colab": {
          "base_uri": "https://localhost:8080/"
        },
        "id": "ByPl_QvyIO6O",
        "outputId": "8e6d12c3-bfba-4646-9448-c9d470fe8aec"
      },
      "outputs": [
        {
          "output_type": "stream",
          "name": "stdout",
          "text": [
            "\n",
            "개행문자 없이\n",
            "여러 줄을 그대로 출력 가능합니다.\n",
            "\n"
          ]
        }
      ],
      "source": [
        "print(\"\"\"\n",
        "개행문자 없이\n",
        "여러 줄을 그대로 출력 가능합니다.\n",
        "\"\"\")"
      ]
    },
    {
      "cell_type": "code",
      "source": [
        "print(\"\"\"문자열 안에 '작은 따옴표'나\n",
        "\"큰 따옴표\"를 사용할 수 있고\n",
        "여러 줄을 사용할 때도 편리하다.\"\"\")"
      ],
      "metadata": {
        "colab": {
          "base_uri": "https://localhost:8080/"
        },
        "id": "SWPeKFGOWEqD",
        "outputId": "6701e2e9-83ff-45c0-ae2f-a1eaa86756be"
      },
      "execution_count": null,
      "outputs": [
        {
          "output_type": "stream",
          "name": "stdout",
          "text": [
            "문자열 안에 '작은 따옴표'나\n",
            "\"큰 따옴표\"를 사용할 수 있고\n",
            "여러 줄을 사용할 때도 편리하다.\n"
          ]
        }
      ]
    },
    {
      "cell_type": "markdown",
      "metadata": {
        "id": "C17nAYpBIO6O"
      },
      "source": [
        "### 이스케이프 시퀀스 (Escape sequence)\n",
        "\n",
        "문자열을 활용하는 경우 특수문자 혹은 조작을 하기 위하여 사용되는 것으로 역슬래시 `\\`를 활용하여 이를 구분합니다. \n",
        "\n",
        "|<center>예약문자</center>|내용(의미)|\n",
        "|:--------:|:--------:|\n",
        "|\\n|줄 바꿈|\n",
        "|\\t|탭|\n",
        "|\\r|캐리지리턴|\n",
        "|\\0|널(Null)|\n",
        "|\\\\\\\\ |`\\`|\n",
        "|\\\\'|단일인용부호(`'`)|\n",
        "|\\\\\"|이중인용부호(`\"`)|"
      ]
    },
    {
      "cell_type": "code",
      "execution_count": null,
      "metadata": {
        "id": "QA5E1F9kIO6O"
      },
      "outputs": [],
      "source": [
        "# 다음 문자열을 작은 따옴표와 escape sequence만을 사용하여 출력해 봅시다.\n",
        "# 철수야 '안녕'"
      ]
    },
    {
      "cell_type": "code",
      "execution_count": null,
      "metadata": {
        "colab": {
          "base_uri": "https://localhost:8080/"
        },
        "id": "Ibwe-RZtIO6O",
        "outputId": "d1888ad4-02c1-4601-aec7-648a3eeab364"
      },
      "outputs": [
        {
          "output_type": "stream",
          "name": "stdout",
          "text": [
            "철수야 '안녕'\n"
          ]
        }
      ],
      "source": [
        "print('철수야 \\'안녕\\'')"
      ]
    },
    {
      "cell_type": "code",
      "execution_count": null,
      "metadata": {
        "id": "m_fyjwEQIO6O"
      },
      "outputs": [],
      "source": [
        "# 다음 문자열을 하나의 print 함수에서 출력해 봅시다.\n",
        "# escape sequence를 이용합니다."
      ]
    },
    {
      "cell_type": "markdown",
      "metadata": {
        "id": "1bBCFVYbIO6O"
      },
      "source": [
        "이 다음은 엔터.\n",
        "그리고 탭    탭"
      ]
    },
    {
      "cell_type": "code",
      "execution_count": null,
      "metadata": {
        "colab": {
          "base_uri": "https://localhost:8080/"
        },
        "id": "5N7ejDpUIO6P",
        "outputId": "5467ef2b-537e-45a9-c212-55e2b55defa4"
      },
      "outputs": [
        {
          "output_type": "stream",
          "name": "stdout",
          "text": [
            "이 다음은 엔터. \n",
            "그리고 탭\t탭\n"
          ]
        }
      ],
      "source": [
        "print('이 다음은 엔터. \\n그리고 탭\\t탭')"
      ]
    },
    {
      "cell_type": "markdown",
      "metadata": {
        "id": "8WL2FvQNIO6P"
      },
      "source": [
        "### String interpolation \n",
        "\n",
        "* `%-formatting` \n",
        "\n",
        "    * `%d` : 정수\n",
        "    \n",
        "    * `%f` : 실수\n",
        "    \n",
        "    * `%s` : 문자열\n",
        "\n",
        "* [`str.format()` ](https://pyformat.info/)\n",
        "\n",
        "* [`f-strings`](https://www.python.org/dev/peps/pep-0498/) : 파이썬 3.6 이후 버전에서 지원"
      ]
    },
    {
      "cell_type": "code",
      "execution_count": null,
      "metadata": {
        "id": "ttyTnprnIO6P"
      },
      "outputs": [],
      "source": [
        "# name 변수에 이름, score 변수에 학점을 할당해봅시다."
      ]
    },
    {
      "cell_type": "code",
      "execution_count": null,
      "metadata": {
        "id": "tErkwMKPIO6P"
      },
      "outputs": [],
      "source": [
        "name = '윤대혁'\n",
        "\n",
        "score = 100"
      ]
    },
    {
      "cell_type": "code",
      "execution_count": null,
      "metadata": {
        "id": "0DQq3nE8IO6P"
      },
      "outputs": [],
      "source": [
        "# %-formatting을 활용해봅시다.\n",
        "# print를 이용하여 name 을 출력해봅시다..\n",
        "# print를 이용하여 score를 정수 형태로 출력해봅시다.\n",
        "# print를 이용하여 score를 실수 형태로 출력해봅시다."
      ]
    },
    {
      "cell_type": "code",
      "execution_count": null,
      "metadata": {
        "colab": {
          "base_uri": "https://localhost:8080/"
        },
        "id": "TDyqWKx0IO6P",
        "outputId": "a4a48ea5-ee4f-46d5-9984-5df3c5f36271"
      },
      "outputs": [
        {
          "output_type": "stream",
          "name": "stdout",
          "text": [
            "윤대혁\n",
            "100\n",
            "100.000000\n"
          ]
        }
      ],
      "source": [
        "print('%s' % (name))\n",
        "print('%d' % (score))\n",
        "print('%f' % (score))"
      ]
    },
    {
      "cell_type": "code",
      "execution_count": null,
      "metadata": {
        "id": "0rjcbBurIO6P"
      },
      "outputs": [],
      "source": [
        "# str.format()을 활용해봅시다.\n",
        "# name 을 출력해봅시다."
      ]
    },
    {
      "cell_type": "code",
      "execution_count": null,
      "metadata": {
        "colab": {
          "base_uri": "https://localhost:8080/"
        },
        "id": "5TNYZLKDIO6P",
        "outputId": "7135e8de-6b8a-4885-8d38-5bbe9b26de43"
      },
      "outputs": [
        {
          "output_type": "stream",
          "name": "stdout",
          "text": [
            "윤대혁\n"
          ]
        }
      ],
      "source": [
        "print('{}'.format(name))"
      ]
    },
    {
      "cell_type": "code",
      "execution_count": null,
      "metadata": {
        "id": "MeY_t23hIO6P"
      },
      "outputs": [],
      "source": [
        "# f-string을 활용해봅시다.\n",
        "# name 을 출력해봅시다."
      ]
    },
    {
      "cell_type": "code",
      "execution_count": null,
      "metadata": {
        "colab": {
          "base_uri": "https://localhost:8080/"
        },
        "id": "Qq0rPUbBIO6Q",
        "outputId": "1b43a62f-a74c-4313-9c9d-4d9e654f6035"
      },
      "outputs": [
        {
          "output_type": "stream",
          "name": "stdout",
          "text": [
            "윤대혁\n"
          ]
        }
      ],
      "source": [
        "print(f'{name}')"
      ]
    },
    {
      "cell_type": "code",
      "execution_count": null,
      "metadata": {
        "id": "T2QKooT1IO6Q"
      },
      "outputs": [],
      "source": [
        "# 여러줄 문자열에서도 사용 가능합니다.\n",
        "# f-string을 이용하여 name을 여러줄 문자열로 출력해봅시다."
      ]
    },
    {
      "cell_type": "code",
      "execution_count": null,
      "metadata": {
        "colab": {
          "base_uri": "https://localhost:8080/"
        },
        "id": "mS7Hd3GJIO6Q",
        "outputId": "d026474d-e070-4340-9f1c-bdb49ea88b11"
      },
      "outputs": [
        {
          "output_type": "stream",
          "name": "stdout",
          "text": [
            "\n",
            "Hello,\n",
            "윤대혁\n",
            "\n"
          ]
        }
      ],
      "source": [
        "print(f\"\"\"\n",
        "Hello,\n",
        "{name}\n",
        "\"\"\")"
      ]
    },
    {
      "cell_type": "markdown",
      "metadata": {
        "id": "CkwIK-NGIO6Q"
      },
      "source": [
        "* f-strings에서는 형식을 지정할 수 있습니다."
      ]
    },
    {
      "cell_type": "code",
      "execution_count": null,
      "metadata": {
        "id": "072vOGvhIO6Q"
      },
      "outputs": [],
      "source": [
        "# 다양한 형식을 활용하기 위해 datetime 모듈로 오늘을 표현해봅시다.\n",
        "# today 에 현재 시간 날짜를 할당해봅시다.\n",
        "# print를 이용하여 today를 출력해봅시다."
      ]
    },
    {
      "cell_type": "code",
      "execution_count": null,
      "metadata": {
        "colab": {
          "base_uri": "https://localhost:8080/"
        },
        "id": "UNed9FtBIO6Q",
        "outputId": "4ca90294-54c2-461d-fccf-ca3719ecf3a4"
      },
      "outputs": [
        {
          "output_type": "stream",
          "name": "stdout",
          "text": [
            "2022-07-19 02:49:47.206890\n"
          ]
        }
      ],
      "source": [
        "import datetime\n",
        "today = datetime.datetime.now()\n",
        "print(today)"
      ]
    },
    {
      "cell_type": "code",
      "execution_count": null,
      "metadata": {
        "id": "17SOmtdaIO6Q"
      },
      "outputs": [],
      "source": [
        "# interpolation에서 출력형식을 지정할 수 있습니다.\n",
        "# today에 저장된 시간을 YYYY년, mm월, dd일, a요일 로 구분해서 출력해봅시다.\n",
        "# 각각 %y, %m, %d, %A를 사용합니다."
      ]
    },
    {
      "cell_type": "code",
      "execution_count": null,
      "metadata": {
        "colab": {
          "base_uri": "https://localhost:8080/"
        },
        "id": "gvAcKHkcIO6Q",
        "outputId": "798d009d-afe0-4d8a-f56e-47bb76b00692"
      },
      "outputs": [
        {
          "output_type": "stream",
          "name": "stdout",
          "text": [
            "오늘은 22년 07월 19일 Tuesday\n"
          ]
        }
      ],
      "source": [
        "print(f'오늘은 {today:%y}년 {today:%m}월 {today:%d}일 {today:%A}')"
      ]
    },
    {
      "cell_type": "code",
      "source": [
        "print(f'오늘은 {today:%Y}년 {today:%m}월 {today:%d}일 {today:%A}')"
      ],
      "metadata": {
        "colab": {
          "base_uri": "https://localhost:8080/"
        },
        "id": "I14mgPHkXWUq",
        "outputId": "26f80ac7-405f-43d5-eca8-56610f0d4c09"
      },
      "execution_count": null,
      "outputs": [
        {
          "output_type": "stream",
          "name": "stdout",
          "text": [
            "오늘은 2022년 07월 19일 Tuesday\n"
          ]
        }
      ]
    },
    {
      "cell_type": "markdown",
      "metadata": {
        "id": "w407K9OoIO6Q"
      },
      "source": [
        "* f-strings에서는 연산과 출력형식 지정도 가능합니다."
      ]
    },
    {
      "cell_type": "code",
      "execution_count": null,
      "metadata": {
        "id": "ANFuRIa1IO6Q"
      },
      "outputs": [],
      "source": [
        "# string interpolation을 통해 출력형식 지정 뿐만 아니라, 연산도 가능합니다.\n",
        "# pi = 3.141592를 할당하고 \n",
        "# 원주율은 3.14. 반지를이 2일 때 원의 넓이는 12.566368이라고 출력해봅시다."
      ]
    },
    {
      "cell_type": "code",
      "execution_count": null,
      "metadata": {
        "colab": {
          "base_uri": "https://localhost:8080/"
        },
        "id": "UkTg_Rx1IO6R",
        "outputId": "f831bbe4-943b-4fdd-8524-37dc893cfee6"
      },
      "outputs": [
        {
          "output_type": "stream",
          "name": "stdout",
          "text": [
            "원주율은 3.14. 반지름이 2일 때 원의 넓이는 12.566368\n"
          ]
        }
      ],
      "source": [
        "pi = 3.141592\n",
        "\n",
        "print(f\"원주율은 {pi:.3}. 반지름이 2일 때 원의 넓이는 {pi*(2**2)}\") #소수점 셋째자리에서 반올림"
      ]
    },
    {
      "cell_type": "markdown",
      "metadata": {
        "id": "2Qn6WCf1IO6R"
      },
      "source": [
        "## None Type\n",
        "\n",
        "파이썬에서는 값이 없음을 표현하기 위해 `None` 타입이 존재합니다."
      ]
    },
    {
      "cell_type": "code",
      "execution_count": null,
      "metadata": {
        "id": "RV_0KguKIO6R"
      },
      "outputs": [],
      "source": [
        "# None의 타입을 알아봅시다."
      ]
    },
    {
      "cell_type": "code",
      "execution_count": null,
      "metadata": {
        "colab": {
          "base_uri": "https://localhost:8080/"
        },
        "id": "5aTQqlUEIO6R",
        "outputId": "49bb817f-1286-4b67-c381-64ad03a0ebf1"
      },
      "outputs": [
        {
          "output_type": "stream",
          "name": "stdout",
          "text": [
            "<class 'NoneType'>\n"
          ]
        }
      ],
      "source": [
        "print(type(None))"
      ]
    },
    {
      "cell_type": "code",
      "execution_count": null,
      "metadata": {
        "id": "w2zIHCEeIO6R"
      },
      "outputs": [],
      "source": [
        "# 변수에 저장해서 확인해봅시다.\n",
        "# 변수 a에 None을 할당하고 출력해봅시다."
      ]
    },
    {
      "cell_type": "code",
      "execution_count": null,
      "metadata": {
        "colab": {
          "base_uri": "https://localhost:8080/"
        },
        "id": "gcdyJCPJIO6R",
        "outputId": "67ab1947-757e-4ff4-da8d-2dfe9b65adfa"
      },
      "outputs": [
        {
          "output_type": "stream",
          "name": "stdout",
          "text": [
            "None\n"
          ]
        }
      ],
      "source": [
        "a = None\n",
        "\n",
        "print(a)"
      ]
    },
    {
      "cell_type": "markdown",
      "metadata": {
        "id": "4b9YVv2AIO6R"
      },
      "source": [
        "# 컨테이너(Container)\n",
        "\n",
        "여러 개의 값을 저장할 수 있는 것(객체)을 의미하며, `서로 다른 자료형`을 저장 할 수 있습니다.\n",
        "\n",
        "### 컨테이너 분류\n",
        "- 시퀀스(Sequence)형 : 순서가 있는(ordered) 데이터\n",
        "- 비 시퀀스(Non-sequence)형 : 순서가 없는(unordered) 데이터\n",
        "\n",
        "<img width=\"712\" alt=\"container\" src=\"https://user-images.githubusercontent.com/45934087/148164052-3b12d3a2-a95e-4d4d-ae25-86ca1ba9657b.png\">"
      ]
    },
    {
      "cell_type": "markdown",
      "metadata": {
        "id": "83fNBoLEIO6R"
      },
      "source": [
        "## 시퀀스(sequence)형 컨테이너\n",
        "\n",
        "`시퀀스`는 데이터가 순서대로 나열된(ordered) 형식을 나타냅니다. \n",
        "\n",
        "* **주의! 순서대로 나열된 것이 `정렬되었다(sorted)`라는 뜻은 아닙니다.**\n",
        "\n",
        "### 특징\n",
        "1. 순서가 있습니다.\n",
        "\n",
        "2. **특정 위치의 데이터를 가리킬 수 있습니다.**\n",
        "\n",
        "### 종류\n",
        "파이썬에서 기본적인 시퀀스 타입은 다음과 같습니다.\n",
        "\n",
        "* 리스트(list)\n",
        "\n",
        "* 튜플(tuple)\n",
        "\n",
        "* 레인지(range)\n",
        "\n",
        "* *문자형(string)*\n",
        "\n",
        "* *바이너리(binary)* : 다루지 않습니다.\n"
      ]
    },
    {
      "cell_type": "markdown",
      "metadata": {
        "id": "1L-dAbY_IO6R"
      },
      "source": [
        "\n",
        "### 리스트 (List)\n",
        "\n",
        "<center><img src=\"https://user-images.githubusercontent.com/18046097/61180421-fe90ae80-a650-11e9-8211-d06f87756d05.png\", alt=\"list figure\"/></center>"
      ]
    },
    {
      "cell_type": "markdown",
      "metadata": {
        "id": "cDmXSssBIO6S"
      },
      "source": [
        "**생성과 접근**\n",
        "```python\n",
        "[value1, value2, value3]\n",
        "```\n",
        "\n",
        "리스트는 대괄호`[]` 및 `list()` 를 통해 만들 수 있습니다."
      ]
    },
    {
      "cell_type": "code",
      "execution_count": null,
      "metadata": {
        "id": "c_iPhJ96IO6S"
      },
      "outputs": [],
      "source": [
        "# 빈 list를 만들어봅시다.\n",
        "# 변수명 my_list인 list를 대괄호로 만들어봅시다.\n",
        "# 변수명 another_list인 list를 list()로 만들어 봅시다.\n",
        "# 두 변수의 타입을 출력해 봅시다."
      ]
    },
    {
      "cell_type": "code",
      "execution_count": null,
      "metadata": {
        "colab": {
          "base_uri": "https://localhost:8080/"
        },
        "id": "MlpKpeJBIO6S",
        "outputId": "68830c24-fa09-4fea-98e5-ced44db1d02e"
      },
      "outputs": [
        {
          "output_type": "stream",
          "name": "stdout",
          "text": [
            "<class 'list'>\n",
            "<class 'list'>\n"
          ]
        }
      ],
      "source": [
        "my_list = []\n",
        "\n",
        "another_list = list()\n",
        "\n",
        "print(type(my_list))\n",
        "print(type(another_list))"
      ]
    },
    {
      "cell_type": "code",
      "execution_count": null,
      "metadata": {
        "id": "EOOKFi_nIO6S"
      },
      "outputs": [],
      "source": [
        "# 원소를 포함한 list를 만들어 봅시다.\n",
        "# 변수명이 location인 list에 ssafy 지역 5곳을 원소로 포함해 만들어 봅시다.\n",
        "# 변수 location을 출력해 봅시다.\n",
        "# location의 타입을 출력해 봅시다."
      ]
    },
    {
      "cell_type": "code",
      "execution_count": null,
      "metadata": {
        "colab": {
          "base_uri": "https://localhost:8080/"
        },
        "id": "pdgnAcwEIO6S",
        "outputId": "deb4044b-cddc-4db1-9a4e-8884e446e6e9"
      },
      "outputs": [
        {
          "output_type": "stream",
          "name": "stdout",
          "text": [
            "['서울', '광주', '대전', '부울경', '구미']\n",
            "<class 'list'>\n"
          ]
        }
      ],
      "source": [
        "location = ['서울','광주','대전','부울경','구미']\n",
        "\n",
        "print(location)\n",
        "print(type(location))"
      ]
    },
    {
      "cell_type": "code",
      "execution_count": null,
      "metadata": {
        "id": "lgBkyIsfIO6S"
      },
      "outputs": [],
      "source": [
        "# location의 첫번째 값을 인덱스로 접근해 봅시다."
      ]
    },
    {
      "cell_type": "code",
      "execution_count": null,
      "metadata": {
        "colab": {
          "base_uri": "https://localhost:8080/"
        },
        "id": "KVDH6J5WIO6S",
        "outputId": "5f090165-8363-4ff7-a9e9-b6267eda0edc"
      },
      "outputs": [
        {
          "output_type": "stream",
          "name": "stdout",
          "text": [
            "서울\n"
          ]
        }
      ],
      "source": [
        "print(location[0])"
      ]
    },
    {
      "cell_type": "markdown",
      "metadata": {
        "id": "bMNUYuGqIO6S"
      },
      "source": [
        "\n",
        "순서가 있는 시퀀스로 인덱스를 통해 접근 가능합니다.\n",
        "- 값에 대한 접근은 `list[i]` 방식으로 접근합니다.\n",
        "\n",
        "![image](https://user-images.githubusercontent.com/45934087/148164331-f0ff4193-6b05-4d99-bbde-dd1eef13b0b1.png)\n"
      ]
    },
    {
      "cell_type": "code",
      "execution_count": null,
      "metadata": {
        "id": "H7h0-8dIIO6S"
      },
      "outputs": [],
      "source": [
        "# 변수 boxes에 문자열 'A', 'B', 리스트 ['apple', 'banana', 'cherry']를 할당합니다."
      ]
    },
    {
      "cell_type": "code",
      "execution_count": null,
      "metadata": {
        "id": "voANOs5qIO6T"
      },
      "outputs": [],
      "source": [
        "boxes = ['A','B',['apple','banana','cherry']]"
      ]
    },
    {
      "cell_type": "code",
      "execution_count": null,
      "metadata": {
        "id": "tZsQwadkIO6T"
      },
      "outputs": [],
      "source": [
        "# boxes의 길이를 len 함수를 이용하여 출력해 봅시다."
      ]
    },
    {
      "cell_type": "code",
      "execution_count": null,
      "metadata": {
        "colab": {
          "base_uri": "https://localhost:8080/"
        },
        "id": "8r1-nuBGIO6T",
        "outputId": "6158e578-af97-454d-b197-3fed5d113006"
      },
      "outputs": [
        {
          "output_type": "execute_result",
          "data": {
            "text/plain": [
              "3"
            ]
          },
          "metadata": {},
          "execution_count": 95
        }
      ],
      "source": [
        "len(boxes)"
      ]
    },
    {
      "cell_type": "code",
      "execution_count": null,
      "metadata": {
        "id": "-pXA2whqIO6T"
      },
      "outputs": [],
      "source": [
        "# boxes의 3번째 요소를 인덱스로 접근하여 출력해 봅시다."
      ]
    },
    {
      "cell_type": "code",
      "execution_count": null,
      "metadata": {
        "colab": {
          "base_uri": "https://localhost:8080/"
        },
        "id": "JxLN3zLuIO6T",
        "outputId": "83e7247a-cdd1-4efd-95fb-925a5c2e06bb"
      },
      "outputs": [
        {
          "output_type": "stream",
          "name": "stdout",
          "text": [
            "['apple', 'banana', 'cherry']\n"
          ]
        }
      ],
      "source": [
        "print(boxes[2])"
      ]
    },
    {
      "cell_type": "code",
      "execution_count": null,
      "metadata": {
        "id": "RbXsy0RjIO6T"
      },
      "outputs": [],
      "source": [
        "# boxes의 3번째 요소들 중, 마지막 요소를 negative index로 접근하여 출력해 봅시다."
      ]
    },
    {
      "cell_type": "code",
      "execution_count": null,
      "metadata": {
        "colab": {
          "base_uri": "https://localhost:8080/"
        },
        "id": "rzSPhMDSIO6T",
        "outputId": "abc263a3-897e-4416-c1f9-aa9edddb8714"
      },
      "outputs": [
        {
          "output_type": "stream",
          "name": "stdout",
          "text": [
            "cherry\n"
          ]
        }
      ],
      "source": [
        "print(boxes[2][-1])"
      ]
    },
    {
      "cell_type": "code",
      "execution_count": null,
      "metadata": {
        "id": "1iK5SBZTIO6T"
      },
      "outputs": [],
      "source": [
        ""
      ]
    },
    {
      "cell_type": "code",
      "execution_count": null,
      "metadata": {
        "id": "F1WBBsyYIO6T"
      },
      "outputs": [],
      "source": [
        "# boxes의 마지막 요소들 중, 두번째 요소의 첫번째 문자열을 출력해 봅시다."
      ]
    },
    {
      "cell_type": "code",
      "execution_count": null,
      "metadata": {
        "colab": {
          "base_uri": "https://localhost:8080/"
        },
        "id": "DIxfbLcQIO6T",
        "outputId": "29c7fdf9-1e74-4265-bb6b-12ae2b97d9e3"
      },
      "outputs": [
        {
          "output_type": "stream",
          "name": "stdout",
          "text": [
            "b\n"
          ]
        }
      ],
      "source": [
        "print(boxes[2][1][0])"
      ]
    },
    {
      "cell_type": "code",
      "execution_count": null,
      "metadata": {
        "id": "wbHZbXIPIO6T"
      },
      "outputs": [],
      "source": [
        ""
      ]
    },
    {
      "cell_type": "markdown",
      "metadata": {
        "id": "j-foTG1aIO6T"
      },
      "source": [
        "### 튜플 (Tuple)\n",
        "\n",
        "**생성과 접근**\n",
        "```python\n",
        "(value1, value2)\n",
        "```\n",
        "\n",
        "튜플은 리스트와 유사하지만, `()`로 묶어서 표현합니다.\n",
        "\n",
        "- tuple은 수정 불가능(불변, immutable)합니다.\n",
        "\n",
        "- 직접 사용하기 보다는 파이썬 내부에서 다양한 용도로 활용되고 있습니다."
      ]
    },
    {
      "cell_type": "code",
      "execution_count": null,
      "metadata": {
        "id": "MLwb1iTFIO6U"
      },
      "outputs": [],
      "source": [
        "# tuple을 만들어봅시다.\n",
        "# 변수명이 my_tuple인 tuple을 만들어 봅시다. 단, 무작위 정수 2개를 포함하여 만듭니다.\n",
        "# my_tuple의 타입을 출력해 봅시다."
      ]
    },
    {
      "cell_type": "code",
      "execution_count": null,
      "metadata": {
        "colab": {
          "base_uri": "https://localhost:8080/"
        },
        "id": "7bt3y14CIO6U",
        "outputId": "f5246288-49e0-4b83-d496-faa766542928"
      },
      "outputs": [
        {
          "output_type": "stream",
          "name": "stdout",
          "text": [
            "<class 'tuple'>\n"
          ]
        }
      ],
      "source": [
        "my_tuple = (1, 2)\n",
        "print(type(my_tuple))"
      ]
    },
    {
      "cell_type": "code",
      "execution_count": null,
      "metadata": {
        "id": "Slb6JGQvIO6U"
      },
      "outputs": [],
      "source": [
        "# 아래와 같은 방식으로도 만들 수 있습니다."
      ]
    },
    {
      "cell_type": "code",
      "execution_count": null,
      "metadata": {
        "colab": {
          "base_uri": "https://localhost:8080/"
        },
        "id": "EoD_fXpdIO6U",
        "outputId": "8726d534-fc3f-4256-b5b7-e9affc58083a"
      },
      "outputs": [
        {
          "output_type": "stream",
          "name": "stdout",
          "text": [
            "(1, 2)\n",
            "<class 'tuple'>\n"
          ]
        }
      ],
      "source": [
        "another_tuple = 1, 2\n",
        "print(another_tuple)\n",
        "print(type(another_tuple))"
      ]
    },
    {
      "cell_type": "markdown",
      "metadata": {
        "id": "XyYm4-8LIO6U"
      },
      "source": [
        "**튜플 생성 주의 사항**\n",
        "- 단일 항목의 경우"
      ]
    },
    {
      "cell_type": "code",
      "execution_count": null,
      "metadata": {
        "colab": {
          "base_uri": "https://localhost:8080/"
        },
        "id": "KPjdJKsbIO6U",
        "outputId": "a2ecb6da-94b5-41c4-9a2a-2785c22923d2"
      },
      "outputs": [
        {
          "output_type": "stream",
          "name": "stdout",
          "text": [
            "(1,)\n",
            "<class 'tuple'>\n"
          ]
        }
      ],
      "source": [
        "# 하나의 항목으로 구성된 튜플은 생성 시 값 뒤에 쉼표를 붙여야 합니다.\n",
        "# 아래 코드를 실행하여 변수 a의 타입을 확인해 봅시다.\n",
        "a = 1,\n",
        "print(a)\n",
        "print(type(a))"
      ]
    },
    {
      "cell_type": "code",
      "execution_count": null,
      "metadata": {
        "id": "mZIFP0nqIO6U"
      },
      "outputs": [],
      "source": [
        "# 변수명이 single_tuple인 하나의 요소(값)로 구성된 tuple을 만들어 봅시다. (길이가 1)\n",
        "# 하나의 요소(값)로 구성된 tuple은 값 뒤에 쉼표를 붙여서 만듭니다.\n",
        "# single_tuple의 타입을 출력해 봅시다.\n",
        "# single_tuple의 길이를 출력해 봅시다."
      ]
    },
    {
      "cell_type": "code",
      "execution_count": null,
      "metadata": {
        "colab": {
          "base_uri": "https://localhost:8080/"
        },
        "id": "oy2dLg92IO6U",
        "outputId": "c1a2f1a5-86f2-469b-fd8c-1c629e2ec82b"
      },
      "outputs": [
        {
          "output_type": "stream",
          "name": "stdout",
          "text": [
            "<class 'tuple'>\n",
            "1\n"
          ]
        }
      ],
      "source": [
        "single_tuple = ('hello',)\n",
        "print(type(single_tuple))\n",
        "print(len(single_tuple))"
      ]
    },
    {
      "cell_type": "code",
      "execution_count": null,
      "metadata": {
        "id": "w4sI9VJRIO6U"
      },
      "outputs": [],
      "source": [
        "# 길이가 1인 tuple을 만들 때 쉼표가 없는 경우 어떻게 되는지 확인 해봅시다."
      ]
    },
    {
      "cell_type": "code",
      "execution_count": null,
      "metadata": {
        "colab": {
          "base_uri": "https://localhost:8080/"
        },
        "id": "NBM1Pub0IO6V",
        "outputId": "af1a6206-c538-491d-f1ca-c6915885ab7c"
      },
      "outputs": [
        {
          "output_type": "stream",
          "name": "stdout",
          "text": [
            "<class 'str'>\n",
            "hello\n"
          ]
        }
      ],
      "source": [
        "tuple_or_not = ('hello')\n",
        "print(type(tuple_or_not))\n",
        "print(tuple_or_not)"
      ]
    },
    {
      "cell_type": "markdown",
      "metadata": {
        "id": "jVqoB-5OIO6V"
      },
      "source": [
        "- 복수 항목의 경우"
      ]
    },
    {
      "cell_type": "code",
      "execution_count": null,
      "metadata": {
        "id": "8r8MDETwIO6V"
      },
      "outputs": [],
      "source": [
        "# 마지막 항목에 붙은 쉼표는 생략 할 수 있습니다.\n",
        "# 아래 코드를 실행하여 변수 b와 c의 타입을 확인해 봅시다."
      ]
    },
    {
      "cell_type": "code",
      "execution_count": null,
      "metadata": {
        "colab": {
          "base_uri": "https://localhost:8080/"
        },
        "id": "krIiMYiYIO6V",
        "outputId": "fb775d49-ae21-49ec-af29-3f2670350466"
      },
      "outputs": [
        {
          "output_type": "stream",
          "name": "stdout",
          "text": [
            "(1, 2, 3)\n",
            "<class 'tuple'>\n"
          ]
        }
      ],
      "source": [
        "b = 1, 2, 3\n",
        "print(b)\n",
        "print(type(b))"
      ]
    },
    {
      "cell_type": "code",
      "execution_count": null,
      "metadata": {
        "colab": {
          "base_uri": "https://localhost:8080/"
        },
        "id": "thndlIB3IO6V",
        "outputId": "4b59bd0d-063c-40b6-8ffd-c285fb547603"
      },
      "outputs": [
        {
          "output_type": "stream",
          "name": "stdout",
          "text": [
            "(4, 5, 6)\n",
            "<class 'tuple'>\n"
          ]
        }
      ],
      "source": [
        "c = 4, 5, 6,\n",
        "print(c)\n",
        "print(type(c))"
      ]
    },
    {
      "cell_type": "markdown",
      "metadata": {
        "id": "uRD-wZyqIO6V"
      },
      "source": [
        "**튜플 대입**\n",
        "- 우변의 값을 좌변의 변수에 한번에 할당하는 과정을 의미합니다.\n",
        "- 튜플은 일반적으로 파이썬 내부에서 활용됩니다.\n",
        "    - 추후 함수 파트에서 복수의 값을 반환하는 경우에도 확인할 수 있습니다."
      ]
    },
    {
      "cell_type": "code",
      "execution_count": null,
      "metadata": {
        "id": "5Prhr98FIO6V"
      },
      "outputs": [],
      "source": [
        "# 파이썬 내부에서는 다음과 같이 활용됩니다. (변수 및 자료형 예제에서 사용된 코드입니다.)"
      ]
    },
    {
      "cell_type": "code",
      "execution_count": null,
      "metadata": {
        "colab": {
          "base_uri": "https://localhost:8080/"
        },
        "id": "6DuMWpi2IO6V",
        "outputId": "c32c2c13-b312-433a-f751-4970c4e137e2"
      },
      "outputs": [
        {
          "output_type": "stream",
          "name": "stdout",
          "text": [
            "1\n",
            "2\n"
          ]
        }
      ],
      "source": [
        "x, y = 1, 2\n",
        "print(x)\n",
        "print(y)"
      ]
    },
    {
      "cell_type": "code",
      "execution_count": null,
      "metadata": {
        "id": "ZwTsMj5YIO6V"
      },
      "outputs": [],
      "source": [
        "# 실제로는 tuple로 처리됩니다."
      ]
    },
    {
      "cell_type": "code",
      "execution_count": null,
      "metadata": {
        "colab": {
          "base_uri": "https://localhost:8080/"
        },
        "id": "Xk__Nn7pIO6W",
        "outputId": "4fa33220-47fa-46bd-9d11-1f1c0e123521"
      },
      "outputs": [
        {
          "output_type": "stream",
          "name": "stdout",
          "text": [
            "1\n",
            "2\n"
          ]
        }
      ],
      "source": [
        "x, y = (1, 2)\n",
        "print(x)\n",
        "print(y)"
      ]
    },
    {
      "cell_type": "code",
      "execution_count": null,
      "metadata": {
        "id": "4j2EqcZbIO6W"
      },
      "outputs": [],
      "source": [
        "# 변수의 값을 swap하는 코드 역시 tuple을 활용하고 있습니다. "
      ]
    },
    {
      "cell_type": "code",
      "execution_count": null,
      "metadata": {
        "scrolled": true,
        "colab": {
          "base_uri": "https://localhost:8080/"
        },
        "id": "VtRYXlcMIO6W",
        "outputId": "2f0b02de-1001-4b15-a12d-ed7c6d2c3e4a"
      },
      "outputs": [
        {
          "output_type": "stream",
          "name": "stdout",
          "text": [
            "2\n",
            "1\n"
          ]
        }
      ],
      "source": [
        "x, y = y, x\n",
        "print(x)\n",
        "print(y)"
      ]
    },
    {
      "cell_type": "code",
      "execution_count": null,
      "metadata": {
        "id": "4wpbHqJ0IO6W"
      },
      "outputs": [],
      "source": [
        "# 변수명이 empty인 빈 tuple을 만들어 봅시다.\n",
        "# 빈 tuple은 빈 괄호 쌍으로 만들어집니다.\n",
        "# empty의 타입을 출력해 봅시다.\n",
        "# empty의 길이를 출력해 봅시다."
      ]
    },
    {
      "cell_type": "code",
      "execution_count": null,
      "metadata": {
        "colab": {
          "base_uri": "https://localhost:8080/"
        },
        "id": "4McGzEowIO6W",
        "outputId": "5f71213f-e26d-4f44-8fc4-c7fa56d6a56f"
      },
      "outputs": [
        {
          "output_type": "stream",
          "name": "stdout",
          "text": [
            "<class 'tuple'>\n",
            "0\n"
          ]
        }
      ],
      "source": [
        "empty = ()\n",
        "print(type(empty))\n",
        "print(len(empty))"
      ]
    },
    {
      "cell_type": "markdown",
      "metadata": {
        "id": "988GGKcmIO6W"
      },
      "source": [
        "### 레인지 (range())\n",
        "\n",
        "`range` 는 정수의 시퀀스를 나타내기 위해 사용됩니다.\n",
        "\n",
        "기본형 : `range(n)` \n",
        "\n",
        "\n",
        "> 0부터 n-1까지 값을 가짐\n",
        "\n",
        "\n",
        "범위 지정 : `range(n, m)` \n",
        "\n",
        "> n부터 m-1까지 값을 가짐\n",
        "\n",
        "범위 및 스텝 지정 : `range(n, m, s)`\n",
        "\n",
        "> n부터 m-1까지 +s만큼 증가한다"
      ]
    },
    {
      "cell_type": "code",
      "execution_count": null,
      "metadata": {
        "id": "19IkFQFrIO6W"
      },
      "outputs": [],
      "source": [
        "# range를 만들어봅시다.\n",
        "# 0부터 2까지 값을 가지는 range를 만들고 타입을 출력해 봅시다."
      ]
    },
    {
      "cell_type": "code",
      "execution_count": null,
      "metadata": {
        "colab": {
          "base_uri": "https://localhost:8080/"
        },
        "id": "al5AVw-iIO6W",
        "outputId": "dbd4a5ae-9c2c-4aa9-dcc3-52d4f1c15a2f"
      },
      "outputs": [
        {
          "output_type": "stream",
          "name": "stdout",
          "text": [
            "range(0, 3)\n"
          ]
        }
      ],
      "source": [
        "print(range(3))"
      ]
    },
    {
      "cell_type": "code",
      "execution_count": null,
      "metadata": {
        "id": "FYnrjzHsIO6W"
      },
      "outputs": [],
      "source": [
        "# 0부터 9까지 값을 가지는 range를 만들고 list로 형 변환을 해 봅시다.\n",
        "# 작성한 range를 list()로 감싸 형 변환 할 수 있습니다."
      ]
    },
    {
      "cell_type": "code",
      "execution_count": null,
      "metadata": {
        "colab": {
          "base_uri": "https://localhost:8080/"
        },
        "id": "TsYjtjlLIO6X",
        "outputId": "ea51bdb2-ac1a-447b-f9bb-28eaab98abf8"
      },
      "outputs": [
        {
          "output_type": "stream",
          "name": "stdout",
          "text": [
            "[0, 1, 2, 3, 4, 5, 6, 7, 8, 9]\n"
          ]
        }
      ],
      "source": [
        "print(list(range(10)))"
      ]
    },
    {
      "cell_type": "code",
      "execution_count": null,
      "metadata": {
        "id": "ajbDApTDIO6X"
      },
      "outputs": [],
      "source": [
        "# 4부터 8까지의 숫자를 담은 range를 만들고 list로 형 변환을 해 봅시다."
      ]
    },
    {
      "cell_type": "code",
      "execution_count": null,
      "metadata": {
        "colab": {
          "base_uri": "https://localhost:8080/"
        },
        "id": "mdJkEvGtIO6X",
        "outputId": "7e31867b-248e-4247-f367-899d1365c6fc"
      },
      "outputs": [
        {
          "output_type": "stream",
          "name": "stdout",
          "text": [
            "[4, 5, 6, 7, 8]\n"
          ]
        }
      ],
      "source": [
        "print(list(range(4,9)))"
      ]
    },
    {
      "cell_type": "code",
      "execution_count": null,
      "metadata": {
        "id": "Sq6s6Xw7IO6X"
      },
      "outputs": [],
      "source": [
        "# range(start, end, [step, ])을 활용합니다.\n",
        "# 0부터 -9까지 담긴 range를 만들고 list로 형 변환을 해 봅시다.\n",
        "# 출력 결과는 다음과 같습니다.\n",
        "# [0, -1, -2, -3, -4, -5, -6, -7, -8, -9]"
      ]
    },
    {
      "cell_type": "code",
      "execution_count": null,
      "metadata": {
        "colab": {
          "base_uri": "https://localhost:8080/"
        },
        "id": "IiWKJX8BIO6X",
        "outputId": "093cfe13-66c8-425a-acf3-8a095ce32150"
      },
      "outputs": [
        {
          "output_type": "stream",
          "name": "stdout",
          "text": [
            "[0, -1, -2, -3, -4, -5, -6, -7, -8, -9]\n"
          ]
        }
      ],
      "source": [
        "print(list(range(0,-10,-1)))"
      ]
    },
    {
      "cell_type": "code",
      "source": [
        ""
      ],
      "metadata": {
        "id": "pPXoNfiK2O5K"
      },
      "execution_count": null,
      "outputs": []
    },
    {
      "cell_type": "markdown",
      "source": [
        "### 세트 (Set)\n",
        "\n",
        "* `set`은 중복되는 요소가없이, 순서에 상관없는 자료구조입니다.\n",
        "\n",
        "  * 데이터의 중복을 허용하지 않기 때문에 중복되는 원소가 있다면 하나만 저장\n",
        "  * 순서가 없기 때문에 인덱스를 이용한 접근 불가능\n",
        "\n",
        "* `set`은 수학에서의 집합과 동일하게 처리됩니다. \n",
        "  * 활용 가능한 연산자는 차집합(`-`), 합집합(`|`), 교집합(`&`), 대칭차칩합(`^`)입니다.\n",
        "  * 여집합을 표현하는 연산자는 별도로 존재하지 않음\n",
        "\n",
        "  * 중복된 값이 존재하지 않음\n",
        "\n",
        "* `set`은 중괄호`{}`를 통해 생성하며, 빈 세트를 만들려면 `set()`을 사용해야 합니다. (`{}`로 사용 불가능)\n",
        "\n",
        "* 담고있는 객체를 삽입 변경, 삭제 가능 (mutable) 합니다.\n",
        "\n",
        "**생성과 접근**\n",
        "```python\n",
        "{value1, value2, value3}\n",
        "```"
      ],
      "metadata": {
        "id": "simaAY1d2PW6"
      }
    },
    {
      "cell_type": "code",
      "source": [
        "# set 두개를 만들어서 연산자들을 활용해봅시다."
      ],
      "metadata": {
        "id": "SIbtMKr22Szw"
      },
      "execution_count": 1,
      "outputs": []
    },
    {
      "cell_type": "code",
      "source": [
        ""
      ],
      "metadata": {
        "id": "RuT21-Kq2UCj"
      },
      "execution_count": null,
      "outputs": []
    },
    {
      "cell_type": "markdown",
      "source": [
        "* 합집합은 연산자 `|`를 사용합니다."
      ],
      "metadata": {
        "id": "JbDWXcv62Ziy"
      }
    },
    {
      "cell_type": "code",
      "source": [
        "# set_a와 set_b의 합집합을 구해봅시다.\n",
        "\n",
        "set_a = {1,2,3}\n",
        "\n",
        "set_b = {2,3,4,5,6}\n",
        "\n",
        "print(set_a | set_b)"
      ],
      "metadata": {
        "colab": {
          "base_uri": "https://localhost:8080/"
        },
        "id": "CSVVDxZz2aW_",
        "outputId": "9a21adf7-a319-426d-c848-337a8e5ce68b"
      },
      "execution_count": 2,
      "outputs": [
        {
          "output_type": "stream",
          "name": "stdout",
          "text": [
            "{1, 2, 3, 4, 5, 6}\n"
          ]
        }
      ]
    },
    {
      "cell_type": "code",
      "source": [
        ""
      ],
      "metadata": {
        "id": "0c3Hbuop2prQ"
      },
      "execution_count": null,
      "outputs": []
    },
    {
      "cell_type": "markdown",
      "source": [
        "* 차집합은 연산자 `-`를 사용합니다."
      ],
      "metadata": {
        "id": "M6sn57sk2s0A"
      }
    },
    {
      "cell_type": "code",
      "source": [
        "# set_a와 set_b의 차집합을 구해봅시다."
      ],
      "metadata": {
        "id": "E83aUl6U2r_x"
      },
      "execution_count": 3,
      "outputs": []
    },
    {
      "cell_type": "code",
      "source": [
        "print(set_a-set_b)"
      ],
      "metadata": {
        "colab": {
          "base_uri": "https://localhost:8080/"
        },
        "id": "5fdQk_Oi2v6B",
        "outputId": "9e9e8e7a-bfb2-4585-f5db-88e3abd48c3b"
      },
      "execution_count": 4,
      "outputs": [
        {
          "output_type": "stream",
          "name": "stdout",
          "text": [
            "{1}\n"
          ]
        }
      ]
    },
    {
      "cell_type": "markdown",
      "source": [
        "* 교집합은 연산자 `&`을 사용합니다."
      ],
      "metadata": {
        "id": "jH5Gfpqc22Bh"
      }
    },
    {
      "cell_type": "code",
      "source": [
        "# set_a와 set_b의 교집합을 구해봅시다."
      ],
      "metadata": {
        "id": "THwcO6C-20Ti"
      },
      "execution_count": 5,
      "outputs": []
    },
    {
      "cell_type": "code",
      "source": [
        "print(set_a & set_b)"
      ],
      "metadata": {
        "colab": {
          "base_uri": "https://localhost:8080/"
        },
        "id": "lEy4wfMV22sC",
        "outputId": "adb401bc-38fb-4b68-9fe6-0223171edb92"
      },
      "execution_count": 6,
      "outputs": [
        {
          "output_type": "stream",
          "name": "stdout",
          "text": [
            "{2, 3}\n"
          ]
        }
      ]
    },
    {
      "cell_type": "code",
      "source": [
        "# set은 중복된 값이 있을 수 없습니다."
      ],
      "metadata": {
        "id": "Zy7q-lTp27qJ"
      },
      "execution_count": 7,
      "outputs": []
    },
    {
      "cell_type": "code",
      "source": [
        "set_c = {1, 1, 1}\n",
        "print(set_c)"
      ],
      "metadata": {
        "colab": {
          "base_uri": "https://localhost:8080/"
        },
        "id": "4ZjoJIZ829f8",
        "outputId": "6631ef55-3c91-43b4-fec2-10f3518d0561"
      },
      "execution_count": 8,
      "outputs": [
        {
          "output_type": "stream",
          "name": "stdout",
          "text": [
            "{1}\n"
          ]
        }
      ]
    },
    {
      "cell_type": "markdown",
      "source": [
        "* `set`을 활용하면 `list`의 중복된 값을 손쉽게 제거할 수 있습니다.\n",
        "* 단, `set`으로 변환하는 순간 순서를 보장할 수 없습니다."
      ],
      "metadata": {
        "id": "pT7qHF8r3A4H"
      }
    },
    {
      "cell_type": "code",
      "source": [
        "# set으로 중복된 값을 제거해봅시다.\n",
        "# 문자열 서울, 서울, 대전, 광주, 서울, 대전, 부산, 부산를 원소로 가지는 set를 만듭니다.\n",
        "# 생성한 세트의 길이를 출력해 봅시다.\n",
        "\n",
        "set_d = {'서울','서울','대전','광주','서울','대전','부산','부산'}\n",
        "\n",
        "print(len(set_d))"
      ],
      "metadata": {
        "colab": {
          "base_uri": "https://localhost:8080/"
        },
        "id": "jYljmiYb3ACw",
        "outputId": "c3b3fc3e-a379-4190-ba5b-4b97ca94f3b1"
      },
      "execution_count": 13,
      "outputs": [
        {
          "output_type": "stream",
          "name": "stdout",
          "text": [
            "4\n"
          ]
        }
      ]
    },
    {
      "cell_type": "code",
      "source": [
        "# 생성한 세트를 출력해 봅시다.\n",
        "# 세트는 순서를 보장하지 않습니다.\n",
        "\n",
        "print(set_d)"
      ],
      "metadata": {
        "colab": {
          "base_uri": "https://localhost:8080/"
        },
        "id": "C-ZxiQES3em9",
        "outputId": "5830c763-caf9-415d-924a-991867df4ca7"
      },
      "execution_count": 14,
      "outputs": [
        {
          "output_type": "stream",
          "name": "stdout",
          "text": [
            "{'부산', '대전', '광주', '서울'}\n"
          ]
        }
      ]
    },
    {
      "cell_type": "markdown",
      "metadata": {
        "id": "hLwmkC3XIO6X"
      },
      "source": [
        "### 딕셔너리 (dictionary)\n",
        "\n",
        "`dictionary`는 `key`와 `value`가 쌍으로 이뤄져있습니다.\n",
        "\n",
        "\n",
        "<center><img src=\"https://user-images.githubusercontent.com/18046097/61180427-1405d880-a651-11e9-94e1-1cc5c2a2ff34.png\"></center> "
      ]
    },
    {
      "cell_type": "markdown",
      "metadata": {
        "id": "kGTyiCZpIO6X"
      },
      "source": [
        "**생성과 접근**\n",
        "\n",
        "```python\n",
        "{Key1:Value1, Key2:Value2, Key3:Value3, ...}\n",
        "```\n",
        "\n",
        "* `{}`를 통해 만들며, `dict()`로 만들 수 있습니다.\n",
        "* 순서를 보장하지 않습니다.\n",
        "* `key`는 **변경 불가능(immutable)한 데이터**만 가능합니다. (immutable : string, integer, float, boolean, tuple, range)\n",
        "* `value`는 `list`, `dictionary`를 포함한 모든 것이 가능합니다."
      ]
    },
    {
      "cell_type": "code",
      "execution_count": null,
      "metadata": {
        "id": "3vUs6HIJIO6X"
      },
      "outputs": [],
      "source": [
        "# 비어있는 dictionary를 두가지 방법으로 만들어봅시다.\n",
        "# {}와 dict()로 만들 수 있습니다.\n",
        "# 두 변수의 타입을 출력해 봅시다."
      ]
    },
    {
      "cell_type": "code",
      "execution_count": null,
      "metadata": {
        "colab": {
          "base_uri": "https://localhost:8080/"
        },
        "id": "xiMhiqubIO6X",
        "outputId": "3e998b31-c573-45b5-8338-ec028532c8ae"
      },
      "outputs": [
        {
          "output_type": "stream",
          "name": "stdout",
          "text": [
            "<class 'dict'>\n",
            "<class 'dict'>\n"
          ]
        }
      ],
      "source": [
        "my_dict = {}\n",
        "\n",
        "another_dict = dict()\n",
        "\n",
        "print(type(my_dict))\n",
        "print(type(another_dict))"
      ]
    },
    {
      "cell_type": "code",
      "execution_count": null,
      "metadata": {
        "id": "-Qb9QnaNIO6X"
      },
      "outputs": [],
      "source": [
        "# dictionary에 중복된 key는 존재할 수 없습니다."
      ]
    },
    {
      "cell_type": "code",
      "execution_count": null,
      "metadata": {
        "colab": {
          "base_uri": "https://localhost:8080/"
        },
        "id": "8FFBuCemIO6X",
        "outputId": "a0cd6478-dc92-4e64-94ea-2fcca4ca0b77"
      },
      "outputs": [
        {
          "output_type": "stream",
          "name": "stdout",
          "text": [
            "{1: 4, 2: 2, 3: 3}\n"
          ]
        }
      ],
      "source": [
        "dict_a = {1: 1, 2: 2, 3: 3, 1: 4}\n",
        "print(dict_a) #마지막 key:value로 덮이나보네"
      ]
    },
    {
      "cell_type": "code",
      "execution_count": null,
      "metadata": {
        "id": "z3pj5qnlIO6Y"
      },
      "outputs": [],
      "source": [
        "# 지역번호가 담긴 전화번호부를 만들어봅시다.\n",
        "# 변수 phone_book에 key를 지역명, value를 지역번호로 가지는 원소를 작성합니다.\n",
        "# 예) 서울 - 02"
      ]
    },
    {
      "cell_type": "code",
      "execution_count": null,
      "metadata": {
        "id": "dy6pKjJCIO6Y"
      },
      "outputs": [],
      "source": [
        "phone_book = {'서울':'02', '부산':'051','대구':'053','충북':'043','광주':'062'}"
      ]
    },
    {
      "cell_type": "code",
      "execution_count": null,
      "metadata": {
        "id": "NaSP5qPBIO6Y"
      },
      "outputs": [],
      "source": [
        "# 위에서 작성한 phone_book이 가지고 있는 key 목록을 확인 해 봅시다.\n",
        "# dictionary의 .keys() 메소드를 활용하여 key를 확인 해볼 수 있습니다."
      ]
    },
    {
      "cell_type": "code",
      "execution_count": null,
      "metadata": {
        "colab": {
          "base_uri": "https://localhost:8080/"
        },
        "id": "XgYybyweIO6Y",
        "outputId": "cfc65dbb-7104-418d-d924-2c1e4b4a0e76"
      },
      "outputs": [
        {
          "output_type": "stream",
          "name": "stdout",
          "text": [
            "dict_keys(['서울', '부산', '대구', '충북', '광주'])\n"
          ]
        }
      ],
      "source": [
        "print(phone_book.keys())"
      ]
    },
    {
      "cell_type": "code",
      "execution_count": null,
      "metadata": {
        "id": "pOK1hGwDIO6Y"
      },
      "outputs": [],
      "source": [
        "# 위에서 작성한 phone_book이 가지고 있는 value 목록을 확인 해 봅시다.\n",
        "# 딕셔너리의 .values() 메소드를 활용하여 value를 확인 해볼 수 있습니다."
      ]
    },
    {
      "cell_type": "code",
      "execution_count": null,
      "metadata": {
        "colab": {
          "base_uri": "https://localhost:8080/"
        },
        "id": "HvH0zf2gIO6Y",
        "outputId": "633bd737-4168-4226-f24b-1d173aa61b18"
      },
      "outputs": [
        {
          "output_type": "stream",
          "name": "stdout",
          "text": [
            "dict_values(['02', '051', '053', '043', '062'])\n"
          ]
        }
      ],
      "source": [
        "print(phone_book.values())"
      ]
    },
    {
      "cell_type": "code",
      "execution_count": null,
      "metadata": {
        "id": "HvdKAEVFIO6Y"
      },
      "outputs": [],
      "source": [
        "# 위에서 작성한 phone_book이 가지고 있는 key와 value 목록을 확인 해 봅시다.\n",
        "# 딕셔너리의 .items() 메소드를 활용하여 key, value를 확인 해볼 수 있습니다."
      ]
    },
    {
      "cell_type": "code",
      "execution_count": null,
      "metadata": {
        "colab": {
          "base_uri": "https://localhost:8080/"
        },
        "id": "rhEYKJlnIO6Y",
        "outputId": "c18c5c33-49af-4b15-fee1-013d22422f86"
      },
      "outputs": [
        {
          "output_type": "stream",
          "name": "stdout",
          "text": [
            "dict_items([('서울', '02'), ('부산', '051'), ('대구', '053'), ('충북', '043'), ('광주', '062')])\n"
          ]
        }
      ],
      "source": [
        "print(phone_book.items())"
      ]
    },
    {
      "cell_type": "code",
      "source": [
        ""
      ],
      "metadata": {
        "id": "CDeVJiMPaoYY"
      },
      "execution_count": null,
      "outputs": []
    }
  ],
  "metadata": {
    "hide_input": false,
    "kernelspec": {
      "display_name": "Python 3 (ipykernel)",
      "language": "python",
      "name": "python3"
    },
    "language_info": {
      "codemirror_mode": {
        "name": "ipython",
        "version": 3
      },
      "file_extension": ".py",
      "mimetype": "text/x-python",
      "name": "python",
      "nbconvert_exporter": "python",
      "pygments_lexer": "ipython3",
      "version": "3.9.13"
    },
    "toc": {
      "base_numbering": 1,
      "nav_menu": {},
      "number_sections": true,
      "sideBar": true,
      "skip_h1_title": false,
      "title_cell": "Table of Contents",
      "title_sidebar": "Python 기초",
      "toc_cell": false,
      "toc_position": {
        "height": "757px",
        "left": "53px",
        "top": "111.125px",
        "width": "305px"
      },
      "toc_section_display": true,
      "toc_window_display": true
    },
    "colab": {
      "name": "02_01_python_workshop_복습_자료형.ipynb",
      "provenance": [],
      "collapsed_sections": []
    }
  },
  "nbformat": 4,
  "nbformat_minor": 0
}