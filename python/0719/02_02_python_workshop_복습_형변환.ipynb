{
  "cells": [
    {
      "cell_type": "markdown",
      "metadata": {
        "id": "aHrViAGHa2Ee"
      },
      "source": [
        "<p style=\"font-size: 33px; font-weight: 700; margin-bottom: 3rem\">Python 기초 II</p>"
      ]
    },
    {
      "cell_type": "markdown",
      "metadata": {
        "id": "kb678HiDa2Eg"
      },
      "source": [
        "# 형변환(Type conversion, Typecasting)\n",
        "\n",
        "파이썬에서 데이터타입은 서로 변환할 수 있습니다.\n",
        "\n",
        "- 암시적 형변환\n",
        "- 명시적 형변환\n",
        "\n",
        "## 암시적 형변환(Implicit Typecasting)\n",
        "\n",
        "사용자가 의도하지 않았지만, 파이썬 내부적으로 자동으로 형변환 하는 경우입니다. 아래의 상황에서만 가능합니다.\n",
        "\n",
        "- bool\n",
        "- Numeric Type (int, float, complex)"
      ]
    },
    {
      "cell_type": "code",
      "execution_count": null,
      "metadata": {
        "id": "moc-M-9Ca2Eg"
      },
      "outputs": [],
      "source": [
        "# boolean과 integer는 더할 수 있을까요?\n",
        "# True와 임의의 정수를 더해봅시다."
      ]
    },
    {
      "cell_type": "code",
      "execution_count": 3,
      "metadata": {
        "colab": {
          "base_uri": "https://localhost:8080/"
        },
        "id": "nJimz-13a2Eh",
        "outputId": "02cc1843-ddbe-42bf-93f9-62366a907d99"
      },
      "outputs": [
        {
          "output_type": "stream",
          "name": "stdout",
          "text": [
            "4\n"
          ]
        }
      ],
      "source": [
        "print(True + 3)"
      ]
    },
    {
      "cell_type": "code",
      "execution_count": null,
      "metadata": {
        "id": "EA4FsFfia2Eh"
      },
      "outputs": [],
      "source": [
        "# int, float, complex를 각각 변수에 대입해봅시다.\n",
        "# 변수 int_number 에 정수를 할당해봅시다.\n",
        "# 변수 float_numbe 에 실수를 할당해봅시다."
      ]
    },
    {
      "cell_type": "code",
      "execution_count": 7,
      "metadata": {
        "id": "MdayvAX5a2Ei"
      },
      "outputs": [],
      "source": [
        "int_number = 3\n",
        "\n",
        "float_number = 2.4\n",
        "\n",
        "complex_number = 4j #python에서 complex는 a+bj"
      ]
    },
    {
      "cell_type": "code",
      "execution_count": null,
      "metadata": {
        "id": "wK96Vr_Ta2Ei"
      },
      "outputs": [],
      "source": [
        "# int와 float를 더해봅시다. 그리고 값을 출력해봅시다.\n",
        "# 그 결과의 type은 무엇일까요?"
      ]
    },
    {
      "cell_type": "code",
      "execution_count": 6,
      "metadata": {
        "colab": {
          "base_uri": "https://localhost:8080/"
        },
        "id": "Jv1sDnYba2Ej",
        "outputId": "5d2f55e7-6910-4d57-936b-331319aa5ab7"
      },
      "outputs": [
        {
          "output_type": "stream",
          "name": "stdout",
          "text": [
            "5.4\n",
            "<class 'float'>\n"
          ]
        }
      ],
      "source": [
        "print(int_number+float_number)\n",
        "print(type(int_number+float_number))"
      ]
    },
    {
      "cell_type": "code",
      "execution_count": null,
      "metadata": {
        "id": "GTn7CHN_a2Ej"
      },
      "outputs": [],
      "source": [
        "# int와 complex를 더해봅시다. 그리고 값을 출력해봅시다.\n",
        "# 그 결과의 type은 무엇일까요?"
      ]
    },
    {
      "cell_type": "code",
      "execution_count": 8,
      "metadata": {
        "colab": {
          "base_uri": "https://localhost:8080/"
        },
        "id": "wDOyTY5Ca2Ej",
        "outputId": "3238027f-4917-43cb-e1d7-f569f3f7edae"
      },
      "outputs": [
        {
          "output_type": "stream",
          "name": "stdout",
          "text": [
            "(3+4j)\n",
            "<class 'complex'>\n"
          ]
        }
      ],
      "source": [
        "print(int_number+complex_number)\n",
        "print(type(int_number+complex_number))"
      ]
    },
    {
      "cell_type": "markdown",
      "metadata": {
        "id": "gMwkxIzra2Ek"
      },
      "source": [
        "## 명시적 형변환(Explicit Typecasting)\n",
        "\n",
        "위의 상황을 제외하고는 모두 명시적으로 형변환을 해주어야합니다.\n",
        "\n",
        "- string -> intger : 형식에 맞는 숫자만 가능\n",
        "- integer -> string : 모두 가능\n",
        "\n",
        "암시적 형변환이 되는 모든 경우도 명시적으로 형변환이 가능합니다.\n",
        "\n",
        "- `int()` : string, float를 int로 변환\n",
        "- `float()` : string, int를 float로 변환\n",
        "- `str()` : int, float, list, tuple, dictionary를 문자열로 변환"
      ]
    },
    {
      "cell_type": "code",
      "execution_count": null,
      "metadata": {
        "id": "PXc9BxvZa2Ek"
      },
      "outputs": [],
      "source": [
        "# integer와 string 사이의 관계는 명시적으로 형변환을 해줘야만 합니다.\n",
        "# 정수와 문자열을 더해보고 오류를 확인해봅시다."
      ]
    },
    {
      "cell_type": "code",
      "execution_count": 9,
      "metadata": {
        "colab": {
          "base_uri": "https://localhost:8080/",
          "height": 174
        },
        "id": "y8w-fRoea2El",
        "outputId": "453ed316-dbfa-4d9b-f8b8-3d1318a519d7"
      },
      "outputs": [
        {
          "output_type": "error",
          "ename": "TypeError",
          "evalue": "ignored",
          "traceback": [
            "\u001b[0;31m---------------------------------------------------------------------------\u001b[0m",
            "\u001b[0;31mTypeError\u001b[0m                                 Traceback (most recent call last)",
            "\u001b[0;32m<ipython-input-9-f3a3ce6e59eb>\u001b[0m in \u001b[0;36m<module>\u001b[0;34m()\u001b[0m\n\u001b[0;32m----> 1\u001b[0;31m \u001b[0mprint\u001b[0m\u001b[0;34m(\u001b[0m\u001b[0;36m3\u001b[0m \u001b[0;34m+\u001b[0m \u001b[0;34m'yun'\u001b[0m\u001b[0;34m)\u001b[0m\u001b[0;34m\u001b[0m\u001b[0;34m\u001b[0m\u001b[0m\n\u001b[0m",
            "\u001b[0;31mTypeError\u001b[0m: unsupported operand type(s) for +: 'int' and 'str'"
          ]
        }
      ],
      "source": [
        "print(3 + 'yun')"
      ]
    },
    {
      "cell_type": "code",
      "execution_count": null,
      "metadata": {
        "id": "IHalETeja2El"
      },
      "outputs": [],
      "source": [
        "# 정수를 문자열로 형변환하고 문자열과 더해봅시다."
      ]
    },
    {
      "cell_type": "code",
      "execution_count": 10,
      "metadata": {
        "colab": {
          "base_uri": "https://localhost:8080/"
        },
        "id": "QjI4yAMFa2El",
        "outputId": "8b413d51-6626-416a-823d-f49c9b14da0b"
      },
      "outputs": [
        {
          "output_type": "stream",
          "name": "stdout",
          "text": [
            "3yun\n"
          ]
        }
      ],
      "source": [
        "print(str(3)+'yun')"
      ]
    },
    {
      "cell_type": "code",
      "execution_count": null,
      "metadata": {
        "id": "8aKS-hNXa2El"
      },
      "outputs": [],
      "source": [
        "# 변수 a에 string 3을 할당하고 integer로 변환해봅시다."
      ]
    },
    {
      "cell_type": "code",
      "execution_count": 11,
      "metadata": {
        "colab": {
          "base_uri": "https://localhost:8080/"
        },
        "id": "xiYXgSX8a2El",
        "outputId": "74fd0134-24c6-4538-aee9-150c91bd5028"
      },
      "outputs": [
        {
          "output_type": "stream",
          "name": "stdout",
          "text": [
            "3\n"
          ]
        }
      ],
      "source": [
        "a = '3'\n",
        "\n",
        "print(int(a))"
      ]
    },
    {
      "cell_type": "code",
      "execution_count": null,
      "metadata": {
        "id": "O8aMvq05a2Em"
      },
      "outputs": [],
      "source": [
        "# 변수 a에 string 3.5를 할당하고 float로 변환해봅시다."
      ]
    },
    {
      "cell_type": "code",
      "execution_count": 12,
      "metadata": {
        "colab": {
          "base_uri": "https://localhost:8080/"
        },
        "id": "81Tgwayxa2Em",
        "outputId": "8ad73ebe-4470-4fea-db1d-9083e90f1c21"
      },
      "outputs": [
        {
          "output_type": "stream",
          "name": "stdout",
          "text": [
            "3.5\n"
          ]
        }
      ],
      "source": [
        "a = '3.5'\n",
        "\n",
        "print(float(a))"
      ]
    },
    {
      "cell_type": "code",
      "execution_count": null,
      "metadata": {
        "id": "lLmfnfUya2Em"
      },
      "outputs": [],
      "source": [
        "# string은 글자가 숫자일때만 형변환이 가능합니다.\n",
        "# 변수 a에 문자열 'hi'를 할당하고 integer로 변환해봅시다."
      ]
    },
    {
      "cell_type": "code",
      "execution_count": 13,
      "metadata": {
        "colab": {
          "base_uri": "https://localhost:8080/",
          "height": 211
        },
        "id": "b24d8LqPa2Em",
        "outputId": "5992eb0e-e6f8-4604-8492-5eb27cedc40d"
      },
      "outputs": [
        {
          "output_type": "error",
          "ename": "ValueError",
          "evalue": "ignored",
          "traceback": [
            "\u001b[0;31m---------------------------------------------------------------------------\u001b[0m",
            "\u001b[0;31mValueError\u001b[0m                                Traceback (most recent call last)",
            "\u001b[0;32m<ipython-input-13-f50ffd0c1143>\u001b[0m in \u001b[0;36m<module>\u001b[0;34m()\u001b[0m\n\u001b[1;32m      1\u001b[0m \u001b[0ma\u001b[0m \u001b[0;34m=\u001b[0m \u001b[0;34m'hi'\u001b[0m\u001b[0;34m\u001b[0m\u001b[0;34m\u001b[0m\u001b[0m\n\u001b[1;32m      2\u001b[0m \u001b[0;34m\u001b[0m\u001b[0m\n\u001b[0;32m----> 3\u001b[0;31m \u001b[0mprint\u001b[0m\u001b[0;34m(\u001b[0m\u001b[0mint\u001b[0m\u001b[0;34m(\u001b[0m\u001b[0ma\u001b[0m\u001b[0;34m)\u001b[0m\u001b[0;34m)\u001b[0m\u001b[0;34m\u001b[0m\u001b[0;34m\u001b[0m\u001b[0m\n\u001b[0m",
            "\u001b[0;31mValueError\u001b[0m: invalid literal for int() with base 10: 'hi'"
          ]
        }
      ],
      "source": [
        "a = 'hi'\n",
        "\n",
        "print(int(a))"
      ]
    },
    {
      "cell_type": "code",
      "execution_count": null,
      "metadata": {
        "id": "617tB4hVa2Em"
      },
      "outputs": [],
      "source": [
        "# string 3.5를 int로 변환할 수는 없습니다.\n",
        "# 변수 a에 string 3.5를 저장하고 integer로 변환하고 오류를 확인해봅시다."
      ]
    },
    {
      "cell_type": "code",
      "execution_count": 14,
      "metadata": {
        "colab": {
          "base_uri": "https://localhost:8080/",
          "height": 211
        },
        "id": "4lHB1BbJa2En",
        "outputId": "93600575-3b35-4164-a150-f502702ec113"
      },
      "outputs": [
        {
          "output_type": "error",
          "ename": "ValueError",
          "evalue": "ignored",
          "traceback": [
            "\u001b[0;31m---------------------------------------------------------------------------\u001b[0m",
            "\u001b[0;31mValueError\u001b[0m                                Traceback (most recent call last)",
            "\u001b[0;32m<ipython-input-14-b8c70b02fe67>\u001b[0m in \u001b[0;36m<module>\u001b[0;34m()\u001b[0m\n\u001b[1;32m      1\u001b[0m \u001b[0ma\u001b[0m \u001b[0;34m=\u001b[0m \u001b[0;34m'3.5'\u001b[0m\u001b[0;34m\u001b[0m\u001b[0;34m\u001b[0m\u001b[0m\n\u001b[1;32m      2\u001b[0m \u001b[0;34m\u001b[0m\u001b[0m\n\u001b[0;32m----> 3\u001b[0;31m \u001b[0mprint\u001b[0m\u001b[0;34m(\u001b[0m\u001b[0mint\u001b[0m\u001b[0;34m(\u001b[0m\u001b[0ma\u001b[0m\u001b[0;34m)\u001b[0m\u001b[0;34m)\u001b[0m\u001b[0;34m\u001b[0m\u001b[0;34m\u001b[0m\u001b[0m\n\u001b[0m",
            "\u001b[0;31mValueError\u001b[0m: invalid literal for int() with base 10: '3.5'"
          ]
        }
      ],
      "source": [
        "a = '3.5'\n",
        "\n",
        "print(int(a))"
      ]
    },
    {
      "cell_type": "code",
      "execution_count": 15,
      "metadata": {
        "id": "ygPKpg81a2En"
      },
      "outputs": [],
      "source": [
        "# float 3.5는 int로 변환이 가능합니다.\n",
        "# 변수 a에 실수 3.5를 저장하고 integer로 변환해봅시다."
      ]
    },
    {
      "cell_type": "code",
      "execution_count": 16,
      "metadata": {
        "colab": {
          "base_uri": "https://localhost:8080/"
        },
        "id": "86k41fcda2En",
        "outputId": "56333ee3-acee-4340-dcf4-075294aa17e6"
      },
      "outputs": [
        {
          "output_type": "stream",
          "name": "stdout",
          "text": [
            "3.5\n"
          ]
        }
      ],
      "source": [
        "a = '3.5'\n",
        "\n",
        "print(float(a))"
      ]
    },
    {
      "cell_type": "markdown",
      "metadata": {
        "id": "JwZFNVz6a2En"
      },
      "source": [
        "## 컨테이너형 형변환\n",
        "\n",
        "파이썬에서 컨테이너는 서로 변환할 수 있습니다.\n",
        "\n",
        "<img width=\"708\" alt=\"typecasting\" src=\"https://user-images.githubusercontent.com/18046097/61180466-a6a67780-a651-11e9-8c0a-adb9e1ee04de.png\">\n"
      ]
    },
    {
      "cell_type": "code",
      "execution_count": null,
      "metadata": {
        "id": "W1d-kZuma2En"
      },
      "outputs": [],
      "source": [
        "# 하나의 결과를 확인 한 후, 주석 `#` 을 활용하여 이전의 코드를 비활성화 합니다.\n",
        "# 형변환 후의 결과를 확인 합니다."
      ]
    },
    {
      "cell_type": "code",
      "execution_count": null,
      "metadata": {
        "id": "Mt2XDyfla2En"
      },
      "outputs": [],
      "source": [
        "# list를 형변환 해봅시다."
      ]
    },
    {
      "cell_type": "code",
      "execution_count": 31,
      "metadata": {
        "colab": {
          "base_uri": "https://localhost:8080/"
        },
        "id": "YbhI9fFra2Eo",
        "outputId": "6304e99f-5136-428a-fef7-81ca67513995"
      },
      "outputs": [
        {
          "output_type": "stream",
          "name": "stdout",
          "text": [
            "[1, 2, 3, 4]\n",
            "(1, 2, 3, 4)\n",
            "{1, 2, 3, 4}\n"
          ]
        }
      ],
      "source": [
        "l = [1, 2, 3, 4]\n",
        "print(str(l))\n",
        "print(tuple(l))\n",
        "print(set(l))\n",
        "# range(l)\n",
        "# dict(l)"
      ]
    },
    {
      "cell_type": "code",
      "source": [
        "range(l)"
      ],
      "metadata": {
        "colab": {
          "base_uri": "https://localhost:8080/",
          "height": 174
        },
        "id": "ScTdWTlkq6Lz",
        "outputId": "294d4042-b7f6-4d87-ae2c-21d3d3a72eaf"
      },
      "execution_count": 19,
      "outputs": [
        {
          "output_type": "error",
          "ename": "TypeError",
          "evalue": "ignored",
          "traceback": [
            "\u001b[0;31m---------------------------------------------------------------------------\u001b[0m",
            "\u001b[0;31mTypeError\u001b[0m                                 Traceback (most recent call last)",
            "\u001b[0;32m<ipython-input-19-22b0b9f94de2>\u001b[0m in \u001b[0;36m<module>\u001b[0;34m()\u001b[0m\n\u001b[0;32m----> 1\u001b[0;31m \u001b[0mrange\u001b[0m\u001b[0;34m(\u001b[0m\u001b[0ml\u001b[0m\u001b[0;34m)\u001b[0m\u001b[0;34m\u001b[0m\u001b[0;34m\u001b[0m\u001b[0m\n\u001b[0m",
            "\u001b[0;31mTypeError\u001b[0m: 'list' object cannot be interpreted as an integer"
          ]
        }
      ]
    },
    {
      "cell_type": "code",
      "source": [
        "dict(l)"
      ],
      "metadata": {
        "colab": {
          "base_uri": "https://localhost:8080/",
          "height": 174
        },
        "id": "DqGY88qeq-0F",
        "outputId": "5de6fb81-f5f7-4d1d-e3ec-353c7fbcf9bc"
      },
      "execution_count": 20,
      "outputs": [
        {
          "output_type": "error",
          "ename": "TypeError",
          "evalue": "ignored",
          "traceback": [
            "\u001b[0;31m---------------------------------------------------------------------------\u001b[0m",
            "\u001b[0;31mTypeError\u001b[0m                                 Traceback (most recent call last)",
            "\u001b[0;32m<ipython-input-20-9f00e0700cfe>\u001b[0m in \u001b[0;36m<module>\u001b[0;34m()\u001b[0m\n\u001b[0;32m----> 1\u001b[0;31m \u001b[0mdict\u001b[0m\u001b[0;34m(\u001b[0m\u001b[0ml\u001b[0m\u001b[0;34m)\u001b[0m\u001b[0;34m\u001b[0m\u001b[0;34m\u001b[0m\u001b[0m\n\u001b[0m",
            "\u001b[0;31mTypeError\u001b[0m: cannot convert dictionary update sequence element #0 to a sequence"
          ]
        }
      ]
    },
    {
      "cell_type": "code",
      "execution_count": null,
      "metadata": {
        "id": "zoN1tICKa2Eo"
      },
      "outputs": [],
      "source": [
        "# tuple을 형변환 해봅시다."
      ]
    },
    {
      "cell_type": "code",
      "execution_count": 32,
      "metadata": {
        "colab": {
          "base_uri": "https://localhost:8080/"
        },
        "id": "kmXGfqm0a2Eo",
        "outputId": "59ef90e4-4c63-4f49-d591-08e9e08c6a98"
      },
      "outputs": [
        {
          "output_type": "stream",
          "name": "stdout",
          "text": [
            "(1, 2, 3, 4)\n",
            "[1, 2, 3, 4]\n",
            "{1, 2, 3, 4}\n"
          ]
        }
      ],
      "source": [
        "t = (1, 2, 3, 4)\n",
        "print(str(t))\n",
        "print(list(t))\n",
        "print(set(t))"
      ]
    },
    {
      "cell_type": "code",
      "source": [
        "range(t)"
      ],
      "metadata": {
        "colab": {
          "base_uri": "https://localhost:8080/",
          "height": 174
        },
        "id": "uCrNAeVerUuv",
        "outputId": "d674164f-a65f-412a-c521-334d058a9c70"
      },
      "execution_count": 33,
      "outputs": [
        {
          "output_type": "error",
          "ename": "TypeError",
          "evalue": "ignored",
          "traceback": [
            "\u001b[0;31m---------------------------------------------------------------------------\u001b[0m",
            "\u001b[0;31mTypeError\u001b[0m                                 Traceback (most recent call last)",
            "\u001b[0;32m<ipython-input-33-f3c21c917e56>\u001b[0m in \u001b[0;36m<module>\u001b[0;34m()\u001b[0m\n\u001b[0;32m----> 1\u001b[0;31m \u001b[0mrange\u001b[0m\u001b[0;34m(\u001b[0m\u001b[0mt\u001b[0m\u001b[0;34m)\u001b[0m\u001b[0;34m\u001b[0m\u001b[0;34m\u001b[0m\u001b[0m\n\u001b[0m",
            "\u001b[0;31mTypeError\u001b[0m: 'tuple' object cannot be interpreted as an integer"
          ]
        }
      ]
    },
    {
      "cell_type": "code",
      "source": [
        "dict(t)"
      ],
      "metadata": {
        "colab": {
          "base_uri": "https://localhost:8080/",
          "height": 174
        },
        "id": "u7lZm3-trZO6",
        "outputId": "655a26fc-ca9e-401e-c9d5-b80c65e52292"
      },
      "execution_count": 34,
      "outputs": [
        {
          "output_type": "error",
          "ename": "TypeError",
          "evalue": "ignored",
          "traceback": [
            "\u001b[0;31m---------------------------------------------------------------------------\u001b[0m",
            "\u001b[0;31mTypeError\u001b[0m                                 Traceback (most recent call last)",
            "\u001b[0;32m<ipython-input-34-429018418854>\u001b[0m in \u001b[0;36m<module>\u001b[0;34m()\u001b[0m\n\u001b[0;32m----> 1\u001b[0;31m \u001b[0mdict\u001b[0m\u001b[0;34m(\u001b[0m\u001b[0mt\u001b[0m\u001b[0;34m)\u001b[0m\u001b[0;34m\u001b[0m\u001b[0;34m\u001b[0m\u001b[0m\n\u001b[0m",
            "\u001b[0;31mTypeError\u001b[0m: cannot convert dictionary update sequence element #0 to a sequence"
          ]
        }
      ]
    },
    {
      "cell_type": "code",
      "execution_count": null,
      "metadata": {
        "id": "QErfbe_-a2Eo"
      },
      "outputs": [],
      "source": [
        "# range를 형변환 해봅시다."
      ]
    },
    {
      "cell_type": "code",
      "execution_count": 36,
      "metadata": {
        "colab": {
          "base_uri": "https://localhost:8080/"
        },
        "id": "jopSJy_Aa2Eo",
        "outputId": "bfae0f3b-b175-41ee-bd89-009eb3d43cc8"
      },
      "outputs": [
        {
          "output_type": "stream",
          "name": "stdout",
          "text": [
            "range(1, 5)\n",
            "[1, 2, 3, 4]\n",
            "{1, 2, 3, 4}\n",
            "(1, 2, 3, 4)\n"
          ]
        }
      ],
      "source": [
        "r = range(1, 5)\n",
        "print(str(r))\n",
        "print(list(r))\n",
        "print(set(r))\n",
        "print(tuple(r))"
      ]
    },
    {
      "cell_type": "code",
      "source": [
        "dict(r)"
      ],
      "metadata": {
        "colab": {
          "base_uri": "https://localhost:8080/",
          "height": 174
        },
        "id": "9EW02HIMrlYP",
        "outputId": "4ab46fa1-66ca-4266-9f85-cc9cf74abac0"
      },
      "execution_count": 37,
      "outputs": [
        {
          "output_type": "error",
          "ename": "TypeError",
          "evalue": "ignored",
          "traceback": [
            "\u001b[0;31m---------------------------------------------------------------------------\u001b[0m",
            "\u001b[0;31mTypeError\u001b[0m                                 Traceback (most recent call last)",
            "\u001b[0;32m<ipython-input-37-a1f237ca3112>\u001b[0m in \u001b[0;36m<module>\u001b[0;34m()\u001b[0m\n\u001b[0;32m----> 1\u001b[0;31m \u001b[0mdict\u001b[0m\u001b[0;34m(\u001b[0m\u001b[0mr\u001b[0m\u001b[0;34m)\u001b[0m\u001b[0;34m\u001b[0m\u001b[0;34m\u001b[0m\u001b[0m\n\u001b[0m",
            "\u001b[0;31mTypeError\u001b[0m: cannot convert dictionary update sequence element #0 to a sequence"
          ]
        }
      ]
    },
    {
      "cell_type": "code",
      "execution_count": null,
      "metadata": {
        "id": "C4M2IP-pa2Eo"
      },
      "outputs": [],
      "source": [
        "# set을 형변환 해봅시다."
      ]
    },
    {
      "cell_type": "code",
      "execution_count": 38,
      "metadata": {
        "colab": {
          "base_uri": "https://localhost:8080/"
        },
        "id": "Ws0vqL4ra2Ep",
        "outputId": "69156073-be6a-413b-de38-5d8c8bc33000"
      },
      "outputs": [
        {
          "output_type": "stream",
          "name": "stdout",
          "text": [
            "{1, 2, 3, 4}\n",
            "[1, 2, 3, 4]\n",
            "(1, 2, 3, 4)\n"
          ]
        }
      ],
      "source": [
        "s = {1, 2, 3, 4}\n",
        "print(str(s))\n",
        "print(list(s))\n",
        "print(tuple(s))"
      ]
    },
    {
      "cell_type": "code",
      "source": [
        "print(range(s))"
      ],
      "metadata": {
        "colab": {
          "base_uri": "https://localhost:8080/",
          "height": 174
        },
        "id": "zloa25Fsrqwl",
        "outputId": "e6754726-808c-4f33-f1dc-0e8dae163e94"
      },
      "execution_count": 39,
      "outputs": [
        {
          "output_type": "error",
          "ename": "TypeError",
          "evalue": "ignored",
          "traceback": [
            "\u001b[0;31m---------------------------------------------------------------------------\u001b[0m",
            "\u001b[0;31mTypeError\u001b[0m                                 Traceback (most recent call last)",
            "\u001b[0;32m<ipython-input-39-0c4d2652ab9a>\u001b[0m in \u001b[0;36m<module>\u001b[0;34m()\u001b[0m\n\u001b[0;32m----> 1\u001b[0;31m \u001b[0mprint\u001b[0m\u001b[0;34m(\u001b[0m\u001b[0mrange\u001b[0m\u001b[0;34m(\u001b[0m\u001b[0ms\u001b[0m\u001b[0;34m)\u001b[0m\u001b[0;34m)\u001b[0m\u001b[0;34m\u001b[0m\u001b[0;34m\u001b[0m\u001b[0m\n\u001b[0m",
            "\u001b[0;31mTypeError\u001b[0m: 'set' object cannot be interpreted as an integer"
          ]
        }
      ]
    },
    {
      "cell_type": "code",
      "source": [
        "print(dict(s))"
      ],
      "metadata": {
        "colab": {
          "base_uri": "https://localhost:8080/",
          "height": 174
        },
        "id": "llAul8P-spkR",
        "outputId": "e5558fd6-29b5-491c-f1d6-0ab4f75555c8"
      },
      "execution_count": 40,
      "outputs": [
        {
          "output_type": "error",
          "ename": "TypeError",
          "evalue": "ignored",
          "traceback": [
            "\u001b[0;31m---------------------------------------------------------------------------\u001b[0m",
            "\u001b[0;31mTypeError\u001b[0m                                 Traceback (most recent call last)",
            "\u001b[0;32m<ipython-input-40-17ba63983631>\u001b[0m in \u001b[0;36m<module>\u001b[0;34m()\u001b[0m\n\u001b[0;32m----> 1\u001b[0;31m \u001b[0mprint\u001b[0m\u001b[0;34m(\u001b[0m\u001b[0mdict\u001b[0m\u001b[0;34m(\u001b[0m\u001b[0ms\u001b[0m\u001b[0;34m)\u001b[0m\u001b[0;34m)\u001b[0m\u001b[0;34m\u001b[0m\u001b[0;34m\u001b[0m\u001b[0m\n\u001b[0m",
            "\u001b[0;31mTypeError\u001b[0m: cannot convert dictionary update sequence element #0 to a sequence"
          ]
        }
      ]
    },
    {
      "cell_type": "code",
      "execution_count": null,
      "metadata": {
        "id": "AH_DwACAa2Ep"
      },
      "outputs": [],
      "source": [
        "# dictionary를 형변환 해봅시다."
      ]
    },
    {
      "cell_type": "code",
      "execution_count": 42,
      "metadata": {
        "colab": {
          "base_uri": "https://localhost:8080/"
        },
        "id": "ZbNUUXvla2Ep",
        "outputId": "bfc81dd3-541d-43d7-9eb1-988d9048f483"
      },
      "outputs": [
        {
          "output_type": "stream",
          "name": "stdout",
          "text": [
            "{'name': 'ssafy', 'year': 2020}\n",
            "['name', 'year']\n",
            "('name', 'year')\n",
            "{'name', 'year'}\n"
          ]
        }
      ],
      "source": [
        "#형변환하면 key만 가지고오네 보니까\n",
        "d = {'name': 'ssafy', 'year': 2020}\n",
        "print(str(d))\n",
        "print(list(d))\n",
        "print(tuple(d))\n",
        "print(set(d))\n",
        "# range(d)"
      ]
    },
    {
      "cell_type": "code",
      "source": [
        "print(range(d))"
      ],
      "metadata": {
        "colab": {
          "base_uri": "https://localhost:8080/",
          "height": 174
        },
        "id": "JnikDXRitsjf",
        "outputId": "5277bd92-5866-4b63-a0e1-37925eac7a54"
      },
      "execution_count": 43,
      "outputs": [
        {
          "output_type": "error",
          "ename": "TypeError",
          "evalue": "ignored",
          "traceback": [
            "\u001b[0;31m---------------------------------------------------------------------------\u001b[0m",
            "\u001b[0;31mTypeError\u001b[0m                                 Traceback (most recent call last)",
            "\u001b[0;32m<ipython-input-43-1a840393bbd2>\u001b[0m in \u001b[0;36m<module>\u001b[0;34m()\u001b[0m\n\u001b[0;32m----> 1\u001b[0;31m \u001b[0mprint\u001b[0m\u001b[0;34m(\u001b[0m\u001b[0mrange\u001b[0m\u001b[0;34m(\u001b[0m\u001b[0md\u001b[0m\u001b[0;34m)\u001b[0m\u001b[0;34m)\u001b[0m\u001b[0;34m\u001b[0m\u001b[0;34m\u001b[0m\u001b[0m\n\u001b[0m",
            "\u001b[0;31mTypeError\u001b[0m: 'dict' object cannot be interpreted as an integer"
          ]
        }
      ]
    },
    {
      "cell_type": "markdown",
      "metadata": {
        "id": "5HLQoXHRa2Ep"
      },
      "source": [
        "# 정리\n",
        "## 컨테이너(Container)\n",
        "<center><img src=\"https://user-images.githubusercontent.com/18046097/61180439-44e60d80-a651-11e9-9adc-e60fa57c2165.png\", alt=\"container\"/></center>"
      ]
    },
    {
      "cell_type": "markdown",
      "metadata": {
        "id": "IaZ34sUaa2Ep"
      },
      "source": [
        "# 정리\n",
        "## 컨테이너(Container)\n",
        "<center><img src=\"https://user-images.githubusercontent.com/18046097/61180439-44e60d80-a651-11e9-9adc-e60fa57c2165.png\", alt=\"container\"/></center>"
      ]
    },
    {
      "cell_type": "markdown",
      "metadata": {
        "id": "G1g75Wc7a2Ep"
      },
      "source": [
        "# 연산자(Operator)\n",
        "\n",
        "- 산술 연산자(Arithmetic Operator)\n",
        "- 비교 연산자(Comparison Operator)\n",
        "- 논리 연산자(Logical Operator)\n",
        "- 복합 연산자(In-place Operator)\n",
        "- 멤버십 연산자(Membership Operator)\n",
        "- 식별 연산자(Identity Operator)\n",
        "- 기타 (Indexing/Slicing)"
      ]
    },
    {
      "cell_type": "markdown",
      "metadata": {
        "id": "_JiPTNFRa2Ep"
      },
      "source": [
        "## 산술 연산자 (Arithmetic Operator)\n",
        "Python에서는 기본적인 사칙연산이 가능합니다. \n",
        "\n",
        "|연산자|내용|\n",
        "|----|---|\n",
        "|+|덧셈|\n",
        "|-|뺄셈|\n",
        "|\\*|곱셈|\n",
        "|/|나눗셈|\n",
        "|//|몫|\n",
        "|%|나머지(modulo)|\n",
        "|\\*\\*|거듭제곱|\n",
        "\n",
        "- 나눗셈 (`/`) 은 항상 float를 돌려줍니다.\n",
        "- 정수 나눗셈 으로 (소수부 없이) 정수 결과를 얻으려면 `//` 연산자를 사용합니다.\n"
      ]
    },
    {
      "cell_type": "code",
      "execution_count": null,
      "metadata": {
        "id": "XexWPhhEa2Eq"
      },
      "outputs": [],
      "source": [
        "# 2의 1000승을 확인해봅시다."
      ]
    },
    {
      "cell_type": "code",
      "execution_count": 44,
      "metadata": {
        "colab": {
          "base_uri": "https://localhost:8080/"
        },
        "id": "Qyj5DB2-a2Eq",
        "outputId": "5b007e6d-2005-4041-8bdd-bf4def371257"
      },
      "outputs": [
        {
          "output_type": "stream",
          "name": "stdout",
          "text": [
            "10715086071862673209484250490600018105614048117055336074437503883703510511249361224931983788156958581275946729175531468251871452856923140435984577574698574803934567774824230985421074605062371141877954182153046474983581941267398767559165543946077062914571196477686542167660429831652624386837205668069376\n"
          ]
        }
      ],
      "source": [
        "print(2**1000)"
      ]
    },
    {
      "cell_type": "code",
      "execution_count": null,
      "metadata": {
        "id": "2-B-_1Rda2Eq"
      },
      "outputs": [],
      "source": [
        "# 나눗셈과 관련된 산술연산자를 활용해봅시다.\n",
        "# 5와 2를 나눈 값을 출력해봅시다.\n",
        "# 5와 2를 나눈 값의 몫을 출력해봅시다.\n",
        "# 5와 2를 나눈 값을 integer로 형변환해봅시다.\n",
        "# 5와 2를 나눈 값의 나머지를 출력해봅시다."
      ]
    },
    {
      "cell_type": "code",
      "execution_count": 45,
      "metadata": {
        "colab": {
          "base_uri": "https://localhost:8080/"
        },
        "id": "YE86TRn0a2Eq",
        "outputId": "bd61d9df-f35a-471e-beb2-794e1df2363c"
      },
      "outputs": [
        {
          "output_type": "stream",
          "name": "stdout",
          "text": [
            "2.5\n",
            "2\n",
            "2\n",
            "1\n"
          ]
        }
      ],
      "source": [
        "print(5/2)\n",
        "\n",
        "print(5//2)\n",
        "\n",
        "print(int(5/2))\n",
        "\n",
        "print(5%2)"
      ]
    },
    {
      "cell_type": "code",
      "execution_count": null,
      "metadata": {
        "id": "Wfv8rp14a2Eq"
      },
      "outputs": [],
      "source": [
        "# divmod는 나눗셈과 관련된 함수입니다.\n",
        "# divmod() 에 5와 2를 넣고 결과를 print로 확인해봅시다.\n",
        "# 변수 quotient, remainder 에 divmod(5, 2)의 값을 할당해봅시다.\n",
        "# f-string을 활용하여 quorient와 remainder의 값을 출력해봅시다."
      ]
    },
    {
      "cell_type": "code",
      "execution_count": 46,
      "metadata": {
        "colab": {
          "base_uri": "https://localhost:8080/"
        },
        "id": "bEW5vW7La2Eq",
        "outputId": "8b835c7b-40f0-4023-ee6f-62544dfda3f4"
      },
      "outputs": [
        {
          "output_type": "stream",
          "name": "stdout",
          "text": [
            "(2, 1)\n",
            "몫: 2, 나머지: 1\n"
          ]
        }
      ],
      "source": [
        "print(divmod(5,2))\n",
        "\n",
        "quotient,remainder = divmod(5,2)\n",
        "\n",
        "print(f\"몫: {quotient}, 나머지: {remainder}\")"
      ]
    },
    {
      "cell_type": "code",
      "execution_count": null,
      "metadata": {
        "id": "nXyCFZXia2Eq"
      },
      "outputs": [],
      "source": [
        "# 음수 양수 표현도 해봅시다.\n",
        "# 변수 positive_num 에 4를 할당하고 print할 때 -를 붙여서 print로 출력해봅시다.\n",
        "# 변수 negative_num 에 -4를 할당하고 print할 때 + 와 - 를 붙여서 각각을 print로 출력해봅시다."
      ]
    },
    {
      "cell_type": "code",
      "execution_count": 47,
      "metadata": {
        "colab": {
          "base_uri": "https://localhost:8080/"
        },
        "id": "0TfDm0wqa2Eq",
        "outputId": "3c77fbba-4c37-46dd-8aac-c3c609211459"
      },
      "outputs": [
        {
          "output_type": "stream",
          "name": "stdout",
          "text": [
            "-4\n"
          ]
        }
      ],
      "source": [
        "positive_num = 4\n",
        "\n",
        "print(-positive_num)"
      ]
    },
    {
      "cell_type": "code",
      "source": [
        "negative_num = -4\n",
        "\n",
        "print(+negative_num)\n",
        "\n",
        "print(-negative_num)"
      ],
      "metadata": {
        "colab": {
          "base_uri": "https://localhost:8080/"
        },
        "id": "5upd7Ax_uY-3",
        "outputId": "5d35517e-08be-415a-9594-158c167c0fd6"
      },
      "execution_count": 48,
      "outputs": [
        {
          "output_type": "stream",
          "name": "stdout",
          "text": [
            "-4\n",
            "4\n"
          ]
        }
      ]
    },
    {
      "cell_type": "markdown",
      "metadata": {
        "id": "1qWoIJqMa2Er"
      },
      "source": [
        "## 비교 연산자 (Comparison Operator)\n",
        "\n",
        "우리가 수학에서 배운 연산자와 동일하게 값을 비교할 수 있습니다.\n",
        "\n",
        "|연산자|내용|\n",
        "|----|---|\n",
        "|`<`|미만|\n",
        "|`<=`|이하|\n",
        "|`>`|초과|\n",
        "|`>=`|이상|\n",
        "|`==`|같음|\n",
        "|`!=`|같지않음|\n",
        "|`is`|객체 아이덴티티|\n",
        "|`is not`|객체 아이덴티티가 아닌경우|\n"
      ]
    },
    {
      "cell_type": "code",
      "execution_count": null,
      "metadata": {
        "id": "74sOkO4sa2Er"
      },
      "outputs": [],
      "source": [
        "# 숫자의 대소관계를 비교해봅시다.\n",
        "# 아무 정수 2개를 비교해봅시다."
      ]
    },
    {
      "cell_type": "code",
      "execution_count": 49,
      "metadata": {
        "colab": {
          "base_uri": "https://localhost:8080/"
        },
        "id": "JYFjJioVa2Er",
        "outputId": "f6efaef9-d25f-48ca-f7db-112916e43046"
      },
      "outputs": [
        {
          "output_type": "stream",
          "name": "stdout",
          "text": [
            "False\n"
          ]
        }
      ],
      "source": [
        "print(2 > 3)"
      ]
    },
    {
      "cell_type": "code",
      "execution_count": null,
      "metadata": {
        "id": "8wu9ToC6a2Er"
      },
      "outputs": [],
      "source": [
        "# 다른 숫자인지 확인해봅시다.\n",
        "# 3의 정수형과 실수형이 같은지 비교해봅시다."
      ]
    },
    {
      "cell_type": "code",
      "execution_count": 50,
      "metadata": {
        "colab": {
          "base_uri": "https://localhost:8080/"
        },
        "id": "cwgArlLZa2Er",
        "outputId": "8f65eb4e-b7dd-4ad8-c0af-2f8c77ea8452"
      },
      "outputs": [
        {
          "output_type": "stream",
          "name": "stdout",
          "text": [
            "True\n"
          ]
        }
      ],
      "source": [
        "print(int(3) == float(3))"
      ]
    },
    {
      "cell_type": "code",
      "execution_count": null,
      "metadata": {
        "id": "Tk748joUa2Er"
      },
      "outputs": [],
      "source": [
        "# 같은 숫자인지 확인해봅시다.\n",
        "# 같은 숫자를 != 를 확인하여 비교해봅시다."
      ]
    },
    {
      "cell_type": "code",
      "execution_count": 51,
      "metadata": {
        "colab": {
          "base_uri": "https://localhost:8080/"
        },
        "id": "vMSjlKmEa2Er",
        "outputId": "9813fccd-f585-45ce-e957-66d213ee45fa"
      },
      "outputs": [
        {
          "output_type": "stream",
          "name": "stdout",
          "text": [
            "True\n"
          ]
        }
      ],
      "source": [
        "print(3 != 4)"
      ]
    },
    {
      "cell_type": "code",
      "execution_count": null,
      "metadata": {
        "id": "BWiiopEla2Er"
      },
      "outputs": [],
      "source": [
        "# 문자열도 같은지 확인해봅시다.\n",
        "# 대문자 HI와 소문자 hi가 같은지 확인해 봅시다."
      ]
    },
    {
      "cell_type": "code",
      "execution_count": 52,
      "metadata": {
        "colab": {
          "base_uri": "https://localhost:8080/"
        },
        "id": "PD6W8ykqa2Er",
        "outputId": "912afca7-1af3-4c5f-e8a1-2b3d4dfe1bf8"
      },
      "outputs": [
        {
          "output_type": "stream",
          "name": "stdout",
          "text": [
            "False\n"
          ]
        }
      ],
      "source": [
        "print('HI' == 'hi')"
      ]
    },
    {
      "cell_type": "code",
      "execution_count": 53,
      "metadata": {
        "colab": {
          "base_uri": "https://localhost:8080/"
        },
        "id": "c-FhjVzXa2Es",
        "outputId": "037df239-ae0f-4bbf-fce3-c47bb2f0572a"
      },
      "outputs": [
        {
          "output_type": "execute_result",
          "data": {
            "text/plain": [
              "False"
            ]
          },
          "metadata": {},
          "execution_count": 53
        }
      ],
      "source": [
        "# 특정 변수가 비어있는지 확인하기 위해서는\n",
        "# x == None이 아닌 x is None을 쓰는 것을 권장합니다.  그래???\n",
        "# 상세한 내용은 OOP 챕터에서 확인해 봅시다. \n",
        "x = 3\n",
        "x is None"
      ]
    },
    {
      "cell_type": "code",
      "source": [
        ""
      ],
      "metadata": {
        "id": "7TY8RWxSuYOW"
      },
      "execution_count": null,
      "outputs": []
    },
    {
      "cell_type": "markdown",
      "metadata": {
        "id": "dt4jXj25a2Es"
      },
      "source": [
        "## 논리 연산자\n",
        "\n",
        "|연산자|내용|\n",
        "|---|---|\n",
        "|a and b|a와 b 모두 True시만 True|\n",
        "|a or b|a 와 b 모두 False시만 False|\n",
        "|not a|True -> False, False -> True|\n",
        "\n",
        "다른 언어에서 논리연산자로 주로 사용하는 `&` 과 `|`은 파이썬에서 비트 연산자입니다."
      ]
    },
    {
      "cell_type": "code",
      "execution_count": null,
      "metadata": {
        "id": "KiqBlg_8a2Es"
      },
      "outputs": [],
      "source": [
        "# and과 관련해서 모든 경우를 출력해봅시다.\n",
        "# True와 False를 이용하여 and 의 모든 경우의 수(4개)를 출력해봅시다. \n",
        "# (True and True), (True and False), ..."
      ]
    },
    {
      "cell_type": "code",
      "execution_count": 54,
      "metadata": {
        "colab": {
          "base_uri": "https://localhost:8080/"
        },
        "id": "U9pQOToXa2Es",
        "outputId": "16bd99b1-e9ee-4013-e675-a141a130fc46"
      },
      "outputs": [
        {
          "output_type": "stream",
          "name": "stdout",
          "text": [
            "True\n",
            "False\n",
            "False\n",
            "False\n"
          ]
        }
      ],
      "source": [
        "print(True and True)\n",
        "print(True and False)\n",
        "print(False and True)\n",
        "print(False and False)"
      ]
    },
    {
      "cell_type": "code",
      "execution_count": null,
      "metadata": {
        "id": "hvUovxQMa2Es"
      },
      "outputs": [],
      "source": [
        "# or과 관련해서 모든 경우를 출력해봅시다.\n",
        "# True와 False를 이용하여 or 의 모든 경우의 수(4개)를 출력해봅시다.\n",
        "# (True or True), (True or False), ..."
      ]
    },
    {
      "cell_type": "code",
      "execution_count": 56,
      "metadata": {
        "colab": {
          "base_uri": "https://localhost:8080/"
        },
        "id": "kriVNRc6a2Es",
        "outputId": "3d25eb4f-3de5-493f-e2d4-cde3331e0857"
      },
      "outputs": [
        {
          "output_type": "stream",
          "name": "stdout",
          "text": [
            "True\n",
            "True\n",
            "True\n",
            "False\n"
          ]
        }
      ],
      "source": [
        "print(True or True)\n",
        "print(True or False)\n",
        "print(False or True)\n",
        "print(False or False)"
      ]
    },
    {
      "cell_type": "code",
      "execution_count": null,
      "metadata": {
        "id": "4w7euOc_a2Es"
      },
      "outputs": [],
      "source": [
        "# not을 활용해봅시다.\n",
        "# print를 이용하여 True 와 0의 not 값을 각각 확인해봅시다."
      ]
    },
    {
      "cell_type": "code",
      "execution_count": 57,
      "metadata": {
        "colab": {
          "base_uri": "https://localhost:8080/"
        },
        "id": "pSmbp9uga2Es",
        "outputId": "30cfa950-6db2-4977-c0d6-41775174e1fe"
      },
      "outputs": [
        {
          "output_type": "stream",
          "name": "stdout",
          "text": [
            "False\n",
            "True\n"
          ]
        }
      ],
      "source": [
        "print(not(True))\n",
        "\n",
        "print(not(0))"
      ]
    },
    {
      "cell_type": "markdown",
      "metadata": {
        "id": "-1iJrsJ9a2Es"
      },
      "source": [
        "* 파이썬에서 and는 a가 거짓이면 a를 리턴하고, 참이면 b를 리턴합니다.\n",
        "* 파이썬에서 or은 a가 참이면 a를 리턴하고, 거짓이면 b를 리턴합니다."
      ]
    },
    {
      "cell_type": "markdown",
      "metadata": {
        "id": "s1yQwaCja2Es"
      },
      "source": [
        "논리연산자는 비교연산자와 함께 사용 가능합니다."
      ]
    },
    {
      "cell_type": "code",
      "execution_count": 58,
      "metadata": {
        "colab": {
          "base_uri": "https://localhost:8080/"
        },
        "id": "sdAZbat_a2Et",
        "outputId": "b24b1e8f-cfc0-4c81-ecf5-e09c2eeace57"
      },
      "outputs": [
        {
          "output_type": "execute_result",
          "data": {
            "text/plain": [
              "True"
            ]
          },
          "metadata": {},
          "execution_count": 58
        }
      ],
      "source": [
        "num = 100\n",
        "num >= 100 and num % 3 == 1"
      ]
    },
    {
      "cell_type": "markdown",
      "metadata": {
        "id": "siEnMGr9a2Et"
      },
      "source": [
        "### 단축평가\n",
        "* 첫 번째 값이 확실할 때, 두 번째 값은 확인 하지 않습니다.\n",
        "* 조건문에서 뒷 부분을 판단하지 않아도 되기 때문에 속도가 향상됩니다."
      ]
    },
    {
      "cell_type": "code",
      "execution_count": null,
      "metadata": {
        "id": "LPbXC6JYa2Et"
      },
      "outputs": [],
      "source": [
        "# 문자열 'a'와 'b'의 and 값이 무엇인지 확인해봅시다."
      ]
    },
    {
      "cell_type": "code",
      "execution_count": 59,
      "metadata": {
        "colab": {
          "base_uri": "https://localhost:8080/"
        },
        "id": "v4CoBcYma2Et",
        "outputId": "2fdf2692-f8d9-445e-ab1e-f83b7e3fa95f"
      },
      "outputs": [
        {
          "output_type": "stream",
          "name": "stdout",
          "text": [
            "b\n"
          ]
        }
      ],
      "source": [
        "print('a' and 'b')"
      ]
    },
    {
      "cell_type": "code",
      "execution_count": null,
      "metadata": {
        "id": "GGCumOnQa2Et"
      },
      "outputs": [],
      "source": [
        "# 문자열 'a'와 'b'의 or 값이 무엇인지 확인해봅시다."
      ]
    },
    {
      "cell_type": "code",
      "execution_count": 60,
      "metadata": {
        "colab": {
          "base_uri": "https://localhost:8080/"
        },
        "id": "hWI4Ud7ma2Et",
        "outputId": "e68f35ec-0330-461b-e76f-8eeccfce07b9"
      },
      "outputs": [
        {
          "output_type": "stream",
          "name": "stdout",
          "text": [
            "a\n"
          ]
        }
      ],
      "source": [
        "print('a' or 'b')"
      ]
    },
    {
      "cell_type": "code",
      "execution_count": 61,
      "metadata": {
        "id": "QCFgzFwKa2Et"
      },
      "outputs": [],
      "source": [
        "vowels = 'aeiou'"
      ]
    },
    {
      "cell_type": "code",
      "execution_count": null,
      "metadata": {
        "id": "xxmdWvxwa2Et"
      },
      "outputs": [],
      "source": [
        "# 'a' and 'b' 의 결과값이 vowels에 포함이 되었는지 확인해봅시다."
      ]
    },
    {
      "cell_type": "code",
      "execution_count": 62,
      "metadata": {
        "colab": {
          "base_uri": "https://localhost:8080/"
        },
        "id": "TgUoGtfOa2Et",
        "outputId": "d1df4561-6f59-4ade-f606-ac7ea26bb2c2"
      },
      "outputs": [
        {
          "output_type": "stream",
          "name": "stdout",
          "text": [
            "False\n"
          ]
        }
      ],
      "source": [
        "print(('a' and 'b') in vowels)"
      ]
    },
    {
      "cell_type": "code",
      "execution_count": 63,
      "metadata": {
        "id": "FHUPawqfa2Et"
      },
      "outputs": [],
      "source": [
        "# 'b' and 'a' 의 결과값이 vowels에 포함이 되었는지 확인해봅시다. "
      ]
    },
    {
      "cell_type": "code",
      "execution_count": 64,
      "metadata": {
        "colab": {
          "base_uri": "https://localhost:8080/"
        },
        "id": "VSmyo5vna2Eu",
        "outputId": "efeca168-6d2b-4726-cad4-abcb779040da"
      },
      "outputs": [
        {
          "output_type": "stream",
          "name": "stdout",
          "text": [
            "True\n"
          ]
        }
      ],
      "source": [
        "print(('b' and 'a') in vowels)"
      ]
    },
    {
      "cell_type": "markdown",
      "metadata": {
        "id": "J0gn2RG2a2Eu"
      },
      "source": [
        "- `and` 는 둘 다 `True`일 경우만 `True`이기 때문에 첫 번째 값이 `True`라도 두번째 값을 확인해야 하기 때문에 `'b'`가 반환됩니다.\n",
        "- `or` 는 하나만 `True`라도 `True`이기 때문에 `True`를 만나면 해당 값을 바로 반환합니다."
      ]
    },
    {
      "cell_type": "code",
      "execution_count": null,
      "metadata": {
        "id": "1ZIK-IdJa2Eu"
      },
      "outputs": [],
      "source": [
        "# and의 단축평가(short-circuit evaluation)에 대해서 알아봅시다.\n",
        "# (3 and 5) , (3 and 0), (0 and 3), (0 and 0) 의 결과를 print로 출력해봅시다."
      ]
    },
    {
      "cell_type": "code",
      "execution_count": 65,
      "metadata": {
        "colab": {
          "base_uri": "https://localhost:8080/"
        },
        "id": "fbs1c-sea2Eu",
        "outputId": "1127f689-d365-4f8b-f8c9-9cc7211f0816"
      },
      "outputs": [
        {
          "output_type": "stream",
          "name": "stdout",
          "text": [
            "5\n",
            "0\n",
            "0\n",
            "0\n"
          ]
        }
      ],
      "source": [
        "print(3 and 5)\n",
        "print(3 and 0)\n",
        "print(0 and 3)\n",
        "print(0 and 0)"
      ]
    },
    {
      "cell_type": "code",
      "execution_count": null,
      "metadata": {
        "id": "9ah_zRH3a2Eu"
      },
      "outputs": [],
      "source": [
        "# or의 단축평가(short-circuit evaluation)에 대해서 알아봅시다.\n",
        "# (3 or 5) , (3 or 0), (0 or 3), (0 or 0) 의 결과를 print로 출력해봅시다."
      ]
    },
    {
      "cell_type": "code",
      "execution_count": 66,
      "metadata": {
        "colab": {
          "base_uri": "https://localhost:8080/"
        },
        "id": "5n3TRvy7a2Eu",
        "outputId": "bbd7a29b-9f04-44f8-c023-89c61fcb0747"
      },
      "outputs": [
        {
          "output_type": "stream",
          "name": "stdout",
          "text": [
            "5\n",
            "3\n",
            "3\n",
            "0\n"
          ]
        }
      ],
      "source": [
        "print(5 or 3)\n",
        "print(3 or 0)\n",
        "print(0 or 3)\n",
        "print(0 or 0)"
      ]
    },
    {
      "cell_type": "markdown",
      "metadata": {
        "id": "x1CHYTVfa2Eu"
      },
      "source": [
        "## 복합 연산자\n",
        "\n",
        "복합 연산자는 연산과 할당이 함께 이뤄집니다. \n",
        "\n",
        "반복문을 통해서 갯수를 카운트할 때 자주 사용합니다.\n",
        "\n",
        "|연산자|내용|\n",
        "|----|---|\n",
        "|a += b|a = a + b|\n",
        "|a -= b|a = a - b|\n",
        "|a \\*= b|a = a \\* b|\n",
        "|a /= b|a = a / b|\n",
        "|a //= b|a = a // b|\n",
        "|a %= b|a = a % b|\n",
        "|a \\*\\*= b|a = a ** b|"
      ]
    },
    {
      "cell_type": "code",
      "execution_count": null,
      "metadata": {
        "id": "QZjYmy-3a2Eu"
      },
      "outputs": [],
      "source": [
        "# 복합연산자는 사용 예시\n",
        "\n",
        "# 0으로 할당된 변수 cnt 를\n",
        "# 반복문 while 을 이용하여 5회 반복하는데\n",
        "# 반복하는 동안 cnt를 print로 출력하고 cnt에 1씩 더해봅시다.\n",
        "# 단, cnt 를 더할때는 복합연산자를 사용해봅시다."
      ]
    },
    {
      "cell_type": "code",
      "execution_count": 67,
      "metadata": {
        "colab": {
          "base_uri": "https://localhost:8080/"
        },
        "id": "LLkOwz7Xa2Ev",
        "outputId": "2d481174-713c-4c84-cdac-958364ad3386"
      },
      "outputs": [
        {
          "output_type": "stream",
          "name": "stdout",
          "text": [
            "0\n",
            "1\n",
            "2\n",
            "3\n",
            "4\n"
          ]
        }
      ],
      "source": [
        "cnt = 0\n",
        "while cnt < 5:\n",
        "    print(cnt)\n",
        "    cnt += 1"
      ]
    },
    {
      "cell_type": "markdown",
      "metadata": {
        "id": "aF5OkKCga2Ev"
      },
      "source": [
        "## 식별 연산자 (Identity Operator)\n",
        "\n",
        "`is` 연산자를 통해 동일한 object인지 확인할 수 있습니다. \n",
        "\n",
        "(OOP 챕터에서 다시 학습합니다.)"
      ]
    },
    {
      "cell_type": "code",
      "execution_count": null,
      "metadata": {
        "id": "jHoDyDmma2Ev"
      },
      "outputs": [],
      "source": [
        "# 파이썬에서 -5 부터 256 까지의 id는 동일합니다.\n",
        "# 변수 a에는 3을 변수 b에는 3을 할당해봅시다.\n",
        "# a 와 b 가 동일한 object인지 is 연산자를 통해 확인해봅시다.\n",
        "# 그리고 a와 b의 id 값을 각각 출력해 봅시다."
      ]
    },
    {
      "cell_type": "code",
      "execution_count": 68,
      "metadata": {
        "colab": {
          "base_uri": "https://localhost:8080/"
        },
        "id": "7ZB7F1gda2Ev",
        "outputId": "3863835e-588f-4f85-df12-a1d6a1ffd6f3"
      },
      "outputs": [
        {
          "output_type": "stream",
          "name": "stdout",
          "text": [
            "True\n",
            "11256128\n",
            "11256128\n"
          ]
        }
      ],
      "source": [
        "a = 3\n",
        "\n",
        "b = 3\n",
        "\n",
        "print(a is b)\n",
        "\n",
        "print(id(a))\n",
        "print(id(b))"
      ]
    },
    {
      "cell_type": "code",
      "execution_count": null,
      "metadata": {
        "id": "jmBG-E7-a2Ev"
      },
      "outputs": [],
      "source": [
        "# 257 이후의 id 는 다릅니다.\n",
        "# 변수 a에는 257을 변수 b에는 257을 할당해봅시다.\n",
        "# a 와 b 가 동일한 object인지 is 연산자를 통해 확인해봅시다.\n",
        "# 그리고 a와 b의 id 값을 각각 출력해 봅시다."
      ]
    },
    {
      "cell_type": "code",
      "execution_count": 69,
      "metadata": {
        "colab": {
          "base_uri": "https://localhost:8080/"
        },
        "id": "UKo4UJc4a2Ev",
        "outputId": "f1898e9a-34a2-4363-c255-04c07d21dd50"
      },
      "outputs": [
        {
          "output_type": "stream",
          "name": "stdout",
          "text": [
            "False\n",
            "139873594603376\n",
            "139873594604848\n"
          ]
        }
      ],
      "source": [
        "a = 257\n",
        "\n",
        "b = 257\n",
        "\n",
        "print(a is b)\n",
        "print(id(a))\n",
        "print(id(b))"
      ]
    },
    {
      "cell_type": "markdown",
      "metadata": {
        "id": "pg4P3PTsa2Ev"
      },
      "source": [
        "## 멤버십 연산자 (Membership Operatoe)\n",
        "\n",
        "요소가 시퀀스에 속해있는지 확인할 수 있습니다.\n",
        "- `in` 연산자\n",
        "- `not in` 연산자"
      ]
    },
    {
      "cell_type": "code",
      "execution_count": null,
      "metadata": {
        "id": "-H_F5CwGa2Ev"
      },
      "outputs": [],
      "source": [
        "# 리스트안에 특정한 정수가 있는지 확인해봅시다.\n",
        "# 정수 1 이 [3, 2] 리스트에 속해있는지 확인해봅시다."
      ]
    },
    {
      "cell_type": "code",
      "execution_count": 70,
      "metadata": {
        "colab": {
          "base_uri": "https://localhost:8080/"
        },
        "id": "HK1H3daQa2Ev",
        "outputId": "470a6ef7-8640-463c-cf0d-dc304b9c22e2"
      },
      "outputs": [
        {
          "output_type": "stream",
          "name": "stdout",
          "text": [
            "False\n"
          ]
        }
      ],
      "source": [
        "print(1 in [3.2])"
      ]
    },
    {
      "cell_type": "code",
      "execution_count": null,
      "metadata": {
        "id": "Z7Soxhc5a2Ev"
      },
      "outputs": [],
      "source": [
        "# 튜플안에 특정한 정수가 있는지 확인해봅시다.\n",
        "# 정수 5가 (1, 2, 'hi') 튜플에 속해있는지 확인해봅시다."
      ]
    },
    {
      "cell_type": "code",
      "execution_count": 71,
      "metadata": {
        "colab": {
          "base_uri": "https://localhost:8080/"
        },
        "id": "d6aK-WFFa2Ew",
        "outputId": "5610bf74-a080-4564-f2bf-89ef52ba434f"
      },
      "outputs": [
        {
          "output_type": "stream",
          "name": "stdout",
          "text": [
            "False\n"
          ]
        }
      ],
      "source": [
        "print(5 in (1,2,'hi'))"
      ]
    },
    {
      "cell_type": "code",
      "execution_count": null,
      "metadata": {
        "id": "piyNi9Gwa2Ew"
      },
      "outputs": [],
      "source": [
        "# range안에 특정한 정수가 있는지 확인해봅시다.\n",
        "# -3이 range(3) 에 속해있는지 확인해봅시다."
      ]
    },
    {
      "cell_type": "code",
      "execution_count": 72,
      "metadata": {
        "colab": {
          "base_uri": "https://localhost:8080/"
        },
        "id": "HnTNZBbza2Ew",
        "outputId": "819e853a-f1d7-4369-9fbc-bf228352bd18"
      },
      "outputs": [
        {
          "output_type": "stream",
          "name": "stdout",
          "text": [
            "False\n"
          ]
        }
      ],
      "source": [
        "print(-3 in range(3))"
      ]
    },
    {
      "cell_type": "code",
      "execution_count": null,
      "metadata": {
        "id": "Ve3Ig8Lja2Ew"
      },
      "outputs": [],
      "source": [
        "# 문자열안에 특정한 문자가 있는지 확인해봅시다.\n",
        "# 문자열 'a' 가 'apple' 에 속해있는지 확인해봅시다."
      ]
    },
    {
      "cell_type": "code",
      "execution_count": 73,
      "metadata": {
        "colab": {
          "base_uri": "https://localhost:8080/"
        },
        "id": "V3rKLfJEa2Ew",
        "outputId": "27b6bcbb-0504-4475-c55c-c24b9f82583a"
      },
      "outputs": [
        {
          "output_type": "stream",
          "name": "stdout",
          "text": [
            "True\n"
          ]
        }
      ],
      "source": [
        "print('a' in 'apple')"
      ]
    },
    {
      "cell_type": "code",
      "execution_count": null,
      "metadata": {
        "id": "tSbrXMfda2Ew"
      },
      "outputs": [],
      "source": [
        "# 리스트안에 특정한 문자가 없는지 확인해봅시다.\n",
        "# 문자열 'b' 가 'apple' 에 속해있는지 확인해봅시다."
      ]
    },
    {
      "cell_type": "code",
      "execution_count": 74,
      "metadata": {
        "colab": {
          "base_uri": "https://localhost:8080/"
        },
        "id": "RfYj5Htxa2Ew",
        "outputId": "8e588dcb-5128-4220-8f42-bd73b56a858f"
      },
      "outputs": [
        {
          "output_type": "stream",
          "name": "stdout",
          "text": [
            "False\n"
          ]
        }
      ],
      "source": [
        "print('b' in 'apple')"
      ]
    },
    {
      "cell_type": "markdown",
      "metadata": {
        "id": "FPXBpj8va2Ew"
      },
      "source": [
        "## 시퀀스형 연산자(Sqeuence Type Operator)\n",
        "\n",
        "### 산술 연산자 (+)\n",
        "시퀀스를 연결(concatenation)할 수 있습니다. "
      ]
    },
    {
      "cell_type": "code",
      "execution_count": null,
      "metadata": {
        "id": "PyILd-yia2Ew"
      },
      "outputs": [],
      "source": [
        "# 두 list [1, 2] 와 ['a'] 를 + 를 이용하여 합쳐봅시다."
      ]
    },
    {
      "cell_type": "code",
      "execution_count": 75,
      "metadata": {
        "colab": {
          "base_uri": "https://localhost:8080/"
        },
        "id": "wpCQAB3Ua2Ew",
        "outputId": "b46392cf-ee17-4a4c-af87-ab8d99bd896b"
      },
      "outputs": [
        {
          "output_type": "stream",
          "name": "stdout",
          "text": [
            "[1, 2, 'a']\n"
          ]
        }
      ],
      "source": [
        "print([1,2]+['a'])"
      ]
    },
    {
      "cell_type": "code",
      "execution_count": null,
      "metadata": {
        "id": "rHcipJZ1a2Ex"
      },
      "outputs": [],
      "source": [
        "# 두 튜플 (1, 2) 와 ('a',) 를 + 를 이용하여 합쳐봅시다."
      ]
    },
    {
      "cell_type": "code",
      "execution_count": 76,
      "metadata": {
        "colab": {
          "base_uri": "https://localhost:8080/"
        },
        "id": "k5MS9a1ja2Ex",
        "outputId": "f777b08c-5a1f-4b52-f05d-5ed0f6471c73"
      },
      "outputs": [
        {
          "output_type": "stream",
          "name": "stdout",
          "text": [
            "(1, 2, 'a')\n"
          ]
        }
      ],
      "source": [
        "print((1,2)+('a',))"
      ]
    },
    {
      "cell_type": "code",
      "execution_count": null,
      "metadata": {
        "id": "o0HbnEPIa2Ex"
      },
      "outputs": [],
      "source": [
        "# range에는 사용할 수 없습니다.\n",
        "# range(1), range(2, 5) 를 + 를 이용하여 합치고자 할 때 발생하는 오류를 확인해 봅시다."
      ]
    },
    {
      "cell_type": "code",
      "execution_count": 77,
      "metadata": {
        "colab": {
          "base_uri": "https://localhost:8080/",
          "height": 174
        },
        "id": "8lyRr3JQa2Ex",
        "outputId": "117e5638-1b46-4389-db20-08c5186cb583"
      },
      "outputs": [
        {
          "output_type": "error",
          "ename": "TypeError",
          "evalue": "ignored",
          "traceback": [
            "\u001b[0;31m---------------------------------------------------------------------------\u001b[0m",
            "\u001b[0;31mTypeError\u001b[0m                                 Traceback (most recent call last)",
            "\u001b[0;32m<ipython-input-77-beebb002fc85>\u001b[0m in \u001b[0;36m<module>\u001b[0;34m()\u001b[0m\n\u001b[0;32m----> 1\u001b[0;31m \u001b[0mprint\u001b[0m\u001b[0;34m(\u001b[0m\u001b[0mrange\u001b[0m\u001b[0;34m(\u001b[0m\u001b[0;36m1\u001b[0m\u001b[0;34m)\u001b[0m\u001b[0;34m+\u001b[0m\u001b[0mrange\u001b[0m\u001b[0;34m(\u001b[0m\u001b[0;36m2\u001b[0m\u001b[0;34m,\u001b[0m\u001b[0;36m5\u001b[0m\u001b[0;34m)\u001b[0m\u001b[0;34m)\u001b[0m\u001b[0;34m\u001b[0m\u001b[0;34m\u001b[0m\u001b[0m\n\u001b[0m",
            "\u001b[0;31mTypeError\u001b[0m: unsupported operand type(s) for +: 'range' and 'range'"
          ]
        }
      ],
      "source": [
        "print(range(1)+range(2,5))"
      ]
    },
    {
      "cell_type": "code",
      "execution_count": null,
      "metadata": {
        "id": "trS0IoYka2Ex"
      },
      "outputs": [],
      "source": [
        "# 두 문자열 '12' 와 'a' 를 + 를 이용하여 합쳐봅시다."
      ]
    },
    {
      "cell_type": "code",
      "execution_count": 78,
      "metadata": {
        "colab": {
          "base_uri": "https://localhost:8080/"
        },
        "id": "qUUVEbjwa2Ex",
        "outputId": "df57abdb-68c9-4a10-8726-4df6729318b8"
      },
      "outputs": [
        {
          "output_type": "stream",
          "name": "stdout",
          "text": [
            "12a\n"
          ]
        }
      ],
      "source": [
        "print('12'+'a')"
      ]
    },
    {
      "cell_type": "markdown",
      "metadata": {
        "id": "tUGkeK98a2Ex"
      },
      "source": [
        "### 반복 연산자 (*)\n",
        "시퀀스를 반복할 수 있습니다."
      ]
    },
    {
      "cell_type": "code",
      "execution_count": null,
      "metadata": {
        "id": "XUcB30FDa2Ex"
      },
      "outputs": [],
      "source": [
        "# 리스트 [0] 을 *을 이용해 8번 반복해봅시다."
      ]
    },
    {
      "cell_type": "code",
      "execution_count": 79,
      "metadata": {
        "colab": {
          "base_uri": "https://localhost:8080/"
        },
        "id": "gV0NZUiba2Ex",
        "outputId": "2f56f362-fb3d-4ca6-a30d-8bb7952371c4"
      },
      "outputs": [
        {
          "output_type": "stream",
          "name": "stdout",
          "text": [
            "[0, 0, 0, 0, 0, 0, 0, 0]\n"
          ]
        }
      ],
      "source": [
        "print([0]*8)"
      ]
    },
    {
      "cell_type": "code",
      "execution_count": null,
      "metadata": {
        "id": "W1Ok1QGca2Ex"
      },
      "outputs": [],
      "source": [
        "# 튜플 (1, 2) 를 * 을 활용해 3번 반복해봅시다."
      ]
    },
    {
      "cell_type": "code",
      "execution_count": 80,
      "metadata": {
        "colab": {
          "base_uri": "https://localhost:8080/"
        },
        "id": "wer-o1Gta2Ex",
        "outputId": "19ca8085-92f0-4604-f332-54832fe15857"
      },
      "outputs": [
        {
          "output_type": "stream",
          "name": "stdout",
          "text": [
            "(1, 2, 1, 2, 1, 2)\n"
          ]
        }
      ],
      "source": [
        "print((1,2)*3)"
      ]
    },
    {
      "cell_type": "code",
      "execution_count": null,
      "metadata": {
        "id": "o2OnwMPfa2Ey"
      },
      "outputs": [],
      "source": [
        "# range에는 사용할 수 없습니다.\n",
        "# range(1) 을 * 연산자로 3번 반복하려고 할 때 발생하는 오류를 확인해 봅시다."
      ]
    },
    {
      "cell_type": "code",
      "execution_count": 81,
      "metadata": {
        "colab": {
          "base_uri": "https://localhost:8080/",
          "height": 174
        },
        "id": "G81uIdP0a2Ey",
        "outputId": "ea8cf026-1112-4c98-ccbc-75152263a4f9"
      },
      "outputs": [
        {
          "output_type": "error",
          "ename": "TypeError",
          "evalue": "ignored",
          "traceback": [
            "\u001b[0;31m---------------------------------------------------------------------------\u001b[0m",
            "\u001b[0;31mTypeError\u001b[0m                                 Traceback (most recent call last)",
            "\u001b[0;32m<ipython-input-81-9560600d10bb>\u001b[0m in \u001b[0;36m<module>\u001b[0;34m()\u001b[0m\n\u001b[0;32m----> 1\u001b[0;31m \u001b[0mprint\u001b[0m\u001b[0;34m(\u001b[0m\u001b[0mrange\u001b[0m\u001b[0;34m(\u001b[0m\u001b[0;36m1\u001b[0m\u001b[0;34m)\u001b[0m\u001b[0;34m*\u001b[0m\u001b[0;36m3\u001b[0m\u001b[0;34m)\u001b[0m\u001b[0;34m\u001b[0m\u001b[0;34m\u001b[0m\u001b[0m\n\u001b[0m",
            "\u001b[0;31mTypeError\u001b[0m: unsupported operand type(s) for *: 'range' and 'int'"
          ]
        }
      ],
      "source": [
        "print(range(1)*3)"
      ]
    },
    {
      "cell_type": "code",
      "execution_count": null,
      "metadata": {
        "id": "nK_f1AU3a2Ey"
      },
      "outputs": [],
      "source": [
        "# 문자열 'hi' 를 * 을 활용해 3번 반복해봅시다."
      ]
    },
    {
      "cell_type": "code",
      "execution_count": 82,
      "metadata": {
        "colab": {
          "base_uri": "https://localhost:8080/"
        },
        "id": "OSxaJVOaa2Ey",
        "outputId": "00278a4c-6159-490c-ba6e-ea19feb1b0bf"
      },
      "outputs": [
        {
          "output_type": "stream",
          "name": "stdout",
          "text": [
            "hihihi\n"
          ]
        }
      ],
      "source": [
        "print('hi' * 3)"
      ]
    },
    {
      "cell_type": "markdown",
      "metadata": {
        "id": "AVdI1q2wa2Ey"
      },
      "source": [
        "## 기타 : 인덱싱/슬라이싱 (Indexing/Slicing)\n",
        "`[]`를 통한 값을 접근하고, `[:]`을 통해 슬라이싱할 수 있습니다. (data structure 챕터에서 자세하게 학습합니다.)"
      ]
    },
    {
      "cell_type": "markdown",
      "metadata": {
        "id": "SLFho899a2Ey"
      },
      "source": [
        "### 인덱싱\n",
        "시퀀스의 특정 인덱스 값에 접근 할 수 있습니다.\n",
        "- 해당 인덱스가 없는 경우 IndexError가 발생합니다."
      ]
    },
    {
      "cell_type": "code",
      "execution_count": null,
      "metadata": {
        "id": "xRPYINmma2Ey"
      },
      "outputs": [],
      "source": [
        "# 리스트를 인덱싱을 통해 값에 접근해봅시다.\n",
        "# 리스트 [1, 2, 3]의 세번째 값을 인덱싱으로 확인해봅시다."
      ]
    },
    {
      "cell_type": "code",
      "execution_count": 83,
      "metadata": {
        "colab": {
          "base_uri": "https://localhost:8080/"
        },
        "id": "lbqcFUWPa2Ey",
        "outputId": "7d7fc937-d545-44f3-eb9a-cbb335855096"
      },
      "outputs": [
        {
          "output_type": "stream",
          "name": "stdout",
          "text": [
            "3\n"
          ]
        }
      ],
      "source": [
        "print([1,2,3][2])"
      ]
    },
    {
      "cell_type": "code",
      "execution_count": null,
      "metadata": {
        "id": "zN5WtCjva2Ey"
      },
      "outputs": [],
      "source": [
        "# 튜플을 인덱싱을 통해 값에 접근해봅시다.\n",
        "# 튜플 (1, 2, 3)의 첫번째 값을 인덱싱으로 확인해봅시다."
      ]
    },
    {
      "cell_type": "code",
      "execution_count": 84,
      "metadata": {
        "colab": {
          "base_uri": "https://localhost:8080/"
        },
        "id": "IN86gGmxa2Ey",
        "outputId": "10f33db1-d05e-4404-ec98-d8d6cc7086a1"
      },
      "outputs": [
        {
          "output_type": "stream",
          "name": "stdout",
          "text": [
            "1\n"
          ]
        }
      ],
      "source": [
        "print((1,2,3)[0])"
      ]
    },
    {
      "cell_type": "code",
      "execution_count": null,
      "metadata": {
        "id": "7tY9822Fa2Ez"
      },
      "outputs": [],
      "source": [
        "# range를 인덱싱을 통해 값에 접근해봅시다.\n",
        "# range(3)의 세번째 값을 인덱싱으로 확인해봅시다."
      ]
    },
    {
      "cell_type": "code",
      "execution_count": 85,
      "metadata": {
        "colab": {
          "base_uri": "https://localhost:8080/"
        },
        "id": "hYHY5Oxsa2Ez",
        "outputId": "1d25f0b3-2890-4dd6-daae-25f3c07efc43"
      },
      "outputs": [
        {
          "output_type": "stream",
          "name": "stdout",
          "text": [
            "2\n"
          ]
        }
      ],
      "source": [
        "print(range(3)[2])"
      ]
    },
    {
      "cell_type": "code",
      "execution_count": null,
      "metadata": {
        "id": "nWx_3qQ8a2Ez"
      },
      "outputs": [],
      "source": [
        "# 문자열을 인덱싱을 통해 값에 접근해봅시다.\n",
        "# 문자열 'abc'의 첫번째 값을 인덱싱으로 확인해봅시다."
      ]
    },
    {
      "cell_type": "code",
      "execution_count": 86,
      "metadata": {
        "colab": {
          "base_uri": "https://localhost:8080/"
        },
        "id": "b8eHj2q7a2Ez",
        "outputId": "e8f7a6d1-7135-4766-8689-734379c33ecb"
      },
      "outputs": [
        {
          "output_type": "stream",
          "name": "stdout",
          "text": [
            "a\n"
          ]
        }
      ],
      "source": [
        "print('abc'[0])"
      ]
    },
    {
      "cell_type": "code",
      "execution_count": null,
      "metadata": {
        "id": "w20pfXCoa2Ez"
      },
      "outputs": [],
      "source": [
        "# 찾고자 하는 인덱스가 존재하지 않을때 오류가 발생합니다.\n",
        "# 문자열 apple의 100번째 값을 인덱싱으로 확인하고자 할 때 발생하는 오류를 확인해봅시다."
      ]
    },
    {
      "cell_type": "code",
      "execution_count": 87,
      "metadata": {
        "colab": {
          "base_uri": "https://localhost:8080/",
          "height": 174
        },
        "id": "ALQEi8qma2Ez",
        "outputId": "b9b7e1af-12ad-4642-b42d-a9b9240317cb"
      },
      "outputs": [
        {
          "output_type": "error",
          "ename": "IndexError",
          "evalue": "ignored",
          "traceback": [
            "\u001b[0;31m---------------------------------------------------------------------------\u001b[0m",
            "\u001b[0;31mIndexError\u001b[0m                                Traceback (most recent call last)",
            "\u001b[0;32m<ipython-input-87-5af59c46f0e8>\u001b[0m in \u001b[0;36m<module>\u001b[0;34m()\u001b[0m\n\u001b[0;32m----> 1\u001b[0;31m \u001b[0mprint\u001b[0m\u001b[0;34m(\u001b[0m\u001b[0;34m'apple'\u001b[0m\u001b[0;34m[\u001b[0m\u001b[0;36m99\u001b[0m\u001b[0;34m]\u001b[0m\u001b[0;34m)\u001b[0m\u001b[0;34m\u001b[0m\u001b[0;34m\u001b[0m\u001b[0m\n\u001b[0m",
            "\u001b[0;31mIndexError\u001b[0m: string index out of range"
          ]
        }
      ],
      "source": [
        "print('apple'[99])"
      ]
    },
    {
      "cell_type": "markdown",
      "metadata": {
        "id": "BBuHVtj6a2Ez"
      },
      "source": [
        "### 슬라이싱\n",
        "- Sequence[start:end[:step]]\n",
        "\n",
        "시퀀스를 특정 단위로 슬라이싱 할 수 있습니다."
      ]
    },
    {
      "cell_type": "code",
      "execution_count": 88,
      "metadata": {
        "colab": {
          "base_uri": "https://localhost:8080/"
        },
        "id": "Gd3RR4D4a2Ez",
        "outputId": "e1766809-3cbd-40f4-e5f2-1ea2de4d7925"
      },
      "outputs": [
        {
          "output_type": "stream",
          "name": "stdout",
          "text": [
            "[2, 3, 4]\n",
            "(1, 2)\n",
            "range(5, 8)\n",
            "cd\n"
          ]
        }
      ],
      "source": [
        "# 아래 코드들을 실행한 결과를 확인하여 슬라이싱의 작동 원리를 파악해봅시다.\n",
        "print([1, 2, 3, 4][1:4])\n",
        "print((1, 2, 3)[:2])\n",
        "print(range(10)[5:8])\n",
        "print('abcd'[2:4])"
      ]
    },
    {
      "cell_type": "markdown",
      "metadata": {
        "id": "VSyzHghla2Ez"
      },
      "source": [
        "시퀀스를 `k` 간격으로 슬라이싱 할 수 있습니다."
      ]
    },
    {
      "cell_type": "code",
      "execution_count": 89,
      "metadata": {
        "colab": {
          "base_uri": "https://localhost:8080/"
        },
        "id": "qB81oRBca2Ez",
        "outputId": "2e174f81-55d0-487d-de4d-76f913ea7861"
      },
      "outputs": [
        {
          "output_type": "stream",
          "name": "stdout",
          "text": [
            "[1, 3]\n"
          ]
        }
      ],
      "source": [
        "# 아래 코드들을 실행한 결과를 확인하여 슬라이싱의 작동 원리를 파악해봅시다.\n",
        "# 문자열, 튜플, 레인지에서 모두 동일하게 동작합니다.\n",
        "print([1, 2, 3, 4][0:4:2])"
      ]
    },
    {
      "cell_type": "code",
      "execution_count": 90,
      "metadata": {
        "id": "M6aohXdua2E0"
      },
      "outputs": [],
      "source": [
        "# 아래의 코드를 실행하여 결과를 확인해 봅시다.\n",
        "s = 'abcdefghi'"
      ]
    },
    {
      "cell_type": "code",
      "execution_count": 91,
      "metadata": {
        "colab": {
          "base_uri": "https://localhost:8080/"
        },
        "id": "-dhXpx4Aa2E0",
        "outputId": "42b48ab1-da1f-4e4c-9bf6-fc8c13440f89"
      },
      "outputs": [
        {
          "output_type": "stream",
          "name": "stdout",
          "text": [
            "abc\n",
            "fghi\n",
            "abcdefghi\n",
            "ihgfedcba\n"
          ]
        }
      ],
      "source": [
        "print(s[:3])\n",
        "print(s[5:])\n",
        "print(s[::])\n",
        "print(s[::-1])"
      ]
    },
    {
      "cell_type": "markdown",
      "metadata": {
        "id": "aNjptBnza2E0"
      },
      "source": [
        "## 연산자 우선순위\n",
        "\n",
        "0. `()`을 통한 grouping\n",
        "\n",
        "1. Slicing\n",
        "\n",
        "2. Indexing\n",
        "\n",
        "3. 제곱연산자\n",
        "    `**`\n",
        "\n",
        "4. 단항연산자 \n",
        "    `+`, `-` (음수/양수 부호)\n",
        "\n",
        "5. 산술연산자\n",
        "    `*`, `/`, `%`\n",
        "    \n",
        "6. 산술연산자\n",
        "    `+`, `-`\n",
        " \n",
        "7. 비교연산자, `in`, `is`\n",
        "\n",
        "8. `not`\n",
        "\n",
        "9. `and` \n",
        "\n",
        "10. `or`\n",
        "\n",
        "[파이썬 문서](https://docs.python.org/ko/3/reference/expressions.html#operator-precedence)\n"
      ]
    },
    {
      "cell_type": "code",
      "execution_count": null,
      "metadata": {
        "id": "4f-f1EiFa2E0"
      },
      "outputs": [],
      "source": [
        "# 우선순위를 확인해봅시다."
      ]
    },
    {
      "cell_type": "code",
      "execution_count": null,
      "metadata": {
        "id": "AgV2Nw3ja2E0"
      },
      "outputs": [],
      "source": [
        "# -3 ** 6의 값을 확인해봅시다."
      ]
    },
    {
      "cell_type": "code",
      "execution_count": 95,
      "metadata": {
        "colab": {
          "base_uri": "https://localhost:8080/"
        },
        "id": "NuDWtv-3a2E0",
        "outputId": "68de096f-8da0-4e38-8026-3e2245e8e34c"
      },
      "outputs": [
        {
          "output_type": "stream",
          "name": "stdout",
          "text": [
            "-729\n"
          ]
        }
      ],
      "source": [
        "print(-3 ** 6) #거듭제곱을 먼저하고 단항연산자 -"
      ]
    },
    {
      "cell_type": "code",
      "execution_count": 93,
      "metadata": {
        "id": "TLZrc4wpa2E0"
      },
      "outputs": [],
      "source": [
        "# (-3) ** 6의 값을 확인해봅시다."
      ]
    },
    {
      "cell_type": "code",
      "execution_count": 94,
      "metadata": {
        "colab": {
          "base_uri": "https://localhost:8080/"
        },
        "id": "jeF-8y2Pa2E1",
        "outputId": "a3dbbcc4-f72d-4e45-9748-7124e046e967"
      },
      "outputs": [
        {
          "output_type": "stream",
          "name": "stdout",
          "text": [
            "729\n"
          ]
        }
      ],
      "source": [
        "print((-3) ** 6)"
      ]
    },
    {
      "cell_type": "markdown",
      "metadata": {
        "id": "tSbVY15ua2E1"
      },
      "source": [
        "# 정리"
      ]
    },
    {
      "cell_type": "markdown",
      "metadata": {
        "id": "5P8p85P4a2E1"
      },
      "source": [
        "## 변수(Variable)와 자료형(Data Type)\n",
        "\n",
        "<center><img width=800 height=400 src=\"https://user-images.githubusercontent.com/9452521/87640197-55a7f280-c781-11ea-9cff-19c022ce704a.png\", alt=\"variable\"/></center>\n"
      ]
    },
    {
      "cell_type": "markdown",
      "metadata": {
        "id": "P0cMcCOya2E1"
      },
      "source": [
        "## 컨테이너(Container)\n",
        "<center><img src=\"https://user-images.githubusercontent.com/18046097/61180439-44e60d80-a651-11e9-9adc-e60fa57c2165.png\", alt=\"container\"/></center>"
      ]
    },
    {
      "cell_type": "markdown",
      "metadata": {
        "id": "vRoiptzba2E1"
      },
      "source": [
        "# 프로그램 구성 단위"
      ]
    },
    {
      "cell_type": "markdown",
      "metadata": {
        "id": "tXU2m9VPa2E1"
      },
      "source": [
        "## 식별자(identifier)\n",
        "- 변수, 함수, 클래스 등 프로그램이 실행되는 동안 다양한 값을 가질수 있는 이름을 의미합니다.\n",
        "- 예약어는 사용이 불가능합니다."
      ]
    },
    {
      "cell_type": "markdown",
      "metadata": {
        "id": "XCUb33PYa2E1"
      },
      "source": [
        "## 리터럴(literal)\n",
        "- 읽혀지는 대로 쓰여있는 값 그 자체를 의미합니다."
      ]
    },
    {
      "cell_type": "code",
      "execution_count": 96,
      "metadata": {
        "id": "SUd-AMCIa2E1"
      },
      "outputs": [],
      "source": [
        "# name은 식별자 == 변수\n",
        "# '김싸피'은 리터럴\n",
        "name = '김싸피'"
      ]
    },
    {
      "cell_type": "markdown",
      "metadata": {
        "id": "H0xpaxGqa2E1"
      },
      "source": [
        "## 표현식 (Expression)\n",
        "- 새로운 데이터 값을 생성하거나 계산하는 코드 조각을 의미합니다."
      ]
    },
    {
      "cell_type": "markdown",
      "metadata": {
        "id": "91JV8ezua2E1"
      },
      "source": [
        "## 문장 (Statement)\n",
        "- 특정한 작업을 수행하는 코드 전체를 의미합니다.\n",
        "- 파이썬이 실행 가능한 최소한의 코드 단위를 말합니다.\n",
        "- 표현식은 값을 생성하는 일부분이고, 문장은 특정 작업을 수행하는 코드 전체 입니다."
      ]
    },
    {
      "cell_type": "markdown",
      "metadata": {
        "id": "W_fsBVd4a2E2"
      },
      "source": [
        "### 문장과 표현식의 관계\n",
        "\n",
        "<center><img width=\"600\" height=\"300\" src=\"https://user-images.githubusercontent.com/9452521/87619771-f41f5e00-c757-11ea-9e4b-1f76e4ca0981.png\", alt=\"variable\"/></center>"
      ]
    },
    {
      "cell_type": "code",
      "execution_count": 97,
      "metadata": {
        "colab": {
          "base_uri": "https://localhost:8080/",
          "height": 35
        },
        "id": "QhUKVa0-a2E2",
        "outputId": "981cdfde-221a-4a3e-e670-4049d4b322f1"
      },
      "outputs": [
        {
          "output_type": "execute_result",
          "data": {
            "text/plain": [
              "'ssafy'"
            ],
            "application/vnd.google.colaboratory.intrinsic+json": {
              "type": "string"
            }
          },
          "metadata": {},
          "execution_count": 97
        }
      ],
      "source": [
        "# 하나의 값(value)도 문장이 될 수 있습니다.\n",
        "'ssafy'"
      ]
    },
    {
      "cell_type": "code",
      "execution_count": 98,
      "metadata": {
        "colab": {
          "base_uri": "https://localhost:8080/"
        },
        "id": "A63CHbEQa2E2",
        "outputId": "c41fd621-b842-48aa-b4cf-49015c559636"
      },
      "outputs": [
        {
          "output_type": "execute_result",
          "data": {
            "text/plain": [
              "101"
            ]
          },
          "metadata": {},
          "execution_count": 98
        }
      ],
      "source": [
        "# 표현식(expression)도 문장이 될 수 있습니다.\n",
        "5 * 21 - 4"
      ]
    },
    {
      "cell_type": "code",
      "execution_count": 99,
      "metadata": {
        "colab": {
          "base_uri": "https://localhost:8080/",
          "height": 137
        },
        "id": "XdHZpzs_a2E2",
        "outputId": "e8f38214-3b9d-4bc0-e30d-96a60e8782fd"
      },
      "outputs": [
        {
          "output_type": "error",
          "ename": "SyntaxError",
          "evalue": "ignored",
          "traceback": [
            "\u001b[0;36m  File \u001b[0;32m\"<ipython-input-99-c34840a6b953>\"\u001b[0;36m, line \u001b[0;32m2\u001b[0m\n\u001b[0;31m    name = '\u001b[0m\n\u001b[0m            ^\u001b[0m\n\u001b[0;31mSyntaxError\u001b[0m\u001b[0;31m:\u001b[0m EOL while scanning string literal\n"
          ]
        }
      ],
      "source": [
        "# 실행 가능(executable)해야 하기 때문에 아래의 코드는 문장이 될 수 없습니다.\n",
        "name = '"
      ]
    },
    {
      "cell_type": "code",
      "source": [
        ""
      ],
      "metadata": {
        "id": "KQY46j4mzUNv"
      },
      "execution_count": null,
      "outputs": []
    }
  ],
  "metadata": {
    "hide_input": false,
    "kernelspec": {
      "display_name": "Python 3 (ipykernel)",
      "language": "python",
      "name": "python3"
    },
    "language_info": {
      "codemirror_mode": {
        "name": "ipython",
        "version": 3
      },
      "file_extension": ".py",
      "mimetype": "text/x-python",
      "name": "python",
      "nbconvert_exporter": "python",
      "pygments_lexer": "ipython3",
      "version": "3.9.13"
    },
    "toc": {
      "base_numbering": 1,
      "nav_menu": {},
      "number_sections": true,
      "sideBar": true,
      "skip_h1_title": false,
      "title_cell": "Table of Contents",
      "title_sidebar": "Python 기초",
      "toc_cell": false,
      "toc_position": {
        "height": "757px",
        "left": "53px",
        "top": "111.125px",
        "width": "305px"
      },
      "toc_section_display": true,
      "toc_window_display": true
    },
    "colab": {
      "name": "02_02_python_workshop_복습_형변환.ipynb",
      "provenance": [],
      "collapsed_sections": [
        "5P8p85P4a2E1",
        "P0cMcCOya2E1",
        "tXU2m9VPa2E1",
        "H0xpaxGqa2E1"
      ]
    }
  },
  "nbformat": 4,
  "nbformat_minor": 0
}