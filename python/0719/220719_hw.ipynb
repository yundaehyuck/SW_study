{
  "nbformat": 4,
  "nbformat_minor": 0,
  "metadata": {
    "colab": {
      "name": "220719_hw.ipynb",
      "provenance": [],
      "collapsed_sections": []
    },
    "kernelspec": {
      "name": "python3",
      "display_name": "Python 3"
    },
    "language_info": {
      "name": "python"
    }
  },
  "cells": [
    {
      "cell_type": "markdown",
      "source": [
        "# 2-1 Mutable & Immutable\n",
        "\n",
        "주어진 컨테이너들을 변경 가능한 것과 변경 불가능한 것으로 분류\n",
        "\n",
        "\n",
        "**답)**\n",
        "\n",
        "**변경 가능(mutable): List, Set, Dictionary**\n",
        "\n",
        "**변경 불가능(Immutable): String, Tuple, Range**"
      ],
      "metadata": {
        "id": "mxSY7XwVrtFJ"
      }
    },
    {
      "cell_type": "code",
      "execution_count": 1,
      "metadata": {
        "colab": {
          "base_uri": "https://localhost:8080/"
        },
        "id": "Ats-BkN6rsdR",
        "outputId": "2b3a6018-d2fe-4f20-a5e1-dd30de5effa1"
      },
      "outputs": [
        {
          "output_type": "stream",
          "name": "stdout",
          "text": [
            "abcdefg\n"
          ]
        }
      ],
      "source": [
        "#string은 왜 변경 불가능인가?\n",
        "\n",
        "s1 = 'abcdefg'\n",
        "\n",
        "print(s1)"
      ]
    },
    {
      "cell_type": "code",
      "source": [
        "s1[2] = 'f'#변경할려고하면 에러남"
      ],
      "metadata": {
        "colab": {
          "base_uri": "https://localhost:8080/",
          "height": 176
        },
        "id": "RgDHv0NhrxRu",
        "outputId": "73024cd6-320d-4ad1-8d79-78fb62cd9a5d"
      },
      "execution_count": 2,
      "outputs": [
        {
          "output_type": "error",
          "ename": "TypeError",
          "evalue": "ignored",
          "traceback": [
            "\u001b[0;31m---------------------------------------------------------------------------\u001b[0m",
            "\u001b[0;31mTypeError\u001b[0m                                 Traceback (most recent call last)",
            "\u001b[0;32m<ipython-input-2-d9cd604a4f41>\u001b[0m in \u001b[0;36m<module>\u001b[0;34m()\u001b[0m\n\u001b[0;32m----> 1\u001b[0;31m \u001b[0ms1\u001b[0m\u001b[0;34m[\u001b[0m\u001b[0;36m2\u001b[0m\u001b[0;34m]\u001b[0m \u001b[0;34m=\u001b[0m \u001b[0;34m'f'\u001b[0m\u001b[0;31m#변경할려고하면 에러남\u001b[0m\u001b[0;34m\u001b[0m\u001b[0;34m\u001b[0m\u001b[0m\n\u001b[0m",
            "\u001b[0;31mTypeError\u001b[0m: 'str' object does not support item assignment"
          ]
        }
      ]
    },
    {
      "cell_type": "code",
      "source": [
        ""
      ],
      "metadata": {
        "id": "PRMv5I1ery8e"
      },
      "execution_count": null,
      "outputs": []
    },
    {
      "cell_type": "markdown",
      "source": [
        "# 2-2 Dictionary 만들기\n",
        "\n",
        "반 학생들의 정보를 이용하여 key는 이름, value는 나이인 dictionary를 만드시오\n",
        "\n",
        "내 자리를 기준으로 앞, 뒤, 좌, 우에 앉아 있는 학생 정보를 참고하시오"
      ],
      "metadata": {
        "id": "3yNDCmlur2X5"
      }
    },
    {
      "cell_type": "code",
      "source": [
        "students = {'정하림':25, '박현영':27, '김예은':26, '김기윤':30}\n",
        "\n",
        "print(students)"
      ],
      "metadata": {
        "colab": {
          "base_uri": "https://localhost:8080/"
        },
        "id": "XG37Tbo8r1-s",
        "outputId": "6902e748-c928-42d1-8da8-df16670c784d"
      },
      "execution_count": 3,
      "outputs": [
        {
          "output_type": "stream",
          "name": "stdout",
          "text": [
            "{'정하림': 25, '박현영': 27, '김예은': 26, '김기윤': 30}\n"
          ]
        }
      ]
    },
    {
      "cell_type": "code",
      "source": [
        ""
      ],
      "metadata": {
        "id": "sdwv-nJ0sCJO"
      },
      "execution_count": null,
      "outputs": []
    },
    {
      "cell_type": "markdown",
      "source": [
        "# 2-3 평균 구하기\n",
        "\n",
        "주어진 list에 담긴 숫자들의 평균값을 출력  \n",
        "\n",
        "scores = [80,89,99,83]"
      ],
      "metadata": {
        "id": "mbP38rpYsEt0"
      }
    },
    {
      "cell_type": "code",
      "source": [
        "scores = [80, 89, 99, 83]"
      ],
      "metadata": {
        "id": "hpSUHrl5sFR3"
      },
      "execution_count": 4,
      "outputs": []
    },
    {
      "cell_type": "code",
      "source": [
        "#배운걸 이용해서 인덱싱으로 원소들의 합을 구하고\n",
        "\n",
        "sum_score = scores[0] + scores[1] +scores[2] + scores[3]"
      ],
      "metadata": {
        "id": "QqtMVCHIsHnT"
      },
      "execution_count": 5,
      "outputs": []
    },
    {
      "cell_type": "code",
      "source": [
        "#리스트 길이 구하는 len()을 이용해서 합을 길이로 나눠주면 평균\n",
        "\n",
        "mean_score = sum_score/len(scores)\n",
        "\n",
        "print(mean_score)"
      ],
      "metadata": {
        "colab": {
          "base_uri": "https://localhost:8080/"
        },
        "id": "Iy4pYs5HsJCF",
        "outputId": "1c2c7035-16e0-4774-cf86-0ffd804053e6"
      },
      "execution_count": 6,
      "outputs": [
        {
          "output_type": "stream",
          "name": "stdout",
          "text": [
            "87.75\n"
          ]
        }
      ]
    },
    {
      "cell_type": "code",
      "source": [
        ""
      ],
      "metadata": {
        "id": "sFPU-F-asK0Z"
      },
      "execution_count": null,
      "outputs": []
    }
  ]
}