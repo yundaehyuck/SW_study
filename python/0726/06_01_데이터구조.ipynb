{
  "cells": [
    {
      "cell_type": "markdown",
      "id": "47ce9281",
      "metadata": {
        "id": "47ce9281"
      },
      "source": [
        "<p style=\"font-size: 33px; font-weight: 700; margin-bottom: 3rem\">데이터 구조(Data Structure)</p>\n",
        "\n",
        "데이터 구조(Data Structure) 혹은 자료구조란 데이터에 효율적인 접근 및 수정을 가능케 하는 데이터의 구성, 관리 및 저장형식을 의미합니다.\n",
        "\n",
        "보다 정확하게는 데이터 값들, 해당 값들의 관계, 그리고 해당 데이터들에게 적용할 수 있는 함수와 명령어들의 모음을 총칭하는 단어입니다.\n",
        "\n",
        "\n",
        "**<데이터의 분류>**\n",
        "- 순서가 있는 데이터 구조(Orderd)\n",
        "    - 문자열\n",
        "    - 리스트\n",
        "    - 튜플\n",
        "- 순서가 없는 데이터 구조(Unorderd)\n",
        "    - 셋(Set)\n",
        "    - 딕셔너리(Dictionary)"
      ]
    },
    {
      "cell_type": "markdown",
      "id": "18dd9234",
      "metadata": {
        "id": "18dd9234"
      },
      "source": [
        "\n",
        "<img src=\"https://user-images.githubusercontent.com/90173310/148184923-9b2910aa-a08c-4027-9315-b8d866819a6c.png\" alt=\"drawing\" width=\"700\"/>\n",
        "\n",
        "---"
      ]
    },
    {
      "cell_type": "markdown",
      "id": "7f42d763",
      "metadata": {
        "id": "7f42d763"
      },
      "source": [
        "<p style=\"font-size: 30px; font-weight: 700; margin-bottom: 3rem; color:#2889CC\">순서가 있는 데이터 구조</p>"
      ]
    },
    {
      "cell_type": "markdown",
      "id": "4d8c90e7",
      "metadata": {
        "id": "4d8c90e7"
      },
      "source": [
        "# 문자열(String)\n",
        "\n",
        "> 변경할 수 없고(immutable), 순서가 있고(ordered), 순회 가능한(iterable)\n",
        "\n",
        "참고 : [문자열의 다양한 조작법(method)](https://docs.python.org/ko/3/library/stdtypes.html#string-methods)"
      ]
    },
    {
      "cell_type": "markdown",
      "id": "b42f3459",
      "metadata": {
        "id": "b42f3459"
      },
      "source": [
        "## 조회/탐색\n",
        "\n",
        "### `.find(x)` \n",
        "\n",
        "x의 **첫 번째 위치**를 반환합니다. 만일 리스트 내에 x가 없으면, `-1`을 반환합니다."
      ]
    },
    {
      "cell_type": "code",
      "execution_count": 2,
      "id": "90053941",
      "metadata": {
        "id": "90053941"
      },
      "outputs": [],
      "source": [
        "a = 'apple'"
      ]
    },
    {
      "cell_type": "code",
      "execution_count": 3,
      "id": "7dceabed",
      "metadata": {
        "colab": {
          "base_uri": "https://localhost:8080/"
        },
        "id": "7dceabed",
        "outputId": "3cce5779-7bb9-4eb9-bd01-2e3623ca7b16"
      },
      "outputs": [
        {
          "output_type": "stream",
          "name": "stdout",
          "text": [
            "1\n"
          ]
        }
      ],
      "source": [
        "# find 메서드로 a 문자열에 'p'가 있는지 찾아봅시다.\n",
        "\n",
        "print(a.find('p'))"
      ]
    },
    {
      "cell_type": "code",
      "execution_count": 4,
      "id": "3c4f520b",
      "metadata": {
        "colab": {
          "base_uri": "https://localhost:8080/"
        },
        "id": "3c4f520b",
        "outputId": "a699ec9a-2366-43e8-8406-f4466cf9d5d2"
      },
      "outputs": [
        {
          "output_type": "stream",
          "name": "stdout",
          "text": [
            "-1\n"
          ]
        }
      ],
      "source": [
        "# find 메서드로 a 문자열에 'z'가 있는지 찾아봅시다.\n",
        "\n",
        "print(a.find('z'))"
      ]
    },
    {
      "cell_type": "markdown",
      "id": "c44f825f",
      "metadata": {
        "id": "c44f825f"
      },
      "source": [
        "### `.index(x)`\n",
        "\n",
        "x의 **첫 번째 위치**를 반환합니다. 만일 x가 리스트 내에 없으면, 오류가 발생합니다."
      ]
    },
    {
      "cell_type": "code",
      "execution_count": 5,
      "id": "ae301115",
      "metadata": {
        "id": "ae301115"
      },
      "outputs": [],
      "source": [
        "a = 'apple'"
      ]
    },
    {
      "cell_type": "code",
      "execution_count": 6,
      "id": "ccedd90b",
      "metadata": {
        "colab": {
          "base_uri": "https://localhost:8080/"
        },
        "id": "ccedd90b",
        "outputId": "b6e77774-e7d4-4627-dd76-f50848286fc6"
      },
      "outputs": [
        {
          "output_type": "stream",
          "name": "stdout",
          "text": [
            "1\n"
          ]
        }
      ],
      "source": [
        "# index 메서드는 찾고자 하는 문자가 문자열 내에 있을 경우, 첫 번째 위치를 반환합니다.\n",
        "# index 메서드로 a 문자열에서 'p'의 위치를 확인해봅시다.\n",
        "\n",
        "print(a.index('p'))"
      ]
    },
    {
      "cell_type": "code",
      "execution_count": 7,
      "id": "6e138ab0",
      "metadata": {
        "scrolled": true,
        "colab": {
          "base_uri": "https://localhost:8080/",
          "height": 211
        },
        "id": "6e138ab0",
        "outputId": "27c388bd-9ca4-4c60-a75e-c50c0eecf04f"
      },
      "outputs": [
        {
          "output_type": "error",
          "ename": "ValueError",
          "evalue": "ignored",
          "traceback": [
            "\u001b[0;31m---------------------------------------------------------------------------\u001b[0m",
            "\u001b[0;31mValueError\u001b[0m                                Traceback (most recent call last)",
            "\u001b[0;32m<ipython-input-7-b903ee4ed5b1>\u001b[0m in \u001b[0;36m<module>\u001b[0;34m()\u001b[0m\n\u001b[1;32m      2\u001b[0m \u001b[0;31m# index 메서드로 a문자열에서 'z'의 위치를 찾고, 오류를 확인해봅시다.\u001b[0m\u001b[0;34m\u001b[0m\u001b[0;34m\u001b[0m\u001b[0;34m\u001b[0m\u001b[0m\n\u001b[1;32m      3\u001b[0m \u001b[0;34m\u001b[0m\u001b[0m\n\u001b[0;32m----> 4\u001b[0;31m \u001b[0mprint\u001b[0m\u001b[0;34m(\u001b[0m\u001b[0ma\u001b[0m\u001b[0;34m.\u001b[0m\u001b[0mindex\u001b[0m\u001b[0;34m(\u001b[0m\u001b[0;34m'z'\u001b[0m\u001b[0;34m)\u001b[0m\u001b[0;34m)\u001b[0m\u001b[0;34m\u001b[0m\u001b[0;34m\u001b[0m\u001b[0m\n\u001b[0m",
            "\u001b[0;31mValueError\u001b[0m: substring not found"
          ]
        }
      ],
      "source": [
        "# 찾고자 하는 문자가 문자열 내에 없을 경우, 오류가 발생합니다.\n",
        "# index 메서드로 a문자열에서 'z'의 위치를 찾고, 오류를 확인해봅시다.\n",
        "\n",
        "print(a.index('z'))"
      ]
    },
    {
      "cell_type": "markdown",
      "id": "206fdb81",
      "metadata": {
        "id": "206fdb81"
      },
      "source": [
        "### `.startswith(x)`, `/.endswith(x)`\n",
        "\n",
        "- `.startswith(x)` : 문자열이 x로 시작하면 True를 반환하고 아니면 False를 반환합니다.\n",
        "- `.endswith(x)` : 문자열이 x로 끝나면 True를 반환하고 아니면 False를 반환합니다.\n",
        "\n",
        "[PEP8 파이썬 스타일 가이드](https://www.python.org/dev/peps/pep-0008/)에서는 접두/접미 문자를 검색 시,\n",
        "화이트 스페이스나 인코딩 문제를 피하기 위해 문자열 분할보다 **startswith, endswith**를 권장합니다.\n",
        "\n",
        "```\n",
        "Use ''.startswith() and ''.endswith() instead of string slicing to check for prefixes or suffixes.\n",
        "\n",
        "startswith() and endswith() are cleaner and less error prone:\n",
        "\n",
        "# Correct:\n",
        "if foo.startswith('bar'):\n",
        "# Wrong:\n",
        "if foo[:3] == 'bar':\n",
        "```"
      ]
    },
    {
      "cell_type": "code",
      "execution_count": 10,
      "id": "0c9076a9",
      "metadata": {
        "id": "0c9076a9"
      },
      "outputs": [],
      "source": [
        "a = 'hello python!'"
      ]
    },
    {
      "cell_type": "code",
      "execution_count": 11,
      "id": "a369fcc4",
      "metadata": {
        "colab": {
          "base_uri": "https://localhost:8080/"
        },
        "id": "a369fcc4",
        "outputId": "4fb6d56c-c797-43a7-fa12-9bf006c77cdd"
      },
      "outputs": [
        {
          "output_type": "stream",
          "name": "stdout",
          "text": [
            "True\n"
          ]
        }
      ],
      "source": [
        "# startwith 메서드를 통해 접두문자가 'hello'인지 확인해봅시다.\n",
        "\n",
        "print(a.startswith('hello'))"
      ]
    },
    {
      "cell_type": "markdown",
      "id": "775d504b",
      "metadata": {
        "id": "775d504b"
      },
      "source": [
        "### 기타 문자열 관련 검증 메서드\n",
        "\n",
        "`is~` 로 시작하는 많은 메서드들은 문자열이 어떠한 조건에 해당하는지 검증하는 역할을 합니다.\n",
        "\n",
        "- `.isalpha()` : 문자열이 (숫자가 아닌)글자로 이루어져 있는가?\n",
        "-  `.isspace()` : 문자열이 공백으로 이루어져 있는가?\n",
        "-  `.isupper()` : 문자열이 대문자로 이루어져 있는가?\n",
        "-  `.istitle()` : 문자열이 타이틀 형식으로 이루어져 있는가?\n",
        "-  `.islower()` : 문자열이 소문자로 이루어져 있는가?\n",
        "\n",
        "등"
      ]
    },
    {
      "cell_type": "markdown",
      "id": "8a712328",
      "metadata": {
        "id": "8a712328"
      },
      "source": [
        "**숫자 판별 메서드**\n",
        "- `.isdecimal()`: 문자열이 0~9까지의 수로 이루어져 있는가?\n",
        "- `.isdigit()`: 문자열이 숫자로 이루어져 있는가?\n",
        "- `.isnumeric()`: 문자열을 수로 볼 수 있는가?\n",
        "\n",
        "\n",
        "| isdecimal() | isdigit() | isnumeric() |          Example               |\n",
        "|:-----------:|:-----------:|:-----------:|:----------------------------------:|\n",
        "|    True     |    True   |    True     | \"038\", \"੦੩੮\", \"０３８\"             |\n",
        "|  False      |    True   |    True     | \"⁰³⁸\", \"🄀⒊⒏\", \"⓪③⑧\"          |\n",
        "|  False      |  False    |    True     | \"↉⅛⅘\", \"ⅠⅢⅧ\", \"⑩⑬㊿\", \"壹貳參\"   |\n",
        "|  False      |  False    |  False      | \"abc\", \"38.0\", \"-38\"             |\n"
      ]
    },
    {
      "cell_type": "code",
      "execution_count": 14,
      "id": "439e1f57",
      "metadata": {
        "id": "439e1f57"
      },
      "outputs": [],
      "source": [
        "a = '    n'\n",
        "b = '\\n \\t '"
      ]
    },
    {
      "cell_type": "code",
      "execution_count": 15,
      "id": "5bd0503f",
      "metadata": {
        "colab": {
          "base_uri": "https://localhost:8080/"
        },
        "id": "5bd0503f",
        "outputId": "5d975937-c697-40bc-cadf-93ab635fdd86"
      },
      "outputs": [
        {
          "output_type": "stream",
          "name": "stdout",
          "text": [
            "False\n",
            "True\n"
          ]
        }
      ],
      "source": [
        "# isspace 메서드를 통해 a, b가 공백으로 이루어져 있는지 확인해봅시다.\n",
        "\n",
        "print(a.isspace())\n",
        "print(b.isspace()) ##whitespace로만 이루어져있으면 True"
      ]
    },
    {
      "cell_type": "code",
      "source": [
        "###whitespace\n",
        "import string\n",
        "\n",
        "string.whitespace"
      ],
      "metadata": {
        "colab": {
          "base_uri": "https://localhost:8080/",
          "height": 35
        },
        "id": "KGF1esSqFJc8",
        "outputId": "4de67cc3-c5a1-4bff-db44-902f29a9fc03"
      },
      "id": "KGF1esSqFJc8",
      "execution_count": 19,
      "outputs": [
        {
          "output_type": "execute_result",
          "data": {
            "text/plain": [
              "' \\t\\n\\r\\x0b\\x0c'"
            ],
            "application/vnd.google.colaboratory.intrinsic+json": {
              "type": "string"
            }
          },
          "metadata": {},
          "execution_count": 19
        }
      ]
    },
    {
      "cell_type": "code",
      "execution_count": 20,
      "id": "dc076823",
      "metadata": {
        "id": "dc076823"
      },
      "outputs": [],
      "source": [
        "a = '파이썬'\n",
        "b = 'python'\n",
        "c = 'python 3.9.9'"
      ]
    },
    {
      "cell_type": "code",
      "execution_count": 21,
      "id": "62fe996e",
      "metadata": {
        "colab": {
          "base_uri": "https://localhost:8080/"
        },
        "id": "62fe996e",
        "outputId": "572bf2b1-6edf-4991-b308-6db3c1e89037"
      },
      "outputs": [
        {
          "output_type": "stream",
          "name": "stdout",
          "text": [
            "True\n",
            "True\n",
            "False\n"
          ]
        }
      ],
      "source": [
        "# isalpha 메서드를 통해 문자열 a, b, c에 대한 알파벳 여부를 확인해봅시다.\n",
        "\n",
        "print(a.isalpha())\n",
        "print(b.isalpha())\n",
        "print(c.isalpha())"
      ]
    },
    {
      "cell_type": "markdown",
      "id": "88c1cbf6",
      "metadata": {
        "id": "88c1cbf6"
      },
      "source": [
        "## 문자열 변경"
      ]
    },
    {
      "cell_type": "markdown",
      "id": "b0c8ce38",
      "metadata": {
        "id": "b0c8ce38"
      },
      "source": [
        "### `.replace(old, new[, count])`\n",
        "\n",
        "바꿀 대상 글자를 새로운 글자로 바꿔서 반환합니다.\n",
        "\n",
        "count를 지정하면 해당 갯수만큼만 시행합니다.\n",
        "\n",
        "> **(참고)** 메서드 설명에서 `[]` 표기는 해당 parameter가 선택적임을 나타냅니다."
      ]
    },
    {
      "cell_type": "code",
      "execution_count": 22,
      "id": "45a4c64b",
      "metadata": {
        "id": "45a4c64b"
      },
      "outputs": [],
      "source": [
        "a = 'yaya!'\n",
        "b = 'wooooowoo'"
      ]
    },
    {
      "cell_type": "code",
      "execution_count": 23,
      "id": "044713f8",
      "metadata": {
        "colab": {
          "base_uri": "https://localhost:8080/"
        },
        "id": "044713f8",
        "outputId": "1829f78f-c192-413e-f402-95472f5454a2"
      },
      "outputs": [
        {
          "output_type": "stream",
          "name": "stdout",
          "text": [
            "haha!\n"
          ]
        }
      ],
      "source": [
        "# replace 메서드를 통해 a의 글자 y를 h로 변경해봅시다.\n",
        "\n",
        "print(a.replace('y','h'))"
      ]
    },
    {
      "cell_type": "code",
      "execution_count": 24,
      "id": "6f3f27d9",
      "metadata": {
        "colab": {
          "base_uri": "https://localhost:8080/"
        },
        "id": "6f3f27d9",
        "outputId": "2f8d1d57-84f4-43e9-d1c6-e27cfb36a2e5"
      },
      "outputs": [
        {
          "output_type": "stream",
          "name": "stdout",
          "text": [
            "w__ooowoo\n"
          ]
        }
      ],
      "source": [
        "# replace 메서드를 통해 b의 글자 o 2개를 _로 변경해봅시다.\n",
        "\n",
        "print(b.replace('o','_',2))"
      ]
    },
    {
      "cell_type": "markdown",
      "id": "8db06afa",
      "metadata": {
        "id": "8db06afa"
      },
      "source": [
        "### `.strip([chars])`\n",
        "\n",
        "`.strip([chars])`은 특정한 문자들을 지정하면 문자열의 모든 조합을 제거합니다. 인자가 없을 경우 공백을 제거합니다.\n",
        "\n",
        "`.lstrip([chars])`은 특정한 문자들을 지정하면 문자열의 왼쪽으로 모든 조합을 제거합니다. 인자가 없을 경우 왼쪽 공백을 제거합니다.\n",
        "\n",
        "`.rstrip([chars])`은 특정한 문자들을 지정하면 문자열의 오른쪽으로 모든 조합을 제거합니다. 인자가 없을 경우 오른쪽 공백을 제거합니다.\n",
        "\n",
        "\n",
        "`chars` 파라미터를 지정하지 않으면 공백을 제거합니다."
      ]
    },
    {
      "cell_type": "code",
      "execution_count": 1,
      "id": "6ca5935f",
      "metadata": {
        "id": "6ca5935f"
      },
      "outputs": [],
      "source": [
        "a = '   hello!  \\n'\n",
        "b = 'hihihihahahahihi'\n",
        "c = 'monty python'"
      ]
    },
    {
      "cell_type": "code",
      "execution_count": 2,
      "id": "ad26c8a9",
      "metadata": {
        "colab": {
          "base_uri": "https://localhost:8080/"
        },
        "id": "ad26c8a9",
        "outputId": "d7a8599f-7a79-4c32-fe69-f9bee10117e6"
      },
      "outputs": [
        {
          "output_type": "stream",
          "name": "stdout",
          "text": [
            "hello!\n"
          ]
        }
      ],
      "source": [
        "# strip 메서드로 a의 양쪽 공백을 제거해봅시다.\n",
        "\n",
        "print(a.strip())"
      ]
    },
    {
      "cell_type": "code",
      "source": [
        "print('    hello!    \\x0b'.strip())"
      ],
      "metadata": {
        "colab": {
          "base_uri": "https://localhost:8080/"
        },
        "id": "xBpKlmqLHLI0",
        "outputId": "8c703800-01e0-4d98-fa3a-6bd899048026"
      },
      "id": "xBpKlmqLHLI0",
      "execution_count": 3,
      "outputs": [
        {
          "output_type": "stream",
          "name": "stdout",
          "text": [
            "hello!\n"
          ]
        }
      ]
    },
    {
      "cell_type": "code",
      "execution_count": 4,
      "id": "322059f3",
      "metadata": {
        "colab": {
          "base_uri": "https://localhost:8080/"
        },
        "id": "322059f3",
        "outputId": "364720a4-4d42-4e43-c906-3815597cda47"
      },
      "outputs": [
        {
          "output_type": "stream",
          "name": "stdout",
          "text": [
            "hello!  \n",
            "\n"
          ]
        }
      ],
      "source": [
        "# lstrip 메서드로 a의 왼쪽 공백을 제거해봅시다.\n",
        "\n",
        "print(a.lstrip()) #한줄 띄어쓰기가 숨어있는"
      ]
    },
    {
      "cell_type": "code",
      "execution_count": 5,
      "id": "505437e9",
      "metadata": {
        "colab": {
          "base_uri": "https://localhost:8080/"
        },
        "id": "505437e9",
        "outputId": "4e83edf2-b36a-40d8-9256-a2e49a07b9b8"
      },
      "outputs": [
        {
          "output_type": "stream",
          "name": "stdout",
          "text": [
            "hihihihahaha\n"
          ]
        }
      ],
      "source": [
        "# rstrip 메서드로 b의 오른쪽에서부터 글자 hi를 제거해봅시다.\n",
        "\n",
        "print(b.rstrip('hi'))"
      ]
    },
    {
      "cell_type": "code",
      "execution_count": 93,
      "id": "c36c0146",
      "metadata": {
        "colab": {
          "base_uri": "https://localhost:8080/"
        },
        "id": "c36c0146",
        "outputId": "f97c2501-079b-48b9-8475-cc2c47cfb133"
      },
      "outputs": [
        {
          "output_type": "stream",
          "name": "stdout",
          "text": [
            "monty\n",
            "monty\n"
          ]
        }
      ],
      "source": [
        "# `chars` 파라미터를 지정한 경우, 모든 조합을 이용하여 제거합니다.\n",
        "# rstrip 메서드로 c의 오른쪽에서부터 글자 ' python'을 제거해봅시다.\n",
        "\n",
        "print(c.rstrip('ython').rstrip(' p'))\n",
        "\n",
        "print(c.rstrip('python').rstrip()) #p,y,t,h,o,n을 제거하다가 마지막 공백에 막혀서 'monty ' 그리고 여기서 오른쪽 공백 제거"
      ]
    },
    {
      "cell_type": "code",
      "source": [
        "print(c.removesuffix(' python')) ##3.9이상.. 버전 올려서 자동완성있는데 왜 안됨?"
      ],
      "metadata": {
        "colab": {
          "base_uri": "https://localhost:8080/",
          "height": 174
        },
        "id": "fYjb8PjtLro6",
        "outputId": "f40770c3-5f60-43aa-ab15-c7668c699802"
      },
      "id": "fYjb8PjtLro6",
      "execution_count": 3,
      "outputs": [
        {
          "output_type": "error",
          "ename": "AttributeError",
          "evalue": "ignored",
          "traceback": [
            "\u001b[0;31m---------------------------------------------------------------------------\u001b[0m",
            "\u001b[0;31mAttributeError\u001b[0m                            Traceback (most recent call last)",
            "\u001b[0;32m<ipython-input-3-bee59da496de>\u001b[0m in \u001b[0;36m<module>\u001b[0;34m()\u001b[0m\n\u001b[0;32m----> 1\u001b[0;31m \u001b[0mprint\u001b[0m\u001b[0;34m(\u001b[0m\u001b[0mc\u001b[0m\u001b[0;34m.\u001b[0m\u001b[0mremovesuffix\u001b[0m\u001b[0;34m(\u001b[0m\u001b[0;34m' python'\u001b[0m\u001b[0;34m)\u001b[0m\u001b[0;34m)\u001b[0m\u001b[0;34m\u001b[0m\u001b[0;34m\u001b[0m\u001b[0m\n\u001b[0m",
            "\u001b[0;31mAttributeError\u001b[0m: 'str' object has no attribute 'removesuffix'"
          ]
        }
      ]
    },
    {
      "cell_type": "markdown",
      "id": "af7d9fcf",
      "metadata": {
        "id": "af7d9fcf"
      },
      "source": [
        "### `.split([chars])`\n",
        "\n",
        "문자열을 특정한 단위로 나누어 리스트로 반환합니다."
      ]
    },
    {
      "cell_type": "code",
      "execution_count": 5,
      "id": "cad69112",
      "metadata": {
        "id": "cad69112"
      },
      "outputs": [],
      "source": [
        "a = 'a_b_c'"
      ]
    },
    {
      "cell_type": "code",
      "execution_count": 7,
      "id": "c90dd79e",
      "metadata": {
        "colab": {
          "base_uri": "https://localhost:8080/"
        },
        "id": "c90dd79e",
        "outputId": "977848be-0a57-4053-a095-0eea01f3e8aa"
      },
      "outputs": [
        {
          "output_type": "stream",
          "name": "stdout",
          "text": [
            "['a', 'b', 'c']\n"
          ]
        }
      ],
      "source": [
        "# split 메서드로 _를 기준으로 문자열을 나누어 리스트로 반환해봅시다.\n",
        "\n",
        "print(a.split('_'))"
      ]
    },
    {
      "cell_type": "code",
      "execution_count": 8,
      "id": "3e34ad11",
      "metadata": {
        "colab": {
          "base_uri": "https://localhost:8080/"
        },
        "id": "3e34ad11",
        "outputId": "23c24296-4675-4525-dbac-baf58820e962"
      },
      "outputs": [
        {
          "output_type": "stream",
          "name": "stdout",
          "text": [
            "입력하세요 :yun dae hyuck\n",
            "['yun', 'dae', 'hyuck']\n"
          ]
        }
      ],
      "source": [
        "# 사용자의 입력값을 받아 i에 저장합니다.\n",
        "# 입력받은 문자열을 split 메서드로 공백을 기준으로 나누어 리스트로 반환해봅시다.\n",
        "\n",
        "i = input('입력하세요 :')\n",
        "\n",
        "print(i.split())"
      ]
    },
    {
      "cell_type": "markdown",
      "id": "2b5b0276",
      "metadata": {
        "id": "2b5b0276"
      },
      "source": [
        "### `'separator'.join(iterable)`\n",
        "iterable 의 문자열들을 separator(구분자)로 이어 붙인(`join()`) 문자열을 반환합니다.\n",
        "\n",
        "다른 메서드들과 달리, <u>**구분자**</u>가 join 메서드를 제공하는 문자열입니다."
      ]
    },
    {
      "cell_type": "code",
      "execution_count": 10,
      "id": "0a766893",
      "metadata": {
        "id": "0a766893"
      },
      "outputs": [],
      "source": [
        "word = '배고파'\n",
        "words = ['안녕', 'hello']"
      ]
    },
    {
      "cell_type": "code",
      "execution_count": 11,
      "id": "aec3eacc",
      "metadata": {
        "colab": {
          "base_uri": "https://localhost:8080/"
        },
        "id": "aec3eacc",
        "outputId": "4b6923dd-de53-426c-bb3a-d685ec292e11"
      },
      "outputs": [
        {
          "output_type": "stream",
          "name": "stdout",
          "text": [
            "배!고!파\n"
          ]
        }
      ],
      "source": [
        "# join 메서드로 word의 문자열 사이에 !를 넣은 결과를 반환해봅시다.\n",
        "\n",
        "print('!'.join(word))"
      ]
    },
    {
      "cell_type": "code",
      "execution_count": 12,
      "id": "707e7183",
      "metadata": {
        "colab": {
          "base_uri": "https://localhost:8080/"
        },
        "id": "707e7183",
        "outputId": "7c78b763-fdb9-461d-8f88-c63a39c41a5a"
      },
      "outputs": [
        {
          "output_type": "stream",
          "name": "stdout",
          "text": [
            "안녕hello\n"
          ]
        }
      ],
      "source": [
        "# join 메서드로 words의 문자들을 하나로 합친 결과를 반환해봅시다.\n",
        "\n",
        "print(''.join(words))"
      ]
    },
    {
      "cell_type": "markdown",
      "id": "543679cd",
      "metadata": {
        "id": "543679cd"
      },
      "source": [
        "### `.capitalize()`, `.title()`, `.upper()`\n",
        "\n",
        "* `.capitalize()` : 앞글자를 대문자로 만들어 반환합니다.\n",
        "\n",
        "* `.title()` : 어포스트로피(*'*)나 공백 이후를 대문자로 만들어 반환합니다.\n",
        "\n",
        "* `.upper()` : 모두 대문자로 만들어 반환합니다."
      ]
    },
    {
      "cell_type": "code",
      "execution_count": 14,
      "id": "e2c9d58a",
      "metadata": {
        "id": "e2c9d58a"
      },
      "outputs": [],
      "source": [
        "a = 'hI! Everyone, I\\'m kim'"
      ]
    },
    {
      "cell_type": "code",
      "execution_count": 15,
      "id": "03ded99f",
      "metadata": {
        "colab": {
          "base_uri": "https://localhost:8080/"
        },
        "id": "03ded99f",
        "outputId": "c6629d3b-53df-4c5c-dcd3-ff3425314720"
      },
      "outputs": [
        {
          "output_type": "stream",
          "name": "stdout",
          "text": [
            "Hi! everyone, i'm kim\n"
          ]
        }
      ],
      "source": [
        "# capitalize 메서드로 a의 앞글자를 대문자로 만들어 반환해봅시다.\n",
        "\n",
        "print(a.capitalize()) #앞글자는 대문자로하고 나머지는 소문자로 만든다"
      ]
    },
    {
      "cell_type": "code",
      "execution_count": 16,
      "id": "49a706f9",
      "metadata": {
        "colab": {
          "base_uri": "https://localhost:8080/"
        },
        "id": "49a706f9",
        "outputId": "c459d7f2-c374-4e7d-fa7e-0b6b10ae0b69"
      },
      "outputs": [
        {
          "output_type": "stream",
          "name": "stdout",
          "text": [
            "Hi! Everyone, I'M Kim\n"
          ]
        }
      ],
      "source": [
        "# title 메서드로 a의 각각의 단어 앞글자를 대문자로 만들어 반환해봅시다.\n",
        "\n",
        "print(a.title())"
      ]
    },
    {
      "cell_type": "code",
      "execution_count": 17,
      "id": "0c56c1f8",
      "metadata": {
        "colab": {
          "base_uri": "https://localhost:8080/"
        },
        "id": "0c56c1f8",
        "outputId": "2d429542-6696-4fbf-882a-a51bee7b7b4f"
      },
      "outputs": [
        {
          "output_type": "stream",
          "name": "stdout",
          "text": [
            "HI! EVERYONE, I'M KIM\n"
          ]
        }
      ],
      "source": [
        "# upper 메서드로 a를 모두 대문자로 만들어 반환해봅시다.\n",
        "\n",
        "print(a.upper())"
      ]
    },
    {
      "cell_type": "code",
      "execution_count": 18,
      "id": "4fbdc2a7",
      "metadata": {
        "colab": {
          "base_uri": "https://localhost:8080/"
        },
        "id": "4fbdc2a7",
        "outputId": "0f670b2e-f1c8-4a77-c6b1-44386233ec72"
      },
      "outputs": [
        {
          "output_type": "stream",
          "name": "stdout",
          "text": [
            "hI! Everyone, I'm kim\n"
          ]
        }
      ],
      "source": [
        "# print 함수로 a를 출력하여 원본 데이터를 확인해봅시다. 원본 안바꿨는데\n",
        "\n",
        "print(a)"
      ]
    },
    {
      "cell_type": "markdown",
      "id": "b32cf528",
      "metadata": {
        "id": "b32cf528"
      },
      "source": [
        "### `.lower()`, `.swapcase()`\n",
        "\n",
        "* `lower()` : 모두 소문자로 만들어 반환합니다.\n",
        "\n",
        "* `swapcase()` : 대 <-> 소문자로 변경하여 반환합니다."
      ]
    },
    {
      "cell_type": "code",
      "execution_count": 20,
      "id": "a8ff039c",
      "metadata": {
        "id": "a8ff039c"
      },
      "outputs": [],
      "source": [
        "a = 'hI! Everyone, I\\'m kim'"
      ]
    },
    {
      "cell_type": "code",
      "execution_count": 21,
      "id": "1501edae",
      "metadata": {
        "colab": {
          "base_uri": "https://localhost:8080/"
        },
        "id": "1501edae",
        "outputId": "cd5b7ef5-a4ef-48cc-d9ef-abfa4dc738e0"
      },
      "outputs": [
        {
          "output_type": "stream",
          "name": "stdout",
          "text": [
            "hi! everyone, i'm kim\n"
          ]
        }
      ],
      "source": [
        "# lower 메서드로 a을 모두 소문자로 만들어 반환해봅시다.\n",
        "\n",
        "print(a.lower())"
      ]
    },
    {
      "cell_type": "code",
      "execution_count": 22,
      "id": "00aec388",
      "metadata": {
        "colab": {
          "base_uri": "https://localhost:8080/"
        },
        "id": "00aec388",
        "outputId": "86d4e2f4-40bf-4f91-92bd-222a2506c97c"
      },
      "outputs": [
        {
          "output_type": "stream",
          "name": "stdout",
          "text": [
            "Hi! eVERYONE, i'M KIM\n"
          ]
        }
      ],
      "source": [
        "# swapcase 메서드로 a의 대소문자를 서로 변경하여 반환해봅시다.\n",
        "\n",
        "print(a.swapcase())"
      ]
    },
    {
      "cell_type": "code",
      "execution_count": 23,
      "id": "6e72bf87",
      "metadata": {
        "colab": {
          "base_uri": "https://localhost:8080/"
        },
        "id": "6e72bf87",
        "outputId": "6595f091-f2e8-4e64-f8c1-fb1448a4f125"
      },
      "outputs": [
        {
          "output_type": "stream",
          "name": "stdout",
          "text": [
            "hI! Everyone, I'm kim\n"
          ]
        }
      ],
      "source": [
        "# print 함수로 a를 출력하여 원본데이터를 확인해봅시다.\n",
        "\n",
        "print(a)"
      ]
    },
    {
      "cell_type": "markdown",
      "id": "4be09c26",
      "metadata": {
        "id": "4be09c26"
      },
      "source": [
        "## 문자열 메서드 모두 확인하기\n",
        "파이썬 내장함수 dir을 통해 컨테이너가 가지고 있는 메서드를 확인할 수 있습니다."
      ]
    },
    {
      "cell_type": "code",
      "execution_count": 24,
      "id": "fe09c3fd",
      "metadata": {
        "scrolled": true,
        "colab": {
          "base_uri": "https://localhost:8080/"
        },
        "id": "fe09c3fd",
        "outputId": "a9017550-6a4d-4e0d-e32f-4734ba62f521"
      },
      "outputs": [
        {
          "output_type": "execute_result",
          "data": {
            "text/plain": [
              "['__add__',\n",
              " '__class__',\n",
              " '__contains__',\n",
              " '__delattr__',\n",
              " '__dir__',\n",
              " '__doc__',\n",
              " '__eq__',\n",
              " '__format__',\n",
              " '__ge__',\n",
              " '__getattribute__',\n",
              " '__getitem__',\n",
              " '__getnewargs__',\n",
              " '__gt__',\n",
              " '__hash__',\n",
              " '__init__',\n",
              " '__init_subclass__',\n",
              " '__iter__',\n",
              " '__le__',\n",
              " '__len__',\n",
              " '__lt__',\n",
              " '__mod__',\n",
              " '__mul__',\n",
              " '__ne__',\n",
              " '__new__',\n",
              " '__reduce__',\n",
              " '__reduce_ex__',\n",
              " '__repr__',\n",
              " '__rmod__',\n",
              " '__rmul__',\n",
              " '__setattr__',\n",
              " '__sizeof__',\n",
              " '__str__',\n",
              " '__subclasshook__',\n",
              " 'capitalize',\n",
              " 'casefold',\n",
              " 'center',\n",
              " 'count',\n",
              " 'encode',\n",
              " 'endswith',\n",
              " 'expandtabs',\n",
              " 'find',\n",
              " 'format',\n",
              " 'format_map',\n",
              " 'index',\n",
              " 'isalnum',\n",
              " 'isalpha',\n",
              " 'isascii',\n",
              " 'isdecimal',\n",
              " 'isdigit',\n",
              " 'isidentifier',\n",
              " 'islower',\n",
              " 'isnumeric',\n",
              " 'isprintable',\n",
              " 'isspace',\n",
              " 'istitle',\n",
              " 'isupper',\n",
              " 'join',\n",
              " 'ljust',\n",
              " 'lower',\n",
              " 'lstrip',\n",
              " 'maketrans',\n",
              " 'partition',\n",
              " 'replace',\n",
              " 'rfind',\n",
              " 'rindex',\n",
              " 'rjust',\n",
              " 'rpartition',\n",
              " 'rsplit',\n",
              " 'rstrip',\n",
              " 'split',\n",
              " 'splitlines',\n",
              " 'startswith',\n",
              " 'strip',\n",
              " 'swapcase',\n",
              " 'title',\n",
              " 'translate',\n",
              " 'upper',\n",
              " 'zfill']"
            ]
          },
          "metadata": {},
          "execution_count": 24
        }
      ],
      "source": [
        "# dir 함수로 문자열이 가지고 있는 메서드를 확인할 수 있습니다.\n",
        "dir('string') # dir(str)"
      ]
    },
    {
      "cell_type": "markdown",
      "id": "4214e9b1",
      "metadata": {
        "id": "4214e9b1"
      },
      "source": [
        "---"
      ]
    },
    {
      "cell_type": "markdown",
      "id": "4c163aac",
      "metadata": {
        "id": "4c163aac"
      },
      "source": [
        "# 리스트(List)\n",
        "\n",
        "> 변경 가능하고(mutable), 순서가 있고(ordered), 순회 가능한(iterable)\n",
        "\n",
        "![image](https://user-images.githubusercontent.com/90173310/148152798-e42f9525-2eef-4bf7-bf0b-6031a0913693.png)"
      ]
    },
    {
      "cell_type": "markdown",
      "id": "8644ebe6",
      "metadata": {
        "id": "8644ebe6"
      },
      "source": [
        "## 값 추가 및 삭제\n",
        "\n",
        "### `.append(x)`\n",
        "\n",
        "리스트에 값을 추가할 수 있습니다.\n",
        "\n",
        "`a[len(a):] = [x]` 와 동일합니다."
      ]
    },
    {
      "cell_type": "code",
      "execution_count": 33,
      "id": "20025945",
      "metadata": {
        "colab": {
          "base_uri": "https://localhost:8080/"
        },
        "id": "20025945",
        "outputId": "56bfbd15-6c6c-4f92-e05d-574edfbdd5a4"
      },
      "outputs": [
        {
          "output_type": "stream",
          "name": "stdout",
          "text": [
            "['starbucks', 'tomntoms', 'hollys']\n"
          ]
        }
      ],
      "source": [
        "cafe = ['starbucks', 'tomntoms', 'hollys']\n",
        "print(cafe)"
      ]
    },
    {
      "cell_type": "code",
      "execution_count": 34,
      "id": "c61e9aa1",
      "metadata": {
        "colab": {
          "base_uri": "https://localhost:8080/"
        },
        "id": "c61e9aa1",
        "outputId": "6503ab62-4b5b-4c62-8fd3-bbf6fb6a5218"
      },
      "outputs": [
        {
          "output_type": "stream",
          "name": "stdout",
          "text": [
            "['starbucks', 'tomntoms', 'hollys', 'banapresso']\n"
          ]
        }
      ],
      "source": [
        "# append 메서드로 cafe에 banapresso를 추가해봅시다.\n",
        "\n",
        "cafe.append('banapresso')\n",
        "print(cafe)"
      ]
    },
    {
      "cell_type": "code",
      "source": [
        "cafe[len(cafe):] = ['banapresso']\n",
        "\n",
        "print(cafe)"
      ],
      "metadata": {
        "colab": {
          "base_uri": "https://localhost:8080/"
        },
        "id": "rqplq4xfOKQ4",
        "outputId": "b66d0f9c-cd8d-40e6-8cb2-ecfdd88f205e"
      },
      "id": "rqplq4xfOKQ4",
      "execution_count": 32,
      "outputs": [
        {
          "output_type": "stream",
          "name": "stdout",
          "text": [
            "['starbucks', 'tomntoms', 'hollys', 'banapresso']\n"
          ]
        }
      ]
    },
    {
      "cell_type": "markdown",
      "id": "4bcda50d",
      "metadata": {
        "id": "4bcda50d"
      },
      "source": [
        "### `.extend(iterable)`\n",
        "\n",
        "리스트에 iterable(list, range, tuple, string) 값을 붙일 수가 있습니다.\n",
        "\n",
        "`a[len(a):] = iterable` 와 동일합니다."
      ]
    },
    {
      "cell_type": "code",
      "execution_count": 35,
      "id": "7ba6ba8d",
      "metadata": {
        "colab": {
          "base_uri": "https://localhost:8080/"
        },
        "id": "7ba6ba8d",
        "outputId": "875bee53-4ad1-40b7-c61c-6d16abf72a11"
      },
      "outputs": [
        {
          "output_type": "stream",
          "name": "stdout",
          "text": [
            "['starbucks', 'tomntoms', 'hollys', 'banapresso', 'wcafe', '빽다방']\n"
          ]
        }
      ],
      "source": [
        "# extend 메서드로 cafe에 ['wcafe', '빽다방']를 추가해봅시다.\n",
        "\n",
        "cafe.extend(['wcafe','빽다방'])\n",
        "print(cafe)"
      ]
    },
    {
      "cell_type": "code",
      "execution_count": 36,
      "id": "43a70e0f",
      "metadata": {
        "colab": {
          "base_uri": "https://localhost:8080/"
        },
        "id": "43a70e0f",
        "outputId": "ab2b9636-8db4-4052-a04b-09476e11314a"
      },
      "outputs": [
        {
          "output_type": "stream",
          "name": "stdout",
          "text": [
            "['starbucks', 'tomntoms', 'hollys', 'banapresso', 'wcafe', '빽다방', 'mc_cafe', 'droptop']\n"
          ]
        }
      ],
      "source": [
        "# += 연산자로 cafe에 ['mc_cafe', 'droptop']를 추가해봅시다.\n",
        "# 앞서 배운 list concatenate와 동일합니다.\n",
        "\n",
        "cafe += ['mc_cafe','droptop']\n",
        "\n",
        "print(cafe)"
      ]
    },
    {
      "cell_type": "code",
      "execution_count": 37,
      "id": "446efe2f",
      "metadata": {
        "colab": {
          "base_uri": "https://localhost:8080/"
        },
        "id": "446efe2f",
        "outputId": "e0b57346-6b2e-4aea-b0fd-d72c369e43c4"
      },
      "outputs": [
        {
          "output_type": "stream",
          "name": "stdout",
          "text": [
            "['starbucks', 'tomntoms', 'hollys', 'banapresso', 'wcafe', '빽다방', 'mc_cafe', 'droptop', ['coffeenie']]\n"
          ]
        }
      ],
      "source": [
        "# append vs extend\n",
        "\n",
        "# append 메서드로 cafe에 ['coffeenie']를 추가해봅시다.\n",
        "\n",
        "cafe.append(['coffeenie'])\n",
        "\n",
        "print(cafe)"
      ]
    },
    {
      "cell_type": "code",
      "execution_count": 38,
      "id": "b699dca9",
      "metadata": {
        "id": "b699dca9"
      },
      "outputs": [],
      "source": [
        "# append vs extend\n",
        "\n",
        "# extend 메서드로 cafe에 ['twosome_place']를 추가해봅시다.\n",
        "\n",
        "cafe.extend(['twosome_place'])"
      ]
    },
    {
      "cell_type": "code",
      "source": [
        "print(cafe)"
      ],
      "metadata": {
        "colab": {
          "base_uri": "https://localhost:8080/"
        },
        "id": "IzFn_BQ2OpdM",
        "outputId": "20c068be-bcd0-4e17-d280-d1369b359af8"
      },
      "id": "IzFn_BQ2OpdM",
      "execution_count": 39,
      "outputs": [
        {
          "output_type": "stream",
          "name": "stdout",
          "text": [
            "['starbucks', 'tomntoms', 'hollys', 'banapresso', 'wcafe', '빽다방', 'mc_cafe', 'droptop', ['coffeenie'], 'twosome_place']\n"
          ]
        }
      ]
    },
    {
      "cell_type": "code",
      "execution_count": 40,
      "id": "f577f73f",
      "metadata": {
        "colab": {
          "base_uri": "https://localhost:8080/"
        },
        "id": "f577f73f",
        "outputId": "e5ac180e-bc44-4f04-b0b6-eb969635d06d"
      },
      "outputs": [
        {
          "output_type": "stream",
          "name": "stdout",
          "text": [
            "['starbucks', 'tomntoms', 'hollys', 'banapresso', 'wcafe', '빽다방', 'mc_cafe', 'droptop', ['coffeenie'], 'twosome_place', 'e', 'd', 'i', 'y', 'a']\n"
          ]
        }
      ],
      "source": [
        "# extend 메서드로 cafe에 문자열 ediya를 추가해봅시다.\n",
        "\n",
        "cafe.extend('ediya')\n",
        "print(cafe)"
      ]
    },
    {
      "cell_type": "markdown",
      "id": "e31ad7f6",
      "metadata": {
        "id": "e31ad7f6"
      },
      "source": [
        "### `.insert(i, x)`\n",
        "\n",
        "정해진 위치 `i`에 값을 추가합니다."
      ]
    },
    {
      "cell_type": "code",
      "execution_count": 41,
      "id": "3ae56bdd",
      "metadata": {
        "colab": {
          "base_uri": "https://localhost:8080/"
        },
        "id": "3ae56bdd",
        "outputId": "7cca31b5-4314-42a2-eb81-f6c9ef1aac67"
      },
      "outputs": [
        {
          "output_type": "stream",
          "name": "stdout",
          "text": [
            "['start', 'starbucks', 'tomntoms', 'hollys', 'banapresso', 'wcafe', '빽다방', 'mc_cafe', 'droptop', ['coffeenie'], 'twosome_place', 'e', 'd', 'i', 'y', 'a']\n"
          ]
        }
      ],
      "source": [
        "# insert 메서드로 cafe 첫번째에 문자열 start를 넣어봅시다.\n",
        "\n",
        "cafe.insert(0,'start')\n",
        "print(cafe)"
      ]
    },
    {
      "cell_type": "code",
      "execution_count": 45,
      "id": "3ee6d1d5",
      "metadata": {
        "colab": {
          "base_uri": "https://localhost:8080/"
        },
        "id": "3ee6d1d5",
        "outputId": "a286269f-84e7-44b7-e86e-ee26902de277"
      },
      "outputs": [
        {
          "output_type": "stream",
          "name": "stdout",
          "text": [
            "['start', 'starbucks', 'tomntoms', 'hollys', 'banapresso', 'wcafe', '빽다방', 'mc_cafe', 'droptop', ['coffeenie'], 'twosome_place', 'e', 'd', 'i', 'y', 'a', 'end']\n"
          ]
        }
      ],
      "source": [
        "# insert 메서드로 cafe 마지막에 문자열 end를 넣어봅시다.\n",
        "# 마지막 위치는 len함수를 이용합니다.\n",
        "\n",
        "cafe.insert(len(cafe),'end')\n",
        "print(cafe)"
      ]
    },
    {
      "cell_type": "code",
      "source": [
        "cafe = ['start', 'starbucks', 'tomntoms', 'hollys', 'banapresso', 'wcafe', '빽다방', 'mc_cafe', 'droptop', ['coffeenie'], 'twosome_place', 'e', 'd', 'i', 'y', 'a']\n",
        "\n",
        "cafe.insert(len(cafe)-1,'end')\n",
        "print(cafe)"
      ],
      "metadata": {
        "id": "jZL0L0wpPHeh"
      },
      "id": "jZL0L0wpPHeh",
      "execution_count": 44,
      "outputs": []
    },
    {
      "cell_type": "code",
      "execution_count": 46,
      "id": "8e6cb4c4",
      "metadata": {
        "colab": {
          "base_uri": "https://localhost:8080/"
        },
        "id": "8e6cb4c4",
        "outputId": "5971d110-587f-421e-b1b3-ff57125b1e44"
      },
      "outputs": [
        {
          "output_type": "stream",
          "name": "stdout",
          "text": [
            "['start', 'starbucks', 'tomntoms', 'hollys', 'banapresso', 'wcafe', '빽다방', 'mc_cafe', 'droptop', ['coffeenie'], 'twosome_place', 'e', 'd', 'i', 'y', 'a', 'end', '!']\n"
          ]
        }
      ],
      "source": [
        "# insert 메서드로 cafe 길이보다 큰 인덱스에 문자열 !를 넣어봅시다.\n",
        "# 리스트의 길이를 넘어서는 인덱스는 마지막에 아이템이 추가됩니다.\n",
        "\n",
        "cafe.insert(len(cafe)+1000,'!')\n",
        "print(cafe)"
      ]
    },
    {
      "cell_type": "code",
      "execution_count": 47,
      "id": "42e8841e",
      "metadata": {
        "colab": {
          "base_uri": "https://localhost:8080/"
        },
        "id": "42e8841e",
        "outputId": "21351425-b851-4183-ab9d-44ceb2511f72"
      },
      "outputs": [
        {
          "output_type": "stream",
          "name": "stdout",
          "text": [
            "['good', 'start', 'starbucks', 'tomntoms', 'hollys', 'banapresso', 'wcafe', '빽다방', 'mc_cafe', 'droptop', ['coffeenie'], 'twosome_place', 'e', 'd', 'i', 'y', 'a', 'end', '!', 'great']\n"
          ]
        }
      ],
      "source": [
        "# a.insert(0, x)는 리스트의 처음에 x를 삽입하고,\n",
        "# a.insert(len(a), x) 는 a.append(x) 와 같습니다.\n",
        "\n",
        "cafe.insert(0,'good')\n",
        "cafe.insert(len(cafe),'great')\n",
        "print(cafe)"
      ]
    },
    {
      "cell_type": "markdown",
      "id": "fca5372e",
      "metadata": {
        "id": "fca5372e"
      },
      "source": [
        "### `.remove(x)`\n",
        "\n",
        "리스트에서 값이 x인 첫번째 항목을 삭제합니다.\n",
        "\n",
        "만일 그런 항목이 없으면 `ValueError`가 발생합니다."
      ]
    },
    {
      "cell_type": "code",
      "execution_count": 49,
      "id": "15b593fb",
      "metadata": {
        "id": "15b593fb"
      },
      "outputs": [],
      "source": [
        "numbers = [1, 2, 3, 1, 2]"
      ]
    },
    {
      "cell_type": "code",
      "execution_count": 50,
      "id": "255826c6",
      "metadata": {
        "colab": {
          "base_uri": "https://localhost:8080/"
        },
        "id": "255826c6",
        "outputId": "f955aa4c-7137-427a-f38d-2165aab70a0e"
      },
      "outputs": [
        {
          "output_type": "stream",
          "name": "stdout",
          "text": [
            "[2, 3, 1, 2]\n"
          ]
        }
      ],
      "source": [
        "# remove 메서드로 1을 삭제 해봅시다.\n",
        "\n",
        "numbers.remove(1)\n",
        "\n",
        "print(numbers)"
      ]
    },
    {
      "cell_type": "code",
      "execution_count": 51,
      "id": "36189253",
      "metadata": {
        "colab": {
          "base_uri": "https://localhost:8080/"
        },
        "id": "36189253",
        "outputId": "bff83639-e9b8-4cf6-f31c-acb5e5c82c7e"
      },
      "outputs": [
        {
          "output_type": "stream",
          "name": "stdout",
          "text": [
            "[2, 3, 2]\n"
          ]
        }
      ],
      "source": [
        "# remove 메서드로 1을 한 번 더 삭제 해봅시다.\n",
        "\n",
        "numbers.remove(1)\n",
        "\n",
        "print(numbers)"
      ]
    },
    {
      "cell_type": "code",
      "execution_count": 52,
      "id": "14da985a",
      "metadata": {
        "colab": {
          "base_uri": "https://localhost:8080/",
          "height": 229
        },
        "id": "14da985a",
        "outputId": "2680aab9-f73e-4f34-e9f4-05a321c16572"
      },
      "outputs": [
        {
          "output_type": "error",
          "ename": "ValueError",
          "evalue": "ignored",
          "traceback": [
            "\u001b[0;31m---------------------------------------------------------------------------\u001b[0m",
            "\u001b[0;31mValueError\u001b[0m                                Traceback (most recent call last)",
            "\u001b[0;32m<ipython-input-52-3b14d93b4ed9>\u001b[0m in \u001b[0;36m<module>\u001b[0;34m()\u001b[0m\n\u001b[1;32m      3\u001b[0m \u001b[0;34m\u001b[0m\u001b[0m\n\u001b[1;32m      4\u001b[0m \u001b[0;34m\u001b[0m\u001b[0m\n\u001b[0;32m----> 5\u001b[0;31m \u001b[0mnumbers\u001b[0m\u001b[0;34m.\u001b[0m\u001b[0mremove\u001b[0m\u001b[0;34m(\u001b[0m\u001b[0;36m1\u001b[0m\u001b[0;34m)\u001b[0m\u001b[0;34m\u001b[0m\u001b[0;34m\u001b[0m\u001b[0m\n\u001b[0m\u001b[1;32m      6\u001b[0m \u001b[0mprint\u001b[0m\u001b[0;34m(\u001b[0m\u001b[0mnumbers\u001b[0m\u001b[0;34m)\u001b[0m\u001b[0;34m\u001b[0m\u001b[0;34m\u001b[0m\u001b[0m\n",
            "\u001b[0;31mValueError\u001b[0m: list.remove(x): x not in list"
          ]
        }
      ],
      "source": [
        "# remove는 값이 없으면 오류가 발생합니다.\n",
        "# remove 메서드로 1을 한 번 더 삭제하여, 확인해봅시다.\n",
        "\n",
        "\n",
        "numbers.remove(1)\n",
        "print(numbers)"
      ]
    },
    {
      "cell_type": "markdown",
      "id": "eb4e7305",
      "metadata": {
        "id": "eb4e7305"
      },
      "source": [
        "### `.pop([i])`\n",
        "\n",
        "정해진 위치 `i`에 있는 값을 삭제하며, 그 항목을 반환합니다.\n",
        "\n",
        "`i`가 지정되지 않으면 마지막 항목을 삭제하고 되돌려줍니다."
      ]
    },
    {
      "cell_type": "code",
      "execution_count": 53,
      "id": "1ad82215",
      "metadata": {
        "id": "1ad82215"
      },
      "outputs": [],
      "source": [
        "numbers = [1, 2, 3, 4, 5, 6]"
      ]
    },
    {
      "cell_type": "code",
      "execution_count": 54,
      "id": "aabd997e",
      "metadata": {
        "colab": {
          "base_uri": "https://localhost:8080/"
        },
        "id": "aabd997e",
        "outputId": "5f47bbc7-23c3-45e5-808c-f8b426dc85de"
      },
      "outputs": [
        {
          "output_type": "stream",
          "name": "stdout",
          "text": [
            "[2, 3, 4, 5, 6]\n"
          ]
        }
      ],
      "source": [
        "# pop 메서드로 가장 앞에 있는 숫자를 삭제해봅시다.\n",
        "# 삭제후 numbers를 출력해봅시다.\n",
        "\n",
        "numbers.pop(0)\n",
        "\n",
        "print(numbers)"
      ]
    },
    {
      "cell_type": "code",
      "execution_count": 55,
      "id": "e804ab2b",
      "metadata": {
        "colab": {
          "base_uri": "https://localhost:8080/"
        },
        "id": "e804ab2b",
        "outputId": "1ae2f446-e1f7-4860-d422-bff0ee0c731a"
      },
      "outputs": [
        {
          "output_type": "stream",
          "name": "stdout",
          "text": [
            "[2, 3, 4, 5]\n",
            "6\n"
          ]
        }
      ],
      "source": [
        "# pop 메서드로 가장 마지막에 있는 숫자를 삭제하고 결과를 a에 저장합니다.\n",
        "# 삭제된 숫자와 결과를 모두 출력해봅시다.\n",
        "\n",
        "a = numbers.pop()\n",
        "\n",
        "print(numbers)\n",
        "print(a)"
      ]
    },
    {
      "cell_type": "markdown",
      "id": "5c79f0e2",
      "metadata": {
        "id": "5c79f0e2"
      },
      "source": [
        "### `.clear()`\n",
        "\n",
        "리스트의 모든 항목을 삭제합니다."
      ]
    },
    {
      "cell_type": "code",
      "execution_count": 56,
      "id": "59cfce7d",
      "metadata": {
        "id": "59cfce7d"
      },
      "outputs": [],
      "source": [
        "numbers = [1, 2, 3, 4, 5, 6]"
      ]
    },
    {
      "cell_type": "code",
      "execution_count": 57,
      "id": "ca04d663",
      "metadata": {
        "colab": {
          "base_uri": "https://localhost:8080/"
        },
        "id": "ca04d663",
        "outputId": "fd96122c-abdc-45a4-f601-9d18ccadf7d0"
      },
      "outputs": [
        {
          "output_type": "stream",
          "name": "stdout",
          "text": [
            "[]\n"
          ]
        }
      ],
      "source": [
        "# clear 메서드로 리스트의 모든 항목을 삭제합니다.\n",
        "\n",
        "numbers.clear()\n",
        "\n",
        "print(numbers)"
      ]
    },
    {
      "cell_type": "markdown",
      "id": "0f01d700",
      "metadata": {
        "id": "0f01d700"
      },
      "source": [
        "## 탐색 및 정렬"
      ]
    },
    {
      "cell_type": "markdown",
      "id": "a1c42e0a",
      "metadata": {
        "id": "a1c42e0a"
      },
      "source": [
        "### `.index(x)`\n",
        "\n",
        "x 값을 찾아 해당 index 값을 반환합니다."
      ]
    },
    {
      "cell_type": "code",
      "execution_count": 58,
      "id": "e70f1cec",
      "metadata": {
        "id": "e70f1cec"
      },
      "outputs": [],
      "source": [
        "a = [1, 2, 3, 4, 5]"
      ]
    },
    {
      "cell_type": "code",
      "execution_count": 59,
      "id": "79e0b810",
      "metadata": {
        "colab": {
          "base_uri": "https://localhost:8080/"
        },
        "id": "79e0b810",
        "outputId": "3fd898e2-178b-4b62-ab2f-abc4c9b2b6b7"
      },
      "outputs": [
        {
          "output_type": "stream",
          "name": "stdout",
          "text": [
            "2\n"
          ]
        }
      ],
      "source": [
        "# index 메서드로 숫자 3이 있는 위치를 반환합니다.\n",
        "\n",
        "print(a.index(3))"
      ]
    },
    {
      "cell_type": "code",
      "execution_count": 60,
      "id": "05bcab7b",
      "metadata": {
        "colab": {
          "base_uri": "https://localhost:8080/",
          "height": 211
        },
        "id": "05bcab7b",
        "outputId": "2aba50e7-45af-481c-833e-53801820ca4e"
      },
      "outputs": [
        {
          "output_type": "error",
          "ename": "ValueError",
          "evalue": "ignored",
          "traceback": [
            "\u001b[0;31m---------------------------------------------------------------------------\u001b[0m",
            "\u001b[0;31mValueError\u001b[0m                                Traceback (most recent call last)",
            "\u001b[0;32m<ipython-input-60-cd3893c70636>\u001b[0m in \u001b[0;36m<module>\u001b[0;34m()\u001b[0m\n\u001b[1;32m      2\u001b[0m \u001b[0;31m# index 메서드로 숫자 100이 있는 위치를 확인해봅시다.\u001b[0m\u001b[0;34m\u001b[0m\u001b[0;34m\u001b[0m\u001b[0;34m\u001b[0m\u001b[0m\n\u001b[1;32m      3\u001b[0m \u001b[0;34m\u001b[0m\u001b[0m\n\u001b[0;32m----> 4\u001b[0;31m \u001b[0mprint\u001b[0m\u001b[0;34m(\u001b[0m\u001b[0ma\u001b[0m\u001b[0;34m.\u001b[0m\u001b[0mindex\u001b[0m\u001b[0;34m(\u001b[0m\u001b[0;36m100\u001b[0m\u001b[0;34m)\u001b[0m\u001b[0;34m)\u001b[0m\u001b[0;34m\u001b[0m\u001b[0;34m\u001b[0m\u001b[0m\n\u001b[0m",
            "\u001b[0;31mValueError\u001b[0m: 100 is not in list"
          ]
        }
      ],
      "source": [
        "# index는 찾는 값이 없으면 오류가 발생합니다.\n",
        "# index 메서드로 숫자 100이 있는 위치를 확인해봅시다.\n",
        "\n",
        "print(a.index(100))"
      ]
    },
    {
      "cell_type": "markdown",
      "id": "f8129cf3",
      "metadata": {
        "id": "f8129cf3"
      },
      "source": [
        "### `.count(x)`\n",
        "\n",
        "원하는 값의 개수를 반환합니다."
      ]
    },
    {
      "cell_type": "code",
      "execution_count": 61,
      "id": "ed13702a",
      "metadata": {
        "id": "ed13702a"
      },
      "outputs": [],
      "source": [
        "a = [1, 2, 5, 1, 5, 1]"
      ]
    },
    {
      "cell_type": "code",
      "execution_count": 62,
      "id": "f7323051",
      "metadata": {
        "colab": {
          "base_uri": "https://localhost:8080/"
        },
        "id": "f7323051",
        "outputId": "583b2463-a49e-426e-9317-14ad8ee6e460"
      },
      "outputs": [
        {
          "output_type": "stream",
          "name": "stdout",
          "text": [
            "3\n"
          ]
        }
      ],
      "source": [
        "# count 메서드로 1의 개수를 확인해봅시다.\n",
        "\n",
        "print(a.count(1))"
      ]
    },
    {
      "cell_type": "code",
      "execution_count": 63,
      "id": "4261e536",
      "metadata": {
        "colab": {
          "base_uri": "https://localhost:8080/"
        },
        "id": "4261e536",
        "outputId": "9f9baa44-5531-4311-8f1a-570ab591a346"
      },
      "outputs": [
        {
          "output_type": "stream",
          "name": "stdout",
          "text": [
            "[2, 3, 4]\n"
          ]
        }
      ],
      "source": [
        "# 원하는 값을 모두 삭제하려면 다음과 같이 할 수 있습니다.\n",
        "a = [1, 2, 1, 3, 4]\n",
        "target_value = 1\n",
        "for i in range(a.count(target_value)):\n",
        "    a.remove(target_value)\n",
        "print(a)"
      ]
    },
    {
      "cell_type": "markdown",
      "id": "87ef7b6f",
      "metadata": {
        "id": "87ef7b6f"
      },
      "source": [
        "### `.sort()`\n",
        "\n",
        "리스트를 정렬합니다.\n",
        "\n",
        "내장함수 `sorted()` 와는 다르게 **원본 list를 변형**시키고, **`None`**을 리턴합니다.\n",
        "\n",
        "파라미터로는 `key`와 `reverse`가 있습니다."
      ]
    },
    {
      "cell_type": "code",
      "execution_count": 66,
      "id": "1bacfd92",
      "metadata": {
        "colab": {
          "base_uri": "https://localhost:8080/"
        },
        "id": "1bacfd92",
        "outputId": "ae651f8c-88cd-4296-e28c-d5d48801c364"
      },
      "outputs": [
        {
          "output_type": "stream",
          "name": "stdout",
          "text": [
            "[37, 4, 14, 44, 2, 41]\n"
          ]
        }
      ],
      "source": [
        "# lotto에 1부터 45 까지의 숫자가 들어있는 리스트를 저장합니다.\n",
        "# 6개의 숫자를 랜덤으로 저장합니다.\n",
        "import random\n",
        "lotto = random.sample(range(1, 46), 6)\n",
        "print(lotto)"
      ]
    },
    {
      "cell_type": "code",
      "execution_count": 65,
      "id": "fffadbf3",
      "metadata": {
        "colab": {
          "base_uri": "https://localhost:8080/"
        },
        "id": "fffadbf3",
        "outputId": "f4793e8b-9353-4db1-d756-79116cbd50fc"
      },
      "outputs": [
        {
          "output_type": "stream",
          "name": "stdout",
          "text": [
            "None\n",
            "[3, 22, 25, 28, 43, 45]\n"
          ]
        }
      ],
      "source": [
        "# sort 메서드로 리스트를 정렬합니다.\n",
        "# sort 메서드를 실행한 결과와 원본을 각각 출력해봅니다.\n",
        "\n",
        "print(lotto.sort())\n",
        "print(lotto)"
      ]
    },
    {
      "cell_type": "code",
      "execution_count": 67,
      "id": "bbe4ea4b",
      "metadata": {
        "colab": {
          "base_uri": "https://localhost:8080/"
        },
        "id": "bbe4ea4b",
        "outputId": "0526607e-1618-4616-a52e-25e2aff8b532"
      },
      "outputs": [
        {
          "output_type": "stream",
          "name": "stdout",
          "text": [
            "[44, 41, 37, 14, 4, 2]\n"
          ]
        }
      ],
      "source": [
        "# sort 메서드의 reverse옵션을 이용하여 역순 정렬합니다.\n",
        "\n",
        "lotto.sort(reverse=True)\n",
        "print(lotto)"
      ]
    },
    {
      "cell_type": "code",
      "execution_count": 68,
      "id": "769d1cc4",
      "metadata": {
        "colab": {
          "base_uri": "https://localhost:8080/"
        },
        "id": "769d1cc4",
        "outputId": "0aee1d75-7c6d-42bb-aede-c5d5de504f30"
      },
      "outputs": [
        {
          "output_type": "stream",
          "name": "stdout",
          "text": [
            "[39, 2, 16, 43, 41, 24] [2, 16, 24, 39, 41, 43]\n"
          ]
        }
      ],
      "source": [
        "# sorted 함수를 사용한 결과와 비교해봅시다.\n",
        "import random\n",
        "lotto = random.sample(range(1, 46), 6)\n",
        "print(lotto, sorted(lotto))"
      ]
    },
    {
      "cell_type": "markdown",
      "id": "937609ec",
      "metadata": {
        "id": "937609ec"
      },
      "source": [
        "### `.reverse()`\n",
        "\n",
        "리스트의 element들을 제자리에서 반대로 뒤집습니다.\n",
        "정렬하는 것이 아닌 원본 순서를 뒤집고 수정합니다.\n",
        "\n",
        "내장함수 `reversed()` 와는 다르게 **원본 list를 변형**시키고, **`None`**을 리턴합니다.\n",
        "\n",
        "sort와 마찬가지로, 파라미터 `key`와 `reverse`가 있습니다."
      ]
    },
    {
      "cell_type": "code",
      "execution_count": 71,
      "id": "762ef4fb",
      "metadata": {
        "colab": {
          "base_uri": "https://localhost:8080/"
        },
        "id": "762ef4fb",
        "outputId": "9122d0e4-73e5-487d-9bdc-cc36aceb193a"
      },
      "outputs": [
        {
          "output_type": "stream",
          "name": "stdout",
          "text": [
            "['Tom', 'David', 'Justin']\n"
          ]
        }
      ],
      "source": [
        "classroom = ['Tom', 'David', 'Justin']\n",
        "print(classroom)"
      ]
    },
    {
      "cell_type": "code",
      "execution_count": 70,
      "id": "93fd5c24",
      "metadata": {
        "colab": {
          "base_uri": "https://localhost:8080/"
        },
        "id": "93fd5c24",
        "outputId": "df09176c-0dd5-48fb-fdd8-ab2cd7f01242"
      },
      "outputs": [
        {
          "output_type": "stream",
          "name": "stdout",
          "text": [
            "['Justin', 'David', 'Tom']\n"
          ]
        }
      ],
      "source": [
        "# reverse 메서드로 리스트를 역순으로 만들어줍니다.\n",
        "\n",
        "classroom.reverse()\n",
        "print(classroom)"
      ]
    },
    {
      "cell_type": "markdown",
      "id": "e88c6b7d",
      "metadata": {
        "id": "e88c6b7d"
      },
      "source": [
        "## 리스트 메서드 모두 확인하기\n",
        "파이썬 내장함수 dir을 통해 컨테이너가 가지고 있는 메서드를 확인할 수 있습니다."
      ]
    },
    {
      "cell_type": "code",
      "execution_count": 74,
      "id": "dafdc8d6",
      "metadata": {
        "scrolled": true,
        "colab": {
          "base_uri": "https://localhost:8080/"
        },
        "id": "dafdc8d6",
        "outputId": "18c5685b-d1b4-423d-eaf2-da4eb2c38275"
      },
      "outputs": [
        {
          "output_type": "execute_result",
          "data": {
            "text/plain": [
              "['__add__',\n",
              " '__class__',\n",
              " '__contains__',\n",
              " '__delattr__',\n",
              " '__delitem__',\n",
              " '__dir__',\n",
              " '__doc__',\n",
              " '__eq__',\n",
              " '__format__',\n",
              " '__ge__',\n",
              " '__getattribute__',\n",
              " '__getitem__',\n",
              " '__gt__',\n",
              " '__hash__',\n",
              " '__iadd__',\n",
              " '__imul__',\n",
              " '__init__',\n",
              " '__init_subclass__',\n",
              " '__iter__',\n",
              " '__le__',\n",
              " '__len__',\n",
              " '__lt__',\n",
              " '__mul__',\n",
              " '__ne__',\n",
              " '__new__',\n",
              " '__reduce__',\n",
              " '__reduce_ex__',\n",
              " '__repr__',\n",
              " '__reversed__',\n",
              " '__rmul__',\n",
              " '__setattr__',\n",
              " '__setitem__',\n",
              " '__sizeof__',\n",
              " '__str__',\n",
              " '__subclasshook__',\n",
              " 'append',\n",
              " 'clear',\n",
              " 'copy',\n",
              " 'count',\n",
              " 'extend',\n",
              " 'index',\n",
              " 'insert',\n",
              " 'pop',\n",
              " 'remove',\n",
              " 'reverse',\n",
              " 'sort']"
            ]
          },
          "metadata": {},
          "execution_count": 74
        }
      ],
      "source": [
        "# dir 함수로 리스트가 가지고 있는 메서드를 확인할 수 있습니다.\n",
        "dir(list) # dir([])"
      ]
    },
    {
      "cell_type": "markdown",
      "id": "ba66ecc6",
      "metadata": {
        "id": "ba66ecc6"
      },
      "source": [
        "---"
      ]
    },
    {
      "cell_type": "markdown",
      "id": "0d76905a",
      "metadata": {
        "id": "0d76905a"
      },
      "source": [
        "# 튜플(tuple)\n",
        "\n",
        "> 변경할 수 없는 불변(Immutable) 자료형\n",
        "\n",
        "![image](https://user-images.githubusercontent.com/90173310/148331867-25aba08c-d76b-4bf0-a7d3-106db29d2db2.png)\n",
        "\n",
        "- 값을 변경할 수 없기 때문에 값에 영향을 미치지 않는 메서드만을 지원합니다."
      ]
    },
    {
      "cell_type": "code",
      "execution_count": 75,
      "id": "291158cd",
      "metadata": {
        "scrolled": true,
        "colab": {
          "base_uri": "https://localhost:8080/",
          "height": 248
        },
        "id": "291158cd",
        "outputId": "03f58e01-f7b0-4dfc-ede7-a2aa28ed2981"
      },
      "outputs": [
        {
          "output_type": "error",
          "ename": "AttributeError",
          "evalue": "ignored",
          "traceback": [
            "\u001b[0;31m---------------------------------------------------------------------------\u001b[0m",
            "\u001b[0;31mAttributeError\u001b[0m                            Traceback (most recent call last)",
            "\u001b[0;32m<ipython-input-75-164fa46d54ee>\u001b[0m in \u001b[0;36m<module>\u001b[0;34m()\u001b[0m\n\u001b[1;32m      4\u001b[0m \u001b[0mdust\u001b[0m \u001b[0;34m=\u001b[0m \u001b[0;34m(\u001b[0m\u001b[0;36m58\u001b[0m\u001b[0;34m,\u001b[0m\u001b[0;36m40\u001b[0m\u001b[0;34m,\u001b[0m\u001b[0;36m70\u001b[0m\u001b[0;34m,\u001b[0m\u001b[0;36m60\u001b[0m\u001b[0;34m,\u001b[0m\u001b[0;36m120\u001b[0m\u001b[0;34m,\u001b[0m\u001b[0;36m54\u001b[0m\u001b[0;34m,\u001b[0m\u001b[0;36m23\u001b[0m\u001b[0;34m,\u001b[0m\u001b[0;36m50\u001b[0m\u001b[0;34m)\u001b[0m\u001b[0;34m\u001b[0m\u001b[0;34m\u001b[0m\u001b[0m\n\u001b[1;32m      5\u001b[0m \u001b[0;34m\u001b[0m\u001b[0m\n\u001b[0;32m----> 6\u001b[0;31m \u001b[0mdust\u001b[0m\u001b[0;34m.\u001b[0m\u001b[0mappend\u001b[0m\u001b[0;34m(\u001b[0m\u001b[0;36m80\u001b[0m\u001b[0;34m)\u001b[0m\u001b[0;34m\u001b[0m\u001b[0;34m\u001b[0m\u001b[0m\n\u001b[0m\u001b[1;32m      7\u001b[0m \u001b[0;34m\u001b[0m\u001b[0m\n\u001b[1;32m      8\u001b[0m \u001b[0mprint\u001b[0m\u001b[0;34m(\u001b[0m\u001b[0mdust\u001b[0m\u001b[0;34m)\u001b[0m\u001b[0;34m\u001b[0m\u001b[0;34m\u001b[0m\u001b[0m\n",
            "\u001b[0;31mAttributeError\u001b[0m: 'tuple' object has no attribute 'append'"
          ]
        }
      ],
      "source": [
        "# 튜플은 불변자료형이기 때문에 값을 변경하는 메서드는 사용할 수 없습니다.\n",
        "# append를 통해 'tuple'을 추가하여 어떤 오류가 나타나는지 확인해봅시다.\n",
        "\n",
        "dust = (58,40,70,60,120,54,23,50)\n",
        "\n",
        "dust.append(80)\n",
        "\n",
        "print(dust)"
      ]
    },
    {
      "cell_type": "markdown",
      "id": "2d4fe7be",
      "metadata": {
        "id": "2d4fe7be"
      },
      "source": [
        "## 탐색\n",
        "### `.index(x[, start[, end]])`\n",
        "\n",
        "튜플에 있는 항목 중 값이 x 와 같은 첫 번째 인덱스를 돌려줍니다.\n",
        "\n",
        "해당하는 값이 없으면, ValueError를 발생합니다."
      ]
    },
    {
      "cell_type": "code",
      "execution_count": 76,
      "id": "6a1041e4",
      "metadata": {
        "id": "6a1041e4"
      },
      "outputs": [],
      "source": [
        "a = ('hello','python','python','django','web')"
      ]
    },
    {
      "cell_type": "code",
      "execution_count": 78,
      "id": "bdb0b8f2",
      "metadata": {
        "colab": {
          "base_uri": "https://localhost:8080/"
        },
        "id": "bdb0b8f2",
        "outputId": "af427a5a-f84a-4663-d7e8-ef22f41ab7b8"
      },
      "outputs": [
        {
          "output_type": "stream",
          "name": "stdout",
          "text": [
            "1\n"
          ]
        }
      ],
      "source": [
        "# python이 가장 처음 나타난 위치를 확인하세요.\n",
        "\n",
        "print(a.index('python'))"
      ]
    },
    {
      "cell_type": "code",
      "execution_count": 79,
      "id": "4d61fff6",
      "metadata": {
        "colab": {
          "base_uri": "https://localhost:8080/",
          "height": 211
        },
        "id": "4d61fff6",
        "outputId": "39df1e0d-fc99-4a65-8978-80503208ec64"
      },
      "outputs": [
        {
          "output_type": "error",
          "ename": "ValueError",
          "evalue": "ignored",
          "traceback": [
            "\u001b[0;31m---------------------------------------------------------------------------\u001b[0m",
            "\u001b[0;31mValueError\u001b[0m                                Traceback (most recent call last)",
            "\u001b[0;32m<ipython-input-79-75b33d9e365b>\u001b[0m in \u001b[0;36m<module>\u001b[0;34m()\u001b[0m\n\u001b[1;32m      2\u001b[0m \u001b[0;31m# index 메서드로 algorithm의 위치를 확인하세요.\u001b[0m\u001b[0;34m\u001b[0m\u001b[0;34m\u001b[0m\u001b[0;34m\u001b[0m\u001b[0m\n\u001b[1;32m      3\u001b[0m \u001b[0;34m\u001b[0m\u001b[0m\n\u001b[0;32m----> 4\u001b[0;31m \u001b[0mprint\u001b[0m\u001b[0;34m(\u001b[0m\u001b[0ma\u001b[0m\u001b[0;34m.\u001b[0m\u001b[0mindex\u001b[0m\u001b[0;34m(\u001b[0m\u001b[0;34m'algorithm'\u001b[0m\u001b[0;34m)\u001b[0m\u001b[0;34m)\u001b[0m\u001b[0;34m\u001b[0m\u001b[0;34m\u001b[0m\u001b[0m\n\u001b[0m",
            "\u001b[0;31mValueError\u001b[0m: tuple.index(x): x not in tuple"
          ]
        }
      ],
      "source": [
        "# index는 찾는 값이 없으면 오류가 발생합니다.\n",
        "# index 메서드로 algorithm의 위치를 확인하세요.\n",
        "\n",
        "print(a.index('algorithm'))"
      ]
    },
    {
      "cell_type": "markdown",
      "id": "6ccc8219",
      "metadata": {
        "id": "6ccc8219"
      },
      "source": [
        "### `.count(x)`\n",
        "튜플에서 x 가 등장하는 횟수를 돌려줍니다."
      ]
    },
    {
      "cell_type": "code",
      "execution_count": 80,
      "id": "e444cb5d",
      "metadata": {
        "scrolled": false,
        "colab": {
          "base_uri": "https://localhost:8080/"
        },
        "id": "e444cb5d",
        "outputId": "7f6c3a81-ddb6-4fb9-a364-5b656d5160af"
      },
      "outputs": [
        {
          "output_type": "stream",
          "name": "stdout",
          "text": [
            "2\n"
          ]
        }
      ],
      "source": [
        "# count 메서드를 통해 a의 요소들 중 python의 갯수를 확인하세요.\n",
        "\n",
        "print(a.count('python'))"
      ]
    },
    {
      "cell_type": "markdown",
      "id": "7cc6a835",
      "metadata": {
        "id": "7cc6a835"
      },
      "source": [
        "---"
      ]
    },
    {
      "cell_type": "markdown",
      "id": "8683de5c",
      "metadata": {
        "id": "8683de5c"
      },
      "source": [
        "<p style=\"font-size: 30px; font-weight: 700; margin-bottom: 3rem; color:#2889CC\">순서가 없는 데이터 구조</p>\n",
        "\n",
        "- 알고리즘에 빈번히 활용되는 순서가 없는(unordered) 데이터 구조\n",
        "    - 셋(Set)\n",
        "    - 딕셔너리(Dictionary)"
      ]
    },
    {
      "cell_type": "markdown",
      "id": "b4742bd5",
      "metadata": {
        "id": "b4742bd5"
      },
      "source": [
        "# 셋(Set)\n",
        "\n",
        "> 변경 가능하고(mutable), 순서가 없고(unordered), 순회 가능한(iterable)\n",
        "\n",
        "![image](https://user-images.githubusercontent.com/90173310/148152940-d5feff4f-f950-4e58-87ab-fcdedba7e825.png)"
      ]
    },
    {
      "cell_type": "markdown",
      "id": "e01b0120",
      "metadata": {
        "id": "e01b0120"
      },
      "source": [
        "## 추가 및 삭제\n",
        "\n",
        "### `.add(elem)`\n",
        "elem을 셋(set)에 추가합니다."
      ]
    },
    {
      "cell_type": "code",
      "execution_count": 81,
      "id": "e89b7686",
      "metadata": {
        "id": "e89b7686"
      },
      "outputs": [],
      "source": [
        "a = {'사과', '바나나', '수박'}"
      ]
    },
    {
      "cell_type": "code",
      "execution_count": 82,
      "id": "e6b0163e",
      "metadata": {
        "colab": {
          "base_uri": "https://localhost:8080/"
        },
        "id": "e6b0163e",
        "outputId": "76d552d8-b814-4aa8-8a87-c3659a2de158"
      },
      "outputs": [
        {
          "output_type": "stream",
          "name": "stdout",
          "text": [
            "{'바나나', '포도', '사과', '수박'}\n"
          ]
        }
      ],
      "source": [
        "# add 메서드로 셋(set) a에 '포도'를 각각 2번 작성한 이후 셋(set) a를 출력해봅시다.\n",
        "\n",
        "a.add('포도')\n",
        "a.add('포도')\n",
        "\n",
        "print(a)"
      ]
    },
    {
      "cell_type": "markdown",
      "id": "6de2a869",
      "metadata": {
        "id": "6de2a869"
      },
      "source": [
        "### `.update(*others)`\n",
        "\n",
        "여러 값을 추가합니다.\n",
        "\n",
        "반드시 iterable 데이터 구조를 전달해야합니다."
      ]
    },
    {
      "cell_type": "code",
      "execution_count": 83,
      "id": "c82987e8",
      "metadata": {
        "id": "c82987e8"
      },
      "outputs": [],
      "source": [
        "a = {'사과', '바나나', '수박'}"
      ]
    },
    {
      "cell_type": "code",
      "execution_count": 84,
      "id": "7edc88ee",
      "metadata": {
        "colab": {
          "base_uri": "https://localhost:8080/"
        },
        "id": "7edc88ee",
        "outputId": "be0c670c-a2e7-4157-8a60-3fbbc2888ff6"
      },
      "outputs": [
        {
          "output_type": "stream",
          "name": "stdout",
          "text": [
            "{'딸기', '레몬', '토마토', '바나나', '포도', '사과', '수박'}\n"
          ]
        }
      ],
      "source": [
        "# update 메서드로 셋(set) a에\n",
        "# {'토마토', '토마토', '딸기'}와 {'포도', '레몬'}을 동시에 update후, a를 출력해봅시다.\n",
        "\n",
        "a.update({'토마토','토마토','딸기'})\n",
        "a.update({'포도','레몬'})\n",
        "\n",
        "print(a)"
      ]
    },
    {
      "cell_type": "markdown",
      "id": "02554c24",
      "metadata": {
        "id": "02554c24"
      },
      "source": [
        "### `.remove(elem)`\n",
        "\n",
        "elem을 셋(set)에서 삭제하고, 셋(set) 내에 elem이 존재하지 않으면 KeyError가 발생합니다."
      ]
    },
    {
      "cell_type": "code",
      "execution_count": 85,
      "id": "7d4fb638",
      "metadata": {
        "id": "7d4fb638"
      },
      "outputs": [],
      "source": [
        "a = {'사과', '바나나', '수박'}"
      ]
    },
    {
      "cell_type": "code",
      "execution_count": 86,
      "id": "ba980000",
      "metadata": {
        "colab": {
          "base_uri": "https://localhost:8080/",
          "height": 248
        },
        "id": "ba980000",
        "outputId": "f289cf80-e945-4d68-99e2-65255f5e0ea0"
      },
      "outputs": [
        {
          "output_type": "error",
          "ename": "KeyError",
          "evalue": "ignored",
          "traceback": [
            "\u001b[0;31m---------------------------------------------------------------------------\u001b[0m",
            "\u001b[0;31mKeyError\u001b[0m                                  Traceback (most recent call last)",
            "\u001b[0;32m<ipython-input-86-0460fcc2aef3>\u001b[0m in \u001b[0;36m<module>\u001b[0;34m()\u001b[0m\n\u001b[1;32m      2\u001b[0m \u001b[0;31m# a에서 '애플'을 remove하여 오류를 확인해봅시다.\u001b[0m\u001b[0;34m\u001b[0m\u001b[0;34m\u001b[0m\u001b[0;34m\u001b[0m\u001b[0m\n\u001b[1;32m      3\u001b[0m \u001b[0;34m\u001b[0m\u001b[0m\n\u001b[0;32m----> 4\u001b[0;31m \u001b[0ma\u001b[0m\u001b[0;34m.\u001b[0m\u001b[0mremove\u001b[0m\u001b[0;34m(\u001b[0m\u001b[0;34m'애플'\u001b[0m\u001b[0;34m)\u001b[0m\u001b[0;34m\u001b[0m\u001b[0;34m\u001b[0m\u001b[0m\n\u001b[0m\u001b[1;32m      5\u001b[0m \u001b[0;34m\u001b[0m\u001b[0m\n\u001b[1;32m      6\u001b[0m \u001b[0mprint\u001b[0m\u001b[0;34m(\u001b[0m\u001b[0ma\u001b[0m\u001b[0;34m)\u001b[0m\u001b[0;34m\u001b[0m\u001b[0;34m\u001b[0m\u001b[0m\n",
            "\u001b[0;31mKeyError\u001b[0m: '애플'"
          ]
        }
      ],
      "source": [
        "# remove 메서드는 셋(set) 내에 elem 없는 경우, 오류를 발생시킵니다.\n",
        "# a에서 '애플'을 remove하여 오류를 확인해봅시다.\n",
        "\n",
        "a.remove('애플')\n",
        "\n",
        "print(a)"
      ]
    },
    {
      "cell_type": "markdown",
      "id": "c286589b",
      "metadata": {
        "id": "c286589b"
      },
      "source": [
        "### `.discard(elem)`\n",
        "`elem`을 셋(set)에서 삭제합니다.\n",
        "\n",
        "remove와 다른 점은 elem이 셋(set) 내에 존재하지 않아도, 에러가 발생하지 않는다는 점입니다."
      ]
    },
    {
      "cell_type": "code",
      "execution_count": 90,
      "id": "88ed4bff",
      "metadata": {
        "id": "88ed4bff"
      },
      "outputs": [],
      "source": [
        "a = {'사과', '바나나', '수박'}"
      ]
    },
    {
      "cell_type": "code",
      "execution_count": 91,
      "id": "8737250b",
      "metadata": {
        "colab": {
          "base_uri": "https://localhost:8080/"
        },
        "id": "8737250b",
        "outputId": "ac29eecf-cf22-485c-8ef4-e15cce2731f6"
      },
      "outputs": [
        {
          "output_type": "stream",
          "name": "stdout",
          "text": [
            "{'바나나', '사과'}\n"
          ]
        }
      ],
      "source": [
        "# a에 '포도'와 '수박'을 각각 discard한 이후 셋(set) a를 출력해봅시다.\n",
        "\n",
        "a.discard('포도')\n",
        "a.discard('수박')\n",
        "\n",
        "print(a)"
      ]
    },
    {
      "cell_type": "markdown",
      "id": "e6a83e4d",
      "metadata": {
        "id": "e6a83e4d"
      },
      "source": [
        "## 셋(set) 메서드 모두 확인하기\n",
        "파이썬 내장함수 dir을 통해 컨테이너가 가지고 있는 메서드를 확인할 수 있습니다."
      ]
    },
    {
      "cell_type": "code",
      "execution_count": 92,
      "id": "c12268c8",
      "metadata": {
        "scrolled": true,
        "colab": {
          "base_uri": "https://localhost:8080/"
        },
        "id": "c12268c8",
        "outputId": "f8a1a8f2-b1bc-4adb-c47f-85f38933fa0b"
      },
      "outputs": [
        {
          "output_type": "execute_result",
          "data": {
            "text/plain": [
              "['__and__',\n",
              " '__class__',\n",
              " '__contains__',\n",
              " '__delattr__',\n",
              " '__dir__',\n",
              " '__doc__',\n",
              " '__eq__',\n",
              " '__format__',\n",
              " '__ge__',\n",
              " '__getattribute__',\n",
              " '__gt__',\n",
              " '__hash__',\n",
              " '__iand__',\n",
              " '__init__',\n",
              " '__init_subclass__',\n",
              " '__ior__',\n",
              " '__isub__',\n",
              " '__iter__',\n",
              " '__ixor__',\n",
              " '__le__',\n",
              " '__len__',\n",
              " '__lt__',\n",
              " '__ne__',\n",
              " '__new__',\n",
              " '__or__',\n",
              " '__rand__',\n",
              " '__reduce__',\n",
              " '__reduce_ex__',\n",
              " '__repr__',\n",
              " '__ror__',\n",
              " '__rsub__',\n",
              " '__rxor__',\n",
              " '__setattr__',\n",
              " '__sizeof__',\n",
              " '__str__',\n",
              " '__sub__',\n",
              " '__subclasshook__',\n",
              " '__xor__',\n",
              " 'add',\n",
              " 'clear',\n",
              " 'copy',\n",
              " 'difference',\n",
              " 'difference_update',\n",
              " 'discard',\n",
              " 'intersection',\n",
              " 'intersection_update',\n",
              " 'isdisjoint',\n",
              " 'issubset',\n",
              " 'issuperset',\n",
              " 'pop',\n",
              " 'remove',\n",
              " 'symmetric_difference',\n",
              " 'symmetric_difference_update',\n",
              " 'union',\n",
              " 'update']"
            ]
          },
          "metadata": {},
          "execution_count": 92
        }
      ],
      "source": [
        "# dir 함수로 셋(set)이 가지고 있는 메서드를 확인할 수 있습니다.\n",
        "dir(set)"
      ]
    },
    {
      "cell_type": "markdown",
      "id": "31b134b4",
      "metadata": {
        "id": "31b134b4"
      },
      "source": [
        "---"
      ]
    },
    {
      "cell_type": "markdown",
      "id": "8413850d",
      "metadata": {
        "id": "8413850d"
      },
      "source": [
        "# 딕셔너리(Dictionary)\n",
        "\n",
        "> 변경 가능하고(mutable), 순서가 없고(unordered), 순회 가능한(iterable)\n",
        ">\n",
        "> `Key: Value` 페어(pair)의 자료구조\n",
        "\n",
        "![image](https://user-images.githubusercontent.com/90173310/148152976-8565e877-2343-4364-97b5-7ad4efd73992.png)"
      ]
    },
    {
      "cell_type": "markdown",
      "id": "e89281e7",
      "metadata": {
        "id": "e89281e7"
      },
      "source": [
        "## 조회"
      ]
    },
    {
      "cell_type": "markdown",
      "id": "9eaf66c9",
      "metadata": {
        "id": "9eaf66c9"
      },
      "source": [
        "### `.get(key[, default])`\n",
        "\n",
        "key를 통해 value를 가져옵니다.\n",
        "\n",
        "key가 존재하지 않을 경우 None을 반환합니다.\n",
        "<u>KeyError가 발생하지 않습니다.</u>"
      ]
    },
    {
      "cell_type": "code",
      "execution_count": 102,
      "id": "e82d6d07",
      "metadata": {
        "id": "e82d6d07"
      },
      "outputs": [],
      "source": [
        "my_dict = {'apple': '사과', 'banana': '바나나', 'melon': '멜론'}"
      ]
    },
    {
      "cell_type": "code",
      "execution_count": 95,
      "id": "886d6ef8",
      "metadata": {
        "colab": {
          "base_uri": "https://localhost:8080/",
          "height": 211
        },
        "id": "886d6ef8",
        "outputId": "66c035a7-dd99-4df7-e4f1-9562c740c590"
      },
      "outputs": [
        {
          "output_type": "error",
          "ename": "KeyError",
          "evalue": "ignored",
          "traceback": [
            "\u001b[0;31m---------------------------------------------------------------------------\u001b[0m",
            "\u001b[0;31mKeyError\u001b[0m                                  Traceback (most recent call last)",
            "\u001b[0;32m<ipython-input-95-2927517ca018>\u001b[0m in \u001b[0;36m<module>\u001b[0;34m()\u001b[0m\n\u001b[1;32m      1\u001b[0m \u001b[0;31m# get 메서드 없이 딕셔너리 my_dict의 key 'pineapple'의 value를 출력하는 코드를 실행시켜 오류를 확인해봅시다.\u001b[0m\u001b[0;34m\u001b[0m\u001b[0;34m\u001b[0m\u001b[0;34m\u001b[0m\u001b[0m\n\u001b[1;32m      2\u001b[0m \u001b[0;34m\u001b[0m\u001b[0m\n\u001b[0;32m----> 3\u001b[0;31m \u001b[0mprint\u001b[0m\u001b[0;34m(\u001b[0m\u001b[0mmy_dict\u001b[0m\u001b[0;34m[\u001b[0m\u001b[0;34m'pineapple'\u001b[0m\u001b[0;34m]\u001b[0m\u001b[0;34m)\u001b[0m\u001b[0;34m\u001b[0m\u001b[0;34m\u001b[0m\u001b[0m\n\u001b[0m",
            "\u001b[0;31mKeyError\u001b[0m: 'pineapple'"
          ]
        }
      ],
      "source": [
        "# get 메서드 없이 딕셔너리 my_dict의 key 'pineapple'의 value를 출력하는 코드를 실행시켜 오류를 확인해봅시다.\n",
        "\n",
        "print(my_dict['pineapple'])"
      ]
    },
    {
      "cell_type": "code",
      "execution_count": 96,
      "id": "b4b7c60e",
      "metadata": {
        "colab": {
          "base_uri": "https://localhost:8080/"
        },
        "id": "b4b7c60e",
        "outputId": "b7b5820d-67c2-4808-ee12-9d19e3933964"
      },
      "outputs": [
        {
          "output_type": "stream",
          "name": "stdout",
          "text": [
            "None\n"
          ]
        }
      ],
      "source": [
        "# get 메서드로 딕셔너리 my_dict의 key 'pineapple'의 value를 출력해봅시다.\n",
        "\n",
        "print(my_dict.get('pineapple'))"
      ]
    },
    {
      "cell_type": "code",
      "execution_count": 97,
      "id": "1c934e76",
      "metadata": {
        "colab": {
          "base_uri": "https://localhost:8080/"
        },
        "id": "1c934e76",
        "outputId": "c1785e0f-6397-46fe-81c4-d783ab7b9065"
      },
      "outputs": [
        {
          "output_type": "stream",
          "name": "stdout",
          "text": [
            "사과\n"
          ]
        }
      ],
      "source": [
        "# get 메서드로 딕셔너리 my_dict의 key 'apple'의 value를 출력해봅시다.\n",
        "\n",
        "print(my_dict.get('apple'))"
      ]
    },
    {
      "cell_type": "code",
      "execution_count": 98,
      "id": "95ee7580",
      "metadata": {
        "colab": {
          "base_uri": "https://localhost:8080/"
        },
        "id": "95ee7580",
        "outputId": "6ceebbdc-c3ae-4d6d-fbc7-9b369872e39e"
      },
      "outputs": [
        {
          "output_type": "stream",
          "name": "stdout",
          "text": [
            "0\n"
          ]
        }
      ],
      "source": [
        "# get 메서드로 딕셔너리 my_dict의 key 'pineapple'의 value를 출력해봅시다.\n",
        "# 단, key가 없다면 0을 반환하도록 해봅시다.\n",
        "\n",
        "print(my_dict.get('pineapple',0))"
      ]
    },
    {
      "cell_type": "markdown",
      "id": "5861ceaa",
      "metadata": {
        "id": "5861ceaa"
      },
      "source": [
        "### `.setdefault(key[, default])`\n",
        "`dict.get()` 메서드와 비슷한 동작을 하는 메서드로, key가 딕셔너리에 있으면 value를 돌려줍니다.\n",
        "\n",
        "get과 다른 점은 key가 딕셔너리에 없을 경우, default 값을 갖는 key 를 삽입한 후 default 를 반환한다는 점입니다. 만일 default가 주어지지 않을 경우, None 을 돌려줍니다."
      ]
    },
    {
      "cell_type": "code",
      "execution_count": 99,
      "id": "c04bf309",
      "metadata": {
        "colab": {
          "base_uri": "https://localhost:8080/"
        },
        "id": "c04bf309",
        "outputId": "d4390272-32c6-4540-e940-fbcdfdf6dbdc"
      },
      "outputs": [
        {
          "output_type": "stream",
          "name": "stdout",
          "text": [
            "사과\n"
          ]
        }
      ],
      "source": [
        "# setdefault 메서드로 딕셔너리 my_dict의 key 'apple'의 value를 가져와서 출력해봅시다.\n",
        "\n",
        "print(my_dict.setdefault('apple'))"
      ]
    },
    {
      "cell_type": "code",
      "execution_count": 100,
      "id": "b8b3e721",
      "metadata": {
        "scrolled": true,
        "colab": {
          "base_uri": "https://localhost:8080/"
        },
        "id": "b8b3e721",
        "outputId": "8dfc65b8-160b-47f7-9c5a-b9ce99840580"
      },
      "outputs": [
        {
          "output_type": "stream",
          "name": "stdout",
          "text": [
            "파인애플\n"
          ]
        }
      ],
      "source": [
        "# setdefault 메서드를 통해 딕셔너리 my_dict의 key 'pineapple'의 value를 가져와서 출력해봅시다.\n",
        "# 만일 pineapple이 없을 경우, '파인애플'을 출력하도록 합니다.\n",
        "\n",
        "print(my_dict.setdefault('pineapple','파인애플'))"
      ]
    },
    {
      "cell_type": "code",
      "execution_count": 101,
      "id": "5a67554f",
      "metadata": {
        "colab": {
          "base_uri": "https://localhost:8080/"
        },
        "id": "5a67554f",
        "outputId": "ba0b2e3d-6c1c-46d8-d708-d2af386c271a"
      },
      "outputs": [
        {
          "output_type": "stream",
          "name": "stdout",
          "text": [
            "{'apple': '사과', 'banana': '바나나', 'melon': '멜론', 'pineapple': '파인애플'}\n"
          ]
        }
      ],
      "source": [
        "# my_dict를 출력해봅시다.\n",
        "print(my_dict)"
      ]
    },
    {
      "cell_type": "code",
      "source": [
        "print(my_dict.get('pineapple','파인애플'))\n",
        "print(my_dict)"
      ],
      "metadata": {
        "colab": {
          "base_uri": "https://localhost:8080/"
        },
        "id": "zLnBYoVBX8DD",
        "outputId": "4b65e1d2-1994-417b-de71-5f1fae87d2f9"
      },
      "id": "zLnBYoVBX8DD",
      "execution_count": 103,
      "outputs": [
        {
          "output_type": "stream",
          "name": "stdout",
          "text": [
            "파인애플\n",
            "{'apple': '사과', 'banana': '바나나', 'melon': '멜론'}\n"
          ]
        }
      ]
    },
    {
      "cell_type": "markdown",
      "id": "d5876a00",
      "metadata": {
        "id": "d5876a00"
      },
      "source": [
        "## 추가 및 삭제\n",
        "\n",
        "### `.pop(key[, default])`\n",
        "\n",
        "key가 딕셔너리에 있으면 제거하고 그 값을 돌려줍니다. 그렇지 않으면 default를 반환합니다.\n",
        "\n",
        "default가 없는 상태에서 해당 key가 딕셔너리에 없는 경우, KeyError가 발생합니다."
      ]
    },
    {
      "cell_type": "code",
      "execution_count": 104,
      "id": "4aa8eb21",
      "metadata": {
        "id": "4aa8eb21"
      },
      "outputs": [],
      "source": [
        "my_dict = {'apple': '사과', 'banana': '바나나'}"
      ]
    },
    {
      "cell_type": "code",
      "execution_count": 105,
      "id": "5115f511",
      "metadata": {
        "colab": {
          "base_uri": "https://localhost:8080/"
        },
        "id": "5115f511",
        "outputId": "d30f92ac-35de-4833-bda5-3c53ada101cb"
      },
      "outputs": [
        {
          "output_type": "stream",
          "name": "stdout",
          "text": [
            "{'banana': '바나나'}\n"
          ]
        }
      ],
      "source": [
        "# pop 메서드로 딕셔너리 my_dict의 key 'apple'을 제거해봅시다.\n",
        "# 제거 후, 딕셔너리 my_dict를 출력해봅시다.\n",
        "\n",
        "my_dict.pop('apple')\n",
        "\n",
        "print(my_dict)"
      ]
    },
    {
      "cell_type": "code",
      "execution_count": 106,
      "id": "13b84231",
      "metadata": {
        "colab": {
          "base_uri": "https://localhost:8080/",
          "height": 211
        },
        "id": "13b84231",
        "outputId": "63d8b59d-aabd-4170-8c83-59ab44264f6e"
      },
      "outputs": [
        {
          "output_type": "error",
          "ename": "KeyError",
          "evalue": "ignored",
          "traceback": [
            "\u001b[0;31m---------------------------------------------------------------------------\u001b[0m",
            "\u001b[0;31mKeyError\u001b[0m                                  Traceback (most recent call last)",
            "\u001b[0;32m<ipython-input-106-65380f7b0ea9>\u001b[0m in \u001b[0;36m<module>\u001b[0;34m()\u001b[0m\n\u001b[1;32m      1\u001b[0m \u001b[0;31m# 제거하고자 하는 key가 딕셔너리에 없으면 KeyError가 발생합니다.\u001b[0m\u001b[0;34m\u001b[0m\u001b[0;34m\u001b[0m\u001b[0;34m\u001b[0m\u001b[0m\n\u001b[1;32m      2\u001b[0m \u001b[0;31m# 실행시켜 오류를 확인해봅시다.\u001b[0m\u001b[0;34m\u001b[0m\u001b[0;34m\u001b[0m\u001b[0;34m\u001b[0m\u001b[0m\n\u001b[0;32m----> 3\u001b[0;31m \u001b[0mmy_dict\u001b[0m\u001b[0;34m.\u001b[0m\u001b[0mpop\u001b[0m\u001b[0;34m(\u001b[0m\u001b[0;34m'melon'\u001b[0m\u001b[0;34m)\u001b[0m\u001b[0;34m\u001b[0m\u001b[0;34m\u001b[0m\u001b[0m\n\u001b[0m",
            "\u001b[0;31mKeyError\u001b[0m: 'melon'"
          ]
        }
      ],
      "source": [
        "# 제거하고자 하는 key가 딕셔너리에 없으면 KeyError가 발생합니다.\n",
        "# 실행시켜 오류를 확인해봅시다.\n",
        "my_dict.pop('melon')"
      ]
    },
    {
      "cell_type": "code",
      "execution_count": 107,
      "id": "08c9151e",
      "metadata": {
        "colab": {
          "base_uri": "https://localhost:8080/"
        },
        "id": "08c9151e",
        "outputId": "88dc8d3c-622a-4ec5-9b42-6838127bb9cb"
      },
      "outputs": [
        {
          "output_type": "stream",
          "name": "stdout",
          "text": [
            "0\n"
          ]
        }
      ],
      "source": [
        "# pop 메서드의 두번째 인자로 default 값을 설정 해 KeyError가 발생하지 않도록 할 수 있습니다.\n",
        "# pop 메서드로 딕셔너리 my_dict의 key 'melon'을 제거하고 해당 key가 없다면 0을 반환하도록 해봅시다.\n",
        "\n",
        "print(my_dict.pop('melon',0))"
      ]
    },
    {
      "cell_type": "code",
      "source": [
        "print(my_dict)"
      ],
      "metadata": {
        "colab": {
          "base_uri": "https://localhost:8080/"
        },
        "id": "r0ss8kbaYPb-",
        "outputId": "ddd75e1b-c3ea-45f9-9cd6-e6e797dc9f41"
      },
      "id": "r0ss8kbaYPb-",
      "execution_count": 108,
      "outputs": [
        {
          "output_type": "stream",
          "name": "stdout",
          "text": [
            "{'banana': '바나나'}\n"
          ]
        }
      ]
    },
    {
      "cell_type": "markdown",
      "id": "d25704ef",
      "metadata": {
        "id": "d25704ef"
      },
      "source": [
        "### `.update([other])`\n",
        "other 가 제공하는 key,value 쌍으로 딕셔너리를 덮어씁니다.\n",
        "`other` 는 다른 딕셔너리나 key/value 쌍으로 되어있는 모든 iterable을 사용 가능합니다.\n",
        "\n",
        "- `keyword argument`로 업데이트 하는 방법\n",
        "    - 키워드 인자가 지정되면, 딕셔너리는 그 key/value 쌍으로 갱신됩니다."
      ]
    },
    {
      "cell_type": "code",
      "execution_count": 109,
      "id": "acb6cf47",
      "metadata": {
        "id": "acb6cf47"
      },
      "outputs": [],
      "source": [
        "my_dict = {'apple': '사과', 'banana': '바나나', 'melon': '멜론'}"
      ]
    },
    {
      "cell_type": "code",
      "execution_count": 110,
      "id": "24862ab6",
      "metadata": {
        "colab": {
          "base_uri": "https://localhost:8080/"
        },
        "id": "24862ab6",
        "outputId": "758639bc-4bcd-4c60-adb2-ec09b8ca0481"
      },
      "outputs": [
        {
          "output_type": "stream",
          "name": "stdout",
          "text": [
            "{'apple': '사과아', 'banana': '바나나', 'melon': '멜론'}\n"
          ]
        }
      ],
      "source": [
        "# 딕셔너리 my_dict의 key가 'apple'일 때, value를 '사과아'로 업데이트해봅시다.\n",
        "# update 메서드와 keyword argument를 이용하여 작성하세요.\n",
        "\n",
        "my_dict.update(apple='사과아')"
      ]
    },
    {
      "cell_type": "code",
      "execution_count": 111,
      "id": "e0cdc90d",
      "metadata": {
        "scrolled": true,
        "colab": {
          "base_uri": "https://localhost:8080/"
        },
        "id": "e0cdc90d",
        "outputId": "55f05c77-f198-4995-9892-e8ebb238a27f"
      },
      "outputs": [
        {
          "output_type": "stream",
          "name": "stdout",
          "text": [
            "{'apple': '사과아', 'banana': '바나나', 'melon': '멜론'}\n"
          ]
        }
      ],
      "source": [
        "# 딕셔너리 my_dict를 출력해봅시다.\n",
        "\n",
        "print(my_dict)"
      ]
    },
    {
      "cell_type": "code",
      "execution_count": 112,
      "id": "b0d54099",
      "metadata": {
        "id": "b0d54099"
      },
      "outputs": [],
      "source": [
        "# 딕셔너리를 사용하여 여러 key/value를 my_dict를 업데이트할 수 있습니다.\n",
        "# key 'mango'와 value '망고'의 쌍과 key 'watermelon'과 '수박'의 쌍을 가지는 딕셔너리 d를 만들고,\n",
        "# update 메서드를 사용하여 my_dict에 d 값을 업데이트해봅시다.\n",
        "\n",
        "d = {'mango':'망고', 'watermelon':'수박'}\n",
        "\n",
        "my_dict.update(d)"
      ]
    },
    {
      "cell_type": "code",
      "execution_count": 113,
      "id": "5332528d",
      "metadata": {
        "colab": {
          "base_uri": "https://localhost:8080/"
        },
        "id": "5332528d",
        "outputId": "a1fef5c0-a6f2-4c47-ae6c-7758eff5c887"
      },
      "outputs": [
        {
          "output_type": "stream",
          "name": "stdout",
          "text": [
            "{'apple': '사과아', 'banana': '바나나', 'melon': '멜론', 'mango': '망고', 'watermelon': '수박'}\n"
          ]
        }
      ],
      "source": [
        "# 딕셔너리 my_dict를 출력해봅시다.\n",
        "\n",
        "print(my_dict)"
      ]
    },
    {
      "cell_type": "markdown",
      "id": "0338ce03",
      "metadata": {
        "id": "0338ce03"
      },
      "source": [
        "## 딕셔너리 메서드 모두 확인하기\n",
        "파이썬 내장함수 dir을 통해 컨테이너가 가지고 있는 메서드를 확인할 수 있습니다."
      ]
    },
    {
      "cell_type": "code",
      "execution_count": 114,
      "id": "a757deb8",
      "metadata": {
        "scrolled": true,
        "colab": {
          "base_uri": "https://localhost:8080/"
        },
        "id": "a757deb8",
        "outputId": "cdb0b7f5-ecfc-40dc-b50d-43615737cece"
      },
      "outputs": [
        {
          "output_type": "execute_result",
          "data": {
            "text/plain": [
              "['__class__',\n",
              " '__contains__',\n",
              " '__delattr__',\n",
              " '__delitem__',\n",
              " '__dir__',\n",
              " '__doc__',\n",
              " '__eq__',\n",
              " '__format__',\n",
              " '__ge__',\n",
              " '__getattribute__',\n",
              " '__getitem__',\n",
              " '__gt__',\n",
              " '__hash__',\n",
              " '__init__',\n",
              " '__init_subclass__',\n",
              " '__iter__',\n",
              " '__le__',\n",
              " '__len__',\n",
              " '__lt__',\n",
              " '__ne__',\n",
              " '__new__',\n",
              " '__reduce__',\n",
              " '__reduce_ex__',\n",
              " '__repr__',\n",
              " '__setattr__',\n",
              " '__setitem__',\n",
              " '__sizeof__',\n",
              " '__str__',\n",
              " '__subclasshook__',\n",
              " 'clear',\n",
              " 'copy',\n",
              " 'fromkeys',\n",
              " 'get',\n",
              " 'items',\n",
              " 'keys',\n",
              " 'pop',\n",
              " 'popitem',\n",
              " 'setdefault',\n",
              " 'update',\n",
              " 'values']"
            ]
          },
          "metadata": {},
          "execution_count": 114
        }
      ],
      "source": [
        "# dir 함수로 딕셔너리가 가지고 있는 메서드를 확인할 수 있습니다.\n",
        "dir(dict)"
      ]
    },
    {
      "cell_type": "markdown",
      "id": "639ac315",
      "metadata": {
        "id": "639ac315"
      },
      "source": [
        "---"
      ]
    },
    {
      "cell_type": "markdown",
      "id": "c146c1f8",
      "metadata": {
        "id": "c146c1f8"
      },
      "source": [
        "# 얕은 복사와 깊은 복사\n"
      ]
    },
    {
      "cell_type": "markdown",
      "id": "c1db0b20",
      "metadata": {
        "id": "c1db0b20"
      },
      "source": [
        "## 데이터 분류\n",
        "**데이터의 분류**에 따라 복사가 달라집니다.\n",
        "데이터는 크게 변경 가능한 것(`mutable`)들과 변경 불가능한 것(`immutable`)으로 나뉘며, python은 각각을 다르게 다룹니다. 먼저 변경 불가능한 데이터를 살펴보겠습니다."
      ]
    },
    {
      "cell_type": "markdown",
      "id": "1d8ce575",
      "metadata": {
        "id": "1d8ce575"
      },
      "source": [
        "### 변경 불가능한(`immutable`) 데이터\n",
        "* 리터럴(literal)\n",
        "\n",
        "    - 숫자(Number)\n",
        "    - 글자(String)\n",
        "    - 참/거짓(Bool)\n",
        "\n",
        "* `range()`\n",
        "\n",
        "* `tuple()`\n",
        "\n",
        "* `frozenset()`"
      ]
    },
    {
      "cell_type": "code",
      "execution_count": 141,
      "id": "f292539d",
      "metadata": {
        "colab": {
          "base_uri": "https://localhost:8080/"
        },
        "id": "f292539d",
        "outputId": "c70d2660-8c4e-4910-abcd-1dcaab127ce9"
      },
      "outputs": [
        {
          "output_type": "stream",
          "name": "stdout",
          "text": [
            "11256672\n",
            "11256672\n",
            "20\n",
            "10\n"
          ]
        }
      ],
      "source": [
        "# immutable 데이터의 복사는 어떻게 이루어지는지 확인해봅시다.\n",
        "a = 20\n",
        "b = a\n",
        "\n",
        "print(id(a))\n",
        "print(id(b))\n",
        "b = 10\n",
        "#이제 a가 바뀌는지? 왜 안바뀌지 바뀌는것 같았는데\n",
        "#immutable은 깊은복사가 되나?\n",
        "print(a)\n",
        "print(b)"
      ]
    },
    {
      "cell_type": "markdown",
      "id": "b10ac5a2",
      "metadata": {
        "scrolled": true,
        "id": "b10ac5a2"
      },
      "source": [
        "\n",
        "<iframe width=\"800\" height=\"500\" frameborder=\"0\" src=\"http://pythontutor.com/iframe-embed.html#code=a%20%3D%2020%0Ab%20%3D%20a%0Ab%20%3D%2010%0A%0Aprint%28a%29%0Aprint%28b%29&codeDivHeight=400&codeDivWidth=350&cumulative=false&curInstr=0&heapPrimitives=nevernest&origin=opt-frontend.js&py=3&rawInputLstJSON=%5B%5D&textReferences=false\"> </iframe>"
      ]
    },
    {
      "cell_type": "markdown",
      "id": "f7a28b7b",
      "metadata": {
        "id": "f7a28b7b"
      },
      "source": [
        "### 변경 가능한(`mutable`) 데이터\n",
        "\n",
        "- `list`\n",
        "- `dict`\n",
        "- `set`"
      ]
    },
    {
      "cell_type": "code",
      "execution_count": 121,
      "id": "26992f40",
      "metadata": {
        "scrolled": true,
        "colab": {
          "base_uri": "https://localhost:8080/"
        },
        "id": "26992f40",
        "outputId": "99603457-0e1b-48d7-998d-bb053ca6ce70"
      },
      "outputs": [
        {
          "output_type": "stream",
          "name": "stdout",
          "text": [
            "[100, 2, 3, 4]\n",
            "[100, 2, 3, 4]\n"
          ]
        }
      ],
      "source": [
        "# mutable 데이터의 복사는 어떻게 이루어지는지 확인해봅시다.\n",
        "a = [1, 2, 3, 4]\n",
        "b = a\n",
        "b[0] = 100\n",
        "\n",
        "print(a)\n",
        "print(b)"
      ]
    },
    {
      "cell_type": "code",
      "source": [
        "a = [1, 2, 3, 4]\n",
        "b = a\n",
        "print(id(a))\n",
        "print(id(b))\n",
        "b = [3,4,2]\n",
        "print(id(b))\n",
        "\n",
        "print(a)\n",
        "print(b)"
      ],
      "metadata": {
        "colab": {
          "base_uri": "https://localhost:8080/"
        },
        "id": "E7XzccRldMbZ",
        "outputId": "21f94c14-3a43-489d-9de7-a632f737209f"
      },
      "id": "E7XzccRldMbZ",
      "execution_count": 140,
      "outputs": [
        {
          "output_type": "stream",
          "name": "stdout",
          "text": [
            "140078841805552\n",
            "140078841805552\n",
            "140078841815280\n",
            "[1, 2, 3, 4]\n",
            "[3, 4, 2]\n"
          ]
        }
      ]
    },
    {
      "cell_type": "code",
      "source": [
        "a = [1, 2, 3, 4]\n",
        "b = a\n",
        "print(id(a))\n",
        "print(id(b))\n",
        "b += [5]\n",
        "\n",
        "print(id(b))\n",
        "print(a)\n",
        "print(b)"
      ],
      "metadata": {
        "colab": {
          "base_uri": "https://localhost:8080/"
        },
        "id": "oBVkws5ZdT_7",
        "outputId": "4faff83f-db55-4c1f-8b92-90d89f900320"
      },
      "id": "oBVkws5ZdT_7",
      "execution_count": 147,
      "outputs": [
        {
          "output_type": "stream",
          "name": "stdout",
          "text": [
            "140078842848592\n",
            "140078842848592\n",
            "140078842848592\n",
            "[1, 2, 3, 4, 5]\n",
            "[1, 2, 3, 4, 5]\n"
          ]
        }
      ]
    },
    {
      "cell_type": "code",
      "source": [
        "a = (1, 2, 3, 4)\n",
        "b = a\n",
        "\n",
        "print(id(a))\n",
        "print(id(b))\n",
        "\n",
        "b += (5,) #immutable은 깊은 복사라고 봐야하나?? 근데 단순 할당에는 id가 같은거 보면 그냥 더하면 주소가 달라지는것 뿐인가\n",
        "\n",
        "print(id(b))\n",
        "\n",
        "print(a)\n",
        "print(b)"
      ],
      "metadata": {
        "colab": {
          "base_uri": "https://localhost:8080/"
        },
        "id": "14wZlFYXd0Fv",
        "outputId": "88e4f841-fb82-4c2d-f11b-3a00e170ab6b"
      },
      "id": "14wZlFYXd0Fv",
      "execution_count": 146,
      "outputs": [
        {
          "output_type": "stream",
          "name": "stdout",
          "text": [
            "140078841923920\n",
            "140078841923920\n",
            "140078842687664\n",
            "(1, 2, 3, 4)\n",
            "(1, 2, 3, 4, 5)\n"
          ]
        }
      ]
    },
    {
      "cell_type": "markdown",
      "id": "f5d0b12e",
      "metadata": {
        "scrolled": true,
        "id": "f5d0b12e"
      },
      "source": [
        "\n",
        "<iframe width=\"800\" height=\"500\" frameborder=\"0\" src=\"http://pythontutor.com/iframe-embed.html#code=a%20%3D%20%5B1,%202,%203,%204%5D%0Ab%20%3D%20a%0Ab%5B0%5D%20%3D%20100%0A%0Aprint%28a%29%0Aprint%28b%29&codeDivHeight=400&codeDivWidth=350&cumulative=false&curInstr=0&heapPrimitives=nevernest&origin=opt-frontend.js&py=3&rawInputLstJSON=%5B%5D&textReferences=false\"> </iframe>"
      ]
    },
    {
      "cell_type": "markdown",
      "id": "7258514a",
      "metadata": {
        "id": "7258514a"
      },
      "source": [
        "**복사 방법**\n",
        "\n",
        "파이썬에서 데이터를 복사하는 방법은 크게, 세 가지로 나뉩니다.\n",
        "> - 할당 (Assignment)\n",
        "> - 얕은 복사 (Shallow copy)\n",
        "> - 깊은 복사 (Deep copy)\n",
        "\n",
        "## 할당\n",
        "먼저 할당을 확인해 보겠습니다."
      ]
    },
    {
      "cell_type": "code",
      "execution_count": 122,
      "id": "72fe8cb7",
      "metadata": {
        "id": "72fe8cb7"
      },
      "outputs": [],
      "source": [
        "# original_list에 [1, 2, 3]을 저장합니다.\n",
        "original_list = [1, 2, 3]"
      ]
    },
    {
      "cell_type": "code",
      "execution_count": 125,
      "id": "070618e9",
      "metadata": {
        "id": "070618e9"
      },
      "outputs": [],
      "source": [
        "# 할당연산자(=)를 사용하여,\n",
        "# copy_list에 original_list를 저장하고 출력합니다.\n",
        "\n",
        "copy_list = original_list\n"
      ]
    },
    {
      "cell_type": "code",
      "execution_count": 126,
      "id": "22d831e1",
      "metadata": {
        "colab": {
          "base_uri": "https://localhost:8080/"
        },
        "id": "22d831e1",
        "outputId": "3740c632-19e0-4952-ffab-aeff63bb37c0"
      },
      "outputs": [
        {
          "output_type": "stream",
          "name": "stdout",
          "text": [
            "[5, 2, 3]\n"
          ]
        }
      ],
      "source": [
        "# copy_list의 첫 번째 값을 5로 바꾸고 original_list를 출력해봅시다.\n",
        "\n",
        "copy_list[0] = 5\n",
        "\n",
        "print(original_list)"
      ]
    },
    {
      "cell_type": "code",
      "source": [
        "print(copy_list)"
      ],
      "metadata": {
        "colab": {
          "base_uri": "https://localhost:8080/"
        },
        "id": "xrexFw87cJOD",
        "outputId": "57517f20-cdcd-436b-83b6-a6ab32b0b558"
      },
      "id": "xrexFw87cJOD",
      "execution_count": 129,
      "outputs": [
        {
          "output_type": "stream",
          "name": "stdout",
          "text": [
            "[5, 2, 3]\n"
          ]
        }
      ]
    },
    {
      "cell_type": "code",
      "execution_count": 128,
      "id": "7f33e600",
      "metadata": {
        "colab": {
          "base_uri": "https://localhost:8080/"
        },
        "id": "7f33e600",
        "outputId": "8c3f23fc-8fb9-4f41-d4d0-e5b532bf052c"
      },
      "outputs": [
        {
          "output_type": "stream",
          "name": "stdout",
          "text": [
            "140078841877440\n",
            "True\n"
          ]
        }
      ],
      "source": [
        "# copy_list, original_list 각각의 id 값을\n",
        "# == 연산자로 비교해봅시다.\n",
        "\n",
        "print(id(copy_list))\n",
        "print(id(copy_list) == id(original_list))"
      ]
    },
    {
      "cell_type": "markdown",
      "id": "3c72a1c4",
      "metadata": {
        "id": "3c72a1c4"
      },
      "source": [
        "변수만 복사하다 보니 바라보는 객체는 당연히 동일합니다.\n",
        "<img src=\"https://user-images.githubusercontent.com/90173310/148327067-47a35f83-51a4-4c49-be1d-d5b40ece54df.png\n",
        "\" alt=\"drawing\" width=\"400\"/>\n",
        "\n",
        "즉, 두개의 중 하나만 변경되어도 나머지 하나도 동일하게 수정되는 현상이 발생하게 됩니다."
      ]
    },
    {
      "cell_type": "markdown",
      "id": "7df67993",
      "metadata": {
        "id": "7df67993"
      },
      "source": [
        "## 얕은 복사(Shallow copy)"
      ]
    },
    {
      "cell_type": "markdown",
      "id": "75da9fbe",
      "metadata": {
        "id": "75da9fbe"
      },
      "source": [
        "### slice 연산자 사용 `[:]`\n",
        "\n",
        "mutable 데이터 중 하나인 리스트를 예로 들어봅시다.\n",
        "리스트를 슬라이싱하여 할당 시, 새로운 id가 부여되며, 서로 영향을 받지 않습니다."
      ]
    },
    {
      "cell_type": "code",
      "execution_count": 130,
      "id": "5fe09622",
      "metadata": {
        "id": "5fe09622"
      },
      "outputs": [],
      "source": [
        "a = [1, 2, 3]"
      ]
    },
    {
      "cell_type": "code",
      "execution_count": 131,
      "id": "9962a003",
      "metadata": {
        "colab": {
          "base_uri": "https://localhost:8080/"
        },
        "id": "9962a003",
        "outputId": "8e567406-91c1-4e29-96c8-2c0a25eb546e"
      },
      "outputs": [
        {
          "output_type": "stream",
          "name": "stdout",
          "text": [
            "[1, 2, 3]\n",
            "[5, 2, 3]\n"
          ]
        }
      ],
      "source": [
        "# slice 연산자로 리스트 a의 모든 요소를 b에 저장합니다.\n",
        "# 리스트 b의 첫 번째 값을 5로 바꾸고 리스트 a를 출력합니다.\n",
        "# slice 연산자를 활용하면 새로운 리스트를 저장할 수 있습니다.\n",
        "\n",
        "b = a[:]\n",
        "\n",
        "b[0] = 5\n",
        "\n",
        "print(a)\n",
        "print(b)"
      ]
    },
    {
      "cell_type": "markdown",
      "id": "dcdc168e",
      "metadata": {
        "id": "dcdc168e"
      },
      "source": [
        "### `list()` 활용"
      ]
    },
    {
      "cell_type": "code",
      "execution_count": 132,
      "id": "47197247",
      "metadata": {
        "id": "47197247"
      },
      "outputs": [],
      "source": [
        "a = [1, 2, 3]"
      ]
    },
    {
      "cell_type": "code",
      "execution_count": 133,
      "id": "aec19a94",
      "metadata": {
        "colab": {
          "base_uri": "https://localhost:8080/"
        },
        "id": "aec19a94",
        "outputId": "c78f679f-317a-4d80-896b-ae8707f9b82f"
      },
      "outputs": [
        {
          "output_type": "stream",
          "name": "stdout",
          "text": [
            "[1, 2, 3]\n",
            "[5, 2, 3]\n"
          ]
        }
      ],
      "source": [
        "# list 함수로 리스트 a를 복사하여 b에 저장합니다.\n",
        "# 리스트 b의 첫 번째 값을 5로 바꾸고 리스트 a를 출력합니다.\n",
        "\n",
        "b = list(a)\n",
        "\n",
        "b[0] = 5\n",
        "print(a)\n",
        "print(b)"
      ]
    },
    {
      "cell_type": "markdown",
      "id": "d2938e56",
      "metadata": {
        "id": "d2938e56"
      },
      "source": [
        "* 하지만, 이렇게 하는 것도 일부 상황에만 서로 다른 `얕은 복사(shallow copy)`입니다.\n",
        "\n",
        "2차원 리스트와 같이 mutable 객체 안에 mutable 객체가 있는 경우 문제가 됩니다. 아래 예시를 통해 확인해봅시다."
      ]
    },
    {
      "cell_type": "code",
      "execution_count": 134,
      "id": "1e93ae7f",
      "metadata": {
        "id": "1e93ae7f"
      },
      "outputs": [],
      "source": [
        "a = [1, 2, [1, 2]]"
      ]
    },
    {
      "cell_type": "code",
      "execution_count": 135,
      "id": "0bc10a7b",
      "metadata": {
        "scrolled": true,
        "colab": {
          "base_uri": "https://localhost:8080/"
        },
        "id": "0bc10a7b",
        "outputId": "9766cbb8-f249-4ad0-d2b6-70e59e6f1561"
      },
      "outputs": [
        {
          "output_type": "stream",
          "name": "stdout",
          "text": [
            "140078841951008\n",
            "140078841832384\n"
          ]
        }
      ],
      "source": [
        "# slice 연산자로 리스트 a의 모든 요소를 b에 저장합니다.\n",
        "# 리스트 b의 index 2의 첫 번째 값을 5로 바꾸고 리스트 a와 b의 id와 그 값을 출력해봅시다.\n",
        "\n",
        "b = a[:]\n",
        "\n",
        "b[2][0] = 5\n",
        "\n",
        "print(id(a))\n",
        "print(id(b))"
      ]
    },
    {
      "cell_type": "markdown",
      "id": "5f7e97da",
      "metadata": {
        "id": "5f7e97da"
      },
      "source": [
        "a와 b의 id는 다르다는 것을 확인하였지만, 내부 값은 영향을 받게 되었습니다.\n",
        "<img src=\"https://user-images.githubusercontent.com/90173310/148327165-e695ed56-d0c0-4916-94e5-a0564aebf0a6.png\" alt=\"drawing\" width=\"400\"/>\n",
        "\n",
        "내부의 객체 `id(a[2])`과 `id(b[2])`은 같은 주소를 바라보고 있기 때문입니다."
      ]
    },
    {
      "cell_type": "code",
      "execution_count": 136,
      "id": "97288d24",
      "metadata": {
        "colab": {
          "base_uri": "https://localhost:8080/"
        },
        "id": "97288d24",
        "outputId": "e046dc01-f395-4735-b481-6879ba98fc6c"
      },
      "outputs": [
        {
          "output_type": "stream",
          "name": "stdout",
          "text": [
            "140078842850752\n",
            "140078842850752\n"
          ]
        }
      ],
      "source": [
        "# id 함수를 통해 a[2]와 b[2]가 서로 같은 주소를 바라보고 있는지 확인하고 이를 출력해봅시다.\n",
        "\n",
        "print(id(a[2]))\n",
        "print(id(b[2]))"
      ]
    },
    {
      "cell_type": "markdown",
      "id": "d3afafed",
      "metadata": {
        "id": "d3afafed"
      },
      "source": [
        "## 깊은 복사(Deep copy)\n",
        "\n",
        "* 만일 중첩된 상황에서 복사를 하고 싶다면, `깊은 복사(deep copy)`를 해야 합니다. \n",
        "* 깊은 복사는 새로운 객체를 만들고 원본 객체 내에 있는 객체에 대한 복사를 재귀적으로 삽입합니다.\n",
        "* 즉, 내부에 있는 모든 객체까지 새롭게 값이 변경되게 됩니다."
      ]
    },
    {
      "cell_type": "code",
      "execution_count": 137,
      "id": "4e7a2d4d",
      "metadata": {
        "colab": {
          "base_uri": "https://localhost:8080/"
        },
        "id": "4e7a2d4d",
        "outputId": "0fd7887d-d1b3-47e5-b7dc-7ee71e5fe595"
      },
      "outputs": [
        {
          "output_type": "stream",
          "name": "stdout",
          "text": [
            "[1, 2, [1, 2]]\n"
          ]
        }
      ],
      "source": [
        "# 내부에 있는 리스트까지 복사를 하기 위해서 copy 모듈을 활용합니다.\n",
        "import copy\n",
        "\n",
        "a = [1, 2, [1, 2]]\n",
        "b = copy.deepcopy(a)\n",
        "\n",
        "b[2][0] = 3\n",
        "print(a)"
      ]
    },
    {
      "cell_type": "code",
      "source": [
        "print(b)"
      ],
      "metadata": {
        "colab": {
          "base_uri": "https://localhost:8080/"
        },
        "id": "e-D_DzSLc_D7",
        "outputId": "6ad148b8-cc73-4a40-a668-517b09f4e5e7"
      },
      "id": "e-D_DzSLc_D7",
      "execution_count": 138,
      "outputs": [
        {
          "output_type": "stream",
          "name": "stdout",
          "text": [
            "[1, 2, [3, 2]]\n"
          ]
        }
      ]
    },
    {
      "cell_type": "code",
      "source": [
        ""
      ],
      "metadata": {
        "id": "Qu7RuVP2dAUz"
      },
      "id": "Qu7RuVP2dAUz",
      "execution_count": null,
      "outputs": []
    }
  ],
  "metadata": {
    "kernelspec": {
      "display_name": "Python 3 (ipykernel)",
      "language": "python",
      "name": "python3"
    },
    "language_info": {
      "codemirror_mode": {
        "name": "ipython",
        "version": 3
      },
      "file_extension": ".py",
      "mimetype": "text/x-python",
      "name": "python",
      "nbconvert_exporter": "python",
      "pygments_lexer": "ipython3",
      "version": "3.9.13"
    },
    "toc": {
      "base_numbering": 1,
      "nav_menu": {},
      "number_sections": true,
      "sideBar": true,
      "skip_h1_title": false,
      "title_cell": "Table of Contents",
      "title_sidebar": "데이터 구조(Data Structure",
      "toc_cell": false,
      "toc_position": {
        "height": "calc(100% - 180px)",
        "left": "10px",
        "top": "150px",
        "width": "306.554px"
      },
      "toc_section_display": true,
      "toc_window_display": true
    },
    "colab": {
      "name": "06_01_데이터구조.ipynb",
      "provenance": [],
      "collapsed_sections": []
    }
  },
  "nbformat": 4,
  "nbformat_minor": 5
}