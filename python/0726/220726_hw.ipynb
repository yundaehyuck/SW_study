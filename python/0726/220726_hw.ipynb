{
  "nbformat": 4,
  "nbformat_minor": 0,
  "metadata": {
    "colab": {
      "name": "220726_hw.ipynb",
      "provenance": [],
      "collapsed_sections": []
    },
    "kernelspec": {
      "name": "python3",
      "display_name": "Python 3"
    },
    "language_info": {
      "name": "python"
    }
  },
  "cells": [
    {
      "cell_type": "markdown",
      "source": [
        "# 6-1. built-in 함수와 메서드\n",
        "\n",
        "sorted()와 .sort()의 차이점을 코드의 실행 결과를 활용하여 설명  \n",
        "\n",
        "**답) sorted()는 인자로 받은 리스트의 원소를 정렬한 새 리스트를 반환하고 .sort()는 원본을 정렬시키며 메소드 결과 자체는 None을 반환**"
      ],
      "metadata": {
        "id": "VYD5u7rIL0Rq"
      }
    },
    {
      "cell_type": "code",
      "execution_count": 2,
      "metadata": {
        "colab": {
          "base_uri": "https://localhost:8080/"
        },
        "id": "qnVsAhmfLvP1",
        "outputId": "3ed48f69-d5bc-4e63-d55d-c69a1a364e2c"
      },
      "outputs": [
        {
          "output_type": "stream",
          "name": "stdout",
          "text": [
            "None\n",
            "[1, 2, 3, 4, 5, 7, 9]\n"
          ]
        }
      ],
      "source": [
        "#.sort()는 원본을 정렬시키고 메소드 값은 None\n",
        "a = [4,2,3,5,9,1,7]\n",
        "\n",
        "print(a.sort())\n",
        "\n",
        "print(a)"
      ]
    },
    {
      "cell_type": "code",
      "source": [
        "#sorted()는 정렬된 새 리스트를 반환함\n",
        "\n",
        "a = [4,2,3,5,9,1,7]\n",
        "\n",
        "print(sorted(a)) #정렬된 결과를 새 리스트로 반환\n",
        "\n",
        "print(a) #원본은 그대로"
      ],
      "metadata": {
        "colab": {
          "base_uri": "https://localhost:8080/"
        },
        "id": "u5jOXmmUMcL-",
        "outputId": "a5135014-7afb-46db-d7f3-056f521cf7eb"
      },
      "execution_count": 3,
      "outputs": [
        {
          "output_type": "stream",
          "name": "stdout",
          "text": [
            "[1, 2, 3, 4, 5, 7, 9]\n",
            "[4, 2, 3, 5, 9, 1, 7]\n"
          ]
        }
      ]
    },
    {
      "cell_type": "code",
      "source": [
        ""
      ],
      "metadata": {
        "id": "8FJPJ52yMrkM"
      },
      "execution_count": null,
      "outputs": []
    },
    {
      "cell_type": "markdown",
      "source": [
        "# 6-2. .extend()와 .append()\n",
        "\n",
        ".extend()와 .append()의 차이점을 코드의 실행 결과를 활용하여 설명\n",
        "\n",
        "---\n",
        "\n",
        "**list.append(x)\n",
        "Add an item to the end of the list. Equivalent to a[len(a):] = [x].**\n",
        "\n",
        "**list.extend(iterable)\n",
        "Extend the list by appending all the items from the iterable. Equivalent to a[len(a):] = iterable**\n",
        "\n",
        "\n",
        "---\n",
        "\n",
        "**답).append()는 원소 하나만 받을 수 있지만 .extend()는 단순 원소 하나만 받을 수는 없다**\n",
        "\n",
        "**답).extend()는 iterable을 인자로 받아야하며 그것의 모든 원소를 하나씩 끝에 append하여 확장시키지만 .append()는 iterable을 인자로 받더라도 그것을 하나의 원소로 생각하여 그대로 끝에 추가**"
      ],
      "metadata": {
        "id": "wkwLdD-GMxiM"
      }
    },
    {
      "cell_type": "code",
      "source": [
        "#하나의 원소를 추가?\n",
        "\n",
        "a = [1,2,4,3,5,6,4,1,2]\n",
        "\n",
        "a.extend(1) #extend는 iterable만 받는다\n",
        "\n",
        "print(a)"
      ],
      "metadata": {
        "colab": {
          "base_uri": "https://localhost:8080/",
          "height": 245
        },
        "id": "AIAypx_UM3dX",
        "outputId": "bbd0f7c1-f91a-4f46-b961-68de330709c4"
      },
      "execution_count": 4,
      "outputs": [
        {
          "output_type": "error",
          "ename": "TypeError",
          "evalue": "ignored",
          "traceback": [
            "\u001b[0;31m---------------------------------------------------------------------------\u001b[0m",
            "\u001b[0;31mTypeError\u001b[0m                                 Traceback (most recent call last)",
            "\u001b[0;32m<ipython-input-4-45f0af5bcfbd>\u001b[0m in \u001b[0;36m<module>\u001b[0;34m()\u001b[0m\n\u001b[1;32m      3\u001b[0m \u001b[0ma\u001b[0m \u001b[0;34m=\u001b[0m \u001b[0;34m[\u001b[0m\u001b[0;36m1\u001b[0m\u001b[0;34m,\u001b[0m\u001b[0;36m2\u001b[0m\u001b[0;34m,\u001b[0m\u001b[0;36m4\u001b[0m\u001b[0;34m,\u001b[0m\u001b[0;36m3\u001b[0m\u001b[0;34m,\u001b[0m\u001b[0;36m5\u001b[0m\u001b[0;34m,\u001b[0m\u001b[0;36m6\u001b[0m\u001b[0;34m,\u001b[0m\u001b[0;36m4\u001b[0m\u001b[0;34m,\u001b[0m\u001b[0;36m1\u001b[0m\u001b[0;34m,\u001b[0m\u001b[0;36m2\u001b[0m\u001b[0;34m]\u001b[0m\u001b[0;34m\u001b[0m\u001b[0;34m\u001b[0m\u001b[0m\n\u001b[1;32m      4\u001b[0m \u001b[0;34m\u001b[0m\u001b[0m\n\u001b[0;32m----> 5\u001b[0;31m \u001b[0ma\u001b[0m\u001b[0;34m.\u001b[0m\u001b[0mextend\u001b[0m\u001b[0;34m(\u001b[0m\u001b[0;36m1\u001b[0m\u001b[0;34m)\u001b[0m\u001b[0;34m\u001b[0m\u001b[0;34m\u001b[0m\u001b[0m\n\u001b[0m\u001b[1;32m      6\u001b[0m \u001b[0;34m\u001b[0m\u001b[0m\n\u001b[1;32m      7\u001b[0m \u001b[0mprint\u001b[0m\u001b[0;34m(\u001b[0m\u001b[0ma\u001b[0m\u001b[0;34m)\u001b[0m\u001b[0;34m\u001b[0m\u001b[0;34m\u001b[0m\u001b[0m\n",
            "\u001b[0;31mTypeError\u001b[0m: 'int' object is not iterable"
          ]
        }
      ]
    },
    {
      "cell_type": "code",
      "source": [
        "#append는 원소 하나만 받을 수 있다\n",
        "a = [1,2,4,3,5,6,4,1,2]\n",
        "\n",
        "a.append(1)\n",
        "\n",
        "print(a)"
      ],
      "metadata": {
        "colab": {
          "base_uri": "https://localhost:8080/"
        },
        "id": "DYmIZ8thSFnf",
        "outputId": "7312db10-69b4-4fc2-9a59-7d7fe97fb3f3"
      },
      "execution_count": 5,
      "outputs": [
        {
          "output_type": "stream",
          "name": "stdout",
          "text": [
            "[1, 2, 4, 3, 5, 6, 4, 1, 2, 1]\n"
          ]
        }
      ]
    },
    {
      "cell_type": "code",
      "source": [
        "#extend()는 인자로 받은 리스트의 모든 원소를 끝에 하나씩 append하여 확장\n",
        "\n",
        "a = [1,2,4,3,5,6,4,1,2]\n",
        "\n",
        "a.extend([3,7,8,9])\n",
        "\n",
        "print(a)"
      ],
      "metadata": {
        "colab": {
          "base_uri": "https://localhost:8080/"
        },
        "id": "5eGpMFOrSLdx",
        "outputId": "b33a21bb-5fa9-484d-801b-9e287404fc24"
      },
      "execution_count": 6,
      "outputs": [
        {
          "output_type": "stream",
          "name": "stdout",
          "text": [
            "[1, 2, 4, 3, 5, 6, 4, 1, 2, 3, 7, 8, 9]\n"
          ]
        }
      ]
    },
    {
      "cell_type": "code",
      "source": [
        "#append()는 리스트를 받을 수 있지만 하나의 원소로 생각하여 끝에 그대로 추가\n",
        "\n",
        "a = [1,2,4,3,5,6,4,1,2]\n",
        "\n",
        "a.append([3,7,8,9])\n",
        "\n",
        "print(a)"
      ],
      "metadata": {
        "colab": {
          "base_uri": "https://localhost:8080/"
        },
        "id": "m-SCmBc4Sdlh",
        "outputId": "c7a99984-c453-48f7-d014-37fd99e565e3"
      },
      "execution_count": 7,
      "outputs": [
        {
          "output_type": "stream",
          "name": "stdout",
          "text": [
            "[1, 2, 4, 3, 5, 6, 4, 1, 2, [3, 7, 8, 9]]\n"
          ]
        }
      ]
    },
    {
      "cell_type": "code",
      "source": [
        ""
      ],
      "metadata": {
        "id": "4ArY05laSkkc"
      },
      "execution_count": null,
      "outputs": []
    },
    {
      "cell_type": "markdown",
      "source": [
        "# 6-3. 복사가 잘 된 건가?\n",
        "\n",
        "아래의 코드를 실행 하였을 때, 변수 a와 b에 담긴 리스트의 요소가 같은지 혹은 다른지 판단하고 그 이유를 작성"
      ],
      "metadata": {
        "id": "n-wSm1JlTIyf"
      }
    },
    {
      "cell_type": "code",
      "source": [
        "a = [1,2,3,4,5]\n",
        "\n",
        "b = a\n",
        "\n",
        "a[2] = 5\n",
        "\n",
        "print(a)\n",
        "print(b)"
      ],
      "metadata": {
        "colab": {
          "base_uri": "https://localhost:8080/"
        },
        "id": "bkI6qj_ZTPjk",
        "outputId": "408a8e30-f420-4d2a-b7e3-6c45ee771258"
      },
      "execution_count": 8,
      "outputs": [
        {
          "output_type": "stream",
          "name": "stdout",
          "text": [
            "[1, 2, 5, 4, 5]\n",
            "[1, 2, 5, 4, 5]\n"
          ]
        }
      ]
    },
    {
      "cell_type": "markdown",
      "source": [
        "**파이썬은 변수로 해당 값을 가리키는 주소를 저장하는데** \n",
        "\n",
        "**b=a로 할당한 순간 a의 주소가 b에 할당되어 a와 b가 동일한 리스트를 가리키는 동일한 주소를 가리킨다.**   \n",
        "\n",
        "**그래서 a의 원소를 변경시키면 b의 원소도 변경된다**"
      ],
      "metadata": {
        "id": "Mj2g2a4NTW75"
      }
    },
    {
      "cell_type": "code",
      "source": [
        "a = [1,2,3,4,5]\n",
        "\n",
        "b = a\n",
        "\n",
        "##a,b의 id값이 동일함\n",
        "print(id(a))\n",
        "print(id(b))\n",
        "\n",
        "##그래서 a의 원소를 변경시키면 b의 원소도 변경됨\n",
        "\n",
        "a[2] = 5\n",
        "\n",
        "print(a)\n",
        "print(b)"
      ],
      "metadata": {
        "colab": {
          "base_uri": "https://localhost:8080/"
        },
        "id": "LhTv7yR5TUFg",
        "outputId": "1ada3d7f-8a33-4e01-e6e1-b55883effe26"
      },
      "execution_count": 10,
      "outputs": [
        {
          "output_type": "stream",
          "name": "stdout",
          "text": [
            "140079369926688\n",
            "140079369926688\n",
            "[1, 2, 5, 4, 5]\n",
            "[1, 2, 5, 4, 5]\n"
          ]
        }
      ]
    },
    {
      "cell_type": "code",
      "source": [
        ""
      ],
      "metadata": {
        "id": "kTZUdB_7T2zS"
      },
      "execution_count": null,
      "outputs": []
    }
  ]
}