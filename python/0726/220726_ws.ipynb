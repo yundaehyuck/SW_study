{
  "nbformat": 4,
  "nbformat_minor": 0,
  "metadata": {
    "colab": {
      "name": "220726_ws.ipynb",
      "provenance": [],
      "collapsed_sections": []
    },
    "kernelspec": {
      "name": "python3",
      "display_name": "Python 3"
    },
    "language_info": {
      "name": "python"
    }
  },
  "cells": [
    {
      "cell_type": "markdown",
      "source": [
        "# 6-1. 무엇이 중복일까\n",
        "\n",
        "문자열을 전달 받아 해당 문자열에서 중복해서 나타난 문자들을 담은 리스트를 반환하는 duplicated_letters 함수를 작성"
      ],
      "metadata": {
        "id": "faDgO8L-UNkV"
      }
    },
    {
      "cell_type": "code",
      "execution_count": 3,
      "metadata": {
        "colab": {
          "base_uri": "https://localhost:8080/"
        },
        "id": "E6C-1i21UCd8",
        "outputId": "a3319c34-725e-480d-c853-42125ca2c3b7"
      },
      "outputs": [
        {
          "output_type": "stream",
          "name": "stdout",
          "text": [
            "['p']\n",
            "['a', 'n']\n"
          ]
        }
      ],
      "source": [
        "#from collections import Counter\n",
        "\n",
        "def duplicated_letters(s):\n",
        "\n",
        "    #count_dict = Counter(s)\n",
        "\n",
        "    #char counting\n",
        "\n",
        "    count_dict = {}\n",
        "\n",
        "    for char in s:\n",
        "        \n",
        "        count_dict[char] = count_dict.get(char,0) + 1\n",
        "\n",
        "    dup_list = []\n",
        "\n",
        "    for key,value in count_dict.items():\n",
        "        \n",
        "        if value >= 2:\n",
        "            \n",
        "            dup_list.append(key)\n",
        "    \n",
        "    return dup_list\n",
        "\n",
        "    \n",
        "print(duplicated_letters('apple'))\n",
        "print(duplicated_letters('banana'))"
      ]
    },
    {
      "cell_type": "code",
      "source": [
        "print(duplicated_letters('jeirqjsdjqwhehfwoiuerhqwgfsiudfhasjdwqoieqwe'))"
      ],
      "metadata": {
        "colab": {
          "base_uri": "https://localhost:8080/"
        },
        "id": "Xne1S_FyVFUi",
        "outputId": "00a80b2b-97da-4542-98bb-6036cbe75b22"
      },
      "execution_count": 5,
      "outputs": [
        {
          "output_type": "stream",
          "name": "stdout",
          "text": [
            "['j', 'e', 'i', 'r', 'q', 's', 'd', 'w', 'h', 'f', 'o', 'u']\n"
          ]
        }
      ]
    },
    {
      "cell_type": "code",
      "source": [
        ""
      ],
      "metadata": {
        "id": "Yl5-1z_wVP-D"
      },
      "execution_count": null,
      "outputs": []
    },
    {
      "cell_type": "markdown",
      "source": [
        "# 6-2. 소대소대\n",
        "\n",
        "문자열을 전달 받아 해당 문자열을 소문자와 대문자가 번갈아 나타나도록 변환하여 반환하는 low_and_up 함수를 작성\n",
        "\n",
        "전달받는 문자열은 알파벳으로만 구성"
      ],
      "metadata": {
        "id": "tVs16k5AVz2y"
      }
    },
    {
      "cell_type": "code",
      "source": [
        "def low_and_up(s):\n",
        "    \n",
        "    transform_s = ''\n",
        "\n",
        "    #첫 문자가 소문자이면 소대소대소대소대\n",
        "\n",
        "    if s[0].islower():\n",
        "        \n",
        "        for ind,char in enumerate(s):\n",
        "            \n",
        "            if ind % 2 == 0:\n",
        "\n",
        "                transform_s += char.lower()\n",
        "            \n",
        "            else:\n",
        "                \n",
        "                transform_s += char.upper()\n",
        "    \n",
        "    else: #첫문자가 대문자이면 대소대소대소대소\n",
        "        \n",
        "        for ind,char in enumerate(s):\n",
        "            \n",
        "            if ind % 2 == 0:\n",
        "                \n",
        "                transform_s += char.upper()\n",
        "            \n",
        "            else:\n",
        "                \n",
        "                transform_s += char.lower()\n",
        "\n",
        "    \n",
        "    return transform_s\n",
        "\n",
        "print(low_and_up('apple'))\n",
        "print(low_and_up('banana'))"
      ],
      "metadata": {
        "colab": {
          "base_uri": "https://localhost:8080/"
        },
        "id": "BTSLDYyYV6eF",
        "outputId": "8a4c9674-6e66-4027-941f-ae3116307bd5"
      },
      "execution_count": 8,
      "outputs": [
        {
          "output_type": "stream",
          "name": "stdout",
          "text": [
            "aPpLe\n",
            "bAnAnA\n"
          ]
        }
      ]
    },
    {
      "cell_type": "code",
      "source": [
        "print(low_and_up('aigwernbopetjweqfxEJxjfwWOEKVQxeroqw')) #소대소대소대소대소대소대소대"
      ],
      "metadata": {
        "colab": {
          "base_uri": "https://localhost:8080/"
        },
        "id": "j1e_B4_TWBwq",
        "outputId": "cfddd87e-3c8a-4bc3-84d7-abd2055d1ed6"
      },
      "execution_count": 10,
      "outputs": [
        {
          "output_type": "stream",
          "name": "stdout",
          "text": [
            "aIgWeRnBoPeTjWeQfXeJxJfWwOeKvQxErOqW\n"
          ]
        }
      ]
    },
    {
      "cell_type": "code",
      "source": [
        "print(low_and_up('AfijerjfivqweAKSDJERIJQWsjAIJEWPOIEksdqw')) #대소대소대소대소대소대소대소"
      ],
      "metadata": {
        "colab": {
          "base_uri": "https://localhost:8080/"
        },
        "id": "jBsJeqU2WDeG",
        "outputId": "dada0007-eb16-445a-ec2a-1dc39de139bd"
      },
      "execution_count": 11,
      "outputs": [
        {
          "output_type": "stream",
          "name": "stdout",
          "text": [
            "AfIjErJfIvQwEaKsDjErIjQwSjAiJeWpOiEkSdQw\n"
          ]
        }
      ]
    },
    {
      "cell_type": "code",
      "source": [
        ""
      ],
      "metadata": {
        "id": "nJlLaqRjYcLH"
      },
      "execution_count": null,
      "outputs": []
    },
    {
      "cell_type": "markdown",
      "source": [
        "# 6-3. 솔로 천국 만들기\n",
        "\n",
        "정수 0부터 9까지로 이루어진 리스트를 전달 받아 연속적으로 나타나는 숫자는 하나만 남기고 제거한 리스트를 반환하는 lonely함수를 작성\n",
        "\n",
        "제거하고 나서 남은 수들이 담긴 리스트의 요소들은 기존의 순서를 유지"
      ],
      "metadata": {
        "id": "V1w6vnP9YmYe"
      }
    },
    {
      "cell_type": "code",
      "source": [
        "def lonely(num_list):\n",
        "    \n",
        "    lone_stack = []\n",
        "\n",
        "    for num in num_list:\n",
        "        \n",
        "        \"\"\"try:\n",
        "            \n",
        "            if lone_stack[-1] == num:\n",
        "                \n",
        "                pass\n",
        "            \n",
        "            else:\n",
        "                \n",
        "                lone_stack.append(num)\n",
        "        \n",
        "        except:\n",
        "            \n",
        "            lone_stack.append(num)\"\"\"\n",
        "        \n",
        "        if lone_stack == []:\n",
        "            \n",
        "            lone_stack.append(num)\n",
        "        \n",
        "        else:\n",
        "            \n",
        "            if lone_stack[-1] == num:\n",
        "                \n",
        "                pass\n",
        "            \n",
        "            else:\n",
        "                \n",
        "                lone_stack.append(num)\n",
        "    \n",
        "    return lone_stack\n",
        "\n",
        "\n",
        "print(lonely([1,1,3,3,0,1,1]))\n",
        "print(lonely([4,4,4,3,3]))"
      ],
      "metadata": {
        "colab": {
          "base_uri": "https://localhost:8080/"
        },
        "id": "p0_XWUFlYxLd",
        "outputId": "68a1dc29-f246-4f29-8f42-15661a5556fd"
      },
      "execution_count": 14,
      "outputs": [
        {
          "output_type": "stream",
          "name": "stdout",
          "text": [
            "[1, 3, 0, 1]\n",
            "[4, 3]\n"
          ]
        }
      ]
    },
    {
      "cell_type": "code",
      "source": [
        "print(lonely([2,2,2,2,2,2,3,3,3,1,1,1,2,4,2,1,1,3,3,2,0,4,3,3,4,0,0,2,1]))"
      ],
      "metadata": {
        "colab": {
          "base_uri": "https://localhost:8080/"
        },
        "id": "Mzy2zhn2ZIku",
        "outputId": "caf0b650-5d85-44aa-9954-202c7c88c65e"
      },
      "execution_count": 15,
      "outputs": [
        {
          "output_type": "stream",
          "name": "stdout",
          "text": [
            "[2, 3, 1, 2, 4, 2, 1, 3, 2, 0, 4, 3, 4, 0, 2, 1]\n"
          ]
        }
      ]
    },
    {
      "cell_type": "code",
      "source": [
        ""
      ],
      "metadata": {
        "id": "QsfwI6DUZQqP"
      },
      "execution_count": null,
      "outputs": []
    }
  ]
}