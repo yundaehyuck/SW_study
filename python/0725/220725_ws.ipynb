{
  "nbformat": 4,
  "nbformat_minor": 0,
  "metadata": {
    "colab": {
      "name": "220725_ws.ipynb",
      "provenance": [],
      "collapsed_sections": []
    },
    "kernelspec": {
      "name": "python3",
      "display_name": "Python 3"
    },
    "language_info": {
      "name": "python"
    }
  },
  "cells": [
    {
      "cell_type": "markdown",
      "source": [
        "# 6-1. 평균 점수 구하기\n",
        "\n",
        "key 값으로 과목명, value 값으로 점수를 가지는 dictionary를 전달 받아, 전체 과목의 평균 점수를 반환하는 get_dict_avg() 함수를 작성"
      ],
      "metadata": {
        "id": "4q9ipaZzvOku"
      }
    },
    {
      "cell_type": "code",
      "execution_count": null,
      "metadata": {
        "colab": {
          "base_uri": "https://localhost:8080/"
        },
        "id": "4fU2l9LIvLeF",
        "outputId": "34e7b963-e71d-40e7-ef79-94900b6f0127"
      },
      "outputs": [
        {
          "output_type": "stream",
          "name": "stdout",
          "text": [
            "85.5\n"
          ]
        }
      ],
      "source": [
        "def get_dict_avg(d):\n",
        "    \n",
        "    return sum(d.values())/len(d.values())\n",
        "\n",
        "print(get_dict_avg({'python':80, 'web':83, 'algorithm':90, 'django':89}))"
      ]
    },
    {
      "cell_type": "code",
      "source": [
        "print(get_dict_avg({'a':72, 'b':73, 'c':85,'d':96,'e':54,'f':45,'g':55,'h':64}))"
      ],
      "metadata": {
        "colab": {
          "base_uri": "https://localhost:8080/"
        },
        "id": "wXwBtSa9v3mO",
        "outputId": "39b85029-865c-4d98-d765-3a3828ccae21"
      },
      "execution_count": null,
      "outputs": [
        {
          "output_type": "stream",
          "name": "stdout",
          "text": [
            "68.0\n"
          ]
        }
      ]
    },
    {
      "cell_type": "code",
      "source": [
        "\"\"\"def get_dict_avg(student):\n",
        "    \n",
        "    scores = []\n",
        "\n",
        "    for score in student.values():\n",
        "        \n",
        "        scores.append(score)\n",
        "    \n",
        "    result = sum(scores)/len(student)\n",
        "\n",
        "    return result\n",
        "\n",
        "student = {'python':80,'web':83,'algorithm':90,'django':89}\n",
        "\n",
        "print(get_dict_avg(student))\"\"\""
      ],
      "metadata": {
        "id": "unDZ7SyUwDmb",
        "colab": {
          "base_uri": "https://localhost:8080/"
        },
        "outputId": "8a96de61-3e99-4699-b464-76ebaf18f6cc"
      },
      "execution_count": 1,
      "outputs": [
        {
          "output_type": "stream",
          "name": "stdout",
          "text": [
            "85.5\n"
          ]
        }
      ]
    },
    {
      "cell_type": "markdown",
      "source": [
        "# 6-2. 혈액형 분류하기\n",
        "\n",
        "여러 사람의 혈액형에 대한 정보가 담긴 list를 전달 받아 key는 혈액형의 종류, value는 사람 수인 dictionary를 반환하는 count_blood 함수를 작성"
      ],
      "metadata": {
        "id": "bUo-HPcKwJFl"
      }
    },
    {
      "cell_type": "code",
      "source": [
        "def count_blood(blood_list):\n",
        "    \n",
        "    blood_dict = {}\n",
        "\n",
        "    for blood in blood_list:\n",
        "        \n",
        "        blood_dict[blood] = blood_dict.get(blood,0) + 1\n",
        "    \n",
        "    return blood_dict\n",
        "\n",
        "\n",
        "print(count_blood(['A','B','A','O','AB','AB','O','A','B','O','B','AB']))"
      ],
      "metadata": {
        "colab": {
          "base_uri": "https://localhost:8080/"
        },
        "id": "WpBZfAxFwSGU",
        "outputId": "162f6066-e946-4ae4-a6a4-4a96a03db870"
      },
      "execution_count": null,
      "outputs": [
        {
          "output_type": "stream",
          "name": "stdout",
          "text": [
            "{'A': 3, 'B': 3, 'O': 3, 'AB': 3}\n"
          ]
        }
      ]
    },
    {
      "cell_type": "code",
      "source": [
        "print(count_blood(['A','B','B','O','O','AB','AB','AB','A','A','O']))"
      ],
      "metadata": {
        "colab": {
          "base_uri": "https://localhost:8080/"
        },
        "id": "mb7cnLQLwidF",
        "outputId": "f71bb313-1862-44d9-e1b6-a6e884e92bd8"
      },
      "execution_count": null,
      "outputs": [
        {
          "output_type": "stream",
          "name": "stdout",
          "text": [
            "{'A': 3, 'B': 2, 'O': 3, 'AB': 3}\n"
          ]
        }
      ]
    },
    {
      "cell_type": "code",
      "source": [
        "\"\"\"def count_blood(blood_types):\n",
        "    \n",
        "    blood_dict = {}\n",
        "\n",
        "    for blood in blood_types:\n",
        "        \n",
        "        if blood_dict.get(blood):\n",
        "            \n",
        "            blood_dict[blood] += 1\n",
        "        \n",
        "        else:\n",
        "            blood_dict[blood] = 1\n",
        "    \n",
        "    return blood_dict\n",
        "\n",
        "print(count_blood(['A','B','A','O','AB','AB','O','A','B','O','B','AB']))\"\"\""
      ],
      "metadata": {
        "id": "D9shKqdUwy7m",
        "colab": {
          "base_uri": "https://localhost:8080/"
        },
        "outputId": "754b59d3-e43d-4491-e8e2-b51452ee8c97"
      },
      "execution_count": 3,
      "outputs": [
        {
          "output_type": "stream",
          "name": "stdout",
          "text": [
            "{'A': 3, 'B': 3, 'O': 3, 'AB': 3}\n"
          ]
        }
      ]
    },
    {
      "cell_type": "code",
      "source": [
        ""
      ],
      "metadata": {
        "id": "WSIcTWDb5SbZ"
      },
      "execution_count": null,
      "outputs": []
    }
  ]
}