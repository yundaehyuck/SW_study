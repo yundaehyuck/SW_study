{
  "nbformat": 4,
  "nbformat_minor": 0,
  "metadata": {
    "colab": {
      "name": "220725_hw.ipynb",
      "provenance": [],
      "collapsed_sections": []
    },
    "kernelspec": {
      "name": "python3",
      "display_name": "Python 3"
    },
    "language_info": {
      "name": "python"
    }
  },
  "cells": [
    {
      "cell_type": "markdown",
      "source": [
        "# 1. 모음은 몇 개나 있을까?\n",
        "\n",
        "문자열을 전달 받아 해당 문자열의 모음 개수를 반환하는 count_vowels 함수를 작성"
      ],
      "metadata": {
        "id": "GAozoZPYqtIP"
      }
    },
    {
      "cell_type": "code",
      "execution_count": null,
      "metadata": {
        "id": "KOx4_eIpqcy0"
      },
      "outputs": [],
      "source": [
        "def count_vowels(s):\n",
        "    \n",
        "    vowel_list = ['a','e','i','o','u']\n",
        "\n",
        "    #vowels = 'aeiou'\n",
        "\n",
        "    cnt = 0\n",
        "\n",
        "    for vowel in vowel_list: #for vowel in vowels:\n",
        "        \n",
        "        cnt += s.count(vowel)\n",
        "    \n",
        "\n",
        "    return cnt\n",
        "        \n"
      ]
    },
    {
      "cell_type": "code",
      "source": [
        "print(count_vowels('apple'))\n",
        "print(count_vowels('banana'))"
      ],
      "metadata": {
        "colab": {
          "base_uri": "https://localhost:8080/"
        },
        "id": "V8ZdgprzrLQI",
        "outputId": "d6f533b5-bfb6-4ed3-f227-e6290c7c621a"
      },
      "execution_count": null,
      "outputs": [
        {
          "output_type": "stream",
          "name": "stdout",
          "text": [
            "2\n",
            "3\n"
          ]
        }
      ]
    },
    {
      "cell_type": "code",
      "source": [
        "print(count_vowels('wiureasbgpeorsadcgwpoqpadmnr'))"
      ],
      "metadata": {
        "colab": {
          "base_uri": "https://localhost:8080/"
        },
        "id": "M5UYqzyrrO40",
        "outputId": "a41c7433-4af6-41df-913f-f8071a4ba551"
      },
      "execution_count": null,
      "outputs": [
        {
          "output_type": "stream",
          "name": "stdout",
          "text": [
            "9\n"
          ]
        }
      ]
    },
    {
      "cell_type": "code",
      "source": [
        ""
      ],
      "metadata": {
        "id": "oYh9otVyrSvp"
      },
      "execution_count": null,
      "outputs": []
    },
    {
      "cell_type": "markdown",
      "source": [
        "# 2. 문자열 조작\n",
        "\n",
        "다음 중 문자열(string)을 조작하는 방법으로 옳지 않은 것?\n",
        "\n",
        "**답): (4) 특정 문자를 지정하지 않으면 양쪽의 공백을 제거함**\n",
        "\n",
        "\n",
        "(1) .find(x)는 x의 첫 번째 위치를 반환하고 없으면 -1을 반환\n",
        "\n",
        "(2) .split([chars])은 특정 문자를 지정하면 문자열을 특정 문자를 기준으로 나누어 list로 반환. 특정 문자를 지정하지 않으면 공백을 기준으로 나눔  \n",
        "\n",
        "(3) .replace(old,new[,count])는 바꿀 대상 문자를 새로운 문자로 바꿔서 반환  \n",
        "\n",
        "- count=은 몇번이나 new로 대체할지 정함\n",
        "\n",
        "(4) .strip([chars])은 특정 문자를 지정하면, 양쪽에서 해당 문자를 찾아 제거한다. 특정 문자를 지정하지 않으면 ~~오류가 발생?~~ > **양쪽 공백을 제거함**"
      ],
      "metadata": {
        "id": "prN9h50arcgz"
      }
    },
    {
      "cell_type": "code",
      "source": [
        "print('abc'.find('a'))\n",
        "print('abc'.find('d'))"
      ],
      "metadata": {
        "colab": {
          "base_uri": "https://localhost:8080/"
        },
        "id": "uWLQnjuMrkT2",
        "outputId": "be91e08f-aef4-4b70-8a55-f28f6f1bee0c"
      },
      "execution_count": null,
      "outputs": [
        {
          "output_type": "stream",
          "name": "stdout",
          "text": [
            "0\n",
            "-1\n"
          ]
        }
      ]
    },
    {
      "cell_type": "code",
      "source": [
        "print('a/b/c'.split('/'))\n",
        "print('a b c'.split(' '))"
      ],
      "metadata": {
        "colab": {
          "base_uri": "https://localhost:8080/"
        },
        "id": "zcxDXLW8rpA9",
        "outputId": "fe3e2792-34f0-4493-e9ec-6b4dd182c9dc"
      },
      "execution_count": null,
      "outputs": [
        {
          "output_type": "stream",
          "name": "stdout",
          "text": [
            "['a', 'b', 'c']\n",
            "['a', 'b', 'c']\n"
          ]
        }
      ]
    },
    {
      "cell_type": "code",
      "source": [
        "print('abcdaa'.replace('a','x'))"
      ],
      "metadata": {
        "colab": {
          "base_uri": "https://localhost:8080/"
        },
        "id": "yOCUlnXLr4wP",
        "outputId": "9e4a4e38-f3f7-40e9-8caf-e85c1fc7e8e7"
      },
      "execution_count": null,
      "outputs": [
        {
          "output_type": "stream",
          "name": "stdout",
          "text": [
            "xbcdxx\n"
          ]
        }
      ]
    },
    {
      "cell_type": "code",
      "source": [
        "print('jurassic'.replace('s','k')) #s가 전부 k로\n",
        "print('jurassic'.replace('s','k',1)) #s 1개만 k로"
      ],
      "metadata": {
        "colab": {
          "base_uri": "https://localhost:8080/"
        },
        "id": "wpYLh55k8KZU",
        "outputId": "f99cdb77-4af3-4616-8305-fc1348caf0f2"
      },
      "execution_count": null,
      "outputs": [
        {
          "output_type": "stream",
          "name": "stdout",
          "text": [
            "jurakkic\n",
            "juraksic\n"
          ]
        }
      ]
    },
    {
      "cell_type": "code",
      "source": [
        "print('#abc#'.strip('#'))\n",
        "print('#abc'.strip('#'))\n",
        "\n",
        "print('#abc'.strip()) #에러를 발생하지 않고 공백을 제거함\n",
        "print(' abc '.strip()) #공백이 없는\n",
        "print(' abc ')#공백이 있는"
      ],
      "metadata": {
        "colab": {
          "base_uri": "https://localhost:8080/"
        },
        "id": "Fy1R0JiAsO9E",
        "outputId": "9bea169a-93e3-4454-93a2-94fd206422d3"
      },
      "execution_count": null,
      "outputs": [
        {
          "output_type": "stream",
          "name": "stdout",
          "text": [
            "abc\n",
            "abc\n",
            "#abc\n",
            "abc\n",
            " abc \n"
          ]
        }
      ]
    },
    {
      "cell_type": "code",
      "source": [
        ""
      ],
      "metadata": {
        "id": "M7ihKjQzsXvs"
      },
      "execution_count": null,
      "outputs": []
    },
    {
      "cell_type": "markdown",
      "source": [
        "# 3. 정사각형만 만들기\n",
        "\n",
        "각각 너비와 높이의 값으로 이루어진 2개의 list를 전달 받아, 각각의 값들을 조합하여 만들 수 있는 정사각형만의 넓이를 담은 list를 반환하는 only_square_area 함수를 작성"
      ],
      "metadata": {
        "id": "dVuQZQCGsxor"
      }
    },
    {
      "cell_type": "code",
      "source": [
        "def only_square_area(list1,list2):\n",
        "    \n",
        "    area_list = []\n",
        "\n",
        "    if len(list1) >= len(list2):\n",
        "        \n",
        "        for e in list2:\n",
        "            \n",
        "            if e in list1:\n",
        "                \n",
        "                area_list.append(e**2)\n",
        "\n",
        "    \n",
        "    else:\n",
        "        \n",
        "        for e in list1:\n",
        "            \n",
        "            if e in list2:\n",
        "                \n",
        "                area_list.append(e**2)\n",
        "    \n",
        "    return area_list\n",
        "                \n",
        "                "
      ],
      "metadata": {
        "id": "bNXaGHZhs7cW"
      },
      "execution_count": null,
      "outputs": []
    },
    {
      "cell_type": "code",
      "source": [
        "print(only_square_area([32,55,63],[13,32,40,55]))"
      ],
      "metadata": {
        "colab": {
          "base_uri": "https://localhost:8080/"
        },
        "id": "6k71Wt_xtjrf",
        "outputId": "38cc63ad-f2d9-4b42-e5ff-ca78b1058647"
      },
      "execution_count": null,
      "outputs": [
        {
          "output_type": "stream",
          "name": "stdout",
          "text": [
            "[1024, 3025]\n"
          ]
        }
      ]
    },
    {
      "cell_type": "code",
      "source": [
        "print(only_square_area([23,12,53,22,43],[12,43,33,11]))"
      ],
      "metadata": {
        "colab": {
          "base_uri": "https://localhost:8080/"
        },
        "id": "qEZ26iJ3uwBV",
        "outputId": "588b7179-ca06-4d72-aca8-034e04ba8029"
      },
      "execution_count": null,
      "outputs": [
        {
          "output_type": "stream",
          "name": "stdout",
          "text": [
            "[144, 1849]\n"
          ]
        }
      ]
    },
    {
      "cell_type": "code",
      "source": [
        "#길이를 비교할 필요가 없나?? 생각해보니 필요없는것 같기도 하고\n",
        "def only_square_area(widths,heights):\n",
        "    \n",
        "    square_list = []\n",
        "\n",
        "    for width in widths:\n",
        "        \n",
        "        for height in heights:\n",
        "            \n",
        "            if width == height:\n",
        "                \n",
        "                square_list.append(width*height)\n",
        "    \n",
        "    return square_list"
      ],
      "metadata": {
        "id": "TPVGSmXFu68K"
      },
      "execution_count": null,
      "outputs": []
    }
  ]
}