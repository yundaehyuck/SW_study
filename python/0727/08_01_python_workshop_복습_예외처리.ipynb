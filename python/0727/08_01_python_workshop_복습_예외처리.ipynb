{
  "cells": [
    {
      "cell_type": "markdown",
      "metadata": {
        "id": "Y3BaQ6bIz95H"
      },
      "source": [
        "<p style=\"font-size: 33px; font-weight: 700; margin-bottom: 3rem\">에러 & 예외 처리</p>\n",
        "\n",
        "- 에러(Error)\n",
        "- 예외 처리(Exception Handling)\n",
        "\n",
        "[파이썬 문서](https://docs.python.org/ko/3/library/exceptions.html#exception-hierarchy)\n"
      ]
    },
    {
      "cell_type": "markdown",
      "metadata": {
        "id": "KWv79gC9z95J"
      },
      "source": [
        "# 에러(Error)\n",
        "발생할 수 있는 에러의 종류를 확인해봅시다."
      ]
    },
    {
      "cell_type": "markdown",
      "metadata": {
        "id": "s17XmqEvz95K"
      },
      "source": [
        "## 문법 에러(Syntax Error)\n",
        "\n",
        "> 문법 에러가 있는 프로그램은 실행되지 않습니다.\n",
        "\n",
        "* 에러 발생 시 `SyntaxError`라는 키워드와 함께, 에러의 상세 내용을 보여줍니다.\n",
        "\n",
        "\n",
        "* `파일이름`과 `줄번호`, `^` 문자를 통해 파이썬이 코드를 읽어 들일 때(`parser`) 문제가 발생한 위치를 표현합니다.\n",
        "\n",
        "\n",
        "* `parser` 는 줄에서 에러가 감지된 가장 앞의 위치를 가리키는 캐럿(caret)기호(`^`)를 표시합니다."
      ]
    },
    {
      "cell_type": "code",
      "execution_count": 1,
      "metadata": {
        "colab": {
          "base_uri": "https://localhost:8080/",
          "height": 137
        },
        "id": "h3uLD79Mz95K",
        "outputId": "e08c310e-5e19-4073-a51c-1d0af6a849d8"
      },
      "outputs": [
        {
          "output_type": "error",
          "ename": "SyntaxError",
          "evalue": "ignored",
          "traceback": [
            "\u001b[0;36m  File \u001b[0;32m\"<ipython-input-1-84948c9a474c>\"\u001b[0;36m, line \u001b[0;32m8\u001b[0m\n\u001b[0;31m    else\u001b[0m\n\u001b[0m        ^\u001b[0m\n\u001b[0;31mSyntaxError\u001b[0m\u001b[0;31m:\u001b[0m invalid syntax\n"
          ]
        }
      ],
      "source": [
        "# 조건문을 통해 문법 에러를 발생시켜봅시다.\n",
        "\n",
        "# 다음 코드는 else 문 뒤에 콜론이 누락되어 있습니다.\n",
        "# 코드를 실행시켜보고 invalid syntax 오류를 확인해 봅시다.\n",
        "\n",
        "if True:\n",
        "    print('참')\n",
        "else\n",
        "    print('거짓')"
      ]
    },
    {
      "cell_type": "code",
      "execution_count": 2,
      "metadata": {
        "colab": {
          "base_uri": "https://localhost:8080/",
          "height": 137
        },
        "id": "9fgug2ozz95L",
        "outputId": "7640cce5-6fcd-4966-b8bf-fe75d56425d0"
      },
      "outputs": [
        {
          "output_type": "error",
          "ename": "SyntaxError",
          "evalue": "ignored",
          "traceback": [
            "\u001b[0;36m  File \u001b[0;32m\"<ipython-input-2-614ff43666f9>\"\u001b[0;36m, line \u001b[0;32m6\u001b[0m\n\u001b[0;31m    print('hi)\u001b[0m\n\u001b[0m              ^\u001b[0m\n\u001b[0;31mSyntaxError\u001b[0m\u001b[0;31m:\u001b[0m EOL while scanning string literal\n"
          ]
        }
      ],
      "source": [
        "# print 문을 통해 다른 오류를 발생시켜봅시다.\n",
        "\n",
        "# 다음 코드는 닫는 따옴표가 누락되어 있습니다.\n",
        "# 코드를 실행시켜보고 EOL 오류(따옴표 오류)를 확인해 봅시다.\n",
        "\n",
        "print('hi)"
      ]
    },
    {
      "cell_type": "code",
      "execution_count": 3,
      "metadata": {
        "colab": {
          "base_uri": "https://localhost:8080/",
          "height": 137
        },
        "id": "PEjk_MD5z95L",
        "outputId": "a120fafb-aed6-4647-b211-e449e1206ce1"
      },
      "outputs": [
        {
          "output_type": "error",
          "ename": "SyntaxError",
          "evalue": "ignored",
          "traceback": [
            "\u001b[0;36m  File \u001b[0;32m\"<ipython-input-3-ef1ece88cd87>\"\u001b[0;36m, line \u001b[0;32m3\u001b[0m\n\u001b[0;31m    print('hi'\u001b[0m\n\u001b[0m              ^\u001b[0m\n\u001b[0;31mSyntaxError\u001b[0m\u001b[0;31m:\u001b[0m unexpected EOF while parsing\n"
          ]
        }
      ],
      "source": [
        "# 코드를 실행시켜보고 EOF 에러(괄호 닫기 오류)를 확인해 봅시다.\n",
        "\n",
        "print('hi'"
      ]
    },
    {
      "cell_type": "code",
      "execution_count": 4,
      "metadata": {
        "colab": {
          "base_uri": "https://localhost:8080/",
          "height": 137
        },
        "id": "heRw7zZsz95M",
        "outputId": "1a428e55-013b-4f20-e347-e76a1197338b"
      },
      "outputs": [
        {
          "output_type": "error",
          "ename": "SyntaxError",
          "evalue": "ignored",
          "traceback": [
            "\u001b[0;36m  File \u001b[0;32m\"<ipython-input-4-9f47f19d2572>\"\u001b[0;36m, line \u001b[0;32m6\u001b[0m\n\u001b[0;31m    if True print('참')\u001b[0m\n\u001b[0m                ^\u001b[0m\n\u001b[0;31mSyntaxError\u001b[0m\u001b[0;31m:\u001b[0m invalid syntax\n"
          ]
        }
      ],
      "source": [
        "# 정확한 에러 위치를 지정하지 않을 수도 있습니다.\n",
        "\n",
        "# 다음 코드의 조건문에는 콜론이 누락되어 있습니다.\n",
        "# 코드를 실행시켜보고 문법 오류를 확인해 봅시다.\n",
        "\n",
        "if True print('참')"
      ]
    },
    {
      "cell_type": "markdown",
      "metadata": {
        "id": "6cNw8VW1z95M"
      },
      "source": [
        "## 예외(Exception)\n",
        "\n",
        "> 실행 도중 예상하지 못한 상황(exception)을 맞이하면, 프로그램 실행을 멈춥니다.\n",
        "\n",
        "* 문법적으로는 옳지만, 실행 시 발생하는 에러입니다.\n",
        "\n",
        "\n",
        "* *아래 제시된 모든 에러는 `Exception`을 상속받아 이뤄집니다.*"
      ]
    },
    {
      "cell_type": "markdown",
      "metadata": {
        "id": "XD7O_rn8z95N"
      },
      "source": [
        "`ZeroDivisionError`\n",
        "- 파이썬에서는 어떤 수를 0으로 나누게 되면 에러가 발생합니다."
      ]
    },
    {
      "cell_type": "code",
      "execution_count": 5,
      "metadata": {
        "colab": {
          "base_uri": "https://localhost:8080/",
          "height": 211
        },
        "id": "UDffIHKrz95N",
        "outputId": "6b17c83b-3446-4d96-c976-f651e7edf146"
      },
      "outputs": [
        {
          "output_type": "error",
          "ename": "ZeroDivisionError",
          "evalue": "ignored",
          "traceback": [
            "\u001b[0;31m---------------------------------------------------------------------------\u001b[0m",
            "\u001b[0;31mZeroDivisionError\u001b[0m                         Traceback (most recent call last)",
            "\u001b[0;32m<ipython-input-5-7aa069f65c18>\u001b[0m in \u001b[0;36m<module>\u001b[0;34m()\u001b[0m\n\u001b[1;32m      1\u001b[0m \u001b[0;31m# 어떤 수를 0으로 나누는 코드를 작성해 보고 오류를 확인해 봅시다.\u001b[0m\u001b[0;34m\u001b[0m\u001b[0;34m\u001b[0m\u001b[0;34m\u001b[0m\u001b[0m\n\u001b[1;32m      2\u001b[0m \u001b[0;34m\u001b[0m\u001b[0m\n\u001b[0;32m----> 3\u001b[0;31m \u001b[0mprint\u001b[0m\u001b[0;34m(\u001b[0m\u001b[0;36m10\u001b[0m\u001b[0;34m/\u001b[0m\u001b[0;36m0\u001b[0m\u001b[0;34m)\u001b[0m\u001b[0;34m\u001b[0m\u001b[0;34m\u001b[0m\u001b[0m\n\u001b[0m",
            "\u001b[0;31mZeroDivisionError\u001b[0m: division by zero"
          ]
        }
      ],
      "source": [
        "# 어떤 수를 0으로 나누는 코드를 작성해 보고 오류를 확인해 봅시다.\n",
        "\n",
        "print(10/0)"
      ]
    },
    {
      "cell_type": "markdown",
      "metadata": {
        "id": "LhZuQynJz95O"
      },
      "source": [
        "`NameError`\n",
        "- 지역 혹은 전역 이름 공간 내에서 유효하지 않는 이름은 사용할 수 없습니다. <br>즉, 어느 곳에서도 정의되지 않은 변수를 호출하였을 경우 에러가 발생합니다."
      ]
    },
    {
      "cell_type": "code",
      "execution_count": 6,
      "metadata": {
        "colab": {
          "base_uri": "https://localhost:8080/",
          "height": 211
        },
        "id": "wrjDC53Nz95O",
        "outputId": "cc0ee2d6-ba18-4bf7-f69c-7376eb2eb32c"
      },
      "outputs": [
        {
          "output_type": "error",
          "ename": "NameError",
          "evalue": "ignored",
          "traceback": [
            "\u001b[0;31m---------------------------------------------------------------------------\u001b[0m",
            "\u001b[0;31mNameError\u001b[0m                                 Traceback (most recent call last)",
            "\u001b[0;32m<ipython-input-6-da67a78e5aa5>\u001b[0m in \u001b[0;36m<module>\u001b[0;34m()\u001b[0m\n\u001b[1;32m      1\u001b[0m \u001b[0;31m# abc라는 변수를 print로 출력해 보고 오류를 확인해 봅시다.\u001b[0m\u001b[0;34m\u001b[0m\u001b[0;34m\u001b[0m\u001b[0;34m\u001b[0m\u001b[0m\n\u001b[1;32m      2\u001b[0m \u001b[0;34m\u001b[0m\u001b[0m\n\u001b[0;32m----> 3\u001b[0;31m \u001b[0mprint\u001b[0m\u001b[0;34m(\u001b[0m\u001b[0mabc\u001b[0m\u001b[0;34m)\u001b[0m\u001b[0;34m\u001b[0m\u001b[0;34m\u001b[0m\u001b[0m\n\u001b[0m",
            "\u001b[0;31mNameError\u001b[0m: name 'abc' is not defined"
          ]
        }
      ],
      "source": [
        "# abc라는 변수를 print로 출력해 보고 오류를 확인해 봅시다.\n",
        "\n",
        "print(abc)"
      ]
    },
    {
      "cell_type": "markdown",
      "metadata": {
        "id": "CG0aXcTbz95O"
      },
      "source": [
        "`TypeError`\n",
        "- 자료형이 올바르지 못한 경우"
      ]
    },
    {
      "cell_type": "code",
      "execution_count": 7,
      "metadata": {
        "colab": {
          "base_uri": "https://localhost:8080/",
          "height": 211
        },
        "id": "XrC2qoBTz95P",
        "outputId": "c9e1a303-cf42-4fed-abba-1a762a7cde70"
      },
      "outputs": [
        {
          "output_type": "error",
          "ename": "TypeError",
          "evalue": "ignored",
          "traceback": [
            "\u001b[0;31m---------------------------------------------------------------------------\u001b[0m",
            "\u001b[0;31mTypeError\u001b[0m                                 Traceback (most recent call last)",
            "\u001b[0;32m<ipython-input-7-fd5b40938ab8>\u001b[0m in \u001b[0;36m<module>\u001b[0;34m()\u001b[0m\n\u001b[1;32m      1\u001b[0m \u001b[0;31m# 숫자 1과 문자 1을 더하는 코드를 작성해 보고 오류를 확인해 봅시다.\u001b[0m\u001b[0;34m\u001b[0m\u001b[0;34m\u001b[0m\u001b[0;34m\u001b[0m\u001b[0m\n\u001b[1;32m      2\u001b[0m \u001b[0;34m\u001b[0m\u001b[0m\n\u001b[0;32m----> 3\u001b[0;31m \u001b[0mprint\u001b[0m\u001b[0;34m(\u001b[0m\u001b[0;36m1\u001b[0m\u001b[0;34m+\u001b[0m\u001b[0;34m'1'\u001b[0m\u001b[0;34m)\u001b[0m\u001b[0;34m\u001b[0m\u001b[0;34m\u001b[0m\u001b[0m\n\u001b[0m",
            "\u001b[0;31mTypeError\u001b[0m: unsupported operand type(s) for +: 'int' and 'str'"
          ]
        }
      ],
      "source": [
        "# 숫자 1과 문자 1을 더하는 코드를 작성해 보고 오류를 확인해 봅시다.\n",
        "\n",
        "print(1+'1')"
      ]
    },
    {
      "cell_type": "code",
      "execution_count": 8,
      "metadata": {
        "colab": {
          "base_uri": "https://localhost:8080/",
          "height": 211
        },
        "id": "nEZxvMHTz95P",
        "outputId": "ae1e5d83-77ad-488a-b51a-f30c68a49089"
      },
      "outputs": [
        {
          "output_type": "error",
          "ename": "TypeError",
          "evalue": "ignored",
          "traceback": [
            "\u001b[0;31m---------------------------------------------------------------------------\u001b[0m",
            "\u001b[0;31mTypeError\u001b[0m                                 Traceback (most recent call last)",
            "\u001b[0;32m<ipython-input-8-cf472c1ec492>\u001b[0m in \u001b[0;36m<module>\u001b[0;34m()\u001b[0m\n\u001b[1;32m      2\u001b[0m \u001b[0;31m# round 함수에 숫자가 아닌 문자를 넣어보고 발생하는 오류를 확인해 봅시다.\u001b[0m\u001b[0;34m\u001b[0m\u001b[0;34m\u001b[0m\u001b[0;34m\u001b[0m\u001b[0m\n\u001b[1;32m      3\u001b[0m \u001b[0;34m\u001b[0m\u001b[0m\n\u001b[0;32m----> 4\u001b[0;31m \u001b[0mround\u001b[0m\u001b[0;34m(\u001b[0m\u001b[0;34m'23.454'\u001b[0m\u001b[0;34m,\u001b[0m\u001b[0;36m2\u001b[0m\u001b[0;34m)\u001b[0m\u001b[0;34m\u001b[0m\u001b[0;34m\u001b[0m\u001b[0m\n\u001b[0m",
            "\u001b[0;31mTypeError\u001b[0m: type str doesn't define __round__ method"
          ]
        }
      ],
      "source": [
        "# round 함수는 어떤 수를 반올림해 주는 내장 함수입니다.\n",
        "# round 함수에 숫자가 아닌 문자를 넣어보고 발생하는 오류를 확인해 봅시다.\n",
        "\n",
        "round('23.454',2)"
      ]
    },
    {
      "cell_type": "markdown",
      "metadata": {
        "id": "y5Vt0llvz95P"
      },
      "source": [
        "- 함수 호출 과정에서 필수 매개변수가 누락된 경우"
      ]
    },
    {
      "cell_type": "code",
      "execution_count": 9,
      "metadata": {
        "colab": {
          "base_uri": "https://localhost:8080/",
          "height": 211
        },
        "id": "0BROwZX3z95P",
        "outputId": "a2ac36f2-2fdc-4836-f0f4-6bd36cf10005"
      },
      "outputs": [
        {
          "output_type": "error",
          "ename": "TypeError",
          "evalue": "ignored",
          "traceback": [
            "\u001b[0;31m---------------------------------------------------------------------------\u001b[0m",
            "\u001b[0;31mTypeError\u001b[0m                                 Traceback (most recent call last)",
            "\u001b[0;32m<ipython-input-9-f44cb060871a>\u001b[0m in \u001b[0;36m<module>\u001b[0;34m()\u001b[0m\n\u001b[1;32m      6\u001b[0m \u001b[0;32mimport\u001b[0m \u001b[0mrandom\u001b[0m\u001b[0;34m\u001b[0m\u001b[0;34m\u001b[0m\u001b[0m\n\u001b[1;32m      7\u001b[0m \u001b[0;34m\u001b[0m\u001b[0m\n\u001b[0;32m----> 8\u001b[0;31m \u001b[0mprint\u001b[0m\u001b[0;34m(\u001b[0m\u001b[0mrandom\u001b[0m\u001b[0;34m.\u001b[0m\u001b[0msample\u001b[0m\u001b[0;34m(\u001b[0m\u001b[0;34m[\u001b[0m\u001b[0;36m3\u001b[0m\u001b[0;34m,\u001b[0m\u001b[0;36m2\u001b[0m\u001b[0;34m,\u001b[0m\u001b[0;36m4\u001b[0m\u001b[0;34m]\u001b[0m\u001b[0;34m)\u001b[0m\u001b[0;34m)\u001b[0m\u001b[0;34m\u001b[0m\u001b[0;34m\u001b[0m\u001b[0m\n\u001b[0m",
            "\u001b[0;31mTypeError\u001b[0m: sample() missing 1 required positional argument: 'k'"
          ]
        }
      ],
      "source": [
        "# 내장 random 모듈을 불러오세요.\n",
        "# random.sample() 함수는 2개의 매개변수를 받도록 정의되어 있습니다.\n",
        "# random.sample() 함수에 숫자 3개가 담긴 리스트만 넣고 호출해 보세요.\n",
        "# 그리고 매개변수가 누락되어 발생하는 오류를 확인해 봅시다.\n",
        "\n",
        "import random\n",
        "\n",
        "print(random.sample([3,2,4]))"
      ]
    },
    {
      "cell_type": "markdown",
      "metadata": {
        "id": "su0uEV7Xz95Q"
      },
      "source": [
        "- 함수 호출 과정에서 매개변수 개수가 초과해서 들어온 경우"
      ]
    },
    {
      "cell_type": "code",
      "execution_count": 10,
      "metadata": {
        "colab": {
          "base_uri": "https://localhost:8080/",
          "height": 211
        },
        "id": "uRGEUlNkz95Q",
        "outputId": "0bb5e3b9-557c-4a99-d8cc-5648d064c80f"
      },
      "outputs": [
        {
          "output_type": "error",
          "ename": "TypeError",
          "evalue": "ignored",
          "traceback": [
            "\u001b[0;31m---------------------------------------------------------------------------\u001b[0m",
            "\u001b[0;31mTypeError\u001b[0m                                 Traceback (most recent call last)",
            "\u001b[0;32m<ipython-input-10-c99bab854be7>\u001b[0m in \u001b[0;36m<module>\u001b[0;34m()\u001b[0m\n\u001b[1;32m      5\u001b[0m \u001b[0;32mimport\u001b[0m \u001b[0mrandom\u001b[0m\u001b[0;34m\u001b[0m\u001b[0;34m\u001b[0m\u001b[0m\n\u001b[1;32m      6\u001b[0m \u001b[0;34m\u001b[0m\u001b[0m\n\u001b[0;32m----> 7\u001b[0;31m \u001b[0mprint\u001b[0m\u001b[0;34m(\u001b[0m\u001b[0mrandom\u001b[0m\u001b[0;34m.\u001b[0m\u001b[0mchoice\u001b[0m\u001b[0;34m(\u001b[0m\u001b[0;34m[\u001b[0m\u001b[0;36m3\u001b[0m\u001b[0;34m,\u001b[0m\u001b[0;36m4\u001b[0m\u001b[0;34m,\u001b[0m\u001b[0;36m1\u001b[0m\u001b[0;34m]\u001b[0m\u001b[0;34m,\u001b[0m\u001b[0;36m6\u001b[0m\u001b[0;34m)\u001b[0m\u001b[0;34m)\u001b[0m\u001b[0;34m\u001b[0m\u001b[0;34m\u001b[0m\u001b[0m\n\u001b[0m",
            "\u001b[0;31mTypeError\u001b[0m: choice() takes 2 positional arguments but 3 were given"
          ]
        }
      ],
      "source": [
        "# random.choice() 함수는 하나의 매개 변수만 받도록 정의되어 있습니다.\n",
        "# 숫자 3개가 담긴 리스트와, 숫자 6을 넣고 호출해 보세요.\n",
        "# 그리고 매개변수가 초가 되어 발생하는 오류를 확인해 봅시다.\n",
        "\n",
        "import random\n",
        "\n",
        "print(random.choice([3,4,1],6))"
      ]
    },
    {
      "cell_type": "markdown",
      "metadata": {
        "id": "XP2LiLE9z95Q"
      },
      "source": [
        "`ValueError`\n",
        "- 자료형은 올바르나 값이 적절하지 않은 경우"
      ]
    },
    {
      "cell_type": "code",
      "execution_count": 11,
      "metadata": {
        "colab": {
          "base_uri": "https://localhost:8080/",
          "height": 211
        },
        "id": "CA89EeHNz95Q",
        "outputId": "46f3f5ac-9265-48f9-ee36-5f622612b68d"
      },
      "outputs": [
        {
          "output_type": "error",
          "ename": "ValueError",
          "evalue": "ignored",
          "traceback": [
            "\u001b[0;31m---------------------------------------------------------------------------\u001b[0m",
            "\u001b[0;31mValueError\u001b[0m                                Traceback (most recent call last)",
            "\u001b[0;32m<ipython-input-11-951b11644e85>\u001b[0m in \u001b[0;36m<module>\u001b[0;34m()\u001b[0m\n\u001b[1;32m      2\u001b[0m \u001b[0;31m# int() 안에 문자 3.5를 넣고 호출한 뒤 발생하는 오류를 확인해 봅시다.\u001b[0m\u001b[0;34m\u001b[0m\u001b[0;34m\u001b[0m\u001b[0;34m\u001b[0m\u001b[0m\n\u001b[1;32m      3\u001b[0m \u001b[0;34m\u001b[0m\u001b[0m\n\u001b[0;32m----> 4\u001b[0;31m \u001b[0mprint\u001b[0m\u001b[0;34m(\u001b[0m\u001b[0mint\u001b[0m\u001b[0;34m(\u001b[0m\u001b[0;34m'3.5'\u001b[0m\u001b[0;34m)\u001b[0m\u001b[0;34m)\u001b[0m\u001b[0;34m\u001b[0m\u001b[0;34m\u001b[0m\u001b[0m\n\u001b[0m",
            "\u001b[0;31mValueError\u001b[0m: invalid literal for int() with base 10: '3.5'"
          ]
        }
      ],
      "source": [
        "# int()는 정수가 아닌 값을 받았을 경우 에러가 발생합니다.\n",
        "# int() 안에 문자 3.5를 넣고 호출한 뒤 발생하는 오류를 확인해 봅시다.\n",
        "\n",
        "print(int('3.5'))"
      ]
    },
    {
      "cell_type": "markdown",
      "metadata": {
        "id": "wIMAMssiz95Q"
      },
      "source": [
        "- 존재하지 않는 값을 찾고자 할 경우"
      ]
    },
    {
      "cell_type": "code",
      "execution_count": 12,
      "metadata": {
        "colab": {
          "base_uri": "https://localhost:8080/",
          "height": 211
        },
        "id": "aWHUdsfKz95R",
        "outputId": "4fd057c6-db37-4817-d5d8-796c26aa2237"
      },
      "outputs": [
        {
          "output_type": "error",
          "ename": "ValueError",
          "evalue": "ignored",
          "traceback": [
            "\u001b[0;31m---------------------------------------------------------------------------\u001b[0m",
            "\u001b[0;31mValueError\u001b[0m                                Traceback (most recent call last)",
            "\u001b[0;32m<ipython-input-12-096f5b597dd2>\u001b[0m in \u001b[0;36m<module>\u001b[0;34m()\u001b[0m\n\u001b[1;32m      4\u001b[0m \u001b[0;34m\u001b[0m\u001b[0m\n\u001b[1;32m      5\u001b[0m \u001b[0mnumbers\u001b[0m \u001b[0;34m=\u001b[0m \u001b[0;34m[\u001b[0m\u001b[0;36m1\u001b[0m\u001b[0;34m,\u001b[0m \u001b[0;36m2\u001b[0m\u001b[0;34m]\u001b[0m\u001b[0;34m\u001b[0m\u001b[0;34m\u001b[0m\u001b[0m\n\u001b[0;32m----> 6\u001b[0;31m \u001b[0mnumbers\u001b[0m\u001b[0;34m.\u001b[0m\u001b[0mindex\u001b[0m\u001b[0;34m(\u001b[0m\u001b[0;36m3\u001b[0m\u001b[0;34m)\u001b[0m\u001b[0;34m\u001b[0m\u001b[0;34m\u001b[0m\u001b[0m\n\u001b[0m",
            "\u001b[0;31mValueError\u001b[0m: 3 is not in list"
          ]
        }
      ],
      "source": [
        "# index()는 리스트에서 찾고자 하는 값의 인덱스를 반환합니다.\n",
        "# numbers 리스트에 없는 값인 3을 찾게 되면 에러가 발생합니다.\n",
        "# 코드를 실행시킨 뒤 발생하는 오류를 확인해 봅시다.\n",
        "\n",
        "numbers = [1, 2]\n",
        "numbers.index(3)"
      ]
    },
    {
      "cell_type": "markdown",
      "metadata": {
        "id": "p6S5fJnoz95R"
      },
      "source": [
        "`IndexError`\n",
        "- 존재하지 않는 index로 조회할 경우"
      ]
    },
    {
      "cell_type": "code",
      "execution_count": 13,
      "metadata": {
        "colab": {
          "base_uri": "https://localhost:8080/",
          "height": 211
        },
        "id": "EcX21i-Nz95R",
        "outputId": "96afaf1f-7c7a-4245-9b92-137e9600d1e2"
      },
      "outputs": [
        {
          "output_type": "error",
          "ename": "IndexError",
          "evalue": "ignored",
          "traceback": [
            "\u001b[0;31m---------------------------------------------------------------------------\u001b[0m",
            "\u001b[0;31mIndexError\u001b[0m                                Traceback (most recent call last)",
            "\u001b[0;32m<ipython-input-13-552611f6dac4>\u001b[0m in \u001b[0;36m<module>\u001b[0;34m()\u001b[0m\n\u001b[1;32m      3\u001b[0m \u001b[0;34m\u001b[0m\u001b[0m\n\u001b[1;32m      4\u001b[0m \u001b[0mempty_list\u001b[0m \u001b[0;34m=\u001b[0m \u001b[0;34m[\u001b[0m\u001b[0;34m]\u001b[0m\u001b[0;34m\u001b[0m\u001b[0;34m\u001b[0m\u001b[0m\n\u001b[0;32m----> 5\u001b[0;31m \u001b[0mempty_list\u001b[0m\u001b[0;34m[\u001b[0m\u001b[0;34m-\u001b[0m\u001b[0;36m1\u001b[0m\u001b[0;34m]\u001b[0m\u001b[0;34m\u001b[0m\u001b[0;34m\u001b[0m\u001b[0m\n\u001b[0m",
            "\u001b[0;31mIndexError\u001b[0m: list index out of range"
          ]
        }
      ],
      "source": [
        "# 비어있는 리스트는 어떤 인덱스 값으로든 접근할 수 없습니다.\n",
        "# 코드를 실행시켜서 비어있는 empty_list를 -1 인덱스로 접근했을 때 발생하는 오류를 확인해 봅시다.\n",
        "\n",
        "empty_list = []\n",
        "empty_list[-1]"
      ]
    },
    {
      "cell_type": "markdown",
      "metadata": {
        "id": "7L4gxJqdz95R"
      },
      "source": [
        "`KeyError`\n",
        "- 존재하지 않는 Key로 접근한 경우"
      ]
    },
    {
      "cell_type": "code",
      "execution_count": 14,
      "metadata": {
        "colab": {
          "base_uri": "https://localhost:8080/",
          "height": 211
        },
        "id": "gcYyQSrHz95R",
        "outputId": "a4815444-13dc-4ec2-f0af-14a0f0ef3023"
      },
      "outputs": [
        {
          "output_type": "error",
          "ename": "KeyError",
          "evalue": "ignored",
          "traceback": [
            "\u001b[0;31m---------------------------------------------------------------------------\u001b[0m",
            "\u001b[0;31mKeyError\u001b[0m                                  Traceback (most recent call last)",
            "\u001b[0;32m<ipython-input-14-e353f19d4753>\u001b[0m in \u001b[0;36m<module>\u001b[0;34m()\u001b[0m\n\u001b[1;32m      4\u001b[0m \u001b[0;34m\u001b[0m\u001b[0m\n\u001b[1;32m      5\u001b[0m \u001b[0msongs\u001b[0m \u001b[0;34m=\u001b[0m \u001b[0;34m{\u001b[0m\u001b[0;34m'sia'\u001b[0m\u001b[0;34m:\u001b[0m \u001b[0;34m'candy cane lane'\u001b[0m\u001b[0;34m}\u001b[0m\u001b[0;34m\u001b[0m\u001b[0;34m\u001b[0m\u001b[0m\n\u001b[0;32m----> 6\u001b[0;31m \u001b[0msongs\u001b[0m\u001b[0;34m[\u001b[0m\u001b[0;34m'queen'\u001b[0m\u001b[0;34m]\u001b[0m\u001b[0;34m\u001b[0m\u001b[0;34m\u001b[0m\u001b[0m\n\u001b[0m",
            "\u001b[0;31mKeyError\u001b[0m: 'queen'"
          ]
        }
      ],
      "source": [
        "# 아래 songs라는 딕셔너리에는 'sia'라는 Key만 존재하며,\n",
        "# 'queen'이라는 키는 존재하지 않습니다.\n",
        "# 코드를 실행시켜보고 발생하는 오류를 확인해 봅시다.\n",
        "\n",
        "songs = {'sia': 'candy cane lane'}\n",
        "songs['queen']"
      ]
    },
    {
      "cell_type": "markdown",
      "metadata": {
        "id": "3dizbywHz95R"
      },
      "source": [
        "`ModuleNotFoundError`\n",
        "- 존재하지 않는 Module을 `import` 하는 경우"
      ]
    },
    {
      "cell_type": "code",
      "execution_count": 15,
      "metadata": {
        "colab": {
          "base_uri": "https://localhost:8080/",
          "height": 358
        },
        "id": "ftCrSySDz95S",
        "outputId": "3415d289-127f-4dbc-f1b2-34752e369579"
      },
      "outputs": [
        {
          "output_type": "error",
          "ename": "ModuleNotFoundError",
          "evalue": "ignored",
          "traceback": [
            "\u001b[0;31m---------------------------------------------------------------------------\u001b[0m",
            "\u001b[0;31mModuleNotFoundError\u001b[0m                       Traceback (most recent call last)",
            "\u001b[0;32m<ipython-input-15-01a1ee8d3961>\u001b[0m in \u001b[0;36m<module>\u001b[0;34m()\u001b[0m\n\u001b[1;32m      2\u001b[0m \u001b[0;31m# 그리고 발생하는 오류를 확인해 봅시다.\u001b[0m\u001b[0;34m\u001b[0m\u001b[0;34m\u001b[0m\u001b[0;34m\u001b[0m\u001b[0m\n\u001b[1;32m      3\u001b[0m \u001b[0;34m\u001b[0m\u001b[0m\n\u001b[0;32m----> 4\u001b[0;31m \u001b[0;32mimport\u001b[0m \u001b[0mreque\u001b[0m\u001b[0;34m\u001b[0m\u001b[0;34m\u001b[0m\u001b[0m\n\u001b[0m",
            "\u001b[0;31mModuleNotFoundError\u001b[0m: No module named 'reque'",
            "",
            "\u001b[0;31m---------------------------------------------------------------------------\u001b[0;32m\nNOTE: If your import is failing due to a missing package, you can\nmanually install dependencies using either !pip or !apt.\n\nTo view examples of installing some common dependencies, click the\n\"Open Examples\" button below.\n\u001b[0;31m---------------------------------------------------------------------------\u001b[0m\n"
          ],
          "errorDetails": {
            "actions": [
              {
                "action": "open_url",
                "actionText": "Open Examples",
                "url": "/notebooks/snippets/importing_libraries.ipynb"
              }
            ]
          }
        }
      ],
      "source": [
        "# 파이썬에 존재하지 않는 모듈인 \"reque\"라는 이름의 모듈을 불러와봅시다(import).\n",
        "# 그리고 발생하는 오류를 확인해 봅시다.\n",
        "\n",
        "import reque"
      ]
    },
    {
      "cell_type": "markdown",
      "metadata": {
        "id": "lZP-HhSPz95S"
      },
      "source": [
        "`ImportError`\n",
        "- Module은 찾았으나 존재하지 않는 클래스/함수를 가져오는 경우"
      ]
    },
    {
      "cell_type": "code",
      "execution_count": 16,
      "metadata": {
        "colab": {
          "base_uri": "https://localhost:8080/",
          "height": 358
        },
        "id": "FY5VYD2Xz95S",
        "outputId": "37afa733-a8e9-473f-b521-20badd9be3b4"
      },
      "outputs": [
        {
          "output_type": "error",
          "ename": "ImportError",
          "evalue": "ignored",
          "traceback": [
            "\u001b[0;31m---------------------------------------------------------------------------\u001b[0m",
            "\u001b[0;31mImportError\u001b[0m                               Traceback (most recent call last)",
            "\u001b[0;32m<ipython-input-16-2189ef447974>\u001b[0m in \u001b[0;36m<module>\u001b[0;34m()\u001b[0m\n\u001b[1;32m      3\u001b[0m \u001b[0;34m\u001b[0m\u001b[0m\n\u001b[1;32m      4\u001b[0m \u001b[0;34m\u001b[0m\u001b[0m\n\u001b[0;32m----> 5\u001b[0;31m \u001b[0;32mfrom\u001b[0m \u001b[0mrandom\u001b[0m \u001b[0;32mimport\u001b[0m \u001b[0msampl\u001b[0m\u001b[0;34m\u001b[0m\u001b[0;34m\u001b[0m\u001b[0m\n\u001b[0m",
            "\u001b[0;31mImportError\u001b[0m: cannot import name 'sampl' from 'random' (/usr/lib/python3.7/random.py)",
            "",
            "\u001b[0;31m---------------------------------------------------------------------------\u001b[0;32m\nNOTE: If your import is failing due to a missing package, you can\nmanually install dependencies using either !pip or !apt.\n\nTo view examples of installing some common dependencies, click the\n\"Open Examples\" button below.\n\u001b[0;31m---------------------------------------------------------------------------\u001b[0m\n"
          ],
          "errorDetails": {
            "actions": [
              {
                "action": "open_url",
                "actionText": "Open Examples",
                "url": "/notebooks/snippets/importing_libraries.ipynb"
              }
            ]
          }
        }
      ],
      "source": [
        "# 파이썬 내장 random 모듈은 존재하나 그 안에 \"sampl\"이라는 함수는 존재하지 않습니다.\n",
        "# random 모듈을 불러와서 \"sampl\"이라는 함수를 불러와보고, 발생하는 오류를 확인해 봅시다.\n",
        "\n",
        "\n",
        "from random import sampl"
      ]
    },
    {
      "cell_type": "markdown",
      "metadata": {
        "id": "UMI0zMQNz95S"
      },
      "source": [
        "`KeyboardInterrupt`\n",
        "- 사용자가 임의로 실행을 중단한 경우\n",
        "- 주피터 노트북에서는 정지 버튼이지만, 실제로 우리가 돌릴 때는 `ctrl`+`c`를 통해 종료하였을 때 발생합니다."
      ]
    },
    {
      "cell_type": "code",
      "execution_count": 17,
      "metadata": {
        "colab": {
          "base_uri": "https://localhost:8080/",
          "height": 211
        },
        "id": "MD4c1DHrz95S",
        "outputId": "cc636eb0-dd7a-4972-a649-88a6f7d20db4"
      },
      "outputs": [
        {
          "output_type": "error",
          "ename": "KeyboardInterrupt",
          "evalue": "ignored",
          "traceback": [
            "\u001b[0;31m---------------------------------------------------------------------------\u001b[0m",
            "\u001b[0;31mKeyboardInterrupt\u001b[0m                         Traceback (most recent call last)",
            "\u001b[0;32m<ipython-input-17-7ee0e3ed2638>\u001b[0m in \u001b[0;36m<module>\u001b[0;34m()\u001b[0m\n\u001b[1;32m      4\u001b[0m \u001b[0;34m\u001b[0m\u001b[0m\n\u001b[1;32m      5\u001b[0m \u001b[0;32mwhile\u001b[0m \u001b[0;32mTrue\u001b[0m\u001b[0;34m:\u001b[0m\u001b[0;34m\u001b[0m\u001b[0;34m\u001b[0m\u001b[0m\n\u001b[0;32m----> 6\u001b[0;31m     \u001b[0;36m1\u001b[0m\u001b[0;34m\u001b[0m\u001b[0;34m\u001b[0m\u001b[0m\n\u001b[0m",
            "\u001b[0;31mKeyboardInterrupt\u001b[0m: "
          ]
        }
      ],
      "source": [
        "# 무한 반복되는 while 문을 실행시켜보고, 정지시켜보세요.\n",
        "# 그리고 발생하는 오류를 확인해 봅시다.\n",
        "\n",
        "\n",
        "while True:\n",
        "    1"
      ]
    },
    {
      "cell_type": "markdown",
      "metadata": {
        "id": "2WeQn2Xsz95S"
      },
      "source": [
        "`IndentationError`\n",
        "- Indentation(들여 쓰기)이 적절하지 않은 경우"
      ]
    },
    {
      "cell_type": "code",
      "execution_count": 18,
      "metadata": {
        "colab": {
          "base_uri": "https://localhost:8080/",
          "height": 137
        },
        "id": "MzmLhZz-z95S",
        "outputId": "07d2de86-e871-44ae-e2b8-791dafc4f902"
      },
      "outputs": [
        {
          "output_type": "error",
          "ename": "IndentationError",
          "evalue": "ignored",
          "traceback": [
            "\u001b[0;36m  File \u001b[0;32m\"<ipython-input-18-a438535d1322>\"\u001b[0;36m, line \u001b[0;32m4\u001b[0m\n\u001b[0;31m    print(i)\u001b[0m\n\u001b[0m        ^\u001b[0m\n\u001b[0;31mIndentationError\u001b[0m\u001b[0;31m:\u001b[0m expected an indented block\n"
          ]
        }
      ],
      "source": [
        "# 코드를 실행해서 발생하는 오류를 확인해 봅시다.\n",
        "\n",
        "for i in range(3):\n",
        "print(i)"
      ]
    },
    {
      "cell_type": "code",
      "execution_count": 19,
      "metadata": {
        "colab": {
          "base_uri": "https://localhost:8080/",
          "height": 137
        },
        "id": "jKck5ZP3z95T",
        "outputId": "1b7cb21a-289e-43d5-c41c-eb34ee730e77"
      },
      "outputs": [
        {
          "output_type": "error",
          "ename": "IndentationError",
          "evalue": "ignored",
          "traceback": [
            "\u001b[0;36m  File \u001b[0;32m\"<ipython-input-19-8ff326ddb4b0>\"\u001b[0;36m, line \u001b[0;32m5\u001b[0m\n\u001b[0;31m    print(i)\u001b[0m\n\u001b[0m    ^\u001b[0m\n\u001b[0;31mIndentationError\u001b[0m\u001b[0;31m:\u001b[0m unexpected indent\n"
          ]
        }
      ],
      "source": [
        "# 코드를 실행해서 발생하는 오류를 확인해 봅시다.\n",
        "\n",
        "for i in range(3):\n",
        "    print(i)\n",
        "        print(i)"
      ]
    },
    {
      "cell_type": "markdown",
      "metadata": {
        "id": "BJhHEUd8z95T"
      },
      "source": [
        "# 예외 처리(Exception Handling)\n",
        "\n",
        "## `try` & `except`\n",
        "`try`문과 `except`절을 사용하여 예외 처리를 할 수 있습니다.\n",
        "\n",
        "\n",
        "### 기초 문법\n",
        "\n",
        "```python\n",
        "try:\n",
        "    <코드 블록 1>\n",
        "except (예외):\n",
        "    <코드 블록 2>\n",
        "```\n",
        "\n",
        "* `try` 아래의 코드 블록(code block)이 실행됩니다.\n",
        "\n",
        "* 예외가 발생되지 않으면, **`except` 없이 실행이 종료됩니다.**\n",
        "\n",
        "* 예외가 발생하면, **남은 부분을 수행하지 않고**, `except`가 실행됩니다."
      ]
    },
    {
      "cell_type": "code",
      "execution_count": 20,
      "metadata": {
        "colab": {
          "base_uri": "https://localhost:8080/"
        },
        "id": "IdF9KXMrz95T",
        "outputId": "4b615e9e-94c6-44fb-9cd4-274d6441bd2b"
      },
      "outputs": [
        {
          "output_type": "stream",
          "name": "stdout",
          "text": [
            "32\n",
            "32\n"
          ]
        }
      ],
      "source": [
        "# 사용자로부터 값을 받아 정수로 변환하여 출력해 봅시다.\n",
        "# input() 함수를 이용하여 사용자로부터 입력을 받은 뒤\n",
        "# 해당 값을 정수로 변환하여 출력해 보세요.\n",
        "\n",
        "\n",
        "s = input()\n",
        "\n",
        "print(int(s))"
      ]
    },
    {
      "cell_type": "code",
      "execution_count": 21,
      "metadata": {
        "colab": {
          "base_uri": "https://localhost:8080/"
        },
        "id": "lRLXoIDez95T",
        "outputId": "04223515-6927-4e06-d570-68a3f177d04b"
      },
      "outputs": [
        {
          "output_type": "stream",
          "name": "stdout",
          "text": [
            " sw\n",
            "숫자를 입력하세요.\n"
          ]
        }
      ],
      "source": [
        "# 위에서 배운 try-except 구문을 활용해 봅시다.\n",
        "# 사용자가 문자열을 넣어 해당 오류(ValueError)가 발생하면\n",
        "# 숫자를 입력하라고 출력해 봅시다.\n",
        "\n",
        "try:\n",
        "    \n",
        "    s = input()\n",
        "\n",
        "    print(int(s))\n",
        "\n",
        "except ValueError:\n",
        "    \n",
        "    print('숫자를 입력하세요.')"
      ]
    },
    {
      "cell_type": "markdown",
      "metadata": {
        "id": "Fr3Yx9A6z95T"
      },
      "source": [
        "### 복수의 예외 처리\n",
        "\n",
        "하나 이상의 예외를 모두 처리할 수 있습니다.\n",
        "\n",
        "괄호가 있는 튜플로 여러 개의 예외를 지정할 수 있습니다.\n",
        "\n",
        "---\n",
        "\n",
        "**활용법**\n",
        "\n",
        "```python\n",
        "try:\n",
        "    <코드 블록 1>\n",
        "except (예외 1, 예외 2):\n",
        "    <코드 블록 2>\n",
        "\n",
        "try:\n",
        "    <코드 블록 1>\n",
        "except 예외 1:\n",
        "    <코드 블록 2>\n",
        "except 예외 2:\n",
        "    <코드 블록 3>\n",
        "```"
      ]
    },
    {
      "cell_type": "code",
      "execution_count": 22,
      "metadata": {
        "colab": {
          "base_uri": "https://localhost:8080/"
        },
        "id": "BZOJrr-uz95T",
        "outputId": "5d978027-1580-4b8a-e9b3-387d74bb3caa"
      },
      "outputs": [
        {
          "output_type": "stream",
          "name": "stdout",
          "text": [
            "3\n",
            "33.333333333333336\n"
          ]
        }
      ],
      "source": [
        "# 숫자 100을 사용자가 입력한 값으로 나눈 후 출력하는 코드를 작성해 봅시다.\n",
        "\n",
        "# input() 함수를 이용하여 사용자로부터 입력을 받으세요.\n",
        "# 해당 값을 정수로 변환한 뒤, 숫자 100을 입력받은 값으로 나누는 코드를 작성해 보세요.\n",
        "\n",
        "\n",
        "s = input()\n",
        "\n",
        "print(100/int(s))"
      ]
    },
    {
      "cell_type": "code",
      "execution_count": 24,
      "metadata": {
        "colab": {
          "base_uri": "https://localhost:8080/"
        },
        "id": "kesTiK23z95U",
        "outputId": "9c30fb10-8c2a-495b-b943-8ac64612443c"
      },
      "outputs": [
        {
          "output_type": "stream",
          "name": "stdout",
          "text": [
            "wdasdw\n",
            "0이나 문자열을 입력하지마세요.\n"
          ]
        }
      ],
      "source": [
        "# 문자열일 때와 0일 때의 경우를 모두 처리를 해봅시다.\n",
        "\n",
        "# 어떤 값을 숫자가 아닌 값으로 나눌 때 발생하는 에러는 ValueError입니다.\n",
        "# 어떤 값을 0으로 나눌 때 발생하는 에러는 ZeroDivisionError입니다.\n",
        "# try-except 구문을 활용하여 위의 두 오류를 처리해 보세요.\n",
        "\n",
        "\n",
        "try:\n",
        "    \n",
        "    s = input()\n",
        "\n",
        "    print(100/int(s))\n",
        "\n",
        "except (ValueError, ZeroDivisionError):\n",
        "    \n",
        "    print(\"0이나 문자열을 입력하지마세요.\")"
      ]
    },
    {
      "cell_type": "code",
      "execution_count": 26,
      "metadata": {
        "colab": {
          "base_uri": "https://localhost:8080/"
        },
        "id": "TJPAHEAAz95U",
        "outputId": "007668e6-eed0-4e39-c31c-8c3cf911de29"
      },
      "outputs": [
        {
          "output_type": "stream",
          "name": "stdout",
          "text": [
            "wqefwq\n",
            "문자열을 입력하지마세요.\n"
          ]
        }
      ],
      "source": [
        "# 각각 다른 오류를 출력할 수 있습니다.\n",
        "# 여러 개의 except 구문을 활용해 보세요.\n",
        "# (ValueError, ZeroDivisionError)\n",
        "\n",
        "try:\n",
        "    \n",
        "    s = input()\n",
        "\n",
        "    print(100/int(s))\n",
        "\n",
        "except ZeroDivisionError:\n",
        "    \n",
        "    print(\"0을 입력하지마세요.\")\n",
        "\n",
        "except ValueError:\n",
        "    \n",
        "    print(\"문자열을 입력하지마세요.\")"
      ]
    },
    {
      "cell_type": "markdown",
      "metadata": {
        "id": "BFMXIlHNz95U"
      },
      "source": [
        "- 중요! <br>**에러가 순차적으로 수행됨**으로, 가장 작은 범주부터 시작해야 합니다."
      ]
    },
    {
      "cell_type": "code",
      "execution_count": 28,
      "metadata": {
        "colab": {
          "base_uri": "https://localhost:8080/"
        },
        "id": "QyDjJignz95U",
        "outputId": "144fa115-4827-4eaa-f659-30fb61eae773"
      },
      "outputs": [
        {
          "output_type": "stream",
          "name": "stdout",
          "text": [
            "값을 입력하시오: ㄴㄷㄴㅂ\n",
            "모르겠지만 에러야\n"
          ]
        }
      ],
      "source": [
        "# Exception은 가장 큰 범주의 에러로써 모든 에러를 처리할 수 있습니다.\n",
        "# 따라서 아래 코드는 숫자가 아닌 값을 넣었을 때 순차적으로 먼저 적힌 Exception 에러가 발생합니다.\n",
        "# 코드를 실행하고 결과를 확인해 봅시다.\n",
        "\n",
        "try:\n",
        "    num = input('값을 입력하시오: ')\n",
        "    100/int(num)\n",
        "except Exception: # Exception 은 가장 큰 범주\n",
        "    print('모르겠지만 에러야')\n",
        "except ValueError:\n",
        "    print('숫자를 넣어')"
      ]
    },
    {
      "cell_type": "markdown",
      "metadata": {
        "id": "_0ia4Z3lz95U"
      },
      "source": [
        "### `else`\n",
        "\n",
        "* 에러가 발생하지 않는 경우 수행되는 문장은 `else`를 이용합니다.\n",
        "* 모든 `except` 절 뒤에 와야 합니다.\n",
        "* `try` 절이 예외를 일으키지 않을 때 실행되어야만 하는 코드에 적절합니다.\n",
        "---\n",
        "\n",
        "**활용법**\n",
        "\n",
        "```python\n",
        "try:\n",
        "    <코드 블럭 1>\n",
        "except 예외:\n",
        "    <코드 블럭 2>\n",
        "else:\n",
        "    <코드 블럭 3>\n",
        "```"
      ]
    },
    {
      "cell_type": "code",
      "execution_count": 29,
      "metadata": {
        "colab": {
          "base_uri": "https://localhost:8080/"
        },
        "id": "Zh1W-PPBz95U",
        "outputId": "5db949a5-5e80-4fcd-bf18-ce7c57363d5b"
      },
      "outputs": [
        {
          "output_type": "stream",
          "name": "stdout",
          "text": [
            "오류 발생\n"
          ]
        }
      ],
      "source": [
        "# else를 사용해봅시다.\n",
        "\n",
        "# try 구문에서 numbers라는 이름의 리스트에 숫자 3개를 저장하세요.\n",
        "# 그리고 존재하지 않는 인덱스의 값을 가져와서 number 변수에 저장하세요.\n",
        "# (이 때, 존재하지 않는 인덱스를 참고하는 경우 IndexError가 발생하게 됩니다.)\n",
        "# except 구문에서 IndexError가 발생할 경우 '오류 발생'이라는 메세지를 출력하세요.\n",
        "# 마지막으로 else 구문을 활용하여 number * 100을 출력해보세요.\n",
        "\n",
        "\n",
        "try:\n",
        "    \n",
        "    numbers = [3,1,2]\n",
        "\n",
        "    number = numbers[5]\n",
        "\n",
        "except IndexError:\n",
        "    \n",
        "    print(\"오류 발생\")\n",
        "\n",
        "else:\n",
        "    \n",
        "    print(number*100)"
      ]
    },
    {
      "cell_type": "markdown",
      "metadata": {
        "id": "OtNzfh-Oz95U"
      },
      "source": [
        "### `finally` \n",
        "\n",
        "* 반드시 수행해야 하는 문장은 `finally`를 활용합니다.\n",
        "* 즉, 모든 상황에 실행되어야만 하는 코드를 정의하는데 활용합니다.\n",
        "* 예외의 발생 여부와 관계없이 `try` 문을 떠날 때 항상 실행합니다.\n",
        "\n",
        "---\n",
        "\n",
        "**활용법**\n",
        "\n",
        "```python\n",
        "try:\n",
        "    <코드 블럭 1>\n",
        "except 예외:\n",
        "    <코드 블럭 2>\n",
        "finally:\n",
        "    <코드 블럭 3>\n",
        "```"
      ]
    },
    {
      "cell_type": "code",
      "execution_count": 30,
      "metadata": {
        "colab": {
          "base_uri": "https://localhost:8080/"
        },
        "id": "tBRPv8jwz95V",
        "outputId": "57c8801f-3f98-4b37-913b-df3f4c0d1a04"
      },
      "outputs": [
        {
          "output_type": "stream",
          "name": "stdout",
          "text": [
            "성적 파일을 읽어옵니다.\n",
            "'java'는 딕셔너리에 없는 키입니다.\n",
            "성적 파일을 종료합니다\n"
          ]
        }
      ],
      "source": [
        "# finally를 사용해봅시다.\n",
        "# 다음 코드에서 finally 구문을 활용하여 '성적 파일을 종료합니다'라는 메세지를 출력해보세요.\n",
        "\n",
        "try:\n",
        "    print('성적 파일을 읽어옵니다.')\n",
        "    data = {'python': 'A+'}\n",
        "    data['java']\n",
        "except KeyError as err:\n",
        "    print(f'{err}는 딕셔너리에 없는 키입니다.')\n",
        "\n",
        "finally:\n",
        "    \n",
        "    print(\"성적 파일을 종료합니다\")\n",
        "    \n",
        "\n"
      ]
    },
    {
      "cell_type": "markdown",
      "metadata": {
        "id": "HXMdkJ5Iz95V"
      },
      "source": [
        "### 에러 메시지 처리  `as`\n",
        "\n",
        "`as` 키워드를 활용하여 에러 메시지를 보여줄 수도 있습니다.\n",
        "\n",
        "---\n",
        "\n",
        "**활용법**\n",
        "\n",
        "```python\n",
        "try:\n",
        "    <코드 블럭 1>\n",
        "except 예외 as err:\n",
        "    <코드 블럭 2>\n",
        "```"
      ]
    },
    {
      "cell_type": "code",
      "execution_count": 31,
      "metadata": {
        "colab": {
          "base_uri": "https://localhost:8080/"
        },
        "id": "ys5FX9vQz95V",
        "outputId": "9fd52b80-a75a-4471-cbc0-7cee3ba45e85"
      },
      "outputs": [
        {
          "output_type": "stream",
          "name": "stdout",
          "text": [
            "list index out of range\n"
          ]
        }
      ],
      "source": [
        "# except 구문에서 발생하는 에러 메세지를 코드 블럭에 넘겨줄 수도 있습니다.\n",
        "\n",
        "# 다음 코드에서 as를 활용하여 에러 메세지를 그 아래 코드 블럭에 넘겨보세요.\n",
        "# 그리고 as로 명명한 에러 메세지를 print를 이용하여 출력해보세요.\n",
        "\n",
        "try:\n",
        "    empty_list = []\n",
        "    print(empty_list[-1])\n",
        "except IndexError as e:\n",
        "    # 여기에 코드를 작성하세요\n",
        "\n",
        "    print(e)\n",
        "    \n",
        "\n",
        "    \n"
      ]
    },
    {
      "cell_type": "markdown",
      "metadata": {
        "id": "r5onaOCyz95V"
      },
      "source": [
        "## 예외 발생 시키기(Exception Raising)\n",
        "\n"
      ]
    },
    {
      "cell_type": "markdown",
      "metadata": {
        "id": "b3RCppq5z95V"
      },
      "source": [
        "### `raise`\n",
        "`raise`를 통해 예외를 강제로 발생시킬 수 있습니다.\n",
        "\n",
        "---\n",
        "\n",
        "**활용법**\n",
        "\n",
        "```python\n",
        "raise <에러>('메시지')\n",
        "```"
      ]
    },
    {
      "cell_type": "code",
      "execution_count": 32,
      "metadata": {
        "colab": {
          "base_uri": "https://localhost:8080/",
          "height": 211
        },
        "id": "pWM-9Ohez95V",
        "outputId": "a6009ea3-6bca-42a8-b473-ca38f72e6fe4"
      },
      "outputs": [
        {
          "output_type": "error",
          "ename": "RuntimeError",
          "evalue": "ignored",
          "traceback": [
            "\u001b[0;31m---------------------------------------------------------------------------\u001b[0m",
            "\u001b[0;31mRuntimeError\u001b[0m                              Traceback (most recent call last)",
            "\u001b[0;32m<ipython-input-32-30f315e64fa3>\u001b[0m in \u001b[0;36m<module>\u001b[0;34m()\u001b[0m\n\u001b[1;32m      4\u001b[0m \u001b[0;31m# 코드를 실행시켜보고 결과를 확인하세요.\u001b[0m\u001b[0;34m\u001b[0m\u001b[0;34m\u001b[0m\u001b[0;34m\u001b[0m\u001b[0m\n\u001b[1;32m      5\u001b[0m \u001b[0;34m\u001b[0m\u001b[0m\n\u001b[0;32m----> 6\u001b[0;31m \u001b[0;32mraise\u001b[0m\u001b[0;34m\u001b[0m\u001b[0;34m\u001b[0m\u001b[0m\n\u001b[0m",
            "\u001b[0;31mRuntimeError\u001b[0m: No active exception to reraise"
          ]
        }
      ],
      "source": [
        "# raise를 사용해 봅시다.\n",
        "\n",
        "# raise만 작성한 뒤 실행시켜봅시다.\n",
        "# 코드를 실행시켜보고 결과를 확인하세요.\n",
        "\n",
        "raise"
      ]
    },
    {
      "cell_type": "code",
      "execution_count": 33,
      "metadata": {
        "scrolled": true,
        "colab": {
          "base_uri": "https://localhost:8080/",
          "height": 211
        },
        "id": "Ekdw27XKz95V",
        "outputId": "d8c7325a-66f4-4721-94c4-18907ba11aa2"
      },
      "outputs": [
        {
          "output_type": "error",
          "ename": "ValueError",
          "evalue": "ignored",
          "traceback": [
            "\u001b[0;31m---------------------------------------------------------------------------\u001b[0m",
            "\u001b[0;31mValueError\u001b[0m                                Traceback (most recent call last)",
            "\u001b[0;32m<ipython-input-33-423f55c72312>\u001b[0m in \u001b[0;36m<module>\u001b[0;34m()\u001b[0m\n\u001b[1;32m      2\u001b[0m \u001b[0;31m# 코드를 실행시켜보고 결과를 확인하세요.\u001b[0m\u001b[0;34m\u001b[0m\u001b[0;34m\u001b[0m\u001b[0;34m\u001b[0m\u001b[0m\n\u001b[1;32m      3\u001b[0m \u001b[0;34m\u001b[0m\u001b[0m\n\u001b[0;32m----> 4\u001b[0;31m \u001b[0;32mraise\u001b[0m \u001b[0mValueError\u001b[0m\u001b[0;34m(\u001b[0m\u001b[0;34m'hi'\u001b[0m\u001b[0;34m)\u001b[0m\u001b[0;34m\u001b[0m\u001b[0;34m\u001b[0m\u001b[0m\n\u001b[0m",
            "\u001b[0;31mValueError\u001b[0m: hi"
          ]
        }
      ],
      "source": [
        "# 이번에는 ValueError() 오류를 raise 해봅시다.\n",
        "# 코드를 실행시켜보고 결과를 확인하세요.\n",
        "\n",
        "raise ValueError('hi')"
      ]
    },
    {
      "cell_type": "markdown",
      "metadata": {
        "id": "_396WAj4z95V"
      },
      "source": [
        "### [연습] `raise` 예외 발생시키기\n",
        "\n",
        "> 리스트를 받아 평균을 반환하는 함수 `avg`를 작성하세요.\n",
        "\n",
        "---\n",
        "\n",
        "- `scores`의 길이가 0인 경우 `Exception`과 메시지를 발생시키세요.\n",
        "    - *예) Exception: 학생이 없습니다.*\n",
        "\n",
        "- 정상적인 경우에는 평균을 `return`합니다."
      ]
    },
    {
      "cell_type": "code",
      "execution_count": 36,
      "metadata": {
        "id": "hFnZMe5Vz95W"
      },
      "outputs": [],
      "source": [
        "def avg(scores):\n",
        "# 이곳에 코드를 작성하세요.\n",
        "    \n",
        "    if len(scores) == 0:\n",
        "\n",
        "        raise Exception('학생이 없습니다.')\n",
        "\n",
        "    else:\n",
        "\n",
        "        return sum(scores)/len(scores)\n",
        "\n",
        "\n",
        "\n",
        "\n"
      ]
    },
    {
      "cell_type": "code",
      "execution_count": 37,
      "metadata": {
        "ExecuteTime": {
          "end_time": "2021-01-15T08:41:03.063650Z",
          "start_time": "2021-01-15T08:41:03.046635Z"
        },
        "scrolled": true,
        "colab": {
          "base_uri": "https://localhost:8080/",
          "height": 321
        },
        "id": "R8nItpz5z95W",
        "outputId": "f3d5eee1-b270-463b-8c12-809d1d8cf820"
      },
      "outputs": [
        {
          "output_type": "error",
          "ename": "Exception",
          "evalue": "ignored",
          "traceback": [
            "\u001b[0;31m---------------------------------------------------------------------------\u001b[0m",
            "\u001b[0;31mException\u001b[0m                                 Traceback (most recent call last)",
            "\u001b[0;32m<ipython-input-37-c5bee3813217>\u001b[0m in \u001b[0;36m<module>\u001b[0;34m()\u001b[0m\n\u001b[1;32m      1\u001b[0m \u001b[0;31m# 다음 코드를 통해 올바른 결과가 나오는지 확인하세요.\u001b[0m\u001b[0;34m\u001b[0m\u001b[0;34m\u001b[0m\u001b[0;34m\u001b[0m\u001b[0m\n\u001b[0;32m----> 2\u001b[0;31m \u001b[0mavg\u001b[0m\u001b[0;34m(\u001b[0m\u001b[0;34m[\u001b[0m\u001b[0;34m]\u001b[0m\u001b[0;34m)\u001b[0m\u001b[0;34m\u001b[0m\u001b[0;34m\u001b[0m\u001b[0m\n\u001b[0m",
            "\u001b[0;32m<ipython-input-36-445203807071>\u001b[0m in \u001b[0;36mavg\u001b[0;34m(scores)\u001b[0m\n\u001b[1;32m      4\u001b[0m     \u001b[0;32mif\u001b[0m \u001b[0mlen\u001b[0m\u001b[0;34m(\u001b[0m\u001b[0mscores\u001b[0m\u001b[0;34m)\u001b[0m \u001b[0;34m==\u001b[0m \u001b[0;36m0\u001b[0m\u001b[0;34m:\u001b[0m\u001b[0;34m\u001b[0m\u001b[0;34m\u001b[0m\u001b[0m\n\u001b[1;32m      5\u001b[0m \u001b[0;34m\u001b[0m\u001b[0m\n\u001b[0;32m----> 6\u001b[0;31m         \u001b[0;32mraise\u001b[0m \u001b[0mException\u001b[0m\u001b[0;34m(\u001b[0m\u001b[0;34m'학생이 없습니다.'\u001b[0m\u001b[0;34m)\u001b[0m\u001b[0;34m\u001b[0m\u001b[0;34m\u001b[0m\u001b[0m\n\u001b[0m\u001b[1;32m      7\u001b[0m \u001b[0;34m\u001b[0m\u001b[0m\n\u001b[1;32m      8\u001b[0m     \u001b[0;32melse\u001b[0m\u001b[0;34m:\u001b[0m\u001b[0;34m\u001b[0m\u001b[0;34m\u001b[0m\u001b[0m\n",
            "\u001b[0;31mException\u001b[0m: 학생이 없습니다."
          ]
        }
      ],
      "source": [
        "# 다음 코드를 통해 올바른 결과가 나오는지 확인하세요.\n",
        "avg([])"
      ]
    },
    {
      "cell_type": "markdown",
      "metadata": {
        "id": "fYp3krerz95W"
      },
      "source": [
        "### `assert`\n",
        "\n",
        "`assert` 문은 예외를 발생시키는 다른 방법입니다. \n",
        "\n",
        "보통 **상태를 검증하는데 사용**되며 무조건 `AssertionError`가 발생합니다.\n",
        "\n",
        "---\n",
        "\n",
        "**활용법**\n",
        "\n",
        "```python\n",
        "assert Boolean expression, error message\n",
        "\n",
        "assert len([1, 2]) == 1, '길이가 1이 아닙니다.'\n",
        "```\n",
        "\n",
        "---\n",
        "\n",
        "위의 검증식이 거짓일 경우를 발생합니다.\n",
        "\n",
        "일반적으로 디버깅용도로 사용됩니다. [파이썬 문서](https://docs.python.org/ko/3/reference/simple_stmts.html#the-assert-statement)\n",
        "\n",
        "```bash\n",
        "$ python code.py\n",
        "Traceback (most recent call last):\n",
        "  File \"code.py\", line 1, in <module>\n",
        "    assert len([1, 2]) == 1, '길이가 1이 아닙니다.'\n",
        "AssertionError: 길이가 1이 아닙니다.\n",
        "\n",
        "$ python -O code.py\n",
        "\n",
        "```"
      ]
    },
    {
      "cell_type": "code",
      "source": [
        "assert len([1,2]) == 1, '길이가 1이 아닙니다'"
      ],
      "metadata": {
        "colab": {
          "base_uri": "https://localhost:8080/",
          "height": 174
        },
        "id": "U6cjnaVyIbdB",
        "outputId": "e3d2c110-1bf0-4a4b-8e76-e6e0a19ebc19"
      },
      "execution_count": 38,
      "outputs": [
        {
          "output_type": "error",
          "ename": "AssertionError",
          "evalue": "ignored",
          "traceback": [
            "\u001b[0;31m---------------------------------------------------------------------------\u001b[0m",
            "\u001b[0;31mAssertionError\u001b[0m                            Traceback (most recent call last)",
            "\u001b[0;32m<ipython-input-38-e5b077361496>\u001b[0m in \u001b[0;36m<module>\u001b[0;34m()\u001b[0m\n\u001b[0;32m----> 1\u001b[0;31m \u001b[0;32massert\u001b[0m \u001b[0mlen\u001b[0m\u001b[0;34m(\u001b[0m\u001b[0;34m[\u001b[0m\u001b[0;36m1\u001b[0m\u001b[0;34m,\u001b[0m\u001b[0;36m2\u001b[0m\u001b[0;34m]\u001b[0m\u001b[0;34m)\u001b[0m \u001b[0;34m==\u001b[0m \u001b[0;36m1\u001b[0m\u001b[0;34m,\u001b[0m \u001b[0;34m'길이가 1이 아닙니다'\u001b[0m\u001b[0;34m\u001b[0m\u001b[0;34m\u001b[0m\u001b[0m\n\u001b[0m",
            "\u001b[0;31mAssertionError\u001b[0m: 길이가 1이 아닙니다"
          ]
        }
      ]
    },
    {
      "cell_type": "code",
      "source": [
        ""
      ],
      "metadata": {
        "id": "GstaImo3IhKi"
      },
      "execution_count": null,
      "outputs": []
    }
  ],
  "metadata": {
    "kernelspec": {
      "display_name": "Python 3.9.13 64-bit",
      "language": "python",
      "name": "python3"
    },
    "language_info": {
      "codemirror_mode": {
        "name": "ipython",
        "version": 3
      },
      "file_extension": ".py",
      "mimetype": "text/x-python",
      "name": "python",
      "nbconvert_exporter": "python",
      "pygments_lexer": "ipython3",
      "version": "3.9.13"
    },
    "latex_envs": {
      "LaTeX_envs_menu_present": true,
      "autoclose": false,
      "autocomplete": true,
      "bibliofile": "biblio.bib",
      "cite_by": "apalike",
      "current_citInitial": 1,
      "eqLabelWithNumbers": true,
      "eqNumInitial": 1,
      "hotkeys": {
        "equation": "Ctrl-E",
        "itemize": "Ctrl-I"
      },
      "labels_anchors": false,
      "latex_user_defs": false,
      "report_style_numbering": false,
      "user_envs_cfg": false
    },
    "toc": {
      "base_numbering": 1,
      "nav_menu": {},
      "number_sections": true,
      "sideBar": true,
      "skip_h1_title": false,
      "title_cell": "Table of Contents",
      "title_sidebar": "에러 & 예외 처리",
      "toc_cell": false,
      "toc_position": {
        "height": "calc(100% - 180px)",
        "left": "10px",
        "top": "150px",
        "width": "165px"
      },
      "toc_section_display": true,
      "toc_window_display": true
    },
    "vscode": {
      "interpreter": {
        "hash": "2b6018d6d3b1646e14c4664ff32a15a5a855c50094320e67d6627ab2774cd753"
      }
    },
    "colab": {
      "name": "08_01_python_workshop_복습_예외처리.ipynb",
      "provenance": [],
      "collapsed_sections": []
    }
  },
  "nbformat": 4,
  "nbformat_minor": 0
}