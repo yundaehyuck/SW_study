{
  "cells": [
    {
      "cell_type": "markdown",
      "id": "internal-shopping",
      "metadata": {
        "id": "internal-shopping"
      },
      "source": [
        "<p style=\"font-size: 33px; font-weight: 700; margin-bottom: 3rem\">OOP</p>\n",
        "\n",
        "\n",
        "\n",
        "- 객체(Object)\n",
        "- 객체지향프로그래밍(Object Oriented Programming)\n",
        "- 클래스(Class)와 객체(Object)\n"
      ]
    },
    {
      "cell_type": "markdown",
      "id": "veterinary-millennium",
      "metadata": {
        "id": "veterinary-millennium"
      },
      "source": [
        "# 객체(Object)\n",
        "\n",
        "> Python에서 **모든 것은 객체(object)**입니다.\n",
        ">\n",
        "> 모든 객체는 **타입(type), 속성(attribute), 조작법(method)**을 가집니다.\n"
      ]
    },
    {
      "cell_type": "markdown",
      "id": "tutorial-shock",
      "metadata": {
        "id": "tutorial-shock"
      },
      "source": [
        "객체(Object)의 특징\n",
        "\n",
        "- **타입(type)**: 어떤 연산자(operator)와 조작(method)이 가능한가? \n",
        "- **속성(attribute)**: 어떤 상태(데이터)를 가지는가?\n",
        "- **조작법(method)**: 어떤 행위(함수)를 할 수 있는가?"
      ]
    },
    {
      "cell_type": "markdown",
      "id": "brave-contents",
      "metadata": {
        "id": "brave-contents"
      },
      "source": [
        "# 객체 지향 프로그래밍(Object-Oriented Programming)\n",
        "\n",
        "Object가 중심(oriented)이 되는 프로그래밍\n",
        "\n",
        "**<wikipedia - 객체지향 프로그래밍>**\n",
        ">\n",
        "> 객체 지향 프로그래밍(영어: Object-Oriented Programming, OOP)은 컴퓨터 프로그래밍의 패러다임의 하나입니다. \n",
        ">\n",
        "> 객체 지향 프로그래밍은 컴퓨터 프로그램을 명령어의 목록으로 보는 시각에서 벗어나 여러 개의 독립된 단위, 즉 \"객체\"들의 모임으로 파악하고자 하는 것입니다.\n",
        "\n",
        "\n"
      ]
    },
    {
      "cell_type": "markdown",
      "id": "devoted-daily",
      "metadata": {
        "id": "devoted-daily"
      },
      "source": [
        "## 절차 중심 vs. 객체 중심\n",
        "\n",
        "> 프로그래밍 패러다임: 어떻게 프로그램을 작성할 것인가"
      ]
    },
    {
      "cell_type": "markdown",
      "id": "invalid-dimension",
      "metadata": {
        "id": "invalid-dimension"
      },
      "source": [
        "## 객체 중심의 장점\n",
        "\n",
        "\n",
        "**<wikipedia - 객체지향 프로그래밍>**\n",
        "> 객체 지향 프로그래밍은 프로그램을 유연하고 변경이 용이하게 만들기 때문에 대규모 소프트웨어 개발에 많이 사용됩니다. \n",
        ">\n",
        "> 또한 프로그래밍을 더 배우기 쉽게 하고 소프트웨어 개발과 보수를 간편하게 하며, 보다 직관적인 코드 분석을 가능하게 하는 장점을 갖고 있습니다.\n",
        "\n",
        "- 코드의 **직관성**\n",
        "\n",
        "- 활용의 **용이성**\n",
        "\n",
        "- 변경의 **유연성**"
      ]
    },
    {
      "cell_type": "markdown",
      "id": "liberal-north",
      "metadata": {
        "id": "liberal-north"
      },
      "source": [
        "## OOP 기초"
      ]
    },
    {
      "cell_type": "markdown",
      "id": "christian-marathon",
      "metadata": {
        "id": "christian-marathon"
      },
      "source": [
        "### 기본 문법\n",
        "\n",
        "```python\n",
        "# 클래스 정의\n",
        "class MyClass:\n",
        "    pass\n",
        "\n",
        "# 인스턴스 생성\n",
        "my_instance = MyClass()\n",
        "\n",
        "# 속성 접근\n",
        "my_instance.my_attribute\n",
        "\n",
        "# 메서드 호출\n",
        "my_instance.my_method()\n",
        "```"
      ]
    },
    {
      "cell_type": "markdown",
      "id": "minimal-generator",
      "metadata": {
        "id": "minimal-generator"
      },
      "source": [
        "### 클래스(class)\n",
        "\n",
        "- 클래스는 공통된 속성(attribute)과 조작법(method)을 가진 객체들의 분류입니다."
      ]
    },
    {
      "cell_type": "markdown",
      "id": "utility-brake",
      "metadata": {
        "id": "utility-brake"
      },
      "source": [
        "### 인스턴스(Instance)\n",
        "- 특정 클래스(class)의 실제 데이터 예시(instance)입니다. \n",
        "- 파이썬에서 모든 것은 객체이고, **모든 객체는 특정 클래스의 인스턴스**입니다.\n",
        "\n",
        "```python\n",
        "# Person 클래스\n",
        "class Person:\n",
        "    pass\n",
        "\n",
        "# ssafykim은 Person 클래스의 인스턴스\n",
        "ssafykim = Person()\n",
        "```"
      ]
    },
    {
      "cell_type": "code",
      "execution_count": 1,
      "id": "joint-location",
      "metadata": {
        "id": "joint-location"
      },
      "outputs": [],
      "source": [
        "class Person:\n",
        "    pass"
      ]
    },
    {
      "cell_type": "code",
      "execution_count": 2,
      "id": "accurate-bulgarian",
      "metadata": {
        "id": "accurate-bulgarian"
      },
      "outputs": [],
      "source": [
        "# Person 클래스의 인스턴스를 만들어봅시다.\n",
        "\n",
        "daehyuck = Person()"
      ]
    },
    {
      "cell_type": "code",
      "execution_count": 3,
      "id": "virgin-immune",
      "metadata": {
        "colab": {
          "base_uri": "https://localhost:8080/"
        },
        "id": "virgin-immune",
        "outputId": "67ef9208-24c6-410a-c142-ab90641857fb"
      },
      "outputs": [
        {
          "output_type": "stream",
          "name": "stdout",
          "text": [
            "True\n"
          ]
        }
      ],
      "source": [
        "# ssafykim 변수에 담긴 인스턴스가 Person 클래스의 인스턴스인지 확인해봅시다.\n",
        "# isinstance 함수를 활용합니다.\n",
        "\n",
        "print(isinstance(daehyuck,Person))"
      ]
    },
    {
      "cell_type": "markdown",
      "id": "ruled-prior",
      "metadata": {
        "id": "ruled-prior"
      },
      "source": [
        "## 속성(attribute)과 메서드(method)\n",
        "\n",
        "객체의 속성(상태, 데이터)과 조작법(함수)을 명확히 구분해 봅시다.\n",
        "\n",
        "| type         | attributes       | methods                                |\n",
        "| -------------| ---------------- | -------------------------------------- |\n",
        "| `complex`    | `.real`, `.imag` |              _                          |\n",
        "| `str`        |       _          | `.capitalize()`, `.join()`, `.split()` |\n",
        "| `list`       |       _          | `.append()`, `.reverse()`, `.sort()`   |\n",
        "| `dict`       |       _          | `.keys()`, `.values()`, `.items()`     |\n"
      ]
    },
    {
      "cell_type": "markdown",
      "id": "incredible-aurora",
      "metadata": {
        "id": "incredible-aurora"
      },
      "source": [
        "### 속성(attribute)\n",
        "\n",
        "- 속성(attribute)은 객체(object)의 상태/데이터를 뜻합니다.\n",
        "\n",
        "\n",
        "**활용법**\n",
        "\n",
        "```python\n",
        "<객체>.<속성>\n",
        "```\n",
        "\n",
        "**예시**\n",
        "\n",
        "```python\n",
        "person.name\n",
        "```\n",
        "\n",
        "- `Person` 클래스의 객체들이 가지게 될 데이터를 활용해봅시다."
      ]
    },
    {
      "cell_type": "markdown",
      "id": "aerial-stomach",
      "metadata": {
        "id": "aerial-stomach"
      },
      "source": [
        "### 메서드(method)\n",
        "\n",
        "- 특정 객체가 할 수 있는 행위(behavior)를 뜻 합니다.\n",
        "\n",
        "**활용법**\n",
        "```python\n",
        "<객체>.<메서드>()\n",
        "```\n",
        "\n",
        "**예시**\n",
        "```python\n",
        "person.talk()\n",
        "person.eat()\n",
        "```\n",
        "\n",
        "- `Person` 클래스에 공통적으로 적용 가능한 함수인 `메서드`를 활용해봅시다."
      ]
    },
    {
      "cell_type": "markdown",
      "id": "impressive-sucking",
      "metadata": {
        "id": "impressive-sucking"
      },
      "source": [
        "# 인스턴스(instance)"
      ]
    },
    {
      "cell_type": "markdown",
      "id": "selective-deposit",
      "metadata": {
        "id": "selective-deposit"
      },
      "source": [
        "## 인스턴스(instance) 생성\n",
        "* 정의된 클래스(`class`)에 속하는 객체를 해당 클래스의 인스턴스(instance)라고 합니다.\n",
        "\n",
        "* `Person` 클래스의 인스턴스는 `Person()`을 호출함으로써 생성됩니다.\n",
        "\n",
        "* `type()` 함수를 통해 생성된 객체의 클래스를 확인할 수 있습니다.\n",
        "\n",
        "\n",
        "**활용법**\n",
        "\n",
        "\n",
        "```python\n",
        "# 인스턴스 = 클래스()\n",
        "person1 = Person()\n",
        "```\n",
        "\n",
        "- `person1`은 사용자가 정의한(user-defined) `Person`이라는 데이터 타입(data type)의 인스턴스입니다."
      ]
    },
    {
      "cell_type": "code",
      "execution_count": 4,
      "id": "a70cb0bc",
      "metadata": {
        "id": "a70cb0bc"
      },
      "outputs": [],
      "source": [
        "class Person:\n",
        "    pass"
      ]
    },
    {
      "cell_type": "code",
      "execution_count": 5,
      "id": "closed-disney",
      "metadata": {
        "colab": {
          "base_uri": "https://localhost:8080/"
        },
        "id": "closed-disney",
        "outputId": "d8ee659f-7ec8-4f24-d0d4-1f0a1a2b0253"
      },
      "outputs": [
        {
          "output_type": "stream",
          "name": "stdout",
          "text": [
            "<class '__main__.Person'>\n",
            "<class '__main__.Person'>\n"
          ]
        }
      ],
      "source": [
        "# Person 클래스의 인스턴스 p1과 p2를 생성해봅시다.\n",
        "# 두 인스턴스의 type을 출력해보세요.\n",
        "\n",
        "p1 = Person()\n",
        "p2 = Person()\n",
        "\n",
        "print(type(p1))\n",
        "print(type(p2))"
      ]
    },
    {
      "cell_type": "markdown",
      "id": "sophisticated-remainder",
      "metadata": {
        "id": "sophisticated-remainder"
      },
      "source": [
        "## 인스턴스 변수\n",
        "* 인스턴스의 속성(attribute)\n",
        "* 각 인스턴스들의 고유한 데이터\n",
        "* 생성자 메서드에서 `self.변수명`로 정의(생성자 메서드는 뒤에 학습합니다.)\n",
        "* 인스턴스가 생성된 이후 `인스턴스.변수명`로 접근 및 할당\n",
        "\n",
        "---\n",
        "**활용법**\n",
        "    \n",
        "```python\n",
        "class Person:\n",
        "    pass\n",
        "\n",
        "p1 = Person()\n",
        "p1.name = 'jack'\n",
        "p1.age = 25\n",
        "```"
      ]
    },
    {
      "cell_type": "code",
      "execution_count": 6,
      "id": "seven-edward",
      "metadata": {
        "id": "seven-edward"
      },
      "outputs": [],
      "source": [
        "# 위와 같은 Person 클래스를 똑같이 정의해봅시다.\n",
        "\n",
        "class Person:\n",
        "    \n",
        "    pass"
      ]
    },
    {
      "cell_type": "code",
      "execution_count": 7,
      "id": "involved-zimbabwe",
      "metadata": {
        "id": "involved-zimbabwe"
      },
      "outputs": [],
      "source": [
        "# Person 클래스의 인스턴스를 생성하고, me 변수에 저장합니다.\n",
        "# me의 인스턴스 변수 name을 본인 이름으로 설정합니다.\n",
        "\n",
        "me = Person()\n",
        "\n",
        "me.name = 'yundaehyuck'"
      ]
    },
    {
      "cell_type": "code",
      "execution_count": 8,
      "id": "brilliant-manufacturer",
      "metadata": {
        "colab": {
          "base_uri": "https://localhost:8080/"
        },
        "id": "brilliant-manufacturer",
        "outputId": "6d810209-57a2-4b5c-8075-8592b5ef6657"
      },
      "outputs": [
        {
          "output_type": "stream",
          "name": "stdout",
          "text": [
            "yundaehyuck\n"
          ]
        }
      ],
      "source": [
        "# me 인스턴스의 name 변수에 접근하여 값을 출력해봅시다.\n",
        "\n",
        "print(me.name)"
      ]
    },
    {
      "cell_type": "code",
      "execution_count": 9,
      "id": "adjacent-japan",
      "metadata": {
        "colab": {
          "base_uri": "https://localhost:8080/"
        },
        "id": "adjacent-japan",
        "outputId": "c91130f6-70bf-4c92-8819-ecb6df82876d"
      },
      "outputs": [
        {
          "output_type": "stream",
          "name": "stdout",
          "text": [
            "taeyeon\n"
          ]
        }
      ],
      "source": [
        "# me 인스턴스의 name 변수의 값을 새로운 이름으로 할당하고 다시 출력해봅시다.\n",
        "\n",
        "me.name = 'taeyeon'\n",
        "\n",
        "print(me.name)"
      ]
    },
    {
      "cell_type": "markdown",
      "id": "soviet-yemen",
      "metadata": {
        "id": "soviet-yemen"
      },
      "source": [
        "## 인스턴스 메서드\n",
        "\n",
        "> 메서드란?\n",
        "> - 특정 데이터 타입(또는 클래스)의 객체에 공통적으로 적용 가능한 행위(behavior)들을 의미합니다.\n",
        "\n",
        "* 인스턴스 메서드는 인스턴스가 사용할 메서드에 해당합니다.\n",
        "* 클래스 내부에 정의되는 메서드는 기본적으로 인스턴스 메서드로 생성됩니다.\n",
        "* **메서드 호출시, 첫번째 인자로 인스턴스 자기자신에 해당하는 `self`가 전달됩니다**\n",
        "\n",
        "**활용법**\n",
        "\n",
        "```python\n",
        "class MyClass:\n",
        "    def instance_method(self, arg1, arg2, ...):\n",
        "        ...\n",
        "\n",
        "my_instance = MyClass()\n",
        "# 인스턴스 생성 후 메서드를 호출하면 자동으로 첫 번째 인자로 인스턴스(my_instance)가 들어갑니다.\n",
        "my_instance.instance_method(.., ..)  \n",
        "```"
      ]
    },
    {
      "cell_type": "code",
      "execution_count": null,
      "id": "constant-backing",
      "metadata": {
        "id": "constant-backing"
      },
      "outputs": [],
      "source": [
        "# 위의 활용법을 참고하여 Person 클래스와 talk() 메서드를 정의했습니다."
      ]
    },
    {
      "cell_type": "code",
      "execution_count": 10,
      "id": "acute-inclusion",
      "metadata": {
        "id": "acute-inclusion"
      },
      "outputs": [],
      "source": [
        "class Person:\n",
        "    def talk(self):\n",
        "        print('안녕!')"
      ]
    },
    {
      "cell_type": "code",
      "execution_count": 11,
      "id": "mighty-calculator",
      "metadata": {
        "colab": {
          "base_uri": "https://localhost:8080/"
        },
        "id": "mighty-calculator",
        "outputId": "8180397e-ed95-4706-d7e9-12b83c4211c7"
      },
      "outputs": [
        {
          "output_type": "stream",
          "name": "stdout",
          "text": [
            "안녕!\n",
            "안녕!\n"
          ]
        }
      ],
      "source": [
        "# Person 클래스의 인스턴스 p1, p2를 생성하고 각각 talk 메서드를 실행해봅시다.\n",
        "\n",
        "p1 = Person()\n",
        "\n",
        "p2 = Person()\n",
        "\n",
        "p1.talk()\n",
        "p2.talk()"
      ]
    },
    {
      "cell_type": "markdown",
      "id": "basic-punch",
      "metadata": {
        "id": "basic-punch"
      },
      "source": [
        "- 메서드도 함수이기 때문에 추가적인 인자를 받을 수 있습니다.\n",
        "- `Person` 클래스를 재정의 하며 `talk` 메서드를 정의하고, `eat` 메서드를 추가로 정의해봅시다.\n",
        "- `eat` 메서드는 `food` 라는 이름의 인자를 받아서 출력합니다.\n",
        "- 추가적인 인자를 받기 위해서는 아래와 같은 모습으로 코드가 작성되어야 합니다.\n",
        "\n",
        "```python\n",
        "class MyClass:\n",
        "    def method1(self):\n",
        "        print('Hi')\n",
        "    \n",
        "    def method2(self, arg):\n",
        "        print(arg)\n",
        "```"
      ]
    },
    {
      "cell_type": "code",
      "execution_count": 12,
      "id": "occupational-waste",
      "metadata": {
        "id": "occupational-waste"
      },
      "outputs": [],
      "source": [
        "class Person:\n",
        "    def talk(self):\n",
        "        print('안녕')\n",
        "    \n",
        "    def eat(self, food):\n",
        "        print(f'냠냠 {food}')"
      ]
    },
    {
      "cell_type": "code",
      "execution_count": 14,
      "id": "desirable-johns",
      "metadata": {
        "colab": {
          "base_uri": "https://localhost:8080/"
        },
        "id": "desirable-johns",
        "outputId": "499ca124-d7ad-42ff-d3ad-0310bcf1faba"
      },
      "outputs": [
        {
          "output_type": "stream",
          "name": "stdout",
          "text": [
            "냠냠 토마토\n"
          ]
        }
      ],
      "source": [
        "# Person 클래스의 인스턴스 p1을 생성하고 eat() 메서드를 인자와 함께 호출해봅시다.\n",
        "\n",
        "p1 = Person()\n",
        "\n",
        "p1.eat('토마토')"
      ]
    },
    {
      "cell_type": "code",
      "execution_count": 15,
      "id": "standard-large",
      "metadata": {
        "id": "standard-large"
      },
      "outputs": [],
      "source": [
        "# 기본 인자, 가변 인자 리스트 등 함수의 인자와 동일하게 매개변수를 정의할 수 있습니다.\n",
        "# Person 클래스를 재정의하며, eat() 메서드를 정의할 때 food 인자의 기본 값을 원하는 음식으로 설정해봅시다.\n",
        "\n",
        "class Person:\n",
        "    \n",
        "    def talk(self):\n",
        "        \n",
        "        print('안녕')\n",
        "    \n",
        "    def eat(self, food = '토마토'):\n",
        "        \n",
        "        print(f'냠냠 {food}')"
      ]
    },
    {
      "cell_type": "code",
      "execution_count": 16,
      "id": "opposite-annual",
      "metadata": {
        "colab": {
          "base_uri": "https://localhost:8080/"
        },
        "id": "opposite-annual",
        "outputId": "114a702e-515d-4c7e-eb2d-9fa63696bdc2"
      },
      "outputs": [
        {
          "output_type": "stream",
          "name": "stdout",
          "text": [
            "냠냠 딸기\n",
            "냠냠 토마토\n"
          ]
        }
      ],
      "source": [
        "# Person 클래스의 인스턴스 p1을 생성하고, eat() 메서드를 인자 있이/없이 두번 호출해봅시다.\n",
        "\n",
        "p1 = Person()\n",
        "\n",
        "p1.eat('딸기')\n",
        "p1.eat()"
      ]
    },
    {
      "cell_type": "markdown",
      "id": "meaningful-princess",
      "metadata": {
        "id": "meaningful-princess"
      },
      "source": [
        "##  `self` \n",
        "\n",
        "> 인스턴스 자신(self)\n",
        "\n",
        "* Python에서 인스턴스 메서드는 **호출 시 첫번째 인자로 인스턴스 자신이 전달**되게 설계되었습니다. \n",
        "\n",
        "\n",
        "* 보통 매개변수명으로 `self`를 첫번째 인자로 정의 (다른 이름도 가능하지만 추천하지는 않습니다.)"
      ]
    },
    {
      "cell_type": "code",
      "execution_count": 17,
      "id": "mediterranean-eligibility",
      "metadata": {
        "id": "mediterranean-eligibility"
      },
      "outputs": [],
      "source": [
        "# 아래의 Person 클래스를 통해서 self가 무엇인지 확인해봅시다.\n",
        "class Person:\n",
        "    def test(self):\n",
        "        print(self)"
      ]
    },
    {
      "cell_type": "code",
      "execution_count": 18,
      "id": "recreational-price",
      "metadata": {
        "colab": {
          "base_uri": "https://localhost:8080/"
        },
        "id": "recreational-price",
        "outputId": "cbc9872d-5c09-4004-e3ee-960600e514d5"
      },
      "outputs": [
        {
          "output_type": "stream",
          "name": "stdout",
          "text": [
            "<__main__.Person object at 0x7f30b4da61d0>\n"
          ]
        }
      ],
      "source": [
        "# Person 클래스의 인스턴스 p1을 생성하고 test() 메서드를 호출하여 self를 확인해봅시다.\n",
        "\n",
        "p1 = Person()\n",
        "\n",
        "p1.test()"
      ]
    },
    {
      "cell_type": "code",
      "execution_count": 19,
      "id": "sublime-department",
      "metadata": {
        "colab": {
          "base_uri": "https://localhost:8080/"
        },
        "id": "sublime-department",
        "outputId": "0a7b2b39-4ffa-4712-ed83-9d4738b6a2ca"
      },
      "outputs": [
        {
          "output_type": "stream",
          "name": "stdout",
          "text": [
            "<__main__.Person object at 0x7f30b4da61d0>\n"
          ]
        }
      ],
      "source": [
        "# p1을 출력하여 비교해봅시다.\n",
        "\n",
        "print(p1)"
      ]
    },
    {
      "cell_type": "markdown",
      "id": "soviet-attempt",
      "metadata": {
        "id": "soviet-attempt"
      },
      "source": [
        "### 생성자(constructor) 메서드\n",
        "- 인스턴스 객체가 생성될 때 자동으로 호출되는 함수입니다.\n",
        "- 반드시 `__init__` 이라는 이름으로 정의합니다.\n",
        "\n",
        "---\n",
        "**활용법**\n",
        "\n",
        "```python\n",
        "class MyClass:\n",
        "    def __init__(self):\n",
        "        print('생성될 때 자동으로 호출되는 메서드입니다.')\n",
        "```\n",
        "\n",
        "- 생성자를 활용하면 인스턴스가 생성될 때 인스턴스의 속성을 정의할 수 있습니다.\n"
      ]
    },
    {
      "cell_type": "code",
      "execution_count": 20,
      "id": "australian-article",
      "metadata": {
        "id": "australian-article"
      },
      "outputs": [],
      "source": [
        "class Person:\n",
        "    def __init__(self, name):\n",
        "        self.name = name\n",
        "    \n",
        "    def talk(self):\n",
        "        print(f'I am {self.name}')"
      ]
    },
    {
      "cell_type": "code",
      "execution_count": 21,
      "id": "incomplete-nepal",
      "metadata": {
        "id": "incomplete-nepal"
      },
      "outputs": [],
      "source": [
        "# 자신의 이름을 인자로 넘기며 Person의 인스턴스 p1를 생성해봅시다.\n",
        "\n",
        "p1 = Person('daehyuck')"
      ]
    },
    {
      "cell_type": "code",
      "execution_count": 22,
      "id": "traditional-ecology",
      "metadata": {
        "colab": {
          "base_uri": "https://localhost:8080/"
        },
        "id": "traditional-ecology",
        "outputId": "3819e991-996f-440f-93e7-8d4bacacef79"
      },
      "outputs": [
        {
          "output_type": "stream",
          "name": "stdout",
          "text": [
            "I am daehyuck\n"
          ]
        }
      ],
      "source": [
        "# talk() 메서드를 호출해 봅시다.\n",
        "\n",
        "p1.talk()"
      ]
    },
    {
      "cell_type": "code",
      "execution_count": 24,
      "id": "hungry-mistress",
      "metadata": {
        "colab": {
          "base_uri": "https://localhost:8080/"
        },
        "id": "hungry-mistress",
        "outputId": "39bc2825-6c6c-4e85-e0a2-1024150de19d"
      },
      "outputs": [
        {
          "output_type": "stream",
          "name": "stdout",
          "text": [
            "I am daehyuck\n"
          ]
        }
      ],
      "source": [
        "# talk 메서드를 클래스에서 메서드를 실행해봅시다. self는 정말 빈자리일까요?\n",
        "\n",
        "#Person.talk() #self인자를 받지 못하니 에러\n",
        "\n",
        "Person.talk(p1) #self인자로 p1을 받을 수 있다"
      ]
    },
    {
      "cell_type": "markdown",
      "id": "rolled-junior",
      "metadata": {
        "id": "rolled-junior"
      },
      "source": [
        "### 소멸자(destructor) 메서드\n",
        "- 인스턴스 객체가 소멸(파괴)되기 직전에 자동으로 호출되는 함수입니다.\n",
        "- 반드시 `__del__` 이라는 이름으로 정의합니다.\n",
        "\n",
        "---\n",
        "\n",
        "**활용법**\n",
        "\n",
        "```python\n",
        "# 소멸자 정의\n",
        "def __del__(self):\n",
        "    print('소멸될 때 자동으로 호출되는 메서드입니다.')\n",
        "    \n",
        "# 소멸자 활용\n",
        "del 인스턴스\n",
        "```"
      ]
    },
    {
      "cell_type": "code",
      "execution_count": null,
      "id": "basic-error",
      "metadata": {
        "id": "basic-error"
      },
      "outputs": [],
      "source": [
        "# 생성자와 소멸자를 만들어봅시다.\n",
        "# 생성자 메서드는 __init__으로 정의하고,\n",
        "# 소멸자 메서드는 __del__라는 이름으로 정의합니다.\n"
      ]
    },
    {
      "cell_type": "code",
      "execution_count": 50,
      "id": "dressed-minority",
      "metadata": {
        "id": "dressed-minority"
      },
      "outputs": [],
      "source": [
        "# Person 클래스의 인스턴스를 만들고 person1 변수에 할당합니다.\n",
        "\n",
        "class Person():\n",
        "    \n",
        "    def __init__(self,name):\n",
        "        \n",
        "        self.name = name\n",
        "    \n",
        "    def __del__(self):\n",
        "        \n",
        "        print(\"소멸될 때 자동으로 호출되는 메서드입니다.\")\n",
        "\n",
        "person1 = Person('daehyuck')\n",
        "\n",
        "#del person1"
      ]
    },
    {
      "cell_type": "code",
      "execution_count": 51,
      "id": "happy-friend",
      "metadata": {
        "colab": {
          "base_uri": "https://localhost:8080/"
        },
        "id": "happy-friend",
        "outputId": "322ae3d9-f935-4868-c80d-d8cdde1171e4"
      },
      "outputs": [
        {
          "output_type": "stream",
          "name": "stdout",
          "text": [
            "소멸될 때 자동으로 호출되는 메서드입니다.\n"
          ]
        }
      ],
      "source": [
        "# del 키워드를 이용하여 소멸자를 활용해봅시다. \n",
        "\n",
        "del person1"
      ]
    },
    {
      "cell_type": "markdown",
      "id": "affecting-illness",
      "metadata": {
        "id": "affecting-illness"
      },
      "source": [
        "## 속성(Attribute) 정의\n",
        "\n",
        "- 특정 데이터 타입(또는 클래스)의 객체들이 가지게 될 상태/데이터를 의미합니다.\n",
        "\n",
        "- `self.<속성명> = <값>` 혹은 `<인스턴스>.<속성명> = <값>`으로 설정합니다\n",
        "\n",
        "---\n",
        "**활용법**\n",
        "\n",
        "```python\n",
        "class Person:\n",
        "    def __init__(self, name):\n",
        "        self.name = name\n",
        "        \n",
        "    def talk(self):\n",
        "        print(f'안녕, 나는 {self.name}')\n",
        "```"
      ]
    },
    {
      "cell_type": "code",
      "execution_count": 57,
      "id": "mediterranean-stake",
      "metadata": {
        "id": "mediterranean-stake"
      },
      "outputs": [],
      "source": [
        "# 인스턴스의 변수, 즉 개별 인스턴스들의 속성 데이터를 초기화와 동시에 정의해봅시다.\n",
        "# 아래 Person 클래스는 name이라는 속성이 정의되어 있습니다.\n",
        "\n",
        "class Person:\n",
        "    def __init__(self, name):\n",
        "        self.name = name\n",
        "        \n",
        "    def talk(self):\n",
        "        print(f'안녕, 나는 {self.name}')"
      ]
    },
    {
      "cell_type": "code",
      "execution_count": null,
      "id": "abroad-canon",
      "metadata": {
        "id": "abroad-canon"
      },
      "outputs": [],
      "source": [
        "# 속성 정의는 꼭 생성자(__init__) 메서드에 작성해야 하지는 않지만, 일반적으로 생성자 메서드에 많이 작성합니다.\n",
        "# 생성자 메서드를 통해 생성과 동시에 인스턴스 속성에 값을 할당할 수 있기 때문입니다.\n",
        "# 새로운 Person의 인스턴스 p1을 이름과 함께 초기화 하고, 이름을 출력해봅시다."
      ]
    },
    {
      "cell_type": "code",
      "execution_count": 58,
      "id": "front-victorian",
      "metadata": {
        "colab": {
          "base_uri": "https://localhost:8080/"
        },
        "id": "front-victorian",
        "outputId": "60f25800-61f5-40f5-c592-d5d622e88af1"
      },
      "outputs": [
        {
          "output_type": "stream",
          "name": "stdout",
          "text": [
            "daehyuck\n"
          ]
        }
      ],
      "source": [
        "p1 = Person('daehyuck')\n",
        "\n",
        "print(p1.name)"
      ]
    },
    {
      "cell_type": "code",
      "execution_count": 59,
      "id": "spectacular-kazakhstan",
      "metadata": {
        "colab": {
          "base_uri": "https://localhost:8080/"
        },
        "id": "spectacular-kazakhstan",
        "outputId": "a0aea9be-f851-4c97-caf3-598027fa9bc7"
      },
      "outputs": [
        {
          "output_type": "stream",
          "name": "stdout",
          "text": [
            "안녕, 나는 taeyeon\n"
          ]
        }
      ],
      "source": [
        "# 인스턴스 속성의 값을 변경할 수도 있습니다.\n",
        "# 위에서 생성한 p1 인스턴스의 name을 다른 값으로 할당해보고, talk 메서드를 실행해봅시다.\n",
        "\n",
        "p1.name = 'taeyeon'\n",
        "\n",
        "p1.talk()"
      ]
    },
    {
      "cell_type": "code",
      "execution_count": 55,
      "id": "alive-lending",
      "metadata": {
        "colab": {
          "base_uri": "https://localhost:8080/",
          "height": 211
        },
        "id": "alive-lending",
        "outputId": "98b027d7-5d40-47a6-86bd-e6255018939b"
      },
      "outputs": [
        {
          "output_type": "error",
          "ename": "TypeError",
          "evalue": "ignored",
          "traceback": [
            "\u001b[0;31m---------------------------------------------------------------------------\u001b[0m",
            "\u001b[0;31mTypeError\u001b[0m                                 Traceback (most recent call last)",
            "\u001b[0;32m<ipython-input-55-03b253c0b880>\u001b[0m in \u001b[0;36m<module>\u001b[0;34m()\u001b[0m\n\u001b[1;32m      2\u001b[0m \u001b[0;31m# name인자 없이 새로운 Person의 인스턴스 p1을 생성해봅시다.\u001b[0m\u001b[0;34m\u001b[0m\u001b[0;34m\u001b[0m\u001b[0;34m\u001b[0m\u001b[0m\n\u001b[1;32m      3\u001b[0m \u001b[0;34m\u001b[0m\u001b[0m\n\u001b[0;32m----> 4\u001b[0;31m \u001b[0mp1\u001b[0m \u001b[0;34m=\u001b[0m \u001b[0mPerson\u001b[0m\u001b[0;34m(\u001b[0m\u001b[0;34m)\u001b[0m\u001b[0;34m\u001b[0m\u001b[0;34m\u001b[0m\u001b[0m\n\u001b[0m",
            "\u001b[0;31mTypeError\u001b[0m: __init__() missing 1 required positional argument: 'name'"
          ]
        }
      ],
      "source": [
        "# 생성자 메서드도 함수이기 때문에, 인자의 개수가 맞지 않으면 에러가 발생합니다.\n",
        "# name인자 없이 새로운 Person의 인스턴스 p1을 생성해봅시다.\n",
        "\n",
        "p1 = Person()"
      ]
    },
    {
      "cell_type": "code",
      "execution_count": 60,
      "id": "square-fundamental",
      "metadata": {
        "id": "square-fundamental"
      },
      "outputs": [],
      "source": [
        "# 위에서 생성한 인스턴스 p1을 del 연산자를 사용해 소멸시켜봅시다.\n",
        "\n",
        "del p1"
      ]
    },
    {
      "cell_type": "markdown",
      "id": "checked-shadow",
      "metadata": {
        "id": "checked-shadow"
      },
      "source": [
        "## 매직(스페셜) 메서드\n",
        "- 더블언더스코어(`__`)가 있는 메서드는 특별한 일을 하기 위해 만들어진 메서드이기 때문에 `스페셜 메서드` 혹은 `매직 메서드`라고 불립니다.\n",
        "- 매직(스페셜) 메서드 형태: `__someting__`\n",
        "```python\n",
        " '__str__(self)',\n",
        " '__len__(self)',\n",
        " '__repr__(self)',\n",
        " '__lt__(self, other)',\n",
        " '__le__(self, other)',\n",
        " '__eq__(self, other)',\n",
        " '__ne__(self, other)',\n",
        " '__gt__(self, other)',\n",
        " '__ge__(self, other)',\n",
        "```"
      ]
    },
    {
      "cell_type": "markdown",
      "id": "important-residence",
      "metadata": {
        "id": "important-residence"
      },
      "source": [
        "### `__str__(self)` \n",
        "\n",
        "```python\n",
        "class Person:\n",
        "    def __str__(self):\n",
        "        return '객체 출력(print)시 보여줄 내용'\n",
        "```\n",
        "\n",
        "- 특정 객체를 출력(`print()`) 할 때 보여줄 내용을 정의할 수 있습니다."
      ]
    },
    {
      "cell_type": "code",
      "execution_count": 61,
      "id": "attempted-explosion",
      "metadata": {
        "colab": {
          "base_uri": "https://localhost:8080/"
        },
        "id": "attempted-explosion",
        "outputId": "bfd33df4-8b90-4c1c-9909-06ce1131336b"
      },
      "outputs": [
        {
          "output_type": "execute_result",
          "data": {
            "text/plain": [
              "['__add__',\n",
              " '__class__',\n",
              " '__contains__',\n",
              " '__delattr__',\n",
              " '__dir__',\n",
              " '__doc__',\n",
              " '__eq__',\n",
              " '__format__',\n",
              " '__ge__',\n",
              " '__getattribute__',\n",
              " '__getitem__',\n",
              " '__getnewargs__',\n",
              " '__gt__',\n",
              " '__hash__',\n",
              " '__init__',\n",
              " '__init_subclass__',\n",
              " '__iter__',\n",
              " '__le__',\n",
              " '__len__',\n",
              " '__lt__',\n",
              " '__mod__',\n",
              " '__mul__',\n",
              " '__ne__',\n",
              " '__new__',\n",
              " '__reduce__',\n",
              " '__reduce_ex__',\n",
              " '__repr__',\n",
              " '__rmod__',\n",
              " '__rmul__',\n",
              " '__setattr__',\n",
              " '__sizeof__',\n",
              " '__str__',\n",
              " '__subclasshook__',\n",
              " 'capitalize',\n",
              " 'casefold',\n",
              " 'center',\n",
              " 'count',\n",
              " 'encode',\n",
              " 'endswith',\n",
              " 'expandtabs',\n",
              " 'find',\n",
              " 'format',\n",
              " 'format_map',\n",
              " 'index',\n",
              " 'isalnum',\n",
              " 'isalpha',\n",
              " 'isascii',\n",
              " 'isdecimal',\n",
              " 'isdigit',\n",
              " 'isidentifier',\n",
              " 'islower',\n",
              " 'isnumeric',\n",
              " 'isprintable',\n",
              " 'isspace',\n",
              " 'istitle',\n",
              " 'isupper',\n",
              " 'join',\n",
              " 'ljust',\n",
              " 'lower',\n",
              " 'lstrip',\n",
              " 'maketrans',\n",
              " 'partition',\n",
              " 'replace',\n",
              " 'rfind',\n",
              " 'rindex',\n",
              " 'rjust',\n",
              " 'rpartition',\n",
              " 'rsplit',\n",
              " 'rstrip',\n",
              " 'split',\n",
              " 'splitlines',\n",
              " 'startswith',\n",
              " 'strip',\n",
              " 'swapcase',\n",
              " 'title',\n",
              " 'translate',\n",
              " 'upper',\n",
              " 'zfill']"
            ]
          },
          "metadata": {},
          "execution_count": 61
        }
      ],
      "source": [
        "# dir() 함수를 통해 문자열 인스턴스가 활용 가능한 메서드를 확인해봅시다.\n",
        "# 아래 코드를 실행시켜 확인해보세요.\n",
        "\n",
        "dir('')"
      ]
    },
    {
      "cell_type": "code",
      "execution_count": 66,
      "id": "weird-there",
      "metadata": {
        "id": "weird-there"
      },
      "outputs": [],
      "source": [
        "# Person 클래스를 생성했습니다.\n",
        "\n",
        "class Person:\n",
        "    def __init__(self, name):\n",
        "        self.name = name"
      ]
    },
    {
      "cell_type": "code",
      "execution_count": 67,
      "id": "vocational-timer",
      "metadata": {
        "colab": {
          "base_uri": "https://localhost:8080/"
        },
        "id": "vocational-timer",
        "outputId": "b45f7be0-5098-4737-d2fc-8c0905cc2cb0"
      },
      "outputs": [
        {
          "output_type": "stream",
          "name": "stdout",
          "text": [
            "<__main__.Person object at 0x7f30b4dcad50>\n"
          ]
        }
      ],
      "source": [
        "# Person의 인스턴스 p1을 생성 후 출력해봅시다.\n",
        "\n",
        "p1 = Person('daehyuck')\n",
        "\n",
        "print(p1)"
      ]
    },
    {
      "cell_type": "code",
      "execution_count": 68,
      "id": "comparable-keeping",
      "metadata": {
        "id": "comparable-keeping"
      },
      "outputs": [],
      "source": [
        "# __str__() 매직메서드를 아래와 같이 정의했습니다.\n",
        "\n",
        "class Person:\n",
        "    def __init__(self, name):\n",
        "        self.name = name\n",
        "    \n",
        "    def __str__(self):\n",
        "        return f'나는 {self.name}'"
      ]
    },
    {
      "cell_type": "code",
      "execution_count": 69,
      "id": "reasonable-cornell",
      "metadata": {
        "colab": {
          "base_uri": "https://localhost:8080/"
        },
        "id": "reasonable-cornell",
        "outputId": "66a65263-f739-451e-c0fd-5fd519dedb9c"
      },
      "outputs": [
        {
          "output_type": "stream",
          "name": "stdout",
          "text": [
            "나는 taeyeon\n"
          ]
        }
      ],
      "source": [
        "# 새로운 인스턴스 p2를 생성후 p2를 출력해봅시다.\n",
        "\n",
        "p2 = Person('taeyeon')\n",
        "\n",
        "print(p2)"
      ]
    },
    {
      "cell_type": "markdown",
      "id": "african-topic",
      "metadata": {
        "id": "african-topic"
      },
      "source": [
        "## 실습\n",
        "\n",
        "> 매직메서드를 활용하여 인스턴스간의 비교연산(`>`, `==`)이 가능하도록 매직메서드를 정의해봅시다.\n",
        "1. `Person` 클래스를 정의합니다. \n",
        "2. 인스턴스 속성은 문자열 `name` 과 정수 `age`입니다. 두 속성 모두 생성자 함수에서 설정합니다.\n",
        "3. 인스턴스간 `age`의 대/소비교가 가능해야합니다.\n",
        "4.  `__gt__`메서드와 `__eq__`메서드를 활용합니다."
      ]
    },
    {
      "cell_type": "code",
      "execution_count": 71,
      "id": "healthy-solomon",
      "metadata": {
        "id": "healthy-solomon"
      },
      "outputs": [],
      "source": [
        "# 아래 셀의 코드가 정상적으로 동작하도록 Person클래스를 정의해봅시다.\n",
        "\n",
        "class Person():\n",
        "    \n",
        "    def __init__(self,name,age):\n",
        "        \n",
        "        self.name = name\n",
        "        self.age = age\n",
        "    \n",
        "\n",
        "    def __gt__(self,other):\n",
        "\n",
        "        return self.age > other.age\n",
        "    \n",
        "    def __eq__(self,other):\n",
        "        \n",
        "        return self.age == other.age"
      ]
    },
    {
      "cell_type": "code",
      "execution_count": 72,
      "id": "charged-reaction",
      "metadata": {
        "colab": {
          "base_uri": "https://localhost:8080/"
        },
        "id": "charged-reaction",
        "outputId": "de10048c-a12b-407c-8e39-cd3db1975688"
      },
      "outputs": [
        {
          "output_type": "stream",
          "name": "stdout",
          "text": [
            "False\n",
            "True\n",
            "False\n"
          ]
        }
      ],
      "source": [
        "p1 = Person('1', 1)\n",
        "p2 = Person('2', 2)\n",
        "p3 = Person('3', 1)\n",
        "\n",
        "print(p1 > p2)\n",
        "print(p1 == p3)\n",
        "print(p1 == p2)"
      ]
    },
    {
      "cell_type": "markdown",
      "id": "bearing-mistake",
      "metadata": {
        "id": "bearing-mistake"
      },
      "source": [
        "# 클래스 (class)\n",
        "\n",
        "> `class`: 객체들의 분류(class)를 정의할 때 쓰이는 키워드\n"
      ]
    },
    {
      "cell_type": "markdown",
      "id": "regulated-tribe",
      "metadata": {
        "id": "regulated-tribe"
      },
      "source": [
        "## 클래스(Class) 생성\n",
        "\n",
        "* 클래스 생성은 `class` 키워드와 정의하고자 하는 `<클래스의 이름>`으로 가능합니다.\n",
        "\n",
        "* `<클래스의 이름>`은 `PascalCase`로 정의합니다.\n",
        "\n",
        "* 클래스 내부에는 데이터와 함수를 정의할 수 있고, 이때 데이터는 **속성(attribute)** 정의된 함수는 **메서드(method)**로 부릅니다.\n",
        "\n",
        "---\n",
        "\n",
        "**활용법**\n",
        "\n",
        "```python\n",
        "class <클래스이름>:\n",
        "    <statement>\n",
        "```\n",
        "\n",
        "```python\n",
        "class ClassName:\n",
        "    statement\n",
        "```"
      ]
    },
    {
      "cell_type": "code",
      "execution_count": null,
      "id": "welcome-possibility",
      "metadata": {
        "id": "welcome-possibility"
      },
      "outputs": [],
      "source": [
        "# Person 이라는 이름의 class를 정의해봅시다. \n",
        "# 아래와 같이 \"\"\"(docstring)을 통해 클래스에 대한 설명(doc)도 함께 정의해 봅시다."
      ]
    },
    {
      "cell_type": "markdown",
      "id": "creative-algeria",
      "metadata": {
        "id": "creative-algeria"
      },
      "source": [
        "```python\n",
        "class ClassName:\n",
        "    \"\"\"\n",
        "    이것은 ClassName 클래스입니다.\n",
        "    \"\"\"\n",
        "```"
      ]
    },
    {
      "cell_type": "code",
      "execution_count": 73,
      "id": "pregnant-explosion",
      "metadata": {
        "id": "pregnant-explosion"
      },
      "outputs": [],
      "source": [
        "# Person 클래스를 docstring과 함께 정의해 봅시다.\n",
        "class Person:\n",
        "    \"\"\"\n",
        "    이것은 Person 클래스(class)입니다.\n",
        "    \"\"\""
      ]
    },
    {
      "cell_type": "code",
      "execution_count": 80,
      "id": "transsexual-graph",
      "metadata": {
        "colab": {
          "base_uri": "https://localhost:8080/"
        },
        "id": "transsexual-graph",
        "outputId": "bc1b5959-c46d-46ab-c4e3-b72f58d00fad"
      },
      "outputs": [
        {
          "output_type": "stream",
          "name": "stdout",
          "text": [
            "\n",
            "    이것은 Person 클래스(class)입니다.\n",
            "    \n"
          ]
        }
      ],
      "source": [
        "# 앞서 정의한 Person 클래스의 docstring을 출력해봅시다.\n",
        "\n",
        "#__doc__에 docstring이 저장되어있다\n",
        "\n",
        "print(Person.__doc__)"
      ]
    },
    {
      "cell_type": "markdown",
      "id": "approximate-university",
      "metadata": {
        "id": "approximate-university"
      },
      "source": [
        "## 클래스 변수\n",
        "* 클래스의 속성(attribute)\n",
        "* 모든 인스턴스가 공유\n",
        "* 클래스 선언 내부에서 정의\n",
        "* `클래스.변수명`으로 접근 및 할당\n",
        "\n",
        "---\n",
        "\n",
        "**활용법**\n",
        "```python\n",
        "class Circle:\n",
        "    pi = 3.14\n",
        "    \n",
        "print(Circle.pi)\n",
        "```"
      ]
    },
    {
      "cell_type": "code",
      "execution_count": 81,
      "id": "opened-reply",
      "metadata": {
        "id": "opened-reply"
      },
      "outputs": [],
      "source": [
        "# 위의 예시 코드대로 Circle 클래스를 생성해봅시다.\n",
        "\n",
        "class Circle:\n",
        "    \n",
        "    pi = 3.14"
      ]
    },
    {
      "cell_type": "code",
      "execution_count": null,
      "id": "sixth-capture",
      "metadata": {
        "id": "sixth-capture"
      },
      "outputs": [],
      "source": [
        "# Circle 클래스의 인스턴스 c1, c2를 생성해봅시다.\n",
        "\n"
      ]
    },
    {
      "cell_type": "code",
      "execution_count": 82,
      "id": "robust-alliance",
      "metadata": {
        "id": "robust-alliance"
      },
      "outputs": [],
      "source": [
        "c1 = Circle()\n",
        "c2 = Circle()"
      ]
    },
    {
      "cell_type": "code",
      "execution_count": 83,
      "id": "secondary-ready",
      "metadata": {
        "colab": {
          "base_uri": "https://localhost:8080/"
        },
        "id": "secondary-ready",
        "outputId": "4d96e132-c23d-49ea-f67c-72c89ea82d7b"
      },
      "outputs": [
        {
          "output_type": "stream",
          "name": "stdout",
          "text": [
            "3.14\n"
          ]
        }
      ],
      "source": [
        "# 클래스 변수 pi에 접근해봅시다.\n",
        "\n",
        "print(Circle.pi)"
      ]
    },
    {
      "cell_type": "code",
      "execution_count": 84,
      "id": "comfortable-pipeline",
      "metadata": {
        "colab": {
          "base_uri": "https://localhost:8080/"
        },
        "id": "comfortable-pipeline",
        "outputId": "7dd6796e-85b5-4ba1-9ec3-042841c5c959"
      },
      "outputs": [
        {
          "output_type": "stream",
          "name": "stdout",
          "text": [
            "3.14\n",
            "3.14\n"
          ]
        }
      ],
      "source": [
        "# 인스턴스 c1, c2에서 pi 값을 출력해봅시다.\n",
        "\n",
        "print(c1.pi)\n",
        "print(c2.pi)"
      ]
    },
    {
      "cell_type": "code",
      "execution_count": 85,
      "id": "outstanding-agriculture",
      "metadata": {
        "id": "outstanding-agriculture"
      },
      "outputs": [],
      "source": [
        "# c1의 pi 값을 3.141592로 변경하여 봅시다.\n",
        "\n",
        "c1.pi = 3.141592"
      ]
    },
    {
      "cell_type": "code",
      "execution_count": 86,
      "id": "widespread-happiness",
      "metadata": {
        "colab": {
          "base_uri": "https://localhost:8080/"
        },
        "id": "widespread-happiness",
        "outputId": "7f0e34e3-b5ae-4c19-85f0-01df3e95b90c"
      },
      "outputs": [
        {
          "output_type": "stream",
          "name": "stdout",
          "text": [
            "3.141592\n",
            "3.14\n"
          ]
        }
      ],
      "source": [
        "# c1, c2에서의 pi값을 각각 출력해봅시다.\n",
        "\n",
        "print(c1.pi)\n",
        "print(c2.pi)"
      ]
    },
    {
      "cell_type": "code",
      "execution_count": 87,
      "id": "comparative-voltage",
      "metadata": {
        "colab": {
          "base_uri": "https://localhost:8080/"
        },
        "id": "comparative-voltage",
        "outputId": "1d77902b-16f8-463e-ea68-1acee6dd2f04"
      },
      "outputs": [
        {
          "output_type": "stream",
          "name": "stdout",
          "text": [
            "3.14\n"
          ]
        }
      ],
      "source": [
        "# Circle의 pi를 출력해봅시다.\n",
        "\n",
        "print(Circle.pi)"
      ]
    },
    {
      "cell_type": "markdown",
      "id": "necessary-therapist",
      "metadata": {
        "id": "necessary-therapist"
      },
      "source": [
        "## 클래스 메서드(class method)\n",
        "* 클래스가 사용할 메서드에 해당합니다.\n",
        "* `@classmethod` 데코레이터를 사용하여 정의합니다.\n",
        "* **메서드 호출시, 첫 번째 인자로 클래스 `cls`가 전달됩니다**\n",
        "\n",
        "---\n",
        "\n",
        "**활용법**\n",
        "\n",
        "```python\n",
        "class MyClass:\n",
        "    @classmethod\n",
        "    def class_method(cls, arg1, arg2, ...):\n",
        "        ...\n",
        "\n",
        "# 자동으로 첫 번째 인자로 클래스(MyClass)가 들어갑니다.\n",
        "MyClass.class_method(.., ..)  \n",
        "```"
      ]
    },
    {
      "cell_type": "markdown",
      "id": "amazing-security",
      "metadata": {
        "id": "amazing-security"
      },
      "source": [
        "## 스태틱 메서드(static method)\n",
        "* 클래스가 사용할 메서드에 해당합니다.\n",
        "* 인스턴스와 클래스의 속성과 무관한 메서드입니다.\n",
        "* `@staticmethod` 데코레이터를 사용하여 정의합니다.\n",
        "* **호출시, 어떠한 인자도 전달되지 않습니다**\n",
        "* 속성을 다루지 않고 단지 기능(행동)만을 하는 메서드를 정의할 때 사용합니다.\n",
        "\n",
        "\n",
        "---\n",
        "\n",
        "**활용법**\n",
        "\n",
        "```python\n",
        "class MyClass:\n",
        "    @staticmethod\n",
        "    def static_method(arg1, arg2, ...):\n",
        "        ...\n",
        "\n",
        "MyClass.static_method(.., ..)\n",
        "```"
      ]
    },
    {
      "cell_type": "code",
      "execution_count": 88,
      "id": "severe-astronomy",
      "metadata": {
        "id": "severe-astronomy"
      },
      "outputs": [],
      "source": [
        "# MyClass 클래스를 정의해 두었습니다.\n",
        "\n",
        "class MyClass:\n",
        "    \n",
        "    def instance_method(self):\n",
        "        return self\n",
        "    \n",
        "    @classmethod\n",
        "    def class_method(cls):\n",
        "        return cls\n",
        "    \n",
        "    @staticmethod\n",
        "    def static_method(arg):\n",
        "        return arg"
      ]
    },
    {
      "cell_type": "code",
      "execution_count": 89,
      "id": "insured-technical",
      "metadata": {
        "id": "insured-technical"
      },
      "outputs": [],
      "source": [
        "# MyClass 클래스의 인스턴스 mc를 생성해봅시다.\n",
        "\n",
        "mc = MyClass()"
      ]
    },
    {
      "cell_type": "code",
      "execution_count": 90,
      "id": "specific-summit",
      "metadata": {
        "colab": {
          "base_uri": "https://localhost:8080/"
        },
        "id": "specific-summit",
        "outputId": "3dd69508-b178-40be-ef09-819c2e75ac2a"
      },
      "outputs": [
        {
          "output_type": "stream",
          "name": "stdout",
          "text": [
            "instance_method: 139847168168784\n",
            "instance: 139847168168784\n",
            "True\n"
          ]
        }
      ],
      "source": [
        "# 인스턴스 메서드를 호출하여 반환된 결과(self)와 인스턴스(mc)를 비교해봅시다.\n",
        "# 1. id를 출력해 보고, 같은 id인지 확인\n",
        "# 2. == 연산자를 확인해 비교\n",
        "\n",
        "mc_instance_method = mc.instance_method()\n",
        "\n",
        "print('instance_method:', id(mc_instance_method))\n",
        "print('instance:',id(mc))\n",
        "\n",
        "print(mc == mc_instance_method)"
      ]
    },
    {
      "cell_type": "code",
      "execution_count": 91,
      "id": "studied-document",
      "metadata": {
        "colab": {
          "base_uri": "https://localhost:8080/"
        },
        "id": "studied-document",
        "outputId": "d2ce1d7b-0889-4c05-e793-07b2ebdcbe31"
      },
      "outputs": [
        {
          "output_type": "stream",
          "name": "stdout",
          "text": [
            "class_method: 59566944\n",
            "instance: 139847168168784\n",
            "False\n"
          ]
        }
      ],
      "source": [
        "# 클래스 메서드를 호출하여 반환된 결과(cls)와 인스턴스(mc)를 비교해봅시다.\n",
        "# 1. id를 출력해 보고, 같은 id인지 확인\n",
        "# 2. == 연산자를 확인해 비교\n",
        "\n",
        "#왜 다르지?? 인스턴스랑 class니까\n",
        "\n",
        "mc_class_method = MyClass.class_method()\n",
        "\n",
        "print('class_method:',id(mc_class_method))\n",
        "print('instance:',id(mc))\n",
        "\n",
        "print(mc == mc_class_method)"
      ]
    },
    {
      "cell_type": "code",
      "execution_count": 92,
      "id": "native-packet",
      "metadata": {
        "colab": {
          "base_uri": "https://localhost:8080/"
        },
        "id": "native-packet",
        "outputId": "8d18dcb2-d7ba-4d15-c50b-f0e86b017f7d"
      },
      "outputs": [
        {
          "output_type": "stream",
          "name": "stdout",
          "text": [
            "3\n"
          ]
        }
      ],
      "source": [
        "# 스태틱 메서드를 호출하고 반환된 결과(arg)를 확인해봅시다.\n",
        "# 인스턴스 메서드, 클래스 메서드처럼 자동으로 전달되는 인자가 없습니다.\n",
        "\n",
        "v = MyClass.static_method(3)\n",
        "\n",
        "print(v)"
      ]
    },
    {
      "cell_type": "markdown",
      "id": "realistic-absence",
      "metadata": {
        "id": "realistic-absence"
      },
      "source": [
        "## 인스턴스와 클래스 간의 이름 공간 (namespace)\n",
        "\n",
        "* 클래스를 정의하면 클래스와 해당하는 이름 공간이 생성됩니다.\n",
        "* 인스턴스를 만들면 인스턴스 객체가 생성되고 이름 공간이 생성됩니다.\n",
        "* 인스턴스에서 특정 속성에 접근하면, 인스턴스-클래스 순으로 탐색합니다."
      ]
    },
    {
      "cell_type": "code",
      "execution_count": 93,
      "id": "inclusive-fossil",
      "metadata": {
        "id": "inclusive-fossil"
      },
      "outputs": [],
      "source": [
        "# 먼저 아래 코드에 대한 이름 공간을 확인해봅시다.\n",
        "\n",
        "class Person:\n",
        "    species = 'human'\n",
        "    \n",
        "    def __init__(self, name):\n",
        "        self.name = name \n",
        "        \n",
        "p1 = Person('Hong')\n",
        "p2 = Person('Choi')"
      ]
    },
    {
      "cell_type": "code",
      "execution_count": null,
      "id": "sustainable-robin",
      "metadata": {
        "id": "sustainable-robin"
      },
      "outputs": [],
      "source": [
        "# 아래 셀을 실행하여 이름 공간(namespace) 구성을 시각적으로 확인해보세요.\n",
        "# 클래스를 위한 이름 공간 그리고 인스턴스별로 이름 공간이 따로 구성되는 점에 주목하세요."
      ]
    },
    {
      "cell_type": "code",
      "execution_count": 94,
      "id": "governmental-murder",
      "metadata": {
        "scrolled": true,
        "colab": {
          "base_uri": "https://localhost:8080/",
          "height": 520
        },
        "id": "governmental-murder",
        "outputId": "6890eddf-c6af-491c-9621-bab35cea6484"
      },
      "outputs": [
        {
          "output_type": "display_data",
          "data": {
            "text/plain": [
              "<IPython.core.display.HTML object>"
            ],
            "text/html": [
              "<iframe width=\"800\" height=\"500\" frameborder=\"0\" src=\"https://pythontutor.com/iframe-embed.html#code=class%20Person%3A%0A%20%20%20%20species%20%3D%20'human'%0A%20%20%20%20%0A%20%20%20%20def%20__init__%28self,%20name%29%3A%0A%20%20%20%20%20%20%20%20self.name%20%3D%20name%20%0A%20%20%20%20%20%20%20%20%0Ap1%20%3D%20Person%28'Hong'%29%0Ap2%20%3D%20Person%28'Choi'%29&codeDivHeight=400&codeDivWidth=350&cumulative=false&curInstr=9&heapPrimitives=nevernest&origin=opt-frontend.js&py=3&rawInputLstJSON=%5B%5D&textReferences=false\"> </iframe>"
            ]
          },
          "metadata": {}
        }
      ],
      "source": [
        "%%html\n",
        "<iframe width=\"800\" height=\"500\" frameborder=\"0\" src=\"https://pythontutor.com/iframe-embed.html#code=class%20Person%3A%0A%20%20%20%20species%20%3D%20'human'%0A%20%20%20%20%0A%20%20%20%20def%20__init__%28self,%20name%29%3A%0A%20%20%20%20%20%20%20%20self.name%20%3D%20name%20%0A%20%20%20%20%20%20%20%20%0Ap1%20%3D%20Person%28'Hong'%29%0Ap2%20%3D%20Person%28'Choi'%29&codeDivHeight=400&codeDivWidth=350&cumulative=false&curInstr=9&heapPrimitives=nevernest&origin=opt-frontend.js&py=3&rawInputLstJSON=%5B%5D&textReferences=false\"> </iframe>"
      ]
    },
    {
      "cell_type": "code",
      "execution_count": 97,
      "id": "later-dealing",
      "metadata": {
        "id": "later-dealing"
      },
      "outputs": [],
      "source": [
        "# Person 클래스를 재정의하여 다른 예시로 살펴봅시다.\n",
        "\n",
        "class Person:\n",
        "    \n",
        "    name = 'unknown'\n",
        "\n",
        "    def talk(self):\n",
        "        \n",
        "        print(self.name)\n",
        "\n",
        "p1 = Person()\n",
        "p2 = Person()"
      ]
    },
    {
      "cell_type": "code",
      "execution_count": 99,
      "id": "human-environment",
      "metadata": {
        "scrolled": true,
        "colab": {
          "base_uri": "https://localhost:8080/"
        },
        "id": "human-environment",
        "outputId": "e51baaba-a61b-403d-e4f4-76a9273cdf5c"
      },
      "outputs": [
        {
          "output_type": "stream",
          "name": "stdout",
          "text": [
            "unknown\n"
          ]
        }
      ],
      "source": [
        "# p1은 인스턴스 변수가 정의되어 있지 않아 클래스 변수가 unknown으로 출력됩니다.\n",
        "\n",
        "print(p1.name)"
      ]
    },
    {
      "cell_type": "code",
      "execution_count": 101,
      "id": "embedded-teach",
      "metadata": {
        "id": "embedded-teach"
      },
      "outputs": [],
      "source": [
        "# p2 인스턴스 변수 name을 다른 값으로 설정해봅시다.\n",
        "\n",
        "p2.name = 'kim'"
      ]
    },
    {
      "cell_type": "code",
      "execution_count": 102,
      "id": "baking-living",
      "metadata": {
        "colab": {
          "base_uri": "https://localhost:8080/"
        },
        "id": "baking-living",
        "outputId": "89cd1629-36c0-42e9-b10e-7855d90863d5"
      },
      "outputs": [
        {
          "output_type": "stream",
          "name": "stdout",
          "text": [
            "kim\n"
          ]
        }
      ],
      "source": [
        "# Person 클래스의 값이 Kim으로 변경된 것이 아니므로\n",
        "# p2 인스턴스의 이름 공간에 name이 Kim으로 저장됩니다.\n",
        "\n",
        "print(p2.name)"
      ]
    },
    {
      "cell_type": "code",
      "execution_count": null,
      "id": "directed-grain",
      "metadata": {
        "id": "directed-grain"
      },
      "outputs": [],
      "source": [
        "# 아래 셀을 실행하여 시각적으로 위의 설명을 시각적으로 살펴봅시다."
      ]
    },
    {
      "cell_type": "code",
      "execution_count": 96,
      "id": "cordless-harrison",
      "metadata": {
        "scrolled": true,
        "colab": {
          "base_uri": "https://localhost:8080/",
          "height": 520
        },
        "id": "cordless-harrison",
        "outputId": "23b45a19-0ef5-4955-b085-dd90ac8ae56d"
      },
      "outputs": [
        {
          "output_type": "display_data",
          "data": {
            "text/plain": [
              "<IPython.core.display.HTML object>"
            ],
            "text/html": [
              "<iframe width=\"800\" height=\"500\" frameborder=\"0\" src=\"https://pythontutor.com/iframe-embed.html#code=class%20Person%3A%0A%20%20%20%20name%20%3D%20'unknown'%0A%20%20%20%20%0A%20%20%20%20def%20talk%28self%29%3A%0A%20%20%20%20%20%20%20%20print%28self.name%29%0A%20%20%20%20%20%20%20%20%0Ap2%20%3D%20Person%28%29%0Ap2.talk%28%29%0Ap2.name%20%3D%20'kim'%0Ap2.talk%28%29&codeDivHeight=400&codeDivWidth=350&cumulative=false&curInstr=8&heapPrimitives=nevernest&origin=opt-frontend.js&py=3&rawInputLstJSON=%5B%5D&textReferences=false\"> </iframe>"
            ]
          },
          "metadata": {}
        }
      ],
      "source": [
        "%%html\n",
        "<iframe width=\"800\" height=\"500\" frameborder=\"0\" src=\"https://pythontutor.com/iframe-embed.html#code=class%20Person%3A%0A%20%20%20%20name%20%3D%20'unknown'%0A%20%20%20%20%0A%20%20%20%20def%20talk%28self%29%3A%0A%20%20%20%20%20%20%20%20print%28self.name%29%0A%20%20%20%20%20%20%20%20%0Ap2%20%3D%20Person%28%29%0Ap2.talk%28%29%0Ap2.name%20%3D%20'kim'%0Ap2.talk%28%29&codeDivHeight=400&codeDivWidth=350&cumulative=false&curInstr=8&heapPrimitives=nevernest&origin=opt-frontend.js&py=3&rawInputLstJSON=%5B%5D&textReferences=false\"> </iframe>"
      ]
    },
    {
      "cell_type": "markdown",
      "id": "natural-allowance",
      "metadata": {
        "id": "natural-allowance"
      },
      "source": [
        "# 비교 정리"
      ]
    },
    {
      "cell_type": "markdown",
      "id": "disturbed-understanding",
      "metadata": {
        "id": "disturbed-understanding"
      },
      "source": [
        "### 인스턴스와 메서드\n",
        "- 인스턴스는 3가지 메서드(인스턴스, 클래스, 정적 메서드) 모두에 접근할 수 있습니다.\n",
        "    - 인스턴스에서 클래스 메서드와 스태틱 메서드는 호출하지 않습니다. (가능하다 != 사용한다)\n",
        "- 인스턴스가 할 행동은 모두 인스턴스 메서드로 한정 지어서 설계합니다.\n"
      ]
    },
    {
      "cell_type": "code",
      "execution_count": 103,
      "id": "chemical-fault",
      "metadata": {
        "id": "chemical-fault"
      },
      "outputs": [],
      "source": [
        "# MyClass를 활용하여 살펴봅시다.\n",
        "\n",
        "class MyClass:\n",
        "    def instance_method(self):\n",
        "        return 'instance_method', self\n",
        "    \n",
        "    @classmethod\n",
        "    def class_method(cls):\n",
        "        return 'class_method', cls\n",
        "    \n",
        "    @staticmethod\n",
        "    def static_method():\n",
        "        return 'static method'"
      ]
    },
    {
      "cell_type": "code",
      "execution_count": 104,
      "id": "italian-amsterdam",
      "metadata": {
        "id": "italian-amsterdam"
      },
      "outputs": [],
      "source": [
        "# MyClass의 인스턴스를 만들고 mc 변수에 저장합시다.\n",
        "\n",
        "mc = MyClass()"
      ]
    },
    {
      "cell_type": "code",
      "execution_count": 105,
      "id": "restricted-doctrine",
      "metadata": {
        "colab": {
          "base_uri": "https://localhost:8080/"
        },
        "id": "restricted-doctrine",
        "outputId": "2fbfd95a-b700-4aa9-d1b9-547211d57640"
      },
      "outputs": [
        {
          "output_type": "stream",
          "name": "stdout",
          "text": [
            "('instance_method', <__main__.MyClass object at 0x7f30b4ca6a10>)\n"
          ]
        }
      ],
      "source": [
        "# 인스턴스에서 인스턴스 메서드를 호출하고 결과를 확인해봅시다.\n",
        "\n",
        "print(mc.instance_method())"
      ]
    },
    {
      "cell_type": "code",
      "execution_count": 106,
      "id": "embedded-purpose",
      "metadata": {
        "colab": {
          "base_uri": "https://localhost:8080/"
        },
        "id": "embedded-purpose",
        "outputId": "a5ce3ab6-b447-429b-ccd3-d78086b53541"
      },
      "outputs": [
        {
          "output_type": "stream",
          "name": "stdout",
          "text": [
            "('class_method', <class '__main__.MyClass'>)\n"
          ]
        }
      ],
      "source": [
        "# 인스턴스에서 클래스 메서드를 호출하고 결과를 확인해봅시다.\n",
        "\n",
        "print(mc.class_method())"
      ]
    },
    {
      "cell_type": "code",
      "execution_count": 107,
      "id": "parliamentary-entrance",
      "metadata": {
        "colab": {
          "base_uri": "https://localhost:8080/"
        },
        "id": "parliamentary-entrance",
        "outputId": "c90cd73f-0d0b-45f9-dcbc-c0e174e779c5"
      },
      "outputs": [
        {
          "output_type": "stream",
          "name": "stdout",
          "text": [
            "static method\n"
          ]
        }
      ],
      "source": [
        "# 인스턴스에서 스태틱 메서드를 호출하고 결과를 확인해봅시다.\n",
        "\n",
        "print(mc.static_method())"
      ]
    },
    {
      "cell_type": "markdown",
      "id": "partial-nickname",
      "metadata": {
        "id": "partial-nickname"
      },
      "source": [
        "### 클래스와 메서드\n",
        "- 클래스는 3가지 메서드(인스턴스, 클래스, 정적 메서드) 모두에 접근할 수 있습니다.\n",
        "    - 클래스에서 인스턴스 메서드는 호출하지 않습니다. (가능하다 != 사용한다)\n",
        "- 클래스가 할 행동은 다음 원칙에 따라 설계합니다. (클래스 메서드와 정적 메서드)\n",
        "    - 클래스 자체(`cls`)와 그 속성에 접근할 필요가 있다면 **클래스 메서드**로 정의합니다.\n",
        "    - 클래스와 클래스 속성에 접근할 필요가 없다면 **정적 메서드**로 정의합니다.\n",
        "        - 정적 메서드는 `cls`, `self`와 같이 묵시적인 첫번째 인자를 받지 않기 때문입니다."
      ]
    },
    {
      "cell_type": "code",
      "execution_count": 110,
      "id": "leading-helena",
      "metadata": {
        "colab": {
          "base_uri": "https://localhost:8080/",
          "height": 211
        },
        "id": "leading-helena",
        "outputId": "85ee86bc-6d97-4992-cbc4-4680768407c0"
      },
      "outputs": [
        {
          "output_type": "error",
          "ename": "TypeError",
          "evalue": "ignored",
          "traceback": [
            "\u001b[0;31m---------------------------------------------------------------------------\u001b[0m",
            "\u001b[0;31mTypeError\u001b[0m                                 Traceback (most recent call last)",
            "\u001b[0;32m<ipython-input-110-ed12aaff5ef7>\u001b[0m in \u001b[0;36m<module>\u001b[0;34m()\u001b[0m\n\u001b[1;32m      2\u001b[0m \u001b[0;31m# 실행시켜 오류를 확인해봅시다.\u001b[0m\u001b[0;34m\u001b[0m\u001b[0;34m\u001b[0m\u001b[0;34m\u001b[0m\u001b[0m\n\u001b[1;32m      3\u001b[0m \u001b[0;34m\u001b[0m\u001b[0m\n\u001b[0;32m----> 4\u001b[0;31m \u001b[0mprint\u001b[0m\u001b[0;34m(\u001b[0m\u001b[0mMyClass\u001b[0m\u001b[0;34m.\u001b[0m\u001b[0minstance_method\u001b[0m\u001b[0;34m(\u001b[0m\u001b[0;34m)\u001b[0m\u001b[0;34m)\u001b[0m\u001b[0;34m\u001b[0m\u001b[0;34m\u001b[0m\u001b[0m\n\u001b[0m",
            "\u001b[0;31mTypeError\u001b[0m: instance_method() missing 1 required positional argument: 'self'"
          ]
        }
      ],
      "source": [
        "# 클래스에서 인스턴스 메서드를 호출하면 오류가 발생합니다.\n",
        "# 실행시켜 오류를 확인해봅시다.\n",
        "\n",
        "print(MyClass.instance_method())"
      ]
    },
    {
      "cell_type": "code",
      "execution_count": 112,
      "id": "varying-event",
      "metadata": {
        "scrolled": true,
        "colab": {
          "base_uri": "https://localhost:8080/"
        },
        "id": "varying-event",
        "outputId": "b1993e95-f96a-4435-db90-c112aa2f14b9"
      },
      "outputs": [
        {
          "output_type": "stream",
          "name": "stdout",
          "text": [
            "('instance_method', <__main__.MyClass object at 0x7f30b4ca6a10>)\n"
          ]
        }
      ],
      "source": [
        "# 클래스에서 인스턴스 메서드를 그냥 호출하면 'self'가 넘어가지 않기 때문에 오류가 발생합니다.\n",
        "# 실행시켜 오류를 확인해봅시다.\n",
        "\n",
        "print(MyClass.instance_method(mc)) #self로 인스턴스를 넘기면 에러가 안난다"
      ]
    },
    {
      "cell_type": "code",
      "execution_count": 113,
      "id": "reflected-condition",
      "metadata": {
        "colab": {
          "base_uri": "https://localhost:8080/"
        },
        "id": "reflected-condition",
        "outputId": "54332c5c-eb22-488f-bc97-c4993aec36d5"
      },
      "outputs": [
        {
          "output_type": "stream",
          "name": "stdout",
          "text": [
            "('class_method', <class '__main__.MyClass'>)\n"
          ]
        }
      ],
      "source": [
        "# 클래스에서 클래스 메서드를 호출하고 결과를 확인해봅시다.\n",
        "\n",
        "print(MyClass.class_method())"
      ]
    },
    {
      "cell_type": "markdown",
      "id": "grand-coordinate",
      "metadata": {
        "id": "grand-coordinate"
      },
      "source": [
        "# OOP의 핵심 개념\n",
        "\n",
        "- 추상화 (Abstraction)\n",
        "- 상속 (Inheritance)\n",
        "- 다형성 (Polymorphism)\n",
        "- 캡슐화 (Encapsulation)"
      ]
    },
    {
      "cell_type": "markdown",
      "id": "growing-christmas",
      "metadata": {
        "id": "growing-christmas"
      },
      "source": [
        "## 추상화(Abstraction)란?\n",
        "\n",
        "- 객체 지향 프로그래밍에서의 추상화는 세부적인 내용은 감추고 필수적인 부분만 표현하는 것을 뜻합니다.\n",
        "- 현실 세계를 프로그램 설계에 반영하기 위해 사용됩니다.\n",
        "- 여러 클래스가 공통적으로 사용할 속성 및 메서드를 추출하여 기본 클래스로 작성하여 활용합니다."
      ]
    },
    {
      "cell_type": "code",
      "execution_count": 114,
      "id": "bright-rotation",
      "metadata": {
        "id": "bright-rotation"
      },
      "outputs": [],
      "source": [
        "# 학생(Student)을 표현하기 위한 클래스를 생성합니다.\n",
        "\n",
        "class Student():\n",
        "    \n",
        "    def __init__(self,name,age):\n",
        "        \n",
        "        self.name = name\n",
        "        self.age = age\n",
        "    \n",
        "    def talk(self):\n",
        "        \n",
        "        print(f\"내 이름은 {self.name}\")"
      ]
    },
    {
      "cell_type": "code",
      "execution_count": 115,
      "id": "electoral-advisory",
      "metadata": {
        "id": "electoral-advisory"
      },
      "outputs": [],
      "source": [
        "# 교수(Professor)를 표현하기 위한 클래스를 생성합니다.\n",
        "\n",
        "class Professor():\n",
        "    \n",
        "    def __init__(self,name,age):\n",
        "        \n",
        "        self.name = name\n",
        "        self.age = age\n",
        "    \n",
        "    def check(self):\n",
        "        \n",
        "        print(f\"이름을 말해라\")"
      ]
    },
    {
      "cell_type": "code",
      "execution_count": 116,
      "id": "cleared-italic",
      "metadata": {
        "id": "cleared-italic"
      },
      "outputs": [],
      "source": [
        "# 학생 클래스와 교수 클래스의 공통 속성과 행위(메서드)를 추출하여, \n",
        "# Person이라는 클래스를 통해 추상화를 해봅시다.\n",
        "\n",
        "class Person():\n",
        "    \n",
        "    def __init__(self,name,age):\n",
        "        \n",
        "        self.name = name\n",
        "        self.age = age"
      ]
    },
    {
      "cell_type": "markdown",
      "id": "superior-concrete",
      "metadata": {
        "id": "superior-concrete"
      },
      "source": [
        "## 상속(Inheritance)이란?\n",
        "\n",
        "\n",
        "클래스에서 가장 큰 특징은 `상속`이 가능하다는 것입니다. \n",
        "\n",
        "부모 클래스의 모든 속성이 자식 클래스에게 상속 되므로 코드 재사용성이 높아집니다.\n",
        "\n",
        "---\n",
        "\n",
        "**활용법**\n",
        "\n",
        "\n",
        "```python\n",
        "class ChildClass(ParentClass):\n",
        "    <code block>\n",
        "```"
      ]
    },
    {
      "cell_type": "code",
      "execution_count": 118,
      "id": "seventh-pilot",
      "metadata": {
        "id": "seventh-pilot"
      },
      "outputs": [],
      "source": [
        "# Person 클래스를 정의해 보겠습니다.\n",
        "\n",
        "class Person:\n",
        "    population = 0\n",
        "    \n",
        "    def __init__(self, name='사람'):\n",
        "        self.name = name\n",
        "        Person.population += 1\n",
        "        \n",
        "    def talk(self):\n",
        "        print(f'반갑습니다. {self.name}입니다.')"
      ]
    },
    {
      "cell_type": "code",
      "execution_count": 119,
      "id": "strong-operator",
      "metadata": {
        "id": "strong-operator"
      },
      "outputs": [],
      "source": [
        "# Person 클래스의 인스턴스 p1을 생성해봅시다.\n",
        "# name 속성은 자유롭게 설정합니다.\n",
        "\n",
        "p1 = Person(name='daehyuck')"
      ]
    },
    {
      "cell_type": "code",
      "execution_count": 120,
      "id": "ordered-bible",
      "metadata": {
        "id": "ordered-bible"
      },
      "outputs": [],
      "source": [
        "# Person 클래스를 상속받아 Student 클래스를 만들어 보겠습니다.\n",
        "\n",
        "class Student(Person):\n",
        "    def __init__(self, student_id, name='학생'):\n",
        "        self.name = name\n",
        "        self.student_id = student_id  \n",
        "        Person.population += 1"
      ]
    },
    {
      "cell_type": "code",
      "execution_count": 122,
      "id": "closing-benefit",
      "metadata": {
        "id": "closing-benefit"
      },
      "outputs": [],
      "source": [
        "# Student 클래스의 객체 s1을 만들어봅시다.\n",
        "\n",
        "s1 = Student(student_id = '0813271',name = 'daehyuck')"
      ]
    },
    {
      "cell_type": "code",
      "execution_count": 123,
      "id": "positive-casting",
      "metadata": {
        "colab": {
          "base_uri": "https://localhost:8080/"
        },
        "id": "positive-casting",
        "outputId": "e90483bd-ce1c-482c-9ec7-59987f330a6e"
      },
      "outputs": [
        {
          "output_type": "stream",
          "name": "stdout",
          "text": [
            "daehyuck\n",
            "0813271\n"
          ]
        }
      ],
      "source": [
        "# s1의 name과 student_id를 확인해봅시다.\n",
        "\n",
        "print(s1.name)\n",
        "print(s1.student_id)"
      ]
    },
    {
      "cell_type": "code",
      "execution_count": 124,
      "id": "noble-gardening",
      "metadata": {
        "colab": {
          "base_uri": "https://localhost:8080/"
        },
        "id": "noble-gardening",
        "outputId": "b04d2c85-cbe9-4733-d603-e5559981da38"
      },
      "outputs": [
        {
          "output_type": "stream",
          "name": "stdout",
          "text": [
            "반갑습니다. daehyuck입니다.\n"
          ]
        }
      ],
      "source": [
        "# 자식 클래스의 인스턴스는 부모 클래스에 정의된 메서드를 호출 할 수 있습니다.\n",
        "# talk 메서드를 호출해봅시다.\n",
        "\n",
        "s1.talk()"
      ]
    },
    {
      "cell_type": "markdown",
      "id": "governing-occurrence",
      "metadata": {
        "id": "governing-occurrence"
      },
      "source": [
        "이처럼 상속은 공통된 속성이나 메서드를 부모 클래스에 정의하고, 이를 상속받아 다양한 형태의 사람들을 만들 수 있습니다."
      ]
    },
    {
      "cell_type": "markdown",
      "id": "critical-reader",
      "metadata": {
        "id": "critical-reader"
      },
      "source": [
        "### `issubclass(class, classinfo)`\n",
        "\n",
        "* class가 classinfo의 subclass인 경우 `True`를 반환합니다."
      ]
    },
    {
      "cell_type": "markdown",
      "id": "catholic-quick",
      "metadata": {
        "id": "catholic-quick"
      },
      "source": [
        "### `isinstance(object, classinfo)`\n",
        "\n",
        "* object가 classinfo의 인스턴스거나 subclass인 경우 `True`를 반환합니다."
      ]
    },
    {
      "cell_type": "code",
      "execution_count": 125,
      "id": "elementary-wells",
      "metadata": {
        "colab": {
          "base_uri": "https://localhost:8080/"
        },
        "id": "elementary-wells",
        "outputId": "39f2c2ec-03d2-42f6-881e-8034ec1bf622"
      },
      "outputs": [
        {
          "output_type": "stream",
          "name": "stdout",
          "text": [
            "True\n"
          ]
        }
      ],
      "source": [
        "# issubclass 함수를 통해 Student 클래스와 Person 클래스가 상속관계인지 확인해봅시다. (클래스 상속 검사)\n",
        "# issubclass(자식클래스, 부모클래스)\n",
        "\n",
        "print(issubclass(Student,Person))"
      ]
    },
    {
      "cell_type": "code",
      "execution_count": 126,
      "id": "downtown-colony",
      "metadata": {
        "colab": {
          "base_uri": "https://localhost:8080/"
        },
        "id": "downtown-colony",
        "outputId": "2a7583d8-a856-4731-c871-44afedabfd46"
      },
      "outputs": [
        {
          "output_type": "stream",
          "name": "stdout",
          "text": [
            "True\n",
            "True\n"
          ]
        }
      ],
      "source": [
        "# isinstance 함수를 통해\n",
        "# s1이 Student 클래스의 인스턴스인지, s1이 Person 클래스의 인스턴스인지 모두 확인해봅시다.\n",
        "# isinstance(인스턴스, 클래스)\n",
        "\n",
        "print(isinstance(s1,Student))\n",
        "print(isinstance(p1,Person))"
      ]
    },
    {
      "cell_type": "code",
      "execution_count": null,
      "id": "adopted-jackson",
      "metadata": {
        "id": "adopted-jackson"
      },
      "outputs": [],
      "source": [
        "# 내장 자료형들도 아래와 같이 상속 관계가 있습니다.\n",
        "# 아래 셀을 실행시켜 확인해봅시다."
      ]
    },
    {
      "cell_type": "code",
      "execution_count": 127,
      "id": "described-silly",
      "metadata": {
        "colab": {
          "base_uri": "https://localhost:8080/"
        },
        "id": "described-silly",
        "outputId": "e9998c2a-70a0-43d0-d594-a2643d259344"
      },
      "outputs": [
        {
          "output_type": "stream",
          "name": "stdout",
          "text": [
            "True\n"
          ]
        }
      ],
      "source": [
        "print(issubclass(bool, int)) # True"
      ]
    },
    {
      "cell_type": "code",
      "execution_count": 128,
      "id": "growing-turning",
      "metadata": {
        "scrolled": true,
        "colab": {
          "base_uri": "https://localhost:8080/"
        },
        "id": "growing-turning",
        "outputId": "85bd4ff3-fa2c-4a9f-8e77-dd9b82cb7276"
      },
      "outputs": [
        {
          "output_type": "stream",
          "name": "stdout",
          "text": [
            "False\n"
          ]
        }
      ],
      "source": [
        "print(issubclass(float, int)) # False"
      ]
    },
    {
      "cell_type": "markdown",
      "id": "humanitarian-pakistan",
      "metadata": {
        "id": "humanitarian-pakistan"
      },
      "source": [
        "### `super()`\n",
        "\n",
        "* 자식 클래스에 메서드를 추가로 구현할 수 있습니다.\n",
        "\n",
        "* 부모 클래스의 내용을 사용하고자 할 때, `super()`를 사용할 수 있습니다.\n",
        "\n",
        "---\n",
        "\n",
        "**활용법**\n",
        "\n",
        "\n",
        "```python\n",
        "class ChildClass(ParentClass):\n",
        "    def method(self, arg):\n",
        "        super().method(arg) \n",
        "```"
      ]
    },
    {
      "cell_type": "code",
      "execution_count": 129,
      "id": "inappropriate-angle",
      "metadata": {
        "id": "inappropriate-angle"
      },
      "outputs": [],
      "source": [
        "# Person 클래스와 Student 클래스를 함께 정의해 보겠습니다.\n",
        "\n",
        "class Person:\n",
        "    def __init__(self, name, age, number, email):\n",
        "        self.name = name\n",
        "        self.age = age\n",
        "        self.number = number\n",
        "        self.email = email \n",
        "        \n",
        "    def greeting(self):\n",
        "        print(f'안녕, {self.name}')\n",
        "      \n",
        "    \n",
        "class Student(Person):\n",
        "    def __init__(self, name, age, number, email, student_id):\n",
        "        self.name = name\n",
        "        self.age = age\n",
        "        self.number = number\n",
        "        self.email = email \n",
        "        self.student_id = student_id\n",
        "        \n",
        "p1 = Person('홍교수', 200, '0101231234', 'hong@gildong')\n",
        "s1 = Student('학생', 20, '12312312', 'student@naver.com', '190000')"
      ]
    },
    {
      "cell_type": "code",
      "execution_count": 130,
      "id": "further-karaoke",
      "metadata": {
        "colab": {
          "base_uri": "https://localhost:8080/"
        },
        "id": "further-karaoke",
        "outputId": "c8c03f60-a994-4233-c803-10fd8e6bf654"
      },
      "outputs": [
        {
          "output_type": "stream",
          "name": "stdout",
          "text": [
            "안녕, 홍교수\n",
            "안녕, 학생\n"
          ]
        }
      ],
      "source": [
        "# p1과 s1 모두 greeting 메서드를 호출해봅시다.\n",
        "\n",
        "\n",
        "p1.greeting()\n",
        "\n",
        "s1.greeting()"
      ]
    },
    {
      "cell_type": "markdown",
      "id": "vulnerable-sandwich",
      "metadata": {
        "id": "vulnerable-sandwich"
      },
      "source": [
        "위의 코드는 상속을 했음에도 불구하고 초기화(`__init__`)에서 동일한 코드가 반복됩니다. \n",
        "\n",
        "초기화의 중복을 `super()` 함수를 통해 제거해봅시다."
      ]
    },
    {
      "cell_type": "code",
      "execution_count": 144,
      "id": "peripheral-parameter",
      "metadata": {
        "id": "peripheral-parameter"
      },
      "outputs": [],
      "source": [
        "# Person과 Student를 처음부터 재정의해봅시다.\n",
        "\n",
        "class Person:\n",
        "    \n",
        "    def __init__(self,name,age,number,email):\n",
        "        \n",
        "        self.name = name\n",
        "        self.age = age\n",
        "        self.number = number\n",
        "        self.email = email\n",
        "\n",
        "    def greeting(self):\n",
        "        \n",
        "        print(f\"안녕, {self.name}\")\n",
        "\n",
        "\n",
        "class Student(Person):\n",
        "    \n",
        "    def __init__(self,name,age,number,email,student_id):\n",
        "        \n",
        "        super().__init__(name,age,number,email) #super().__init__(self.name,self.age,self.number,self.email)???? super().__init__()???\n",
        "        self.student_id = student_id\n",
        "\n",
        "\n",
        "    \n"
      ]
    },
    {
      "cell_type": "code",
      "source": [
        "p1 = Person('홍교수', 200, '0101231234', 'hong@gildong')\n",
        "s1 = Student('학생', 20, '12312312', 'student@naver.com', '190000')"
      ],
      "metadata": {
        "id": "xSQBURJBryM-"
      },
      "id": "xSQBURJBryM-",
      "execution_count": 145,
      "outputs": []
    },
    {
      "cell_type": "code",
      "source": [
        "print(s1.name,s1.age,s1.number,s1.email,s1.student_id)"
      ],
      "metadata": {
        "colab": {
          "base_uri": "https://localhost:8080/"
        },
        "id": "7thgBMdTr-wC",
        "outputId": "dda7e73c-75ab-4695-880e-d1d44628fd6c"
      },
      "id": "7thgBMdTr-wC",
      "execution_count": 146,
      "outputs": [
        {
          "output_type": "stream",
          "name": "stdout",
          "text": [
            "학생 20 12312312 student@naver.com 190000\n"
          ]
        }
      ]
    },
    {
      "cell_type": "code",
      "source": [
        "p1.greeting()\n",
        "s1.greeting()"
      ],
      "metadata": {
        "colab": {
          "base_uri": "https://localhost:8080/"
        },
        "id": "WAxFyXUrsbXv",
        "outputId": "1878a313-f414-42ef-eed4-89f7ad021175"
      },
      "id": "WAxFyXUrsbXv",
      "execution_count": 147,
      "outputs": [
        {
          "output_type": "stream",
          "name": "stdout",
          "text": [
            "안녕, 홍교수\n",
            "안녕, 학생\n"
          ]
        }
      ]
    },
    {
      "cell_type": "markdown",
      "id": "criminal-apartment",
      "metadata": {
        "id": "criminal-apartment"
      },
      "source": [
        "## 다형성(Polymorphism)이란?\n",
        "\n",
        "- 여러 모양을 뜻하는 그리스어로, 동일한 메서드가 클래스에 따라 다르게 행동할 수 있음을 뜻합니다.\n",
        "- 즉, 서로 다른 클래스에 속해있는 객체들이 동일한 메시지에 대해 각기 다른 방식으로 응답될 수 있습니다."
      ]
    },
    {
      "cell_type": "markdown",
      "id": "ecological-clock",
      "metadata": {
        "id": "ecological-clock"
      },
      "source": [
        "### 메서드 오버라이딩\n",
        "> Method Overriding(메서드 오버라이딩): 자식 클래스에서 부모 클래스의 메서드를 재정의하는 것\n",
        "\n",
        "* 상속 받은 메서드를 `재정의`할 수도 있습니다. \n",
        "* 상속 받은 클래스에서 **같은 이름의 메서드**로 덮어씁니다.\n",
        "* `__init__`, `__str__`의 메서드를 정의하는 것 역시, 메서드 오버라이딩입니다."
      ]
    },
    {
      "cell_type": "code",
      "execution_count": 148,
      "id": "engaging-sustainability",
      "metadata": {
        "id": "engaging-sustainability"
      },
      "outputs": [],
      "source": [
        "# 아래 Person 클래스를 이용하여 메서드 오버라이딩을 해보겠습니다.\n",
        "\n",
        "class Person:\n",
        "    def __init__(self, name, age, number, email):\n",
        "        self.name = name\n",
        "        self.age = age\n",
        "        self.number = number\n",
        "        self.email = email \n",
        "        \n",
        "    def talk(self):\n",
        "        print(f'안녕, {self.name}')"
      ]
    },
    {
      "cell_type": "code",
      "execution_count": 149,
      "id": "handmade-collect",
      "metadata": {
        "id": "handmade-collect"
      },
      "outputs": [],
      "source": [
        "# 위의 Person 클래스를 상속 받아 군인답게 말하는 Soldier 클래스를 만들어봅시다.\n",
        "# talk 메서드를 재정의(override)합니다.\n",
        "\n",
        "class Soldier(Person):\n",
        "    \n",
        "    def __init__(self,name,age,number,email):\n",
        "        \n",
        "        super().__init__(name,age,number,email)\n",
        "    \n",
        "    def talk(self):\n",
        "        \n",
        "        print(f\"안녕하십니까?, {self.name}입니다.\")"
      ]
    },
    {
      "cell_type": "code",
      "execution_count": 150,
      "id": "detected-bullet",
      "metadata": {
        "colab": {
          "base_uri": "https://localhost:8080/"
        },
        "id": "detected-bullet",
        "outputId": "b33a10f0-7361-4a53-f9fa-c8ecc1cbf378"
      },
      "outputs": [
        {
          "output_type": "stream",
          "name": "stdout",
          "text": [
            "안녕, taeyeon\n"
          ]
        }
      ],
      "source": [
        "# Person 클래스의 인스턴스 p를 만들어서 talk 메서드를 실행해보세요.\n",
        "\n",
        "\n",
        "p = Person('taeyeon',34,'01012345678','abcabc@abc.com')\n",
        "\n",
        "p.talk()"
      ]
    },
    {
      "cell_type": "code",
      "execution_count": 151,
      "id": "informational-breakfast",
      "metadata": {
        "colab": {
          "base_uri": "https://localhost:8080/"
        },
        "id": "informational-breakfast",
        "outputId": "57829a52-37c8-4496-a201-35ff4cf7637f"
      },
      "outputs": [
        {
          "output_type": "stream",
          "name": "stdout",
          "text": [
            "안녕하십니까?, daehyuck입니다.\n"
          ]
        }
      ],
      "source": [
        "# Soldier 클래스의 인스턴스 s를 만들어서 talk 메서드를 실행해보세요.\n",
        "\n",
        "s = Soldier('daehyuck',29,'01023123452','abcsdwed@abcs.com')\n",
        "\n",
        "s.talk()"
      ]
    },
    {
      "cell_type": "markdown",
      "id": "fatty-million",
      "metadata": {
        "id": "fatty-million"
      },
      "source": [
        "### [연습] Person & Animal (메서드 오버라이딩)\n",
        "\n",
        "> 사실 사람은 포유류입니다. \n",
        ">\n",
        "> Animal Class를 만들고, Person Class 가 상속받도록 구성해봅시다.\n",
        ">\n",
        "> (변수나, 메서드는 자유롭게 만들어보세요.)\n",
        "\n",
        "```\n",
        "예시) \n",
        "모든 동물은 이름이 있고, 사람은 이름과 이메일이 있습니다.\n",
        "모든 동물은 talk 메서드가 있습니다. \n",
        "동물은 '으르렁'하고, 사람은 '안녕'합니다.\n",
        "```\n"
      ]
    },
    {
      "cell_type": "code",
      "execution_count": 154,
      "id": "sophisticated-construction",
      "metadata": {
        "colab": {
          "base_uri": "https://localhost:8080/"
        },
        "id": "sophisticated-construction",
        "outputId": "8c3804cf-f647-4131-97d8-7c0ad8b9cbcc"
      },
      "outputs": [
        {
          "output_type": "stream",
          "name": "stdout",
          "text": [
            "으르렁\n",
            "안녕\n"
          ]
        }
      ],
      "source": [
        "# 아래에 코드를 작성해주세요.\n",
        "\n",
        "class Animal():\n",
        "    \n",
        "    def __init__(self,name):\n",
        "        \n",
        "        self.name = name\n",
        "    \n",
        "    def talk(self):\n",
        "        \n",
        "        print(\"으르렁\")\n",
        "\n",
        "class Person(Animal):\n",
        "    \n",
        "    def __init__(self, name, email):\n",
        "        \n",
        "        super().__init__(name) #super().__init__(self,name) 으로 self를 쓰지 않는다*****\n",
        "        self.email = email\n",
        "    \n",
        "    def talk(self):\n",
        "        \n",
        "        print(\"안녕\")\n",
        "\n",
        "a = Animal('사자')\n",
        "\n",
        "b = Person('대혁','aswdswrg@awqevs.com')\n",
        "\n",
        "a.talk()\n",
        "b.talk()"
      ]
    },
    {
      "cell_type": "markdown",
      "id": "charitable-gathering",
      "metadata": {
        "id": "charitable-gathering"
      },
      "source": [
        "## 캡슐화(Encapsulation)란?\n",
        "\n",
        "- 객체의 일부 구현 내용에 대해 외부로부터의 직접적인 액세스를 차단하는 것을 말합니다.\n",
        "  - 예시: 주민등록번호\n",
        "  \n",
        "- 다른 언어와 달리 파이썬에서 캡슐화는 암묵적으로는 존재하지만, 언어적으로는 존재하지 않습니다.\n",
        "\n",
        "---\n",
        "\n",
        "**접근제어자의 종류**\n",
        "- Public Access Modifier\n",
        "- Protected Access Modifier\n",
        "- Private Access Modifier"
      ]
    },
    {
      "cell_type": "markdown",
      "id": "literary-tracker",
      "metadata": {
        "id": "literary-tracker"
      },
      "source": [
        "### Publie Member\n",
        "\n",
        "- 언더바가 없이 시작하는 메서드나 속성들이 이에 해당합니다.\n",
        "- 어디서나 호출 가능합니다.\n",
        "- 하위 클래스에서 메서드 오버라이딩을 허용합니다.\n",
        "- 일반적으로 작성되는 메서드와 속성의 대다수를 차지합니다."
      ]
    },
    {
      "cell_type": "code",
      "execution_count": 157,
      "id": "partial-recorder",
      "metadata": {
        "id": "partial-recorder"
      },
      "outputs": [],
      "source": [
        "# 아래 간단한 Person 클래스가 정의되어 있습니다.\n",
        "\n",
        "class Person:\n",
        "    \n",
        "    def __init__(self, name, age):\n",
        "        self.name = name\n",
        "        self.age = 30 ##age아닌가? 일부러 30했나"
      ]
    },
    {
      "cell_type": "code",
      "execution_count": 158,
      "id": "remarkable-module",
      "metadata": {
        "colab": {
          "base_uri": "https://localhost:8080/"
        },
        "id": "remarkable-module",
        "outputId": "913c0d08-e790-4f3c-fe13-173c05fae1a1"
      },
      "outputs": [
        {
          "output_type": "stream",
          "name": "stdout",
          "text": [
            "김싸피\n",
            "30\n"
          ]
        }
      ],
      "source": [
        "# Person 클래스의 인스턴스인 p1은 이름(name)과 나이(age) 모두 접근 가능합니다.\n",
        "\n",
        "p1 = Person('김싸피', 30)\n",
        "print(p1.name)\n",
        "print(p1.age)"
      ]
    },
    {
      "cell_type": "markdown",
      "id": "cross-browser",
      "metadata": {
        "id": "cross-browser"
      },
      "source": [
        "### Protected Member\n",
        "\n",
        "- 언더바 1개로 시작하는 메서드나 속성들이 이에 해당합니다.\n",
        "- 암묵적 규칙에 의해 부모 클래스 내부와 자식 클래스에서만 호출 가능합니다.\n",
        "- 하위 클래스에서 메서드 오버라이딩을 허용합니다."
      ]
    },
    {
      "cell_type": "code",
      "execution_count": 160,
      "id": "fifteen-tyler",
      "metadata": {
        "id": "fifteen-tyler"
      },
      "outputs": [],
      "source": [
        "# Person 클래스를 재정의해봅시다.\n",
        "# 실제 나이(age)에 해당하는 값을 언더바 한 개를 붙여서 Protected Member로 지정하였습니다.\n",
        "\n",
        "class Person:\n",
        "    \n",
        "    def __init__(self,name,age):\n",
        "        \n",
        "        self.name = name\n",
        "        self._age = age\n",
        "    \n",
        "    def get_age(self):\n",
        "        \n",
        "        return self._age"
      ]
    },
    {
      "cell_type": "code",
      "execution_count": 161,
      "id": "complimentary-smart",
      "metadata": {
        "scrolled": false,
        "id": "complimentary-smart"
      },
      "outputs": [],
      "source": [
        "# 인스턴스를 만들고 get_age 메서드를 활용하여 호출할 수 있습니다.\n",
        "\n",
        "p1 = Person('daehyuck',29)\n"
      ]
    },
    {
      "cell_type": "code",
      "source": [
        "print(p1.age)"
      ],
      "metadata": {
        "colab": {
          "base_uri": "https://localhost:8080/",
          "height": 174
        },
        "id": "j-w395_EwNag",
        "outputId": "faa1d08f-898a-4b7a-b74c-10a78fe0d773"
      },
      "id": "j-w395_EwNag",
      "execution_count": 162,
      "outputs": [
        {
          "output_type": "error",
          "ename": "AttributeError",
          "evalue": "ignored",
          "traceback": [
            "\u001b[0;31m---------------------------------------------------------------------------\u001b[0m",
            "\u001b[0;31mAttributeError\u001b[0m                            Traceback (most recent call last)",
            "\u001b[0;32m<ipython-input-162-9506c9e80e91>\u001b[0m in \u001b[0;36m<module>\u001b[0;34m()\u001b[0m\n\u001b[0;32m----> 1\u001b[0;31m \u001b[0mprint\u001b[0m\u001b[0;34m(\u001b[0m\u001b[0mp1\u001b[0m\u001b[0;34m.\u001b[0m\u001b[0mage\u001b[0m\u001b[0;34m)\u001b[0m\u001b[0;34m\u001b[0m\u001b[0;34m\u001b[0m\u001b[0m\n\u001b[0m",
            "\u001b[0;31mAttributeError\u001b[0m: 'Person' object has no attribute 'age'"
          ]
        }
      ]
    },
    {
      "cell_type": "code",
      "source": [
        "print(p1.get_age())"
      ],
      "metadata": {
        "colab": {
          "base_uri": "https://localhost:8080/"
        },
        "id": "I-lz6qkbwO8r",
        "outputId": "576bf96b-550b-452a-85e1-2df6ec62a6d4"
      },
      "id": "I-lz6qkbwO8r",
      "execution_count": 163,
      "outputs": [
        {
          "output_type": "stream",
          "name": "stdout",
          "text": [
            "29\n"
          ]
        }
      ]
    },
    {
      "cell_type": "code",
      "execution_count": 164,
      "id": "economic-library",
      "metadata": {
        "colab": {
          "base_uri": "https://localhost:8080/"
        },
        "id": "economic-library",
        "outputId": "b31fc613-cab4-4a27-839d-37cdb9ec37a5"
      },
      "outputs": [
        {
          "output_type": "stream",
          "name": "stdout",
          "text": [
            "29\n"
          ]
        }
      ],
      "source": [
        "# _age에 직접 접근하여도 확인이 가능합니다.\n",
        "# 파이썬에서는 암묵적으로 활용됩니다.\n",
        "\n",
        "print(p1._age)"
      ]
    },
    {
      "cell_type": "markdown",
      "id": "dried-mexican",
      "metadata": {
        "id": "dried-mexican"
      },
      "source": [
        "### Private Member\n",
        "\n",
        "- 언더바 2개로 시작하는 메서드나 속성들이 이에 해당합니다.\n",
        "- 본 클래스 내부에서만 사용이 가능합니다.\n",
        "- 하위 클래스 상속 및 호출이 불가능합니다.\n",
        "- 외부 호출이 불가능합니다."
      ]
    },
    {
      "cell_type": "code",
      "execution_count": 165,
      "id": "crude-evans",
      "metadata": {
        "id": "crude-evans"
      },
      "outputs": [],
      "source": [
        "# Person 클래스를 다시 재정의해봅시다.\n",
        "# 실제 나이(age)에 해당하는 값을 언더바 두 개를 붙여서 Private Member로 지정하였습니다.\n",
        "\n",
        "class Person:\n",
        "    \n",
        "    def __init__(self, name, age):\n",
        "        self.name = name\n",
        "        self.__age = age\n",
        "    \n",
        "    def get_age(self): \n",
        "        return self.__age"
      ]
    },
    {
      "cell_type": "code",
      "execution_count": 166,
      "id": "architectural-shooting",
      "metadata": {
        "scrolled": true,
        "colab": {
          "base_uri": "https://localhost:8080/"
        },
        "id": "architectural-shooting",
        "outputId": "63bac8f5-a91b-4893-c38e-7f8c574bc0ab"
      },
      "outputs": [
        {
          "output_type": "execute_result",
          "data": {
            "text/plain": [
              "30"
            ]
          },
          "metadata": {},
          "execution_count": 166
        }
      ],
      "source": [
        "# 인스턴스를 만들고 get_age 메서드를 활용하여 호출할 수 있습니다.\n",
        "# 실행시켜 확인해봅시다.\n",
        "\n",
        "p1 = Person('김싸피', 30)\n",
        "p1.get_age()"
      ]
    },
    {
      "cell_type": "code",
      "execution_count": 167,
      "id": "adaptive-tattoo",
      "metadata": {
        "scrolled": true,
        "colab": {
          "base_uri": "https://localhost:8080/",
          "height": 211
        },
        "id": "adaptive-tattoo",
        "outputId": "700982e9-a0ba-42e5-fb3f-b92fcddfb2bf"
      },
      "outputs": [
        {
          "output_type": "error",
          "ename": "AttributeError",
          "evalue": "ignored",
          "traceback": [
            "\u001b[0;31m---------------------------------------------------------------------------\u001b[0m",
            "\u001b[0;31mAttributeError\u001b[0m                            Traceback (most recent call last)",
            "\u001b[0;32m<ipython-input-167-c3c8a2e7e6c4>\u001b[0m in \u001b[0;36m<module>\u001b[0;34m()\u001b[0m\n\u001b[1;32m      1\u001b[0m \u001b[0;31m# __age에 직접 접근이 불가능합니다.\u001b[0m\u001b[0;34m\u001b[0m\u001b[0;34m\u001b[0m\u001b[0;34m\u001b[0m\u001b[0m\n\u001b[1;32m      2\u001b[0m \u001b[0;34m\u001b[0m\u001b[0m\n\u001b[0;32m----> 3\u001b[0;31m \u001b[0mp1\u001b[0m\u001b[0;34m.\u001b[0m\u001b[0m__age\u001b[0m\u001b[0;34m\u001b[0m\u001b[0;34m\u001b[0m\u001b[0m\n\u001b[0m",
            "\u001b[0;31mAttributeError\u001b[0m: 'Person' object has no attribute '__age'"
          ]
        }
      ],
      "source": [
        "# __age에 직접 접근이 불가능합니다.\n",
        "\n",
        "p1.__age"
      ]
    },
    {
      "cell_type": "markdown",
      "id": "spatial-patent",
      "metadata": {
        "id": "spatial-patent"
      },
      "source": [
        "### `getter` 메서드와 `setter` 메서드\n",
        "\n",
        "변수에 접근할 수 있는 메서드를 별도로 생성할 수 있습니다.\n",
        "\n",
        "- `getter` 메서드: 변수의 값을 읽는 메서드입니다.\n",
        "  - `@property` 데코레이터를 사용합니다.\n",
        "- `setter` 메서드: 변수의 값을 설정하는 성격의 메서드입니다.\n",
        "  - `@변수.setter`를 사용합니다."
      ]
    },
    {
      "cell_type": "code",
      "execution_count": 168,
      "id": "requested-white",
      "metadata": {
        "id": "requested-white"
      },
      "outputs": [],
      "source": [
        "class Person:\n",
        "    \n",
        "    def __init__(self, age):\n",
        "        self._age = age \n",
        "        \n",
        "    @property\n",
        "    def age(self):\n",
        "        return self._age\n",
        "    \n",
        "    @age.setter\n",
        "    def age(self, new_age):\n",
        "        if new_age <= 19:\n",
        "            raise ValueError('Too Young For SSAFY')\n",
        "            return\n",
        "        \n",
        "        self._age = new_age"
      ]
    },
    {
      "cell_type": "code",
      "execution_count": 169,
      "id": "worldwide-kentucky",
      "metadata": {
        "colab": {
          "base_uri": "https://localhost:8080/"
        },
        "id": "worldwide-kentucky",
        "outputId": "b508f771-791c-45f8-c7b7-962048f135eb"
      },
      "outputs": [
        {
          "output_type": "stream",
          "name": "stdout",
          "text": [
            "20\n"
          ]
        }
      ],
      "source": [
        "# Person의 인스턴스를 만들어서 나이에 접근하면 정상적으로 출력됩니다.\n",
        "# 실행시켜 확인해보세요.\n",
        "\n",
        "p1 = Person(20)\n",
        "print(p1.age) #함수인데 getter 메소드에 의해 변수처럼 접근"
      ]
    },
    {
      "cell_type": "code",
      "execution_count": 170,
      "id": "brief-jersey",
      "metadata": {
        "colab": {
          "base_uri": "https://localhost:8080/"
        },
        "id": "brief-jersey",
        "outputId": "6c93f7ee-6cdc-4ba1-f56f-9c6fc2be226f"
      },
      "outputs": [
        {
          "output_type": "stream",
          "name": "stdout",
          "text": [
            "33\n"
          ]
        }
      ],
      "source": [
        "# p1 인스턴스의 나이를 다른 값으로 바꿔도 정상적으로 반영됩니다.\n",
        "# 실행시켜 확인해보세요.\n",
        "\n",
        "p1.age = 33\n",
        "print(p1.age)"
      ]
    },
    {
      "cell_type": "code",
      "execution_count": 171,
      "id": "monetary-shower",
      "metadata": {
        "scrolled": true,
        "colab": {
          "base_uri": "https://localhost:8080/",
          "height": 358
        },
        "id": "monetary-shower",
        "outputId": "ed718dda-d0a3-4fdf-bb1b-9186eed5dd8a"
      },
      "outputs": [
        {
          "output_type": "error",
          "ename": "ValueError",
          "evalue": "ignored",
          "traceback": [
            "\u001b[0;31m---------------------------------------------------------------------------\u001b[0m",
            "\u001b[0;31mValueError\u001b[0m                                Traceback (most recent call last)",
            "\u001b[0;32m<ipython-input-171-a17f6feab9e1>\u001b[0m in \u001b[0;36m<module>\u001b[0;34m()\u001b[0m\n\u001b[1;32m      3\u001b[0m \u001b[0;31m# 실행시켜 확인해보세요.\u001b[0m\u001b[0;34m\u001b[0m\u001b[0;34m\u001b[0m\u001b[0;34m\u001b[0m\u001b[0m\n\u001b[1;32m      4\u001b[0m \u001b[0;34m\u001b[0m\u001b[0m\n\u001b[0;32m----> 5\u001b[0;31m \u001b[0mp1\u001b[0m\u001b[0;34m.\u001b[0m\u001b[0mage\u001b[0m \u001b[0;34m=\u001b[0m \u001b[0;36m19\u001b[0m\u001b[0;34m\u001b[0m\u001b[0;34m\u001b[0m\u001b[0m\n\u001b[0m\u001b[1;32m      6\u001b[0m \u001b[0mprint\u001b[0m\u001b[0;34m(\u001b[0m\u001b[0mp1\u001b[0m\u001b[0;34m.\u001b[0m\u001b[0mage\u001b[0m\u001b[0;34m)\u001b[0m\u001b[0;34m\u001b[0m\u001b[0;34m\u001b[0m\u001b[0m\n",
            "\u001b[0;32m<ipython-input-168-ed46d832c3c8>\u001b[0m in \u001b[0;36mage\u001b[0;34m(self, new_age)\u001b[0m\n\u001b[1;32m     11\u001b[0m     \u001b[0;32mdef\u001b[0m \u001b[0mage\u001b[0m\u001b[0;34m(\u001b[0m\u001b[0mself\u001b[0m\u001b[0;34m,\u001b[0m \u001b[0mnew_age\u001b[0m\u001b[0;34m)\u001b[0m\u001b[0;34m:\u001b[0m\u001b[0;34m\u001b[0m\u001b[0;34m\u001b[0m\u001b[0m\n\u001b[1;32m     12\u001b[0m         \u001b[0;32mif\u001b[0m \u001b[0mnew_age\u001b[0m \u001b[0;34m<=\u001b[0m \u001b[0;36m19\u001b[0m\u001b[0;34m:\u001b[0m\u001b[0;34m\u001b[0m\u001b[0;34m\u001b[0m\u001b[0m\n\u001b[0;32m---> 13\u001b[0;31m             \u001b[0;32mraise\u001b[0m \u001b[0mValueError\u001b[0m\u001b[0;34m(\u001b[0m\u001b[0;34m'Too Young For SSAFY'\u001b[0m\u001b[0;34m)\u001b[0m\u001b[0;34m\u001b[0m\u001b[0;34m\u001b[0m\u001b[0m\n\u001b[0m\u001b[1;32m     14\u001b[0m             \u001b[0;32mreturn\u001b[0m\u001b[0;34m\u001b[0m\u001b[0;34m\u001b[0m\u001b[0m\n\u001b[1;32m     15\u001b[0m \u001b[0;34m\u001b[0m\u001b[0m\n",
            "\u001b[0;31mValueError\u001b[0m: Too Young For SSAFY"
          ]
        }
      ],
      "source": [
        "# setter 함수에는 \"나이가 19살 이하면 안된다는\" 조건문이 하나 작성되어 있습니다.\n",
        "# 따라서 나이를 19살 이하인 값으로 변경하게 되면 오류가 발생합니다.\n",
        "# 실행시켜 확인해보세요.\n",
        "\n",
        "p1.age = 19\n",
        "print(p1.age)"
      ]
    },
    {
      "cell_type": "markdown",
      "id": "43473762",
      "metadata": {
        "id": "43473762"
      },
      "source": [
        "### 다중 상속\n",
        "* 두개 이상의 클래스를 상속받는 경우, 다중 상속이 됩니다.\n",
        "    * 상속 받은 모든 클래스의 요소를 활용 가능\n",
        "    * 중복된 속성이나 메서드가 있는 경우 상속 순서에 의해 결정\n"
      ]
    },
    {
      "cell_type": "code",
      "execution_count": 172,
      "id": "44ef1352",
      "metadata": {
        "id": "44ef1352"
      },
      "outputs": [],
      "source": [
        "# Person 클래스를 정의합니다.\n",
        "# Person 클래스는 생성자에서 인스턴스 변수로 name을 설정합니다.\n",
        "\n",
        "class Person:\n",
        "    def __init__(self, name):\n",
        "        self.name = name\n",
        "\n",
        "    def greeting(self):\n",
        "        return f'안녕, {self.name}'"
      ]
    },
    {
      "cell_type": "code",
      "execution_count": 173,
      "id": "c31ca2a4",
      "metadata": {
        "id": "c31ca2a4"
      },
      "outputs": [],
      "source": [
        "# Mom 클래스를 정의합니다.\n",
        "# Mom 클래스는 Person 클래스를 상속받으며, 클래스 변수로 gene을 갖습니다. 값은 'XX'입니다.\n",
        "# Mom 클래스만의 인스턴스 메서드 swim을 자유롭게 정의해봅시다.\n",
        "\n",
        "class Mom(Person):\n",
        "    \n",
        "    gene = 'XX'\n",
        "\n",
        "    def swim(self):\n",
        "        \n",
        "        print('수영 잘해')"
      ]
    },
    {
      "cell_type": "code",
      "execution_count": 174,
      "id": "5898be32",
      "metadata": {
        "id": "5898be32"
      },
      "outputs": [],
      "source": [
        "# Dad 클래스를 정의합니다.\n",
        "# Dad 클래스는 Person 클래스를 상속받으며, 클래스 변수로 gene을 갖습니다. 값은 'XY'입니다.\n",
        "# Dad 클래스만의 인스턴스 메서드 walk를 자유롭게 정의해봅시다.\n",
        "\n",
        "\n",
        "class Dad(Person):\n",
        "    \n",
        "    gene = 'XY'\n",
        "\n",
        "    def walk(self):\n",
        "        \n",
        "        print('걷기 잘해')"
      ]
    },
    {
      "cell_type": "code",
      "execution_count": 175,
      "id": "47503a48",
      "metadata": {
        "id": "47503a48"
      },
      "outputs": [],
      "source": [
        "# FirstChild 클래스를 정의합니다. \n",
        "# 상속의 순서가 중요합니다.(Dad, Mom) 순서로 상속받아봅시다.\n",
        "# 상속받은 swim 메서드를 재정의(override)해봅시다.\n",
        "# FirstChild 클래스만의 인스턴스 메서드 cry를 자유롭게 정의해봅시다.\n",
        "\n",
        "\n",
        "class FirstChild(Dad,Mom):\n",
        "    \n",
        "    def cry(self):\n",
        "        \n",
        "        print('엉엉엉엉엉엉')\n",
        "    \n",
        "    def swim(self):\n",
        "        \n",
        "        print('아빠 닮아서 수영 못해')"
      ]
    },
    {
      "cell_type": "code",
      "execution_count": 177,
      "id": "00b1886e",
      "metadata": {
        "id": "00b1886e"
      },
      "outputs": [],
      "source": [
        "# FirstChild 클래스의 인스턴스 baby1을 생성해봅시다.\n",
        "\n",
        "baby1 = FirstChild('daehyuck')"
      ]
    },
    {
      "cell_type": "code",
      "execution_count": 178,
      "id": "5723fa3b",
      "metadata": {
        "colab": {
          "base_uri": "https://localhost:8080/"
        },
        "id": "5723fa3b",
        "outputId": "d47dac69-c3a7-4ae8-b88c-0d72d2c276e5"
      },
      "outputs": [
        {
          "output_type": "stream",
          "name": "stdout",
          "text": [
            "엉엉엉엉엉엉\n"
          ]
        }
      ],
      "source": [
        "# baby1의 cry 메서드를 실행해봅시다.\n",
        "\n",
        "baby1.cry()"
      ]
    },
    {
      "cell_type": "code",
      "execution_count": 179,
      "id": "416743f9",
      "metadata": {
        "colab": {
          "base_uri": "https://localhost:8080/"
        },
        "id": "416743f9",
        "outputId": "70f5c6d1-27a5-4c16-ad86-8f0cde54b2d9"
      },
      "outputs": [
        {
          "output_type": "stream",
          "name": "stdout",
          "text": [
            "아빠 닮아서 수영 못해\n"
          ]
        }
      ],
      "source": [
        "# baby1의 swim 메서드를 실행해봅시다.\n",
        "\n",
        "baby1.swim()"
      ]
    },
    {
      "cell_type": "code",
      "execution_count": 180,
      "id": "9297ef76",
      "metadata": {
        "colab": {
          "base_uri": "https://localhost:8080/"
        },
        "id": "9297ef76",
        "outputId": "dbb8a942-c5ae-4ab5-f9e5-b7505a847618"
      },
      "outputs": [
        {
          "output_type": "stream",
          "name": "stdout",
          "text": [
            "걷기 잘해\n"
          ]
        }
      ],
      "source": [
        "# baby1의 walk 메서드를 실행해봅시다.\n",
        "\n",
        "baby1.walk()"
      ]
    },
    {
      "cell_type": "code",
      "execution_count": 182,
      "id": "8c4c3641",
      "metadata": {
        "colab": {
          "base_uri": "https://localhost:8080/"
        },
        "id": "8c4c3641",
        "outputId": "231da813-2948-4da2-ba46-bf9839166587"
      },
      "outputs": [
        {
          "output_type": "stream",
          "name": "stdout",
          "text": [
            "XY\n"
          ]
        }
      ],
      "source": [
        "# baby1의 gene 속성은 어떤 부모클래스의 속성값을 상속받는지 확인해봅시다.\n",
        "\n",
        "print(baby1.gene)"
      ]
    },
    {
      "cell_type": "code",
      "execution_count": 183,
      "id": "f69e4ebf",
      "metadata": {
        "id": "f69e4ebf"
      },
      "outputs": [],
      "source": [
        "# 이번에는 SecondChild 클래스를 만들어 상속 순서를 바꿔봅시다.\n",
        "# (Mom, Dad) 순서로 상속받아봅시다.\n",
        "# 상속받은 walk 메서드를 재정의(override)해봅시다.\n",
        "# SecondChild 클래스만의 인스턴스 메서드 cry를 자유롭게 정의해봅시다.\n",
        "\n",
        "class SecondChild(Mom,Dad):\n",
        "    \n",
        "    def walk(self):\n",
        "        \n",
        "        print('엄마 닮아서 걷기 못해')\n",
        "    \n",
        "    def cry(self):\n",
        "        \n",
        "        print('우아아아앙앙')"
      ]
    },
    {
      "cell_type": "code",
      "execution_count": 184,
      "id": "306f7009",
      "metadata": {
        "id": "306f7009"
      },
      "outputs": [],
      "source": [
        "# SecondChild의 인스턴스 baby2를 생성합니다.\n",
        "\n",
        "baby2 = SecondChild('taeyeon')"
      ]
    },
    {
      "cell_type": "code",
      "execution_count": 185,
      "id": "f5ccf88a",
      "metadata": {
        "colab": {
          "base_uri": "https://localhost:8080/"
        },
        "id": "f5ccf88a",
        "outputId": "77b34a6b-2349-4215-f405-2e1923d92004"
      },
      "outputs": [
        {
          "output_type": "stream",
          "name": "stdout",
          "text": [
            "우아아아앙앙\n"
          ]
        }
      ],
      "source": [
        "# baby2의 cry 메서드를 실행합니다.\n",
        "\n",
        "baby2.cry()"
      ]
    },
    {
      "cell_type": "code",
      "execution_count": 186,
      "id": "139d24c7",
      "metadata": {
        "colab": {
          "base_uri": "https://localhost:8080/"
        },
        "id": "139d24c7",
        "outputId": "e9c92b84-4804-4132-f031-ba7a0c476bf8"
      },
      "outputs": [
        {
          "output_type": "stream",
          "name": "stdout",
          "text": [
            "엄마 닮아서 걷기 못해\n"
          ]
        }
      ],
      "source": [
        "# baby2의 walk 메서드를 실행합니다.\n",
        "\n",
        "baby2.walk()"
      ]
    },
    {
      "cell_type": "code",
      "execution_count": 187,
      "id": "65970cb7",
      "metadata": {
        "colab": {
          "base_uri": "https://localhost:8080/"
        },
        "id": "65970cb7",
        "outputId": "0ea405f8-cee3-41e7-9512-125b273bd1da"
      },
      "outputs": [
        {
          "output_type": "stream",
          "name": "stdout",
          "text": [
            "수영 잘해\n"
          ]
        }
      ],
      "source": [
        "# baby2의 swim 메서드를 실행합니다.\n",
        "\n",
        "baby2.swim()"
      ]
    },
    {
      "cell_type": "code",
      "execution_count": 188,
      "id": "65a59c7b",
      "metadata": {
        "colab": {
          "base_uri": "https://localhost:8080/"
        },
        "id": "65a59c7b",
        "outputId": "fc6b999a-551a-420c-9b0c-5ff29d19393c"
      },
      "outputs": [
        {
          "output_type": "stream",
          "name": "stdout",
          "text": [
            "XX\n"
          ]
        }
      ],
      "source": [
        "# baby2의 gene 속성은 어떤 부모클래스의 속성값을 상속받는지 확인해봅시다.\n",
        "\n",
        "print(baby2.gene)"
      ]
    },
    {
      "cell_type": "markdown",
      "id": "b75c46ca",
      "metadata": {
        "id": "b75c46ca"
      },
      "source": [
        "### 상속관계에서의 이름 공간과 MRO (Method Resolution Order)\n",
        "\n",
        "- 기존의 `인스턴스 -> 클래스` 순으로 이름 공간을 탐색해나가는 과정에서 상속관계에 있으면 아래와 같이 확장됩니다.\n",
        "    * 인스턴스 -> 자식 클래스 -> 부모 클래스\n",
        "    \n",
        "- MRO는 해당 인스턴스의 클래스가 어떤 부모 클래스를 가지는지 확인하는 속성 또는 메서드입니다.\n",
        "\n",
        "---\n",
        "\n",
        "**활용법**\n",
        "\n",
        "\n",
        "```python\n",
        "ClassName.__mro__\n",
        "\n",
        "# 또는\n",
        "ClassName.mro()\n",
        "```"
      ]
    },
    {
      "cell_type": "code",
      "execution_count": 189,
      "id": "792a21fc",
      "metadata": {
        "id": "792a21fc"
      },
      "outputs": [],
      "source": [
        "# Mom, Dad 클래스를 정의해 보겠습니다.\n",
        "\n",
        "class Mom:\n",
        "    def walk(self):\n",
        "        print('사뿐사뿐')\n",
        "        \n",
        "        \n",
        "class Dad:\n",
        "    def walk(self):\n",
        "        print('저벅저벅')"
      ]
    },
    {
      "cell_type": "code",
      "execution_count": 190,
      "id": "7cf34b43",
      "metadata": {
        "id": "7cf34b43"
      },
      "outputs": [],
      "source": [
        "# Mom, Dad 클래스를 활용하여 Daughter, Son 클래스를 정의합니다.\n",
        "\n",
        "class Daughter(Mom, Dad):\n",
        "    pass\n",
        "\n",
        "\n",
        "class Son(Dad, Mom):\n",
        "    pass"
      ]
    },
    {
      "cell_type": "code",
      "execution_count": 191,
      "id": "fe003a45",
      "metadata": {
        "colab": {
          "base_uri": "https://localhost:8080/"
        },
        "id": "fe003a45",
        "outputId": "317fe684-175f-45cc-a27a-0c5b87164e4d"
      },
      "outputs": [
        {
          "output_type": "stream",
          "name": "stdout",
          "text": [
            "사뿐사뿐\n",
            "저벅저벅\n"
          ]
        }
      ],
      "source": [
        "# Daugher, Son 클래스의 인스턴스를 생성합니다.\n",
        "# 각각의 인스턴스에서 메서드를 호출하고 결과가 어떻게 나오는지 확인합니다.\n",
        "# 아래 코드를 실행해시켜보세요.\n",
        "\n",
        "d = Daughter()\n",
        "s = Son()\n",
        "\n",
        "d.walk()\n",
        "s.walk()"
      ]
    },
    {
      "cell_type": "code",
      "execution_count": 192,
      "id": "0a9c8e9a",
      "metadata": {
        "colab": {
          "base_uri": "https://localhost:8080/"
        },
        "id": "0a9c8e9a",
        "outputId": "e53ba778-bf9f-460b-d43c-c94155407ca5"
      },
      "outputs": [
        {
          "output_type": "stream",
          "name": "stdout",
          "text": [
            "(<class '__main__.Daughter'>, <class '__main__.Mom'>, <class '__main__.Dad'>, <class 'object'>)\n"
          ]
        }
      ],
      "source": [
        "# Daughter 클래스의 mro 속성을 이용하여 확인해봅시다.\n",
        "\n",
        "print(Daughter.__mro__)"
      ]
    },
    {
      "cell_type": "code",
      "execution_count": 193,
      "id": "59e044ee",
      "metadata": {
        "colab": {
          "base_uri": "https://localhost:8080/"
        },
        "id": "59e044ee",
        "outputId": "77e01be1-c758-44c4-84f1-d0343e76e7f6"
      },
      "outputs": [
        {
          "output_type": "stream",
          "name": "stdout",
          "text": [
            "(<class '__main__.Son'>, <class '__main__.Dad'>, <class '__main__.Mom'>, <class 'object'>)\n"
          ]
        }
      ],
      "source": [
        "# Son 클래스의 mro 속성을 이용하여 확인해봅시다.\n",
        "\n",
        "print(Son.__mro__)"
      ]
    }
  ],
  "metadata": {
    "kernelspec": {
      "display_name": "Python 3 (ipykernel)",
      "language": "python",
      "name": "python3"
    },
    "language_info": {
      "codemirror_mode": {
        "name": "ipython",
        "version": 3
      },
      "file_extension": ".py",
      "mimetype": "text/x-python",
      "name": "python",
      "nbconvert_exporter": "python",
      "pygments_lexer": "ipython3",
      "version": "3.8.2"
    },
    "toc": {
      "base_numbering": 1,
      "nav_menu": {},
      "number_sections": true,
      "sideBar": true,
      "skip_h1_title": false,
      "title_cell": "Table of Contents",
      "title_sidebar": "Contents",
      "toc_cell": false,
      "toc_position": {
        "height": "calc(100% - 180px)",
        "left": "10px",
        "top": "150px",
        "width": "341px"
      },
      "toc_section_display": true,
      "toc_window_display": false
    },
    "colab": {
      "name": "08_02_python_workshop_복습_OOP.ipynb",
      "provenance": [],
      "collapsed_sections": [
        "aerial-stomach",
        "necessary-therapist",
        "critical-reader"
      ]
    }
  },
  "nbformat": 4,
  "nbformat_minor": 5
}