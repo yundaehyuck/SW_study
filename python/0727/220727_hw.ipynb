{
  "nbformat": 4,
  "nbformat_minor": 0,
  "metadata": {
    "colab": {
      "name": "220727_hw.ipynb",
      "provenance": [],
      "collapsed_sections": []
    },
    "kernelspec": {
      "name": "python3",
      "display_name": "Python 3"
    },
    "language_info": {
      "name": "python"
    }
  },
  "cells": [
    {
      "cell_type": "markdown",
      "source": [
        "# 7-1. type class\n",
        "\n",
        "python은 객체 지향 프로그래밍 언어로 기본적으로 정의되어 있는 클래스를 최소 5가지 이상 작성  \n",
        "\n",
        "**답) str, int, float, list, tuple 등등 **"
      ],
      "metadata": {
        "id": "zy9D8lfKIbm5"
      }
    },
    {
      "cell_type": "code",
      "execution_count": 3,
      "metadata": {
        "colab": {
          "base_uri": "https://localhost:8080/"
        },
        "id": "4BJONPNgIVf7",
        "outputId": "76bdc499-b63e-4b04-827e-104cbb0d5885"
      },
      "outputs": [
        {
          "output_type": "stream",
          "name": "stdout",
          "text": [
            "<class 'str'>\n",
            "<class 'int'>\n",
            "<class 'float'>\n",
            "<class 'list'>\n",
            "<class 'tuple'>\n"
          ]
        }
      ],
      "source": [
        "print(type(str()))\n",
        "\n",
        "print(type(int()))\n",
        "\n",
        "print(type(float()))\n",
        "\n",
        "print(type(list()))\n",
        "\n",
        "print(type(tuple()))"
      ]
    },
    {
      "cell_type": "code",
      "source": [
        ""
      ],
      "metadata": {
        "id": "k5khDtN3Ixga"
      },
      "execution_count": null,
      "outputs": []
    },
    {
      "cell_type": "markdown",
      "source": [
        "# 7-2. magic method\n",
        "\n",
        "_ _ init _ _, _ _ del _ _, _ _ str _ _, _ _ repr _ _ 이 각각 어떠한 역할을 하는지 간단히 작성"
      ],
      "metadata": {
        "id": "8wr300I7JA7x"
      }
    },
    {
      "cell_type": "markdown",
      "source": [
        "**7-2-1) _ _ init _ _은 class로부터 instance가 생성되면 반드시 먼저 수행되는 method**"
      ],
      "metadata": {
        "id": "QhIcP3z2Ja-2"
      }
    },
    {
      "cell_type": "code",
      "source": [
        "class Person():\n",
        "    \n",
        "    def __init__(self,name):\n",
        "        \n",
        "        self.name = name\n",
        "\n",
        "        print(f\"{name}인 인스턴스 생성\")\n",
        "\n",
        "daehyuck = Person(name='yundaehyuck')"
      ],
      "metadata": {
        "colab": {
          "base_uri": "https://localhost:8080/"
        },
        "id": "zl3g3EydIqnq",
        "outputId": "6554abd8-f441-46f3-bcb9-6998c86f48e6"
      },
      "execution_count": 5,
      "outputs": [
        {
          "output_type": "stream",
          "name": "stdout",
          "text": [
            "yundaehyuck인 인스턴스 생성\n"
          ]
        }
      ]
    },
    {
      "cell_type": "markdown",
      "source": [
        "**7-2-2) _ _ del _ _ 은 del로 인스턴스를 삭제할때 호출되는 method**"
      ],
      "metadata": {
        "id": "4Sl8EUVkJzh_"
      }
    },
    {
      "cell_type": "code",
      "source": [
        "class Person():\n",
        "    \n",
        "    def __init__(self,name):\n",
        "        \n",
        "        self.name = name\n",
        "    \n",
        "    def __del__(self):\n",
        "        \n",
        "        print(\"인스턴스가 삭제되었습니다.\")\n",
        "\n",
        "daehyuck = Person(name='yundaehyuck')\n",
        "\n",
        "print(daehyuck)\n",
        "\n",
        "del daehyuck\n",
        "\n",
        "print(daehyuck) #삭제되어서 print가 안된다"
      ],
      "metadata": {
        "colab": {
          "base_uri": "https://localhost:8080/",
          "height": 245
        },
        "id": "NCQ5UqayJtg0",
        "outputId": "ed0d526a-7ab4-4500-cf01-4ab24ab4a451"
      },
      "execution_count": 6,
      "outputs": [
        {
          "output_type": "stream",
          "name": "stdout",
          "text": [
            "<__main__.Person object at 0x7f280a93b550>\n",
            "인스턴스가 삭제되었습니다.\n"
          ]
        },
        {
          "output_type": "error",
          "ename": "NameError",
          "evalue": "ignored",
          "traceback": [
            "\u001b[0;31m---------------------------------------------------------------------------\u001b[0m",
            "\u001b[0;31mNameError\u001b[0m                                 Traceback (most recent call last)",
            "\u001b[0;32m<ipython-input-6-dbd9f7f7b997>\u001b[0m in \u001b[0;36m<module>\u001b[0;34m()\u001b[0m\n\u001b[1;32m     15\u001b[0m \u001b[0;32mdel\u001b[0m \u001b[0mdaehyuck\u001b[0m\u001b[0;34m\u001b[0m\u001b[0;34m\u001b[0m\u001b[0m\n\u001b[1;32m     16\u001b[0m \u001b[0;34m\u001b[0m\u001b[0m\n\u001b[0;32m---> 17\u001b[0;31m \u001b[0mprint\u001b[0m\u001b[0;34m(\u001b[0m\u001b[0mdaehyuck\u001b[0m\u001b[0;34m)\u001b[0m\u001b[0;34m\u001b[0m\u001b[0;34m\u001b[0m\u001b[0m\n\u001b[0m",
            "\u001b[0;31mNameError\u001b[0m: name 'daehyuck' is not defined"
          ]
        }
      ]
    },
    {
      "cell_type": "markdown",
      "source": [
        "3) _ _ str _ _은 인스턴스를 print()할때 출력하는 return값을 지정해준다\n",
        "\n",
        "**이렇게 알고 있었는데 str()함수에 의해 반환되는 인스턴스의 문자열 표현을 return하는 method**"
      ],
      "metadata": {
        "id": "AL9BrkAFKcuk"
      }
    },
    {
      "cell_type": "code",
      "source": [
        "class PersonNotStr():\n",
        "    \n",
        "    def __init__(self,name):\n",
        "        \n",
        "        self.name = name\n",
        "\n",
        "class Person():\n",
        "    \n",
        "    def __init__(self,name):\n",
        "        \n",
        "        self.name = name\n",
        "    \n",
        "    def __str__(self):\n",
        "        \n",
        "        return self.name"
      ],
      "metadata": {
        "id": "4bs0dlLRKYc8"
      },
      "execution_count": 21,
      "outputs": []
    },
    {
      "cell_type": "code",
      "source": [
        "daehyuck = PersonNotStr(name='yundaehyuck')\n",
        "\n",
        "print(daehyuck) #class 주소를 보여줌\n",
        "\n",
        "daehyuck = Person(name='yundaehyuck')\n",
        "\n",
        "print(daehyuck) #__str__의 return값을 보여줌"
      ],
      "metadata": {
        "colab": {
          "base_uri": "https://localhost:8080/"
        },
        "id": "NF6hmSlcLy4S",
        "outputId": "6cf8ca71-43f0-4591-8ef0-ec6386ff7d45"
      },
      "execution_count": 22,
      "outputs": [
        {
          "output_type": "stream",
          "name": "stdout",
          "text": [
            "<__main__.PersonNotStr object at 0x7f280a923d50>\n",
            "yundaehyuck\n"
          ]
        }
      ]
    },
    {
      "cell_type": "code",
      "source": [
        "daehyuck = PersonNotStr(name='yundaehyuck')\n",
        "\n",
        "print(str(daehyuck)) #class 주소를 반환함\n",
        "\n",
        "daehyuck = Person(name='yundaehyuck')\n",
        "\n",
        "print(str(daehyuck)) #str 함수에 의해 바뀌는 문자열표현값"
      ],
      "metadata": {
        "colab": {
          "base_uri": "https://localhost:8080/"
        },
        "id": "9_HzPoICNXAx",
        "outputId": "4b7fee56-09e8-4d47-8254-99f343319fa7"
      },
      "execution_count": 23,
      "outputs": [
        {
          "output_type": "stream",
          "name": "stdout",
          "text": [
            "<__main__.PersonNotStr object at 0x7f280a942710>\n",
            "yundaehyuck\n"
          ]
        }
      ]
    },
    {
      "cell_type": "markdown",
      "source": [
        "4) _ _ repr _ _ method도 _ _ str _ _과 마찬가지로 print할때 return값을 보여주도록 한다\n",
        "\n",
        "**_ _ str _ _과 구분하기 위해서 repr()함수에 의해 바뀌는 인스턴스의 문자열값을 return한다고함**\n",
        "\n",
        "**_ _ str _ _은 그냥 편하게, 프린트해서 표현하기 좋게 쓰는 비공식적인 객체의 문자열 표현이고 _ _ repr _ _은 더 많은 정보를 전달하는 공식적인 객체의 문자열 표현이라고 차이가 있다고함**"
      ],
      "metadata": {
        "id": "wVtq3qp1MUY-"
      }
    },
    {
      "cell_type": "code",
      "source": [
        "class PersonNotRepr():\n",
        "    \n",
        "    def __init__(self,name):\n",
        "        \n",
        "        self.name = name\n",
        "\n",
        "class Person():\n",
        "    \n",
        "    def __init__(self,name):\n",
        "        \n",
        "        self.name = name\n",
        "    \n",
        "    def __repr__(self):\n",
        "        \n",
        "        return self.name"
      ],
      "metadata": {
        "id": "Uq1gnAn4L4IC"
      },
      "execution_count": 17,
      "outputs": []
    },
    {
      "cell_type": "code",
      "source": [
        "daehyuck = PersonNotRepr(name = 'yundaehyuck')\n",
        "\n",
        "print(daehyuck) #주소값을 출력함\n",
        "\n",
        "daehyuck = Person(name = 'yundaehyuck')\n",
        "\n",
        "print(daehyuck) #__repr__의 return값을 출력함"
      ],
      "metadata": {
        "colab": {
          "base_uri": "https://localhost:8080/"
        },
        "id": "poYYbQB5MsdB",
        "outputId": "3a89456d-7feb-4431-996b-cc7d9c57c620"
      },
      "execution_count": 13,
      "outputs": [
        {
          "output_type": "stream",
          "name": "stdout",
          "text": [
            "<__main__.PersonNotRepr object at 0x7f280a85c650>\n",
            "yundaehyuck\n"
          ]
        }
      ]
    },
    {
      "cell_type": "code",
      "source": [
        "daehyuck = PersonNotRepr(name = 'yundaehyuck')\n",
        "\n",
        "print(repr(daehyuck)) #주소값을 반환함\n",
        "\n",
        "daehyuck = Person(name = 'yundaehyuck')\n",
        "\n",
        "print(repr(daehyuck)) #repr()함수에 의해 __repr__의 return값을 반환함"
      ],
      "metadata": {
        "colab": {
          "base_uri": "https://localhost:8080/"
        },
        "id": "kGGABw9uMwo6",
        "outputId": "13b6f895-6b3d-428f-a036-d125b4114296"
      },
      "execution_count": 20,
      "outputs": [
        {
          "output_type": "stream",
          "name": "stdout",
          "text": [
            "<__main__.PersonNotRepr object at 0x7f280a860810>\n",
            "yundaehyuck\n"
          ]
        }
      ]
    },
    {
      "cell_type": "code",
      "source": [
        ""
      ],
      "metadata": {
        "id": "USiGfMzLN_xc"
      },
      "execution_count": null,
      "outputs": []
    },
    {
      "cell_type": "markdown",
      "source": [
        "# 7-3. instance method\n",
        "\n",
        ".sort()와 같은 문자열, 리스트, 딕셔너리 등을 조작하는 메소드를 최소 3가지 이상 그 역할과 함께 작성\n",
        "\n",
        "**답) (list).reverse() : 주어진 리스트를 거꾸로 배열함**\n",
        "\n",
        "**(str).upper() : 주어진 string의 알파벳 소문자를 모두 알파벳 대문자로 바꿈**\n",
        "\n",
        "**(dict).pop(key) : 주어진 dict의 key에 대응하는 value를 반환하고 (dict)에서 해당하는 key를 삭제**\n",
        "\n"
      ],
      "metadata": {
        "id": "DaZX-nl6Rm9i"
      }
    },
    {
      "cell_type": "code",
      "source": [
        "a = [2,5,4,1,3]\n",
        "\n",
        "print(a)\n",
        "\n",
        "a.reverse()\n",
        "\n",
        "print(a) #원본을 거꾸로 배열시킴"
      ],
      "metadata": {
        "colab": {
          "base_uri": "https://localhost:8080/"
        },
        "id": "2AeLih1aO_n-",
        "outputId": "8f5c4f85-b766-4d8b-ce4e-e567b9569fca"
      },
      "execution_count": 28,
      "outputs": [
        {
          "output_type": "stream",
          "name": "stdout",
          "text": [
            "[2, 5, 4, 1, 3]\n",
            "[3, 1, 4, 5, 2]\n"
          ]
        }
      ]
    },
    {
      "cell_type": "code",
      "source": [
        "s = 'yundaehyuck'\n",
        "\n",
        "print(s)\n",
        "\n",
        "s = s.upper()\n",
        "\n",
        "print(s) #소문자를 모두 대문자로"
      ],
      "metadata": {
        "colab": {
          "base_uri": "https://localhost:8080/"
        },
        "id": "Y-0juRxWSaBS",
        "outputId": "dde69f43-6b27-43a9-bc7f-f1efc7e59a5d"
      },
      "execution_count": 29,
      "outputs": [
        {
          "output_type": "stream",
          "name": "stdout",
          "text": [
            "yundaehyuck\n",
            "YUNDAEHYUCK\n"
          ]
        }
      ]
    },
    {
      "cell_type": "code",
      "source": [
        "d = {'yun':'대혁','score':100}\n",
        "\n",
        "print(d)\n",
        "\n",
        "print(d.pop('score')) #key에 대응하는 value를 반환하고\n",
        "\n",
        "print(d) #원본 dict에서 해당하는 key를 삭제"
      ],
      "metadata": {
        "colab": {
          "base_uri": "https://localhost:8080/"
        },
        "id": "HpwRPEc1SkAv",
        "outputId": "2b553cbd-cfee-479d-efce-127dc2387860"
      },
      "execution_count": 31,
      "outputs": [
        {
          "output_type": "stream",
          "name": "stdout",
          "text": [
            "{'yun': '대혁', 'score': 100}\n",
            "100\n",
            "{'yun': '대혁'}\n"
          ]
        }
      ]
    },
    {
      "cell_type": "code",
      "source": [
        ""
      ],
      "metadata": {
        "id": "8IPcXrpaSuvN"
      },
      "execution_count": null,
      "outputs": []
    },
    {
      "cell_type": "markdown",
      "source": [
        "# 7-4) 오류의 종류\n",
        "\n",
        "제시된 오류들이 어떠한 경우에 발생하는지 간단히 작성"
      ],
      "metadata": {
        "id": "T7DUQFytTEul"
      }
    },
    {
      "cell_type": "markdown",
      "source": [
        "**1) zerodivisionerror : 0으로 나눌경우 발생**"
      ],
      "metadata": {
        "id": "_fSwdXDHUaL0"
      }
    },
    {
      "cell_type": "code",
      "source": [
        "print(10/0)"
      ],
      "metadata": {
        "colab": {
          "base_uri": "https://localhost:8080/",
          "height": 172
        },
        "id": "tv_4Xxp5UZJc",
        "outputId": "4c082644-1682-4ebd-b272-91ba7777c68c"
      },
      "execution_count": 32,
      "outputs": [
        {
          "output_type": "error",
          "ename": "ZeroDivisionError",
          "evalue": "ignored",
          "traceback": [
            "\u001b[0;31m---------------------------------------------------------------------------\u001b[0m",
            "\u001b[0;31mZeroDivisionError\u001b[0m                         Traceback (most recent call last)",
            "\u001b[0;32m<ipython-input-32-fe01563e1bc6>\u001b[0m in \u001b[0;36m<module>\u001b[0;34m()\u001b[0m\n\u001b[0;32m----> 1\u001b[0;31m \u001b[0mprint\u001b[0m\u001b[0;34m(\u001b[0m\u001b[0;36m10\u001b[0m\u001b[0;34m/\u001b[0m\u001b[0;36m0\u001b[0m\u001b[0;34m)\u001b[0m\u001b[0;34m\u001b[0m\u001b[0;34m\u001b[0m\u001b[0m\n\u001b[0m",
            "\u001b[0;31mZeroDivisionError\u001b[0m: division by zero"
          ]
        }
      ]
    },
    {
      "cell_type": "markdown",
      "source": [
        "**2) nameerror: 정의되지 않은 변수 이름을 호출할때 발생**"
      ],
      "metadata": {
        "id": "fC1dlN5oUiFK"
      }
    },
    {
      "cell_type": "code",
      "source": [
        "print(x)"
      ],
      "metadata": {
        "colab": {
          "base_uri": "https://localhost:8080/",
          "height": 172
        },
        "id": "9bm1fdZaUhDZ",
        "outputId": "4aec7331-d7fa-4788-82a5-ad7d54544dfa"
      },
      "execution_count": 33,
      "outputs": [
        {
          "output_type": "error",
          "ename": "NameError",
          "evalue": "ignored",
          "traceback": [
            "\u001b[0;31m---------------------------------------------------------------------------\u001b[0m",
            "\u001b[0;31mNameError\u001b[0m                                 Traceback (most recent call last)",
            "\u001b[0;32m<ipython-input-33-fc17d851ef81>\u001b[0m in \u001b[0;36m<module>\u001b[0;34m()\u001b[0m\n\u001b[0;32m----> 1\u001b[0;31m \u001b[0mprint\u001b[0m\u001b[0;34m(\u001b[0m\u001b[0mx\u001b[0m\u001b[0;34m)\u001b[0m\u001b[0;34m\u001b[0m\u001b[0;34m\u001b[0m\u001b[0m\n\u001b[0m",
            "\u001b[0;31mNameError\u001b[0m: name 'x' is not defined"
          ]
        }
      ]
    },
    {
      "cell_type": "markdown",
      "source": [
        "**3) typeerror: type이 서로 다른 두 값끼리 연산하면 발생**"
      ],
      "metadata": {
        "id": "ciybTWvlUpcL"
      }
    },
    {
      "cell_type": "code",
      "source": [
        "print(1 + '3')"
      ],
      "metadata": {
        "colab": {
          "base_uri": "https://localhost:8080/",
          "height": 172
        },
        "id": "WxiNFLi9UoYD",
        "outputId": "0533a55a-f2ab-48d3-d57f-83fb2d6e358c"
      },
      "execution_count": 34,
      "outputs": [
        {
          "output_type": "error",
          "ename": "TypeError",
          "evalue": "ignored",
          "traceback": [
            "\u001b[0;31m---------------------------------------------------------------------------\u001b[0m",
            "\u001b[0;31mTypeError\u001b[0m                                 Traceback (most recent call last)",
            "\u001b[0;32m<ipython-input-34-c012b9f186ed>\u001b[0m in \u001b[0;36m<module>\u001b[0;34m()\u001b[0m\n\u001b[0;32m----> 1\u001b[0;31m \u001b[0mprint\u001b[0m\u001b[0;34m(\u001b[0m\u001b[0;36m1\u001b[0m \u001b[0;34m+\u001b[0m \u001b[0;34m'3'\u001b[0m\u001b[0;34m)\u001b[0m\u001b[0;34m\u001b[0m\u001b[0;34m\u001b[0m\u001b[0m\n\u001b[0m",
            "\u001b[0;31mTypeError\u001b[0m: unsupported operand type(s) for +: 'int' and 'str'"
          ]
        }
      ]
    },
    {
      "cell_type": "markdown",
      "source": [
        "**4) indexerror: 리스트에서 존재하지 않는 index를 사용하여 값을 호출할때**"
      ],
      "metadata": {
        "id": "66_-iFmGU0aB"
      }
    },
    {
      "cell_type": "code",
      "source": [
        "a = []\n",
        "\n",
        "print(a[2])"
      ],
      "metadata": {
        "colab": {
          "base_uri": "https://localhost:8080/",
          "height": 209
        },
        "id": "Nos_yogtUzik",
        "outputId": "1c61e808-9091-413a-ec09-a9589abe9411"
      },
      "execution_count": 35,
      "outputs": [
        {
          "output_type": "error",
          "ename": "IndexError",
          "evalue": "ignored",
          "traceback": [
            "\u001b[0;31m---------------------------------------------------------------------------\u001b[0m",
            "\u001b[0;31mIndexError\u001b[0m                                Traceback (most recent call last)",
            "\u001b[0;32m<ipython-input-35-5714dc6e7e07>\u001b[0m in \u001b[0;36m<module>\u001b[0;34m()\u001b[0m\n\u001b[1;32m      1\u001b[0m \u001b[0ma\u001b[0m \u001b[0;34m=\u001b[0m \u001b[0;34m[\u001b[0m\u001b[0;34m]\u001b[0m\u001b[0;34m\u001b[0m\u001b[0;34m\u001b[0m\u001b[0m\n\u001b[1;32m      2\u001b[0m \u001b[0;34m\u001b[0m\u001b[0m\n\u001b[0;32m----> 3\u001b[0;31m \u001b[0mprint\u001b[0m\u001b[0;34m(\u001b[0m\u001b[0ma\u001b[0m\u001b[0;34m[\u001b[0m\u001b[0;36m2\u001b[0m\u001b[0;34m]\u001b[0m\u001b[0;34m)\u001b[0m\u001b[0;34m\u001b[0m\u001b[0;34m\u001b[0m\u001b[0m\n\u001b[0m",
            "\u001b[0;31mIndexError\u001b[0m: list index out of range"
          ]
        }
      ]
    },
    {
      "cell_type": "markdown",
      "source": [
        "**5) keyerror: dictionary에서 존재하지 않는 key를 이용하여 value를 호출할 때**"
      ],
      "metadata": {
        "id": "74e9UOYKU_Xj"
      }
    },
    {
      "cell_type": "code",
      "source": [
        "d = {}\n",
        "\n",
        "print(d['yun'])"
      ],
      "metadata": {
        "colab": {
          "base_uri": "https://localhost:8080/",
          "height": 209
        },
        "id": "AZfZhLlSU-Eb",
        "outputId": "ae408585-d14a-4350-9e69-0a83c5d52bd2"
      },
      "execution_count": 36,
      "outputs": [
        {
          "output_type": "error",
          "ename": "KeyError",
          "evalue": "ignored",
          "traceback": [
            "\u001b[0;31m---------------------------------------------------------------------------\u001b[0m",
            "\u001b[0;31mKeyError\u001b[0m                                  Traceback (most recent call last)",
            "\u001b[0;32m<ipython-input-36-e252cfbdc0c0>\u001b[0m in \u001b[0;36m<module>\u001b[0;34m()\u001b[0m\n\u001b[1;32m      1\u001b[0m \u001b[0md\u001b[0m \u001b[0;34m=\u001b[0m \u001b[0;34m{\u001b[0m\u001b[0;34m}\u001b[0m\u001b[0;34m\u001b[0m\u001b[0;34m\u001b[0m\u001b[0m\n\u001b[1;32m      2\u001b[0m \u001b[0;34m\u001b[0m\u001b[0m\n\u001b[0;32m----> 3\u001b[0;31m \u001b[0mprint\u001b[0m\u001b[0;34m(\u001b[0m\u001b[0md\u001b[0m\u001b[0;34m[\u001b[0m\u001b[0;34m'yun'\u001b[0m\u001b[0;34m]\u001b[0m\u001b[0;34m)\u001b[0m\u001b[0;34m\u001b[0m\u001b[0;34m\u001b[0m\u001b[0m\n\u001b[0m",
            "\u001b[0;31mKeyError\u001b[0m: 'yun'"
          ]
        }
      ]
    },
    {
      "cell_type": "markdown",
      "source": [
        "**6) Modulenotfounderror: 존재하지 않는 모듈을 호출하려고 할때**"
      ],
      "metadata": {
        "id": "2Y4xvox7VJiQ"
      }
    },
    {
      "cell_type": "code",
      "source": [
        "import ran"
      ],
      "metadata": {
        "colab": {
          "base_uri": "https://localhost:8080/",
          "height": 318
        },
        "id": "6luhK8xHVIwD",
        "outputId": "b360b87b-d170-41c8-b20f-c611e2ed2681"
      },
      "execution_count": 38,
      "outputs": [
        {
          "output_type": "error",
          "ename": "ModuleNotFoundError",
          "evalue": "ignored",
          "traceback": [
            "\u001b[0;31m---------------------------------------------------------------------------\u001b[0m",
            "\u001b[0;31mModuleNotFoundError\u001b[0m                       Traceback (most recent call last)",
            "\u001b[0;32m<ipython-input-38-ea6cab5ad7a5>\u001b[0m in \u001b[0;36m<module>\u001b[0;34m()\u001b[0m\n\u001b[0;32m----> 1\u001b[0;31m \u001b[0;32mimport\u001b[0m \u001b[0mran\u001b[0m\u001b[0;34m\u001b[0m\u001b[0;34m\u001b[0m\u001b[0m\n\u001b[0m",
            "\u001b[0;31mModuleNotFoundError\u001b[0m: No module named 'ran'",
            "",
            "\u001b[0;31m---------------------------------------------------------------------------\u001b[0;32m\nNOTE: If your import is failing due to a missing package, you can\nmanually install dependencies using either !pip or !apt.\n\nTo view examples of installing some common dependencies, click the\n\"Open Examples\" button below.\n\u001b[0;31m---------------------------------------------------------------------------\u001b[0m\n"
          ],
          "errorDetails": {
            "actions": [
              {
                "action": "open_url",
                "actionText": "Open Examples",
                "url": "/notebooks/snippets/importing_libraries.ipynb"
              }
            ]
          }
        }
      ]
    },
    {
      "cell_type": "markdown",
      "source": [
        "**7) importerror: 모듈 내부에서 찾을 수 없는 object를 가지고오려고 할때**"
      ],
      "metadata": {
        "id": "07z8cUfVVcJI"
      }
    },
    {
      "cell_type": "code",
      "source": [
        "from random import sam"
      ],
      "metadata": {
        "colab": {
          "base_uri": "https://localhost:8080/",
          "height": 318
        },
        "id": "yvB6KyQoVWZr",
        "outputId": "5452c76d-bb43-4aec-bd2c-f3aa48631d93"
      },
      "execution_count": 40,
      "outputs": [
        {
          "output_type": "error",
          "ename": "ImportError",
          "evalue": "ignored",
          "traceback": [
            "\u001b[0;31m---------------------------------------------------------------------------\u001b[0m",
            "\u001b[0;31mImportError\u001b[0m                               Traceback (most recent call last)",
            "\u001b[0;32m<ipython-input-40-55bee29ccea4>\u001b[0m in \u001b[0;36m<module>\u001b[0;34m()\u001b[0m\n\u001b[0;32m----> 1\u001b[0;31m \u001b[0;32mfrom\u001b[0m \u001b[0mrandom\u001b[0m \u001b[0;32mimport\u001b[0m \u001b[0msam\u001b[0m\u001b[0;34m\u001b[0m\u001b[0;34m\u001b[0m\u001b[0m\n\u001b[0m",
            "\u001b[0;31mImportError\u001b[0m: cannot import name 'sam' from 'random' (/usr/lib/python3.7/random.py)",
            "",
            "\u001b[0;31m---------------------------------------------------------------------------\u001b[0;32m\nNOTE: If your import is failing due to a missing package, you can\nmanually install dependencies using either !pip or !apt.\n\nTo view examples of installing some common dependencies, click the\n\"Open Examples\" button below.\n\u001b[0;31m---------------------------------------------------------------------------\u001b[0m\n"
          ],
          "errorDetails": {
            "actions": [
              {
                "action": "open_url",
                "actionText": "Open Examples",
                "url": "/notebooks/snippets/importing_libraries.ipynb"
              }
            ]
          }
        }
      ]
    },
    {
      "cell_type": "code",
      "source": [
        ""
      ],
      "metadata": {
        "id": "Br9dpTc7VlPL"
      },
      "execution_count": null,
      "outputs": []
    }
  ]
}