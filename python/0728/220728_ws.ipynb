{
  "nbformat": 4,
  "nbformat_minor": 0,
  "metadata": {
    "colab": {
      "name": "220728_ws.ipynb",
      "provenance": [],
      "collapsed_sections": []
    },
    "kernelspec": {
      "name": "python3",
      "display_name": "Python 3"
    },
    "language_info": {
      "name": "python"
    }
  },
  "cells": [
    {
      "cell_type": "markdown",
      "source": [
        "# 8-1. 도형 만들기\n",
        "\n",
        "다음 지시사항을 이용해서 Python 클래스를 활용하여 점(Point)과 사각형(Rectangle)을 표현"
      ],
      "metadata": {
        "id": "7msyjus9zzMM"
      }
    },
    {
      "cell_type": "code",
      "execution_count": 7,
      "metadata": {
        "id": "UpS8Rbfdztpy"
      },
      "outputs": [],
      "source": [
        "#Point class\n",
        "\n",
        "class Point():\n",
        "    \n",
        "    def __init__(self,x,y):\n",
        "        \n",
        "        self.x = x\n",
        "        self.y = y\n",
        "\n",
        "\n",
        "#Rectangle class\n",
        "\n",
        "class Rectangle():\n",
        "    \n",
        "    def __init__(self,p1,p2):\n",
        "        \n",
        "        self.p1 = p1\n",
        "        self.p2 = p2\n",
        "    \n",
        "    def get_area(self):\n",
        "        \n",
        "        return (self.p2.x - self.p1.x) * (self.p1.y - self.p2.y) #가로의 길이와 세로의 길이의 곱이 넓이\n",
        "\n",
        "    def get_perimeter(self):\n",
        "        \n",
        "        return 2*(self.p2.x - self.p1.x) + 2*(self.p1.y - self.p2.y) #가로의 길이의 2배와 세로의 길이 2배의 합이 둘레\n",
        "    \n",
        "    def is_square(self):\n",
        "        \n",
        "        return (self.p2.x - self.p1.x) == (self.p1.y - self.p2.y) #가로의 길이와 세로의 길이가 같으면 정사각형이니까 True, 다르면 False"
      ]
    },
    {
      "cell_type": "code",
      "source": [
        "p1 = Point(1,3)\n",
        "p2 = Point(3,1)\n",
        "r1 = Rectangle(p1,p2)\n",
        "\n",
        "print(r1.get_area())\n",
        "print(r1.get_perimeter())\n",
        "print(r1.is_square())\n",
        "\n",
        "p3 = Point(3,7)\n",
        "p4 = Point(6,4)\n",
        "r2 = Rectangle(p3,p4)\n",
        "\n",
        "print(r2.get_area())\n",
        "print(r2.get_perimeter())\n",
        "print(r2.is_square())"
      ],
      "metadata": {
        "colab": {
          "base_uri": "https://localhost:8080/"
        },
        "id": "__vUdvE105fG",
        "outputId": "3f0da8db-8460-46a0-b330-427a12616a1d"
      },
      "execution_count": 8,
      "outputs": [
        {
          "output_type": "stream",
          "name": "stdout",
          "text": [
            "4\n",
            "8\n",
            "True\n",
            "9\n",
            "12\n",
            "True\n"
          ]
        }
      ]
    },
    {
      "cell_type": "code",
      "source": [
        ""
      ],
      "metadata": {
        "id": "gamrLTyF1k3A"
      },
      "execution_count": null,
      "outputs": []
    }
  ]
}