{
  "nbformat": 4,
  "nbformat_minor": 0,
  "metadata": {
    "colab": {
      "name": "220728_hw.ipynb",
      "provenance": [],
      "collapsed_sections": []
    },
    "kernelspec": {
      "name": "python3",
      "display_name": "Python 3"
    },
    "language_info": {
      "name": "python"
    }
  },
  "cells": [
    {
      "cell_type": "markdown",
      "source": [
        "# 8-1. Circle 인스턴스 만들기\n",
        "\n",
        "아래와 같은 Circle 클래스에서 반지름이 3이고 x,y좌표가 (2,4)인 Circle 인스턴스를 만들고 넓이와 둘레를 출력"
      ],
      "metadata": {
        "id": "Gc8sRbq2wB3k"
      }
    },
    {
      "cell_type": "code",
      "execution_count": 1,
      "metadata": {
        "id": "o8mvJ-rOv6eO"
      },
      "outputs": [],
      "source": [
        "class Circle:\n",
        "    \n",
        "    pi = 3.14\n",
        "\n",
        "    def __init__(self,r,x,y):\n",
        "        \n",
        "        self.r = r\n",
        "        self.x = x\n",
        "        self.y = y\n",
        "    \n",
        "    def area(self):\n",
        "        \n",
        "        return Circle.pi*self.r*self.r\n",
        "    \n",
        "    def circumference(self):\n",
        "        \n",
        "        return 2 * Circle.pi * self.r\n",
        "    \n",
        "    def center(self):\n",
        "        \n",
        "        return (self.x, self.y)"
      ]
    },
    {
      "cell_type": "code",
      "source": [
        "circle = Circle(3,2,4) #반지름이 3, x=2, y=4인 인스턴스 생성\n",
        "\n",
        "print(f'넓이: {circle.area()}') #넓이\n",
        "print(f'둘레: {circle.circumference()}') #둘레"
      ],
      "metadata": {
        "colab": {
          "base_uri": "https://localhost:8080/"
        },
        "id": "x_rnwghuw20q",
        "outputId": "04176906-fa59-4f65-e657-bb35c1e874b2"
      },
      "execution_count": 2,
      "outputs": [
        {
          "output_type": "stream",
          "name": "stdout",
          "text": [
            "넓이: 28.259999999999998\n",
            "둘레: 18.84\n"
          ]
        }
      ]
    },
    {
      "cell_type": "code",
      "source": [
        ""
      ],
      "metadata": {
        "id": "6XHtZM-IxOve"
      },
      "execution_count": null,
      "outputs": []
    },
    {
      "cell_type": "markdown",
      "source": [
        "# 8-2. Dog과 Bird는 Animal이다\n",
        "\n",
        "다음과 같은 Animal 클래스가 주어질 때 해당 클래스를 상속 받아 아래의 보기와 같이 동작하는 Dog 클래스와 Bird 클래스를 작성"
      ],
      "metadata": {
        "id": "tC7prcQbxRVC"
      }
    },
    {
      "cell_type": "code",
      "source": [
        "class Animal:\n",
        "    \n",
        "    def __init__(self,name):\n",
        "        \n",
        "        self.name = name\n",
        "    \n",
        "    def walk(self):\n",
        "        \n",
        "        print(f'{self.name}! 걷는다!')\n",
        "    \n",
        "    def eat(self):\n",
        "        \n",
        "        print(f'{self.name}! 먹는다!')"
      ],
      "metadata": {
        "id": "h_e2VN17xZvM"
      },
      "execution_count": 3,
      "outputs": []
    },
    {
      "cell_type": "code",
      "source": [
        "class Dog(Animal): #Animal class를 상속받아\n",
        "    \n",
        "    def __init__(self,name):\n",
        "        \n",
        "        super().__init__(name) #animal class 내용을 그대로 가지고와\n",
        "\n",
        "    def run(self):\n",
        "        \n",
        "        print(f'{self.name}! 달린다!')\n",
        "    \n",
        "    def bark(self):\n",
        "        \n",
        "        print(f'{self.name}! 짖는다!')\n",
        "\n",
        "\n",
        "class Bird(Animal): #마찬가지로 Animal class를 상속받고\n",
        "    \n",
        "    def __init__(self,name):\n",
        "        \n",
        "        super().__init__(name) #Animal class 내용을 그대로 가지고오고\n",
        "    \n",
        "    def fly(self):\n",
        "        \n",
        "        print(f'{self.name}! 푸드덕!')\n",
        "  \n",
        "dog = Dog('꼽이')\n",
        "dog.run()\n",
        "dog.bark()\n",
        "\n",
        "bird = Bird('구구')\n",
        "bird.walk()\n",
        "bird.eat()\n",
        "bird.fly()"
      ],
      "metadata": {
        "colab": {
          "base_uri": "https://localhost:8080/"
        },
        "id": "MliORf8UxnDo",
        "outputId": "361e4c8d-ec72-4672-e0d6-2d23a472129f"
      },
      "execution_count": 4,
      "outputs": [
        {
          "output_type": "stream",
          "name": "stdout",
          "text": [
            "꼽이! 달린다!\n",
            "꼽이! 짖는다!\n",
            "구구! 걷는다!\n",
            "구구! 먹는다!\n",
            "구구! 푸드덕!\n"
          ]
        }
      ]
    },
    {
      "cell_type": "code",
      "source": [
        ""
      ],
      "metadata": {
        "id": "j8Zj8hx3yhlw"
      },
      "execution_count": null,
      "outputs": []
    },
    {
      "cell_type": "markdown",
      "source": [
        "# 8-3. Module Import\n",
        "\n",
        "아래와 같은 코드가 같은 폴더 안의 fibo.py안에 있을 때 함수를 실행할 수 있는 import 문을 작성하시오"
      ],
      "metadata": {
        "id": "HSJ8nItlyqkj"
      }
    },
    {
      "cell_type": "code",
      "source": [
        "#fibo.py\n",
        "\n",
        "def fibo_recursion(n):\n",
        "    \n",
        "    if n < 2:\n",
        "        \n",
        "        return n\n",
        "    \n",
        "    else:\n",
        "        \n",
        "        return fibo_recursion(n-1) + fibo_recursion(n-2)"
      ],
      "metadata": {
        "id": "F96bz2B_yzMy"
      },
      "execution_count": 5,
      "outputs": []
    },
    {
      "cell_type": "code",
      "source": [
        "from fibo import fibo_recursion as recursion #fibo 모듈에서 fibo_recursion() 함수를 가지고 와서 recursion으로 명명\n",
        "\n",
        "recursion(4) #3"
      ],
      "metadata": {
        "colab": {
          "base_uri": "https://localhost:8080/"
        },
        "id": "8d33lOjSy93s",
        "outputId": "c291dd93-83d3-4bf7-8d4d-b4aee9a57e68"
      },
      "execution_count": 6,
      "outputs": [
        {
          "output_type": "execute_result",
          "data": {
            "text/plain": [
              "3"
            ]
          },
          "metadata": {},
          "execution_count": 6
        }
      ]
    }
  ]
}