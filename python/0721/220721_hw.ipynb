{
  "nbformat": 4,
  "nbformat_minor": 0,
  "metadata": {
    "colab": {
      "name": "220721_hw.ipynb",
      "provenance": [],
      "collapsed_sections": []
    },
    "kernelspec": {
      "name": "python3",
      "display_name": "Python 3"
    },
    "language_info": {
      "name": "python"
    }
  },
  "cells": [
    {
      "cell_type": "markdown",
      "source": [
        "# 4-1. 위치 인자와 키워드 인자\n",
        "\n",
        "다음과 같은 함수에서 (1)~(4)중 실행 시 오류가 발생하는 코드\n",
        "\n",
        "**(답) (4)번 : positional argument는 keyword argument보다 앞에와야함**  \n"
      ],
      "metadata": {
        "id": "0hBlguukao0s"
      }
    },
    {
      "cell_type": "code",
      "execution_count": 1,
      "metadata": {
        "id": "mwvirPsIaiPJ"
      },
      "outputs": [],
      "source": [
        "def ssafy(name, location='서울'):\n",
        "    \n",
        "    print(f'{name}의 지역은 {location}입니다.')"
      ]
    },
    {
      "cell_type": "code",
      "source": [
        "#(1)\n",
        "ssafy(' 가흔')"
      ],
      "metadata": {
        "colab": {
          "base_uri": "https://localhost:8080/"
        },
        "id": "ay0qc752a_th",
        "outputId": "ab799c51-0ad1-4fd0-a913-42b1a128203b"
      },
      "execution_count": 2,
      "outputs": [
        {
          "output_type": "stream",
          "name": "stdout",
          "text": [
            " 가흔의 지역은 서울입니다.\n"
          ]
        }
      ]
    },
    {
      "cell_type": "code",
      "source": [
        "#(2)\n",
        "ssafy(location='부울경',name='승현')"
      ],
      "metadata": {
        "colab": {
          "base_uri": "https://localhost:8080/"
        },
        "id": "D4vxo4r2bDCQ",
        "outputId": "357b4d9d-86f1-4928-af85-a2d53080b1df"
      },
      "execution_count": 3,
      "outputs": [
        {
          "output_type": "stream",
          "name": "stdout",
          "text": [
            "승현의 지역은 부울경입니다.\n"
          ]
        }
      ]
    },
    {
      "cell_type": "code",
      "source": [
        "#(3)\n",
        "ssafy(' 지우', location='서울')"
      ],
      "metadata": {
        "colab": {
          "base_uri": "https://localhost:8080/"
        },
        "id": "TmpKcFVlbIhG",
        "outputId": "6f60e0ef-9720-45b3-ce9e-a54bedea6a6c"
      },
      "execution_count": 4,
      "outputs": [
        {
          "output_type": "stream",
          "name": "stdout",
          "text": [
            " 지우의 지역은 서울입니다.\n"
          ]
        }
      ]
    },
    {
      "cell_type": "code",
      "source": [
        "#(4)\n",
        "ssafy(name=' 승호','광주')"
      ],
      "metadata": {
        "colab": {
          "base_uri": "https://localhost:8080/",
          "height": 138
        },
        "id": "vHe2e7ZGbMP7",
        "outputId": "63d8b885-1443-46a8-eab7-dc9f08ce28ab"
      },
      "execution_count": 5,
      "outputs": [
        {
          "output_type": "error",
          "ename": "SyntaxError",
          "evalue": "ignored",
          "traceback": [
            "\u001b[0;36m  File \u001b[0;32m\"<ipython-input-5-391b16b0c699>\"\u001b[0;36m, line \u001b[0;32m2\u001b[0m\n\u001b[0;31m    ssafy(name=' 승호','광주')\u001b[0m\n\u001b[0m                        ^\u001b[0m\n\u001b[0;31mSyntaxError\u001b[0m\u001b[0;31m:\u001b[0m positional argument follows keyword argument\n"
          ]
        }
      ]
    },
    {
      "cell_type": "code",
      "source": [
        ""
      ],
      "metadata": {
        "id": "SIVyqAAVbR40"
      },
      "execution_count": null,
      "outputs": []
    },
    {
      "cell_type": "markdown",
      "source": [
        "# 4-2. 가변 인자 리스트\n",
        "\n",
        "가변 인자 리스트를 사용해서 개수가 정해지지 않은 여러 정수들을 받아 해당 정수들의 평균을 반환하는 my_avg 함수 작성"
      ],
      "metadata": {
        "id": "x-mbCiE7eQhc"
      }
    },
    {
      "cell_type": "code",
      "source": [
        "def my_avg(*integers):\n",
        "    \n",
        "    return sum(integers)/len(integers)"
      ],
      "metadata": {
        "id": "inJDKcxleWS8"
      },
      "execution_count": 6,
      "outputs": []
    },
    {
      "cell_type": "code",
      "source": [
        "print(my_avg(77,83,95,80,70))"
      ],
      "metadata": {
        "colab": {
          "base_uri": "https://localhost:8080/"
        },
        "id": "DjUzZzhsehOP",
        "outputId": "a1b02a76-ef47-48ef-9605-28a9e76db612"
      },
      "execution_count": 7,
      "outputs": [
        {
          "output_type": "stream",
          "name": "stdout",
          "text": [
            "81.0\n"
          ]
        }
      ]
    },
    {
      "cell_type": "code",
      "source": [
        "print(my_avg(3,2,5,6,1,7,9,3,10,2,3,5,6))"
      ],
      "metadata": {
        "colab": {
          "base_uri": "https://localhost:8080/"
        },
        "id": "RPMus8i8elBm",
        "outputId": "1672c9bb-24f7-4c34-d750-6b4f4368e57d"
      },
      "execution_count": 8,
      "outputs": [
        {
          "output_type": "stream",
          "name": "stdout",
          "text": [
            "4.769230769230769\n"
          ]
        }
      ]
    },
    {
      "cell_type": "code",
      "source": [
        ""
      ],
      "metadata": {
        "id": "uAe4Kribeq_w"
      },
      "execution_count": null,
      "outputs": []
    },
    {
      "cell_type": "markdown",
      "source": [
        "# 4-3. 반환값\n",
        "\n",
        "다음과 같이 함수를 선언하고 호출할 때 result에 저장된 값과 그 값이 나온 이유를 작성\n",
        "\n",
        "**(답) None, my_func(a,b)에서 print(c)는 c를 return하는 것이 아니고 출력해서 보여주는 것이며 함수의 return값이 없기 때문에 None을 반환하여 result에 None이 저장된다** "
      ],
      "metadata": {
        "id": "3nGBU1xCetow"
      }
    },
    {
      "cell_type": "code",
      "source": [
        "def my_func(a,b):\n",
        "    \n",
        "    c = a + b\n",
        "    print(c)\n",
        "\n",
        "result = my_func(3,7)"
      ],
      "metadata": {
        "colab": {
          "base_uri": "https://localhost:8080/"
        },
        "id": "wJEno5MXezaZ",
        "outputId": "9ecbd239-ac66-4dc3-9857-7e4e6b2fbc74"
      },
      "execution_count": 9,
      "outputs": [
        {
          "output_type": "stream",
          "name": "stdout",
          "text": [
            "10\n"
          ]
        }
      ]
    },
    {
      "cell_type": "code",
      "source": [
        "print(result)"
      ],
      "metadata": {
        "colab": {
          "base_uri": "https://localhost:8080/"
        },
        "id": "Fqwh2zFhe5z2",
        "outputId": "6f512a66-8eb8-4ca8-9bb1-c1daf98defcc"
      },
      "execution_count": 10,
      "outputs": [
        {
          "output_type": "stream",
          "name": "stdout",
          "text": [
            "None\n"
          ]
        }
      ]
    },
    {
      "cell_type": "code",
      "source": [
        ""
      ],
      "metadata": {
        "id": "fZI4T8Lae7HJ"
      },
      "execution_count": null,
      "outputs": []
    },
    {
      "cell_type": "markdown",
      "source": [
        "# 4-4. 이름 공간(Namespace)\n",
        "\n",
        "python에서 변수를 찾을 때 접근하는 이름 공간을 순서대로 작성  \n",
        "\n",
        "**(답) : Local space - Enclosed space - Global space - Built-in space 순서대로 변수 이름을 찾기 위해 접근한다** "
      ],
      "metadata": {
        "id": "cgZgrQcIfUW1"
      }
    },
    {
      "cell_type": "code",
      "source": [
        ""
      ],
      "metadata": {
        "id": "ZJ_OsEZOfk7H"
      },
      "execution_count": null,
      "outputs": []
    },
    {
      "cell_type": "markdown",
      "source": [
        "# 4-5. 매개변수와 인자, 그리고 반환\n",
        "\n",
        "아래 (1)~(4)에서 옳지 않은 것은?  \n",
        "\n",
        "**(답): (1)**\n",
        "\n",
        "(1) 함수는 오직 하나의 객체만 반환할 수 있으므로 'return a,b'와 ~~같이 쓸 수 없다~~ ==> **(a,b)라는 tuple을 return할 수 있다**  \n",
        "\n",
        "(2) 함수에서 return을 작성하지 않으면 None을 반환  \n",
        "\n",
        "(3) 함수의 매개변수는 함수를 선언할 때 설정한 값이며, 전달 인자(argument)는 함수를 호출할 때 넘겨주는 값  \n",
        "\n",
        "(4) 가변 인자를 설정할 때는 함수 선언 시 매개변수 앞에 *을 붙이고, 이 때는 함수 내에서 tuple로 처리된다"
      ],
      "metadata": {
        "id": "U-ymNL6Lfnjv"
      }
    },
    {
      "cell_type": "code",
      "source": [
        "def test(x,y,z):\n",
        "    \n",
        "    a = x+y\n",
        "    b = y+z\n",
        "\n",
        "    return a,b\n",
        "\n",
        "\n",
        "t = test(3,4,5)\n",
        "\n",
        "print(t)\n",
        "print(type(t))"
      ],
      "metadata": {
        "colab": {
          "base_uri": "https://localhost:8080/"
        },
        "id": "h9FPVBomgOAT",
        "outputId": "5ce5e0d5-f295-473b-ce8c-be825c29a239"
      },
      "execution_count": 12,
      "outputs": [
        {
          "output_type": "stream",
          "name": "stdout",
          "text": [
            "(7, 9)\n",
            "<class 'tuple'>\n"
          ]
        }
      ]
    },
    {
      "cell_type": "code",
      "source": [
        ""
      ],
      "metadata": {
        "id": "vJ07KYIHgp5Q"
      },
      "execution_count": null,
      "outputs": []
    },
    {
      "cell_type": "markdown",
      "source": [
        "# 4-6. 재귀 함수\n",
        "\n",
        "재귀 함수를 사용했을 때 얻을 수 있는 장점과 단점을 반복문과 비교하여 작성\n",
        "\n",
        "**(답) : 장점으로는 코드가 간결해지면서 변수 사용을 줄이고 자연스럽게 보이는 경우도 있지만**   \n",
        "**단점으로는 입력값이 많아지면 메모리가 초과될 수 있고 실행 시간이 매우 오래걸릴 수 있음**"
      ],
      "metadata": {
        "id": "n60VKGfzgucu"
      }
    },
    {
      "cell_type": "code",
      "source": [
        "#반복문을 사용한 factorial\n",
        "\n",
        "#parameter n, for을 위한 변수 i, fact라는 누적곱을 위한 새로운 변수를 사용\n",
        "def loop_factorial(n):\n",
        "    \n",
        "    fact = 1\n",
        "\n",
        "    for i in range(1,n+1):\n",
        "        \n",
        "        fact *= i\n",
        "    \n",
        "    return fact\n",
        "\n",
        "#재귀함수를 사용한 factorial\n",
        "\n",
        "#변수 사용하지 않고 parameter n만 써도 됨\n",
        "\n",
        "def recur_factorial(n):\n",
        "    \n",
        "    if n == 0 or n == 1:\n",
        "        \n",
        "        return 1\n",
        "    \n",
        "    else:\n",
        "        \n",
        "        return n * recur_factorial(n-1)\n",
        "        \n"
      ],
      "metadata": {
        "id": "jFMUGYyOgyN7"
      },
      "execution_count": 18,
      "outputs": []
    },
    {
      "cell_type": "code",
      "source": [
        "#n=1000이면 반복문은 값을 구해주는데\n",
        "\n",
        "print(loop_factorial(1000))"
      ],
      "metadata": {
        "colab": {
          "base_uri": "https://localhost:8080/"
        },
        "id": "lqcIvgephhxQ",
        "outputId": "42145fdd-d1bf-4032-9d86-9b26e49400d9"
      },
      "execution_count": 17,
      "outputs": [
        {
          "output_type": "stream",
          "name": "stdout",
          "text": [
            "402387260077093773543702433923003985719374864210714632543799910429938512398629020592044208486969404800479988610197196058631666872994808558901323829669944590997424504087073759918823627727188732519779505950995276120874975462497043601418278094646496291056393887437886487337119181045825783647849977012476632889835955735432513185323958463075557409114262417474349347553428646576611667797396668820291207379143853719588249808126867838374559731746136085379534524221586593201928090878297308431392844403281231558611036976801357304216168747609675871348312025478589320767169132448426236131412508780208000261683151027341827977704784635868170164365024153691398281264810213092761244896359928705114964975419909342221566832572080821333186116811553615836546984046708975602900950537616475847728421889679646244945160765353408198901385442487984959953319101723355556602139450399736280750137837615307127761926849034352625200015888535147331611702103968175921510907788019393178114194545257223865541461062892187960223838971476088506276862967146674697562911234082439208160153780889893964518263243671616762179168909779911903754031274622289988005195444414282012187361745992642956581746628302955570299024324153181617210465832036786906117260158783520751516284225540265170483304226143974286933061690897968482590125458327168226458066526769958652682272807075781391858178889652208164348344825993266043367660176999612831860788386150279465955131156552036093988180612138558600301435694527224206344631797460594682573103790084024432438465657245014402821885252470935190620929023136493273497565513958720559654228749774011413346962715422845862377387538230483865688976461927383814900140767310446640259899490222221765904339901886018566526485061799702356193897017860040811889729918311021171229845901641921068884387121855646124960798722908519296819372388642614839657382291123125024186649353143970137428531926649875337218940694281434118520158014123344828015051399694290153483077644569099073152433278288269864602789864321139083506217095002597389863554277196742822248757586765752344220207573630569498825087968928162753848863396909959826280956121450994871701244516461260379029309120889086942028510640182154399457156805941872748998094254742173582401063677404595741785160829230135358081840096996372524230560855903700624271243416909004153690105933983835777939410970027753472000000000000000000000000000000000000000000000000000000000000000000000000000000000000000000000000000000000000000000000000000000000000000000000000000000000000000000000000000000000000000000000000000000000000000000000000000000000000000000000000000000000\n"
          ]
        }
      ]
    },
    {
      "cell_type": "code",
      "source": [
        "#n=1000이면 재귀함수는 에러나면서 구해주지 않는다\n",
        "\n",
        "print(recur_factorial(1000))"
      ],
      "metadata": {
        "colab": {
          "base_uri": "https://localhost:8080/",
          "height": 349
        },
        "id": "l5LjoDlxhkGn",
        "outputId": "c0fbe0ec-d906-4271-d40b-97693eb96135"
      },
      "execution_count": 16,
      "outputs": [
        {
          "output_type": "error",
          "ename": "RecursionError",
          "evalue": "ignored",
          "traceback": [
            "\u001b[0;31m---------------------------------------------------------------------------\u001b[0m",
            "\u001b[0;31mRecursionError\u001b[0m                            Traceback (most recent call last)",
            "\u001b[0;32m<ipython-input-16-6e9baf4eb83d>\u001b[0m in \u001b[0;36m<module>\u001b[0;34m()\u001b[0m\n\u001b[0;32m----> 1\u001b[0;31m \u001b[0mprint\u001b[0m\u001b[0;34m(\u001b[0m\u001b[0mrecur_factorial\u001b[0m\u001b[0;34m(\u001b[0m\u001b[0;36m1000\u001b[0m\u001b[0;34m)\u001b[0m\u001b[0;34m)\u001b[0m\u001b[0;34m\u001b[0m\u001b[0;34m\u001b[0m\u001b[0m\n\u001b[0m",
            "\u001b[0;32m<ipython-input-13-234b814dc281>\u001b[0m in \u001b[0;36mrecur_factorial\u001b[0;34m(n)\u001b[0m\n\u001b[1;32m     20\u001b[0m     \u001b[0;32melse\u001b[0m\u001b[0;34m:\u001b[0m\u001b[0;34m\u001b[0m\u001b[0;34m\u001b[0m\u001b[0m\n\u001b[1;32m     21\u001b[0m \u001b[0;34m\u001b[0m\u001b[0m\n\u001b[0;32m---> 22\u001b[0;31m         \u001b[0;32mreturn\u001b[0m \u001b[0mn\u001b[0m \u001b[0;34m*\u001b[0m \u001b[0mrecur_factorial\u001b[0m\u001b[0;34m(\u001b[0m\u001b[0mn\u001b[0m\u001b[0;34m-\u001b[0m\u001b[0;36m1\u001b[0m\u001b[0;34m)\u001b[0m\u001b[0;34m\u001b[0m\u001b[0;34m\u001b[0m\u001b[0m\n\u001b[0m\u001b[1;32m     23\u001b[0m \u001b[0;34m\u001b[0m\u001b[0m\n",
            "... last 1 frames repeated, from the frame below ...\n",
            "\u001b[0;32m<ipython-input-13-234b814dc281>\u001b[0m in \u001b[0;36mrecur_factorial\u001b[0;34m(n)\u001b[0m\n\u001b[1;32m     20\u001b[0m     \u001b[0;32melse\u001b[0m\u001b[0;34m:\u001b[0m\u001b[0;34m\u001b[0m\u001b[0;34m\u001b[0m\u001b[0m\n\u001b[1;32m     21\u001b[0m \u001b[0;34m\u001b[0m\u001b[0m\n\u001b[0;32m---> 22\u001b[0;31m         \u001b[0;32mreturn\u001b[0m \u001b[0mn\u001b[0m \u001b[0;34m*\u001b[0m \u001b[0mrecur_factorial\u001b[0m\u001b[0;34m(\u001b[0m\u001b[0mn\u001b[0m\u001b[0;34m-\u001b[0m\u001b[0;36m1\u001b[0m\u001b[0;34m)\u001b[0m\u001b[0;34m\u001b[0m\u001b[0;34m\u001b[0m\u001b[0m\n\u001b[0m\u001b[1;32m     23\u001b[0m \u001b[0;34m\u001b[0m\u001b[0m\n",
            "\u001b[0;31mRecursionError\u001b[0m: maximum recursion depth exceeded in comparison"
          ]
        }
      ]
    },
    {
      "cell_type": "code",
      "source": [
        ""
      ],
      "metadata": {
        "id": "27hpwStqhl6A"
      },
      "execution_count": null,
      "outputs": []
    }
  ]
}