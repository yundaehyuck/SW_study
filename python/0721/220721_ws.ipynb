{
  "nbformat": 4,
  "nbformat_minor": 0,
  "metadata": {
    "colab": {
      "name": "220721_ws.ipynb",
      "provenance": [],
      "collapsed_sections": []
    },
    "kernelspec": {
      "name": "python3",
      "display_name": "Python 3"
    },
    "language_info": {
      "name": "python"
    }
  },
  "cells": [
    {
      "cell_type": "markdown",
      "source": [
        "# 4-1. 간단한 N의 약수\n",
        "\n",
        "입력으로 1개의 정수 N이 주어질 때 N의 약수를 오름차순으로 출력하는 프로그램"
      ],
      "metadata": {
        "id": "V2FiRbrDixbH"
      }
    },
    {
      "cell_type": "code",
      "execution_count": null,
      "metadata": {
        "colab": {
          "base_uri": "https://localhost:8080/"
        },
        "id": "BT2GGI8Rip_n",
        "outputId": "dd9f1d47-db13-4b82-de20-8d7aa50d874f"
      },
      "outputs": [
        {
          "output_type": "stream",
          "name": "stdout",
          "text": [
            "10\n",
            "1 2 5 10\n"
          ]
        }
      ],
      "source": [
        "N = int(input())\n",
        "\n",
        "div_list = []\n",
        "\n",
        "for div in range(1,N+1):\n",
        "    \n",
        "    if N % div == 0:\n",
        "        \n",
        "        div_list.append(div)\n",
        "  \n",
        "\n",
        "print(*div_list,sep= ' ')\n",
        "    \n"
      ]
    },
    {
      "cell_type": "code",
      "source": [
        ""
      ],
      "metadata": {
        "id": "CTfp0upGjyw4"
      },
      "execution_count": null,
      "outputs": []
    },
    {
      "cell_type": "markdown",
      "source": [
        "# 4-2. list의 합 구하기\n",
        "\n",
        "정수로만 이루어진 list를 전달 받아 해당 list의 모든 요소들의 합을 반환하는 list_sum 함수를 built-in 함수인 sum()을 사용하지 않고 작성"
      ],
      "metadata": {
        "id": "QP4tP1FKj8JR"
      }
    },
    {
      "cell_type": "code",
      "source": [
        "def list_sum(int_list):\n",
        "    \n",
        "    int_sum = 0\n",
        "\n",
        "    for num in int_list:\n",
        "        \n",
        "        int_sum += num\n",
        "    \n",
        "    return int_sum\n",
        "\n",
        "print(list_sum([1,2,3,4,5]))"
      ],
      "metadata": {
        "colab": {
          "base_uri": "https://localhost:8080/"
        },
        "id": "ynx0XaQAkGjw",
        "outputId": "4267f456-d49b-46c3-ef12-dda03908997f"
      },
      "execution_count": null,
      "outputs": [
        {
          "output_type": "stream",
          "name": "stdout",
          "text": [
            "15\n"
          ]
        }
      ]
    },
    {
      "cell_type": "code",
      "source": [
        ""
      ],
      "metadata": {
        "id": "WguhX6GCkWIe"
      },
      "execution_count": null,
      "outputs": []
    },
    {
      "cell_type": "markdown",
      "source": [
        "# 4-3. dictionary로 이루어진 list의 합\n",
        "\n",
        "dictionary로 이루어진 list를 전달 받아 모든 dictionary의 'age' key에 해당하는 value들의 합을 반환하는 dict_list_sum 함수를 built-in 함수인 sum()을 사용하지 않고 작성"
      ],
      "metadata": {
        "id": "g4MKElOjkbC5"
      }
    },
    {
      "cell_type": "code",
      "source": [
        "def dict_list_sum(dict_list):\n",
        "    \n",
        "    age_sum = 0\n",
        "\n",
        "    for d in dict_list:\n",
        "        \n",
        "        age_sum += d['age']\n",
        "    \n",
        "    return age_sum\n",
        "\n",
        "print(dict_list_sum([{'name':'kim','age':12},{'name':'lee','age':4}]))"
      ],
      "metadata": {
        "colab": {
          "base_uri": "https://localhost:8080/"
        },
        "id": "4XUbp3g3knBC",
        "outputId": "ff184411-fe1c-4faf-85c6-88af8cb1792a"
      },
      "execution_count": null,
      "outputs": [
        {
          "output_type": "stream",
          "name": "stdout",
          "text": [
            "16\n"
          ]
        }
      ]
    },
    {
      "cell_type": "code",
      "source": [
        ""
      ],
      "metadata": {
        "id": "E62mp-HilFgn"
      },
      "execution_count": null,
      "outputs": []
    },
    {
      "cell_type": "markdown",
      "source": [
        "# 4-4. 2차원 list의 전체 합 구하기\n",
        "\n",
        "정수로만 이루어진 2차원 리스트를 전달받아 해당 list의 모든 요소들의 합을 반환하는 all_list_sum 함수를 built-in 함수인 sum()함수를 사용하지 않고 작성"
      ],
      "metadata": {
        "id": "5ikwMwfDlJMt"
      }
    },
    {
      "cell_type": "code",
      "source": [
        "def all_list_sum(two_list):\n",
        "    \n",
        "    list_sum = 0\n",
        "\n",
        "    for one_list in two_list:\n",
        "        \n",
        "        for num in one_list:\n",
        "            \n",
        "            list_sum += num\n",
        "    \n",
        "    return list_sum\n",
        "\n",
        "print(all_list_sum([[1],[2,3],[4,5,6],[7,8,9,10]]))"
      ],
      "metadata": {
        "colab": {
          "base_uri": "https://localhost:8080/"
        },
        "id": "-YGQ_5iWlSS4",
        "outputId": "50471b85-323c-4d50-c4cc-42108a9fb0b3"
      },
      "execution_count": null,
      "outputs": [
        {
          "output_type": "stream",
          "name": "stdout",
          "text": [
            "55\n"
          ]
        }
      ]
    },
    {
      "cell_type": "code",
      "source": [
        ""
      ],
      "metadata": {
        "id": "eZs46g3tlprN"
      },
      "execution_count": null,
      "outputs": []
    },
    {
      "cell_type": "markdown",
      "source": [
        "### 아스키 코드표 dict로 작성"
      ],
      "metadata": {
        "id": "Twbv2pyWlz8d"
      }
    },
    {
      "cell_type": "code",
      "source": [
        "as_code = {'A':65, 'B':66, 'C':67,'D':68,'E':69,'F':70,'G':71,'H':72,'I':73,\n",
        "           'J':74,'K':75,'L':76,'M':77,'N':78,'O':79,'P':80,'Q':81,'R':82,\n",
        "           'S':83,'T':84,'U':85,'V':86,'W':87,'X':88,'Y':89,'Z':90,'a':97,\n",
        "           'b':98,'c':99,'d':100,'e':101,'f':102,'g':103,'h':104,'i':105,'j':106,\n",
        "           'k':107,'l':108,'m':109,'n':110,'o':111,'p':112,'q':113,'r':114,'s':115,\n",
        "           't':116,'u':117,'v':118,'w':119,'x':120,'y':121,'z':122}"
      ],
      "metadata": {
        "id": "sIySPLt1mQ5J"
      },
      "execution_count": null,
      "outputs": []
    },
    {
      "cell_type": "code",
      "source": [
        "# 아스키 코드를 구하는 함수\n",
        "\n",
        "print(ord('a')) #하나의 문자를 아스키 코드로 변환\n",
        "\n",
        "print(chr(67)) #아스키 코드 정수값을 문자로 변환"
      ],
      "metadata": {
        "colab": {
          "base_uri": "https://localhost:8080/"
        },
        "id": "CGoXGKjCngsv",
        "outputId": "b47bae27-b14c-4f07-b1f2-317b3b9fe0fd"
      },
      "execution_count": null,
      "outputs": [
        {
          "output_type": "stream",
          "name": "stdout",
          "text": [
            "97\n",
            "C\n"
          ]
        }
      ]
    },
    {
      "cell_type": "markdown",
      "source": [
        "# 4-5. 숫자의 의미\n",
        "\n",
        "정수로 이루어진 list를 전달 받아, 각 정수에 대응되는 아스키 문자를 이어붙인 문자열을 반환하는 get_secret_word 함수 작성"
      ],
      "metadata": {
        "id": "-PhwTeMFnkUo"
      }
    },
    {
      "cell_type": "code",
      "source": [
        "as_code = {'A':65, 'B':66, 'C':67,'D':68,'E':69,'F':70,'G':71,'H':72,'I':73,\n",
        "           'J':74,'K':75,'L':76,'M':77,'N':78,'O':79,'P':80,'Q':81,'R':82,\n",
        "           'S':83,'T':84,'U':85,'V':86,'W':87,'X':88,'Y':89,'Z':90,'a':97,\n",
        "           'b':98,'c':99,'d':100,'e':101,'f':102,'g':103,'h':104,'i':105,'j':106,\n",
        "           'k':107,'l':108,'m':109,'n':110,'o':111,'p':112,'q':113,'r':114,'s':115,\n",
        "           't':116,'u':117,'v':118,'w':119,'x':120,'y':121,'z':122}\n",
        "\n",
        "def get_secret_word(int_list):\n",
        "    \n",
        "    #정수를 문자로 바꾸기 위해 as_code의 key:value를 value:key로 바꿈\n",
        "    reverse_as_code = {}\n",
        "\n",
        "    for key,value in as_code.items():\n",
        "        \n",
        "        reverse_as_code[value] = key\n",
        "    \n",
        "    #정수를 아스키 코드로 변환\n",
        "\n",
        "    as_string = ''\n",
        "\n",
        "    for num in int_list:\n",
        "        \n",
        "        as_string += reverse_as_code[num]\n",
        "    \n",
        "    return as_string\n",
        "\n",
        "\n",
        "print(get_secret_word([83,115,65,102,89]))\n",
        "\n",
        "\"\"\"#chr함수를 이용하여 구현\n",
        "\n",
        "def get_secret_number(int_list):\n",
        "    \n",
        "    as_string = ''\n",
        "\n",
        "    for num in int_list:\n",
        "        \n",
        "        as_string += chr(num) #아스키 숫자를 문자로 바꿔줌\n",
        "    \n",
        "    return as_string\"\"\"\n",
        "\n",
        "\n"
      ],
      "metadata": {
        "colab": {
          "base_uri": "https://localhost:8080/"
        },
        "id": "DpdiyWcNnt6Z",
        "outputId": "09dd5aaa-75c6-4961-e867-070864d025cc"
      },
      "execution_count": null,
      "outputs": [
        {
          "output_type": "stream",
          "name": "stdout",
          "text": [
            "SsAfY\n"
          ]
        }
      ]
    },
    {
      "cell_type": "code",
      "source": [
        ""
      ],
      "metadata": {
        "id": "bHXqY2jApLCz"
      },
      "execution_count": null,
      "outputs": []
    },
    {
      "cell_type": "markdown",
      "source": [
        "# 4-6. 내 이름은 몇일까?\n",
        "\n",
        "문자열을 전달 받아 해당 문자열의 각 문자에 대응되는 아스키 숫자들의 합을 반환하는 get_secret_number 함수 작성"
      ],
      "metadata": {
        "id": "K2efwtvFphv9"
      }
    },
    {
      "cell_type": "code",
      "source": [
        "as_code = {'A':65, 'B':66, 'C':67,'D':68,'E':69,'F':70,'G':71,'H':72,'I':73,\n",
        "           'J':74,'K':75,'L':76,'M':77,'N':78,'O':79,'P':80,'Q':81,'R':82,\n",
        "           'S':83,'T':84,'U':85,'V':86,'W':87,'X':88,'Y':89,'Z':90,'a':97,\n",
        "           'b':98,'c':99,'d':100,'e':101,'f':102,'g':103,'h':104,'i':105,'j':106,\n",
        "           'k':107,'l':108,'m':109,'n':110,'o':111,'p':112,'q':113,'r':114,'s':115,\n",
        "           't':116,'u':117,'v':118,'w':119,'x':120,'y':121,'z':122}\n",
        "\n",
        "def get_secret_number(s):\n",
        "    \n",
        "    as_sum = 0\n",
        "\n",
        "    for c in s:\n",
        "      \n",
        "        as_sum += as_code[c] #as_sum += ord(c) #문자를 아스키숫자로\n",
        "    \n",
        "    return as_sum\n",
        "\n",
        "print(get_secret_number('happy'))\n"
      ],
      "metadata": {
        "colab": {
          "base_uri": "https://localhost:8080/"
        },
        "id": "xBlkt17KpqOm",
        "outputId": "e89472d8-ae0f-474b-db6d-7c4d572ce3c5"
      },
      "execution_count": null,
      "outputs": [
        {
          "output_type": "stream",
          "name": "stdout",
          "text": [
            "546\n"
          ]
        }
      ]
    },
    {
      "cell_type": "code",
      "source": [
        ""
      ],
      "metadata": {
        "id": "0yriHdUWqH4b"
      },
      "execution_count": null,
      "outputs": []
    },
    {
      "cell_type": "markdown",
      "source": [
        "# 4-7. 강한 이름\n",
        "\n",
        "문자열 2개를 전달 받아 두 문자열의 각 문자에 대응되는 아스키 숫자들의 합을 비교하여 더 큰 합을 가진 문자열을 반환하는 get_string_word함수를 작성하시오  \n",
        "\n",
        "단 두 문자열의 아스키 숫자의 합이 같은 경우, 둘 다 반환"
      ],
      "metadata": {
        "id": "gy4jVqHHqKlB"
      }
    },
    {
      "cell_type": "code",
      "source": [
        "as_code = {'A':65, 'B':66, 'C':67,'D':68,'E':69,'F':70,'G':71,'H':72,'I':73,\n",
        "           'J':74,'K':75,'L':76,'M':77,'N':78,'O':79,'P':80,'Q':81,'R':82,\n",
        "           'S':83,'T':84,'U':85,'V':86,'W':87,'X':88,'Y':89,'Z':90,'a':97,\n",
        "           'b':98,'c':99,'d':100,'e':101,'f':102,'g':103,'h':104,'i':105,'j':106,\n",
        "           'k':107,'l':108,'m':109,'n':110,'o':111,'p':112,'q':113,'r':114,'s':115,\n",
        "           't':116,'u':117,'v':118,'w':119,'x':120,'y':121,'z':122}\n",
        "\n",
        "def get_strong_word(*strings):\n",
        "    \n",
        "    s1,s2 = strings\n",
        "\n",
        "    as_sum1 = 0\n",
        "    as_sum2 = 0\n",
        "\n",
        "    for c in s1:\n",
        "        \n",
        "        as_sum1 += as_code[c] #as_sum1 += ord(c)\n",
        "    \n",
        "    for c in s2:\n",
        "        \n",
        "        as_sum2 += as_code[c] #as_sum2 += ord(d)\n",
        "    \n",
        "    #as_sum1 = get_secret_number(s1)\n",
        "    #as_sum2 = get_secret_number(s2)\n",
        "    \n",
        "    if as_sum1 > as_sum2:\n",
        "        \n",
        "        return s1\n",
        "    \n",
        "    elif as_sum1 < as_sum2:\n",
        "        \n",
        "        return s2\n",
        "    \n",
        "    else:\n",
        "        \n",
        "        return s1,s2\n",
        "\n",
        "print(get_strong_word('z','a'))\n",
        "\n",
        "print(get_strong_word('delilah','dixon'))\n",
        "\n",
        "print(get_strong_word('moth','wolf'))"
      ],
      "metadata": {
        "colab": {
          "base_uri": "https://localhost:8080/"
        },
        "id": "OGNyF26wq9Z7",
        "outputId": "43c051b8-fc78-46d2-888a-ea2d08c0bd61"
      },
      "execution_count": null,
      "outputs": [
        {
          "output_type": "stream",
          "name": "stdout",
          "text": [
            "z\n",
            "delilah\n",
            "('moth', 'wolf')\n"
          ]
        }
      ]
    },
    {
      "cell_type": "code",
      "source": [
        ""
      ],
      "metadata": {
        "id": "0hfhg4fOuEUz"
      },
      "execution_count": null,
      "outputs": []
    }
  ]
}