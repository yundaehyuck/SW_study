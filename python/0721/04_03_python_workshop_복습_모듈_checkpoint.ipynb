{
  "cells": [
    {
      "cell_type": "markdown",
      "metadata": {
        "id": "5ymim8j9Nb1y"
      },
      "source": [
        "# 모듈(Module)\n",
        "\n",
        "- 모듈(module)은 특정 기능을 하는 코드를 담고 있는 파일(또는 스크립트)\n",
        "- 파이썬의 경우, 특정 기능을 파이썬 파일(.py) 단위로 작성한 것을 말합니다.\n"
      ]
    },
    {
      "cell_type": "markdown",
      "metadata": {
        "id": "gh9CEEC9Nb13"
      },
      "source": [
        "## 모듈 생성\n",
        "- jupyter notebook 파일 트리 화면에서 New > Text File을 선택해 새로운 파일을 만들어 주세요.\n",
        "- 파일의 이름을 `check.py`로 저장해 주세요."
      ]
    },
    {
      "cell_type": "code",
      "execution_count": null,
      "metadata": {
        "id": "IcVVbtrXNb13"
      },
      "outputs": [],
      "source": [
        "# check.py 파일에 짝수, 홀수를 판별하는 함수를 작성해봅시다.\n",
        "# 1. n을 매개변수로 받아 홀수인지를 판단하는 odd 함수를 작성해 주세요.\n",
        "# 2. return은 n이 홀수라면 True를, 아니라면 False를 return 합니다.\n",
        "\n",
        "def odd(n):\n",
        "    \n",
        "    if n % 2 == 1:\n",
        "        return True\n",
        "    \n",
        "    else:\n",
        "        return False\n"
      ]
    },
    {
      "cell_type": "code",
      "execution_count": null,
      "metadata": {
        "id": "wGePVnbQNb15"
      },
      "outputs": [],
      "source": [
        "# 3. n을 매개변수로 받아 짝수인지를 판단하는 even 함수를 작성해 주세요.\n",
        "# 4. return은 n이 짝수라면 True를, 아니라면 False를 return 합니다.\n",
        "\n",
        "def even(n):\n",
        "    \n",
        "    if n % 2 == 0:\n",
        "        \n",
        "        return True\n",
        "    \n",
        "    else:\n",
        "        return False"
      ]
    },
    {
      "cell_type": "markdown",
      "metadata": {
        "id": "Um_DfNsCNb17"
      },
      "source": [
        "## 모듈 활용\n",
        "\n",
        "### `import`\n",
        "- 모듈을 활용하기 위해서는 반드시 `import`문을 통해 내장 모듈을 이름공간(namespace)으로 가져와야 합니다.\n",
        "- `import`문이 사용된 코드의 위치에 따라 namespace가 결정됩니다.\n",
        "- 코드 최상단에 `import`문을 작성할 경우, Global namespace에 import됩니다.(함수 챕터에서 학습한 전역스코프와 지역스코프 참조)"
      ]
    },
    {
      "cell_type": "code",
      "execution_count": null,
      "metadata": {
        "id": "2FvyER3SNb18"
      },
      "outputs": [],
      "source": [
        "# import를 이용하여 작성한 check.py를 가져옵니다.\n",
        "\n",
        "import check"
      ]
    },
    {
      "cell_type": "code",
      "execution_count": null,
      "metadata": {
        "colab": {
          "base_uri": "https://localhost:8080/"
        },
        "id": "xCOLycLTNb18",
        "outputId": "53b9f7af-af5f-4433-ed0c-ad4a603cb792"
      },
      "outputs": [
        {
          "data": {
            "text/plain": [
              "['__builtins__',\n",
              " '__cached__',\n",
              " '__doc__',\n",
              " '__file__',\n",
              " '__loader__',\n",
              " '__name__',\n",
              " '__package__',\n",
              " '__spec__',\n",
              " 'even',\n",
              " 'odd']"
            ]
          },
          "execution_count": 4,
          "metadata": {},
          "output_type": "execute_result"
        }
      ],
      "source": [
        "# 우리가 만든 check 모듈의 odd, even 함수를 dir 함수를 통해 확인해봅시다.\n",
        "# dir 내장 함수는 하나의 객체를 매개변수로 넣어주면, \n",
        "# 해당 객체가 어떤 변수와 메서드(method)를 가지고 있는지 나열해 줍니다.\n",
        "\n",
        "dir(check)"
      ]
    },
    {
      "cell_type": "code",
      "execution_count": null,
      "metadata": {
        "colab": {
          "base_uri": "https://localhost:8080/"
        },
        "id": "vk-Uzho7Nb19",
        "outputId": "f95a5993-e4a9-4ccb-a6e1-df5fbd982fba"
      },
      "outputs": [
        {
          "name": "stdout",
          "output_type": "stream",
          "text": [
            "False\n",
            "True\n"
          ]
        }
      ],
      "source": [
        "# odd와 even 함수를 사용해봅시다.\n",
        "\n",
        "n = 4\n",
        "\n",
        "print(check.odd(n))\n",
        "print(check.even(n))"
      ]
    },
    {
      "cell_type": "markdown",
      "metadata": {
        "id": "qwjCQc9aNb1-"
      },
      "source": [
        "# 패키지(Package)\n",
        "\n",
        "- 패키지(package)는 하나의 디렉토리에 모듈(module)이 옹기종기 모여있는 형태를 말합니다. \n",
        "- 우리는 이 패키지를 점(`.`)으로 구분해서 패키지.모듈 이름(`package.module`)형태로 모듈을 구조화 할 수 있습니다."
      ]
    },
    {
      "cell_type": "markdown",
      "metadata": {
        "id": "VcKfVxJoNb1_"
      },
      "source": [
        "## 패키지 생성\n",
        "\n",
        "- jupyter notebook 파일 트리 화면에서 New > Folder를 선택합니다.\n",
        "- 그리고 다음과 같은 폴더 구조를 생성해 주세요.\n",
        "\n",
        "```python\n",
        "my_package/\n",
        "    __init__.py\n",
        "    math/\n",
        "        __init__.py\n",
        "        tools.py  \n",
        "```\n",
        "> 모듈 이름 `my_package.math`는 `my_package`라는 이름의 패키지에 있는 `math`라는 이름의 하위 패키지를 가리킵니다.\n",
        "\n",
        "- **`__init__.py`**가 뭐지?\n",
        "> `__init__.py`는 '이 파일이 있는 디렉터리를 하나의 파이썬 패키지로 인식해!'라고 파이썬에게 알려주는 역할을 하는 파일입니다. 사실 python 3.3 버전 이후부터는 이 파일이 없어도 패키지로 인식하지만, 우리가 작성하는 프로그램이 항상 python 3.3 버전 이상에서 실행된다는 보장을 할 수 없으므로 하위 버전 호환을 위해 `__init__.py`를 생성하는 것이 권장됩니다."
      ]
    },
    {
      "cell_type": "markdown",
      "metadata": {
        "id": "ptsj-g0-Nb1_"
      },
      "source": [
        "`math` 패키지 만들기\n",
        "- 아래의 파일 구조로 `math` 패키지를 만들어 주세요.\n",
        "- 모든 `__init__.py` 파일은 빈 파일로 만듭니다.\n",
        "```py\n",
        "my_package/\n",
        "    __init__.py\n",
        "    math/\n",
        "        __init__.py\n",
        "        tools.py \n",
        "```"
      ]
    },
    {
      "cell_type": "code",
      "execution_count": null,
      "metadata": {
        "id": "fnAz2q30Nb2A"
      },
      "outputs": [],
      "source": [
        "# 다음 코드를 math/tools.py에 작성해 주세요.\n",
        "\n",
        "pi = 3.14159265358979323846\n",
        "e = 2.71828182845904523536\n",
        "\n",
        "def my_max(a, b):\n",
        "    if a > b:\n",
        "        return a\n",
        "    else:\n",
        "        return b"
      ]
    },
    {
      "cell_type": "markdown",
      "metadata": {
        "id": "tKvcmb_sNb2B"
      },
      "source": [
        "`statistics` 패키지 만들기\n",
        "- 아래의 파일 구조로 `statistics` 패키지를 만들어 주세요.\n",
        "```py\n",
        "my_package/\n",
        "    __init__.py\n",
        "    math/\n",
        "        __init__.py\n",
        "        tools.py  \n",
        "    statistics/\n",
        "        __init__.py\n",
        "        tools.py\n",
        "```"
      ]
    },
    {
      "cell_type": "code",
      "execution_count": null,
      "metadata": {
        "id": "_1LV7lyhNb2B"
      },
      "outputs": [],
      "source": [
        "# 다음 코드를 statistics/tools.py에 작성해 주세요.\n",
        "\n",
        "def standard_deviation(values):\n",
        "    mean = sum(values) / len(values)\n",
        "    sum_var = sum(pow(value - mean, 2) for value in values) / len(values)\n",
        "    std_dev = math.sqrt(sum_var)\n",
        "    return std_dev\n"
      ]
    },
    {
      "cell_type": "markdown",
      "metadata": {
        "id": "Cm-n_hsbNb2C"
      },
      "source": [
        "## 패키지 활용\n",
        "- 모듈과 동일하게 `from`과 `import` 키워드를 활용해 가져와서 사용합니다."
      ]
    },
    {
      "cell_type": "markdown",
      "metadata": {
        "id": "4I5l8w36Nb2C"
      },
      "source": [
        "### `from` *패키지* `import` *모듈*\n",
        "\n",
        "`import`는 `from`과 함께 활용할 수 있습니다."
      ]
    },
    {
      "cell_type": "code",
      "execution_count": null,
      "metadata": {
        "id": "kgwgbJVrNb2D"
      },
      "outputs": [],
      "source": [
        "# math 패키지의 tools 모듈을 namespace에 추가해봅시다.\n",
        "\n",
        "from my_package.math import tools"
      ]
    },
    {
      "cell_type": "markdown",
      "metadata": {
        "id": "3i_siYQ9Nb2D"
      },
      "source": [
        "### `from` *패키지.모듈* `import` *데이터*\n",
        "\n",
        "특정한 함수 혹은 어트리뷰트만 활용하고 싶을 때는 아래와 같이 작성합니다."
      ]
    },
    {
      "cell_type": "code",
      "execution_count": null,
      "metadata": {
        "id": "8WxX215aNb2D",
        "outputId": "d32ada58-12d8-4b10-d3ce-140ebbdea27f"
      },
      "outputs": [
        {
          "name": "stdout",
          "output_type": "stream",
          "text": [
            "2.718281828459045\n"
          ]
        }
      ],
      "source": [
        "# math 패키지의 tools 모듈 내부에 있는 자연 상수 e를 print를 이용해 출력해보세요.\n",
        "\n",
        "from my_package.math.tools import e\n",
        "\n",
        "print(e)"
      ]
    },
    {
      "cell_type": "markdown",
      "metadata": {
        "id": "9zo3yjVUNb2E"
      },
      "source": [
        "### `from` *모듈* `import` `*`\n",
        "\n",
        "`*`는 해당하는 모듈 내의 모든 변수, 함수, 클래스를 가져옵니다."
      ]
    },
    {
      "cell_type": "code",
      "execution_count": null,
      "metadata": {
        "id": "AknEf60ANb2E",
        "outputId": "b3b90d2c-bf11-4afb-c77f-f755c141661d"
      },
      "outputs": [
        {
          "name": "stdout",
          "output_type": "stream",
          "text": [
            "3.141592653589793\n",
            "5\n"
          ]
        }
      ],
      "source": [
        "# math 패키지 내부의 tools 모듈에 있는 모든 변수와 함수를 가져와봅시다.\n",
        "# pi 변수와 my_max 함수를 사용해 보세요.\n",
        "\n",
        "from my_package.math.tools import *\n",
        "\n",
        "print(pi)\n",
        "\n",
        "a = 3\n",
        "\n",
        "b = 5\n",
        "\n",
        "print(my_max(a,b))"
      ]
    },
    {
      "cell_type": "markdown",
      "metadata": {
        "id": "AFst8vvwNb2E"
      },
      "source": [
        "### `from` *모듈* `import` *데이터*  `as` *별명*\n",
        "\n",
        "모든 데이터에는 `as`를 이용해서 새로운 이름(alias)을 붙일 수 있습니다."
      ]
    },
    {
      "cell_type": "code",
      "execution_count": null,
      "metadata": {
        "id": "Ws4WnXbNNb2E",
        "outputId": "0796f4aa-9ee3-4d0b-81b4-a2b420776978"
      },
      "outputs": [
        {
          "ename": "NameError",
          "evalue": "name 'math' is not defined",
          "output_type": "error",
          "traceback": [
            "\u001b[1;31m---------------------------------------------------------------------------\u001b[0m",
            "\u001b[1;31mNameError\u001b[0m                                 Traceback (most recent call last)",
            "\u001b[1;32m~\\AppData\\Local\\Temp/ipykernel_7756/2587654348.py\u001b[0m in \u001b[0;36m<module>\u001b[1;34m\u001b[0m\n\u001b[0;32m      5\u001b[0m \u001b[1;32mfrom\u001b[0m \u001b[0mmy_package\u001b[0m\u001b[1;33m.\u001b[0m\u001b[0mstatistics\u001b[0m\u001b[1;33m.\u001b[0m\u001b[0mtools\u001b[0m \u001b[1;32mimport\u001b[0m \u001b[0mstandard_deviation\u001b[0m \u001b[1;32mas\u001b[0m \u001b[0msd\u001b[0m\u001b[1;33m\u001b[0m\u001b[1;33m\u001b[0m\u001b[0m\n\u001b[0;32m      6\u001b[0m \u001b[1;33m\u001b[0m\u001b[0m\n\u001b[1;32m----> 7\u001b[1;33m \u001b[0mprint\u001b[0m\u001b[1;33m(\u001b[0m\u001b[0msd\u001b[0m\u001b[1;33m(\u001b[0m\u001b[1;33m[\u001b[0m\u001b[1;36m1\u001b[0m\u001b[1;33m,\u001b[0m\u001b[1;36m2\u001b[0m\u001b[1;33m,\u001b[0m\u001b[1;36m3\u001b[0m\u001b[1;33m,\u001b[0m\u001b[1;36m4\u001b[0m\u001b[1;33m,\u001b[0m\u001b[1;36m5\u001b[0m\u001b[1;33m]\u001b[0m\u001b[1;33m)\u001b[0m\u001b[1;33m)\u001b[0m\u001b[1;33m\u001b[0m\u001b[1;33m\u001b[0m\u001b[0m\n\u001b[0m",
            "\u001b[1;32m~\\Desktop\\prac\\python\\01_python\\practice\\0721\\복습\\my_package\\statistics\\tools.py\u001b[0m in \u001b[0;36mstandard_deviation\u001b[1;34m(values)\u001b[0m\n\u001b[0;32m      2\u001b[0m \u001b[1;33m\u001b[0m\u001b[0m\n\u001b[0;32m      3\u001b[0m \u001b[1;32mdef\u001b[0m \u001b[0mstandard_deviation\u001b[0m\u001b[1;33m(\u001b[0m\u001b[0mvalues\u001b[0m\u001b[1;33m)\u001b[0m\u001b[1;33m:\u001b[0m\u001b[1;33m\u001b[0m\u001b[1;33m\u001b[0m\u001b[0m\n\u001b[1;32m----> 4\u001b[1;33m     \u001b[0mmean\u001b[0m \u001b[1;33m=\u001b[0m \u001b[0msum\u001b[0m\u001b[1;33m(\u001b[0m\u001b[0mvalues\u001b[0m\u001b[1;33m)\u001b[0m \u001b[1;33m/\u001b[0m \u001b[0mlen\u001b[0m\u001b[1;33m(\u001b[0m\u001b[0mvalues\u001b[0m\u001b[1;33m)\u001b[0m\u001b[1;33m\u001b[0m\u001b[1;33m\u001b[0m\u001b[0m\n\u001b[0m\u001b[0;32m      5\u001b[0m     \u001b[0msum_var\u001b[0m \u001b[1;33m=\u001b[0m \u001b[0msum\u001b[0m\u001b[1;33m(\u001b[0m\u001b[0mpow\u001b[0m\u001b[1;33m(\u001b[0m\u001b[0mvalue\u001b[0m \u001b[1;33m-\u001b[0m \u001b[0mmean\u001b[0m\u001b[1;33m,\u001b[0m \u001b[1;36m2\u001b[0m\u001b[1;33m)\u001b[0m \u001b[1;32mfor\u001b[0m \u001b[0mvalue\u001b[0m \u001b[1;32min\u001b[0m \u001b[0mvalues\u001b[0m\u001b[1;33m)\u001b[0m \u001b[1;33m/\u001b[0m \u001b[0mlen\u001b[0m\u001b[1;33m(\u001b[0m\u001b[0mvalues\u001b[0m\u001b[1;33m)\u001b[0m\u001b[1;33m\u001b[0m\u001b[1;33m\u001b[0m\u001b[0m\n\u001b[0;32m      6\u001b[0m     \u001b[0mstd_dev\u001b[0m \u001b[1;33m=\u001b[0m \u001b[0mmath\u001b[0m\u001b[1;33m.\u001b[0m\u001b[0msqrt\u001b[0m\u001b[1;33m(\u001b[0m\u001b[0msum_var\u001b[0m\u001b[1;33m)\u001b[0m\u001b[1;33m\u001b[0m\u001b[1;33m\u001b[0m\u001b[0m\n",
            "\u001b[1;31mNameError\u001b[0m: name 'math' is not defined"
          ]
        }
      ],
      "source": [
        "# statistics 패키지 tools 모듈에 있는 standard_deviation 함수를 \n",
        "# 'sd'라는 짧은 이름으로 줄여서 가져와봅시다.\n",
        "# standard_deviation 함수를 사용해서 [1, 2, 3, 4, 5]의 표준 편차를 구해봅시다.\n",
        "\n",
        "from my_package.statistics.tools import standard_deviation as sd\n",
        "\n",
        "print(sd([1,2,3,4,5]))"
      ]
    },
    {
      "cell_type": "markdown",
      "metadata": {
        "id": "tactE1dxNb2F"
      },
      "source": [
        "# 정리"
      ]
    },
    {
      "cell_type": "markdown",
      "metadata": {
        "id": "znx-dr2DNb2F"
      },
      "source": [
        "## 용어 정리\n",
        "- 모듈 vs 패키지\n",
        "- 라이브러리 (library)?\n",
        "> 라이브러리는 패키지가 옹기종기 모여있는 형태입니다! <br>다만 종종 패키지와 라이브러리를 같은 의미로 쓰기도 합니다."
      ]
    },
    {
      "cell_type": "markdown",
      "metadata": {
        "id": "UePfzZ8GNb2F"
      },
      "source": [
        "|용어|정의|\n",
        "|--------|-------------------|\n",
        "|  모듈   | 특정 기능을 `.py` **파일 단위**로 작성한 것. |\n",
        "|  패키지  | 특정 기능과 관련된 여러 **모듈들의 집합**. 패키지 안에는 또다른 서브 패키지를 포함 할수도 있음.  |\n",
        "| 파이썬 표준 라이브러리 | 파이썬에 **기본적으로 설치된 모듈과 내장 함수**를 묶어서 파이썬 표준 라이브러리 (Python Standard Library, PSL) 라 불림. |\n",
        "| 패키지 관리자(**`pip`**) | `PyPI` 에 저장된 외부 패키지들을 설치하도록 도와주는 패키지. |"
      ]
    },
    {
      "cell_type": "markdown",
      "metadata": {
        "id": "HuzlIHdTNb2F"
      },
      "source": [
        "## 모듈과 패키지 사용하기\n",
        "### 모듈\n",
        "```py\n",
        "import module\n",
        "from module import var, function, Class\n",
        "from module import *\n",
        "```\n",
        "\n",
        "### 패키지\n",
        "```py\n",
        "from package import module\n",
        "from package.module import var, function, Class\n",
        "\n",
        "```"
      ]
    }
  ],
  "metadata": {
    "colab": {
      "collapsed_sections": [],
      "name": "04_03_python_workshop_복습_모듈-checkpoint.ipynb",
      "provenance": []
    },
    "kernelspec": {
      "display_name": "Python 3 (ipykernel)",
      "language": "python",
      "name": "python3"
    },
    "language_info": {
      "codemirror_mode": {
        "name": "ipython",
        "version": 3
      },
      "file_extension": ".py",
      "mimetype": "text/x-python",
      "name": "python",
      "nbconvert_exporter": "python",
      "pygments_lexer": "ipython3",
      "version": "3.10.5"
    },
    "latex_envs": {
      "LaTeX_envs_menu_present": true,
      "autoclose": false,
      "autocomplete": true,
      "bibliofile": "biblio.bib",
      "cite_by": "apalike",
      "current_citInitial": 1,
      "eqLabelWithNumbers": true,
      "eqNumInitial": 1,
      "hotkeys": {
        "equation": "Ctrl-E",
        "itemize": "Ctrl-I"
      },
      "labels_anchors": false,
      "latex_user_defs": false,
      "report_style_numbering": false,
      "user_envs_cfg": false
    },
    "toc": {
      "base_numbering": 1,
      "nav_menu": {},
      "number_sections": true,
      "sideBar": true,
      "skip_h1_title": false,
      "title_cell": "Table of Contents",
      "title_sidebar": "모듈(Module)",
      "toc_cell": false,
      "toc_position": {
        "height": "calc(100% - 180px)",
        "left": "10px",
        "top": "150px",
        "width": "297.358px"
      },
      "toc_section_display": true,
      "toc_window_display": true
    }
  },
  "nbformat": 4,
  "nbformat_minor": 0
}