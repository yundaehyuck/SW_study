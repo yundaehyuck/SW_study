{
  "cells": [
    {
      "cell_type": "markdown",
      "metadata": {
        "id": "uHKoKIaWWl3v"
      },
      "source": [
        "<p style=\"font-size: 33px; font-weight: 700; margin-bottom: 3rem\">제어문(Control Statement)</p>\n",
        "\n",
        "[파이썬 문서](https://docs.python.org/ko/3/tutorial/controlflow.html)\n",
        "\n",
        "지금까지 우리는 위에서부터 아래로 순차적으로 명령을 수행하는 프로그램을 작성하였습니다.\n",
        "\n",
        "특정 상황에 따라 코드를 선택적으로 실행(분기)하거나 동일한 코드를 계속해서 실행해야하려면 어떻게 해야할까요? \n",
        "\n",
        "이 경우, **코드 실행의 순차적인 흐름을 제어**(Control Flow)할 필요가 있습니다.\n",
        "\n",
        "이러한 순차적인 코드의 흐름을 제어하는 것을 제어문이라고 하고, 제어문은 크게 **조건문**과 **반복문**으로 나눌 수 있습니다. \n",
        "\n",
        "제어문을 통해 다음과 순서도(Flow Chart)를 코드로 표현할 수 있습니다."
      ]
    },
    {
      "cell_type": "markdown",
      "metadata": {
        "id": "mFtQsOO2Wl3z"
      },
      "source": [
        "<center> \n",
        "    <img src=\"https://user-images.githubusercontent.com/18046097/61180553-25e87b00-a653-11e9-9895-7976d7204734.png\", alt='if flowchart'/>\n",
        "</center>"
      ]
    },
    {
      "cell_type": "code",
      "execution_count": null,
      "metadata": {
        "id": "uzbkSZGUWl32"
      },
      "outputs": [],
      "source": [
        "# 위의 Flow Chart를 조건문으로 작성해봅시다.\n",
        "# if 문을 활용해봅시다."
      ]
    },
    {
      "cell_type": "code",
      "execution_count": null,
      "metadata": {
        "colab": {
          "base_uri": "https://localhost:8080/"
        },
        "id": "vPs2xOiuWl34",
        "outputId": "63c2df63-aaa1-4b89-975b-049cc91e6064"
      },
      "outputs": [
        {
          "output_type": "stream",
          "name": "stdout",
          "text": [
            "5 이하\n",
            "5\n"
          ]
        }
      ],
      "source": [
        "a = 5\n",
        "\n",
        "if a > 5:\n",
        "    \n",
        "    print(\"5 초과\")\n",
        "\n",
        "else:\n",
        "    print(\"5 이하\")\n",
        "\n",
        "print(a)\n"
      ]
    },
    {
      "cell_type": "markdown",
      "metadata": {
        "id": "GKxf-jKrWl35"
      },
      "source": [
        "# 조건문(Conditional Statement)\n",
        "\n",
        "`if` 문은 반드시 **참/거짓을 판단할 수 있는 조건**과 함께 사용합니다.\n"
      ]
    },
    {
      "cell_type": "markdown",
      "metadata": {
        "id": "NcKmBrmqWl37"
      },
      "source": [
        "## `if` 조건문의 구성\n",
        "\n",
        "### 활용법\n",
        "\n",
        "- **문법**\n",
        "\n",
        "```python\n",
        "if <expression>:\n",
        "    <코드 블럭>\n",
        "else:\n",
        "    <코드 블럭>\n",
        "```\n",
        "\n",
        "- **예시**\n",
        "\n",
        "```python\n",
        "if a > 0:\n",
        "    print('양수입니다.')\n",
        "else:\n",
        "    print('음수입니다.')\n",
        "```\n",
        "* `expression`에는 일반적으로 참/거짓에 대한 조건식이 들어갑니다.\n",
        "\n",
        "* **조건**이 **참**인 경우 `:` 이후의 문장을 수행합니다.\n",
        "\n",
        "* **조건**이 **거짓**인 경우 `else:` 이후의 문장을 수행합니다.\n",
        "\n",
        "* 여러 개의 `elif` 부가 있을 수 있고(없거나), `else`는 선택적으로 사용합니다.\n",
        "\n",
        "### 주의사항\n",
        "* 이때 반드시 **들여쓰기**를 유의해야합니다. \n",
        "    - 파이썬에서는 코드 블록을 자바나 C언어의 `{}`와 달리 **들여쓰기**로 판단하기 때문입니다.\n",
        "* 앞으로 우리는 [PEP 8](https://www.python.org/dev/peps/pep-0008/#indentation)에서 권장하는 **4spaces**를 사용합니다.\n"
      ]
    },
    {
      "cell_type": "markdown",
      "metadata": {
        "id": "G0qzX21DWl39"
      },
      "source": [
        "<center>\n",
        "    <img src=\"https://user-images.githubusercontent.com/18046097/61180564-3a2c7800-a653-11e9-9fba-d60d2688ed3a.png\", alt=\"if style\"/>\n",
        "</center>"
      ]
    },
    {
      "cell_type": "markdown",
      "metadata": {
        "id": "RG0wlY5KWl3-"
      },
      "source": [
        "<br>\n",
        "\n",
        "<center>\n",
        "    <img src=\"https://user-images.githubusercontent.com/18046097/61180566-3ac50e80-a653-11e9-81a6-2f195eeb0a65.png\", alt=\"[space vs tab]\"/>\n",
        "</center>    \n",
        "\n",
        "\n",
        "\n",
        "\n",
        "[출처 : 400,000 GitHub repositories, 1 billion files, 14 terabytes of code: Spaces or Tabs?](https://medium.com/@hoffa/400-000-github-repositories-1-billion-files-14-terabytes-of-code-spaces-or-tabs-7cfe0b5dd7fd)\n"
      ]
    },
    {
      "cell_type": "markdown",
      "metadata": {
        "id": "F4tP7yR1Wl4A"
      },
      "source": [
        "### [연습] 크리스마스 판독기\n",
        "> 조건문을 통해 사용자가 입력한 날짜가 크리스마스인지 확인하세요.\n",
        "\n",
        "---\n",
        "\n",
        "**[입력 예시]**\n",
        "\n",
        "12/25\n",
        "\n",
        "**[출력 예시]**\n",
        "\n",
        "크리스마스입니다."
      ]
    },
    {
      "cell_type": "code",
      "execution_count": null,
      "metadata": {
        "colab": {
          "base_uri": "https://localhost:8080/"
        },
        "id": "NnxX2Bb6Wl4B",
        "outputId": "b49fdcb3-d5f8-4f23-eca1-4df429674e1a"
      },
      "outputs": [
        {
          "name": "stdout",
          "output_type": "stream",
          "text": [
            "날짜를 입력해주세요 ex)12/24 : 12/25\n"
          ]
        }
      ],
      "source": [
        "is_christmas = input('날짜를 입력해주세요 ex)12/24 : ')"
      ]
    },
    {
      "cell_type": "code",
      "execution_count": null,
      "metadata": {
        "id": "j246asXpWl4E"
      },
      "outputs": [],
      "source": [
        "# 아래에 코드를 작성하세요.\n",
        "# if 문을 활용해봅시다.\n",
        "# is_christmas에 할당된 값이 '12/25'인 경우에는\n",
        "# '크리스마스입니다 :)' 를 출력하고\n",
        "# 그외의 경우에는 '크리스마스가 아닙니다 :(' 를 출력하는 코드를 작성하세요."
      ]
    },
    {
      "cell_type": "code",
      "execution_count": null,
      "metadata": {
        "colab": {
          "base_uri": "https://localhost:8080/"
        },
        "id": "SfdBXWGEWl4F",
        "outputId": "e77dee13-57fc-480c-baa1-79719ff0e2f6"
      },
      "outputs": [
        {
          "output_type": "stream",
          "name": "stdout",
          "text": [
            "크리스마스입니다 :)\n"
          ]
        }
      ],
      "source": [
        "if is_christmas == '12/25':\n",
        "    \n",
        "    print(\"크리스마스입니다 :)\")\n",
        "\n",
        "else:\n",
        "    \n",
        "    print(\"크리스마스가 아닙니다. :(\")"
      ]
    },
    {
      "cell_type": "markdown",
      "metadata": {
        "id": "1s-XdMG8Wl4G"
      },
      "source": [
        "### [실습] 홀/짝 판독기\n",
        "\n",
        "\n",
        "> 조건문을 통해 변수 num의 값과 홀수/짝수 여부를 출력하세요.\n",
        "\n",
        "---\n",
        "\n",
        "**[입력 예시]**\n",
        "\n",
        "3\n",
        "\n",
        "**[출력 예시]**\n",
        "\n",
        "홀수입니다."
      ]
    },
    {
      "cell_type": "code",
      "execution_count": null,
      "metadata": {
        "colab": {
          "base_uri": "https://localhost:8080/"
        },
        "id": "VwB1Iq0WWl4I",
        "outputId": "d9294f93-274b-4e74-85f2-d9fc3d91a257"
      },
      "outputs": [
        {
          "name": "stdout",
          "output_type": "stream",
          "text": [
            "숫자를 입력하세요 : 3\n"
          ]
        }
      ],
      "source": [
        "num = int(input('숫자를 입력하세요 : '))"
      ]
    },
    {
      "cell_type": "code",
      "execution_count": null,
      "metadata": {
        "id": "aVJak3fCWl4J"
      },
      "outputs": [],
      "source": [
        "# 아래에 코드를 작성하세요.\n",
        "# if 문을 활용해봅시다.\n",
        "# num에 할당된 값을 2로 나누었을때 나머지가 있는 경우에는 '홀수입니다.'를 출력하고\n",
        "# num에 할당된 값이 2로 나누어 떨어지는 경우에는 '짝수입니다.'를 출력하는 코드를 작성하세요."
      ]
    },
    {
      "cell_type": "code",
      "execution_count": null,
      "metadata": {
        "colab": {
          "base_uri": "https://localhost:8080/"
        },
        "id": "83TKPRf7Wl4K",
        "outputId": "d5676a2e-bbe1-4550-b708-488f9549fa82"
      },
      "outputs": [
        {
          "output_type": "stream",
          "name": "stdout",
          "text": [
            "홀수입니다.\n"
          ]
        }
      ],
      "source": [
        "if num % 2 == 1:\n",
        "    \n",
        "    print(\"홀수입니다.\")\n",
        "\n",
        "else:\n",
        "\n",
        "    print(\"짝수입니다.\")"
      ]
    },
    {
      "cell_type": "markdown",
      "metadata": {
        "id": "dTohr8xtWl4L"
      },
      "source": [
        "## `elif` 복수 조건\n",
        "\n",
        "2개 이상의 조건을 활용할 경우 `elif <조건>:`을 활용합니다.\n",
        "<center>\n",
        "<img src=\"https://user-images.githubusercontent.com/18046097/61180560-3993e180-a653-11e9-8263-79bd7bc6eed7.png\", alt=\"elif\">\n",
        "</center>"
      ]
    },
    {
      "cell_type": "markdown",
      "metadata": {
        "id": "39yo6YubWl4M"
      },
      "source": [
        "### [연습] 복수 조건문 연습\n",
        "\n",
        "> 다음은 미세먼지 농도에 따른 등급일 때,\n",
        "> dust 값에 따라 등급을 출력하는 조건식을 작성하세요.\n",
        "> (단, 조건식 완료 후 미세먼지 확인 완료라는 문구를 출력)\n",
        "\n",
        "![image-2.png](attachment:image-2.png)\n",
        "\n",
        "--- \n",
        "\n",
        "**[입력 예시]**\n",
        "\n",
        "80\n",
        "\n",
        "**[출력 예시]**\n",
        "\n",
        "보통\n",
        "\n",
        "미세먼지 확인 완료!"
      ]
    },
    {
      "cell_type": "code",
      "execution_count": null,
      "metadata": {
        "colab": {
          "base_uri": "https://localhost:8080/"
        },
        "id": "8Wqu3gmdWl4M",
        "outputId": "f01ff5cf-0f70-49c9-c155-1b71aa69eb3f"
      },
      "outputs": [
        {
          "name": "stdout",
          "output_type": "stream",
          "text": [
            "미세먼지 농도를 입력하세요 : 80\n"
          ]
        }
      ],
      "source": [
        "dust = int(input('미세먼지 농도를 입력하세요 : '))"
      ]
    },
    {
      "cell_type": "code",
      "execution_count": null,
      "metadata": {
        "id": "sgFVLVXEWl4M"
      },
      "outputs": [],
      "source": [
        "# 아래에 코드를 작성하세요.\n",
        "# if, elif, else 문을 활용해봅시다.\n",
        "# dust에 할당된 값이 150 초과인 경우에는 '매우 나쁨'을 출력하고,\n",
        "# dust에 할당된 값이 150 이하, 80 초과인 경우에는 '나쁨'을 출력하고,\n",
        "# dust에 할당된 값이 80 이하, 30 초과인 경우에는 '보통'을 출력하고,\n",
        "# dust에 할당된 값이 30 이하인 경우에는 '좋음'을 출력하고,\n",
        "# 조건식 완료 이후 '미세먼지 확인 완료!'를 출력하는 코드를 작성하세요."
      ]
    },
    {
      "cell_type": "code",
      "execution_count": null,
      "metadata": {
        "colab": {
          "base_uri": "https://localhost:8080/"
        },
        "id": "EujFR_LkWl4N",
        "outputId": "91d88398-3636-4a71-a0ac-fcf20e531c06"
      },
      "outputs": [
        {
          "output_type": "stream",
          "name": "stdout",
          "text": [
            "보통\n",
            "미세먼지 확인 완료!\n"
          ]
        }
      ],
      "source": [
        "if dust > 150:\n",
        "    \n",
        "    print(\"매우 나쁨\")\n",
        "\n",
        "elif dust > 80:\n",
        "    \n",
        "    print(\"나쁨\")\n",
        "\n",
        "elif dust > 30:\n",
        "    \n",
        "    print(\"보통\")\n",
        "\n",
        "else:\n",
        "    \n",
        "    print(\"좋음\")\n",
        "\n",
        "print(\"미세먼지 확인 완료!\")"
      ]
    },
    {
      "cell_type": "code",
      "execution_count": null,
      "metadata": {
        "colab": {
          "base_uri": "https://localhost:8080/"
        },
        "id": "6JbJ4QzdWl4O",
        "outputId": "ad1f49b1-e045-4777-9fdb-b02fc4c3002f"
      },
      "outputs": [
        {
          "output_type": "stream",
          "name": "stdout",
          "text": [
            "보통\n"
          ]
        }
      ],
      "source": [
        "# 조건문은 순서대로 조건식을 검증하므로 순서에 유의해야 한다.\n",
        "# dust 가 120이지만 조건문의 순서에 따라 '나쁨'을 출력하지 못하고 '보통'을 출력한다.\n",
        "\n",
        "dust = 120\n",
        "\n",
        "if dust > 150:\n",
        "    print('매우 나쁨')\n",
        "elif dust > 30:\n",
        "    print('보통')\n",
        "elif dust > 80:\n",
        "    print('나쁨')"
      ]
    },
    {
      "cell_type": "markdown",
      "metadata": {
        "id": "QtsG1ApgWl4O"
      },
      "source": [
        "## 중첩 조건문(Nested Conditional Statement)\n",
        "\n",
        "조건문은 다른 조건문에 중첩 가능합니다."
      ]
    },
    {
      "cell_type": "markdown",
      "metadata": {
        "id": "7_dkh5nrWl4P"
      },
      "source": [
        "### [연습] 중첩 조건문 활용\n",
        "\n",
        "> 아래의 코드에서 중첩조건문을 활용하여 미세먼지 농도(dust 값)이 300이 넘는 경우 ‘실외 활동을 자제하세요.’를 추가적으로 출력하고 음수인 경우 ‘값이 잘못 되었습니다.’를 출력하세요.\n",
        "\n",
        "--- \n",
        "**[출력 예시]**\n",
        "\n",
        "매우 나쁨\n",
        "\n",
        "실외 활동을 자제하세요."
      ]
    },
    {
      "cell_type": "code",
      "execution_count": null,
      "metadata": {
        "id": "Z1a0z6GwWl4R"
      },
      "outputs": [],
      "source": [
        "dust = 500"
      ]
    },
    {
      "cell_type": "code",
      "execution_count": null,
      "metadata": {
        "id": "IrxPtJ3qWl4R"
      },
      "outputs": [],
      "source": [
        "# 아래에 코드를 작성하세요.\n",
        "# if, elif, else 문을 상황에 따라 중첩해서 활용해봅시다.\n",
        "# dust에 할당된 값이 150 초과인 경우에 일단 '매우 나쁨'을 출력하고,\n",
        "# dust에 할당된 값이 300 초과인 경우에는 추가적으로 '실외 활동을 자제하세요.'를 출력하고,\n",
        "# dust에 할당된 값이 150 이하, 80 초과인 경우에는 '나쁨'을 출력하고,\n",
        "# dust에 할당된 값이 80 이하, 30 초과인 경우에는 '보통'을 출력하고,\n",
        "# dust에 할당된 값이 30 이하, 0 이상인 경우에는 '좋음'을 출력하고,\n",
        "# dust에 할당된 값이 0 미만인 경우에는 '값이 잘못 되었습니다.'를 출력하는 코드를 작성하세요."
      ]
    },
    {
      "cell_type": "code",
      "execution_count": null,
      "metadata": {
        "colab": {
          "base_uri": "https://localhost:8080/"
        },
        "id": "717Y1uyIWl4R",
        "outputId": "65d76155-df9f-4b4a-c279-4e7c92a49f07"
      },
      "outputs": [
        {
          "output_type": "stream",
          "name": "stdout",
          "text": [
            "매우 나쁨\n",
            "실외 활동을 자제하세요.\n"
          ]
        }
      ],
      "source": [
        "if dust > 150:\n",
        "    \n",
        "    print(\"매우 나쁨\")\n",
        "\n",
        "    if dust > 300:\n",
        "        \n",
        "        print(\"실외 활동을 자제하세요.\")\n",
        "\n",
        "elif dust > 80:\n",
        "    \n",
        "    print(\"나쁨\")\n",
        "\n",
        "elif dust > 30:\n",
        "    \n",
        "    print(\"보통\")\n",
        "\n",
        "elif dust >= 0:\n",
        "    \n",
        "    print(\"좋음\")\n",
        "\n",
        "else:\n",
        "    \n",
        "    print(\"값이 잘못 되었습니다.\")"
      ]
    },
    {
      "cell_type": "markdown",
      "metadata": {
        "id": "KoA1ghlKWl4S"
      },
      "source": [
        "## 조건 표현식(Conditional Expression)\n",
        "\n",
        "* 조건 표현식은 일반적으로 조건에 따라 값을 정할 때 활용됩니다.\n",
        "\n",
        "* **삼항 연산자(Ternary Operator)**라고 부르기도 합니다.\n",
        "\n",
        "---\n",
        "\n",
        "**활용법**\n",
        "\n",
        "```python\n",
        "true_value if <조건식> else false_value\n",
        "```"
      ]
    },
    {
      "cell_type": "code",
      "execution_count": null,
      "metadata": {
        "colab": {
          "base_uri": "https://localhost:8080/"
        },
        "id": "ewUrSoDZWl4S",
        "outputId": "aaa21ed9-24a1-4c85-ee50-9909ad537a78"
      },
      "outputs": [
        {
          "output_type": "stream",
          "name": "stdout",
          "text": [
            "숫자를 입력하세요 : 0\n",
            "0 보다 크지않음\n"
          ]
        }
      ],
      "source": [
        "num = int(input('숫자를 입력하세요 : '))\n",
        "\n",
        "print('0 보다 큼') if num > 0 else print('0 보다 크지않음')"
      ]
    },
    {
      "cell_type": "code",
      "execution_count": null,
      "metadata": {
        "colab": {
          "base_uri": "https://localhost:8080/"
        },
        "id": "OjwFl3HrWl4S",
        "outputId": "ac7e03cd-f5fa-451d-b88b-2aff91131466"
      },
      "outputs": [
        {
          "output_type": "stream",
          "name": "stdout",
          "text": [
            "숫자를 입력하세요 : -3\n",
            "3\n"
          ]
        }
      ],
      "source": [
        "# 아래의 코드는 무엇을 위한 코드일까요?\n",
        "num = int(input('숫자를 입력하세요 : '))\n",
        "value = num if num >= 0 else -num\n",
        "print(value)"
      ]
    },
    {
      "cell_type": "code",
      "execution_count": null,
      "metadata": {
        "id": "03iO79-bWl4T"
      },
      "outputs": [],
      "source": [
        "# 아래에 주석으로 답변을 작성하세요."
      ]
    },
    {
      "cell_type": "code",
      "execution_count": null,
      "metadata": {
        "id": "p1iEU13VWl4T"
      },
      "outputs": [],
      "source": [
        "#숫자를 입력받은 num이 0 이상이면 value에 num을 저장하고 0 미만이면 -num을 value에 저장한다음에 value를 print하는 코드\n",
        "#입력받은 숫자 num의 절댓값을 print하는 코드"
      ]
    },
    {
      "cell_type": "markdown",
      "metadata": {
        "id": "yClaP7ZnWl4T"
      },
      "source": [
        "### [연습] 조건 표현식 작성하기\n",
        "\n",
        "> 다음의 코드와 동일한 조건 표현식을 작성해보세요.\n",
        "\n",
        "```python\n",
        "num = 2\n",
        "if num % 2:\n",
        "    result = '홀수입니다.'\n",
        "else:\n",
        "    result = '짝수입니다.'\n",
        "print(result)\n",
        "```\n",
        "---\n",
        "\n",
        "**[출력 예시]**\n",
        "```\n",
        "짝수입니다.\n",
        "```"
      ]
    },
    {
      "cell_type": "code",
      "execution_count": null,
      "metadata": {
        "id": "KJaeyH5xWl4U"
      },
      "outputs": [],
      "source": [
        "# 아래에 코드를 작성하세요.\n",
        "# 위의 조건문을 조건 표현식으로 바꿔보세요."
      ]
    },
    {
      "cell_type": "code",
      "execution_count": null,
      "metadata": {
        "colab": {
          "base_uri": "https://localhost:8080/"
        },
        "id": "CmXkje2qWl4U",
        "outputId": "5eabe6f6-7cd0-465a-e525-4c466b8d06d1"
      },
      "outputs": [
        {
          "output_type": "stream",
          "name": "stdout",
          "text": [
            "짝수입니다.\n"
          ]
        }
      ],
      "source": [
        "num = 2\n",
        "\n",
        "result = '홀수입니다.' if num % 2 else '짝수입니다.'\n",
        "\n",
        "#result = '홀수입니다.' if num % 2 else:  '짝수입니다.'   #else뒤에 : 쓰지말기\n",
        "#result = '홀수입니다.' if num % 2 else  result = '짝수입니다.'  #거짓일때 result = <value>로 쓰면 에러\n",
        "\n",
        "print(result)"
      ]
    },
    {
      "cell_type": "markdown",
      "metadata": {
        "id": "FTkLMZoEWl4V"
      },
      "source": [
        "### [실습] 조건 표현식과 동일한 if 문 작성하기\n",
        "\n",
        "> 다음의 코드와 동일한 `if`문을 작성해보세요.\n",
        "\n",
        "```python\n",
        "num = -5\n",
        "value = num if num >= 0 else 0\n",
        "print(value)\n",
        "```\n",
        "---\n",
        "**[출력 예시]**\n",
        "\n",
        "0"
      ]
    },
    {
      "cell_type": "code",
      "execution_count": null,
      "metadata": {
        "id": "ABX-sGmkWl4V"
      },
      "outputs": [],
      "source": [
        "# 아래에 코드를 작성하세요.\n",
        "# 위의 조건 표현식을 if 문으로 바꿔보세요."
      ]
    },
    {
      "cell_type": "code",
      "execution_count": null,
      "metadata": {
        "colab": {
          "base_uri": "https://localhost:8080/"
        },
        "id": "27OqACvMWl4W",
        "outputId": "f985fae0-e368-410d-bd47-ba174392350b"
      },
      "outputs": [
        {
          "output_type": "stream",
          "name": "stdout",
          "text": [
            "0\n"
          ]
        }
      ],
      "source": [
        "num = -5\n",
        "\n",
        "if num >= 0:\n",
        "    \n",
        "    value = num\n",
        "\n",
        "else:\n",
        "    \n",
        "    value = 0\n",
        "\n",
        "print(value)"
      ]
    },
    {
      "cell_type": "markdown",
      "metadata": {
        "id": "BLPvOKGcWl4W"
      },
      "source": [
        "---"
      ]
    },
    {
      "cell_type": "markdown",
      "metadata": {
        "id": "avd-36BtWl4W"
      },
      "source": [
        "# 반복문(Loop Statement)\n",
        "\n",
        "- while\n",
        "- for"
      ]
    },
    {
      "cell_type": "markdown",
      "metadata": {
        "id": "KOF8axsMWl4X"
      },
      "source": [
        "## `while` 반복문\n",
        "\n",
        "`while` 문은 조건식이 참(`True`)인 경우 반복적으로 코드를 실행합니다.\n",
        "\n",
        "\n",
        "### 활용법\n",
        "- **문법**\n",
        "\n",
        "```python\n",
        "while <조건식>:\n",
        "    <코드 블럭>\n",
        "```\n",
        "\n",
        "- 예시\n",
        "\n",
        "```python\n",
        "while True:\n",
        "    print('조건식이 참일 때까지')\n",
        "    print('계속 반복')\n",
        "```\n",
        "\n",
        "### 주의사항\n",
        "* `while` 문 역시 조건식 뒤에 콜론(`:`)이 반드시 필요하며, 이후 실행될 코드 블럭은 **4spaces**로 **들여쓰기**를 합니다.\n",
        "* **반드시 종료조건을 설정해야 합니다.**\n",
        "\n",
        "\n",
        "<br>\n",
        "<center>\n",
        "    <img src=\"https://user-images.githubusercontent.com/18046097/61180567-3ac50e80-a653-11e9-9f12-39c404f4be30.png\", alt=\"\">\n",
        "</center>"
      ]
    },
    {
      "cell_type": "markdown",
      "metadata": {
        "id": "HNd4qXKBWl4X"
      },
      "source": [
        "<br>\n",
        "<center>\n",
        "    <img src=\"https://user-images.githubusercontent.com/18046097/61180568-3ac50e80-a653-11e9-9960-ba15137290a6.png\", alt=\"while\"/>\n",
        "</center>"
      ]
    },
    {
      "cell_type": "code",
      "execution_count": null,
      "metadata": {
        "id": "aMF5BgIMWl4Y"
      },
      "outputs": [],
      "source": [
        "# 위의 flow chart를 조건문을 통해 만들어봅시다.\n",
        "# 아래에 코드를 작성하세요.\n",
        "# while 문을 활용해봅시다."
      ]
    },
    {
      "cell_type": "code",
      "execution_count": null,
      "metadata": {
        "colab": {
          "base_uri": "https://localhost:8080/"
        },
        "id": "C7mjPluYWl4Y",
        "outputId": "a19f8175-dddb-4d7b-9b61-20c0081272fe"
      },
      "outputs": [
        {
          "output_type": "stream",
          "name": "stdout",
          "text": [
            "0\n",
            "1\n",
            "2\n",
            "3\n",
            "4\n",
            "끝\n"
          ]
        }
      ],
      "source": [
        "a = 0\n",
        "\n",
        "while a < 5:\n",
        "    \n",
        "    print(a)\n",
        "\n",
        "    a = a + 1\n",
        "\n",
        "print(\"끝\")"
      ]
    },
    {
      "cell_type": "markdown",
      "metadata": {
        "id": "OGLdMmDgWl4Z"
      },
      "source": [
        "### [연습] while 문 작성하기\n",
        "> 사용자가 \"안녕\"이라고 입력할 때까지 인사하는 코드를 작성해보세요."
      ]
    },
    {
      "cell_type": "code",
      "execution_count": null,
      "metadata": {
        "id": "RvcgObIBWl4Z"
      },
      "outputs": [],
      "source": [
        "# 아래에 코드를 작성하세요.\n",
        "# while 문을 활용해봅시다.\n",
        "\n",
        "# user_input에 초기값으로 비어있는 문자열을로 할당하고,\n",
        "\n",
        "# user_input에 할당되는 값이 '안녕'일 떄까지,\n",
        "    # '안녕?'을 출력하고\n",
        "    # user_input에 사용자의 입력값을 받는 코드를 작성하세요."
      ]
    },
    {
      "cell_type": "code",
      "execution_count": null,
      "metadata": {
        "colab": {
          "base_uri": "https://localhost:8080/"
        },
        "id": "fq1OSdWHWl4Z",
        "outputId": "e2050573-6bc5-4e03-fb20-43a744f59027"
      },
      "outputs": [
        {
          "name": "stdout",
          "output_type": "stream",
          "text": [
            "안녕?\n",
            "말해봐 : 하이\n",
            "안녕?\n",
            "말해봐 : hi\n",
            "안녕?\n",
            "말해봐 : 안녕?\n",
            "안녕?\n",
            "말해봐 : 안녕\n"
          ]
        }
      ],
      "source": [
        "user_input = ''\n",
        "while user_input != '안녕':\n",
        "    print('안녕?')\n",
        "    user_input = input('말해봐 : ')"
      ]
    },
    {
      "cell_type": "markdown",
      "metadata": {
        "id": "gtFxj9ANWl4Z"
      },
      "source": [
        "### [실습] 합(Summation)\n",
        "\n",
        "> 1부터 사용자가 입력한 양의 정수까지의 총합을 구하는 코드를 작성해보세요.\n",
        "\n",
        "---\n",
        "**[입력 예시]**\n",
        "\n",
        "10\n",
        "\n",
        "**[출력 예시]**\n",
        "\n",
        "55"
      ]
    },
    {
      "cell_type": "code",
      "execution_count": null,
      "metadata": {
        "id": "6DAV8xmhWl4Z"
      },
      "outputs": [],
      "source": [
        "# 아래에 코드를 작성하세요."
      ]
    },
    {
      "cell_type": "code",
      "execution_count": null,
      "metadata": {
        "colab": {
          "base_uri": "https://localhost:8080/"
        },
        "id": "uoQ-_oyPWl4a",
        "outputId": "04641ff3-cc36-40a5-c584-590e9f6975b8"
      },
      "outputs": [
        {
          "output_type": "stream",
          "name": "stdout",
          "text": [
            "양의 정수를 입력하세요. :10\n",
            "55\n"
          ]
        }
      ],
      "source": [
        "num = int(input('양의 정수를 입력하세요. :'))\n",
        "\n",
        "num_sum = 0\n",
        "\n",
        "for i in range(1,num+1):\n",
        "\n",
        "    \n",
        "    num_sum += i\n",
        "\n",
        "print(num_sum)\n",
        "    \n"
      ]
    },
    {
      "cell_type": "code",
      "source": [
        "num = int(input('양의 정수를 입력하세요. :'))\n",
        "\n",
        "num_sum = 0\n",
        "\n",
        "while num > 0:\n",
        "    \n",
        "    num_sum += num\n",
        "\n",
        "    num -= 1\n",
        "\n",
        "print(num_sum)"
      ],
      "metadata": {
        "colab": {
          "base_uri": "https://localhost:8080/"
        },
        "id": "4ydAdfkDiXmQ",
        "outputId": "556217dd-44cb-4b70-a26d-68ec4b2937bd"
      },
      "execution_count": null,
      "outputs": [
        {
          "output_type": "stream",
          "name": "stdout",
          "text": [
            "양의 정수를 입력하세요. :10\n",
            "55\n"
          ]
        }
      ]
    },
    {
      "cell_type": "markdown",
      "metadata": {
        "id": "bu1KQUcaWl4a"
      },
      "source": [
        "### [응용] 한자리 씩 출력하기\n",
        "\n",
        "> 사용자로부터 입력 받은 양의 정수의 각 자리 수를 1의 자리부터 차례대로 출력하는 코드를 작성해보세요.\n",
        "\n",
        "\n",
        "---\n",
        "**[입력 예시]**\n",
        "\n",
        "185\n",
        "\n",
        "**[출력 예시]**\n",
        "\n",
        "5\n",
        "\n",
        "8\n",
        "\n",
        "1"
      ]
    },
    {
      "cell_type": "code",
      "execution_count": null,
      "metadata": {
        "id": "FmhlrLDeWl4a"
      },
      "outputs": [],
      "source": [
        "# 아래에 코드를 작성하세요."
      ]
    },
    {
      "cell_type": "code",
      "execution_count": null,
      "metadata": {
        "colab": {
          "base_uri": "https://localhost:8080/"
        },
        "id": "wbypYbQiWl4a",
        "outputId": "b3205270-b91b-4889-b4fa-e4077239293f"
      },
      "outputs": [
        {
          "output_type": "stream",
          "name": "stdout",
          "text": [
            "양의 정수를 입력하세요. :39357213\n",
            "3\n",
            "1\n",
            "2\n",
            "7\n",
            "5\n",
            "3\n",
            "9\n",
            "3\n"
          ]
        }
      ],
      "source": [
        "num = input('양의 정수를 입력하세요. :')\n",
        "\n",
        "for i in num[::-1]:\n",
        "    \n",
        "    print(int(i))"
      ]
    },
    {
      "cell_type": "code",
      "source": [
        "num = input('양의 정수를 입력하세요. :')[::-1]\n",
        "\n",
        "num_len = len(num)\n",
        "\n",
        "num = int(num)\n",
        "\n",
        "while num > 0:\n",
        "    \n",
        "    a,num = divmod(num,10**(num_len-1))\n",
        "\n",
        "    num_len -= 1\n",
        "\n",
        "    print(a)"
      ],
      "metadata": {
        "colab": {
          "base_uri": "https://localhost:8080/"
        },
        "id": "ctYODorlkxQc",
        "outputId": "c25b4f06-ae81-40d2-a9b0-4761c2927e2f"
      },
      "execution_count": null,
      "outputs": [
        {
          "output_type": "stream",
          "name": "stdout",
          "text": [
            "양의 정수를 입력하세요. :4572634192\n",
            "2\n",
            "9\n",
            "1\n",
            "4\n",
            "3\n",
            "6\n",
            "2\n",
            "7\n",
            "5\n",
            "4\n"
          ]
        }
      ]
    },
    {
      "cell_type": "code",
      "source": [
        "#와 이거 지리네 ㄹㅇ\n",
        "\n",
        "a = input('양의 정수를 입력하세요. :')\n",
        "\n",
        "while a:\n",
        "    print(a[-1])\n",
        "    a = a[:-1]"
      ],
      "metadata": {
        "colab": {
          "base_uri": "https://localhost:8080/"
        },
        "id": "WZnduOEgoMSb",
        "outputId": "406a9672-1221-4688-d137-2097f1eaf243"
      },
      "execution_count": null,
      "outputs": [
        {
          "output_type": "stream",
          "name": "stdout",
          "text": [
            "692385492034\n",
            "4\n",
            "3\n",
            "0\n",
            "2\n",
            "9\n",
            "4\n",
            "5\n",
            "8\n",
            "3\n",
            "2\n",
            "9\n",
            "6\n"
          ]
        }
      ]
    },
    {
      "cell_type": "code",
      "source": [
        "#10으로만 나눠도 되네?? 참\n",
        "A = int(input('양의 정수를 입력하세요. :'))\n",
        "\n",
        "while A > 0:\n",
        "    C = A%10\n",
        "    A = A//10\n",
        "    print(C)"
      ],
      "metadata": {
        "colab": {
          "base_uri": "https://localhost:8080/"
        },
        "id": "-7JC0HySrnL_",
        "outputId": "e98f8a27-8db1-49a3-f537-94ed6a5bdfc1"
      },
      "execution_count": null,
      "outputs": [
        {
          "output_type": "stream",
          "name": "stdout",
          "text": [
            "5328471232\n",
            "2\n",
            "3\n",
            "2\n",
            "1\n",
            "7\n",
            "4\n",
            "8\n",
            "2\n",
            "3\n",
            "5\n"
          ]
        }
      ]
    },
    {
      "cell_type": "markdown",
      "metadata": {
        "id": "TqJ72Hn8Wl4a"
      },
      "source": [
        "## `for` 문\n",
        "\n",
        "`for` 문은 시퀀스(string, tuple, list, range)를 포함한 순회가능한 객체(iterable)의 요소들을 순회합니다.\n",
        "\n",
        "---\n",
        "\n",
        "### 활용법\n",
        "- **문법**\n",
        "\n",
        "```python\n",
        "for <임시변수> in <순회가능한데이터(iterable)>:\n",
        "    <코드 블럭>\n",
        "```\n",
        "\n",
        "- **예시**\n",
        "\n",
        "```python\n",
        "for fruit in ['apple', 'mango', 'banana']:\n",
        "    print(fruit)\n",
        "print('끝')\n",
        "```"
      ]
    },
    {
      "cell_type": "markdown",
      "metadata": {
        "id": "az5To5jiWl4a"
      },
      "source": [
        "<center>\n",
        "    <img src=\"https://user-images.githubusercontent.com/18046097/61180565-3a2c7800-a653-11e9-806a-28838248de31.png\", alt=\"\">\n",
        "</center>"
      ]
    },
    {
      "cell_type": "code",
      "execution_count": null,
      "metadata": {
        "id": "JHj2SKKeWl4a"
      },
      "outputs": [],
      "source": [
        "# flowchart를 for문을 통해 코드로 작성해봅시다.\n",
        "# 아래에 코드를 작성하세요."
      ]
    },
    {
      "cell_type": "code",
      "execution_count": null,
      "metadata": {
        "colab": {
          "base_uri": "https://localhost:8080/"
        },
        "id": "UVg86l5aWl4b",
        "outputId": "24aa1c84-1ded-4d17-b88e-d9f0b5f226db"
      },
      "outputs": [
        {
          "output_type": "stream",
          "name": "stdout",
          "text": [
            "s\n",
            "t\n",
            "a\n",
            "r\n",
            "t\n",
            "끝\n"
          ]
        }
      ],
      "source": [
        "string = 'start'\n",
        "\n",
        "for a in string:\n",
        "    \n",
        "    print(a)\n",
        "\n",
        "print(\"끝\")"
      ]
    },
    {
      "cell_type": "markdown",
      "metadata": {
        "id": "D4K2IkfIWl4b"
      },
      "source": [
        "![for animation](https://user-images.githubusercontent.com/18046097/61180563-3a2c7800-a653-11e9-8a7a-c7d6e6b30141.gif)"
      ]
    },
    {
      "cell_type": "markdown",
      "metadata": {
        "id": "gqd8oPxyWl4b"
      },
      "source": [
        "### [연습] for 문 작성하기\n",
        "> `for` 문을 활용하여 사용자가 입력한 문자를 한글자씩 출력해보세요.\n",
        "\n",
        "---\n",
        "**[입력 예시]**\n",
        "```\n",
        "문자를 입력하세요 : 안녕!\n",
        "```\n",
        "\n",
        "\n",
        "**[출력 예시]**\n",
        "\n",
        "```\n",
        "안\n",
        "녕\n",
        "!\n",
        "```"
      ]
    },
    {
      "cell_type": "code",
      "execution_count": null,
      "metadata": {
        "colab": {
          "base_uri": "https://localhost:8080/"
        },
        "id": "rJFXeBehWl4b",
        "outputId": "bdc0a152-8132-4dcd-912f-636775eae55e"
      },
      "outputs": [
        {
          "name": "stdout",
          "output_type": "stream",
          "text": [
            "문자를 입력하세요 : 안녕!\n"
          ]
        }
      ],
      "source": [
        "chars = input('문자를 입력하세요 : ')"
      ]
    },
    {
      "cell_type": "code",
      "execution_count": null,
      "metadata": {
        "id": "-3TCiS_GWl4c"
      },
      "outputs": [],
      "source": [
        "# 아래에 코드를 작성하세요.\n",
        "# for 문을 활용해봅시다.\n",
        "# 변수 char에 할당된 문자를 한글자씩 출력하는 for 반복문을 작성하세요."
      ]
    },
    {
      "cell_type": "code",
      "execution_count": null,
      "metadata": {
        "colab": {
          "base_uri": "https://localhost:8080/"
        },
        "id": "SwTBta_HWl4c",
        "outputId": "afad8f48-d32b-4cd6-ed28-8ca48dda8c57"
      },
      "outputs": [
        {
          "output_type": "stream",
          "name": "stdout",
          "text": [
            "안\n",
            "녕\n",
            "!\n"
          ]
        }
      ],
      "source": [
        "for char in chars:\n",
        "    \n",
        "    print(char)"
      ]
    },
    {
      "cell_type": "markdown",
      "metadata": {
        "id": "kf1YdQBuWl4c"
      },
      "source": [
        "### 문자열(String) 순회\n",
        "\n",
        "#### `range(문자열의 길이)`\n",
        "`range()`와 순회할 srting의 길이를 활용하여 index를 조작 가능합니다."
      ]
    },
    {
      "cell_type": "code",
      "execution_count": null,
      "metadata": {
        "colab": {
          "base_uri": "https://localhost:8080/"
        },
        "id": "t0n2S6cJWl4c",
        "outputId": "4c1d7e68-6932-466f-ba41-81bf95b90e44"
      },
      "outputs": [
        {
          "name": "stdout",
          "output_type": "stream",
          "text": [
            "문자를 입력하세요 : yundaehyuck\n"
          ]
        }
      ],
      "source": [
        "chars = input('문자를 입력하세요 : ')"
      ]
    },
    {
      "cell_type": "code",
      "execution_count": null,
      "metadata": {
        "id": "bVpsq42OWl4c"
      },
      "outputs": [],
      "source": [
        "# 위에서 사용자가 입력한 문자를 range를 활용하여 한 글자씩 출력하는 for 문을 작성해봅시다."
      ]
    },
    {
      "cell_type": "code",
      "execution_count": null,
      "metadata": {
        "colab": {
          "base_uri": "https://localhost:8080/"
        },
        "id": "L7goMUP4Wl4c",
        "outputId": "8dde3962-a4a6-4f05-8477-38d3a83dd476"
      },
      "outputs": [
        {
          "output_type": "stream",
          "name": "stdout",
          "text": [
            "y\n",
            "u\n",
            "n\n",
            "d\n",
            "a\n",
            "e\n",
            "h\n",
            "y\n",
            "u\n",
            "c\n",
            "k\n"
          ]
        }
      ],
      "source": [
        "for i in range(len(chars)):\n",
        "    \n",
        "    print(chars[i])"
      ]
    },
    {
      "cell_type": "markdown",
      "metadata": {
        "id": "E2uLO7yGWl4d"
      },
      "source": [
        "### 딕셔너리 순회(반복문 활용)\n",
        "\n",
        "딕셔너리에 `for` 문을 실행하면 기본적으로 다음과 같이 동작합니다."
      ]
    },
    {
      "cell_type": "code",
      "execution_count": null,
      "metadata": {
        "id": "XS4e3ji9Wl4d"
      },
      "outputs": [],
      "source": [
        "# 딕셔너리를 반복문과 함께 사용해봅시다.\n",
        "# ''peter(key)은 80 이라는 점수(value)를 가지며,\n",
        "# 'jake'(key)은 90 이라는 점수(value)를 가지는,\n",
        "# 변수명이 grades인 딕셔너리를 만들어봅시다.\n",
        "\n",
        "grades = {'peter':  80, 'jake': 90}"
      ]
    },
    {
      "cell_type": "code",
      "execution_count": null,
      "metadata": {
        "colab": {
          "base_uri": "https://localhost:8080/"
        },
        "id": "bTC-AGI9Wl4d",
        "outputId": "07dcb1aa-40a9-499d-d2a2-3b93f46690ba"
      },
      "outputs": [
        {
          "output_type": "stream",
          "name": "stdout",
          "text": [
            "peter\n",
            "jake\n"
          ]
        }
      ],
      "source": [
        "# for문을 통해 딕셔너리 grades를 순회하면서 출력 값을 확인해봅시다.\n",
        "for student in grades:\n",
        "    print(student)"
      ]
    },
    {
      "cell_type": "markdown",
      "metadata": {
        "id": "8IdOESaiWl4e"
      },
      "source": [
        "딕셔너리의 **key**에 접근할 수 있으면, 이를 통해 **value**에도 접근할 수 있습니다.\n",
        "\n",
        "따라서 딕셔너리의 value를 출력하기 위해서는 아래와 같이 작성합니다."
      ]
    },
    {
      "cell_type": "code",
      "execution_count": null,
      "metadata": {
        "id": "JOqnf2FbWl4e"
      },
      "outputs": [],
      "source": [
        "# 위에서 출력한 학생 이름(key)을 활용하여 점수(value)를 출력해봅시다."
      ]
    },
    {
      "cell_type": "code",
      "execution_count": null,
      "metadata": {
        "colab": {
          "base_uri": "https://localhost:8080/"
        },
        "id": "-GO6ntxCWl4e",
        "outputId": "f45c35d3-501c-4372-ee91-41296f8ecbf5"
      },
      "outputs": [
        {
          "output_type": "stream",
          "name": "stdout",
          "text": [
            "80\n",
            "90\n"
          ]
        }
      ],
      "source": [
        "for student in grades:\n",
        "    \n",
        "    print(grades[student])"
      ]
    },
    {
      "cell_type": "markdown",
      "metadata": {
        "id": "PElV4hnQWl4e"
      },
      "source": [
        "* dictionary에서 `for`를 활용하는 4가지 방법\n",
        "\n",
        "```python\n",
        "# 0. dictionary 순회 (key 활용)\n",
        "for key in dict:\n",
        "    print(key)\n",
        "    print(dict[key])\n",
        "\n",
        "\n",
        "# 1. `.keys()` 활용\n",
        "for key in dict.keys():\n",
        "    print(key)\n",
        "    print(dict[key])\n",
        "    \n",
        "    \n",
        "# 2. `.values()` 활용\n",
        "# 이 경우 key는 출력할 수 없음\n",
        "for val in dict.values():\n",
        "    print(val)\n",
        "\n",
        "    \n",
        "# 3. `.items()` 활용\n",
        "for key, val in dict.items():\n",
        "    print(key, val)\n",
        "\n",
        "```"
      ]
    },
    {
      "cell_type": "code",
      "execution_count": null,
      "metadata": {
        "id": "fS8o8KbbWl4f"
      },
      "outputs": [],
      "source": [
        ""
      ]
    },
    {
      "cell_type": "markdown",
      "metadata": {
        "id": "Aye_nQ6sWl4f"
      },
      "source": [
        "### `enumerate()`\n",
        "인덱스(index)와 값(value)을 함께 활용 가능합니다.\n",
        "\n",
        "- `enumerate()`를 활용하면, 추가적인 변수를 활용할 수 있습니다.\n",
        "- `enumerate()`는 [내장 함수](https://docs.python.org/ko/3.6/library/functions.html) 중 하나이며, 다음과 같이 구성되어 있습니다.\n",
        "\n",
        "<center>\n",
        "    <img src=\"https://user-images.githubusercontent.com/18046097/61180561-3993e180-a653-11e9-9558-085c9a0ad65d.png\", alt=\"enumerate\">\n",
        "</center>"
      ]
    },
    {
      "cell_type": "code",
      "execution_count": null,
      "metadata": {
        "id": "1RJjzuUJWl4f"
      },
      "outputs": [],
      "source": [
        "# enumerate()를 활용해서 출력해봅시다.\n",
        "members = ['민수', '영희', '철수']"
      ]
    },
    {
      "cell_type": "code",
      "execution_count": null,
      "metadata": {
        "colab": {
          "base_uri": "https://localhost:8080/"
        },
        "id": "hsYmKST2Wl4f",
        "outputId": "3d518398-2b59-473b-d7e7-c706a72638cd"
      },
      "outputs": [
        {
          "output_type": "stream",
          "name": "stdout",
          "text": [
            "0 민수\n",
            "1 영희\n",
            "2 철수\n"
          ]
        }
      ],
      "source": [
        "# enumerate() 에 의해 반환되는 인덱스와 값(value)를 함께 출력하는 for 반복문을 작성해봅시다.\n",
        "for idx, member in enumerate(members):\n",
        "    print(idx, member)"
      ]
    },
    {
      "cell_type": "code",
      "execution_count": null,
      "metadata": {
        "id": "y4Zyo5aDWl4g"
      },
      "outputs": [],
      "source": [
        "# enumerate()를 사용하였을 때 어떻게 표현이 되는지 확인해봅시다."
      ]
    },
    {
      "cell_type": "code",
      "execution_count": null,
      "metadata": {
        "colab": {
          "base_uri": "https://localhost:8080/"
        },
        "id": "0jdwKsD5Wl4g",
        "outputId": "d691da09-1185-495b-b707-54fe5c9be8ee"
      },
      "outputs": [
        {
          "output_type": "stream",
          "name": "stdout",
          "text": [
            "<enumerate object at 0x7f0458600d20>\n",
            "[(0, '민수'), (1, '영희'), (2, '철수')]\n"
          ]
        }
      ],
      "source": [
        "print(enumerate(members))\n",
        "print(list(enumerate(members)))"
      ]
    },
    {
      "cell_type": "code",
      "execution_count": null,
      "metadata": {
        "id": "wWrziR0aWl4g"
      },
      "outputs": [],
      "source": [
        "# 첫번쨰 항목의 type을 확인해봅시다."
      ]
    },
    {
      "cell_type": "code",
      "execution_count": null,
      "metadata": {
        "colab": {
          "base_uri": "https://localhost:8080/"
        },
        "id": "eH5UsED0Wl4g",
        "outputId": "53665510-1719-49f3-e9de-25eff31e1bb0"
      },
      "outputs": [
        {
          "output_type": "stream",
          "name": "stdout",
          "text": [
            "(0, '민수')\n",
            "<class 'tuple'>\n"
          ]
        }
      ],
      "source": [
        "print(list(enumerate(members))[0])\n",
        "print(type(list(enumerate(members))[0]))"
      ]
    },
    {
      "cell_type": "markdown",
      "metadata": {
        "id": "OArIMuFqWl4g"
      },
      "source": [
        "* 숫자를 1부터 카운트 할 수도 있습니다."
      ]
    },
    {
      "cell_type": "code",
      "execution_count": null,
      "metadata": {
        "colab": {
          "base_uri": "https://localhost:8080/"
        },
        "id": "ZA28tIxVWl4h",
        "outputId": "fcd8f7b7-2762-4871-fbe6-347ba26b2253"
      },
      "outputs": [
        {
          "output_type": "stream",
          "name": "stdout",
          "text": [
            "1 민수\n",
            "2 영희\n",
            "3 철수\n"
          ]
        }
      ],
      "source": [
        "# enumerate() 에 의해 반환되는 인덱스가 1로 시작하여 카운트되는 for 반복문을 작성해봅시다.\n",
        "for idx, member in enumerate(members, start=1):\n",
        "    print(idx, member)"
      ]
    },
    {
      "cell_type": "markdown",
      "metadata": {
        "id": "qlf0EKY0Wl4h"
      },
      "source": [
        "### List Comprehension\n",
        "\n",
        "List Comprehension은 표현식과 제어문을 통해 리스트를 생성합니다.\n",
        "\n",
        "여러 줄의 코드를 한 줄로 줄일 수 있습니다.\n",
        "\n",
        "---\n",
        "\n",
        "#### 활용법\n",
        "\n",
        "```python\n",
        "[expression for 변수 in iterable]\n",
        "\n",
        "list(expression for 변수 in iterable)\n",
        "```"
      ]
    },
    {
      "cell_type": "markdown",
      "metadata": {
        "id": "RkrVEiATWl4h"
      },
      "source": [
        "#### 세제곱 리스트\n",
        "\n",
        "> 다음의 리스트를 작성하세요.\n",
        "- 1~3까지의 숫자로 만든 세제곱 담긴 리스트 `cubic_list`"
      ]
    },
    {
      "cell_type": "code",
      "execution_count": null,
      "metadata": {
        "id": "HHi-vFwvWl4h"
      },
      "outputs": [],
      "source": [
        "# 1~3의 세제곱 리스트 만들기\n",
        "cubic_list = []\n",
        "for number in range(1, 4):\n",
        "    cubic_list.append(number ** 3)"
      ]
    },
    {
      "cell_type": "code",
      "execution_count": null,
      "metadata": {
        "colab": {
          "base_uri": "https://localhost:8080/"
        },
        "id": "1JwMorb-Wl4h",
        "outputId": "ccda3ce7-ce09-45d8-f34e-da47955f7ae9"
      },
      "outputs": [
        {
          "output_type": "stream",
          "name": "stdout",
          "text": [
            "[1, 8, 27]\n"
          ]
        }
      ],
      "source": [
        "print(cubic_list)"
      ]
    },
    {
      "cell_type": "code",
      "execution_count": null,
      "metadata": {
        "id": "_7Y8AwCLWl4h"
      },
      "outputs": [],
      "source": [
        "# List comprehension을 활용하여 작성하세요."
      ]
    },
    {
      "cell_type": "code",
      "execution_count": null,
      "metadata": {
        "id": "Hc-fx-f4Wl4i"
      },
      "outputs": [],
      "source": [
        "cubic_list = [num**3 for num in range(1,4)]"
      ]
    },
    {
      "cell_type": "code",
      "execution_count": null,
      "metadata": {
        "colab": {
          "base_uri": "https://localhost:8080/"
        },
        "id": "I16-EW1xWl4i",
        "outputId": "8a1c4ab9-13da-49e0-bbbb-58dc4b8392d9"
      },
      "outputs": [
        {
          "output_type": "stream",
          "name": "stdout",
          "text": [
            "[1, 8, 27]\n"
          ]
        }
      ],
      "source": [
        "print(cubic_list)"
      ]
    },
    {
      "cell_type": "markdown",
      "metadata": {
        "id": "kSaRqta5Wl4i"
      },
      "source": [
        "### Dictionary comprehension\n",
        "\n",
        "dictionary도 comprehension을 활용하여 만들 수 있습니다. \n",
        "\n",
        "---\n",
        "\n",
        "#### 활용법\n",
        "`iterable`에서 `dict`를 생성할 수 있습니다.\n",
        "\n",
        "```python\n",
        "{키: 값 for 요소 in iterable}\n",
        "\n",
        "dict({키: 값 for 요소 in iterable})\n",
        "```"
      ]
    },
    {
      "cell_type": "code",
      "execution_count": null,
      "metadata": {
        "colab": {
          "base_uri": "https://localhost:8080/"
        },
        "id": "ZnKpWeQxWl4j",
        "outputId": "dc6b0bcc-ec27-4413-ea6e-99da17f071cc"
      },
      "outputs": [
        {
          "output_type": "stream",
          "name": "stdout",
          "text": [
            "{1: 1, 2: 8, 3: 27}\n"
          ]
        }
      ],
      "source": [
        "# 1~3의 세제곱 딕셔너리 만들기\n",
        "cubic = {}\n",
        "\n",
        "for number in range(1, 4):\n",
        "    cubic[number] = number**3\n",
        "print(cubic)"
      ]
    },
    {
      "cell_type": "code",
      "execution_count": null,
      "metadata": {
        "id": "RnHFQztuWl4j"
      },
      "outputs": [],
      "source": [
        "# Dictionary comprehension을 활용하여 작성하세요."
      ]
    },
    {
      "cell_type": "code",
      "execution_count": null,
      "metadata": {
        "colab": {
          "base_uri": "https://localhost:8080/"
        },
        "id": "vnmWTsSzWl4k",
        "outputId": "8137ceae-2c46-48f6-aa84-6dc4bfd25472"
      },
      "outputs": [
        {
          "output_type": "stream",
          "name": "stdout",
          "text": [
            "{1: 1, 2: 8, 3: 27}\n"
          ]
        }
      ],
      "source": [
        "cubic = {num:num**3 for num in range(1,4)}\n",
        "\n",
        "print(cubic)"
      ]
    },
    {
      "cell_type": "markdown",
      "metadata": {
        "id": "oRp9BDe8Wl4k"
      },
      "source": [
        "###  [실습] for 문과 if 문 작성하기\n",
        "\n",
        "> 반복문과 조건문만 활용하여 1~30까지 숫자 중에 홀수만 출력해보세요.\n",
        "\n",
        "---\n",
        "\n",
        "**[출력 예시]**\n",
        "\n",
        "```\n",
        "1\n",
        "3\n",
        "5\n",
        "...\n",
        "27\n",
        "29\n",
        "```"
      ]
    },
    {
      "cell_type": "code",
      "execution_count": null,
      "metadata": {
        "id": "rsRwpGufWl4k"
      },
      "outputs": [],
      "source": [
        "# 아래에 코드를 작성하세요."
      ]
    },
    {
      "cell_type": "code",
      "execution_count": null,
      "metadata": {
        "colab": {
          "base_uri": "https://localhost:8080/"
        },
        "id": "yVsnfcXQWl4k",
        "outputId": "08432495-50a3-4bff-816e-d5230fc60ec2"
      },
      "outputs": [
        {
          "output_type": "stream",
          "name": "stdout",
          "text": [
            "1\n",
            "3\n",
            "5\n",
            "7\n",
            "9\n",
            "11\n",
            "13\n",
            "15\n",
            "17\n",
            "19\n",
            "21\n",
            "23\n",
            "25\n",
            "27\n",
            "29\n"
          ]
        }
      ],
      "source": [
        "for num in range(1,31):\n",
        "    \n",
        "    if num % 2 == 1:\n",
        "        \n",
        "        print(num)"
      ]
    },
    {
      "cell_type": "markdown",
      "metadata": {
        "id": "5bgXSZB0Wl4l"
      },
      "source": [
        "## 반복제어(`break`, `continue`, `for-else`)"
      ]
    },
    {
      "cell_type": "markdown",
      "metadata": {
        "id": "-d_36S0SWl4l"
      },
      "source": [
        "### `break` \n",
        "\n",
        "반복문을 종료합니다.\n",
        "\n",
        "* `for` 나 `while` 문에서 빠져나갑니다."
      ]
    },
    {
      "cell_type": "code",
      "execution_count": null,
      "metadata": {
        "id": "64xwSpayWl4l"
      },
      "outputs": [],
      "source": [
        "# while 문에서 break를 활용해봅시다."
      ]
    },
    {
      "cell_type": "code",
      "execution_count": null,
      "metadata": {
        "colab": {
          "base_uri": "https://localhost:8080/"
        },
        "id": "_wYC8GUQWl4m",
        "outputId": "7f29f407-fa8d-4e4b-d466-12152a254273"
      },
      "outputs": [
        {
          "output_type": "stream",
          "name": "stdout",
          "text": [
            "0\n",
            "1\n",
            "2\n"
          ]
        }
      ],
      "source": [
        "# 종료 조건이 있는 while 문을 작성해봅시다.\n",
        "# n의 초기값을 0으로 할당하고,\n",
        "# n의 값이 3보다 작은 경우 n을 출력한 후, n을 1씩 증가시키는 while 반복문 코드를 작성해봅시다. \n",
        "n = 0\n",
        "while n < 3:\n",
        "    print(n)\n",
        "    n += 1"
      ]
    },
    {
      "cell_type": "code",
      "execution_count": null,
      "metadata": {
        "colab": {
          "base_uri": "https://localhost:8080/"
        },
        "id": "v9Hq_ogMWl4m",
        "outputId": "0967c2e6-144d-4e43-92f9-912c34a31338"
      },
      "outputs": [
        {
          "output_type": "stream",
          "name": "stdout",
          "text": [
            "0\n",
            "1\n",
            "2\n"
          ]
        }
      ],
      "source": [
        "# 종료 조건이 없는 while 문을 break 를 활용해서 종료시키는 코드를 작성해봅시다.\n",
        "# n의 초기값을 0으로 할당하고,\n",
        "# 종료조건 없이 n을 1씩 증가시키는 while 반복문 안에서 \n",
        "# n이 3이 되는 경우에 break되어 반복문을 종료하는 코드를 작성해봅시다.\n",
        "n = 0\n",
        "while True:\n",
        "    if n == 3:\n",
        "        break\n",
        "    print(n)\n",
        "    n += 1"
      ]
    },
    {
      "cell_type": "code",
      "execution_count": null,
      "metadata": {
        "id": "_UAkefgzWl4n"
      },
      "outputs": [],
      "source": [
        "# for 문에서도 break를 사용할 수 있습니다."
      ]
    },
    {
      "cell_type": "code",
      "execution_count": null,
      "metadata": {
        "colab": {
          "base_uri": "https://localhost:8080/"
        },
        "id": "GpnycvWIWl4n",
        "outputId": "5ed406d1-ebbb-4072-f675-fb4ebf6ceff5"
      },
      "outputs": [
        {
          "output_type": "stream",
          "name": "stdout",
          "text": [
            "0과 1만 필요해!\n"
          ]
        }
      ],
      "source": [
        "# 0부터 9까지 순회하는 for 반복문 안에서 \n",
        "# 1을 초과하는 경우 '0과 1만 필요해!' 를 출력하며 종료하는 코드를 작성해봅시다.\n",
        "\n",
        "for i in range(10):\n",
        "    \n",
        "    if i > 1:\n",
        "        \n",
        "        print(\"0과 1만 필요해!\")\n",
        "        break"
      ]
    },
    {
      "cell_type": "markdown",
      "metadata": {
        "id": "PVTUVAogWl4n"
      },
      "source": [
        "### [연습] `break` 활용하기\n",
        "\n",
        "> 조건문과 반복문, `break`를 활용하여 리스트에서 쌀이 나왔을때 `for` 문을 멈추는 코드를 작성하세요.\n",
        "\n",
        "---\n",
        "\n",
        "**[출력 예시]**\n",
        "\n",
        "보리\n",
        "\n",
        "보리\n",
        "\n",
        "쌀\n",
        "\n",
        "잡았다!"
      ]
    },
    {
      "cell_type": "code",
      "execution_count": null,
      "metadata": {
        "id": "iexGdCRQWl4o"
      },
      "outputs": [],
      "source": [
        "rice = ['보리', '보리', '보리', '쌀', '보리']\n",
        "\n",
        "# 아래에 코드를 작성하세요."
      ]
    },
    {
      "cell_type": "code",
      "execution_count": null,
      "metadata": {
        "scrolled": true,
        "colab": {
          "base_uri": "https://localhost:8080/"
        },
        "id": "kxkIArZrWl4o",
        "outputId": "fec68fa3-e0c8-4d45-d342-bf1771194f19"
      },
      "outputs": [
        {
          "output_type": "stream",
          "name": "stdout",
          "text": [
            "보리\n",
            "보리\n",
            "보리\n",
            "쌀\n",
            "잡았다!\n"
          ]
        }
      ],
      "source": [
        "for a in rice:\n",
        "    \n",
        "    print(a)\n",
        "    \n",
        "    if a == \"쌀\":\n",
        "        print(\"잡았다!\")\n",
        "        break"
      ]
    },
    {
      "cell_type": "markdown",
      "metadata": {
        "id": "igyXErpGWl4o"
      },
      "source": [
        "### `continue`\n",
        "\n",
        "`continue`문은 continue 이후의 코드를 수행하지 않고, *다음 요소부터 계속(continue)하여* 반복을 수행합니다."
      ]
    },
    {
      "cell_type": "code",
      "execution_count": null,
      "metadata": {
        "id": "MHexp9YhWl4o"
      },
      "outputs": [],
      "source": [
        "# continue 문을 확인해봅시다.\n",
        "# for문을 통해 0~5까지의 숫자를 반복하며,\n",
        "# 짝수인 경우 continue하고,\n",
        "# 홀수인 경우 해당 숫자를 출력하는 코드를 작성하세요."
      ]
    },
    {
      "cell_type": "code",
      "execution_count": null,
      "metadata": {
        "ExecuteTime": {
          "end_time": "2021-01-15T08:54:19.617198Z",
          "start_time": "2021-01-15T08:54:19.615196Z"
        },
        "colab": {
          "base_uri": "https://localhost:8080/"
        },
        "id": "rsPBKyPAWl4p",
        "outputId": "654d7a0c-4d63-42b5-aa78-3f539837eed7"
      },
      "outputs": [
        {
          "output_type": "stream",
          "name": "stdout",
          "text": [
            "1는 홀수다.\n",
            "3는 홀수다.\n",
            "5는 홀수다.\n"
          ]
        }
      ],
      "source": [
        "for i in range(6):\n",
        "    if i % 2 == 0:\n",
        "        continue\n",
        "        # continue 이후의 코드는 실행되지 않습니다.\n",
        "    print(f'{i}는 홀수다.')"
      ]
    },
    {
      "cell_type": "markdown",
      "metadata": {
        "id": "O5SGIvuTWl4p"
      },
      "source": [
        "### [연습] `continue` 문 작성하기\n",
        "\n",
        "> 나이가 입력된 리스트가 있을때,\n",
        "> 조건문과 반복문, `continue`문을 활용하여 20살 이상일때만 \"성인입니다\"라는 출력을 하는 코드를 작성하세요.\n",
        "\n",
        "---\n",
        "\n",
        "**[출력 예시]**\n",
        "\n",
        "23 살은 성인입니다.\n",
        "\n",
        "30 살은 성인입니다.\n",
        "\n",
        "25 살은 성인입니다.\n",
        "\n",
        "31 살은 성인입니다."
      ]
    },
    {
      "cell_type": "code",
      "execution_count": null,
      "metadata": {
        "id": "BP-JH9PlWl4p"
      },
      "outputs": [],
      "source": [
        "ages = [10, 23, 8, 30, 25, 31]\n",
        "\n",
        "# 아래에 코드를 작성하세요."
      ]
    },
    {
      "cell_type": "code",
      "execution_count": null,
      "metadata": {
        "colab": {
          "base_uri": "https://localhost:8080/"
        },
        "id": "pYZgfm9HWl4q",
        "outputId": "e76ce413-4360-40ed-e163-f41036d3296a"
      },
      "outputs": [
        {
          "output_type": "stream",
          "name": "stdout",
          "text": [
            "23 살은 성인입니다.\n",
            "30 살은 성인입니다.\n",
            "25 살은 성인입니다.\n",
            "31 살은 성인입니다.\n"
          ]
        }
      ],
      "source": [
        "for age in ages:\n",
        "    \n",
        "    if age < 20:\n",
        "        \n",
        "        continue\n",
        "    \n",
        "    print(f\"{age} 살은 성인입니다.\")"
      ]
    },
    {
      "cell_type": "markdown",
      "metadata": {
        "id": "iK1-UoriWl4q"
      },
      "source": [
        "### `pass` \n",
        "아무것도 하지 않습니다.\n",
        "* 들여쓰기 이후 문장이 필요하지만, 프로그램이 특별히 할 일이 없을 때 자리를 채우는 용도로 사용할 수 있습니다."
      ]
    },
    {
      "cell_type": "markdown",
      "metadata": {
        "id": "_B33XRt6Wl4q"
      },
      "source": [
        "`pass` 와 `continue` 차이"
      ]
    },
    {
      "cell_type": "code",
      "execution_count": null,
      "metadata": {
        "colab": {
          "base_uri": "https://localhost:8080/"
        },
        "id": "CaVBt4uKWl4q",
        "outputId": "df6b3e90-54cc-423a-d064-d8581006657d"
      },
      "outputs": [
        {
          "output_type": "stream",
          "name": "stdout",
          "text": [
            "0\n",
            "1\n",
            "2\n",
            "3\n",
            "4\n"
          ]
        }
      ],
      "source": [
        "# pass\n",
        "# 0부터 4의 범위를 순회하며 출력하는 반복문 안에서\n",
        "# 3이 나오는 경우 pass 하는 조건문을 작성해봅시다.\n",
        "\n",
        "for i in range(5):\n",
        "    \n",
        "    if i == 3:\n",
        "        \n",
        "        pass\n",
        "    \n",
        "    print(i)"
      ]
    },
    {
      "cell_type": "code",
      "execution_count": null,
      "metadata": {
        "id": "SwjuqfYxWl4r"
      },
      "outputs": [],
      "source": [
        "# 아래에 코드를 작성하세요."
      ]
    },
    {
      "cell_type": "code",
      "execution_count": null,
      "metadata": {
        "colab": {
          "base_uri": "https://localhost:8080/"
        },
        "id": "Icu0dHSIWl4s",
        "outputId": "0457fe48-c8b8-4c78-e949-2751d5e954a2"
      },
      "outputs": [
        {
          "output_type": "stream",
          "name": "stdout",
          "text": [
            "0\n",
            "1\n",
            "2\n",
            "4\n"
          ]
        }
      ],
      "source": [
        "# continue\n",
        "# 0부터 4의 범위를 순회하며 출력하는 반복문 안에서 \n",
        "# 3이 나오는 경우 continue 하는 조건문을 작성해봅시다.\n",
        "\n",
        "for i in range(5):\n",
        "    \n",
        "    if i == 3:\n",
        "        \n",
        "        continue\n",
        "    \n",
        "    print(i)"
      ]
    },
    {
      "cell_type": "code",
      "execution_count": null,
      "metadata": {
        "id": "7EHv1kaVWl4t"
      },
      "outputs": [],
      "source": [
        "# 아래에 코드을 작성하세요."
      ]
    },
    {
      "cell_type": "markdown",
      "metadata": {
        "id": "o0-y8KL1Wl4t"
      },
      "source": [
        "### `else`\n",
        "\n",
        "끝까지 반복문을 실행한 이후에 실행됩니다.\n",
        "- 반복문이 **`break` 문으로 종료될 때는 실행되지 않습니다.** (즉, `break`를 통해 중간에 종료되지 않은 경우만 실행)"
      ]
    },
    {
      "cell_type": "code",
      "execution_count": null,
      "metadata": {
        "id": "SP9-IZyxWl4t"
      },
      "outputs": [],
      "source": [
        "# break가 동작하지 않는 상황을 확인해봅시다.\n",
        "# 'apple' 이라는 문자열을 순회하면서\n",
        "# 'b'가 있으면 'b!'를 출력한 후 break에 의해 순회를 종료하고,\n",
        "# 문자열 끝까지 순회해도 'b'가 없는 경우에는 'b가 없습니다.'를 출력하는 코드를 작성하세요."
      ]
    },
    {
      "cell_type": "code",
      "execution_count": null,
      "metadata": {
        "colab": {
          "base_uri": "https://localhost:8080/"
        },
        "id": "ZcaO8Aj_Wl4t",
        "outputId": "e754e158-8814-45ad-92df-d813bba900bd"
      },
      "outputs": [
        {
          "output_type": "stream",
          "name": "stdout",
          "text": [
            "b가 없습니다.\n"
          ]
        }
      ],
      "source": [
        "# 아래에 코드를 작성하세요.\n",
        "\n",
        "s = 'apple'\n",
        "\n",
        "for char in s:\n",
        "    \n",
        "    if char == 'b':\n",
        "        \n",
        "        print('b!')\n",
        "        break\n",
        "\n",
        "else:\n",
        "    \n",
        "    print('b가 없습니다.')"
      ]
    },
    {
      "cell_type": "code",
      "execution_count": null,
      "metadata": {
        "id": "kaFywxzYWl4t"
      },
      "outputs": [],
      "source": [
        "# break가 동작하는 상황을 확인해봅시다.\n",
        "# 'banana' 라는 문자열을 순회하면서\n",
        "# 'b'가 있으면 'b!'를 출력한 후 break에 의해 순회를 종료하고,\n",
        "# 문자열 끝까지 순회해도 'b'가 없는 경우에는 'b가 없습니다.'를 출력하는 코드를 작성하세요."
      ]
    },
    {
      "cell_type": "code",
      "execution_count": null,
      "metadata": {
        "colab": {
          "base_uri": "https://localhost:8080/"
        },
        "id": "tUcyZzRfWl4u",
        "outputId": "d8775932-0730-4df4-aed4-523d3e523d3b"
      },
      "outputs": [
        {
          "output_type": "stream",
          "name": "stdout",
          "text": [
            "b!\n"
          ]
        }
      ],
      "source": [
        "# 아래에 코드를 작성하세요.\n",
        "\n",
        "s = 'banana'\n",
        "\n",
        "for char in s:\n",
        "    \n",
        "    if char == 'b':\n",
        "        \n",
        "        print('b!')\n",
        "        break\n",
        "\n",
        "else:\n",
        "    \n",
        "    print(\"b가 없습니다.\")"
      ]
    },
    {
      "cell_type": "markdown",
      "metadata": {
        "id": "hkomwlfiWl4u"
      },
      "source": [
        "### [연습] `for-else` 활용하기\n",
        "\n",
        "> 조건문과 반복문, break, else 를 통해서 아래의 코드와 동일한 코드를 작성하세요.\n",
        "* numbers 리스트에 4가 있을 경우 `True`를 출력하고, 없을 경우 `False`를 출력한다.\n",
        "\n",
        "---\n",
        "\n",
        "**[출력 예시]**\n",
        "\n",
        "`False`\n"
      ]
    },
    {
      "cell_type": "code",
      "execution_count": null,
      "metadata": {
        "id": "LufTkFl5Wl4u"
      },
      "outputs": [],
      "source": [
        "numbers = [1, 3, 7, 9]\n",
        "\n",
        "# 아래에 코드를 작성하세요."
      ]
    },
    {
      "cell_type": "code",
      "execution_count": null,
      "metadata": {
        "colab": {
          "base_uri": "https://localhost:8080/"
        },
        "id": "-flaaAllWl4u",
        "outputId": "da51663f-b195-4421-9669-496fb3cc57f7"
      },
      "outputs": [
        {
          "output_type": "stream",
          "name": "stdout",
          "text": [
            "False\n"
          ]
        }
      ],
      "source": [
        "for number in numbers:\n",
        "    \n",
        "    if number == 4:\n",
        "        \n",
        "        print(True)\n",
        "\n",
        "else:\n",
        "    \n",
        "    print(False)"
      ]
    }
  ],
  "metadata": {
    "kernelspec": {
      "display_name": "Python 3.10.0 64-bit",
      "language": "python",
      "name": "python3"
    },
    "language_info": {
      "codemirror_mode": {
        "name": "ipython",
        "version": 3
      },
      "file_extension": ".py",
      "mimetype": "text/x-python",
      "name": "python",
      "nbconvert_exporter": "python",
      "pygments_lexer": "ipython3",
      "version": "3.10.0"
    },
    "toc": {
      "base_numbering": 1,
      "nav_menu": {},
      "number_sections": true,
      "sideBar": true,
      "skip_h1_title": false,
      "title_cell": "제어문(Control Statement)",
      "title_sidebar": "제어문(Control Statement)",
      "toc_cell": false,
      "toc_position": {
        "height": "calc(100% - 180px)",
        "left": "10px",
        "top": "150px",
        "width": "165px"
      },
      "toc_section_display": true,
      "toc_window_display": true
    },
    "vscode": {
      "interpreter": {
        "hash": "369f2c481f4da34e4445cda3fffd2e751bd1c4d706f27375911949ba6bb62e1c"
      }
    },
    "colab": {
      "name": "04_01_python_workshop_복습_제어문_.ipynb",
      "provenance": [],
      "collapsed_sections": []
    }
  },
  "nbformat": 4,
  "nbformat_minor": 0
}