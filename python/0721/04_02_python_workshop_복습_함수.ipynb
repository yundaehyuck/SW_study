{
  "cells": [
    {
      "cell_type": "markdown",
      "metadata": {
        "id": "SBJQ2QJUwCoQ"
      },
      "source": [
        "<p style=\"font-size: 33px; font-weight: 700; margin-bottom: 3rem\">함수(function) I</p>\n",
        "\n",
        "함수(function) I\n",
        "\n",
        "- 함수의 정의\n",
        "- 함수의 Output\n",
        "- 함수의 Input"
      ]
    },
    {
      "cell_type": "markdown",
      "metadata": {
        "id": "IfnW1vEKwCoT"
      },
      "source": [
        "<center>\n",
        "    <img src=\"https://user-images.githubusercontent.com/18046097/61181746-2a1d9400-a665-11e9-804e-e92940d4fc82.png\", alt=\"func.png\">\n",
        "</center>"
      ]
    },
    {
      "cell_type": "markdown",
      "metadata": {
        "id": "M-C1aCUTwCoT"
      },
      "source": [
        "## 함수(Function)\n",
        "- 특정 명령을 수행하는 함수 묶음을 말합니다."
      ]
    },
    {
      "cell_type": "code",
      "execution_count": null,
      "metadata": {
        "colab": {
          "base_uri": "https://localhost:8080/"
        },
        "id": "EMN61MGfwCoU",
        "outputId": "4d9a2c38-fb9c-437b-98e4-fe9588280da0"
      },
      "outputs": [
        {
          "output_type": "execute_result",
          "data": {
            "text/plain": [
              "90"
            ]
          },
          "metadata": {},
          "execution_count": 1
        }
      ],
      "source": [
        "def multiply(x, y, z):\n",
        "    return x * y * z\n",
        "\n",
        "\n",
        "multiply(5, 6, 3)"
      ]
    },
    {
      "cell_type": "markdown",
      "metadata": {
        "id": "uhToVUCHwCoV"
      },
      "source": [
        "## 모듈 (Module)\n",
        "- 함수 / 클래스의 모음 또는 하나의 프로그램을 구성하는 단위를 의미합니다.\n",
        "\n",
        "## 패키지 (Package)\n",
        "- 프로그램과 모듈의 묶음을 의미합니다.\n",
        "    - 프로그램 : 실행하기 위한 것\n",
        "    - 모듈 : 다른 프로그램에서 불러와 사용하기 위한 것\n",
        "![module](https://user-images.githubusercontent.com/45934087/148158664-3798bd68-a9fa-4c21-be01-874bada7c11c.png)\n"
      ]
    },
    {
      "cell_type": "markdown",
      "metadata": {
        "id": "4No6hrZpwCoV"
      },
      "source": [
        "## 라이브러리 (Library)\n",
        "- 패키지의 모음을 의미합니다.\n",
        "![Library](https://user-images.githubusercontent.com/45934087/148158810-466f417d-f950-4ac0-abcb-321e0577d043.png)"
      ]
    },
    {
      "cell_type": "markdown",
      "metadata": {
        "id": "dKlrqRC_wCoW"
      },
      "source": [
        "# 들어가기전에 \n",
        "다음의 코드를 봅시다. 무엇을 하는 코드일까요?"
      ]
    },
    {
      "cell_type": "code",
      "execution_count": null,
      "metadata": {
        "colab": {
          "base_uri": "https://localhost:8080/"
        },
        "id": "hAyMZbEjwCoX",
        "outputId": "5a5ea3e2-2a73-4aa1-d8bd-dcabfe53f18d"
      },
      "outputs": [
        {
          "output_type": "stream",
          "name": "stdout",
          "text": [
            "14.499760534421096\n"
          ]
        }
      ],
      "source": [
        "values = [100, 75, 85, 90, 65, 95, 90, 60, 85, 50, 90, 80]\n",
        "total = 0\n",
        "cnt = 0\n",
        "\n",
        "for value in values:\n",
        "    total += value\n",
        "    cnt += 1\n",
        "mean = total / cnt\n",
        "\n",
        "total_var = 0\n",
        "for value in values:\n",
        "    total_var += (value - mean) ** 2\n",
        "sum_var = total_var / cnt\n",
        "\n",
        "target = sum_var\n",
        "count = 0 \n",
        "while True : \n",
        "    count += 1 \n",
        "    root = 0.5 * (target + (sum_var / target))   ##babylonian method. 제곱근 근사방법 처음봄;\n",
        "    if (abs(root - target) < 0.0000000000000001): \n",
        "        break \n",
        "    target = root\n",
        "\n",
        "std_dev = target\n",
        "print(std_dev)"
      ]
    },
    {
      "cell_type": "markdown",
      "metadata": {
        "id": "FpOUBt74wCoX"
      },
      "source": [
        "이해하기 쉬운가요? 그리고 만약 다른 곳에서 동일한 작업을 다시해야할 경우 어떻게 해야 할까요?"
      ]
    },
    {
      "cell_type": "code",
      "execution_count": null,
      "metadata": {
        "colab": {
          "base_uri": "https://localhost:8080/"
        },
        "id": "rr8vUjXOwCoY",
        "outputId": "95a84e5f-e0af-4c32-d0cd-0261b7699cc8"
      },
      "outputs": [
        {
          "output_type": "stream",
          "name": "stdout",
          "text": [
            "14.499760534421096\n"
          ]
        }
      ],
      "source": [
        "import math\n",
        "values = [100, 75, 85, 90, 65, 95, 90, 60, 85, 50, 90, 80]\n",
        "cnt = len(values)\n",
        "mean = sum(values) / cnt\n",
        "sum_var = sum(pow(value - mean, 2) for value in values) / cnt\n",
        "std_dev = math.sqrt(sum_var)\n",
        "print(std_dev)"
      ]
    },
    {
      "cell_type": "markdown",
      "metadata": {
        "id": "psGecpN7wCoY"
      },
      "source": [
        "한줄로도 가능할까요?"
      ]
    },
    {
      "cell_type": "code",
      "execution_count": null,
      "metadata": {
        "colab": {
          "base_uri": "https://localhost:8080/"
        },
        "id": "Eb5Ew9rCwCoZ",
        "outputId": "e8ad33b4-c804-4f20-f882-119e72a47bb4"
      },
      "outputs": [
        {
          "output_type": "execute_result",
          "data": {
            "text/plain": [
              "14.499760534421096"
            ]
          },
          "metadata": {},
          "execution_count": 4
        }
      ],
      "source": [
        "import statistics\n",
        "values = [100, 75, 85, 90, 65, 95, 90, 60, 85, 50, 90, 80]\n",
        "statistics.pstdev(values)"
      ]
    },
    {
      "cell_type": "markdown",
      "metadata": {
        "id": "kWmPF_3OwCoZ"
      },
      "source": [
        "# 함수(function)\n",
        "\n",
        "> 특정한 기능(function)을 하는 코드의 묶음\n",
        "\n",
        "## 함수를 쓰는 이유\n",
        "\n",
        "- 가독성\n",
        "- 재사용성\n",
        "- 유지보수"
      ]
    },
    {
      "cell_type": "markdown",
      "metadata": {
        "id": "nuQLjtu_wCoZ"
      },
      "source": [
        "<center>\n",
        "    <img src=\"https://user-images.githubusercontent.com/18046097/61181741-2984fd80-a665-11e9-93b8-578c56689d0e.png\", alt=\"programming principle\">\n",
        "</center>"
      ]
    },
    {
      "cell_type": "markdown",
      "metadata": {
        "id": "hjfg2SLfwCoa"
      },
      "source": [
        "## 함수의 선언과 호출\n",
        "\n",
        "* 함수의 선언은 `def` 키워드를 활용합니다.\n",
        "\n",
        "\n",
        "* `들여쓰기(4spaces)`로 함수의 body(코드 블록)를 작성합니다.\n",
        "    * Docstring은 함수 body 앞에 선택적으로 작성 가능합니다.\n",
        "\n",
        "\n",
        "* 함수는 `매개변수(parameter)`를 넘겨줄 수도 있습니다.\n",
        "\n",
        "\n",
        "* 함수는 동작후에 `return`을 통해 결과값을 반환합니다.\n",
        "    * 반드시 하나의 값을 반환합니다 (`return` 값이 없으면, `None`을 반환)\n",
        "\n",
        "\n",
        "* 함수는 호출은 `함수명()`으로 합니다. \n",
        "    * 예) `func()` / `func(val1, val2)`\n",
        "\n",
        "---\n",
        "\n",
        "#### 활용법\n",
        "\n",
        "```python\n",
        "def <함수이름>(parameter1, parameter2):\n",
        "    <코드 블럭>\n",
        "    return value\n",
        "```"
      ]
    },
    {
      "cell_type": "markdown",
      "metadata": {
        "id": "F0VdPVvSwCoa"
      },
      "source": [
        "### [연습] 세제곱 함수 \n",
        "> 입력 받은 수를 세제곱하여 반환(return)하는 함수 `cube()`을 작성해보세요.\n",
        "\n",
        "---\n",
        "\n",
        "**[입력 예시]**\n",
        "\n",
        "```py\n",
        "cube(2)\n",
        "```\n",
        "\n",
        "**[출력 예시]**\n",
        "\n",
        "8"
      ]
    },
    {
      "cell_type": "markdown",
      "metadata": {
        "id": "N-gkx9uMwCoa"
      },
      "source": [
        "위 문제를 참고하여 아래에 cube라는 이름의 함수를 작성하고 실행해봅시다.\n",
        "\n",
        "함수의 기본 선언을 연습하는 예제입니다\n",
        "- 거듭 제곱 연산자 : `**` (별표 2개)\n",
        "- ex) 10의 2승 => `10 ** 2`\n",
        "\n",
        "```python\n",
        "def 함수이름(매개변수):\n",
        "     거듭 제곱 연산자를 활용하여 입력 받은 매개변수를 세제곱하여 변수에 할당하는 코드 작성합니다.\n",
        "     위에서 할당한 변수를 반환합니다.\n",
        "```"
      ]
    },
    {
      "cell_type": "code",
      "execution_count": null,
      "metadata": {
        "id": "OfcqCWmlwCoa"
      },
      "outputs": [],
      "source": [
        "#\n",
        "def cube(num):\n",
        "    \n",
        "    cube_num = num ** 3\n",
        "\n",
        "    return cube_num"
      ]
    },
    {
      "cell_type": "code",
      "execution_count": null,
      "metadata": {
        "colab": {
          "base_uri": "https://localhost:8080/"
        },
        "id": "6_0nPxETwCob",
        "outputId": "adc3a57f-d9ae-4875-828d-9e4dafd3d556"
      },
      "outputs": [
        {
          "output_type": "stream",
          "name": "stdout",
          "text": [
            "8\n",
            "1000000\n"
          ]
        }
      ],
      "source": [
        "# 해당 코드를 통해 올바른 결과가 나오는지 확인하세요.\n",
        "print(cube(2))\n",
        "print(cube(100))"
      ]
    },
    {
      "cell_type": "markdown",
      "metadata": {
        "id": "iyk4L1imwCob"
      },
      "source": [
        "<center>\n",
        "    <img src=\"https://user-images.githubusercontent.com/18046097/61181742-2984fd80-a665-11e9-9d5c-c90e8c64953e.png\", alt=\"function descrpition\">\n",
        "</center>"
      ]
    },
    {
      "cell_type": "code",
      "execution_count": null,
      "metadata": {
        "colab": {
          "base_uri": "https://localhost:8080/"
        },
        "id": "tMh6_sWSwCob",
        "outputId": "a59c374f-3b1e-491f-c923-49f31b120cca"
      },
      "outputs": [
        {
          "output_type": "stream",
          "name": "stdout",
          "text": [
            "hi\n"
          ]
        }
      ],
      "source": [
        "# 우리가 활용하는 print문도 파이썬에 지정된 함수입니다. \n",
        "# 아래에서 'hi'는 argument이고 출력을 하게 됩니다.\n",
        "print('hi')"
      ]
    },
    {
      "cell_type": "markdown",
      "metadata": {
        "id": "pBBb0jSNwCob"
      },
      "source": [
        "<center>\n",
        "    <img src=\"https://user-images.githubusercontent.com/18046097/61181739-2984fd80-a665-11e9-991b-f2f058397a69.png\", alt=\"built_in\">\n",
        "</center>\n",
        "\n",
        "[파이썬 문서](https://docs.python.org/ko/3/library/functions.html)"
      ]
    },
    {
      "cell_type": "code",
      "execution_count": null,
      "metadata": {
        "colab": {
          "base_uri": "https://localhost:8080/"
        },
        "id": "LeT6XdISwCoc",
        "outputId": "4745e35d-913e-40fb-d670-4899032001f2"
      },
      "outputs": [
        {
          "output_type": "execute_result",
          "data": {
            "text/plain": [
              "['ArithmeticError',\n",
              " 'AssertionError',\n",
              " 'AttributeError',\n",
              " 'BaseException',\n",
              " 'BlockingIOError',\n",
              " 'BrokenPipeError',\n",
              " 'BufferError',\n",
              " 'BytesWarning',\n",
              " 'ChildProcessError',\n",
              " 'ConnectionAbortedError',\n",
              " 'ConnectionError',\n",
              " 'ConnectionRefusedError',\n",
              " 'ConnectionResetError',\n",
              " 'DeprecationWarning',\n",
              " 'EOFError',\n",
              " 'Ellipsis',\n",
              " 'EnvironmentError',\n",
              " 'Exception',\n",
              " 'False',\n",
              " 'FileExistsError',\n",
              " 'FileNotFoundError',\n",
              " 'FloatingPointError',\n",
              " 'FutureWarning',\n",
              " 'GeneratorExit',\n",
              " 'IOError',\n",
              " 'ImportError',\n",
              " 'ImportWarning',\n",
              " 'IndentationError',\n",
              " 'IndexError',\n",
              " 'InterruptedError',\n",
              " 'IsADirectoryError',\n",
              " 'KeyError',\n",
              " 'KeyboardInterrupt',\n",
              " 'LookupError',\n",
              " 'MemoryError',\n",
              " 'ModuleNotFoundError',\n",
              " 'NameError',\n",
              " 'None',\n",
              " 'NotADirectoryError',\n",
              " 'NotImplemented',\n",
              " 'NotImplementedError',\n",
              " 'OSError',\n",
              " 'OverflowError',\n",
              " 'PendingDeprecationWarning',\n",
              " 'PermissionError',\n",
              " 'ProcessLookupError',\n",
              " 'RecursionError',\n",
              " 'ReferenceError',\n",
              " 'ResourceWarning',\n",
              " 'RuntimeError',\n",
              " 'RuntimeWarning',\n",
              " 'StopAsyncIteration',\n",
              " 'StopIteration',\n",
              " 'SyntaxError',\n",
              " 'SyntaxWarning',\n",
              " 'SystemError',\n",
              " 'SystemExit',\n",
              " 'TabError',\n",
              " 'TimeoutError',\n",
              " 'True',\n",
              " 'TypeError',\n",
              " 'UnboundLocalError',\n",
              " 'UnicodeDecodeError',\n",
              " 'UnicodeEncodeError',\n",
              " 'UnicodeError',\n",
              " 'UnicodeTranslateError',\n",
              " 'UnicodeWarning',\n",
              " 'UserWarning',\n",
              " 'ValueError',\n",
              " 'Warning',\n",
              " 'ZeroDivisionError',\n",
              " '__IPYTHON__',\n",
              " '__build_class__',\n",
              " '__debug__',\n",
              " '__doc__',\n",
              " '__import__',\n",
              " '__loader__',\n",
              " '__name__',\n",
              " '__package__',\n",
              " '__spec__',\n",
              " 'abs',\n",
              " 'all',\n",
              " 'any',\n",
              " 'ascii',\n",
              " 'bin',\n",
              " 'bool',\n",
              " 'breakpoint',\n",
              " 'bytearray',\n",
              " 'bytes',\n",
              " 'callable',\n",
              " 'chr',\n",
              " 'classmethod',\n",
              " 'compile',\n",
              " 'complex',\n",
              " 'copyright',\n",
              " 'credits',\n",
              " 'delattr',\n",
              " 'dict',\n",
              " 'dir',\n",
              " 'display',\n",
              " 'divmod',\n",
              " 'dreload',\n",
              " 'enumerate',\n",
              " 'eval',\n",
              " 'exec',\n",
              " 'execfile',\n",
              " 'filter',\n",
              " 'float',\n",
              " 'format',\n",
              " 'frozenset',\n",
              " 'get_ipython',\n",
              " 'getattr',\n",
              " 'globals',\n",
              " 'hasattr',\n",
              " 'hash',\n",
              " 'help',\n",
              " 'hex',\n",
              " 'id',\n",
              " 'input',\n",
              " 'int',\n",
              " 'isinstance',\n",
              " 'issubclass',\n",
              " 'iter',\n",
              " 'len',\n",
              " 'license',\n",
              " 'list',\n",
              " 'locals',\n",
              " 'map',\n",
              " 'max',\n",
              " 'memoryview',\n",
              " 'min',\n",
              " 'next',\n",
              " 'object',\n",
              " 'oct',\n",
              " 'open',\n",
              " 'ord',\n",
              " 'pow',\n",
              " 'print',\n",
              " 'property',\n",
              " 'range',\n",
              " 'repr',\n",
              " 'reversed',\n",
              " 'round',\n",
              " 'runfile',\n",
              " 'set',\n",
              " 'setattr',\n",
              " 'slice',\n",
              " 'sorted',\n",
              " 'staticmethod',\n",
              " 'str',\n",
              " 'sum',\n",
              " 'super',\n",
              " 'tuple',\n",
              " 'type',\n",
              " 'vars',\n",
              " 'zip']"
            ]
          },
          "metadata": {},
          "execution_count": 9
        }
      ],
      "source": [
        "# 아래 작성된 함수를 실행하여 내장함수 목록을 직접 확인해봅시다.\n",
        "dir(__builtins__)"
      ]
    },
    {
      "cell_type": "code",
      "execution_count": null,
      "metadata": {
        "id": "TJXmqvZ6wCoc"
      },
      "outputs": [],
      "source": [
        "# 제공된 링크로 이동해서 편하게 써왔던 random.sample() 함수의 내부도 직접 확인해봅시다. 와 엄청 복잡하네ㅋㅋ"
      ]
    },
    {
      "cell_type": "markdown",
      "metadata": {
        "id": "jd8T-D7XwCoc"
      },
      "source": [
        "https://github.com/python/cpython/blob/master/Lib/random.py#L385"
      ]
    },
    {
      "cell_type": "markdown",
      "metadata": {
        "id": "fYInRbn5wCoc"
      },
      "source": [
        "### [연습] 함수 만들기\n",
        "\n",
        "> 아래의 코드와 동일한 `my_max` 함수를 만들어주세요.\n",
        ">\n",
        "> 정수를 두개 받아서, 큰 값을 반환합니다. \n",
        "\n",
        "```python\n",
        "my_max(1, 5)\n",
        "```\n",
        "---\n",
        "```\n",
        "출력 예시)\n",
        "5\n",
        "```\n"
      ]
    },
    {
      "cell_type": "code",
      "execution_count": null,
      "metadata": {
        "colab": {
          "base_uri": "https://localhost:8080/"
        },
        "id": "6GVU-5l5wCod",
        "outputId": "86b3673a-09df-4d8d-bddf-8567306504be"
      },
      "outputs": [
        {
          "output_type": "execute_result",
          "data": {
            "text/plain": [
              "5"
            ]
          },
          "metadata": {},
          "execution_count": 10
        }
      ],
      "source": [
        "# 먼저 내장함수 max()를 확인해봅시다.\n",
        "# 내장함수 max에 숫자 1과 5를 전달인자로 작성하고 실행합니다.\n",
        "max(1, 5)"
      ]
    },
    {
      "cell_type": "markdown",
      "metadata": {
        "id": "QjhVuVyqwCod"
      },
      "source": [
        "내장함수와 비슷하게 동작하는 my_max 함수를 직접 작성해봅시다. \n",
        "\n",
        "(2개의 변수가 입력된다는 점에 주의합니다.)\n",
        "\n",
        "```python\n",
        "def 함수이름(숫자a, 숫자b):\n",
        "    if문을 활용하여 입력 받은 두 숫자 중 큰 수를 리턴합니다.\n",
        "```"
      ]
    },
    {
      "cell_type": "code",
      "execution_count": null,
      "metadata": {
        "id": "ST-NyPAIwCod"
      },
      "outputs": [],
      "source": [
        "#\n",
        "def my_max(a, b):\n",
        "    \n",
        "    if a > b:\n",
        "        \n",
        "        return a\n",
        "    \n",
        "    else:\n",
        "        \n",
        "        return b"
      ]
    },
    {
      "cell_type": "code",
      "execution_count": null,
      "metadata": {
        "colab": {
          "base_uri": "https://localhost:8080/"
        },
        "id": "ql0Yf0iSwCod",
        "outputId": "e904be50-278a-439e-8448-d0c558e14f94"
      },
      "outputs": [
        {
          "output_type": "execute_result",
          "data": {
            "text/plain": [
              "5"
            ]
          },
          "metadata": {},
          "execution_count": 13
        }
      ],
      "source": [
        "# 해당 코드를 통해 올바른 결과가 나오는지 확인하세요.\n",
        "my_max(1, 5)"
      ]
    },
    {
      "cell_type": "markdown",
      "metadata": {
        "id": "HuI13NpZwCod"
      },
      "source": [
        "### 함수의 선언과 호출 살펴보기"
      ]
    },
    {
      "cell_type": "code",
      "execution_count": null,
      "metadata": {
        "tags": [],
        "colab": {
          "base_uri": "https://localhost:8080/"
        },
        "id": "s9YNaDw0wCod",
        "outputId": "26874afa-ee9f-4507-ee4f-addad48718c8"
      },
      "outputs": [
        {
          "output_type": "stream",
          "name": "stdout",
          "text": [
            "9\n"
          ]
        }
      ],
      "source": [
        "# 아래의 코드의 결과는 무엇일까요? 실행하기 전에 예측해봅시다.\n",
        "\n",
        "num1 = 0\n",
        "num2 = 1\n",
        "\n",
        "def func1(a, b):\n",
        "    return a + b\n",
        "    \n",
        "def func2(a, b):\n",
        "    return a - b\n",
        "    \n",
        "def func3(a, b):\n",
        "    return func1(a, 5) + func2(5, b)\n",
        "    \n",
        "result = func3(num1, num2)\n",
        "print(result)"
      ]
    },
    {
      "cell_type": "markdown",
      "metadata": {
        "id": "g5PzFHviwCoe"
      },
      "source": [
        "* [Python tutor](http://pythontutor.com/visualize.html#code=num1%20%3D%200%0Anum2%20%3D%201%0A%0Adef%20func1%28a,%20b%29%3A%0A%20%20%20%20return%20a%20%2B%20b%0A%20%20%20%20%0Adef%20func2%28a,%20b%29%3A%0A%20%20%20%20return%20a%20-%20b%0A%20%20%20%20%0Adef%20func3%28a,%20b%29%3A%0A%20%20%20%20return%20func1%28a,%205%29%20%2B%20func2%285,%20b%29%0A%20%20%20%20%0Aresult%20%3D%20func3%28num1,%20num2%29%0Aprint%28result%29&cumulative=false&curInstr=10&heapPrimitives=nevernest&mode=display&origin=opt-frontend.js&py=3&rawInputLstJSON=%5B%5D&textReferences=false)를 통해 실행 순서를 직접 확인하세요.\n",
        "\n",
        "* 함수는 호출되면 계산을 수행하고, 값을 반환하며 종료됩니다."
      ]
    },
    {
      "cell_type": "markdown",
      "metadata": {
        "id": "9WfBBtznwCoe"
      },
      "source": [
        "# 함수의 Output"
      ]
    },
    {
      "cell_type": "markdown",
      "metadata": {
        "id": "NK-3ds64wCoe"
      },
      "source": [
        "## 함수의 `return`\n",
        "\n",
        "앞서 설명한 것과 마찬가지로 함수는 반환되는 값이 있으며, 이는 어떠한 종류(~~의 객체~~)라도 상관없습니다. \n",
        " \n",
        "단, **오직 한 개의 객체**만 반환됩니다.\n",
        "\n",
        "함수가 return 되거나 종료되면, 함수를 호출한 곳으로 돌아갑니다."
      ]
    },
    {
      "cell_type": "markdown",
      "metadata": {
        "id": "n6WTD4BUwCoe"
      },
      "source": [
        "### [실습] 사각형의 넓이를 구하는 함수\n",
        "> 너비와 높이를 입력 받아 사각형의 넓이와 둘레를 반환(return)하는 함수 `rectangle()`을 작성해보세요.\n",
        "\n",
        "---\n",
        "\n",
        "**[입력 예시]**\n",
        "\n",
        "```py\n",
        "rectangle(30, 20)\n",
        "```\n",
        "\n",
        "**[출력 예시]**\n",
        "\n",
        "(600, 100)"
      ]
    },
    {
      "cell_type": "markdown",
      "metadata": {
        "id": "_q0GHO2AwCof"
      },
      "source": [
        "rectangle 이라는 이름의 함수를 작성하고 호출해봅시다.\n",
        "\n",
        "(작성하려는 함수가 어떤 목적을 갖고 있는지 고민하면서 작성합니다.)\n",
        "\n",
        "- 이번 함수는 **넓이와 둘레** 2가지 값을 한번에 반환하는 함수입니다.\n",
        "- 넓이 : 너비 * 높이\n",
        "- 둘레 : 2 * (너비 + 높이)\n",
        "\n",
        "```python\n",
        "def 함수이름(너비, 높이):\n",
        "    넓이와 둘레를 구하고 저장하는 코드를 작성합니다.\n",
        "    저장된 넓이, 둘레를 함께 반환합니다.\n",
        "```"
      ]
    },
    {
      "cell_type": "code",
      "execution_count": null,
      "metadata": {
        "id": "kfSI8s2XwCof"
      },
      "outputs": [],
      "source": [
        "#\n",
        "def rectangle(width, height):\n",
        "    \n",
        "    area = width * height\n",
        "    r = 2*(width+height)\n",
        "\n",
        "    return area,r"
      ]
    },
    {
      "cell_type": "code",
      "execution_count": null,
      "metadata": {
        "colab": {
          "base_uri": "https://localhost:8080/"
        },
        "id": "mvoHTeDOwCof",
        "outputId": "117e3e25-254d-479a-c522-486e61f29fdb"
      },
      "outputs": [
        {
          "output_type": "stream",
          "name": "stdout",
          "text": [
            "(600, 100)\n",
            "(3500, 240)\n"
          ]
        }
      ],
      "source": [
        "# 해당 코드를 통해 올바른 결과가 나오는지 확인하세요.\n",
        "print(rectangle(30, 20))\n",
        "print(rectangle(50, 70))"
      ]
    },
    {
      "cell_type": "markdown",
      "metadata": {
        "id": "eXwOurRuwCof"
      },
      "source": [
        "### [연습] 함수를 정의하고 값을 반환해봅시다.\n",
        " \n",
        "> 리스트 두개를 받아 각각 더한 결과를 비교하여 값이 큰 리스트를 반환하는 함수를 만들어주세요.\n",
        "\n",
        "```python\n",
        "my_list_max([10, 3], [5, 9])\n",
        "```\n",
        "---\n",
        "```\n",
        "예시 출력)\n",
        "[5, 9]\n",
        "```\n"
      ]
    },
    {
      "cell_type": "markdown",
      "metadata": {
        "id": "m9GGkJSpwCof"
      },
      "source": [
        "my_list_max 라는 이름의 함수를 작성하고 호출해봅시다.\n",
        "\n",
        "(입력되는 값이 **리스트**임에 주의합니다.)\n",
        "\n",
        "1. 입력되는 리스트a의 요소들의 합을 구하고,\n",
        "1. 입력되는 리스트b의 요소들의 합을 구하고,\n",
        "1. 계산한 두 값을 비교합니다.\n",
        "\n",
        "```python\n",
        "def 함수이름(리스트a, 리스트b):\n",
        "    if문을 활용하여 각 리스트 요소의 합을 비교하고 값이 큰 리스트를 반환하는 코드 작성\n",
        "```"
      ]
    },
    {
      "cell_type": "code",
      "execution_count": null,
      "metadata": {
        "id": "jVRpg8kzwCog"
      },
      "outputs": [],
      "source": [
        "#\n",
        "def my_list_max(a, b):\n",
        "    \n",
        "    sum_a = sum(a)\n",
        "    sum_b = sum(b)\n",
        "\n",
        "    if sum_a > sum_b:\n",
        "        \n",
        "        return a\n",
        "    \n",
        "    else:\n",
        "        return b"
      ]
    },
    {
      "cell_type": "code",
      "execution_count": null,
      "metadata": {
        "colab": {
          "base_uri": "https://localhost:8080/"
        },
        "id": "lZy-94UPwCog",
        "outputId": "44d0929a-f41f-4207-eea7-65df41c1660e"
      },
      "outputs": [
        {
          "output_type": "stream",
          "name": "stdout",
          "text": [
            "[5, 9]\n"
          ]
        }
      ],
      "source": [
        "# 해당 코드를 통해 올바른 결과가 나오는지 확인하세요.\n",
        "print(my_list_max([10, 3], [5, 9]))"
      ]
    },
    {
      "cell_type": "markdown",
      "metadata": {
        "id": "hZ1C4mRMwCog"
      },
      "source": [
        "# 함수의 입력(Input)"
      ]
    },
    {
      "cell_type": "markdown",
      "metadata": {
        "id": "CbBZEwZ5wCog"
      },
      "source": [
        "## 매개변수(parameter) & 전달인자(argument)\n",
        "\n",
        "### 매개변수(parameter)\n",
        "\n",
        "```python\n",
        "def func(x):\n",
        "      return x + 2\n",
        "```\n",
        "\n",
        "* `x` 는 매개변수(parameter)입니다.\n",
        "* 입력을 받아 함수 내부에서 활용할 `변수`입니다.\n",
        "* **함수를 정의하는 부분에서 확인할 수 있습니다.**\n",
        "\n",
        "\n",
        "### 전달인자(argument)\n",
        "\n",
        "```python\n",
        "func(2)\n",
        "```\n",
        "\n",
        "* `2` 는 전달인자(argument)입니다.\n",
        "* 실제로 전달되는 `값`입니다.\n",
        "* **함수를 호출하는 부분에서 볼 수 있습니다.**\n",
        "    \n",
        "> 주로 혼용해서 사용하지만 엄밀하게 따지면 둘은 다르게 구분되어 사용됩니다. 개념적 구분보다 함수가 작동하는 원리를 이해하는게 더 중요합니다."
      ]
    },
    {
      "cell_type": "markdown",
      "metadata": {
        "id": "V5VTUtGZwCog"
      },
      "source": [
        "## 함수의 인자\n",
        "\n",
        "함수는 입력값(input)으로 `인자(argument)`를 넘겨줄 수 있습니다."
      ]
    },
    {
      "cell_type": "markdown",
      "metadata": {
        "id": "js-t4PQ7wCog"
      },
      "source": [
        "### 위치 인자 (Positional Arguments)\n",
        "\n",
        "기본적으로 인자는 위치에 따라 함수 내에 전달됩니다. "
      ]
    },
    {
      "cell_type": "markdown",
      "metadata": {
        "id": "lcCBxyOvwCog"
      },
      "source": [
        "### [연습] 원기둥의 부피\n",
        "\n",
        "> 원기둥의 반지름(r)과 높이(h)를 받아서 부피를 return하는 함수 `cylinder()`를 작성하세요.\n",
        ">\n",
        "> *원기둥 부피 = 3.14 * 반지름 * 반지름 * 높이*"
      ]
    },
    {
      "cell_type": "markdown",
      "metadata": {
        "id": "DVS3HSMAwCoh"
      },
      "source": [
        "`cylinder` 라는 이름의 함수를 작성하고 호출해봅시다.\n",
        "\n",
        "(함수 선언의 반복 연습입니다.)\n",
        " \n",
        "- 원기둥 부피 : 원의 넓이 * 높이 \n",
        "- 3.14 * (반지름의 제곱) * 높이\n",
        "- 3.14 * 반지름 * 반지름 * 높이\n",
        "\n",
        "```python\n",
        "def 함수이름(반지름, 높이):\n",
        "    원기둥 부피를 계산하여 반환합니다.\n",
        "```"
      ]
    },
    {
      "cell_type": "code",
      "execution_count": null,
      "metadata": {
        "id": "TkX9gA8WwCoh"
      },
      "outputs": [],
      "source": [
        "#\n",
        "def cylinder(r, h):\n",
        "    \n",
        "    v = 3.14 * r * r * h\n",
        "\n",
        "    return v"
      ]
    },
    {
      "cell_type": "code",
      "execution_count": null,
      "metadata": {
        "colab": {
          "base_uri": "https://localhost:8080/"
        },
        "id": "12nIkEYiwCoh",
        "outputId": "75537f5e-c74b-4ee4-dd6a-088943a35cfe"
      },
      "outputs": [
        {
          "output_type": "stream",
          "name": "stdout",
          "text": [
            "157.0\n",
            "62.800000000000004\n"
          ]
        }
      ],
      "source": [
        "# 해당 코드를 통해 올바른 결과가 나오는지 확인하세요.\n",
        "print(cylinder(5, 2))\n",
        "print(cylinder(2, 5)) # 순서를 바꾸면 다른 값이 나옵니다."
      ]
    },
    {
      "cell_type": "markdown",
      "metadata": {
        "id": "og8BXuQ2wCoh"
      },
      "source": [
        "<center>\n",
        "    <img src=\"https://user-images.githubusercontent.com/18046097/61181743-2a1d9400-a665-11e9-8df2-e4856caf16e4.png\", alt=\"function example 02\">\n",
        "</center>"
      ]
    },
    {
      "cell_type": "markdown",
      "metadata": {
        "id": "K-pA5ikhwCoh"
      },
      "source": [
        "### 기본 인자 값 (Default Argument Values)\n",
        "\n",
        "**함수를 정의할 때,** 매개변수에 기본값을 지정하여 함수 호출 시 정의된 매개변수보다 적은 인자로 함수를 호출할 수 있습니다. \n",
        "\n",
        "---\n",
        "\n",
        "**활용법**\n",
        "```python\n",
        "def func(p1=v1):\n",
        "    return p1\n",
        "```"
      ]
    },
    {
      "cell_type": "markdown",
      "metadata": {
        "id": "fks9q3MGwCoh"
      },
      "source": [
        "### [연습] 기본 인자 값 활용\n",
        "\n",
        "> 이름을 받아서 다음과 같이 인사하는 함수 `greeting()`을 작성하세요. 이름이 길동이면, \"길동, 안녕?\" 이름이 없으면 \"익명, 안녕?\" 으로 출력하세요."
      ]
    },
    {
      "cell_type": "markdown",
      "metadata": {
        "id": "QdBbyCLzwCoh"
      },
      "source": [
        "greeting 이라는 이름의 함수를 작성하고 호출해봅시다.\n",
        "\n",
        "(매개변수의 기본인자에 대한 연습입니다.)\n",
        "\n",
        "**입력된 값이 없을 때** 라는 상황과 **그 상황에서 사용할 값**이라는 점에 주의합니다.\n",
        "\n",
        "- 입력된 값이 길동 => '길동, 안녕?'\n",
        "- 값이 없는 경우 => '익명, 안녕?'\n",
        "\n",
        "```python\n",
        "def 함수이름(이름='입력이 없으면 사용할 값'):\n",
        "    매개변수를 활용하여 문장(문자열)을 완성하여 리턴합니다.\n",
        "```"
      ]
    },
    {
      "cell_type": "code",
      "execution_count": null,
      "metadata": {
        "id": "EnCLDiT8wCoi"
      },
      "outputs": [],
      "source": [
        "#\n",
        "def greeting(name='익명'):\n",
        "    \n",
        "    print(f\"{name}, 안녕?\")"
      ]
    },
    {
      "cell_type": "code",
      "execution_count": null,
      "metadata": {
        "colab": {
          "base_uri": "https://localhost:8080/"
        },
        "id": "RbFashaMwCoi",
        "outputId": "7dc7338a-6f43-463a-9b16-ea0f25edb071"
      },
      "outputs": [
        {
          "output_type": "stream",
          "name": "stdout",
          "text": [
            "익명, 안녕?\n",
            "철수, 안녕?\n"
          ]
        }
      ],
      "source": [
        "# 해당 코드를 통해 올바른 결과가 나오는지 확인하세요.\n",
        "greeting()\n",
        "greeting('철수')"
      ]
    },
    {
      "cell_type": "markdown",
      "metadata": {
        "id": "1IknXCalwCoi"
      },
      "source": [
        "* 기본 인자 값이 설정되어 있더라도 기존의 함수와 동일하게 호출 가능합니다.\n",
        "\n",
        "\n",
        "<center>\n",
        "    <img src=\"https://user-images.githubusercontent.com/18046097/61181744-2a1d9400-a665-11e9-9095-6924ca11122e.png\">\n",
        "</center>"
      ]
    },
    {
      "cell_type": "markdown",
      "metadata": {
        "id": "rgpZ5Wp6wCoi"
      },
      "source": [
        "* 호출시 인자가 없으면 기본 인자 값이 활용됩니다.\n",
        "\n",
        "\n",
        "<center>\n",
        "    <img src=\"https://user-images.githubusercontent.com/18046097/61181745-2a1d9400-a665-11e9-95ef-e50e463e1583.png\", alt=\"function example 03\">\n",
        "</center>"
      ]
    },
    {
      "cell_type": "markdown",
      "metadata": {
        "id": "lfvFvaZvwCoi"
      },
      "source": [
        "**\\*주의\\* 단, 기본 인자값(Default Argument Value)을 가지는 인자 다음에 기본 값이 없는 인자를 사용할 수는 없습니다.**"
      ]
    },
    {
      "cell_type": "code",
      "execution_count": null,
      "metadata": {
        "colab": {
          "base_uri": "https://localhost:8080/",
          "height": 138
        },
        "id": "Ei_krRQVwCoi",
        "outputId": "24576705-ea5a-450d-9f03-109af559ea2e"
      },
      "outputs": [
        {
          "output_type": "error",
          "ename": "SyntaxError",
          "evalue": "ignored",
          "traceback": [
            "\u001b[0;36m  File \u001b[0;32m\"<ipython-input-26-c32cd8f9f8bb>\"\u001b[0;36m, line \u001b[0;32m2\u001b[0m\n\u001b[0;31m    def greeting(name='peter', age):\u001b[0m\n\u001b[0m                ^\u001b[0m\n\u001b[0;31mSyntaxError\u001b[0m\u001b[0;31m:\u001b[0m non-default argument follows default argument\n"
          ]
        }
      ],
      "source": [
        "# 다음 코드를 바로 실행해서 오류를 확인해봅시다.\n",
        "def greeting(name='peter', age):\n",
        "    return f'{name}은 {age}살입니다.'"
      ]
    },
    {
      "cell_type": "markdown",
      "metadata": {
        "id": "gzi04YD_wCoj"
      },
      "source": [
        "오류가 발생하지 않도록 다음 셀에 직접 수정하고 실행해봅시다.\n",
        "\n",
        "(오류가 발생한 원인을 친절히 안내해준다는 것을 다시 한번 확인 할 수 있습니다.)\n",
        "\n",
        "- Error 문장을 다시 읽어보면, `non-default argument follows default argument`\n",
        "- 즉, 기본 인자는 기본 인자가 아닌 친구들 다음에 위치해야한다고 알려주고 있습니다. 수정해봅시다.\n",
        "\n",
        "```python\n",
        "def 함수이름(기본인자가 아닌 친구들, 기본인자):\n",
        "    매개변수를 활용하여 문장(문자열)을 완성해서 반환합니다.\n",
        "```"
      ]
    },
    {
      "cell_type": "code",
      "execution_count": null,
      "metadata": {
        "id": "me7oVB6jwCoj"
      },
      "outputs": [],
      "source": [
        "#\n",
        "def greeting(age, name='peter'):\n",
        "    \n",
        "    print(f\"{name}은 {age}살입니다.\")"
      ]
    },
    {
      "cell_type": "code",
      "execution_count": null,
      "metadata": {
        "colab": {
          "base_uri": "https://localhost:8080/"
        },
        "id": "933KEYhvwCoj",
        "outputId": "fd8236ac-e114-4c37-ed30-ec891d18744d"
      },
      "outputs": [
        {
          "output_type": "stream",
          "name": "stdout",
          "text": [
            "peter은 1살입니다.\n",
            "ssafy은 2살입니다.\n"
          ]
        }
      ],
      "source": [
        "# 해당 코드를 통해 올바른 결과가 나오는지 확인하세요.\n",
        "greeting(1)\n",
        "greeting(2, 'ssafy')"
      ]
    },
    {
      "cell_type": "markdown",
      "metadata": {
        "id": "8VWfS4JXwCoj"
      },
      "source": [
        "### 키워드 인자 (Keyword Arguments)\n",
        "\n",
        "**함수를 호출할 때** 키워드 인자를 활용하여 직접 변수의 이름으로 특정 인자를 전달할 수 있습니다."
      ]
    },
    {
      "cell_type": "code",
      "execution_count": null,
      "metadata": {
        "id": "xh-HqJYGwCoj"
      },
      "outputs": [],
      "source": [
        "# 다음 코드를 실행해서 greeting 함수를 선언합니다.\n",
        "def greeting(age, name):\n",
        "    return f'{name}은 {age}살입니다.'"
      ]
    },
    {
      "cell_type": "code",
      "execution_count": null,
      "metadata": {
        "id": "jbre-GHSwCoj"
      },
      "outputs": [],
      "source": [
        "# 아래와 같이 키워드 인자를 사용해서 함수를 호출할 수 있습니다."
      ]
    },
    {
      "cell_type": "code",
      "execution_count": null,
      "metadata": {
        "colab": {
          "base_uri": "https://localhost:8080/"
        },
        "id": "3Q24QMHhwCok",
        "outputId": "4c69800f-8808-4766-dc11-e16a7043b98b"
      },
      "outputs": [
        {
          "output_type": "stream",
          "name": "stdout",
          "text": [
            "철수은 24살입니다.\n"
          ]
        }
      ],
      "source": [
        "print(greeting(name='철수', age=24))"
      ]
    },
    {
      "cell_type": "code",
      "execution_count": null,
      "metadata": {
        "id": "tybyWkEcwCok"
      },
      "outputs": [],
      "source": [
        "# 위치 인자와 함께 사용할 수 있습니다."
      ]
    },
    {
      "cell_type": "code",
      "execution_count": null,
      "metadata": {
        "colab": {
          "base_uri": "https://localhost:8080/"
        },
        "id": "dGWz4snGwCok",
        "outputId": "970a9b88-eba3-44bf-ce73-f669748029a0"
      },
      "outputs": [
        {
          "output_type": "stream",
          "name": "stdout",
          "text": [
            "철수은 24살입니다.\n"
          ]
        }
      ],
      "source": [
        "print(greeting(24, name='철수'))"
      ]
    },
    {
      "cell_type": "markdown",
      "metadata": {
        "id": "ChBi-3ehwCok"
      },
      "source": [
        "* **단 아래와 같이 `키워드 인자`를 활용한 다음에 `위치 인자`를 활용할 수는 없습니다.**"
      ]
    },
    {
      "cell_type": "code",
      "execution_count": null,
      "metadata": {
        "colab": {
          "base_uri": "https://localhost:8080/",
          "height": 138
        },
        "id": "09V9b1DuwCok",
        "outputId": "9ccefc1b-3b95-4d4d-ef80-d77c8a7aba51"
      },
      "outputs": [
        {
          "output_type": "error",
          "ename": "SyntaxError",
          "evalue": "ignored",
          "traceback": [
            "\u001b[0;36m  File \u001b[0;32m\"<ipython-input-32-41d22555d7d0>\"\u001b[0;36m, line \u001b[0;32m2\u001b[0m\n\u001b[0;31m    greeting(age=24, '철수')\u001b[0m\n\u001b[0m                    ^\u001b[0m\n\u001b[0;31mSyntaxError\u001b[0m\u001b[0;31m:\u001b[0m positional argument follows keyword argument\n"
          ]
        }
      ],
      "source": [
        "# 다음 코드를 실행해서 오류를 직접 확인해봅시다.\n",
        "greeting(age=24, '철수')"
      ]
    },
    {
      "cell_type": "markdown",
      "metadata": {
        "id": "sVvbPRWSwCok"
      },
      "source": [
        "## 정해지지 않은 여러 개의 인자 처리\n"
      ]
    },
    {
      "cell_type": "markdown",
      "metadata": {
        "id": "LXGlz4QnwCok"
      },
      "source": [
        "우리가 주로 활용하는 `print()` 함수는 [파이썬 표준 라이브러리의 내장함수](https://docs.python.org/ko/3.6/library/functions.html) 중 하나이며, 다음과 같이 구성되어있습니다.\n",
        "> <center>\n",
        "    <img src=\"https://user-images.githubusercontent.com/18046097/61181751-2b4ec100-a665-11e9-9a7c-a19a8c445cfa.png\", alt=\"print\">\n",
        "</center>"
      ]
    },
    {
      "cell_type": "code",
      "execution_count": null,
      "metadata": {
        "id": "NmjpDbtEwCok"
      },
      "outputs": [],
      "source": [
        "# 지금까지 열심히 사용했던 print에는 여러 값을 넣을 수 있습니다."
      ]
    },
    {
      "cell_type": "code",
      "execution_count": null,
      "metadata": {
        "colab": {
          "base_uri": "https://localhost:8080/"
        },
        "id": "7Z0CpE_CwCol",
        "outputId": "b165545e-9d3c-4095-c015-8119890843a6"
      },
      "outputs": [
        {
          "output_type": "stream",
          "name": "stdout",
          "text": [
            "첫번째 문장\n",
            "두번째 문장_세번째 문장 네번째 문장\n",
            "다섯번째 문장/마지막 문장끝!"
          ]
        }
      ],
      "source": [
        "print('첫번째 문장') #end = '\\n'\n",
        "print('두번째 문장', end='_')\n",
        "print('세번째 문장', '네번째 문장')\n",
        "print('다섯번째 문장', '마지막 문장', sep='/', end='끝!')"
      ]
    },
    {
      "cell_type": "markdown",
      "metadata": {
        "id": "FYHGCZHEwCol"
      },
      "source": [
        "### 가변(임의) 인자 리스트(Arbitrary Argument Lists)\n",
        "\n",
        "앞서 설명한 `print()`처럼 개수가 정해지지 않은 임의의 인자를 받기 위해서는 **함수를 정의할 때** 가변 인자 리스트`*args`를 활용합니다. \n",
        "\n",
        "가변 인자 리스트는 `tuple` 형태로 처리가 되며, 매개변수에 `*`로 표현합니다. \n",
        "\n",
        "---\n",
        "\n",
        "**활용법**\n",
        "\n",
        "```python\n",
        "def func(a, b, *args):\n",
        "```\n",
        "> `*args` : 임의의 개수의 위치인자를 받음을 의미\n",
        "> \n",
        "> 보통, 이 가변 인자 리스트는 매개변수 목록의 마지막에 옵니다."
      ]
    },
    {
      "cell_type": "code",
      "execution_count": null,
      "metadata": {
        "id": "MCEJ_sdcwCol"
      },
      "outputs": [],
      "source": [
        "# 앞서 살펴봤던 print문에 대한 공식문서를 다시 한번 살펴봅니다.\n",
        "# 바로, *obejcts를 통해 임의의 숫자의 인자를 모두 처리(가변 인자 리스트)하고 있다는 것을 알 수 있습니다."
      ]
    },
    {
      "cell_type": "code",
      "execution_count": null,
      "metadata": {
        "colab": {
          "base_uri": "https://localhost:8080/"
        },
        "id": "m6FBjyQDwCol",
        "outputId": "c570b488-cde5-4ca9-8cf4-ad1b754f3d25"
      },
      "outputs": [
        {
          "output_type": "stream",
          "name": "stdout",
          "text": [
            "hi,안녕,Guten Tag,gonnichiwa\n"
          ]
        }
      ],
      "source": [
        "print('hi', '안녕', 'Guten Tag', 'gonnichiwa', sep=',')"
      ]
    },
    {
      "cell_type": "code",
      "execution_count": null,
      "metadata": {
        "id": "QnT6LxifwCol"
      },
      "outputs": [],
      "source": [
        "# 또한, args는 함수 내부에서 tuple 자료형으로 사용됩니다."
      ]
    },
    {
      "cell_type": "code",
      "execution_count": null,
      "metadata": {
        "ExecuteTime": {
          "end_time": "2021-01-15T07:38:26.599448Z",
          "start_time": "2021-01-15T07:38:26.588437Z"
        },
        "colab": {
          "base_uri": "https://localhost:8080/"
        },
        "id": "ojGeqxlkwCol",
        "outputId": "3856b133-eb41-4d2b-95bc-48aa8b872635"
      },
      "outputs": [
        {
          "output_type": "stream",
          "name": "stdout",
          "text": [
            "(1, 2)\n",
            "<class 'tuple'>\n"
          ]
        }
      ],
      "source": [
        "def my_func(*args):\n",
        "    return args\n",
        "    \n",
        "print(my_func(1, 2))\n",
        "print(type(my_func(1, 2)))"
      ]
    },
    {
      "cell_type": "markdown",
      "metadata": {
        "id": "zqB8oBAhwCol"
      },
      "source": [
        "### [연습] 가변 인자 리스트를 사용해봅시다.\n",
        "\n",
        "> 정수를 여러 개 받아서 가장 큰 값을 반환(return)하는 함수 `my_max()`를 작성하세요.\n",
        ">\n",
        "> max 내장 함수 사용은 금지합니다.\n",
        "\n",
        "```python\n",
        "my_max(10, 20, 30, 50)\n",
        "```\n",
        "---\n",
        "```\n",
        "예시출력)\n",
        "50\n",
        "```"
      ]
    },
    {
      "cell_type": "code",
      "execution_count": null,
      "metadata": {
        "id": "9E8pSMTdwCom"
      },
      "outputs": [],
      "source": [
        "# 정해지지 않은 여러 개의 인자를 내장 함수 max에서는 어떻게 처리하는지 확인해봅시다."
      ]
    },
    {
      "cell_type": "code",
      "execution_count": null,
      "metadata": {
        "colab": {
          "base_uri": "https://localhost:8080/"
        },
        "id": "CZNFI3R3wCom",
        "outputId": "291e346c-0bbc-45d3-ee2b-55d200bc7af2"
      },
      "outputs": [
        {
          "output_type": "execute_result",
          "data": {
            "text/plain": [
              "4"
            ]
          },
          "metadata": {},
          "execution_count": 40
        }
      ],
      "source": [
        "max(1, 2, 3, 4)"
      ]
    },
    {
      "cell_type": "markdown",
      "metadata": {
        "id": "5KVwcvtVwCom"
      },
      "source": [
        "이제 my_max 이름의 함수를 직접 선언해봅시다.\n",
        "\n",
        "용어 이름은 가변 인자 리스트이지만, 기본적으로 튜플 자료형임에 주의합니다.\n",
        "- `*` (별표 1개)를 매개변수에 작성해야합니다.\n",
        "- 말 그대로 정해지지 않았기 때문에, 이번 예제에서는 반복문을 통해 간편하게 개별 값에 접근합니다.\n",
        "\n",
        "```python\n",
        "def 함수이름(가변 인자 리스트):\n",
        "    가변 인자 리스트 중 처음 값을 기준이 되는 값으로 할당합니다.\n",
        "    반복문을 통해 입력 받은 값들을 검사합니다.\n",
        "    조건문으로 기준이 되는 값과 다른 요소들을 비교해서, 더 큰 값을 기준값으로 변경합니다.\n",
        "    찾아낸 최대값을 반환합니다.\n",
        "```     "
      ]
    },
    {
      "cell_type": "code",
      "execution_count": null,
      "metadata": {
        "id": "uD0uklH2wCom"
      },
      "outputs": [],
      "source": [
        "def my_max(*int_list):\n",
        "    \n",
        "    standard = int_list[0] #나는 그냥 0으로 생각없이 하는데 처음 값을 기준으로 한다는것도 기억할 필요가 있을듯\n",
        "\n",
        "    for num in int_list:\n",
        "        \n",
        "        if standard <= num:\n",
        "            \n",
        "            standard = num\n",
        "    \n",
        "    return standard"
      ]
    },
    {
      "cell_type": "code",
      "execution_count": null,
      "metadata": {
        "colab": {
          "base_uri": "https://localhost:8080/"
        },
        "id": "vTKety6jwCom",
        "outputId": "504621a2-a4a7-4332-b90f-10946ebedd80"
      },
      "outputs": [
        {
          "output_type": "execute_result",
          "data": {
            "text/plain": [
              "-1"
            ]
          },
          "metadata": {},
          "execution_count": 42
        }
      ],
      "source": [
        "# 다음 코드를 실행해 올바른 결과가 나오는지 확인하세요.\n",
        "my_max(-1, -2, -3, -4)"
      ]
    },
    {
      "cell_type": "markdown",
      "metadata": {
        "id": "5tvwwtP8wCom"
      },
      "source": [
        "### 가변(임의) 키워드 인자(Arbitrary Keyword Arguments)\n",
        "\n",
        "정해지지 않은 키워드 인자들은 **함수를 정의할 때** 가변 키워드 인자 `**kwargs`를 활용합니다. \n",
        "\n",
        "가변 키워드 인자는 **`dict`** 형태로 처리가 되며, 매개변수에 `**`로 표현합니다. \n",
        "\n",
        "---\n",
        "\n",
        "**활용법**\n",
        "\n",
        "```python\n",
        "def func(**kwargs):\n",
        "```\n",
        "> `**kwargs` : 임의의 개수의 키워드 인자를 받음을 의미합니다"
      ]
    },
    {
      "cell_type": "markdown",
      "metadata": {
        "id": "FWD6cu2iwCom"
      },
      "source": [
        "우리가 dictionary를 만들 때 사용할 수 있는 `dict()` 함수는 [파이썬 표준 라이브러리의 내장함수](https://docs.python.org/ko/3.6/library/functions.html) 중 하나이며, 다음과 같이 구성되어 있습니다.\n",
        "> <center>\n",
        "    <img src=\"https://user-images.githubusercontent.com/18046097/61181740-2984fd80-a665-11e9-94cf-7f5ab41873b1.png\", alt=\"dictionary\">\n",
        "</center>"
      ]
    },
    {
      "cell_type": "code",
      "execution_count": null,
      "metadata": {
        "id": "dwVSsb7XwCon"
      },
      "outputs": [],
      "source": [
        "# 딕셔너리 생성 함수 예시입니다.\n",
        "# 가변 키워드 인자 활용을 확인해보기 위한 예시입니다."
      ]
    },
    {
      "cell_type": "code",
      "execution_count": null,
      "metadata": {
        "colab": {
          "base_uri": "https://localhost:8080/"
        },
        "id": "la0zs6mrwCon",
        "outputId": "e85c236e-b505-4d24-e758-bf9ca1266196"
      },
      "outputs": [
        {
          "output_type": "stream",
          "name": "stdout",
          "text": [
            "{'한국어': '안녕', '영어': 'hi'}\n"
          ]
        }
      ],
      "source": [
        "hi = dict(한국어='안녕', 영어='hi')\n",
        "print(hi)"
      ]
    },
    {
      "cell_type": "code",
      "execution_count": null,
      "metadata": {
        "id": "3XGcz3ODwCon"
      },
      "outputs": [],
      "source": [
        "# 식별자는 숫자만으로는 이루어질 수가 없다는 것에 주의합니다.\n",
        "# 키워드인자로 넘기면 함수 안에서 식별자(변수이름)로 쓰이기 때문입니다.\n",
        "# 변수이름 첫번째 글자는 숫자가 될 수 없거든"
      ]
    },
    {
      "cell_type": "code",
      "execution_count": null,
      "metadata": {
        "colab": {
          "base_uri": "https://localhost:8080/",
          "height": 138
        },
        "id": "jBPRCNAZwCon",
        "outputId": "469a0b64-02bb-49ef-fd73-c9f0019449fa"
      },
      "outputs": [
        {
          "output_type": "error",
          "ename": "SyntaxError",
          "evalue": "ignored",
          "traceback": [
            "\u001b[0;36m  File \u001b[0;32m\"<ipython-input-44-c966b9bfe62a>\"\u001b[0;36m, line \u001b[0;32m1\u001b[0m\n\u001b[0;31m    dict(1=1, 2=2)  # SyntaxError\u001b[0m\n\u001b[0m        ^\u001b[0m\n\u001b[0;31mSyntaxError\u001b[0m\u001b[0;31m:\u001b[0m keyword can't be an expression\n"
          ]
        }
      ],
      "source": [
        "dict(1=1, 2=2)  # SyntaxError"
      ]
    },
    {
      "cell_type": "code",
      "source": [
        "dict(a123=1, b234=2) "
      ],
      "metadata": {
        "colab": {
          "base_uri": "https://localhost:8080/"
        },
        "id": "JlJqbtAP9mpx",
        "outputId": "edf0408f-0283-42fa-bec0-c300bbcc5f9f"
      },
      "execution_count": null,
      "outputs": [
        {
          "output_type": "execute_result",
          "data": {
            "text/plain": [
              "{'a123': 1, 'b234': 2}"
            ]
          },
          "metadata": {},
          "execution_count": 45
        }
      ]
    },
    {
      "cell_type": "code",
      "source": [
        "dict(1d=1, 2c=2) "
      ],
      "metadata": {
        "colab": {
          "base_uri": "https://localhost:8080/",
          "height": 138
        },
        "id": "BZqhuRQI9p8s",
        "outputId": "ef325871-79e1-421a-9d68-1b6caec0bb81"
      },
      "execution_count": null,
      "outputs": [
        {
          "output_type": "error",
          "ename": "SyntaxError",
          "evalue": "ignored",
          "traceback": [
            "\u001b[0;36m  File \u001b[0;32m\"<ipython-input-46-838f31985478>\"\u001b[0;36m, line \u001b[0;32m1\u001b[0m\n\u001b[0;31m    dict(1d=1, 2c=2)\u001b[0m\n\u001b[0m          ^\u001b[0m\n\u001b[0;31mSyntaxError\u001b[0m\u001b[0;31m:\u001b[0m invalid syntax\n"
          ]
        }
      ]
    },
    {
      "cell_type": "code",
      "execution_count": null,
      "metadata": {
        "colab": {
          "base_uri": "https://localhost:8080/"
        },
        "id": "zu586EKYwCon",
        "outputId": "f0bbc3e1-cbcc-4ddf-e475-54fa20c9f48e"
      },
      "outputs": [
        {
          "output_type": "stream",
          "name": "stdout",
          "text": [
            "{1: 1, 2: 2}\n",
            "{1: 1, 2: 2}\n"
          ]
        }
      ],
      "source": [
        "# Key가 숫자인 딕셔너리를 만들고 싶다면, 아래와 같이 사용해야합니다.\n",
        "print(dict([(1, 1), (2, 2)]))\n",
        "print(dict(((1,1), (2,2))))"
      ]
    },
    {
      "cell_type": "code",
      "execution_count": null,
      "metadata": {
        "id": "DpqC6uJRwCon"
      },
      "outputs": [],
      "source": [
        "# 아래 셀의 코드를 실행시켜 kwargs가 딕셔너리로 처리되는 것을 확인해봅시다."
      ]
    },
    {
      "cell_type": "code",
      "execution_count": null,
      "metadata": {
        "colab": {
          "base_uri": "https://localhost:8080/"
        },
        "id": "XEZbK45DwCon",
        "outputId": "b72bb978-c5a3-4ca1-c8e2-753a186ee015"
      },
      "outputs": [
        {
          "output_type": "stream",
          "name": "stdout",
          "text": [
            "{'한국어': '안녕', '영어': 'hi', '독일어': 'Guten Tag'}\n"
          ]
        }
      ],
      "source": [
        "def my_dict(**kwargs):\n",
        "    return kwargs\n",
        "\n",
        "print(my_dict(한국어='안녕', 영어='hi', 독일어='Guten Tag'))"
      ]
    },
    {
      "cell_type": "markdown",
      "metadata": {
        "id": "W6_xWGRlwCoo"
      },
      "source": [
        "### [실습] URL 생성기\n",
        "\n",
        "> `my_url()` 함수를 만들어 완성된 URL을 반환하는 함수를 작성하세요.\n",
        ">\n",
        ">\n",
        "\n",
        "```python\n",
        "my_url(sidoname='서울', key='asdf')\n",
        "```\n",
        "\n",
        "---\n",
        "\n",
        "```\n",
        "예시 출력)\n",
        "https://api.go.kr?sidoname=서울&key=asdf&\n",
        "```"
      ]
    },
    {
      "cell_type": "markdown",
      "metadata": {
        "id": "LSfi32phwCoo"
      },
      "source": [
        "입력받은 가변 키워드 인자를 활용하여 'https://api.go.kr?'를 BASE_URL로 사용하는 URL을 생성해봅시다.\n",
        "\n",
        "my_url 이라는 이름의 함수를 직접 작성해봅시다.\n",
        "\n",
        "가변 키워드 인자(kwargs)를 사용하는 실습입니다.\n",
        "- `**` (별표 2개)를 변수명 앞에 붙여서 작성하는 문법 사항에 주의합니다.\n",
        "- 또한, 가변 키워드 인자는 기본적으로 딕셔너리 자료형이라는 점에 주의합니다.\n",
        "- 이번에도 정해지지 않은 수의 인자가 입력되기 때문에 반복문을 활용합니다.\n",
        "\n",
        "```python\n",
        "def 함수이름(가변 키워드 인자):\n",
        "    기본이 되는 url인 'https://api.go.kr?'를 미리 url 변수에 할당합니다.\n",
        "    딕셔너리를 반복문으로 조회하기 위해 .items() 메서드를 활용합니다.\n",
        "    해당 메서드로 얻어 낼수 있는 key값과, value값을 활용하여 url을 완성합니다.\n",
        "    완성된 url을 반환합니다.\n",
        "```"
      ]
    },
    {
      "cell_type": "code",
      "execution_count": null,
      "metadata": {
        "id": "eih76XCtwCoo"
      },
      "outputs": [],
      "source": [
        "#\n",
        "def my_url(**kwargs):\n",
        "    \n",
        "    url = 'https://api.go.kr?'\n",
        "\n",
        "    for a,b in kwargs.items():\n",
        "        \n",
        "        url = url + a + '=' + b + '&'\n",
        "    \n",
        "    return url\n",
        "\n"
      ]
    },
    {
      "cell_type": "code",
      "execution_count": null,
      "metadata": {
        "ExecuteTime": {
          "end_time": "2021-01-15T07:33:07.945581Z",
          "start_time": "2021-01-15T07:33:07.931569Z"
        },
        "colab": {
          "base_uri": "https://localhost:8080/"
        },
        "id": "j2mdQNYBwCoo",
        "outputId": "9c52c0db-d5ee-4a7f-b08c-d1806b196045"
      },
      "outputs": [
        {
          "output_type": "stream",
          "name": "stdout",
          "text": [
            "https://api.go.kr?sidoname=서울&key=asdf&\n"
          ]
        }
      ],
      "source": [
        "# 다음 코드를 실행하여 결과를 확인해봅시다.\n",
        "print(my_url(sidoname='서울', key='asdf'))"
      ]
    },
    {
      "cell_type": "markdown",
      "metadata": {
        "id": "QgWXxphrwCoo"
      },
      "source": [
        "<p style=\"font-size: 33px; font-weight: 700; margin-bottom: 3rem\">함수(function) II</p>\n",
        "\n",
        "- 함수와 스코프\n",
        "- 재귀 함수\n",
        "- 함수 응용"
      ]
    },
    {
      "cell_type": "markdown",
      "metadata": {
        "id": "UtmQ32l0wCoq"
      },
      "source": [
        "# 함수와 스코프(scope)\n",
        "\n",
        "함수는 코드 내부에 스코프(scope)를 생성합니다. 함수로 생성된 공간은 `지역 스코프(local scope)`라고 불리며, 그 외의 공간인 `전역 스코프(global scope)`와 구분됩니다.\n",
        "\n",
        "* **전역 스코프(`global scope`)**: 코드 어디에서든 참조할 수 있는 공간\n",
        "* **지역 스코프(`local scope`)**: 함수가 만든 스코프로 함수 내부에서만 참조할 수 있는 공간\n",
        "\n",
        "\n",
        "* **전역 변수(`global variable`)**: 전역 스코프에 정의된 변수\n",
        "* **지역 변수(`local variable`)**: 로컬 스코프에 정의된 변수\n"
      ]
    },
    {
      "cell_type": "code",
      "execution_count": null,
      "metadata": {
        "id": "vKcsWZ_uwCoq"
      },
      "outputs": [],
      "source": [
        "# 전역 스코프와 지역 스코프를 알아봅시다.\n",
        "# 먼저, 지역스코프에서 전역스코프의 변수는 참조할 수 있습니다."
      ]
    },
    {
      "cell_type": "code",
      "execution_count": null,
      "metadata": {
        "colab": {
          "base_uri": "https://localhost:8080/"
        },
        "id": "ZI2ZnnjBwCor",
        "outputId": "7b0f0bbc-11fa-473d-fc39-a59e147729d3"
      },
      "outputs": [
        {
          "output_type": "stream",
          "name": "stdout",
          "text": [
            "10\n",
            "10\n"
          ]
        }
      ],
      "source": [
        "# 전역 스코프(global scope)\n",
        "a = 10 # 전역 변수(global)\n",
        "\n",
        "def func(b):\n",
        "    # 지역 스코프(local scope)\n",
        "    c = 20 # 지역 변수(local variable)\n",
        "    print(a)\n",
        "    print(b)\n",
        "\n",
        "func(a)"
      ]
    },
    {
      "cell_type": "code",
      "execution_count": null,
      "metadata": {
        "id": "ZSLgc0QRwCor"
      },
      "outputs": [],
      "source": [
        "# 전역 스코프에서는 지역 스코프의 변수를 참조할 수 없습니다.\n",
        "# func 함수 바깥에서 함수 안의 지역 변수 c를 출력하고 오류를 확인해봅시다."
      ]
    },
    {
      "cell_type": "code",
      "execution_count": null,
      "metadata": {
        "colab": {
          "base_uri": "https://localhost:8080/",
          "height": 251
        },
        "id": "sT5R2zAywCor",
        "outputId": "91621ff7-092f-4c52-cca5-954958b9e9dc"
      },
      "outputs": [
        {
          "output_type": "stream",
          "name": "stdout",
          "text": [
            "10\n",
            "10\n"
          ]
        },
        {
          "output_type": "error",
          "ename": "NameError",
          "evalue": "ignored",
          "traceback": [
            "\u001b[0;31m---------------------------------------------------------------------------\u001b[0m",
            "\u001b[0;31mNameError\u001b[0m                                 Traceback (most recent call last)",
            "\u001b[0;32m<ipython-input-55-9af81d5dd4cc>\u001b[0m in \u001b[0;36m<module>\u001b[0;34m()\u001b[0m\n\u001b[1;32m     11\u001b[0m \u001b[0;34m\u001b[0m\u001b[0m\n\u001b[1;32m     12\u001b[0m \u001b[0;31m# 변수 c는 접근 불가합니다.\u001b[0m\u001b[0;34m\u001b[0m\u001b[0;34m\u001b[0m\u001b[0;34m\u001b[0m\u001b[0m\n\u001b[0;32m---> 13\u001b[0;31m \u001b[0mprint\u001b[0m\u001b[0;34m(\u001b[0m\u001b[0mc\u001b[0m\u001b[0;34m)\u001b[0m\u001b[0;34m\u001b[0m\u001b[0;34m\u001b[0m\u001b[0m\n\u001b[0m",
            "\u001b[0;31mNameError\u001b[0m: name 'c' is not defined"
          ]
        }
      ],
      "source": [
        "# 전역 스코프(global scope)\n",
        "a = 10 # 전역 변수(global)\n",
        "\n",
        "def func(b):\n",
        "    # 지역 스코프(local scope)\n",
        "    c = 20 # 지역 변수(local variable)\n",
        "    print(a)\n",
        "    print(b)\n",
        "\n",
        "func(a)\n",
        "\n",
        "# 변수 c는 접근 불가합니다. #func가 끝나면 소실되거든\n",
        "print(c)"
      ]
    },
    {
      "cell_type": "code",
      "execution_count": null,
      "metadata": {
        "id": "sR0f9nz1wCor"
      },
      "outputs": [],
      "source": [
        "# 전역 스코프와 지역 스코프에 같은 이름의 변수를 만들면 어떻게 되는지 확인해봅시다."
      ]
    },
    {
      "cell_type": "code",
      "execution_count": null,
      "metadata": {
        "colab": {
          "base_uri": "https://localhost:8080/"
        },
        "id": "wP9qjQHkwCor",
        "outputId": "ce76935f-bbfe-4fdf-c25f-5662a32d6711"
      },
      "outputs": [
        {
          "output_type": "stream",
          "name": "stdout",
          "text": [
            "30\n",
            "10\n"
          ]
        }
      ],
      "source": [
        "a = 10 # 전역 변수(global)\n",
        "\n",
        "def func(b):\n",
        "    a = 30 # 지역 변수(local variable)\n",
        "    print(a)\n",
        "    \n",
        "func(a) #지역변수내에 30이 print되고 소실된다음에\n",
        "print(a) #바깥에서는 전역변수 사용"
      ]
    },
    {
      "cell_type": "markdown",
      "metadata": {
        "tags": [],
        "id": "N6OV7usYwCor"
      },
      "source": [
        "### 변수의 수명주기(lifecycle)\n",
        "\n",
        "변수의 이름은 각자의 `수명주기(lifecycle)`가 있습니다.\n",
        "\n",
        "* **빌트인 스코프`(built-in scope)`**: 파이썬이 실행된 이후부터 영원히 유지\n",
        "\n",
        "\n",
        "* **전역 스코프`(global scope)`**: 모듈이 호출된 시점 이후 혹은 이름 선언된 이후부터 인터프리터가 끝날 때 까지 유지\n",
        "\n",
        "\n",
        "* **지역(함수) 스코프`(local scope)`**: 함수가 호출될 때 생성되고, 함수가 종료될 때까지 유지 (함수 내에서 처리되지 않는 예외를 일으킬 때 삭제됨)"
      ]
    },
    {
      "cell_type": "markdown",
      "metadata": {
        "id": "O4Jvp3zxwCor"
      },
      "source": [
        "## 이름 검색(resolution) 규칙\n",
        "\n",
        "파이썬에서 사용되는 이름(식별자)들은 이름공간(namespace)에 저장되어 있습니다.\n",
        "\n",
        "아래와 같은 순서로 이름을 찾아나가며, `LEGB Rule` 이라고 부릅니다.\n",
        "\n",
        "* `L`ocal scope: 함수\n",
        "\n",
        "\n",
        "* `E`nclosed scope: 특정 함수의 상위 함수 \n",
        "\n",
        "\n",
        "* `G`lobal scope: 함수 밖의 변수 혹은 import된 모듈\n",
        "\n",
        "\n",
        "* `B`uilt-in scope: 파이썬안에 내장되어 있는 함수 또는 속성"
      ]
    },
    {
      "cell_type": "code",
      "execution_count": null,
      "metadata": {
        "id": "8uKyVXVSwCos"
      },
      "outputs": [],
      "source": [
        "# 이것을 통해 첫시간에 내장함수의 식별자를 사용할 수 없었던 예제에서 오류가 생기는 이유를 확인할 수 있습니다.\n",
        "# Built-in scope와 Global scope를 알아봅시다."
      ]
    },
    {
      "cell_type": "code",
      "execution_count": null,
      "metadata": {
        "colab": {
          "base_uri": "https://localhost:8080/",
          "height": 194
        },
        "id": "p9pZbeJFwCos",
        "outputId": "620ddf49-dceb-450f-e689-e72c00b10317"
      },
      "outputs": [
        {
          "output_type": "error",
          "ename": "TypeError",
          "evalue": "ignored",
          "traceback": [
            "\u001b[0;31m---------------------------------------------------------------------------\u001b[0m",
            "\u001b[0;31mTypeError\u001b[0m                                 Traceback (most recent call last)",
            "\u001b[0;32m<ipython-input-59-7e92a6e28543>\u001b[0m in \u001b[0;36m<module>\u001b[0;34m()\u001b[0m\n\u001b[1;32m      1\u001b[0m \u001b[0mprint\u001b[0m \u001b[0;34m=\u001b[0m \u001b[0;34m'ssafy'\u001b[0m\u001b[0;34m\u001b[0m\u001b[0;34m\u001b[0m\u001b[0m\n\u001b[0;32m----> 2\u001b[0;31m \u001b[0mprint\u001b[0m\u001b[0;34m(\u001b[0m\u001b[0;36m3\u001b[0m\u001b[0;34m)\u001b[0m\u001b[0;34m\u001b[0m\u001b[0;34m\u001b[0m\u001b[0m\n\u001b[0m",
            "\u001b[0;31mTypeError\u001b[0m: 'str' object is not callable"
          ]
        }
      ],
      "source": [
        "print = 'ssafy'\n",
        "print(3)"
      ]
    },
    {
      "cell_type": "code",
      "execution_count": null,
      "metadata": {
        "id": "jUj630HuwCos"
      },
      "outputs": [],
      "source": [
        "# print라는 이름(식별자)이 'ssafy'라는 문자열 정보를 저장한 하나의 변수가 되었습니다.\n",
        "# 내장 함수인 print 함수를 다시 사용할 수 있도록 print라는 이름의 변수를 삭제합니다."
      ]
    },
    {
      "cell_type": "code",
      "execution_count": null,
      "metadata": {
        "id": "FtRLD6JjwCos"
      },
      "outputs": [],
      "source": [
        "del print"
      ]
    },
    {
      "cell_type": "markdown",
      "metadata": {
        "id": "rAxYCuQkwCos"
      },
      "source": [
        "## \n",
        "\n",
        "1. print = 'ssafy' 실행되고 다음 줄에 `print()` 코드가 실행되면\n",
        "\n",
        "\n",
        "2. 함수에서 실행된 코드가 아니기 때문에 `L`, `E` 를 건너 뛰고,\n",
        "\n",
        "\n",
        "3. `print`라는 식별자를 Global scope에서 찾아서 `print = ssafy`를 가져오고, \n",
        "\n",
        "\n",
        "4. 이는 함수가 아니라 변수이기 때문에 `not callable`하다라는 오류를 내뱉게 됩니다.\n",
        "\n",
        "\n",
        "5. 우리가 원하는 `print()`은 Built-in scope에 있기 때문입니다."
      ]
    },
    {
      "cell_type": "code",
      "execution_count": null,
      "metadata": {
        "id": "pJ1G9b9QwCos"
      },
      "outputs": [],
      "source": [
        "# Global scope(G)와 Local scope(L)를 다시 한번 복습합니다."
      ]
    },
    {
      "cell_type": "code",
      "execution_count": null,
      "metadata": {
        "colab": {
          "base_uri": "https://localhost:8080/"
        },
        "id": "A6lQz4nwwCos",
        "outputId": "30a67fe8-f57e-46de-a93b-ebdca5298f5c"
      },
      "outputs": [
        {
          "output_type": "execute_result",
          "data": {
            "text/plain": [
              "3"
            ]
          },
          "metadata": {},
          "execution_count": 62
        }
      ],
      "source": [
        "a = 1 # 전역 변수 a\n",
        "def local_scope(a):\n",
        "    return a # 지역 변수 a\n",
        "\n",
        "local_scope(3)"
      ]
    },
    {
      "cell_type": "code",
      "execution_count": null,
      "metadata": {
        "scrolled": true,
        "id": "WKb2RDp8wCos"
      },
      "outputs": [],
      "source": [
        "# 앞선 내용(G & L)을 확장하여 LEGB Rule을 자세히 알아봅시다.\n",
        "# 각 변수가 어느 스코프에 해당하는 변수인지 확인해보고 왜 그렇게 되는지 고민해보세요."
      ]
    },
    {
      "cell_type": "code",
      "execution_count": null,
      "metadata": {
        "colab": {
          "base_uri": "https://localhost:8080/"
        },
        "id": "-SC3yfdqwCot",
        "outputId": "62435a8f-28be-4e08-9ca3-5d9751cf33e4"
      },
      "outputs": [
        {
          "output_type": "stream",
          "name": "stdout",
          "text": [
            "30 20 40\n",
            "10\n"
          ]
        }
      ],
      "source": [
        "a = 10\n",
        "b = 20\n",
        "def enclosed():\n",
        "    a = 30\n",
        "    def local():\n",
        "        c = 40\n",
        "        print(a, b, c)\n",
        "    local()\n",
        "    a = 50\n",
        "enclosed()\n",
        "\n",
        "print(a)"
      ]
    },
    {
      "cell_type": "code",
      "execution_count": null,
      "metadata": {
        "id": "9sbaNU1DwCot"
      },
      "outputs": [],
      "source": [
        "# 전역 변수를 바꿀 수 있을까요?"
      ]
    },
    {
      "cell_type": "code",
      "execution_count": null,
      "metadata": {
        "id": "v9j2e2XXwCot"
      },
      "outputs": [],
      "source": [
        "# 기본적으로 지역 스코프에서 전역 스코프의 변수를 바꿀 수는 없습니다.\n",
        "# 아래 셀의 코드에서 함수 내부의 global_num은 지역 변수로 생성됩니다."
      ]
    },
    {
      "cell_type": "code",
      "execution_count": null,
      "metadata": {
        "colab": {
          "base_uri": "https://localhost:8080/"
        },
        "id": "7LKOZ5IUwCot",
        "outputId": "c978b623-05f8-4f07-ef7c-8089759f2e83"
      },
      "outputs": [
        {
          "output_type": "stream",
          "name": "stdout",
          "text": [
            "3\n"
          ]
        }
      ],
      "source": [
        "global_num = 3\n",
        "def local_scope():\n",
        "    global_num = 5\n",
        "\n",
        "local_scope()\n",
        "print(global_num)"
      ]
    },
    {
      "cell_type": "code",
      "execution_count": null,
      "metadata": {
        "id": "ZZWRENiUwCou"
      },
      "outputs": [],
      "source": [
        "# 전역에 있는 변수의 값을 변경하고 싶다면,\n",
        "# 아래와 같이 global 키워드를 사용하여 지역 스코프에서 전역 변수의 값을 바꿀 수 있습니다."
      ]
    },
    {
      "cell_type": "code",
      "execution_count": null,
      "metadata": {
        "colab": {
          "base_uri": "https://localhost:8080/"
        },
        "id": "pV4cSsVDwCou",
        "outputId": "025258cb-f4d9-4f41-f76e-00f340036918"
      },
      "outputs": [
        {
          "output_type": "stream",
          "name": "stdout",
          "text": [
            "5\n"
          ]
        }
      ],
      "source": [
        "global_num = 3\n",
        "def local_scope():\n",
        "    global global_num\n",
        "    global_num = 5\n",
        "\n",
        "local_scope()\n",
        "print(global_num)"
      ]
    },
    {
      "cell_type": "markdown",
      "metadata": {
        "id": "J4oRjHOLwCou"
      },
      "source": [
        "* 기본적으로 함수에서 선언된 변수는 Local scope에 생성되며, 함수 종료 시 사라집니다.\n",
        "* 해당 스코프에 변수가 없는 경우 LEGB rule에 의해 이름을 검색합니다.\n",
        "    * 변수에 접근은 가능하지만, 해당 변수를 수정할 수는 없습니다.\n",
        "    * 값을 할당하는 경우 해당 스코프의 이름공간에 새롭게 생성되기 때문입니다.\n",
        "    * **단, 함수 내에서 필요한 상위 스코프 변수는 인자로 넘겨서 활용합니다.** (클로저 제외)\n",
        "* 상위 스코프에 있는 변수를 수정하고 싶다면 global, nonlocal 키워드를 활용 가능합니다.\n",
        "    * 단, 코드가 복잡해지면서 변수의 변경을 추적하기 어렵고, 예기치 못한 오류가 발생합니다."
      ]
    },
    {
      "cell_type": "markdown",
      "metadata": {
        "id": "SxAkaES3wCou"
      },
      "source": [
        "# 재귀 함수(recursive function)\n",
        "\n",
        "재귀 함수는 함수 내부에서 자기 자신을 호출 하는 함수를 뜻합니다.\n",
        "\n",
        "알고리즘을 설계 및 구현에서 유용하게 활용됩니다."
      ]
    },
    {
      "cell_type": "markdown",
      "metadata": {
        "id": "s3C352XdwCou"
      },
      "source": [
        "## 팩토리얼 계산\n",
        "> 팩토리얼은 1부터 n 까지 양의 정수를 차례대로 곱한 값이며 `!` 기호로 표기합니다. 예를 들어 3!은 3 * 2 * 1이며 결과는 6 입니다.\n",
        ">\n",
        "> `팩토리얼(factorial)`을 계산하는 함수 `fact(n)`를 작성하세요. \n",
        ">\n",
        "> n은 1보다 큰 정수라고 가정하고, 팩토리얼을 계산한 값을 반환합니다.\n",
        "\n",
        "$$\n",
        "\\displaystyle n! = \\prod_{ k = 1 }^{ n }{ k }\n",
        "$$\n",
        "\n",
        "$$\n",
        "\\displaystyle n! = 1*2*3*...*(n-1)*n\n",
        "$$\n",
        "\n",
        "---\n",
        "```\n",
        "예시 출력)\n",
        "120\n",
        "```"
      ]
    },
    {
      "cell_type": "markdown",
      "metadata": {
        "id": "nEHRCKhDwCou"
      },
      "source": [
        "### 재귀를 이용한 팩토리얼 계산\n",
        "\n",
        "```\n",
        "1! = 1\n",
        "2! = 1 * 2 = 1! * 2 \n",
        "3! = 1 * 2 * 3 = 2! * 3\n",
        "```"
      ]
    },
    {
      "cell_type": "markdown",
      "metadata": {
        "id": "jqqc7PdwwCov"
      },
      "source": [
        "재귀 함수를 이용하여 다음 셀에 팩토리얼 함수를 직접 구현해봅시다.\n",
        "\n",
        "(점화식에 대한 고민을 통해 코드 구현을 연습합니다.)\n",
        "\n",
        "Case(1) = `1! = 1`\n",
        "\n",
        "Case(2) = `2! = 1 * 2` = Case(1) * 2\n",
        "\n",
        "Case(3) = `3! = 1 * 2 * 3` = Case(2) * 3\n",
        "\n",
        "...\n",
        "\n",
        "Case(N) = N! = 1 * 2 * 3 * ... * N = Case(N-1) * N => N-1 단계까지의 결과 * N\n",
        "\n",
        "이렇게 반복적인 구조 (이전 단계까지의 결과 * 현재 단계의 숫자)를 찾아내고, 이를 코드로 표현합니다.\n",
        "\n",
        "```python\n",
        "def 팩토리얼재귀(현재 단계의 숫자):\n",
        "    만약, 현재 단계가 1 단계라면?\n",
        "        더이상 재귀호출을 진행하지않고, 1을 반환합니다.\n",
        "    그렇지 않은 경우에는 (현재 단계의 숫자 * 이전 단계의 재귀 함수의 실행 결과)를 반환합니다.\n",
        "```"
      ]
    },
    {
      "cell_type": "code",
      "execution_count": null,
      "metadata": {
        "id": "K4n-tcBewCov"
      },
      "outputs": [],
      "source": [
        "#\n",
        "def factorial(n):\n",
        "    \n",
        "    if n == 1:\n",
        "        \n",
        "        return 1\n",
        "    \n",
        "    else:\n",
        "        \n",
        "        return n * factorial(n-1)"
      ]
    },
    {
      "cell_type": "code",
      "execution_count": null,
      "metadata": {
        "colab": {
          "base_uri": "https://localhost:8080/"
        },
        "id": "ltMrsnMvwCov",
        "outputId": "1dc70229-727c-43d0-b1dc-940f836ca293"
      },
      "outputs": [
        {
          "output_type": "execute_result",
          "data": {
            "text/plain": [
              "120"
            ]
          },
          "metadata": {},
          "execution_count": 68
        }
      ],
      "source": [
        "# 해당 코드를 통해 올바른 결과가 나오는지 확인하세요.\n",
        "factorial(5)"
      ]
    },
    {
      "cell_type": "markdown",
      "metadata": {
        "id": "XbxIrJ6OwCov"
      },
      "source": [
        "### 반복문을 이용한 팩토리얼 계산"
      ]
    },
    {
      "cell_type": "markdown",
      "metadata": {
        "id": "v1TbEh-1wCov"
      },
      "source": [
        "반복문으로 구현해봅시다.\n",
        "\n",
        "- 목표하는 n값 만큼 반복하여 곱을 누적합니다.\n",
        " \n",
        " \n",
        "```python\n",
        "def 팩토리얼반복(현재 단계의 숫자):\n",
        "    시작하는 숫자는 1\n",
        "    while문을 활용하여, n번만큼 결과에 곱을 누적합니다.\n",
        "    최종 결과를 리턴합니다.\n",
        "```"
      ]
    },
    {
      "cell_type": "code",
      "execution_count": null,
      "metadata": {
        "id": "Kui1yKUvwCov"
      },
      "outputs": [],
      "source": [
        "#\n",
        "def fact(n):\n",
        "    \n",
        "    count = 1\n",
        "\n",
        "    s = 1\n",
        "    factorial = 1\n",
        "\n",
        "    while s <= n:\n",
        "        \n",
        "        factorial *= s\n",
        "        \n",
        "        s += 1\n",
        "    \n",
        "    return factorial\n",
        "        \n"
      ]
    },
    {
      "cell_type": "code",
      "execution_count": null,
      "metadata": {
        "colab": {
          "base_uri": "https://localhost:8080/"
        },
        "id": "rZzNkkQjwCov",
        "outputId": "8556dc38-7c87-4436-c561-991f0402002b"
      },
      "outputs": [
        {
          "output_type": "execute_result",
          "data": {
            "text/plain": [
              "120"
            ]
          },
          "metadata": {},
          "execution_count": 70
        }
      ],
      "source": [
        "# 해당 코드를 통해 올바른 결과가 나오는지 확인하세요.\n",
        "fact(5)"
      ]
    },
    {
      "cell_type": "markdown",
      "metadata": {
        "id": "rzkUlJqewCow"
      },
      "source": [
        "## 반복문과 재귀함수\n",
        "```python\n",
        "factorial(3)\n",
        "3 * factorail(2)\n",
        "3 * 2 * factorial(1)\n",
        "3 * 2 * 1\n",
        "3 * 2\n",
        "6\n",
        "```\n",
        "\n",
        "* 두 코드 모두 원리는 같습니다.\n",
        "\n",
        "\n",
        "1. 반복문 코드\n",
        "    - n이 1보다 큰 경우 반복문을 돌며, n은 1씩 감소합니다. \n",
        "    - 마지막에 n이 1이면 더 이상 반복문을 돌지 않습니다.\n",
        "  \n",
        "  \n",
        "2. 재귀 함수 코드\n",
        "    - 재귀 함수를 호출하며, n은 1씩 감소합니다. \n",
        "    - 마지막에 n이 1이면 더 이상 추가 함수를 호출하지 않습니다.\n"
      ]
    },
    {
      "cell_type": "markdown",
      "metadata": {
        "id": "zusfwJPUwCow"
      },
      "source": [
        "* 재귀함수는 기본적으로 같은 문제이지만 점점 범위가 줄어드는 문제를 풀게 됩니다.\n",
        "\n",
        "* 재귀함수를 작성시에는 반드시, `base case`가 존재 하여야 합니다. \n",
        "\n",
        "* `base case`는 점점 범위가 줄어들어 반복되지 않는 최종적으로 도달하는 곳을 의미합니다. \n",
        "\n",
        "* 재귀를 이용한 팩토리얼 계산에서의 base case는 **n이 1이 되면 함수를 호출하지 않고 정수를 반환하는 것**입니다."
      ]
    },
    {
      "cell_type": "markdown",
      "metadata": {
        "id": "XUiLCLJYwCow"
      },
      "source": [
        "* 자기 자신을 호출하는 재귀함수는 알고리즘 구현시 많이 사용됩니다.\n",
        "* 코드가 더 직관적이고 이해하기 쉬운 경우가 있습니다. \n",
        "* 팩토리얼 재귀함수를 [Python Tutor](https://goo.gl/k1hQYz)에서 확인해보면, 함수가 호출될 때마다 메모리 공간에 쌓이는 것을 볼 수 있습니다.\n",
        "* 이 경우, 메모리 스택이 넘치거나(Stack overflow) 프로그램 실행 속도가 늘어지는 단점이 생깁니다.\n",
        "* 파이썬에서는 이를 방지하기 위해 1,000번이 넘어가게 되면 더이상 함수를 호출하지 않고, 종료됩니다. (최대 재귀 깊이)"
      ]
    },
    {
      "cell_type": "markdown",
      "metadata": {
        "id": "6Lmlb6INwCow"
      },
      "source": [
        "### 최대 재귀 깊이\n",
        "\n",
        "\n",
        "```python\n",
        "def ssafy():\n",
        "    print('Hello, ssafy!')\n",
        "    ssafy()\n",
        " \n",
        "ssafy()\n",
        "```\n",
        "---\n",
        "\n",
        "`ssafy()`를 호출하면 아래와 같이 문자열이 계속 출력되다가 RecursionError가 발생합니다.\n",
        "\n",
        "파이썬에서는 최대 재귀 깊이(maximum recursion depth)가 1,000으로 정해져 있기 때문입니다.\n",
        "\n",
        "주피터 노트북은 커널이 종료되어 확인하기 어렵습니다.\n",
        "\n",
        "---\n",
        "\n",
        "```bash\n",
        "Hello, world!\n",
        "Hello, world!\n",
        "...\n",
        "Hello, world!\n",
        "---------------------------------------------------------------------------\n",
        "RecursionError                            Traceback (most recent call last)\n",
        "\n",
        "...\n",
        "\n",
        "      1 def hello():\n",
        "      2     print('Hello, world!')\n",
        "----> 3     hello()\n",
        "      4 \n",
        "      5 hello()\n",
        "\n",
        "RecursionError: maximum recursion depth exceeded while calling a Python object\n",
        "```"
      ]
    },
    {
      "cell_type": "markdown",
      "metadata": {
        "id": "7vmic0cCwCow"
      },
      "source": [
        "## [실습] 피보나치 수열\n",
        "\n",
        "첫째 및 둘째 항이 1이며 그 뒤의 모든 항은 바로 앞 두 항의 합인 수열입니다. \n",
        "\n",
        "(0), 1, 1, 2, 3, 5, 8\n",
        "\n",
        "> 피보나치 수열은 다음과 같은 점화식이 있습니다. \n",
        ">\n",
        "> 피보나치 값을 리턴하는 두가지 방식의 코드를 모두 작성해주세요.\n",
        ">\n",
        "\n",
        "$$\n",
        "\\displaystyle F_0 = 0\n",
        "$$\n",
        "\n",
        "\n",
        "$$\n",
        "\\displaystyle F_1 = 1\n",
        "$$\n",
        "\n",
        "$$\n",
        "F_n=F_{n-1}+F_{n-2}\\qquad(n\\in\\{2,3,4,\\dots\\})\n",
        "$$\n",
        "\n",
        "1) `fib(n)` : 재귀함수\n",
        "\n",
        "2) `fib_loop(n)` : 반복문 활용한 함수\n",
        "\n",
        "---\n",
        "```\n",
        "예시 입력)\n",
        "fib(10)\n",
        "\n",
        "예시 호출)\n",
        "55\n",
        "```"
      ]
    },
    {
      "cell_type": "markdown",
      "metadata": {
        "id": "-UUwHm1TwCow"
      },
      "source": [
        "재귀 함수를 활용하여, fib 라는 이름의 피보나치 수열 함수를 작성하세요.\n",
        "\n",
        "(점화식에 대한 고민을 통해 코드 구현을 연습합니다.)\n",
        "\n",
        "Case(0) = 0\n",
        "\n",
        "Case(1) = 1\n",
        "\n",
        "Case(2) = Case(1) + Case(0) = 1\n",
        "\n",
        "Case(3) = Case(2) + Case(1)\n",
        "\n",
        "...\n",
        "\n",
        "Case(N) = Case(N-1) + Case(N-2)\n",
        "\n",
        "(현재 단계 = 바로 전 단계 + 바로 전전 단계)의 식을 코드로 표현합니다!\n",
        "\n",
        "```python\n",
        "def 피보나치재귀(현재단계):\n",
        "    만약, 현재단계가 2단계보다 작으면\n",
        "        그냥 현재 단계를 반환합니다.\n",
        "    그렇지 않다면,\n",
        "        전단계의 재귀함수 + 전전단계의 재귀함수 의 결과를 반환합니다.\n",
        "```"
      ]
    },
    {
      "cell_type": "code",
      "execution_count": null,
      "metadata": {
        "id": "DfGzAsS8wCox"
      },
      "outputs": [],
      "source": [
        "# \n",
        "def fib(n):\n",
        "    if n < 2:\n",
        "        return n\n",
        "    else:\n",
        "        return fib(n-1) + fib(n-2)"
      ]
    },
    {
      "cell_type": "code",
      "execution_count": null,
      "metadata": {
        "colab": {
          "base_uri": "https://localhost:8080/"
        },
        "id": "fSMH9FNPwCox",
        "outputId": "22907778-40d1-4238-ac1f-d3e25639e043"
      },
      "outputs": [
        {
          "output_type": "execute_result",
          "data": {
            "text/plain": [
              "55"
            ]
          },
          "metadata": {},
          "execution_count": 72
        }
      ],
      "source": [
        "fib(10)"
      ]
    },
    {
      "cell_type": "markdown",
      "metadata": {
        "id": "36czwnvrwCox"
      },
      "source": [
        "반복문(for문)을 활용하여, fib_loop라는 이름의 피보나치 수열 함수를 작성하세요.\n",
        "\n",
        "반복문으로 구현해봅시다.\n",
        "- 모든 Case의 결과를 리스트에 누적하는 방식으로 계산합니다.\n",
        "\n",
        "```python\n",
        "def 피보나치반복(현재단계):\n",
        "    만약, 입력된 단계가 2보다 작다면\n",
        "        입력된 단계를 그대로 리턴!\n",
        "\n",
        "    결과를 저장할 기본 리스트([0, 1])를 준비 (각각 Case(0)와 Case(1)의 결과)\n",
        "    반복문을 시작(2부터 시작, N까지)\n",
        "        마지막 2개의 요소들의 합을 리스트에 추가\n",
        "\n",
        "    리스트의 마지막 값을 반환\n",
        "``` "
      ]
    },
    {
      "cell_type": "code",
      "execution_count": null,
      "metadata": {
        "id": "0Xi8wXI6wCox"
      },
      "outputs": [],
      "source": [
        "#\n",
        "def fib_loop(n):\n",
        "    \n",
        "    if n < 2:\n",
        "        \n",
        "        return n\n",
        "    \n",
        "    result = [0,1]\n",
        "\n",
        "    for num in range(2,n+1):\n",
        "        \n",
        "        result.append(result[num-1]+result[num-2])\n",
        "    \n",
        "    return result[-1]"
      ]
    },
    {
      "cell_type": "code",
      "execution_count": null,
      "metadata": {
        "colab": {
          "base_uri": "https://localhost:8080/"
        },
        "id": "dZ3-iANWwCox",
        "outputId": "67c2c4e4-4080-4d37-dfb0-597f36816600"
      },
      "outputs": [
        {
          "output_type": "execute_result",
          "data": {
            "text/plain": [
              "55"
            ]
          },
          "metadata": {},
          "execution_count": 74
        }
      ],
      "source": [
        "# 해당 코드를 통해 올바른 결과가 나오는지 확인하세요.\n",
        "fib_loop(10)"
      ]
    },
    {
      "cell_type": "markdown",
      "metadata": {
        "id": "6ib90VaiwCox"
      },
      "source": [
        "이번에는 리스트를 사용 하지 않고 반복문(for문)을 활용하여 fib_loop2()을 작성하세요.\n",
        "\n",
        "- 반드시 리스트로 모든 값을 저장할 필요가 있을까요?\n",
        "- 실제로 매 반복문 마다 필요한 값은 (마지막 2개의 요소)였습니다.\n",
        "- 그렇기 때문에 변수 2개에 값을 변경 & 덮어쓰기 하면서 로직을 구성할 수 있습니다!\n",
        "\n",
        "```python\n",
        "def 피보나치반복(현재단계):\n",
        "    만약, 입력된 단계가 2보다 작다면\n",
        "        입력된 단계를 그대로 리턴!\n",
        "\n",
        "    결과를 저장할 변수를 2개 준비 (각각 Case(0)단계와 Case(1)단계의 결과를 의미)\n",
        "    반복문을 시작(0부터 N-2까지)\n",
        "        전 단계의 값과 전전 단계의 값의 합을 전 단계에 덮어쓰기하면서, 동시에 원래가지고 있던 전 단계 값을 전전 단계에 저장\n",
        "\n",
        "    마지막 결과 값을 반환!\n",
        "```"
      ]
    },
    {
      "cell_type": "code",
      "execution_count": null,
      "metadata": {
        "id": "ZKUZlBy-wCox"
      },
      "outputs": [],
      "source": [
        "#\n",
        "def fib_loop_2(n):\n",
        "    \n",
        "    if n < 2:\n",
        "        \n",
        "        return n\n",
        "    \n",
        "    a = 0\n",
        "    b = 1\n",
        "\n",
        "    for _ in range(2,n+1):\n",
        "        \n",
        "        a, b = b, a + b\n",
        "    \n",
        "    return b"
      ]
    },
    {
      "cell_type": "code",
      "execution_count": null,
      "metadata": {
        "colab": {
          "base_uri": "https://localhost:8080/"
        },
        "id": "UrFFmjPYwCox",
        "outputId": "c94f85fb-94c0-4856-d5f7-58bbbc7fd87e"
      },
      "outputs": [
        {
          "output_type": "execute_result",
          "data": {
            "text/plain": [
              "55"
            ]
          },
          "metadata": {},
          "execution_count": 78
        }
      ],
      "source": [
        "#\n",
        "fib_loop_2(10)"
      ]
    },
    {
      "cell_type": "code",
      "execution_count": null,
      "metadata": {
        "id": "dhkH-9WhwCoy"
      },
      "outputs": [],
      "source": [
        "# 반복문(while 문)을 이용한 코드 fib_while()을 작성하세요.\n",
        "# 알고리즘을 구현하는 코드는 여러가지 방식이 있을 수 있습니다.\n",
        "\n",
        "def fib_while(n):\n",
        "    \n",
        "    if n < 2:\n",
        "        \n",
        "        return n\n",
        "    \n",
        "    a = 0\n",
        "\n",
        "    b = 1\n",
        "\n",
        "    count = 1\n",
        "\n",
        "    while count < n:\n",
        "        \n",
        "        a,b = b,a+b\n",
        "\n",
        "        count += 1\n",
        "    \n",
        "    return b\n",
        "\n"
      ]
    },
    {
      "cell_type": "code",
      "source": [
        "print(fib_while(10))"
      ],
      "metadata": {
        "colab": {
          "base_uri": "https://localhost:8080/"
        },
        "id": "pmWHesPIDVyD",
        "outputId": "a00539de-7d45-4786-94d4-826ce1d6eddf"
      },
      "execution_count": null,
      "outputs": [
        {
          "output_type": "stream",
          "name": "stdout",
          "text": [
            "55\n"
          ]
        }
      ]
    },
    {
      "cell_type": "markdown",
      "metadata": {
        "id": "tyGKmMsmwCoy"
      },
      "source": [
        "## 반복문과 재귀 함수의 차이\n",
        "\n",
        "* 알고리즘 자체가 재귀적인 표현이 자연스러운 경우 재귀함수를 사용합니다.\n",
        "* 재귀 호출은 `변수 사용` 을 줄여줄 수 있습니다."
      ]
    },
    {
      "cell_type": "code",
      "execution_count": null,
      "metadata": {
        "id": "EbainnC0wCoy"
      },
      "outputs": [],
      "source": [
        "# 재귀 호출은 입력 값이 커질 수록 연산 속도가 오래걸립니다.\n",
        "# fib() 함수에 10 이상의 값을 넣어보고 실행한 뒤 연산 시간을 확인해봅시다."
      ]
    },
    {
      "cell_type": "code",
      "execution_count": null,
      "metadata": {
        "colab": {
          "base_uri": "https://localhost:8080/"
        },
        "id": "dCaLx-Y3wCoy",
        "outputId": "7bce3ab8-bfcc-4bf9-c7f4-5104402523a5"
      },
      "outputs": [
        {
          "output_type": "stream",
          "name": "stdout",
          "text": [
            "5.841255187988281e-05\n"
          ]
        }
      ],
      "source": [
        "import time\n",
        "\n",
        "t0 = time.time()\n",
        "fib(10)\n",
        "t1 = time.time()\n",
        "\n",
        "total = t1 - t0\n",
        "print(total)"
      ]
    },
    {
      "cell_type": "code",
      "source": [
        "import time\n",
        "\n",
        "t0 = time.time()\n",
        "fib(100)\n",
        "t1 = time.time()\n",
        "\n",
        "total = t1 - t0\n",
        "print(total) #3분인데도 안끝나서 중간취소"
      ],
      "metadata": {
        "colab": {
          "base_uri": "https://localhost:8080/",
          "height": 368
        },
        "id": "FUxytK6FDt-8",
        "outputId": "33a485a9-75d0-4726-f42c-de0b3ce88602"
      },
      "execution_count": null,
      "outputs": [
        {
          "output_type": "error",
          "ename": "KeyboardInterrupt",
          "evalue": "ignored",
          "traceback": [
            "\u001b[0;31m---------------------------------------------------------------------------\u001b[0m",
            "\u001b[0;31mKeyboardInterrupt\u001b[0m                         Traceback (most recent call last)",
            "\u001b[0;32m<ipython-input-88-dc52984cb66f>\u001b[0m in \u001b[0;36m<module>\u001b[0;34m()\u001b[0m\n\u001b[1;32m      2\u001b[0m \u001b[0;34m\u001b[0m\u001b[0m\n\u001b[1;32m      3\u001b[0m \u001b[0mt0\u001b[0m \u001b[0;34m=\u001b[0m \u001b[0mtime\u001b[0m\u001b[0;34m.\u001b[0m\u001b[0mtime\u001b[0m\u001b[0;34m(\u001b[0m\u001b[0;34m)\u001b[0m\u001b[0;34m\u001b[0m\u001b[0;34m\u001b[0m\u001b[0m\n\u001b[0;32m----> 4\u001b[0;31m \u001b[0mfib\u001b[0m\u001b[0;34m(\u001b[0m\u001b[0;36m100\u001b[0m\u001b[0;34m)\u001b[0m\u001b[0;34m\u001b[0m\u001b[0;34m\u001b[0m\u001b[0m\n\u001b[0m\u001b[1;32m      5\u001b[0m \u001b[0mt1\u001b[0m \u001b[0;34m=\u001b[0m \u001b[0mtime\u001b[0m\u001b[0;34m.\u001b[0m\u001b[0mtime\u001b[0m\u001b[0;34m(\u001b[0m\u001b[0;34m)\u001b[0m\u001b[0;34m\u001b[0m\u001b[0;34m\u001b[0m\u001b[0m\n\u001b[1;32m      6\u001b[0m \u001b[0;34m\u001b[0m\u001b[0m\n",
            "\u001b[0;32m<ipython-input-71-2293569d163a>\u001b[0m in \u001b[0;36mfib\u001b[0;34m(n)\u001b[0m\n\u001b[1;32m      4\u001b[0m         \u001b[0;32mreturn\u001b[0m \u001b[0mn\u001b[0m\u001b[0;34m\u001b[0m\u001b[0;34m\u001b[0m\u001b[0m\n\u001b[1;32m      5\u001b[0m     \u001b[0;32melse\u001b[0m\u001b[0;34m:\u001b[0m\u001b[0;34m\u001b[0m\u001b[0;34m\u001b[0m\u001b[0m\n\u001b[0;32m----> 6\u001b[0;31m         \u001b[0;32mreturn\u001b[0m \u001b[0mfib\u001b[0m\u001b[0;34m(\u001b[0m\u001b[0mn\u001b[0m\u001b[0;34m-\u001b[0m\u001b[0;36m1\u001b[0m\u001b[0;34m)\u001b[0m \u001b[0;34m+\u001b[0m \u001b[0mfib\u001b[0m\u001b[0;34m(\u001b[0m\u001b[0mn\u001b[0m\u001b[0;34m-\u001b[0m\u001b[0;36m2\u001b[0m\u001b[0;34m)\u001b[0m\u001b[0;34m\u001b[0m\u001b[0;34m\u001b[0m\u001b[0m\n\u001b[0m",
            "\u001b[0;32m<ipython-input-71-2293569d163a>\u001b[0m in \u001b[0;36mfib\u001b[0;34m(n)\u001b[0m\n\u001b[1;32m      4\u001b[0m         \u001b[0;32mreturn\u001b[0m \u001b[0mn\u001b[0m\u001b[0;34m\u001b[0m\u001b[0;34m\u001b[0m\u001b[0m\n\u001b[1;32m      5\u001b[0m     \u001b[0;32melse\u001b[0m\u001b[0;34m:\u001b[0m\u001b[0;34m\u001b[0m\u001b[0;34m\u001b[0m\u001b[0m\n\u001b[0;32m----> 6\u001b[0;31m         \u001b[0;32mreturn\u001b[0m \u001b[0mfib\u001b[0m\u001b[0;34m(\u001b[0m\u001b[0mn\u001b[0m\u001b[0;34m-\u001b[0m\u001b[0;36m1\u001b[0m\u001b[0;34m)\u001b[0m \u001b[0;34m+\u001b[0m \u001b[0mfib\u001b[0m\u001b[0;34m(\u001b[0m\u001b[0mn\u001b[0m\u001b[0;34m-\u001b[0m\u001b[0;36m2\u001b[0m\u001b[0;34m)\u001b[0m\u001b[0;34m\u001b[0m\u001b[0;34m\u001b[0m\u001b[0m\n\u001b[0m",
            "\u001b[0;32m<ipython-input-71-2293569d163a>\u001b[0m in \u001b[0;36mfib\u001b[0;34m(n)\u001b[0m\n\u001b[1;32m      4\u001b[0m         \u001b[0;32mreturn\u001b[0m \u001b[0mn\u001b[0m\u001b[0;34m\u001b[0m\u001b[0;34m\u001b[0m\u001b[0m\n\u001b[1;32m      5\u001b[0m     \u001b[0;32melse\u001b[0m\u001b[0;34m:\u001b[0m\u001b[0;34m\u001b[0m\u001b[0;34m\u001b[0m\u001b[0m\n\u001b[0;32m----> 6\u001b[0;31m         \u001b[0;32mreturn\u001b[0m \u001b[0mfib\u001b[0m\u001b[0;34m(\u001b[0m\u001b[0mn\u001b[0m\u001b[0;34m-\u001b[0m\u001b[0;36m1\u001b[0m\u001b[0;34m)\u001b[0m \u001b[0;34m+\u001b[0m \u001b[0mfib\u001b[0m\u001b[0;34m(\u001b[0m\u001b[0mn\u001b[0m\u001b[0;34m-\u001b[0m\u001b[0;36m2\u001b[0m\u001b[0;34m)\u001b[0m\u001b[0;34m\u001b[0m\u001b[0;34m\u001b[0m\u001b[0m\n\u001b[0m",
            "\u001b[0;32m<ipython-input-71-2293569d163a>\u001b[0m in \u001b[0;36mfib\u001b[0;34m(n)\u001b[0m\n\u001b[1;32m      4\u001b[0m         \u001b[0;32mreturn\u001b[0m \u001b[0mn\u001b[0m\u001b[0;34m\u001b[0m\u001b[0;34m\u001b[0m\u001b[0m\n\u001b[1;32m      5\u001b[0m     \u001b[0;32melse\u001b[0m\u001b[0;34m:\u001b[0m\u001b[0;34m\u001b[0m\u001b[0;34m\u001b[0m\u001b[0m\n\u001b[0;32m----> 6\u001b[0;31m         \u001b[0;32mreturn\u001b[0m \u001b[0mfib\u001b[0m\u001b[0;34m(\u001b[0m\u001b[0mn\u001b[0m\u001b[0;34m-\u001b[0m\u001b[0;36m1\u001b[0m\u001b[0;34m)\u001b[0m \u001b[0;34m+\u001b[0m \u001b[0mfib\u001b[0m\u001b[0;34m(\u001b[0m\u001b[0mn\u001b[0m\u001b[0;34m-\u001b[0m\u001b[0;36m2\u001b[0m\u001b[0;34m)\u001b[0m\u001b[0;34m\u001b[0m\u001b[0;34m\u001b[0m\u001b[0m\n\u001b[0m",
            "\u001b[0;32m<ipython-input-71-2293569d163a>\u001b[0m in \u001b[0;36mfib\u001b[0;34m(n)\u001b[0m\n\u001b[1;32m      4\u001b[0m         \u001b[0;32mreturn\u001b[0m \u001b[0mn\u001b[0m\u001b[0;34m\u001b[0m\u001b[0;34m\u001b[0m\u001b[0m\n\u001b[1;32m      5\u001b[0m     \u001b[0;32melse\u001b[0m\u001b[0;34m:\u001b[0m\u001b[0;34m\u001b[0m\u001b[0;34m\u001b[0m\u001b[0m\n\u001b[0;32m----> 6\u001b[0;31m         \u001b[0;32mreturn\u001b[0m \u001b[0mfib\u001b[0m\u001b[0;34m(\u001b[0m\u001b[0mn\u001b[0m\u001b[0;34m-\u001b[0m\u001b[0;36m1\u001b[0m\u001b[0;34m)\u001b[0m \u001b[0;34m+\u001b[0m \u001b[0mfib\u001b[0m\u001b[0;34m(\u001b[0m\u001b[0mn\u001b[0m\u001b[0;34m-\u001b[0m\u001b[0;36m2\u001b[0m\u001b[0;34m)\u001b[0m\u001b[0;34m\u001b[0m\u001b[0;34m\u001b[0m\u001b[0m\n\u001b[0m",
            "\u001b[0;32m<ipython-input-71-2293569d163a>\u001b[0m in \u001b[0;36mfib\u001b[0;34m(n)\u001b[0m\n\u001b[1;32m      4\u001b[0m         \u001b[0;32mreturn\u001b[0m \u001b[0mn\u001b[0m\u001b[0;34m\u001b[0m\u001b[0;34m\u001b[0m\u001b[0m\n\u001b[1;32m      5\u001b[0m     \u001b[0;32melse\u001b[0m\u001b[0;34m:\u001b[0m\u001b[0;34m\u001b[0m\u001b[0;34m\u001b[0m\u001b[0m\n\u001b[0;32m----> 6\u001b[0;31m         \u001b[0;32mreturn\u001b[0m \u001b[0mfib\u001b[0m\u001b[0;34m(\u001b[0m\u001b[0mn\u001b[0m\u001b[0;34m-\u001b[0m\u001b[0;36m1\u001b[0m\u001b[0;34m)\u001b[0m \u001b[0;34m+\u001b[0m \u001b[0mfib\u001b[0m\u001b[0;34m(\u001b[0m\u001b[0mn\u001b[0m\u001b[0;34m-\u001b[0m\u001b[0;36m2\u001b[0m\u001b[0;34m)\u001b[0m\u001b[0;34m\u001b[0m\u001b[0;34m\u001b[0m\u001b[0m\n\u001b[0m",
            "\u001b[0;32m<ipython-input-71-2293569d163a>\u001b[0m in \u001b[0;36mfib\u001b[0;34m(n)\u001b[0m\n\u001b[1;32m      4\u001b[0m         \u001b[0;32mreturn\u001b[0m \u001b[0mn\u001b[0m\u001b[0;34m\u001b[0m\u001b[0;34m\u001b[0m\u001b[0m\n\u001b[1;32m      5\u001b[0m     \u001b[0;32melse\u001b[0m\u001b[0;34m:\u001b[0m\u001b[0;34m\u001b[0m\u001b[0;34m\u001b[0m\u001b[0m\n\u001b[0;32m----> 6\u001b[0;31m         \u001b[0;32mreturn\u001b[0m \u001b[0mfib\u001b[0m\u001b[0;34m(\u001b[0m\u001b[0mn\u001b[0m\u001b[0;34m-\u001b[0m\u001b[0;36m1\u001b[0m\u001b[0;34m)\u001b[0m \u001b[0;34m+\u001b[0m \u001b[0mfib\u001b[0m\u001b[0;34m(\u001b[0m\u001b[0mn\u001b[0m\u001b[0;34m-\u001b[0m\u001b[0;36m2\u001b[0m\u001b[0;34m)\u001b[0m\u001b[0;34m\u001b[0m\u001b[0;34m\u001b[0m\u001b[0m\n\u001b[0m",
            "\u001b[0;32m<ipython-input-71-2293569d163a>\u001b[0m in \u001b[0;36mfib\u001b[0;34m(n)\u001b[0m\n\u001b[1;32m      4\u001b[0m         \u001b[0;32mreturn\u001b[0m \u001b[0mn\u001b[0m\u001b[0;34m\u001b[0m\u001b[0;34m\u001b[0m\u001b[0m\n\u001b[1;32m      5\u001b[0m     \u001b[0;32melse\u001b[0m\u001b[0;34m:\u001b[0m\u001b[0;34m\u001b[0m\u001b[0;34m\u001b[0m\u001b[0m\n\u001b[0;32m----> 6\u001b[0;31m         \u001b[0;32mreturn\u001b[0m \u001b[0mfib\u001b[0m\u001b[0;34m(\u001b[0m\u001b[0mn\u001b[0m\u001b[0;34m-\u001b[0m\u001b[0;36m1\u001b[0m\u001b[0;34m)\u001b[0m \u001b[0;34m+\u001b[0m \u001b[0mfib\u001b[0m\u001b[0;34m(\u001b[0m\u001b[0mn\u001b[0m\u001b[0;34m-\u001b[0m\u001b[0;36m2\u001b[0m\u001b[0;34m)\u001b[0m\u001b[0;34m\u001b[0m\u001b[0;34m\u001b[0m\u001b[0m\n\u001b[0m",
            "\u001b[0;32m<ipython-input-71-2293569d163a>\u001b[0m in \u001b[0;36mfib\u001b[0;34m(n)\u001b[0m\n\u001b[1;32m      4\u001b[0m         \u001b[0;32mreturn\u001b[0m \u001b[0mn\u001b[0m\u001b[0;34m\u001b[0m\u001b[0;34m\u001b[0m\u001b[0m\n\u001b[1;32m      5\u001b[0m     \u001b[0;32melse\u001b[0m\u001b[0;34m:\u001b[0m\u001b[0;34m\u001b[0m\u001b[0;34m\u001b[0m\u001b[0m\n\u001b[0;32m----> 6\u001b[0;31m         \u001b[0;32mreturn\u001b[0m \u001b[0mfib\u001b[0m\u001b[0;34m(\u001b[0m\u001b[0mn\u001b[0m\u001b[0;34m-\u001b[0m\u001b[0;36m1\u001b[0m\u001b[0;34m)\u001b[0m \u001b[0;34m+\u001b[0m \u001b[0mfib\u001b[0m\u001b[0;34m(\u001b[0m\u001b[0mn\u001b[0m\u001b[0;34m-\u001b[0m\u001b[0;36m2\u001b[0m\u001b[0;34m)\u001b[0m\u001b[0;34m\u001b[0m\u001b[0;34m\u001b[0m\u001b[0m\n\u001b[0m",
            "\u001b[0;32m<ipython-input-71-2293569d163a>\u001b[0m in \u001b[0;36mfib\u001b[0;34m(n)\u001b[0m\n\u001b[1;32m      4\u001b[0m         \u001b[0;32mreturn\u001b[0m \u001b[0mn\u001b[0m\u001b[0;34m\u001b[0m\u001b[0;34m\u001b[0m\u001b[0m\n\u001b[1;32m      5\u001b[0m     \u001b[0;32melse\u001b[0m\u001b[0;34m:\u001b[0m\u001b[0;34m\u001b[0m\u001b[0;34m\u001b[0m\u001b[0m\n\u001b[0;32m----> 6\u001b[0;31m         \u001b[0;32mreturn\u001b[0m \u001b[0mfib\u001b[0m\u001b[0;34m(\u001b[0m\u001b[0mn\u001b[0m\u001b[0;34m-\u001b[0m\u001b[0;36m1\u001b[0m\u001b[0;34m)\u001b[0m \u001b[0;34m+\u001b[0m \u001b[0mfib\u001b[0m\u001b[0;34m(\u001b[0m\u001b[0mn\u001b[0m\u001b[0;34m-\u001b[0m\u001b[0;36m2\u001b[0m\u001b[0;34m)\u001b[0m\u001b[0;34m\u001b[0m\u001b[0;34m\u001b[0m\u001b[0m\n\u001b[0m",
            "\u001b[0;32m<ipython-input-71-2293569d163a>\u001b[0m in \u001b[0;36mfib\u001b[0;34m(n)\u001b[0m\n\u001b[1;32m      4\u001b[0m         \u001b[0;32mreturn\u001b[0m \u001b[0mn\u001b[0m\u001b[0;34m\u001b[0m\u001b[0;34m\u001b[0m\u001b[0m\n\u001b[1;32m      5\u001b[0m     \u001b[0;32melse\u001b[0m\u001b[0;34m:\u001b[0m\u001b[0;34m\u001b[0m\u001b[0;34m\u001b[0m\u001b[0m\n\u001b[0;32m----> 6\u001b[0;31m         \u001b[0;32mreturn\u001b[0m \u001b[0mfib\u001b[0m\u001b[0;34m(\u001b[0m\u001b[0mn\u001b[0m\u001b[0;34m-\u001b[0m\u001b[0;36m1\u001b[0m\u001b[0;34m)\u001b[0m \u001b[0;34m+\u001b[0m \u001b[0mfib\u001b[0m\u001b[0;34m(\u001b[0m\u001b[0mn\u001b[0m\u001b[0;34m-\u001b[0m\u001b[0;36m2\u001b[0m\u001b[0;34m)\u001b[0m\u001b[0;34m\u001b[0m\u001b[0;34m\u001b[0m\u001b[0m\n\u001b[0m",
            "\u001b[0;32m<ipython-input-71-2293569d163a>\u001b[0m in \u001b[0;36mfib\u001b[0;34m(n)\u001b[0m\n\u001b[1;32m      4\u001b[0m         \u001b[0;32mreturn\u001b[0m \u001b[0mn\u001b[0m\u001b[0;34m\u001b[0m\u001b[0;34m\u001b[0m\u001b[0m\n\u001b[1;32m      5\u001b[0m     \u001b[0;32melse\u001b[0m\u001b[0;34m:\u001b[0m\u001b[0;34m\u001b[0m\u001b[0;34m\u001b[0m\u001b[0m\n\u001b[0;32m----> 6\u001b[0;31m         \u001b[0;32mreturn\u001b[0m \u001b[0mfib\u001b[0m\u001b[0;34m(\u001b[0m\u001b[0mn\u001b[0m\u001b[0;34m-\u001b[0m\u001b[0;36m1\u001b[0m\u001b[0;34m)\u001b[0m \u001b[0;34m+\u001b[0m \u001b[0mfib\u001b[0m\u001b[0;34m(\u001b[0m\u001b[0mn\u001b[0m\u001b[0;34m-\u001b[0m\u001b[0;36m2\u001b[0m\u001b[0;34m)\u001b[0m\u001b[0;34m\u001b[0m\u001b[0;34m\u001b[0m\u001b[0m\n\u001b[0m",
            "\u001b[0;32m<ipython-input-71-2293569d163a>\u001b[0m in \u001b[0;36mfib\u001b[0;34m(n)\u001b[0m\n\u001b[1;32m      4\u001b[0m         \u001b[0;32mreturn\u001b[0m \u001b[0mn\u001b[0m\u001b[0;34m\u001b[0m\u001b[0;34m\u001b[0m\u001b[0m\n\u001b[1;32m      5\u001b[0m     \u001b[0;32melse\u001b[0m\u001b[0;34m:\u001b[0m\u001b[0;34m\u001b[0m\u001b[0;34m\u001b[0m\u001b[0m\n\u001b[0;32m----> 6\u001b[0;31m         \u001b[0;32mreturn\u001b[0m \u001b[0mfib\u001b[0m\u001b[0;34m(\u001b[0m\u001b[0mn\u001b[0m\u001b[0;34m-\u001b[0m\u001b[0;36m1\u001b[0m\u001b[0;34m)\u001b[0m \u001b[0;34m+\u001b[0m \u001b[0mfib\u001b[0m\u001b[0;34m(\u001b[0m\u001b[0mn\u001b[0m\u001b[0;34m-\u001b[0m\u001b[0;36m2\u001b[0m\u001b[0;34m)\u001b[0m\u001b[0;34m\u001b[0m\u001b[0;34m\u001b[0m\u001b[0m\n\u001b[0m",
            "\u001b[0;32m<ipython-input-71-2293569d163a>\u001b[0m in \u001b[0;36mfib\u001b[0;34m(n)\u001b[0m\n\u001b[1;32m      4\u001b[0m         \u001b[0;32mreturn\u001b[0m \u001b[0mn\u001b[0m\u001b[0;34m\u001b[0m\u001b[0;34m\u001b[0m\u001b[0m\n\u001b[1;32m      5\u001b[0m     \u001b[0;32melse\u001b[0m\u001b[0;34m:\u001b[0m\u001b[0;34m\u001b[0m\u001b[0;34m\u001b[0m\u001b[0m\n\u001b[0;32m----> 6\u001b[0;31m         \u001b[0;32mreturn\u001b[0m \u001b[0mfib\u001b[0m\u001b[0;34m(\u001b[0m\u001b[0mn\u001b[0m\u001b[0;34m-\u001b[0m\u001b[0;36m1\u001b[0m\u001b[0;34m)\u001b[0m \u001b[0;34m+\u001b[0m \u001b[0mfib\u001b[0m\u001b[0;34m(\u001b[0m\u001b[0mn\u001b[0m\u001b[0;34m-\u001b[0m\u001b[0;36m2\u001b[0m\u001b[0;34m)\u001b[0m\u001b[0;34m\u001b[0m\u001b[0;34m\u001b[0m\u001b[0m\n\u001b[0m",
            "\u001b[0;32m<ipython-input-71-2293569d163a>\u001b[0m in \u001b[0;36mfib\u001b[0;34m(n)\u001b[0m\n\u001b[1;32m      4\u001b[0m         \u001b[0;32mreturn\u001b[0m \u001b[0mn\u001b[0m\u001b[0;34m\u001b[0m\u001b[0;34m\u001b[0m\u001b[0m\n\u001b[1;32m      5\u001b[0m     \u001b[0;32melse\u001b[0m\u001b[0;34m:\u001b[0m\u001b[0;34m\u001b[0m\u001b[0;34m\u001b[0m\u001b[0m\n\u001b[0;32m----> 6\u001b[0;31m         \u001b[0;32mreturn\u001b[0m \u001b[0mfib\u001b[0m\u001b[0;34m(\u001b[0m\u001b[0mn\u001b[0m\u001b[0;34m-\u001b[0m\u001b[0;36m1\u001b[0m\u001b[0;34m)\u001b[0m \u001b[0;34m+\u001b[0m \u001b[0mfib\u001b[0m\u001b[0;34m(\u001b[0m\u001b[0mn\u001b[0m\u001b[0;34m-\u001b[0m\u001b[0;36m2\u001b[0m\u001b[0;34m)\u001b[0m\u001b[0;34m\u001b[0m\u001b[0;34m\u001b[0m\u001b[0m\n\u001b[0m",
            "\u001b[0;32m<ipython-input-71-2293569d163a>\u001b[0m in \u001b[0;36mfib\u001b[0;34m(n)\u001b[0m\n\u001b[1;32m      4\u001b[0m         \u001b[0;32mreturn\u001b[0m \u001b[0mn\u001b[0m\u001b[0;34m\u001b[0m\u001b[0;34m\u001b[0m\u001b[0m\n\u001b[1;32m      5\u001b[0m     \u001b[0;32melse\u001b[0m\u001b[0;34m:\u001b[0m\u001b[0;34m\u001b[0m\u001b[0;34m\u001b[0m\u001b[0m\n\u001b[0;32m----> 6\u001b[0;31m         \u001b[0;32mreturn\u001b[0m \u001b[0mfib\u001b[0m\u001b[0;34m(\u001b[0m\u001b[0mn\u001b[0m\u001b[0;34m-\u001b[0m\u001b[0;36m1\u001b[0m\u001b[0;34m)\u001b[0m \u001b[0;34m+\u001b[0m \u001b[0mfib\u001b[0m\u001b[0;34m(\u001b[0m\u001b[0mn\u001b[0m\u001b[0;34m-\u001b[0m\u001b[0;36m2\u001b[0m\u001b[0;34m)\u001b[0m\u001b[0;34m\u001b[0m\u001b[0;34m\u001b[0m\u001b[0m\n\u001b[0m",
            "\u001b[0;32m<ipython-input-71-2293569d163a>\u001b[0m in \u001b[0;36mfib\u001b[0;34m(n)\u001b[0m\n\u001b[1;32m      4\u001b[0m         \u001b[0;32mreturn\u001b[0m \u001b[0mn\u001b[0m\u001b[0;34m\u001b[0m\u001b[0;34m\u001b[0m\u001b[0m\n\u001b[1;32m      5\u001b[0m     \u001b[0;32melse\u001b[0m\u001b[0;34m:\u001b[0m\u001b[0;34m\u001b[0m\u001b[0;34m\u001b[0m\u001b[0m\n\u001b[0;32m----> 6\u001b[0;31m         \u001b[0;32mreturn\u001b[0m \u001b[0mfib\u001b[0m\u001b[0;34m(\u001b[0m\u001b[0mn\u001b[0m\u001b[0;34m-\u001b[0m\u001b[0;36m1\u001b[0m\u001b[0;34m)\u001b[0m \u001b[0;34m+\u001b[0m \u001b[0mfib\u001b[0m\u001b[0;34m(\u001b[0m\u001b[0mn\u001b[0m\u001b[0;34m-\u001b[0m\u001b[0;36m2\u001b[0m\u001b[0;34m)\u001b[0m\u001b[0;34m\u001b[0m\u001b[0;34m\u001b[0m\u001b[0m\n\u001b[0m",
            "\u001b[0;32m<ipython-input-71-2293569d163a>\u001b[0m in \u001b[0;36mfib\u001b[0;34m(n)\u001b[0m\n\u001b[1;32m      4\u001b[0m         \u001b[0;32mreturn\u001b[0m \u001b[0mn\u001b[0m\u001b[0;34m\u001b[0m\u001b[0;34m\u001b[0m\u001b[0m\n\u001b[1;32m      5\u001b[0m     \u001b[0;32melse\u001b[0m\u001b[0;34m:\u001b[0m\u001b[0;34m\u001b[0m\u001b[0;34m\u001b[0m\u001b[0m\n\u001b[0;32m----> 6\u001b[0;31m         \u001b[0;32mreturn\u001b[0m \u001b[0mfib\u001b[0m\u001b[0;34m(\u001b[0m\u001b[0mn\u001b[0m\u001b[0;34m-\u001b[0m\u001b[0;36m1\u001b[0m\u001b[0;34m)\u001b[0m \u001b[0;34m+\u001b[0m \u001b[0mfib\u001b[0m\u001b[0;34m(\u001b[0m\u001b[0mn\u001b[0m\u001b[0;34m-\u001b[0m\u001b[0;36m2\u001b[0m\u001b[0;34m)\u001b[0m\u001b[0;34m\u001b[0m\u001b[0;34m\u001b[0m\u001b[0m\n\u001b[0m",
            "\u001b[0;32m<ipython-input-71-2293569d163a>\u001b[0m in \u001b[0;36mfib\u001b[0;34m(n)\u001b[0m\n\u001b[1;32m      4\u001b[0m         \u001b[0;32mreturn\u001b[0m \u001b[0mn\u001b[0m\u001b[0;34m\u001b[0m\u001b[0;34m\u001b[0m\u001b[0m\n\u001b[1;32m      5\u001b[0m     \u001b[0;32melse\u001b[0m\u001b[0;34m:\u001b[0m\u001b[0;34m\u001b[0m\u001b[0;34m\u001b[0m\u001b[0m\n\u001b[0;32m----> 6\u001b[0;31m         \u001b[0;32mreturn\u001b[0m \u001b[0mfib\u001b[0m\u001b[0;34m(\u001b[0m\u001b[0mn\u001b[0m\u001b[0;34m-\u001b[0m\u001b[0;36m1\u001b[0m\u001b[0;34m)\u001b[0m \u001b[0;34m+\u001b[0m \u001b[0mfib\u001b[0m\u001b[0;34m(\u001b[0m\u001b[0mn\u001b[0m\u001b[0;34m-\u001b[0m\u001b[0;36m2\u001b[0m\u001b[0;34m)\u001b[0m\u001b[0;34m\u001b[0m\u001b[0;34m\u001b[0m\u001b[0m\n\u001b[0m",
            "\u001b[0;32m<ipython-input-71-2293569d163a>\u001b[0m in \u001b[0;36mfib\u001b[0;34m(n)\u001b[0m\n\u001b[1;32m      4\u001b[0m         \u001b[0;32mreturn\u001b[0m \u001b[0mn\u001b[0m\u001b[0;34m\u001b[0m\u001b[0;34m\u001b[0m\u001b[0m\n\u001b[1;32m      5\u001b[0m     \u001b[0;32melse\u001b[0m\u001b[0;34m:\u001b[0m\u001b[0;34m\u001b[0m\u001b[0;34m\u001b[0m\u001b[0m\n\u001b[0;32m----> 6\u001b[0;31m         \u001b[0;32mreturn\u001b[0m \u001b[0mfib\u001b[0m\u001b[0;34m(\u001b[0m\u001b[0mn\u001b[0m\u001b[0;34m-\u001b[0m\u001b[0;36m1\u001b[0m\u001b[0;34m)\u001b[0m \u001b[0;34m+\u001b[0m \u001b[0mfib\u001b[0m\u001b[0;34m(\u001b[0m\u001b[0mn\u001b[0m\u001b[0;34m-\u001b[0m\u001b[0;36m2\u001b[0m\u001b[0;34m)\u001b[0m\u001b[0;34m\u001b[0m\u001b[0;34m\u001b[0m\u001b[0m\n\u001b[0m",
            "\u001b[0;32m<ipython-input-71-2293569d163a>\u001b[0m in \u001b[0;36mfib\u001b[0;34m(n)\u001b[0m\n\u001b[1;32m      4\u001b[0m         \u001b[0;32mreturn\u001b[0m \u001b[0mn\u001b[0m\u001b[0;34m\u001b[0m\u001b[0;34m\u001b[0m\u001b[0m\n\u001b[1;32m      5\u001b[0m     \u001b[0;32melse\u001b[0m\u001b[0;34m:\u001b[0m\u001b[0;34m\u001b[0m\u001b[0;34m\u001b[0m\u001b[0m\n\u001b[0;32m----> 6\u001b[0;31m         \u001b[0;32mreturn\u001b[0m \u001b[0mfib\u001b[0m\u001b[0;34m(\u001b[0m\u001b[0mn\u001b[0m\u001b[0;34m-\u001b[0m\u001b[0;36m1\u001b[0m\u001b[0;34m)\u001b[0m \u001b[0;34m+\u001b[0m \u001b[0mfib\u001b[0m\u001b[0;34m(\u001b[0m\u001b[0mn\u001b[0m\u001b[0;34m-\u001b[0m\u001b[0;36m2\u001b[0m\u001b[0;34m)\u001b[0m\u001b[0;34m\u001b[0m\u001b[0;34m\u001b[0m\u001b[0m\n\u001b[0m",
            "\u001b[0;32m<ipython-input-71-2293569d163a>\u001b[0m in \u001b[0;36mfib\u001b[0;34m(n)\u001b[0m\n\u001b[1;32m      4\u001b[0m         \u001b[0;32mreturn\u001b[0m \u001b[0mn\u001b[0m\u001b[0;34m\u001b[0m\u001b[0;34m\u001b[0m\u001b[0m\n\u001b[1;32m      5\u001b[0m     \u001b[0;32melse\u001b[0m\u001b[0;34m:\u001b[0m\u001b[0;34m\u001b[0m\u001b[0;34m\u001b[0m\u001b[0m\n\u001b[0;32m----> 6\u001b[0;31m         \u001b[0;32mreturn\u001b[0m \u001b[0mfib\u001b[0m\u001b[0;34m(\u001b[0m\u001b[0mn\u001b[0m\u001b[0;34m-\u001b[0m\u001b[0;36m1\u001b[0m\u001b[0;34m)\u001b[0m \u001b[0;34m+\u001b[0m \u001b[0mfib\u001b[0m\u001b[0;34m(\u001b[0m\u001b[0mn\u001b[0m\u001b[0;34m-\u001b[0m\u001b[0;36m2\u001b[0m\u001b[0;34m)\u001b[0m\u001b[0;34m\u001b[0m\u001b[0;34m\u001b[0m\u001b[0m\n\u001b[0m",
            "\u001b[0;32m<ipython-input-71-2293569d163a>\u001b[0m in \u001b[0;36mfib\u001b[0;34m(n)\u001b[0m\n\u001b[1;32m      4\u001b[0m         \u001b[0;32mreturn\u001b[0m \u001b[0mn\u001b[0m\u001b[0;34m\u001b[0m\u001b[0;34m\u001b[0m\u001b[0m\n\u001b[1;32m      5\u001b[0m     \u001b[0;32melse\u001b[0m\u001b[0;34m:\u001b[0m\u001b[0;34m\u001b[0m\u001b[0;34m\u001b[0m\u001b[0m\n\u001b[0;32m----> 6\u001b[0;31m         \u001b[0;32mreturn\u001b[0m \u001b[0mfib\u001b[0m\u001b[0;34m(\u001b[0m\u001b[0mn\u001b[0m\u001b[0;34m-\u001b[0m\u001b[0;36m1\u001b[0m\u001b[0;34m)\u001b[0m \u001b[0;34m+\u001b[0m \u001b[0mfib\u001b[0m\u001b[0;34m(\u001b[0m\u001b[0mn\u001b[0m\u001b[0;34m-\u001b[0m\u001b[0;36m2\u001b[0m\u001b[0;34m)\u001b[0m\u001b[0;34m\u001b[0m\u001b[0;34m\u001b[0m\u001b[0m\n\u001b[0m",
            "\u001b[0;32m<ipython-input-71-2293569d163a>\u001b[0m in \u001b[0;36mfib\u001b[0;34m(n)\u001b[0m\n\u001b[1;32m      4\u001b[0m         \u001b[0;32mreturn\u001b[0m \u001b[0mn\u001b[0m\u001b[0;34m\u001b[0m\u001b[0;34m\u001b[0m\u001b[0m\n\u001b[1;32m      5\u001b[0m     \u001b[0;32melse\u001b[0m\u001b[0;34m:\u001b[0m\u001b[0;34m\u001b[0m\u001b[0;34m\u001b[0m\u001b[0m\n\u001b[0;32m----> 6\u001b[0;31m         \u001b[0;32mreturn\u001b[0m \u001b[0mfib\u001b[0m\u001b[0;34m(\u001b[0m\u001b[0mn\u001b[0m\u001b[0;34m-\u001b[0m\u001b[0;36m1\u001b[0m\u001b[0;34m)\u001b[0m \u001b[0;34m+\u001b[0m \u001b[0mfib\u001b[0m\u001b[0;34m(\u001b[0m\u001b[0mn\u001b[0m\u001b[0;34m-\u001b[0m\u001b[0;36m2\u001b[0m\u001b[0;34m)\u001b[0m\u001b[0;34m\u001b[0m\u001b[0;34m\u001b[0m\u001b[0m\n\u001b[0m",
            "\u001b[0;32m<ipython-input-71-2293569d163a>\u001b[0m in \u001b[0;36mfib\u001b[0;34m(n)\u001b[0m\n\u001b[1;32m      4\u001b[0m         \u001b[0;32mreturn\u001b[0m \u001b[0mn\u001b[0m\u001b[0;34m\u001b[0m\u001b[0;34m\u001b[0m\u001b[0m\n\u001b[1;32m      5\u001b[0m     \u001b[0;32melse\u001b[0m\u001b[0;34m:\u001b[0m\u001b[0;34m\u001b[0m\u001b[0;34m\u001b[0m\u001b[0m\n\u001b[0;32m----> 6\u001b[0;31m         \u001b[0;32mreturn\u001b[0m \u001b[0mfib\u001b[0m\u001b[0;34m(\u001b[0m\u001b[0mn\u001b[0m\u001b[0;34m-\u001b[0m\u001b[0;36m1\u001b[0m\u001b[0;34m)\u001b[0m \u001b[0;34m+\u001b[0m \u001b[0mfib\u001b[0m\u001b[0;34m(\u001b[0m\u001b[0mn\u001b[0m\u001b[0;34m-\u001b[0m\u001b[0;36m2\u001b[0m\u001b[0;34m)\u001b[0m\u001b[0;34m\u001b[0m\u001b[0;34m\u001b[0m\u001b[0m\n\u001b[0m",
            "\u001b[0;32m<ipython-input-71-2293569d163a>\u001b[0m in \u001b[0;36mfib\u001b[0;34m(n)\u001b[0m\n\u001b[1;32m      4\u001b[0m         \u001b[0;32mreturn\u001b[0m \u001b[0mn\u001b[0m\u001b[0;34m\u001b[0m\u001b[0;34m\u001b[0m\u001b[0m\n\u001b[1;32m      5\u001b[0m     \u001b[0;32melse\u001b[0m\u001b[0;34m:\u001b[0m\u001b[0;34m\u001b[0m\u001b[0;34m\u001b[0m\u001b[0m\n\u001b[0;32m----> 6\u001b[0;31m         \u001b[0;32mreturn\u001b[0m \u001b[0mfib\u001b[0m\u001b[0;34m(\u001b[0m\u001b[0mn\u001b[0m\u001b[0;34m-\u001b[0m\u001b[0;36m1\u001b[0m\u001b[0;34m)\u001b[0m \u001b[0;34m+\u001b[0m \u001b[0mfib\u001b[0m\u001b[0;34m(\u001b[0m\u001b[0mn\u001b[0m\u001b[0;34m-\u001b[0m\u001b[0;36m2\u001b[0m\u001b[0;34m)\u001b[0m\u001b[0;34m\u001b[0m\u001b[0;34m\u001b[0m\u001b[0m\n\u001b[0m",
            "\u001b[0;32m<ipython-input-71-2293569d163a>\u001b[0m in \u001b[0;36mfib\u001b[0;34m(n)\u001b[0m\n\u001b[1;32m      4\u001b[0m         \u001b[0;32mreturn\u001b[0m \u001b[0mn\u001b[0m\u001b[0;34m\u001b[0m\u001b[0;34m\u001b[0m\u001b[0m\n\u001b[1;32m      5\u001b[0m     \u001b[0;32melse\u001b[0m\u001b[0;34m:\u001b[0m\u001b[0;34m\u001b[0m\u001b[0;34m\u001b[0m\u001b[0m\n\u001b[0;32m----> 6\u001b[0;31m         \u001b[0;32mreturn\u001b[0m \u001b[0mfib\u001b[0m\u001b[0;34m(\u001b[0m\u001b[0mn\u001b[0m\u001b[0;34m-\u001b[0m\u001b[0;36m1\u001b[0m\u001b[0;34m)\u001b[0m \u001b[0;34m+\u001b[0m \u001b[0mfib\u001b[0m\u001b[0;34m(\u001b[0m\u001b[0mn\u001b[0m\u001b[0;34m-\u001b[0m\u001b[0;36m2\u001b[0m\u001b[0;34m)\u001b[0m\u001b[0;34m\u001b[0m\u001b[0;34m\u001b[0m\u001b[0m\n\u001b[0m",
            "\u001b[0;32m<ipython-input-71-2293569d163a>\u001b[0m in \u001b[0;36mfib\u001b[0;34m(n)\u001b[0m\n\u001b[1;32m      4\u001b[0m         \u001b[0;32mreturn\u001b[0m \u001b[0mn\u001b[0m\u001b[0;34m\u001b[0m\u001b[0;34m\u001b[0m\u001b[0m\n\u001b[1;32m      5\u001b[0m     \u001b[0;32melse\u001b[0m\u001b[0;34m:\u001b[0m\u001b[0;34m\u001b[0m\u001b[0;34m\u001b[0m\u001b[0m\n\u001b[0;32m----> 6\u001b[0;31m         \u001b[0;32mreturn\u001b[0m \u001b[0mfib\u001b[0m\u001b[0;34m(\u001b[0m\u001b[0mn\u001b[0m\u001b[0;34m-\u001b[0m\u001b[0;36m1\u001b[0m\u001b[0;34m)\u001b[0m \u001b[0;34m+\u001b[0m \u001b[0mfib\u001b[0m\u001b[0;34m(\u001b[0m\u001b[0mn\u001b[0m\u001b[0;34m-\u001b[0m\u001b[0;36m2\u001b[0m\u001b[0;34m)\u001b[0m\u001b[0;34m\u001b[0m\u001b[0;34m\u001b[0m\u001b[0m\n\u001b[0m",
            "\u001b[0;32m<ipython-input-71-2293569d163a>\u001b[0m in \u001b[0;36mfib\u001b[0;34m(n)\u001b[0m\n\u001b[1;32m      4\u001b[0m         \u001b[0;32mreturn\u001b[0m \u001b[0mn\u001b[0m\u001b[0;34m\u001b[0m\u001b[0;34m\u001b[0m\u001b[0m\n\u001b[1;32m      5\u001b[0m     \u001b[0;32melse\u001b[0m\u001b[0;34m:\u001b[0m\u001b[0;34m\u001b[0m\u001b[0;34m\u001b[0m\u001b[0m\n\u001b[0;32m----> 6\u001b[0;31m         \u001b[0;32mreturn\u001b[0m \u001b[0mfib\u001b[0m\u001b[0;34m(\u001b[0m\u001b[0mn\u001b[0m\u001b[0;34m-\u001b[0m\u001b[0;36m1\u001b[0m\u001b[0;34m)\u001b[0m \u001b[0;34m+\u001b[0m \u001b[0mfib\u001b[0m\u001b[0;34m(\u001b[0m\u001b[0mn\u001b[0m\u001b[0;34m-\u001b[0m\u001b[0;36m2\u001b[0m\u001b[0;34m)\u001b[0m\u001b[0;34m\u001b[0m\u001b[0;34m\u001b[0m\u001b[0m\n\u001b[0m",
            "\u001b[0;32m<ipython-input-71-2293569d163a>\u001b[0m in \u001b[0;36mfib\u001b[0;34m(n)\u001b[0m\n\u001b[1;32m      4\u001b[0m         \u001b[0;32mreturn\u001b[0m \u001b[0mn\u001b[0m\u001b[0;34m\u001b[0m\u001b[0;34m\u001b[0m\u001b[0m\n\u001b[1;32m      5\u001b[0m     \u001b[0;32melse\u001b[0m\u001b[0;34m:\u001b[0m\u001b[0;34m\u001b[0m\u001b[0;34m\u001b[0m\u001b[0m\n\u001b[0;32m----> 6\u001b[0;31m         \u001b[0;32mreturn\u001b[0m \u001b[0mfib\u001b[0m\u001b[0;34m(\u001b[0m\u001b[0mn\u001b[0m\u001b[0;34m-\u001b[0m\u001b[0;36m1\u001b[0m\u001b[0;34m)\u001b[0m \u001b[0;34m+\u001b[0m \u001b[0mfib\u001b[0m\u001b[0;34m(\u001b[0m\u001b[0mn\u001b[0m\u001b[0;34m-\u001b[0m\u001b[0;36m2\u001b[0m\u001b[0;34m)\u001b[0m\u001b[0;34m\u001b[0m\u001b[0;34m\u001b[0m\u001b[0m\n\u001b[0m",
            "\u001b[0;32m<ipython-input-71-2293569d163a>\u001b[0m in \u001b[0;36mfib\u001b[0;34m(n)\u001b[0m\n\u001b[1;32m      4\u001b[0m         \u001b[0;32mreturn\u001b[0m \u001b[0mn\u001b[0m\u001b[0;34m\u001b[0m\u001b[0;34m\u001b[0m\u001b[0m\n\u001b[1;32m      5\u001b[0m     \u001b[0;32melse\u001b[0m\u001b[0;34m:\u001b[0m\u001b[0;34m\u001b[0m\u001b[0;34m\u001b[0m\u001b[0m\n\u001b[0;32m----> 6\u001b[0;31m         \u001b[0;32mreturn\u001b[0m \u001b[0mfib\u001b[0m\u001b[0;34m(\u001b[0m\u001b[0mn\u001b[0m\u001b[0;34m-\u001b[0m\u001b[0;36m1\u001b[0m\u001b[0;34m)\u001b[0m \u001b[0;34m+\u001b[0m \u001b[0mfib\u001b[0m\u001b[0;34m(\u001b[0m\u001b[0mn\u001b[0m\u001b[0;34m-\u001b[0m\u001b[0;36m2\u001b[0m\u001b[0;34m)\u001b[0m\u001b[0;34m\u001b[0m\u001b[0;34m\u001b[0m\u001b[0m\n\u001b[0m",
            "\u001b[0;32m<ipython-input-71-2293569d163a>\u001b[0m in \u001b[0;36mfib\u001b[0;34m(n)\u001b[0m\n\u001b[1;32m      4\u001b[0m         \u001b[0;32mreturn\u001b[0m \u001b[0mn\u001b[0m\u001b[0;34m\u001b[0m\u001b[0;34m\u001b[0m\u001b[0m\n\u001b[1;32m      5\u001b[0m     \u001b[0;32melse\u001b[0m\u001b[0;34m:\u001b[0m\u001b[0;34m\u001b[0m\u001b[0;34m\u001b[0m\u001b[0m\n\u001b[0;32m----> 6\u001b[0;31m         \u001b[0;32mreturn\u001b[0m \u001b[0mfib\u001b[0m\u001b[0;34m(\u001b[0m\u001b[0mn\u001b[0m\u001b[0;34m-\u001b[0m\u001b[0;36m1\u001b[0m\u001b[0;34m)\u001b[0m \u001b[0;34m+\u001b[0m \u001b[0mfib\u001b[0m\u001b[0;34m(\u001b[0m\u001b[0mn\u001b[0m\u001b[0;34m-\u001b[0m\u001b[0;36m2\u001b[0m\u001b[0;34m)\u001b[0m\u001b[0;34m\u001b[0m\u001b[0;34m\u001b[0m\u001b[0m\n\u001b[0m",
            "\u001b[0;32m<ipython-input-71-2293569d163a>\u001b[0m in \u001b[0;36mfib\u001b[0;34m(n)\u001b[0m\n\u001b[1;32m      4\u001b[0m         \u001b[0;32mreturn\u001b[0m \u001b[0mn\u001b[0m\u001b[0;34m\u001b[0m\u001b[0;34m\u001b[0m\u001b[0m\n\u001b[1;32m      5\u001b[0m     \u001b[0;32melse\u001b[0m\u001b[0;34m:\u001b[0m\u001b[0;34m\u001b[0m\u001b[0;34m\u001b[0m\u001b[0m\n\u001b[0;32m----> 6\u001b[0;31m         \u001b[0;32mreturn\u001b[0m \u001b[0mfib\u001b[0m\u001b[0;34m(\u001b[0m\u001b[0mn\u001b[0m\u001b[0;34m-\u001b[0m\u001b[0;36m1\u001b[0m\u001b[0;34m)\u001b[0m \u001b[0;34m+\u001b[0m \u001b[0mfib\u001b[0m\u001b[0;34m(\u001b[0m\u001b[0mn\u001b[0m\u001b[0;34m-\u001b[0m\u001b[0;36m2\u001b[0m\u001b[0;34m)\u001b[0m\u001b[0;34m\u001b[0m\u001b[0;34m\u001b[0m\u001b[0m\n\u001b[0m",
            "\u001b[0;32m<ipython-input-71-2293569d163a>\u001b[0m in \u001b[0;36mfib\u001b[0;34m(n)\u001b[0m\n\u001b[1;32m      4\u001b[0m         \u001b[0;32mreturn\u001b[0m \u001b[0mn\u001b[0m\u001b[0;34m\u001b[0m\u001b[0;34m\u001b[0m\u001b[0m\n\u001b[1;32m      5\u001b[0m     \u001b[0;32melse\u001b[0m\u001b[0;34m:\u001b[0m\u001b[0;34m\u001b[0m\u001b[0;34m\u001b[0m\u001b[0m\n\u001b[0;32m----> 6\u001b[0;31m         \u001b[0;32mreturn\u001b[0m \u001b[0mfib\u001b[0m\u001b[0;34m(\u001b[0m\u001b[0mn\u001b[0m\u001b[0;34m-\u001b[0m\u001b[0;36m1\u001b[0m\u001b[0;34m)\u001b[0m \u001b[0;34m+\u001b[0m \u001b[0mfib\u001b[0m\u001b[0;34m(\u001b[0m\u001b[0mn\u001b[0m\u001b[0;34m-\u001b[0m\u001b[0;36m2\u001b[0m\u001b[0;34m)\u001b[0m\u001b[0;34m\u001b[0m\u001b[0;34m\u001b[0m\u001b[0m\n\u001b[0m",
            "\u001b[0;32m<ipython-input-71-2293569d163a>\u001b[0m in \u001b[0;36mfib\u001b[0;34m(n)\u001b[0m\n\u001b[1;32m      4\u001b[0m         \u001b[0;32mreturn\u001b[0m \u001b[0mn\u001b[0m\u001b[0;34m\u001b[0m\u001b[0;34m\u001b[0m\u001b[0m\n\u001b[1;32m      5\u001b[0m     \u001b[0;32melse\u001b[0m\u001b[0;34m:\u001b[0m\u001b[0;34m\u001b[0m\u001b[0;34m\u001b[0m\u001b[0m\n\u001b[0;32m----> 6\u001b[0;31m         \u001b[0;32mreturn\u001b[0m \u001b[0mfib\u001b[0m\u001b[0;34m(\u001b[0m\u001b[0mn\u001b[0m\u001b[0;34m-\u001b[0m\u001b[0;36m1\u001b[0m\u001b[0;34m)\u001b[0m \u001b[0;34m+\u001b[0m \u001b[0mfib\u001b[0m\u001b[0;34m(\u001b[0m\u001b[0mn\u001b[0m\u001b[0;34m-\u001b[0m\u001b[0;36m2\u001b[0m\u001b[0;34m)\u001b[0m\u001b[0;34m\u001b[0m\u001b[0;34m\u001b[0m\u001b[0m\n\u001b[0m",
            "\u001b[0;32m<ipython-input-71-2293569d163a>\u001b[0m in \u001b[0;36mfib\u001b[0;34m(n)\u001b[0m\n\u001b[1;32m      4\u001b[0m         \u001b[0;32mreturn\u001b[0m \u001b[0mn\u001b[0m\u001b[0;34m\u001b[0m\u001b[0;34m\u001b[0m\u001b[0m\n\u001b[1;32m      5\u001b[0m     \u001b[0;32melse\u001b[0m\u001b[0;34m:\u001b[0m\u001b[0;34m\u001b[0m\u001b[0;34m\u001b[0m\u001b[0m\n\u001b[0;32m----> 6\u001b[0;31m         \u001b[0;32mreturn\u001b[0m \u001b[0mfib\u001b[0m\u001b[0;34m(\u001b[0m\u001b[0mn\u001b[0m\u001b[0;34m-\u001b[0m\u001b[0;36m1\u001b[0m\u001b[0;34m)\u001b[0m \u001b[0;34m+\u001b[0m \u001b[0mfib\u001b[0m\u001b[0;34m(\u001b[0m\u001b[0mn\u001b[0m\u001b[0;34m-\u001b[0m\u001b[0;36m2\u001b[0m\u001b[0;34m)\u001b[0m\u001b[0;34m\u001b[0m\u001b[0;34m\u001b[0m\u001b[0m\n\u001b[0m",
            "\u001b[0;32m<ipython-input-71-2293569d163a>\u001b[0m in \u001b[0;36mfib\u001b[0;34m(n)\u001b[0m\n\u001b[1;32m      4\u001b[0m         \u001b[0;32mreturn\u001b[0m \u001b[0mn\u001b[0m\u001b[0;34m\u001b[0m\u001b[0;34m\u001b[0m\u001b[0m\n\u001b[1;32m      5\u001b[0m     \u001b[0;32melse\u001b[0m\u001b[0;34m:\u001b[0m\u001b[0;34m\u001b[0m\u001b[0;34m\u001b[0m\u001b[0m\n\u001b[0;32m----> 6\u001b[0;31m         \u001b[0;32mreturn\u001b[0m \u001b[0mfib\u001b[0m\u001b[0;34m(\u001b[0m\u001b[0mn\u001b[0m\u001b[0;34m-\u001b[0m\u001b[0;36m1\u001b[0m\u001b[0;34m)\u001b[0m \u001b[0;34m+\u001b[0m \u001b[0mfib\u001b[0m\u001b[0;34m(\u001b[0m\u001b[0mn\u001b[0m\u001b[0;34m-\u001b[0m\u001b[0;36m2\u001b[0m\u001b[0;34m)\u001b[0m\u001b[0;34m\u001b[0m\u001b[0;34m\u001b[0m\u001b[0m\n\u001b[0m",
            "\u001b[0;32m<ipython-input-71-2293569d163a>\u001b[0m in \u001b[0;36mfib\u001b[0;34m(n)\u001b[0m\n\u001b[1;32m      4\u001b[0m         \u001b[0;32mreturn\u001b[0m \u001b[0mn\u001b[0m\u001b[0;34m\u001b[0m\u001b[0;34m\u001b[0m\u001b[0m\n\u001b[1;32m      5\u001b[0m     \u001b[0;32melse\u001b[0m\u001b[0;34m:\u001b[0m\u001b[0;34m\u001b[0m\u001b[0;34m\u001b[0m\u001b[0m\n\u001b[0;32m----> 6\u001b[0;31m         \u001b[0;32mreturn\u001b[0m \u001b[0mfib\u001b[0m\u001b[0;34m(\u001b[0m\u001b[0mn\u001b[0m\u001b[0;34m-\u001b[0m\u001b[0;36m1\u001b[0m\u001b[0;34m)\u001b[0m \u001b[0;34m+\u001b[0m \u001b[0mfib\u001b[0m\u001b[0;34m(\u001b[0m\u001b[0mn\u001b[0m\u001b[0;34m-\u001b[0m\u001b[0;36m2\u001b[0m\u001b[0;34m)\u001b[0m\u001b[0;34m\u001b[0m\u001b[0;34m\u001b[0m\u001b[0m\n\u001b[0m",
            "\u001b[0;32m<ipython-input-71-2293569d163a>\u001b[0m in \u001b[0;36mfib\u001b[0;34m(n)\u001b[0m\n\u001b[1;32m      4\u001b[0m         \u001b[0;32mreturn\u001b[0m \u001b[0mn\u001b[0m\u001b[0;34m\u001b[0m\u001b[0;34m\u001b[0m\u001b[0m\n\u001b[1;32m      5\u001b[0m     \u001b[0;32melse\u001b[0m\u001b[0;34m:\u001b[0m\u001b[0;34m\u001b[0m\u001b[0;34m\u001b[0m\u001b[0m\n\u001b[0;32m----> 6\u001b[0;31m         \u001b[0;32mreturn\u001b[0m \u001b[0mfib\u001b[0m\u001b[0;34m(\u001b[0m\u001b[0mn\u001b[0m\u001b[0;34m-\u001b[0m\u001b[0;36m1\u001b[0m\u001b[0;34m)\u001b[0m \u001b[0;34m+\u001b[0m \u001b[0mfib\u001b[0m\u001b[0;34m(\u001b[0m\u001b[0mn\u001b[0m\u001b[0;34m-\u001b[0m\u001b[0;36m2\u001b[0m\u001b[0;34m)\u001b[0m\u001b[0;34m\u001b[0m\u001b[0;34m\u001b[0m\u001b[0m\n\u001b[0m",
            "\u001b[0;32m<ipython-input-71-2293569d163a>\u001b[0m in \u001b[0;36mfib\u001b[0;34m(n)\u001b[0m\n\u001b[1;32m      4\u001b[0m         \u001b[0;32mreturn\u001b[0m \u001b[0mn\u001b[0m\u001b[0;34m\u001b[0m\u001b[0;34m\u001b[0m\u001b[0m\n\u001b[1;32m      5\u001b[0m     \u001b[0;32melse\u001b[0m\u001b[0;34m:\u001b[0m\u001b[0;34m\u001b[0m\u001b[0;34m\u001b[0m\u001b[0m\n\u001b[0;32m----> 6\u001b[0;31m         \u001b[0;32mreturn\u001b[0m \u001b[0mfib\u001b[0m\u001b[0;34m(\u001b[0m\u001b[0mn\u001b[0m\u001b[0;34m-\u001b[0m\u001b[0;36m1\u001b[0m\u001b[0;34m)\u001b[0m \u001b[0;34m+\u001b[0m \u001b[0mfib\u001b[0m\u001b[0;34m(\u001b[0m\u001b[0mn\u001b[0m\u001b[0;34m-\u001b[0m\u001b[0;36m2\u001b[0m\u001b[0;34m)\u001b[0m\u001b[0;34m\u001b[0m\u001b[0;34m\u001b[0m\u001b[0m\n\u001b[0m",
            "\u001b[0;32m<ipython-input-71-2293569d163a>\u001b[0m in \u001b[0;36mfib\u001b[0;34m(n)\u001b[0m\n\u001b[1;32m      4\u001b[0m         \u001b[0;32mreturn\u001b[0m \u001b[0mn\u001b[0m\u001b[0;34m\u001b[0m\u001b[0;34m\u001b[0m\u001b[0m\n\u001b[1;32m      5\u001b[0m     \u001b[0;32melse\u001b[0m\u001b[0;34m:\u001b[0m\u001b[0;34m\u001b[0m\u001b[0;34m\u001b[0m\u001b[0m\n\u001b[0;32m----> 6\u001b[0;31m         \u001b[0;32mreturn\u001b[0m \u001b[0mfib\u001b[0m\u001b[0;34m(\u001b[0m\u001b[0mn\u001b[0m\u001b[0;34m-\u001b[0m\u001b[0;36m1\u001b[0m\u001b[0;34m)\u001b[0m \u001b[0;34m+\u001b[0m \u001b[0mfib\u001b[0m\u001b[0;34m(\u001b[0m\u001b[0mn\u001b[0m\u001b[0;34m-\u001b[0m\u001b[0;36m2\u001b[0m\u001b[0;34m)\u001b[0m\u001b[0;34m\u001b[0m\u001b[0;34m\u001b[0m\u001b[0m\n\u001b[0m",
            "\u001b[0;32m<ipython-input-71-2293569d163a>\u001b[0m in \u001b[0;36mfib\u001b[0;34m(n)\u001b[0m\n\u001b[1;32m      4\u001b[0m         \u001b[0;32mreturn\u001b[0m \u001b[0mn\u001b[0m\u001b[0;34m\u001b[0m\u001b[0;34m\u001b[0m\u001b[0m\n\u001b[1;32m      5\u001b[0m     \u001b[0;32melse\u001b[0m\u001b[0;34m:\u001b[0m\u001b[0;34m\u001b[0m\u001b[0;34m\u001b[0m\u001b[0m\n\u001b[0;32m----> 6\u001b[0;31m         \u001b[0;32mreturn\u001b[0m \u001b[0mfib\u001b[0m\u001b[0;34m(\u001b[0m\u001b[0mn\u001b[0m\u001b[0;34m-\u001b[0m\u001b[0;36m1\u001b[0m\u001b[0;34m)\u001b[0m \u001b[0;34m+\u001b[0m \u001b[0mfib\u001b[0m\u001b[0;34m(\u001b[0m\u001b[0mn\u001b[0m\u001b[0;34m-\u001b[0m\u001b[0;36m2\u001b[0m\u001b[0;34m)\u001b[0m\u001b[0;34m\u001b[0m\u001b[0;34m\u001b[0m\u001b[0m\n\u001b[0m",
            "\u001b[0;32m<ipython-input-71-2293569d163a>\u001b[0m in \u001b[0;36mfib\u001b[0;34m(n)\u001b[0m\n\u001b[1;32m      4\u001b[0m         \u001b[0;32mreturn\u001b[0m \u001b[0mn\u001b[0m\u001b[0;34m\u001b[0m\u001b[0;34m\u001b[0m\u001b[0m\n\u001b[1;32m      5\u001b[0m     \u001b[0;32melse\u001b[0m\u001b[0;34m:\u001b[0m\u001b[0;34m\u001b[0m\u001b[0;34m\u001b[0m\u001b[0m\n\u001b[0;32m----> 6\u001b[0;31m         \u001b[0;32mreturn\u001b[0m \u001b[0mfib\u001b[0m\u001b[0;34m(\u001b[0m\u001b[0mn\u001b[0m\u001b[0;34m-\u001b[0m\u001b[0;36m1\u001b[0m\u001b[0;34m)\u001b[0m \u001b[0;34m+\u001b[0m \u001b[0mfib\u001b[0m\u001b[0;34m(\u001b[0m\u001b[0mn\u001b[0m\u001b[0;34m-\u001b[0m\u001b[0;36m2\u001b[0m\u001b[0;34m)\u001b[0m\u001b[0;34m\u001b[0m\u001b[0;34m\u001b[0m\u001b[0m\n\u001b[0m",
            "\u001b[0;32m<ipython-input-71-2293569d163a>\u001b[0m in \u001b[0;36mfib\u001b[0;34m(n)\u001b[0m\n\u001b[1;32m      4\u001b[0m         \u001b[0;32mreturn\u001b[0m \u001b[0mn\u001b[0m\u001b[0;34m\u001b[0m\u001b[0;34m\u001b[0m\u001b[0m\n\u001b[1;32m      5\u001b[0m     \u001b[0;32melse\u001b[0m\u001b[0;34m:\u001b[0m\u001b[0;34m\u001b[0m\u001b[0;34m\u001b[0m\u001b[0m\n\u001b[0;32m----> 6\u001b[0;31m         \u001b[0;32mreturn\u001b[0m \u001b[0mfib\u001b[0m\u001b[0;34m(\u001b[0m\u001b[0mn\u001b[0m\u001b[0;34m-\u001b[0m\u001b[0;36m1\u001b[0m\u001b[0;34m)\u001b[0m \u001b[0;34m+\u001b[0m \u001b[0mfib\u001b[0m\u001b[0;34m(\u001b[0m\u001b[0mn\u001b[0m\u001b[0;34m-\u001b[0m\u001b[0;36m2\u001b[0m\u001b[0;34m)\u001b[0m\u001b[0;34m\u001b[0m\u001b[0;34m\u001b[0m\u001b[0m\n\u001b[0m",
            "\u001b[0;32m<ipython-input-71-2293569d163a>\u001b[0m in \u001b[0;36mfib\u001b[0;34m(n)\u001b[0m\n\u001b[1;32m      4\u001b[0m         \u001b[0;32mreturn\u001b[0m \u001b[0mn\u001b[0m\u001b[0;34m\u001b[0m\u001b[0;34m\u001b[0m\u001b[0m\n\u001b[1;32m      5\u001b[0m     \u001b[0;32melse\u001b[0m\u001b[0;34m:\u001b[0m\u001b[0;34m\u001b[0m\u001b[0;34m\u001b[0m\u001b[0m\n\u001b[0;32m----> 6\u001b[0;31m         \u001b[0;32mreturn\u001b[0m \u001b[0mfib\u001b[0m\u001b[0;34m(\u001b[0m\u001b[0mn\u001b[0m\u001b[0;34m-\u001b[0m\u001b[0;36m1\u001b[0m\u001b[0;34m)\u001b[0m \u001b[0;34m+\u001b[0m \u001b[0mfib\u001b[0m\u001b[0;34m(\u001b[0m\u001b[0mn\u001b[0m\u001b[0;34m-\u001b[0m\u001b[0;36m2\u001b[0m\u001b[0;34m)\u001b[0m\u001b[0;34m\u001b[0m\u001b[0;34m\u001b[0m\u001b[0m\n\u001b[0m",
            "\u001b[0;32m<ipython-input-71-2293569d163a>\u001b[0m in \u001b[0;36mfib\u001b[0;34m(n)\u001b[0m\n\u001b[1;32m      4\u001b[0m         \u001b[0;32mreturn\u001b[0m \u001b[0mn\u001b[0m\u001b[0;34m\u001b[0m\u001b[0;34m\u001b[0m\u001b[0m\n\u001b[1;32m      5\u001b[0m     \u001b[0;32melse\u001b[0m\u001b[0;34m:\u001b[0m\u001b[0;34m\u001b[0m\u001b[0;34m\u001b[0m\u001b[0m\n\u001b[0;32m----> 6\u001b[0;31m         \u001b[0;32mreturn\u001b[0m \u001b[0mfib\u001b[0m\u001b[0;34m(\u001b[0m\u001b[0mn\u001b[0m\u001b[0;34m-\u001b[0m\u001b[0;36m1\u001b[0m\u001b[0;34m)\u001b[0m \u001b[0;34m+\u001b[0m \u001b[0mfib\u001b[0m\u001b[0;34m(\u001b[0m\u001b[0mn\u001b[0m\u001b[0;34m-\u001b[0m\u001b[0;36m2\u001b[0m\u001b[0;34m)\u001b[0m\u001b[0;34m\u001b[0m\u001b[0;34m\u001b[0m\u001b[0m\n\u001b[0m",
            "\u001b[0;32m<ipython-input-71-2293569d163a>\u001b[0m in \u001b[0;36mfib\u001b[0;34m(n)\u001b[0m\n\u001b[1;32m      4\u001b[0m         \u001b[0;32mreturn\u001b[0m \u001b[0mn\u001b[0m\u001b[0;34m\u001b[0m\u001b[0;34m\u001b[0m\u001b[0m\n\u001b[1;32m      5\u001b[0m     \u001b[0;32melse\u001b[0m\u001b[0;34m:\u001b[0m\u001b[0;34m\u001b[0m\u001b[0;34m\u001b[0m\u001b[0m\n\u001b[0;32m----> 6\u001b[0;31m         \u001b[0;32mreturn\u001b[0m \u001b[0mfib\u001b[0m\u001b[0;34m(\u001b[0m\u001b[0mn\u001b[0m\u001b[0;34m-\u001b[0m\u001b[0;36m1\u001b[0m\u001b[0;34m)\u001b[0m \u001b[0;34m+\u001b[0m \u001b[0mfib\u001b[0m\u001b[0;34m(\u001b[0m\u001b[0mn\u001b[0m\u001b[0;34m-\u001b[0m\u001b[0;36m2\u001b[0m\u001b[0;34m)\u001b[0m\u001b[0;34m\u001b[0m\u001b[0;34m\u001b[0m\u001b[0m\n\u001b[0m",
            "\u001b[0;32m<ipython-input-71-2293569d163a>\u001b[0m in \u001b[0;36mfib\u001b[0;34m(n)\u001b[0m\n\u001b[1;32m      4\u001b[0m         \u001b[0;32mreturn\u001b[0m \u001b[0mn\u001b[0m\u001b[0;34m\u001b[0m\u001b[0;34m\u001b[0m\u001b[0m\n\u001b[1;32m      5\u001b[0m     \u001b[0;32melse\u001b[0m\u001b[0;34m:\u001b[0m\u001b[0;34m\u001b[0m\u001b[0;34m\u001b[0m\u001b[0m\n\u001b[0;32m----> 6\u001b[0;31m         \u001b[0;32mreturn\u001b[0m \u001b[0mfib\u001b[0m\u001b[0;34m(\u001b[0m\u001b[0mn\u001b[0m\u001b[0;34m-\u001b[0m\u001b[0;36m1\u001b[0m\u001b[0;34m)\u001b[0m \u001b[0;34m+\u001b[0m \u001b[0mfib\u001b[0m\u001b[0;34m(\u001b[0m\u001b[0mn\u001b[0m\u001b[0;34m-\u001b[0m\u001b[0;36m2\u001b[0m\u001b[0;34m)\u001b[0m\u001b[0;34m\u001b[0m\u001b[0;34m\u001b[0m\u001b[0m\n\u001b[0m",
            "\u001b[0;32m<ipython-input-71-2293569d163a>\u001b[0m in \u001b[0;36mfib\u001b[0;34m(n)\u001b[0m\n\u001b[1;32m      4\u001b[0m         \u001b[0;32mreturn\u001b[0m \u001b[0mn\u001b[0m\u001b[0;34m\u001b[0m\u001b[0;34m\u001b[0m\u001b[0m\n\u001b[1;32m      5\u001b[0m     \u001b[0;32melse\u001b[0m\u001b[0;34m:\u001b[0m\u001b[0;34m\u001b[0m\u001b[0;34m\u001b[0m\u001b[0m\n\u001b[0;32m----> 6\u001b[0;31m         \u001b[0;32mreturn\u001b[0m \u001b[0mfib\u001b[0m\u001b[0;34m(\u001b[0m\u001b[0mn\u001b[0m\u001b[0;34m-\u001b[0m\u001b[0;36m1\u001b[0m\u001b[0;34m)\u001b[0m \u001b[0;34m+\u001b[0m \u001b[0mfib\u001b[0m\u001b[0;34m(\u001b[0m\u001b[0mn\u001b[0m\u001b[0;34m-\u001b[0m\u001b[0;36m2\u001b[0m\u001b[0;34m)\u001b[0m\u001b[0;34m\u001b[0m\u001b[0;34m\u001b[0m\u001b[0m\n\u001b[0m",
            "\u001b[0;32m<ipython-input-71-2293569d163a>\u001b[0m in \u001b[0;36mfib\u001b[0;34m(n)\u001b[0m\n\u001b[1;32m      4\u001b[0m         \u001b[0;32mreturn\u001b[0m \u001b[0mn\u001b[0m\u001b[0;34m\u001b[0m\u001b[0;34m\u001b[0m\u001b[0m\n\u001b[1;32m      5\u001b[0m     \u001b[0;32melse\u001b[0m\u001b[0;34m:\u001b[0m\u001b[0;34m\u001b[0m\u001b[0;34m\u001b[0m\u001b[0m\n\u001b[0;32m----> 6\u001b[0;31m         \u001b[0;32mreturn\u001b[0m \u001b[0mfib\u001b[0m\u001b[0;34m(\u001b[0m\u001b[0mn\u001b[0m\u001b[0;34m-\u001b[0m\u001b[0;36m1\u001b[0m\u001b[0;34m)\u001b[0m \u001b[0;34m+\u001b[0m \u001b[0mfib\u001b[0m\u001b[0;34m(\u001b[0m\u001b[0mn\u001b[0m\u001b[0;34m-\u001b[0m\u001b[0;36m2\u001b[0m\u001b[0;34m)\u001b[0m\u001b[0;34m\u001b[0m\u001b[0;34m\u001b[0m\u001b[0m\n\u001b[0m",
            "\u001b[0;32m<ipython-input-71-2293569d163a>\u001b[0m in \u001b[0;36mfib\u001b[0;34m(n)\u001b[0m\n\u001b[1;32m      4\u001b[0m         \u001b[0;32mreturn\u001b[0m \u001b[0mn\u001b[0m\u001b[0;34m\u001b[0m\u001b[0;34m\u001b[0m\u001b[0m\n\u001b[1;32m      5\u001b[0m     \u001b[0;32melse\u001b[0m\u001b[0;34m:\u001b[0m\u001b[0;34m\u001b[0m\u001b[0;34m\u001b[0m\u001b[0m\n\u001b[0;32m----> 6\u001b[0;31m         \u001b[0;32mreturn\u001b[0m \u001b[0mfib\u001b[0m\u001b[0;34m(\u001b[0m\u001b[0mn\u001b[0m\u001b[0;34m-\u001b[0m\u001b[0;36m1\u001b[0m\u001b[0;34m)\u001b[0m \u001b[0;34m+\u001b[0m \u001b[0mfib\u001b[0m\u001b[0;34m(\u001b[0m\u001b[0mn\u001b[0m\u001b[0;34m-\u001b[0m\u001b[0;36m2\u001b[0m\u001b[0;34m)\u001b[0m\u001b[0;34m\u001b[0m\u001b[0;34m\u001b[0m\u001b[0m\n\u001b[0m",
            "\u001b[0;32m<ipython-input-71-2293569d163a>\u001b[0m in \u001b[0;36mfib\u001b[0;34m(n)\u001b[0m\n\u001b[1;32m      4\u001b[0m         \u001b[0;32mreturn\u001b[0m \u001b[0mn\u001b[0m\u001b[0;34m\u001b[0m\u001b[0;34m\u001b[0m\u001b[0m\n\u001b[1;32m      5\u001b[0m     \u001b[0;32melse\u001b[0m\u001b[0;34m:\u001b[0m\u001b[0;34m\u001b[0m\u001b[0;34m\u001b[0m\u001b[0m\n\u001b[0;32m----> 6\u001b[0;31m         \u001b[0;32mreturn\u001b[0m \u001b[0mfib\u001b[0m\u001b[0;34m(\u001b[0m\u001b[0mn\u001b[0m\u001b[0;34m-\u001b[0m\u001b[0;36m1\u001b[0m\u001b[0;34m)\u001b[0m \u001b[0;34m+\u001b[0m \u001b[0mfib\u001b[0m\u001b[0;34m(\u001b[0m\u001b[0mn\u001b[0m\u001b[0;34m-\u001b[0m\u001b[0;36m2\u001b[0m\u001b[0;34m)\u001b[0m\u001b[0;34m\u001b[0m\u001b[0;34m\u001b[0m\u001b[0m\n\u001b[0m",
            "\u001b[0;32m<ipython-input-71-2293569d163a>\u001b[0m in \u001b[0;36mfib\u001b[0;34m(n)\u001b[0m\n\u001b[1;32m      4\u001b[0m         \u001b[0;32mreturn\u001b[0m \u001b[0mn\u001b[0m\u001b[0;34m\u001b[0m\u001b[0;34m\u001b[0m\u001b[0m\n\u001b[1;32m      5\u001b[0m     \u001b[0;32melse\u001b[0m\u001b[0;34m:\u001b[0m\u001b[0;34m\u001b[0m\u001b[0;34m\u001b[0m\u001b[0m\n\u001b[0;32m----> 6\u001b[0;31m         \u001b[0;32mreturn\u001b[0m \u001b[0mfib\u001b[0m\u001b[0;34m(\u001b[0m\u001b[0mn\u001b[0m\u001b[0;34m-\u001b[0m\u001b[0;36m1\u001b[0m\u001b[0;34m)\u001b[0m \u001b[0;34m+\u001b[0m \u001b[0mfib\u001b[0m\u001b[0;34m(\u001b[0m\u001b[0mn\u001b[0m\u001b[0;34m-\u001b[0m\u001b[0;36m2\u001b[0m\u001b[0;34m)\u001b[0m\u001b[0;34m\u001b[0m\u001b[0;34m\u001b[0m\u001b[0m\n\u001b[0m",
            "\u001b[0;32m<ipython-input-71-2293569d163a>\u001b[0m in \u001b[0;36mfib\u001b[0;34m(n)\u001b[0m\n\u001b[1;32m      4\u001b[0m         \u001b[0;32mreturn\u001b[0m \u001b[0mn\u001b[0m\u001b[0;34m\u001b[0m\u001b[0;34m\u001b[0m\u001b[0m\n\u001b[1;32m      5\u001b[0m     \u001b[0;32melse\u001b[0m\u001b[0;34m:\u001b[0m\u001b[0;34m\u001b[0m\u001b[0;34m\u001b[0m\u001b[0m\n\u001b[0;32m----> 6\u001b[0;31m         \u001b[0;32mreturn\u001b[0m \u001b[0mfib\u001b[0m\u001b[0;34m(\u001b[0m\u001b[0mn\u001b[0m\u001b[0;34m-\u001b[0m\u001b[0;36m1\u001b[0m\u001b[0;34m)\u001b[0m \u001b[0;34m+\u001b[0m \u001b[0mfib\u001b[0m\u001b[0;34m(\u001b[0m\u001b[0mn\u001b[0m\u001b[0;34m-\u001b[0m\u001b[0;36m2\u001b[0m\u001b[0;34m)\u001b[0m\u001b[0;34m\u001b[0m\u001b[0;34m\u001b[0m\u001b[0m\n\u001b[0m",
            "\u001b[0;32m<ipython-input-71-2293569d163a>\u001b[0m in \u001b[0;36mfib\u001b[0;34m(n)\u001b[0m\n\u001b[1;32m      4\u001b[0m         \u001b[0;32mreturn\u001b[0m \u001b[0mn\u001b[0m\u001b[0;34m\u001b[0m\u001b[0;34m\u001b[0m\u001b[0m\n\u001b[1;32m      5\u001b[0m     \u001b[0;32melse\u001b[0m\u001b[0;34m:\u001b[0m\u001b[0;34m\u001b[0m\u001b[0;34m\u001b[0m\u001b[0m\n\u001b[0;32m----> 6\u001b[0;31m         \u001b[0;32mreturn\u001b[0m \u001b[0mfib\u001b[0m\u001b[0;34m(\u001b[0m\u001b[0mn\u001b[0m\u001b[0;34m-\u001b[0m\u001b[0;36m1\u001b[0m\u001b[0;34m)\u001b[0m \u001b[0;34m+\u001b[0m \u001b[0mfib\u001b[0m\u001b[0;34m(\u001b[0m\u001b[0mn\u001b[0m\u001b[0;34m-\u001b[0m\u001b[0;36m2\u001b[0m\u001b[0;34m)\u001b[0m\u001b[0;34m\u001b[0m\u001b[0;34m\u001b[0m\u001b[0m\n\u001b[0m",
            "\u001b[0;32m<ipython-input-71-2293569d163a>\u001b[0m in \u001b[0;36mfib\u001b[0;34m(n)\u001b[0m\n\u001b[1;32m      4\u001b[0m         \u001b[0;32mreturn\u001b[0m \u001b[0mn\u001b[0m\u001b[0;34m\u001b[0m\u001b[0;34m\u001b[0m\u001b[0m\n\u001b[1;32m      5\u001b[0m     \u001b[0;32melse\u001b[0m\u001b[0;34m:\u001b[0m\u001b[0;34m\u001b[0m\u001b[0;34m\u001b[0m\u001b[0m\n\u001b[0;32m----> 6\u001b[0;31m         \u001b[0;32mreturn\u001b[0m \u001b[0mfib\u001b[0m\u001b[0;34m(\u001b[0m\u001b[0mn\u001b[0m\u001b[0;34m-\u001b[0m\u001b[0;36m1\u001b[0m\u001b[0;34m)\u001b[0m \u001b[0;34m+\u001b[0m \u001b[0mfib\u001b[0m\u001b[0;34m(\u001b[0m\u001b[0mn\u001b[0m\u001b[0;34m-\u001b[0m\u001b[0;36m2\u001b[0m\u001b[0;34m)\u001b[0m\u001b[0;34m\u001b[0m\u001b[0;34m\u001b[0m\u001b[0m\n\u001b[0m",
            "\u001b[0;32m<ipython-input-71-2293569d163a>\u001b[0m in \u001b[0;36mfib\u001b[0;34m(n)\u001b[0m\n\u001b[1;32m      4\u001b[0m         \u001b[0;32mreturn\u001b[0m \u001b[0mn\u001b[0m\u001b[0;34m\u001b[0m\u001b[0;34m\u001b[0m\u001b[0m\n\u001b[1;32m      5\u001b[0m     \u001b[0;32melse\u001b[0m\u001b[0;34m:\u001b[0m\u001b[0;34m\u001b[0m\u001b[0;34m\u001b[0m\u001b[0m\n\u001b[0;32m----> 6\u001b[0;31m         \u001b[0;32mreturn\u001b[0m \u001b[0mfib\u001b[0m\u001b[0;34m(\u001b[0m\u001b[0mn\u001b[0m\u001b[0;34m-\u001b[0m\u001b[0;36m1\u001b[0m\u001b[0;34m)\u001b[0m \u001b[0;34m+\u001b[0m \u001b[0mfib\u001b[0m\u001b[0;34m(\u001b[0m\u001b[0mn\u001b[0m\u001b[0;34m-\u001b[0m\u001b[0;36m2\u001b[0m\u001b[0;34m)\u001b[0m\u001b[0;34m\u001b[0m\u001b[0;34m\u001b[0m\u001b[0m\n\u001b[0m",
            "\u001b[0;32m<ipython-input-71-2293569d163a>\u001b[0m in \u001b[0;36mfib\u001b[0;34m(n)\u001b[0m\n\u001b[1;32m      4\u001b[0m         \u001b[0;32mreturn\u001b[0m \u001b[0mn\u001b[0m\u001b[0;34m\u001b[0m\u001b[0;34m\u001b[0m\u001b[0m\n\u001b[1;32m      5\u001b[0m     \u001b[0;32melse\u001b[0m\u001b[0;34m:\u001b[0m\u001b[0;34m\u001b[0m\u001b[0;34m\u001b[0m\u001b[0m\n\u001b[0;32m----> 6\u001b[0;31m         \u001b[0;32mreturn\u001b[0m \u001b[0mfib\u001b[0m\u001b[0;34m(\u001b[0m\u001b[0mn\u001b[0m\u001b[0;34m-\u001b[0m\u001b[0;36m1\u001b[0m\u001b[0;34m)\u001b[0m \u001b[0;34m+\u001b[0m \u001b[0mfib\u001b[0m\u001b[0;34m(\u001b[0m\u001b[0mn\u001b[0m\u001b[0;34m-\u001b[0m\u001b[0;36m2\u001b[0m\u001b[0;34m)\u001b[0m\u001b[0;34m\u001b[0m\u001b[0;34m\u001b[0m\u001b[0m\n\u001b[0m",
            "\u001b[0;32m<ipython-input-71-2293569d163a>\u001b[0m in \u001b[0;36mfib\u001b[0;34m(n)\u001b[0m\n\u001b[1;32m      4\u001b[0m         \u001b[0;32mreturn\u001b[0m \u001b[0mn\u001b[0m\u001b[0;34m\u001b[0m\u001b[0;34m\u001b[0m\u001b[0m\n\u001b[1;32m      5\u001b[0m     \u001b[0;32melse\u001b[0m\u001b[0;34m:\u001b[0m\u001b[0;34m\u001b[0m\u001b[0;34m\u001b[0m\u001b[0m\n\u001b[0;32m----> 6\u001b[0;31m         \u001b[0;32mreturn\u001b[0m \u001b[0mfib\u001b[0m\u001b[0;34m(\u001b[0m\u001b[0mn\u001b[0m\u001b[0;34m-\u001b[0m\u001b[0;36m1\u001b[0m\u001b[0;34m)\u001b[0m \u001b[0;34m+\u001b[0m \u001b[0mfib\u001b[0m\u001b[0;34m(\u001b[0m\u001b[0mn\u001b[0m\u001b[0;34m-\u001b[0m\u001b[0;36m2\u001b[0m\u001b[0;34m)\u001b[0m\u001b[0;34m\u001b[0m\u001b[0;34m\u001b[0m\u001b[0m\n\u001b[0m",
            "\u001b[0;32m<ipython-input-71-2293569d163a>\u001b[0m in \u001b[0;36mfib\u001b[0;34m(n)\u001b[0m\n\u001b[1;32m      4\u001b[0m         \u001b[0;32mreturn\u001b[0m \u001b[0mn\u001b[0m\u001b[0;34m\u001b[0m\u001b[0;34m\u001b[0m\u001b[0m\n\u001b[1;32m      5\u001b[0m     \u001b[0;32melse\u001b[0m\u001b[0;34m:\u001b[0m\u001b[0;34m\u001b[0m\u001b[0;34m\u001b[0m\u001b[0m\n\u001b[0;32m----> 6\u001b[0;31m         \u001b[0;32mreturn\u001b[0m \u001b[0mfib\u001b[0m\u001b[0;34m(\u001b[0m\u001b[0mn\u001b[0m\u001b[0;34m-\u001b[0m\u001b[0;36m1\u001b[0m\u001b[0;34m)\u001b[0m \u001b[0;34m+\u001b[0m \u001b[0mfib\u001b[0m\u001b[0;34m(\u001b[0m\u001b[0mn\u001b[0m\u001b[0;34m-\u001b[0m\u001b[0;36m2\u001b[0m\u001b[0;34m)\u001b[0m\u001b[0;34m\u001b[0m\u001b[0;34m\u001b[0m\u001b[0m\n\u001b[0m",
            "\u001b[0;32m<ipython-input-71-2293569d163a>\u001b[0m in \u001b[0;36mfib\u001b[0;34m(n)\u001b[0m\n\u001b[1;32m      4\u001b[0m         \u001b[0;32mreturn\u001b[0m \u001b[0mn\u001b[0m\u001b[0;34m\u001b[0m\u001b[0;34m\u001b[0m\u001b[0m\n\u001b[1;32m      5\u001b[0m     \u001b[0;32melse\u001b[0m\u001b[0;34m:\u001b[0m\u001b[0;34m\u001b[0m\u001b[0;34m\u001b[0m\u001b[0m\n\u001b[0;32m----> 6\u001b[0;31m         \u001b[0;32mreturn\u001b[0m \u001b[0mfib\u001b[0m\u001b[0;34m(\u001b[0m\u001b[0mn\u001b[0m\u001b[0;34m-\u001b[0m\u001b[0;36m1\u001b[0m\u001b[0;34m)\u001b[0m \u001b[0;34m+\u001b[0m \u001b[0mfib\u001b[0m\u001b[0;34m(\u001b[0m\u001b[0mn\u001b[0m\u001b[0;34m-\u001b[0m\u001b[0;36m2\u001b[0m\u001b[0;34m)\u001b[0m\u001b[0;34m\u001b[0m\u001b[0;34m\u001b[0m\u001b[0m\n\u001b[0m",
            "\u001b[0;32m<ipython-input-71-2293569d163a>\u001b[0m in \u001b[0;36mfib\u001b[0;34m(n)\u001b[0m\n\u001b[1;32m      4\u001b[0m         \u001b[0;32mreturn\u001b[0m \u001b[0mn\u001b[0m\u001b[0;34m\u001b[0m\u001b[0;34m\u001b[0m\u001b[0m\n\u001b[1;32m      5\u001b[0m     \u001b[0;32melse\u001b[0m\u001b[0;34m:\u001b[0m\u001b[0;34m\u001b[0m\u001b[0;34m\u001b[0m\u001b[0m\n\u001b[0;32m----> 6\u001b[0;31m         \u001b[0;32mreturn\u001b[0m \u001b[0mfib\u001b[0m\u001b[0;34m(\u001b[0m\u001b[0mn\u001b[0m\u001b[0;34m-\u001b[0m\u001b[0;36m1\u001b[0m\u001b[0;34m)\u001b[0m \u001b[0;34m+\u001b[0m \u001b[0mfib\u001b[0m\u001b[0;34m(\u001b[0m\u001b[0mn\u001b[0m\u001b[0;34m-\u001b[0m\u001b[0;36m2\u001b[0m\u001b[0;34m)\u001b[0m\u001b[0;34m\u001b[0m\u001b[0;34m\u001b[0m\u001b[0m\n\u001b[0m",
            "\u001b[0;32m<ipython-input-71-2293569d163a>\u001b[0m in \u001b[0;36mfib\u001b[0;34m(n)\u001b[0m\n\u001b[1;32m      4\u001b[0m         \u001b[0;32mreturn\u001b[0m \u001b[0mn\u001b[0m\u001b[0;34m\u001b[0m\u001b[0;34m\u001b[0m\u001b[0m\n\u001b[1;32m      5\u001b[0m     \u001b[0;32melse\u001b[0m\u001b[0;34m:\u001b[0m\u001b[0;34m\u001b[0m\u001b[0;34m\u001b[0m\u001b[0m\n\u001b[0;32m----> 6\u001b[0;31m         \u001b[0;32mreturn\u001b[0m \u001b[0mfib\u001b[0m\u001b[0;34m(\u001b[0m\u001b[0mn\u001b[0m\u001b[0;34m-\u001b[0m\u001b[0;36m1\u001b[0m\u001b[0;34m)\u001b[0m \u001b[0;34m+\u001b[0m \u001b[0mfib\u001b[0m\u001b[0;34m(\u001b[0m\u001b[0mn\u001b[0m\u001b[0;34m-\u001b[0m\u001b[0;36m2\u001b[0m\u001b[0;34m)\u001b[0m\u001b[0;34m\u001b[0m\u001b[0;34m\u001b[0m\u001b[0m\n\u001b[0m",
            "\u001b[0;32m<ipython-input-71-2293569d163a>\u001b[0m in \u001b[0;36mfib\u001b[0;34m(n)\u001b[0m\n\u001b[1;32m      4\u001b[0m         \u001b[0;32mreturn\u001b[0m \u001b[0mn\u001b[0m\u001b[0;34m\u001b[0m\u001b[0;34m\u001b[0m\u001b[0m\n\u001b[1;32m      5\u001b[0m     \u001b[0;32melse\u001b[0m\u001b[0;34m:\u001b[0m\u001b[0;34m\u001b[0m\u001b[0;34m\u001b[0m\u001b[0m\n\u001b[0;32m----> 6\u001b[0;31m         \u001b[0;32mreturn\u001b[0m \u001b[0mfib\u001b[0m\u001b[0;34m(\u001b[0m\u001b[0mn\u001b[0m\u001b[0;34m-\u001b[0m\u001b[0;36m1\u001b[0m\u001b[0;34m)\u001b[0m \u001b[0;34m+\u001b[0m \u001b[0mfib\u001b[0m\u001b[0;34m(\u001b[0m\u001b[0mn\u001b[0m\u001b[0;34m-\u001b[0m\u001b[0;36m2\u001b[0m\u001b[0;34m)\u001b[0m\u001b[0;34m\u001b[0m\u001b[0;34m\u001b[0m\u001b[0m\n\u001b[0m",
            "\u001b[0;32m<ipython-input-71-2293569d163a>\u001b[0m in \u001b[0;36mfib\u001b[0;34m(n)\u001b[0m\n\u001b[1;32m      4\u001b[0m         \u001b[0;32mreturn\u001b[0m \u001b[0mn\u001b[0m\u001b[0;34m\u001b[0m\u001b[0;34m\u001b[0m\u001b[0m\n\u001b[1;32m      5\u001b[0m     \u001b[0;32melse\u001b[0m\u001b[0;34m:\u001b[0m\u001b[0;34m\u001b[0m\u001b[0;34m\u001b[0m\u001b[0m\n\u001b[0;32m----> 6\u001b[0;31m         \u001b[0;32mreturn\u001b[0m \u001b[0mfib\u001b[0m\u001b[0;34m(\u001b[0m\u001b[0mn\u001b[0m\u001b[0;34m-\u001b[0m\u001b[0;36m1\u001b[0m\u001b[0;34m)\u001b[0m \u001b[0;34m+\u001b[0m \u001b[0mfib\u001b[0m\u001b[0;34m(\u001b[0m\u001b[0mn\u001b[0m\u001b[0;34m-\u001b[0m\u001b[0;36m2\u001b[0m\u001b[0;34m)\u001b[0m\u001b[0;34m\u001b[0m\u001b[0;34m\u001b[0m\u001b[0m\n\u001b[0m",
            "\u001b[0;32m<ipython-input-71-2293569d163a>\u001b[0m in \u001b[0;36mfib\u001b[0;34m(n)\u001b[0m\n\u001b[1;32m      4\u001b[0m         \u001b[0;32mreturn\u001b[0m \u001b[0mn\u001b[0m\u001b[0;34m\u001b[0m\u001b[0;34m\u001b[0m\u001b[0m\n\u001b[1;32m      5\u001b[0m     \u001b[0;32melse\u001b[0m\u001b[0;34m:\u001b[0m\u001b[0;34m\u001b[0m\u001b[0;34m\u001b[0m\u001b[0m\n\u001b[0;32m----> 6\u001b[0;31m         \u001b[0;32mreturn\u001b[0m \u001b[0mfib\u001b[0m\u001b[0;34m(\u001b[0m\u001b[0mn\u001b[0m\u001b[0;34m-\u001b[0m\u001b[0;36m1\u001b[0m\u001b[0;34m)\u001b[0m \u001b[0;34m+\u001b[0m \u001b[0mfib\u001b[0m\u001b[0;34m(\u001b[0m\u001b[0mn\u001b[0m\u001b[0;34m-\u001b[0m\u001b[0;36m2\u001b[0m\u001b[0;34m)\u001b[0m\u001b[0;34m\u001b[0m\u001b[0;34m\u001b[0m\u001b[0m\n\u001b[0m",
            "\u001b[0;32m<ipython-input-71-2293569d163a>\u001b[0m in \u001b[0;36mfib\u001b[0;34m(n)\u001b[0m\n\u001b[1;32m      4\u001b[0m         \u001b[0;32mreturn\u001b[0m \u001b[0mn\u001b[0m\u001b[0;34m\u001b[0m\u001b[0;34m\u001b[0m\u001b[0m\n\u001b[1;32m      5\u001b[0m     \u001b[0;32melse\u001b[0m\u001b[0;34m:\u001b[0m\u001b[0;34m\u001b[0m\u001b[0;34m\u001b[0m\u001b[0m\n\u001b[0;32m----> 6\u001b[0;31m         \u001b[0;32mreturn\u001b[0m \u001b[0mfib\u001b[0m\u001b[0;34m(\u001b[0m\u001b[0mn\u001b[0m\u001b[0;34m-\u001b[0m\u001b[0;36m1\u001b[0m\u001b[0;34m)\u001b[0m \u001b[0;34m+\u001b[0m \u001b[0mfib\u001b[0m\u001b[0;34m(\u001b[0m\u001b[0mn\u001b[0m\u001b[0;34m-\u001b[0m\u001b[0;36m2\u001b[0m\u001b[0;34m)\u001b[0m\u001b[0;34m\u001b[0m\u001b[0;34m\u001b[0m\u001b[0m\n\u001b[0m",
            "\u001b[0;32m<ipython-input-71-2293569d163a>\u001b[0m in \u001b[0;36mfib\u001b[0;34m(n)\u001b[0m\n\u001b[1;32m      4\u001b[0m         \u001b[0;32mreturn\u001b[0m \u001b[0mn\u001b[0m\u001b[0;34m\u001b[0m\u001b[0;34m\u001b[0m\u001b[0m\n\u001b[1;32m      5\u001b[0m     \u001b[0;32melse\u001b[0m\u001b[0;34m:\u001b[0m\u001b[0;34m\u001b[0m\u001b[0;34m\u001b[0m\u001b[0m\n\u001b[0;32m----> 6\u001b[0;31m         \u001b[0;32mreturn\u001b[0m \u001b[0mfib\u001b[0m\u001b[0;34m(\u001b[0m\u001b[0mn\u001b[0m\u001b[0;34m-\u001b[0m\u001b[0;36m1\u001b[0m\u001b[0;34m)\u001b[0m \u001b[0;34m+\u001b[0m \u001b[0mfib\u001b[0m\u001b[0;34m(\u001b[0m\u001b[0mn\u001b[0m\u001b[0;34m-\u001b[0m\u001b[0;36m2\u001b[0m\u001b[0;34m)\u001b[0m\u001b[0;34m\u001b[0m\u001b[0;34m\u001b[0m\u001b[0m\n\u001b[0m",
            "\u001b[0;32m<ipython-input-71-2293569d163a>\u001b[0m in \u001b[0;36mfib\u001b[0;34m(n)\u001b[0m\n\u001b[1;32m      4\u001b[0m         \u001b[0;32mreturn\u001b[0m \u001b[0mn\u001b[0m\u001b[0;34m\u001b[0m\u001b[0;34m\u001b[0m\u001b[0m\n\u001b[1;32m      5\u001b[0m     \u001b[0;32melse\u001b[0m\u001b[0;34m:\u001b[0m\u001b[0;34m\u001b[0m\u001b[0;34m\u001b[0m\u001b[0m\n\u001b[0;32m----> 6\u001b[0;31m         \u001b[0;32mreturn\u001b[0m \u001b[0mfib\u001b[0m\u001b[0;34m(\u001b[0m\u001b[0mn\u001b[0m\u001b[0;34m-\u001b[0m\u001b[0;36m1\u001b[0m\u001b[0;34m)\u001b[0m \u001b[0;34m+\u001b[0m \u001b[0mfib\u001b[0m\u001b[0;34m(\u001b[0m\u001b[0mn\u001b[0m\u001b[0;34m-\u001b[0m\u001b[0;36m2\u001b[0m\u001b[0;34m)\u001b[0m\u001b[0;34m\u001b[0m\u001b[0;34m\u001b[0m\u001b[0m\n\u001b[0m",
            "\u001b[0;32m<ipython-input-71-2293569d163a>\u001b[0m in \u001b[0;36mfib\u001b[0;34m(n)\u001b[0m\n\u001b[1;32m      4\u001b[0m         \u001b[0;32mreturn\u001b[0m \u001b[0mn\u001b[0m\u001b[0;34m\u001b[0m\u001b[0;34m\u001b[0m\u001b[0m\n\u001b[1;32m      5\u001b[0m     \u001b[0;32melse\u001b[0m\u001b[0;34m:\u001b[0m\u001b[0;34m\u001b[0m\u001b[0;34m\u001b[0m\u001b[0m\n\u001b[0;32m----> 6\u001b[0;31m         \u001b[0;32mreturn\u001b[0m \u001b[0mfib\u001b[0m\u001b[0;34m(\u001b[0m\u001b[0mn\u001b[0m\u001b[0;34m-\u001b[0m\u001b[0;36m1\u001b[0m\u001b[0;34m)\u001b[0m \u001b[0;34m+\u001b[0m \u001b[0mfib\u001b[0m\u001b[0;34m(\u001b[0m\u001b[0mn\u001b[0m\u001b[0;34m-\u001b[0m\u001b[0;36m2\u001b[0m\u001b[0;34m)\u001b[0m\u001b[0;34m\u001b[0m\u001b[0;34m\u001b[0m\u001b[0m\n\u001b[0m",
            "\u001b[0;32m<ipython-input-71-2293569d163a>\u001b[0m in \u001b[0;36mfib\u001b[0;34m(n)\u001b[0m\n\u001b[1;32m      4\u001b[0m         \u001b[0;32mreturn\u001b[0m \u001b[0mn\u001b[0m\u001b[0;34m\u001b[0m\u001b[0;34m\u001b[0m\u001b[0m\n\u001b[1;32m      5\u001b[0m     \u001b[0;32melse\u001b[0m\u001b[0;34m:\u001b[0m\u001b[0;34m\u001b[0m\u001b[0;34m\u001b[0m\u001b[0m\n\u001b[0;32m----> 6\u001b[0;31m         \u001b[0;32mreturn\u001b[0m \u001b[0mfib\u001b[0m\u001b[0;34m(\u001b[0m\u001b[0mn\u001b[0m\u001b[0;34m-\u001b[0m\u001b[0;36m1\u001b[0m\u001b[0;34m)\u001b[0m \u001b[0;34m+\u001b[0m \u001b[0mfib\u001b[0m\u001b[0;34m(\u001b[0m\u001b[0mn\u001b[0m\u001b[0;34m-\u001b[0m\u001b[0;36m2\u001b[0m\u001b[0;34m)\u001b[0m\u001b[0;34m\u001b[0m\u001b[0;34m\u001b[0m\u001b[0m\n\u001b[0m",
            "\u001b[0;32m<ipython-input-71-2293569d163a>\u001b[0m in \u001b[0;36mfib\u001b[0;34m(n)\u001b[0m\n\u001b[1;32m      4\u001b[0m         \u001b[0;32mreturn\u001b[0m \u001b[0mn\u001b[0m\u001b[0;34m\u001b[0m\u001b[0;34m\u001b[0m\u001b[0m\n\u001b[1;32m      5\u001b[0m     \u001b[0;32melse\u001b[0m\u001b[0;34m:\u001b[0m\u001b[0;34m\u001b[0m\u001b[0;34m\u001b[0m\u001b[0m\n\u001b[0;32m----> 6\u001b[0;31m         \u001b[0;32mreturn\u001b[0m \u001b[0mfib\u001b[0m\u001b[0;34m(\u001b[0m\u001b[0mn\u001b[0m\u001b[0;34m-\u001b[0m\u001b[0;36m1\u001b[0m\u001b[0;34m)\u001b[0m \u001b[0;34m+\u001b[0m \u001b[0mfib\u001b[0m\u001b[0;34m(\u001b[0m\u001b[0mn\u001b[0m\u001b[0;34m-\u001b[0m\u001b[0;36m2\u001b[0m\u001b[0;34m)\u001b[0m\u001b[0;34m\u001b[0m\u001b[0;34m\u001b[0m\u001b[0m\n\u001b[0m",
            "\u001b[0;32m<ipython-input-71-2293569d163a>\u001b[0m in \u001b[0;36mfib\u001b[0;34m(n)\u001b[0m\n\u001b[1;32m      4\u001b[0m         \u001b[0;32mreturn\u001b[0m \u001b[0mn\u001b[0m\u001b[0;34m\u001b[0m\u001b[0;34m\u001b[0m\u001b[0m\n\u001b[1;32m      5\u001b[0m     \u001b[0;32melse\u001b[0m\u001b[0;34m:\u001b[0m\u001b[0;34m\u001b[0m\u001b[0;34m\u001b[0m\u001b[0m\n\u001b[0;32m----> 6\u001b[0;31m         \u001b[0;32mreturn\u001b[0m \u001b[0mfib\u001b[0m\u001b[0;34m(\u001b[0m\u001b[0mn\u001b[0m\u001b[0;34m-\u001b[0m\u001b[0;36m1\u001b[0m\u001b[0;34m)\u001b[0m \u001b[0;34m+\u001b[0m \u001b[0mfib\u001b[0m\u001b[0;34m(\u001b[0m\u001b[0mn\u001b[0m\u001b[0;34m-\u001b[0m\u001b[0;36m2\u001b[0m\u001b[0;34m)\u001b[0m\u001b[0;34m\u001b[0m\u001b[0;34m\u001b[0m\u001b[0m\n\u001b[0m",
            "\u001b[0;32m<ipython-input-71-2293569d163a>\u001b[0m in \u001b[0;36mfib\u001b[0;34m(n)\u001b[0m\n\u001b[1;32m      4\u001b[0m         \u001b[0;32mreturn\u001b[0m \u001b[0mn\u001b[0m\u001b[0;34m\u001b[0m\u001b[0;34m\u001b[0m\u001b[0m\n\u001b[1;32m      5\u001b[0m     \u001b[0;32melse\u001b[0m\u001b[0;34m:\u001b[0m\u001b[0;34m\u001b[0m\u001b[0;34m\u001b[0m\u001b[0m\n\u001b[0;32m----> 6\u001b[0;31m         \u001b[0;32mreturn\u001b[0m \u001b[0mfib\u001b[0m\u001b[0;34m(\u001b[0m\u001b[0mn\u001b[0m\u001b[0;34m-\u001b[0m\u001b[0;36m1\u001b[0m\u001b[0;34m)\u001b[0m \u001b[0;34m+\u001b[0m \u001b[0mfib\u001b[0m\u001b[0;34m(\u001b[0m\u001b[0mn\u001b[0m\u001b[0;34m-\u001b[0m\u001b[0;36m2\u001b[0m\u001b[0;34m)\u001b[0m\u001b[0;34m\u001b[0m\u001b[0;34m\u001b[0m\u001b[0m\n\u001b[0m",
            "\u001b[0;32m<ipython-input-71-2293569d163a>\u001b[0m in \u001b[0;36mfib\u001b[0;34m(n)\u001b[0m\n\u001b[1;32m      4\u001b[0m         \u001b[0;32mreturn\u001b[0m \u001b[0mn\u001b[0m\u001b[0;34m\u001b[0m\u001b[0;34m\u001b[0m\u001b[0m\n\u001b[1;32m      5\u001b[0m     \u001b[0;32melse\u001b[0m\u001b[0;34m:\u001b[0m\u001b[0;34m\u001b[0m\u001b[0;34m\u001b[0m\u001b[0m\n\u001b[0;32m----> 6\u001b[0;31m         \u001b[0;32mreturn\u001b[0m \u001b[0mfib\u001b[0m\u001b[0;34m(\u001b[0m\u001b[0mn\u001b[0m\u001b[0;34m-\u001b[0m\u001b[0;36m1\u001b[0m\u001b[0;34m)\u001b[0m \u001b[0;34m+\u001b[0m \u001b[0mfib\u001b[0m\u001b[0;34m(\u001b[0m\u001b[0mn\u001b[0m\u001b[0;34m-\u001b[0m\u001b[0;36m2\u001b[0m\u001b[0;34m)\u001b[0m\u001b[0;34m\u001b[0m\u001b[0;34m\u001b[0m\u001b[0m\n\u001b[0m",
            "\u001b[0;32m<ipython-input-71-2293569d163a>\u001b[0m in \u001b[0;36mfib\u001b[0;34m(n)\u001b[0m\n\u001b[1;32m      4\u001b[0m         \u001b[0;32mreturn\u001b[0m \u001b[0mn\u001b[0m\u001b[0;34m\u001b[0m\u001b[0;34m\u001b[0m\u001b[0m\n\u001b[1;32m      5\u001b[0m     \u001b[0;32melse\u001b[0m\u001b[0;34m:\u001b[0m\u001b[0;34m\u001b[0m\u001b[0;34m\u001b[0m\u001b[0m\n\u001b[0;32m----> 6\u001b[0;31m         \u001b[0;32mreturn\u001b[0m \u001b[0mfib\u001b[0m\u001b[0;34m(\u001b[0m\u001b[0mn\u001b[0m\u001b[0;34m-\u001b[0m\u001b[0;36m1\u001b[0m\u001b[0;34m)\u001b[0m \u001b[0;34m+\u001b[0m \u001b[0mfib\u001b[0m\u001b[0;34m(\u001b[0m\u001b[0mn\u001b[0m\u001b[0;34m-\u001b[0m\u001b[0;36m2\u001b[0m\u001b[0;34m)\u001b[0m\u001b[0;34m\u001b[0m\u001b[0;34m\u001b[0m\u001b[0m\n\u001b[0m",
            "\u001b[0;32m<ipython-input-71-2293569d163a>\u001b[0m in \u001b[0;36mfib\u001b[0;34m(n)\u001b[0m\n\u001b[1;32m      4\u001b[0m         \u001b[0;32mreturn\u001b[0m \u001b[0mn\u001b[0m\u001b[0;34m\u001b[0m\u001b[0;34m\u001b[0m\u001b[0m\n\u001b[1;32m      5\u001b[0m     \u001b[0;32melse\u001b[0m\u001b[0;34m:\u001b[0m\u001b[0;34m\u001b[0m\u001b[0;34m\u001b[0m\u001b[0m\n\u001b[0;32m----> 6\u001b[0;31m         \u001b[0;32mreturn\u001b[0m \u001b[0mfib\u001b[0m\u001b[0;34m(\u001b[0m\u001b[0mn\u001b[0m\u001b[0;34m-\u001b[0m\u001b[0;36m1\u001b[0m\u001b[0;34m)\u001b[0m \u001b[0;34m+\u001b[0m \u001b[0mfib\u001b[0m\u001b[0;34m(\u001b[0m\u001b[0mn\u001b[0m\u001b[0;34m-\u001b[0m\u001b[0;36m2\u001b[0m\u001b[0;34m)\u001b[0m\u001b[0;34m\u001b[0m\u001b[0;34m\u001b[0m\u001b[0m\n\u001b[0m",
            "\u001b[0;32m<ipython-input-71-2293569d163a>\u001b[0m in \u001b[0;36mfib\u001b[0;34m(n)\u001b[0m\n\u001b[1;32m      4\u001b[0m         \u001b[0;32mreturn\u001b[0m \u001b[0mn\u001b[0m\u001b[0;34m\u001b[0m\u001b[0;34m\u001b[0m\u001b[0m\n\u001b[1;32m      5\u001b[0m     \u001b[0;32melse\u001b[0m\u001b[0;34m:\u001b[0m\u001b[0;34m\u001b[0m\u001b[0;34m\u001b[0m\u001b[0m\n\u001b[0;32m----> 6\u001b[0;31m         \u001b[0;32mreturn\u001b[0m \u001b[0mfib\u001b[0m\u001b[0;34m(\u001b[0m\u001b[0mn\u001b[0m\u001b[0;34m-\u001b[0m\u001b[0;36m1\u001b[0m\u001b[0;34m)\u001b[0m \u001b[0;34m+\u001b[0m \u001b[0mfib\u001b[0m\u001b[0;34m(\u001b[0m\u001b[0mn\u001b[0m\u001b[0;34m-\u001b[0m\u001b[0;36m2\u001b[0m\u001b[0;34m)\u001b[0m\u001b[0;34m\u001b[0m\u001b[0;34m\u001b[0m\u001b[0m\n\u001b[0m",
            "\u001b[0;32m<ipython-input-71-2293569d163a>\u001b[0m in \u001b[0;36mfib\u001b[0;34m(n)\u001b[0m\n\u001b[1;32m      4\u001b[0m         \u001b[0;32mreturn\u001b[0m \u001b[0mn\u001b[0m\u001b[0;34m\u001b[0m\u001b[0;34m\u001b[0m\u001b[0m\n\u001b[1;32m      5\u001b[0m     \u001b[0;32melse\u001b[0m\u001b[0;34m:\u001b[0m\u001b[0;34m\u001b[0m\u001b[0;34m\u001b[0m\u001b[0m\n\u001b[0;32m----> 6\u001b[0;31m         \u001b[0;32mreturn\u001b[0m \u001b[0mfib\u001b[0m\u001b[0;34m(\u001b[0m\u001b[0mn\u001b[0m\u001b[0;34m-\u001b[0m\u001b[0;36m1\u001b[0m\u001b[0;34m)\u001b[0m \u001b[0;34m+\u001b[0m \u001b[0mfib\u001b[0m\u001b[0;34m(\u001b[0m\u001b[0mn\u001b[0m\u001b[0;34m-\u001b[0m\u001b[0;36m2\u001b[0m\u001b[0;34m)\u001b[0m\u001b[0;34m\u001b[0m\u001b[0;34m\u001b[0m\u001b[0m\n\u001b[0m",
            "\u001b[0;32m<ipython-input-71-2293569d163a>\u001b[0m in \u001b[0;36mfib\u001b[0;34m(n)\u001b[0m\n\u001b[1;32m      4\u001b[0m         \u001b[0;32mreturn\u001b[0m \u001b[0mn\u001b[0m\u001b[0;34m\u001b[0m\u001b[0;34m\u001b[0m\u001b[0m\n\u001b[1;32m      5\u001b[0m     \u001b[0;32melse\u001b[0m\u001b[0;34m:\u001b[0m\u001b[0;34m\u001b[0m\u001b[0;34m\u001b[0m\u001b[0m\n\u001b[0;32m----> 6\u001b[0;31m         \u001b[0;32mreturn\u001b[0m \u001b[0mfib\u001b[0m\u001b[0;34m(\u001b[0m\u001b[0mn\u001b[0m\u001b[0;34m-\u001b[0m\u001b[0;36m1\u001b[0m\u001b[0;34m)\u001b[0m \u001b[0;34m+\u001b[0m \u001b[0mfib\u001b[0m\u001b[0;34m(\u001b[0m\u001b[0mn\u001b[0m\u001b[0;34m-\u001b[0m\u001b[0;36m2\u001b[0m\u001b[0;34m)\u001b[0m\u001b[0;34m\u001b[0m\u001b[0;34m\u001b[0m\u001b[0m\n\u001b[0m",
            "\u001b[0;32m<ipython-input-71-2293569d163a>\u001b[0m in \u001b[0;36mfib\u001b[0;34m(n)\u001b[0m\n\u001b[1;32m      4\u001b[0m         \u001b[0;32mreturn\u001b[0m \u001b[0mn\u001b[0m\u001b[0;34m\u001b[0m\u001b[0;34m\u001b[0m\u001b[0m\n\u001b[1;32m      5\u001b[0m     \u001b[0;32melse\u001b[0m\u001b[0;34m:\u001b[0m\u001b[0;34m\u001b[0m\u001b[0;34m\u001b[0m\u001b[0m\n\u001b[0;32m----> 6\u001b[0;31m         \u001b[0;32mreturn\u001b[0m \u001b[0mfib\u001b[0m\u001b[0;34m(\u001b[0m\u001b[0mn\u001b[0m\u001b[0;34m-\u001b[0m\u001b[0;36m1\u001b[0m\u001b[0;34m)\u001b[0m \u001b[0;34m+\u001b[0m \u001b[0mfib\u001b[0m\u001b[0;34m(\u001b[0m\u001b[0mn\u001b[0m\u001b[0;34m-\u001b[0m\u001b[0;36m2\u001b[0m\u001b[0;34m)\u001b[0m\u001b[0;34m\u001b[0m\u001b[0;34m\u001b[0m\u001b[0m\n\u001b[0m",
            "\u001b[0;32m<ipython-input-71-2293569d163a>\u001b[0m in \u001b[0;36mfib\u001b[0;34m(n)\u001b[0m\n\u001b[1;32m      4\u001b[0m         \u001b[0;32mreturn\u001b[0m \u001b[0mn\u001b[0m\u001b[0;34m\u001b[0m\u001b[0;34m\u001b[0m\u001b[0m\n\u001b[1;32m      5\u001b[0m     \u001b[0;32melse\u001b[0m\u001b[0;34m:\u001b[0m\u001b[0;34m\u001b[0m\u001b[0;34m\u001b[0m\u001b[0m\n\u001b[0;32m----> 6\u001b[0;31m         \u001b[0;32mreturn\u001b[0m \u001b[0mfib\u001b[0m\u001b[0;34m(\u001b[0m\u001b[0mn\u001b[0m\u001b[0;34m-\u001b[0m\u001b[0;36m1\u001b[0m\u001b[0;34m)\u001b[0m \u001b[0;34m+\u001b[0m \u001b[0mfib\u001b[0m\u001b[0;34m(\u001b[0m\u001b[0mn\u001b[0m\u001b[0;34m-\u001b[0m\u001b[0;36m2\u001b[0m\u001b[0;34m)\u001b[0m\u001b[0;34m\u001b[0m\u001b[0;34m\u001b[0m\u001b[0m\n\u001b[0m",
            "\u001b[0;32m<ipython-input-71-2293569d163a>\u001b[0m in \u001b[0;36mfib\u001b[0;34m(n)\u001b[0m\n\u001b[1;32m      4\u001b[0m         \u001b[0;32mreturn\u001b[0m \u001b[0mn\u001b[0m\u001b[0;34m\u001b[0m\u001b[0;34m\u001b[0m\u001b[0m\n\u001b[1;32m      5\u001b[0m     \u001b[0;32melse\u001b[0m\u001b[0;34m:\u001b[0m\u001b[0;34m\u001b[0m\u001b[0;34m\u001b[0m\u001b[0m\n\u001b[0;32m----> 6\u001b[0;31m         \u001b[0;32mreturn\u001b[0m \u001b[0mfib\u001b[0m\u001b[0;34m(\u001b[0m\u001b[0mn\u001b[0m\u001b[0;34m-\u001b[0m\u001b[0;36m1\u001b[0m\u001b[0;34m)\u001b[0m \u001b[0;34m+\u001b[0m \u001b[0mfib\u001b[0m\u001b[0;34m(\u001b[0m\u001b[0mn\u001b[0m\u001b[0;34m-\u001b[0m\u001b[0;36m2\u001b[0m\u001b[0;34m)\u001b[0m\u001b[0;34m\u001b[0m\u001b[0;34m\u001b[0m\u001b[0m\n\u001b[0m",
            "\u001b[0;32m<ipython-input-71-2293569d163a>\u001b[0m in \u001b[0;36mfib\u001b[0;34m(n)\u001b[0m\n\u001b[1;32m      4\u001b[0m         \u001b[0;32mreturn\u001b[0m \u001b[0mn\u001b[0m\u001b[0;34m\u001b[0m\u001b[0;34m\u001b[0m\u001b[0m\n\u001b[1;32m      5\u001b[0m     \u001b[0;32melse\u001b[0m\u001b[0;34m:\u001b[0m\u001b[0;34m\u001b[0m\u001b[0;34m\u001b[0m\u001b[0m\n\u001b[0;32m----> 6\u001b[0;31m         \u001b[0;32mreturn\u001b[0m \u001b[0mfib\u001b[0m\u001b[0;34m(\u001b[0m\u001b[0mn\u001b[0m\u001b[0;34m-\u001b[0m\u001b[0;36m1\u001b[0m\u001b[0;34m)\u001b[0m \u001b[0;34m+\u001b[0m \u001b[0mfib\u001b[0m\u001b[0;34m(\u001b[0m\u001b[0mn\u001b[0m\u001b[0;34m-\u001b[0m\u001b[0;36m2\u001b[0m\u001b[0;34m)\u001b[0m\u001b[0;34m\u001b[0m\u001b[0;34m\u001b[0m\u001b[0m\n\u001b[0m",
            "\u001b[0;32m<ipython-input-71-2293569d163a>\u001b[0m in \u001b[0;36mfib\u001b[0;34m(n)\u001b[0m\n\u001b[1;32m      4\u001b[0m         \u001b[0;32mreturn\u001b[0m \u001b[0mn\u001b[0m\u001b[0;34m\u001b[0m\u001b[0;34m\u001b[0m\u001b[0m\n\u001b[1;32m      5\u001b[0m     \u001b[0;32melse\u001b[0m\u001b[0;34m:\u001b[0m\u001b[0;34m\u001b[0m\u001b[0;34m\u001b[0m\u001b[0m\n\u001b[0;32m----> 6\u001b[0;31m         \u001b[0;32mreturn\u001b[0m \u001b[0mfib\u001b[0m\u001b[0;34m(\u001b[0m\u001b[0mn\u001b[0m\u001b[0;34m-\u001b[0m\u001b[0;36m1\u001b[0m\u001b[0;34m)\u001b[0m \u001b[0;34m+\u001b[0m \u001b[0mfib\u001b[0m\u001b[0;34m(\u001b[0m\u001b[0mn\u001b[0m\u001b[0;34m-\u001b[0m\u001b[0;36m2\u001b[0m\u001b[0;34m)\u001b[0m\u001b[0;34m\u001b[0m\u001b[0;34m\u001b[0m\u001b[0m\n\u001b[0m",
            "\u001b[0;32m<ipython-input-71-2293569d163a>\u001b[0m in \u001b[0;36mfib\u001b[0;34m(n)\u001b[0m\n\u001b[1;32m      4\u001b[0m         \u001b[0;32mreturn\u001b[0m \u001b[0mn\u001b[0m\u001b[0;34m\u001b[0m\u001b[0;34m\u001b[0m\u001b[0m\n\u001b[1;32m      5\u001b[0m     \u001b[0;32melse\u001b[0m\u001b[0;34m:\u001b[0m\u001b[0;34m\u001b[0m\u001b[0;34m\u001b[0m\u001b[0m\n\u001b[0;32m----> 6\u001b[0;31m         \u001b[0;32mreturn\u001b[0m \u001b[0mfib\u001b[0m\u001b[0;34m(\u001b[0m\u001b[0mn\u001b[0m\u001b[0;34m-\u001b[0m\u001b[0;36m1\u001b[0m\u001b[0;34m)\u001b[0m \u001b[0;34m+\u001b[0m \u001b[0mfib\u001b[0m\u001b[0;34m(\u001b[0m\u001b[0mn\u001b[0m\u001b[0;34m-\u001b[0m\u001b[0;36m2\u001b[0m\u001b[0;34m)\u001b[0m\u001b[0;34m\u001b[0m\u001b[0;34m\u001b[0m\u001b[0m\n\u001b[0m",
            "\u001b[0;31mKeyboardInterrupt\u001b[0m: "
          ]
        }
      ]
    },
    {
      "cell_type": "code",
      "execution_count": null,
      "metadata": {
        "id": "jjZTdvghwCoy"
      },
      "outputs": [],
      "source": [
        "# 반복문은 재귀로 구현된 함수보다 연산 속도가 빠른 편입니다.\n",
        "# fib_loop() 함수에 10 이상의 값을 넣어보고 실행한 뒤 연산 시간을 확인해봅시다.\n",
        "# 그리고 100배 더 큰 1000 이상의 값도 넣어보고 실행한 뒤 연산 시간을 확인해봅시다."
      ]
    },
    {
      "cell_type": "code",
      "execution_count": null,
      "metadata": {
        "colab": {
          "base_uri": "https://localhost:8080/"
        },
        "id": "pudXcfRWwCoy",
        "outputId": "2483d2df-b736-4ff9-8ecf-1441c1e4b88b"
      },
      "outputs": [
        {
          "output_type": "stream",
          "name": "stdout",
          "text": [
            "4.76837158203125e-05\n"
          ]
        }
      ],
      "source": [
        "import time\n",
        "\n",
        "t0 = time.time()\n",
        "fib_loop(10)\n",
        "t1 = time.time()\n",
        "\n",
        "total = t1 - t0\n",
        "print(total)"
      ]
    },
    {
      "cell_type": "code",
      "source": [
        "import time\n",
        "\n",
        "t0 = time.time()\n",
        "fib_loop(100)\n",
        "t1 = time.time()\n",
        "\n",
        "total = t1-t0\n",
        "print(total)"
      ],
      "metadata": {
        "colab": {
          "base_uri": "https://localhost:8080/"
        },
        "id": "il3cWZQuDn-H",
        "outputId": "e4fadcbc-c9f0-48c4-cf13-9bfef666a878"
      },
      "execution_count": null,
      "outputs": [
        {
          "output_type": "stream",
          "name": "stdout",
          "text": [
            "8.654594421386719e-05\n"
          ]
        }
      ]
    },
    {
      "cell_type": "markdown",
      "metadata": {
        "id": "5WFBrn2_wCoy"
      },
      "source": [
        "## 함수 응용"
      ]
    },
    {
      "cell_type": "markdown",
      "metadata": {
        "id": "9mqOD0rlwCoz"
      },
      "source": [
        "## `map(function, iterable)`\n",
        "\n",
        "* 순회가능한 데이터 구조(iterable)의 모든 요소에 function을 적용한 후 그 결과를 돌려준다. \n",
        "\n",
        "\n",
        "* return은 `map_object` 형태이다."
      ]
    },
    {
      "cell_type": "code",
      "execution_count": null,
      "metadata": {
        "id": "JPAC2NstwCoz"
      },
      "outputs": [],
      "source": [
        "numbers = [1, 2, 3]\n",
        "\n",
        "# 위의 변수 numbers를 문자열 '123'으로 만드세요. (join 메서드 활용)"
      ]
    },
    {
      "cell_type": "code",
      "execution_count": null,
      "metadata": {
        "id": "Ni9S7FLowCoz"
      },
      "outputs": [],
      "source": [
        "# List comprehension 활용"
      ]
    },
    {
      "cell_type": "code",
      "execution_count": null,
      "metadata": {
        "scrolled": true,
        "id": "rUiclL5uwCoz"
      },
      "outputs": [],
      "source": [
        "new_numbers = ''.join([str(i) for i in numbers])"
      ]
    },
    {
      "cell_type": "code",
      "execution_count": null,
      "metadata": {
        "colab": {
          "base_uri": "https://localhost:8080/"
        },
        "id": "Pg6pgkocwCoz",
        "outputId": "cccbf862-f04a-4b71-f4c5-52de81eae299"
      },
      "outputs": [
        {
          "output_type": "stream",
          "name": "stdout",
          "text": [
            "123\n"
          ]
        }
      ],
      "source": [
        "print(new_numbers)"
      ]
    },
    {
      "cell_type": "code",
      "execution_count": null,
      "metadata": {
        "id": "sQ6s-lViwCoz"
      },
      "outputs": [],
      "source": [
        "# map() 활용"
      ]
    },
    {
      "cell_type": "code",
      "execution_count": null,
      "metadata": {
        "id": "JhkDUZD5wCoz"
      },
      "outputs": [],
      "source": [
        "new_numbers = ''.join(map(str,numbers))"
      ]
    },
    {
      "cell_type": "code",
      "execution_count": null,
      "metadata": {
        "colab": {
          "base_uri": "https://localhost:8080/"
        },
        "id": "tVpxNCvKwCoz",
        "outputId": "bf29b8ee-d547-42c4-f2c1-7dd4520fb2b1"
      },
      "outputs": [
        {
          "output_type": "stream",
          "name": "stdout",
          "text": [
            "123\n"
          ]
        }
      ],
      "source": [
        "print(new_numbers)"
      ]
    },
    {
      "cell_type": "markdown",
      "metadata": {
        "id": "98JP3_zEwCoz"
      },
      "source": [
        "`map()` 함수는 입력값을 처리할 때 자주 활용합니다."
      ]
    },
    {
      "cell_type": "code",
      "execution_count": null,
      "metadata": {
        "id": "xVLfKom0wCo0"
      },
      "outputs": [],
      "source": [
        "numbers = ['1', '2', '3']\n",
        "\n",
        "# 위의 변수 numbers를 정수로 구성된 리스트 [1, 2, 3]으로 만드세요."
      ]
    },
    {
      "cell_type": "code",
      "execution_count": null,
      "metadata": {
        "id": "1cVEFQfpwCo0"
      },
      "outputs": [],
      "source": [
        "# List comprehension 활용"
      ]
    },
    {
      "cell_type": "code",
      "execution_count": null,
      "metadata": {
        "id": "hJiNFr4vwCo0"
      },
      "outputs": [],
      "source": [
        "new_numbers = [int(i) for i in numbers]"
      ]
    },
    {
      "cell_type": "code",
      "execution_count": null,
      "metadata": {
        "colab": {
          "base_uri": "https://localhost:8080/"
        },
        "id": "tq6hqEAxwCo0",
        "outputId": "aa0cffb0-2b9a-4854-8b8f-c15ccd1dcb28"
      },
      "outputs": [
        {
          "output_type": "stream",
          "name": "stdout",
          "text": [
            "[1, 2, 3]\n"
          ]
        }
      ],
      "source": [
        "print(new_numbers)"
      ]
    },
    {
      "cell_type": "code",
      "execution_count": null,
      "metadata": {
        "id": "H--M-2TMwCo0"
      },
      "outputs": [],
      "source": [
        "# map() 활용"
      ]
    },
    {
      "cell_type": "code",
      "execution_count": null,
      "metadata": {
        "id": "texHZ8A8wCo0"
      },
      "outputs": [],
      "source": [
        "new_numbers = list(map(int,numbers))"
      ]
    },
    {
      "cell_type": "code",
      "execution_count": null,
      "metadata": {
        "colab": {
          "base_uri": "https://localhost:8080/"
        },
        "id": "Xhj7l-qXwCo0",
        "outputId": "b78c3738-f6d5-4dff-9daf-bd10e4ca92af"
      },
      "outputs": [
        {
          "output_type": "stream",
          "name": "stdout",
          "text": [
            "[1, 2, 3]\n"
          ]
        }
      ],
      "source": [
        "print(new_numbers)"
      ]
    },
    {
      "cell_type": "markdown",
      "metadata": {
        "id": "n_DY1Za2wCo0"
      },
      "source": [
        "첫번째 인자 function은 사용자 정의 함수도 가능합니다."
      ]
    },
    {
      "cell_type": "code",
      "execution_count": null,
      "metadata": {
        "id": "QOz192RewCo1"
      },
      "outputs": [],
      "source": [
        "# 세제곱의 결과를 나타내는 함수가 있습니다.\n",
        "def cube(n):\n",
        "    return n ** 3"
      ]
    },
    {
      "cell_type": "code",
      "execution_count": null,
      "metadata": {
        "id": "rCRk6z9ZwCo1"
      },
      "outputs": [],
      "source": [
        "# 세제곱 함수를 각각의 요소에 적용한 결과값을 구해봅시다.\n",
        "numbers = [1, 2, 3]"
      ]
    },
    {
      "cell_type": "code",
      "execution_count": null,
      "metadata": {
        "id": "M2gyUt7TwCo1"
      },
      "outputs": [],
      "source": [
        "new_numbers = list(map(cube, numbers))"
      ]
    },
    {
      "cell_type": "code",
      "execution_count": null,
      "metadata": {
        "colab": {
          "base_uri": "https://localhost:8080/"
        },
        "id": "MTpN9AxvwCo1",
        "outputId": "9b7219cb-ba96-44f1-f844-11b29a90de09"
      },
      "outputs": [
        {
          "output_type": "stream",
          "name": "stdout",
          "text": [
            "[1, 8, 27]\n"
          ]
        }
      ],
      "source": [
        "print(new_numbers)"
      ]
    },
    {
      "cell_type": "markdown",
      "metadata": {
        "id": "ch4NCMBywCo1"
      },
      "source": [
        "### [연습] 코딩 테스트의 기본\n",
        "\n",
        "> 두 정수를 입력 받아 더한 값을 출력하세요.\n",
        "\n",
        "**[입력 예시]**\n",
        "\n",
        "3 5\n",
        "\n",
        "---\n",
        "\n",
        "**[출력 예시]**\n",
        "\n",
        "8"
      ]
    },
    {
      "cell_type": "code",
      "execution_count": null,
      "metadata": {
        "colab": {
          "base_uri": "https://localhost:8080/"
        },
        "id": "yR4pSauiwCo1",
        "outputId": "08d0666d-bdf3-43eb-d34d-2747ae95b7ec"
      },
      "outputs": [
        {
          "output_type": "stream",
          "name": "stdout",
          "text": [
            "두 정수를 띄어써서 하나씩 입력하세요. :3 5\n",
            "8\n"
          ]
        }
      ],
      "source": [
        "# 아래에 코드를 작성하세요.\n",
        "\n",
        "a,b = map(int,input('두 정수를 띄어써서 하나씩 입력하세요. :').split())\n",
        "\n",
        "print(a+b)"
      ]
    },
    {
      "cell_type": "markdown",
      "metadata": {
        "id": "Gfe4k7xQwCo1"
      },
      "source": [
        "## `filter(function, iterable)`\n",
        "\n",
        "* iterable에서 function의 반환된 결과가 `True` 인 것들만 구성하여 반환합니다.\n",
        "\n",
        "\n",
        "* `filter object` 를 반환합니다."
      ]
    },
    {
      "cell_type": "code",
      "execution_count": null,
      "metadata": {
        "id": "vvv66VK6wCo1"
      },
      "outputs": [],
      "source": [
        "# 특정 list에서 홀수만을 걸러내는 코드를 작성해봅시다."
      ]
    },
    {
      "cell_type": "code",
      "execution_count": null,
      "metadata": {
        "id": "laOtoAaYwCo1"
      },
      "outputs": [],
      "source": [
        "# 홀수를 판별하는 함수가 있습니다.\n",
        "def odd(n):\n",
        "    return n % 2"
      ]
    },
    {
      "cell_type": "code",
      "execution_count": null,
      "metadata": {
        "id": "2Zs4648EwCo1"
      },
      "outputs": [],
      "source": [
        "# 홀수인 요소만 뽑아 new_numbers에 저장합니다.\n",
        "numbers = [1, 2, 3]"
      ]
    },
    {
      "cell_type": "code",
      "execution_count": null,
      "metadata": {
        "id": "1d38_csJwCo2"
      },
      "outputs": [],
      "source": [
        "new_numbers = list(filter(odd, numbers))"
      ]
    },
    {
      "cell_type": "code",
      "execution_count": null,
      "metadata": {
        "colab": {
          "base_uri": "https://localhost:8080/"
        },
        "id": "1KJTuq3VwCo2",
        "outputId": "257b6f1b-1840-4e6e-e792-ed2ea3a02be9"
      },
      "outputs": [
        {
          "output_type": "stream",
          "name": "stdout",
          "text": [
            "[1, 3]\n"
          ]
        }
      ],
      "source": [
        "print(new_numbers)"
      ]
    },
    {
      "cell_type": "code",
      "execution_count": null,
      "metadata": {
        "id": "6eFy98kBwCo2"
      },
      "outputs": [],
      "source": [
        "# 다음의 list comprehension과 동일합니다."
      ]
    },
    {
      "cell_type": "code",
      "execution_count": null,
      "metadata": {
        "colab": {
          "base_uri": "https://localhost:8080/"
        },
        "id": "hVVOU6YKwCo2",
        "outputId": "0dccdf11-9787-4560-b778-985cc5a820ac"
      },
      "outputs": [
        {
          "output_type": "stream",
          "name": "stdout",
          "text": [
            "[1, 3]\n"
          ]
        }
      ],
      "source": [
        "new_numbers = [i for i in numbers if i % 2 == 1]\n",
        "\n",
        "print(new_numbers)"
      ]
    },
    {
      "cell_type": "markdown",
      "metadata": {
        "id": "8_jkqSsHwCo2"
      },
      "source": [
        "## `zip(*iterables)` \n",
        "\n",
        "* 복수의 iterable 객체를 모아(`zip()`)줍니다.\n",
        "\n",
        "\n",
        "* 결과는 튜플의 모음으로 구성된 `zip object` 를 반환합니다."
      ]
    },
    {
      "cell_type": "code",
      "execution_count": null,
      "metadata": {
        "id": "5ViWagR5wCo2"
      },
      "outputs": [],
      "source": [
        "girls = ['jane', 'ashley', 'mary']\n",
        "boys = ['justin', 'eric', 'david']"
      ]
    },
    {
      "cell_type": "code",
      "execution_count": null,
      "metadata": {
        "id": "1XD3rrvwwCo2"
      },
      "outputs": [],
      "source": [
        "# zip() 활용하여 짝을 맞추어 본다."
      ]
    },
    {
      "cell_type": "code",
      "execution_count": null,
      "metadata": {
        "id": "OsAGiYagwCo2"
      },
      "outputs": [],
      "source": [
        "pair = list(zip(girls, boys))"
      ]
    },
    {
      "cell_type": "code",
      "execution_count": null,
      "metadata": {
        "colab": {
          "base_uri": "https://localhost:8080/"
        },
        "id": "qU36GfbCwCo2",
        "outputId": "116ea550-2c32-4368-ecb9-2d6da6eacfd1"
      },
      "outputs": [
        {
          "output_type": "stream",
          "name": "stdout",
          "text": [
            "[('jane', 'justin'), ('ashley', 'eric'), ('mary', 'david')]\n"
          ]
        }
      ],
      "source": [
        "print(pair)"
      ]
    },
    {
      "cell_type": "markdown",
      "metadata": {
        "id": "qroKnsnkwCo3"
      },
      "source": [
        "## lambda 함수\n",
        "\n",
        "* 표현식을 계산한 결과 값을 반환하는 함수로, 이름이 없는 함수여서 익명함수라고도 불립니다.\n",
        "\n",
        "* return 문을 가질 수 없고, 간단한 조건문 외의 구성이 어렵습니다.\n",
        "\n",
        "* 함수를 정의해서 사용하는 것보다 간결하게 사용 가능합니다.\n",
        "\n",
        "```python\n",
        "\n",
        "def triangle_area(b, h):\n",
        "    return 0.5 * b * h\n",
        "\n",
        "lambda b, h: 0.5 * b * h\n",
        "```"
      ]
    },
    {
      "cell_type": "code",
      "execution_count": null,
      "metadata": {
        "colab": {
          "base_uri": "https://localhost:8080/"
        },
        "id": "XGwMHDGowCo3",
        "outputId": "b497370b-62e6-44d5-b0b8-264eab10fbac"
      },
      "outputs": [
        {
          "output_type": "execute_result",
          "data": {
            "text/plain": [
              "[1, 0, 1]"
            ]
          },
          "metadata": {},
          "execution_count": 112
        }
      ],
      "source": [
        "# 아래와 같이 간단한 함수를 정의해서 사용하는 것이 아니라 간결하게 사용 가능합니다.\n",
        "list(map(lambda n: n%2, [1, 2, 3])) \n",
        "\n",
        "#각 요소에 n%2를 적용해서 그 값을 리스트로 만들어서.."
      ]
    },
    {
      "cell_type": "code",
      "source": [
        "list(filter(lambda n: n%2, [1,2,3])) #n%2가 True인 결과만 리스트로"
      ],
      "metadata": {
        "colab": {
          "base_uri": "https://localhost:8080/"
        },
        "id": "CpNW5DWKF47q",
        "outputId": "a926e817-08ff-4f81-9746-13d6545012d0"
      },
      "execution_count": null,
      "outputs": [
        {
          "output_type": "execute_result",
          "data": {
            "text/plain": [
              "[1, 3]"
            ]
          },
          "metadata": {},
          "execution_count": 113
        }
      ]
    },
    {
      "cell_type": "code",
      "source": [
        ""
      ],
      "metadata": {
        "id": "sWALziVbF8Io"
      },
      "execution_count": null,
      "outputs": []
    }
  ],
  "metadata": {
    "kernelspec": {
      "display_name": "Python 3 (ipykernel)",
      "language": "python",
      "name": "python3"
    },
    "language_info": {
      "codemirror_mode": {
        "name": "ipython",
        "version": 3
      },
      "file_extension": ".py",
      "mimetype": "text/x-python",
      "name": "python",
      "nbconvert_exporter": "python",
      "pygments_lexer": "ipython3",
      "version": "3.9.13"
    },
    "toc": {
      "base_numbering": 1,
      "nav_menu": {},
      "number_sections": true,
      "sideBar": true,
      "skip_h1_title": false,
      "title_cell": "Table of Contents",
      "title_sidebar": "Contents",
      "toc_cell": false,
      "toc_position": {},
      "toc_section_display": true,
      "toc_window_display": false
    },
    "toc-autonumbering": false,
    "toc-showcode": false,
    "toc-showmarkdowntxt": false,
    "toc-showtags": false,
    "vscode": {
      "interpreter": {
        "hash": "92b11214db13eb84a371023438dea2a06ed1f8ba2a8faa9a9eaa88215bb67462"
      }
    },
    "colab": {
      "name": "04_02_python_workshop_복습_함수.ipynb",
      "provenance": [],
      "collapsed_sections": [
        "CbBZEwZ5wCog",
        "js-t4PQ7wCog",
        "K-pA5ikhwCoh",
        "N6OV7usYwCor",
        "6Lmlb6INwCow",
        "5WFBrn2_wCoy"
      ]
    }
  },
  "nbformat": 4,
  "nbformat_minor": 0
}