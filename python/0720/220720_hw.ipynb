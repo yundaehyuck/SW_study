{
  "nbformat": 4,
  "nbformat_minor": 0,
  "metadata": {
    "colab": {
      "name": "220720_hw.ipynb",
      "provenance": [],
      "collapsed_sections": []
    },
    "kernelspec": {
      "name": "python3",
      "display_name": "Python 3"
    },
    "language_info": {
      "name": "python"
    }
  },
  "cells": [
    {
      "cell_type": "markdown",
      "source": [
        "# 3-1. built-in 함수\n",
        "\n",
        "python에서 기본으로 사용할 수 있는 built-in 함수 최소 5가지 이상\n",
        "\n",
        "**답) len(), sum(), print(), abs(), max() 등**"
      ],
      "metadata": {
        "id": "_DjNB_pyOhsX"
      }
    },
    {
      "cell_type": "code",
      "execution_count": null,
      "metadata": {
        "colab": {
          "base_uri": "https://localhost:8080/"
        },
        "id": "uKMD7A3QOczM",
        "outputId": "acd7f8b4-97a1-4591-cc9c-70554ea5ecaf"
      },
      "outputs": [
        {
          "output_type": "stream",
          "name": "stdout",
          "text": [
            "5\n",
            "15\n",
            "3\n",
            "5\n"
          ]
        }
      ],
      "source": [
        "a = [1,2,3,4,5]\n",
        "\n",
        "print(len(a))\n",
        "\n",
        "print(sum(a))\n",
        "\n",
        "print(abs(-3))\n",
        "\n",
        "print(max(a))"
      ]
    },
    {
      "cell_type": "code",
      "source": [
        ""
      ],
      "metadata": {
        "id": "nEWWObHQPPpI"
      },
      "execution_count": null,
      "outputs": []
    },
    {
      "cell_type": "markdown",
      "source": [
        "# 3-2. 홀수만 담기\n",
        "\n",
        "range와 slicing을 활용하여 1부터 50까지 숫자 중 홀수로만 이루어진 리스트 구하기"
      ],
      "metadata": {
        "id": "rXeVs1SWPTRl"
      }
    },
    {
      "cell_type": "code",
      "source": [
        "a = list(range(1,51)) #range로 1부터 50까지 숫자 담기\n",
        "\n",
        "a = a[0::2] #slicing으로 홀수만 남기기\n",
        "\n",
        "print(a)"
      ],
      "metadata": {
        "colab": {
          "base_uri": "https://localhost:8080/"
        },
        "id": "pm1xXyOYPYvD",
        "outputId": "886f4b04-f4b7-414b-cb25-112799c0883f"
      },
      "execution_count": null,
      "outputs": [
        {
          "output_type": "stream",
          "name": "stdout",
          "text": [
            "[1, 3, 5, 7, 9, 11, 13, 15, 17, 19, 21, 23, 25, 27, 29, 31, 33, 35, 37, 39, 41, 43, 45, 47, 49]\n"
          ]
        }
      ]
    },
    {
      "cell_type": "code",
      "source": [
        ""
      ],
      "metadata": {
        "id": "0Z3IktaBPjYB"
      },
      "execution_count": null,
      "outputs": []
    },
    {
      "cell_type": "markdown",
      "source": [
        "# 3-3 반복문으로 네모 출력\n",
        "\n",
        "두 정수 n,m이 주어질때 반복문을 사용하여 가로의 길이가 n, 세로의 길이가 m인 직사각형 형태를 *문자를 이용하여 출력"
      ],
      "metadata": {
        "id": "Str00dElP1ni"
      }
    },
    {
      "cell_type": "code",
      "source": [
        "n = 5\n",
        "\n",
        "m = 9\n",
        "\n",
        "for _ in range(m):\n",
        "    \n",
        "    print('*'*n)"
      ],
      "metadata": {
        "colab": {
          "base_uri": "https://localhost:8080/"
        },
        "id": "C1mdtj56P9Hb",
        "outputId": "3704b914-d5b2-4ad9-bc18-503aa06c42c9"
      },
      "execution_count": null,
      "outputs": [
        {
          "output_type": "stream",
          "name": "stdout",
          "text": [
            "*****\n",
            "*****\n",
            "*****\n",
            "*****\n",
            "*****\n",
            "*****\n",
            "*****\n",
            "*****\n",
            "*****\n"
          ]
        }
      ]
    },
    {
      "cell_type": "code",
      "source": [
        "#반복문만 사용하는방법?\n",
        "\n",
        "n = 5\n",
        "\n",
        "m = 9\n",
        "\n",
        "for _ in range(m):\n",
        "    \n",
        "    for _ in range(n):\n",
        "\n",
        "      print('*',end='') #'*'을 출력하고 끝에 ''을 붙여서 n개의 *을 이어붙임\n",
        "    \n",
        "    print(end = '\\n') #n개의 *을 이어붙이고 끝에 한줄 띄기"
      ],
      "metadata": {
        "colab": {
          "base_uri": "https://localhost:8080/"
        },
        "id": "Cjni6I5MRQLa",
        "outputId": "25afe988-9960-4052-d190-6f1ae3f64f4a"
      },
      "execution_count": null,
      "outputs": [
        {
          "output_type": "stream",
          "name": "stdout",
          "text": [
            "*****\n",
            "*****\n",
            "*****\n",
            "*****\n",
            "*****\n",
            "*****\n",
            "*****\n",
            "*****\n",
            "*****\n"
          ]
        }
      ]
    },
    {
      "cell_type": "code",
      "source": [
        ""
      ],
      "metadata": {
        "id": "Thmi_itOSBq0"
      },
      "execution_count": null,
      "outputs": []
    },
    {
      "cell_type": "markdown",
      "source": [
        "# 4-4. 조건 표현식\n",
        "\n",
        "주어진 코드의 조건문을 조건 표현식으로 표현"
      ],
      "metadata": {
        "id": "7hDzv7MgSB3M"
      }
    },
    {
      "cell_type": "code",
      "source": [
        "#조건표현식\n",
        "temp = 36.5\n",
        "\n",
        "print('입실 불가') if temp >= 37.5 else print('입실 가능')"
      ],
      "metadata": {
        "colab": {
          "base_uri": "https://localhost:8080/"
        },
        "id": "0cLyzE2tSFb3",
        "outputId": "a7ee5c10-078b-4bff-a62c-8f87bf278f74"
      },
      "execution_count": null,
      "outputs": [
        {
          "output_type": "stream",
          "name": "stdout",
          "text": [
            "입실 가능\n"
          ]
        }
      ]
    },
    {
      "cell_type": "code",
      "source": [
        "#문제 결과와 비교하기\n",
        "\n",
        "temp = 36.5\n",
        "\n",
        "if temp >= 37.5:\n",
        "    \n",
        "    print('입실 불가')\n",
        "\n",
        "else:\n",
        "\n",
        "    print('입실 가능')"
      ],
      "metadata": {
        "colab": {
          "base_uri": "https://localhost:8080/"
        },
        "id": "28WXL1hbSOWO",
        "outputId": "f317b636-bba6-490b-e70c-1f94255246ae"
      },
      "execution_count": null,
      "outputs": [
        {
          "output_type": "stream",
          "name": "stdout",
          "text": [
            "입실 가능\n"
          ]
        }
      ]
    },
    {
      "cell_type": "code",
      "source": [
        ""
      ],
      "metadata": {
        "id": "kkw85x6fSWfp"
      },
      "execution_count": null,
      "outputs": []
    },
    {
      "cell_type": "markdown",
      "source": [
        "# 4-5. 정중앙 문자\n",
        "\n",
        "문자열을 전달 받아 해당 문자열의 정중앙 문자를 반환하는 함수 작성\n",
        "\n",
        "길이가 짝수이면 정중앙 문자 2개를 반환"
      ],
      "metadata": {
        "id": "XrRRf415Sbwu"
      }
    },
    {
      "cell_type": "code",
      "source": [
        "def get_middle_char(s):\n",
        "    \n",
        "    len_s = len(s)\n",
        "\n",
        "    mid = int(len_s/2)\n",
        "\n",
        "    if len_s % 2 == 0:\n",
        "        \n",
        "        return s[mid-1]+s[mid]\n",
        "    \n",
        "    else:\n",
        "        \n",
        "        return s[mid]"
      ],
      "metadata": {
        "id": "YN66kIkUSkcy"
      },
      "execution_count": null,
      "outputs": []
    },
    {
      "cell_type": "code",
      "source": [
        "get_middle_char('ssafy')"
      ],
      "metadata": {
        "colab": {
          "base_uri": "https://localhost:8080/",
          "height": 36
        },
        "id": "slZn0_EFTDlG",
        "outputId": "a3dc7422-a974-41db-deb6-8829d2e927b7"
      },
      "execution_count": null,
      "outputs": [
        {
          "output_type": "execute_result",
          "data": {
            "text/plain": [
              "'a'"
            ],
            "application/vnd.google.colaboratory.intrinsic+json": {
              "type": "string"
            }
          },
          "metadata": {},
          "execution_count": 20
        }
      ]
    },
    {
      "cell_type": "code",
      "source": [
        "get_middle_char('yundaehyuck')"
      ],
      "metadata": {
        "colab": {
          "base_uri": "https://localhost:8080/",
          "height": 36
        },
        "id": "rt1pvjfJTXoj",
        "outputId": "48aa5e8d-b0f4-453b-bc06-706628ee04a5"
      },
      "execution_count": null,
      "outputs": [
        {
          "output_type": "execute_result",
          "data": {
            "text/plain": [
              "'e'"
            ],
            "application/vnd.google.colaboratory.intrinsic+json": {
              "type": "string"
            }
          },
          "metadata": {},
          "execution_count": 23
        }
      ]
    },
    {
      "cell_type": "code",
      "source": [
        "get_middle_char('coding')"
      ],
      "metadata": {
        "colab": {
          "base_uri": "https://localhost:8080/",
          "height": 36
        },
        "id": "es5GNZw-TFC5",
        "outputId": "b1b49c29-e6b4-41be-ccd4-a3cd00ce10b7"
      },
      "execution_count": null,
      "outputs": [
        {
          "output_type": "execute_result",
          "data": {
            "text/plain": [
              "'di'"
            ],
            "application/vnd.google.colaboratory.intrinsic+json": {
              "type": "string"
            }
          },
          "metadata": {},
          "execution_count": 21
        }
      ]
    },
    {
      "cell_type": "code",
      "source": [
        "get_middle_char('abcdefghijklmn')"
      ],
      "metadata": {
        "colab": {
          "base_uri": "https://localhost:8080/",
          "height": 36
        },
        "id": "4e5rpdXSTGeB",
        "outputId": "4b8ae52b-98ff-40b9-eaa3-657181de3bea"
      },
      "execution_count": null,
      "outputs": [
        {
          "output_type": "execute_result",
          "data": {
            "text/plain": [
              "'gh'"
            ],
            "application/vnd.google.colaboratory.intrinsic+json": {
              "type": "string"
            }
          },
          "metadata": {},
          "execution_count": 22
        }
      ]
    },
    {
      "cell_type": "code",
      "source": [
        ""
      ],
      "metadata": {
        "id": "v0OlVI3oTQtL"
      },
      "execution_count": null,
      "outputs": []
    }
  ]
}