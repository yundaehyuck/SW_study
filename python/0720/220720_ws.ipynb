{
  "nbformat": 4,
  "nbformat_minor": 0,
  "metadata": {
    "colab": {
      "name": "220720_ws.ipynb",
      "provenance": [],
      "collapsed_sections": []
    },
    "kernelspec": {
      "name": "python3",
      "display_name": "Python 3"
    },
    "language_info": {
      "name": "python"
    }
  },
  "cells": [
    {
      "cell_type": "markdown",
      "source": [
        "# 3-1. 세로로 출력하기\n",
        "\n",
        "자연수 number를 입력받아 1부터 number까지 세로로 한줄씩 출력"
      ],
      "metadata": {
        "id": "1lB9AYBPUDUQ"
      }
    },
    {
      "cell_type": "code",
      "execution_count": 1,
      "metadata": {
        "colab": {
          "base_uri": "https://localhost:8080/"
        },
        "id": "h-PTgcKRTu8L",
        "outputId": "334b982b-d1f5-4609-9e64-23f0150d19f7"
      },
      "outputs": [
        {
          "output_type": "stream",
          "name": "stdout",
          "text": [
            "10\n",
            "1\n",
            "2\n",
            "3\n",
            "4\n",
            "5\n",
            "6\n",
            "7\n",
            "8\n",
            "9\n",
            "10\n"
          ]
        }
      ],
      "source": [
        "number = int(input())\n",
        "\n",
        "for num in range(1,number+1):\n",
        "    \n",
        "    print(num) #num을 출력하고 끝에 \\n을 붙여서 한줄을 띈다. 기본값 end='\\n'"
      ]
    },
    {
      "cell_type": "code",
      "source": [
        ""
      ],
      "metadata": {
        "id": "FYu_Py-NUO31"
      },
      "execution_count": null,
      "outputs": []
    },
    {
      "cell_type": "markdown",
      "source": [
        "# 3-2. 가로로 출력하기\n",
        "\n",
        "자연수 number를 입력받아 1부터 number까지 가로로 한칸씩 띄어서 출력"
      ],
      "metadata": {
        "id": "OG5w0BmNUVvR"
      }
    },
    {
      "cell_type": "code",
      "source": [
        "number = int(input())\n",
        "\n",
        "for num in range(1,number+1):\n",
        "    \n",
        "    print(num,end=' ') #num을 출력하고 end = ' '을 주어서 한칸을 띈다"
      ],
      "metadata": {
        "colab": {
          "base_uri": "https://localhost:8080/"
        },
        "id": "2yrfj17oUbWG",
        "outputId": "bac6ad80-9671-48a3-abaf-113f871b1956"
      },
      "execution_count": 2,
      "outputs": [
        {
          "output_type": "stream",
          "name": "stdout",
          "text": [
            "10\n",
            "1 2 3 4 5 6 7 8 9 10 "
          ]
        }
      ]
    },
    {
      "cell_type": "code",
      "source": [
        ""
      ],
      "metadata": {
        "id": "cgUjNP9rUi4p"
      },
      "execution_count": null,
      "outputs": []
    },
    {
      "cell_type": "markdown",
      "source": [
        "# 3-3 거꾸로 세로로 출력하기\n",
        "\n",
        "자연수 number를 입력 받아, number부터 0까지 수를 세로로 한줄씩 출력"
      ],
      "metadata": {
        "id": "6Vg81kz-U24Q"
      }
    },
    {
      "cell_type": "code",
      "source": [
        "number = int(input())\n",
        "\n",
        "for num in range(number,-1,-1): #역순으로 number, number-1, number-2,...,0\n",
        "    \n",
        "    print(num)"
      ],
      "metadata": {
        "colab": {
          "base_uri": "https://localhost:8080/"
        },
        "id": "5b73NupoVBbn",
        "outputId": "ccf43911-ecde-416d-fb28-ce2537da08e6"
      },
      "execution_count": 3,
      "outputs": [
        {
          "output_type": "stream",
          "name": "stdout",
          "text": [
            "5\n",
            "5\n",
            "4\n",
            "3\n",
            "2\n",
            "1\n",
            "0\n"
          ]
        }
      ]
    },
    {
      "cell_type": "code",
      "source": [
        ""
      ],
      "metadata": {
        "id": "3mRqP3JDVP1D"
      },
      "execution_count": null,
      "outputs": []
    },
    {
      "cell_type": "markdown",
      "source": [
        "# 3-4 거꾸로 출력해 보아요\n",
        "\n",
        "자연수 number를 입력 받아, number부터 0까지 수를 가로로 한칸씩 띄어서 출력"
      ],
      "metadata": {
        "id": "iu-e4QnsVTwl"
      }
    },
    {
      "cell_type": "code",
      "source": [
        "number = int(input())\n",
        "\n",
        "for num in range(number,-1,-1):\n",
        "    \n",
        "    print(num,end=' ')"
      ],
      "metadata": {
        "colab": {
          "base_uri": "https://localhost:8080/"
        },
        "id": "2BR72XcNVdC-",
        "outputId": "db928c8e-71db-4d85-9824-f77aef1b6c06"
      },
      "execution_count": 4,
      "outputs": [
        {
          "output_type": "stream",
          "name": "stdout",
          "text": [
            "5\n",
            "5 4 3 2 1 0 "
          ]
        }
      ]
    },
    {
      "cell_type": "code",
      "source": [
        ""
      ],
      "metadata": {
        "id": "8TFZQEtKVnJS"
      },
      "execution_count": null,
      "outputs": []
    },
    {
      "cell_type": "markdown",
      "source": [
        "# 3-5. N줄 덧셈\n",
        "\n",
        "입력으로 자연수 number가 주어질 때, 1부터 주어진 자연수 number까지 모두 더한 값을 출력하시오.\n",
        "\n",
        "주어진 숫자는 10000을 넘지 않는다.\n",
        "\n",
        "예를 들어 주어진 숫자가 10일 경우 1+2+3+4+5+6+7+8+9+10 = 55이므로 출력값은 55"
      ],
      "metadata": {
        "id": "I4KP8K-_Vpie"
      }
    },
    {
      "cell_type": "code",
      "source": [
        "number = int(input())\n",
        "\n",
        "sum = 0\n",
        "\n",
        "for num in range(1,number+1):\n",
        "    \n",
        "    sum += num\n",
        "\n",
        "print(sum)"
      ],
      "metadata": {
        "colab": {
          "base_uri": "https://localhost:8080/"
        },
        "id": "lp5kNlT1V3y9",
        "outputId": "c3db8b6a-f4f4-485b-fcbb-0a4b8b9b1989"
      },
      "execution_count": 6,
      "outputs": [
        {
          "output_type": "stream",
          "name": "stdout",
          "text": [
            "10\n",
            "55\n"
          ]
        }
      ]
    },
    {
      "cell_type": "code",
      "source": [
        ""
      ],
      "metadata": {
        "id": "jbI5S7HOWCms"
      },
      "execution_count": null,
      "outputs": []
    },
    {
      "cell_type": "markdown",
      "source": [
        "# 3-6. 삼각형 출력\n",
        "\n",
        "자연수 number를 입력받아 아래와 같이 높이가 number인 삼각형 출력"
      ],
      "metadata": {
        "id": "zJBZnDWNWEzP"
      }
    },
    {
      "cell_type": "code",
      "source": [
        "number = int(input())\n",
        "\n",
        "\n",
        "for num in range(1,number+1):\n",
        "    \n",
        "    for _ in range(number-num):\n",
        "        \n",
        "        print('',end=' ')\n",
        "    \n",
        "    print('*'*num)"
      ],
      "metadata": {
        "colab": {
          "base_uri": "https://localhost:8080/"
        },
        "id": "6nFR4u-bWKrG",
        "outputId": "e9588f81-d8f9-4c8a-b358-c7d9c05dd5c8"
      },
      "execution_count": 21,
      "outputs": [
        {
          "output_type": "stream",
          "name": "stdout",
          "text": [
            "7\n",
            "      *\n",
            "     **\n",
            "    ***\n",
            "   ****\n",
            "  *****\n",
            " ******\n",
            "*******\n"
          ]
        }
      ]
    },
    {
      "cell_type": "code",
      "source": [
        "number = int(input())\n",
        "\n",
        "for num in range(1,number+1):\n",
        "    \n",
        "    print(f\"{'*'*num:>{number}}\") #vs. print(f\"{string:>number}\")"
      ],
      "metadata": {
        "colab": {
          "base_uri": "https://localhost:8080/"
        },
        "id": "grScjT57XaUH",
        "outputId": "0426e490-b77a-4f89-c7b6-68feceb73ce7"
      },
      "execution_count": 43,
      "outputs": [
        {
          "output_type": "stream",
          "name": "stdout",
          "text": [
            "7\n",
            "      *\n",
            "     **\n",
            "    ***\n",
            "   ****\n",
            "  *****\n",
            " ******\n",
            "*******\n"
          ]
        }
      ]
    },
    {
      "cell_type": "markdown",
      "source": [
        "# 3-7. 중간값 찾기\n",
        "\n",
        "중간값은 통계 집단의 수치를 크기 순으로 배열 했을 때 전체의 중앙에 위치하는 수치\n",
        "\n",
        "리스트 numbers에 입력된 숫자에서 중간값을 출력"
      ],
      "metadata": {
        "id": "25Q0RAT-XZ52"
      }
    },
    {
      "cell_type": "code",
      "source": [
        "numbers = [\n",
        "           85,72,38,80,69,65,68,96,22,49,67,\n",
        "           51,61,63,87,66,24,80,83,71,60,64,\n",
        "           52,90,60,49,31,23,99,94,11,25,24\n",
        "]\n",
        "\n",
        "len_num = len(numbers) #numbers의 길이\n",
        "\n",
        "numbers.sort() #numbers 오름차순 배열\n",
        "\n",
        "mid = int(len_num/2)\n",
        "\n",
        "if len_num % 2 == 0:\n",
        "    \n",
        "    print((numbers[mid-1]+numbers[mid])/2) #numbers의 길이가 짝수이면 중간값 2개의 평균으로\n",
        "\n",
        "else:\n",
        "    \n",
        "    print(numbers[mid]) #numbers의 길이가 홀수이면 중간값 그대로"
      ],
      "metadata": {
        "colab": {
          "base_uri": "https://localhost:8080/"
        },
        "id": "AMICNRqrXid8",
        "outputId": "cf700b9c-7963-43fd-9f79-d91287b6f6fd"
      },
      "execution_count": 10,
      "outputs": [
        {
          "output_type": "stream",
          "name": "stdout",
          "text": [
            "64\n"
          ]
        }
      ]
    },
    {
      "cell_type": "code",
      "source": [
        ""
      ],
      "metadata": {
        "id": "zvTjPCG9YAK9"
      },
      "execution_count": null,
      "outputs": []
    }
  ]
}